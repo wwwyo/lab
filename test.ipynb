{
 "cells": [
  {
   "cell_type": "code",
   "execution_count": 2,
   "id": "473c53bf-675f-42bf-8008-625334bac692",
   "metadata": {},
   "outputs": [],
   "source": [
    "from rdkit import Chem\n",
    "from rdkit.Chem import Draw\n",
    "\n",
    "benzene_smiles = Chem.\"C1=CC=CC=C1\"\n",
    "benzene_mol =  "
   ]
  },
  {
   "cell_type": "code",
   "execution_count": null,
   "id": "02230371-fd70-4811-80ae-50e209209777",
   "metadata": {},
   "outputs": [],
   "source": []
  },
  {
   "cell_type": "code",
   "execution_count": 1,
   "id": "9e365fdd-39be-4813-a9ef-5701aeae657c",
   "metadata": {},
   "outputs": [
    {
     "ename": "NameError",
     "evalue": "name 'ibuprofen' is not defined",
     "output_type": "error",
     "traceback": [
      "\u001b[0;31m---------------------------------------------------------------------------\u001b[0m",
      "\u001b[0;31mNameError\u001b[0m                                 Traceback (most recent call last)",
      "Cell \u001b[0;32mIn [1], line 3\u001b[0m\n\u001b[1;32m      1\u001b[0m \u001b[38;5;28;01mfrom\u001b[39;00m \u001b[38;5;21;01mrdkit\u001b[39;00m\u001b[38;5;21;01m.\u001b[39;00m\u001b[38;5;21;01mChem\u001b[39;00m \u001b[38;5;28;01mimport\u001b[39;00m rdMolDescriptors\n\u001b[1;32m      2\u001b[0m bi \u001b[38;5;241m=\u001b[39m {}\n\u001b[0;32m----> 3\u001b[0m fp \u001b[38;5;241m=\u001b[39m rdMolDescriptors\u001b[38;5;241m.\u001b[39mGetMorganFingerprintAsBitVect(\u001b[43mibuprofen\u001b[49m, radius\u001b[38;5;241m=\u001b[39m\u001b[38;5;241m2\u001b[39m, bitInfo\u001b[38;5;241m=\u001b[39mbi)\n",
      "\u001b[0;31mNameError\u001b[0m: name 'ibuprofen' is not defined"
     ]
    }
   ],
   "source": [
    "from rdkit.Chem import rdMolDescriptors\n",
    "bi = {}\n",
    "fp = rdMolDescriptors.GetMorganFingerprintAsBitVect(ibuprofen, radius=2, bitInfo=bi)"
   ]
  },
  {
   "cell_type": "code",
   "execution_count": null,
   "id": "8b08e738-dccf-4c12-9399-dac2f73718eb",
   "metadata": {},
   "outputs": [],
   "source": []
  }
 ],
 "metadata": {
  "kernelspec": {
   "display_name": "Python 3 (ipykernel)",
   "language": "python",
   "name": "python3"
  },
  "language_info": {
   "codemirror_mode": {
    "name": "ipython",
    "version": 3
   },
   "file_extension": ".py",
   "mimetype": "text/x-python",
   "name": "python",
   "nbconvert_exporter": "python",
   "pygments_lexer": "ipython3",
   "version": "3.9.13"
  }
 },
 "nbformat": 4,
 "nbformat_minor": 5
}
