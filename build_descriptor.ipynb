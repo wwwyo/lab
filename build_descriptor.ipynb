{
 "cells": [
  {
   "cell_type": "code",
   "execution_count": 22,
   "id": "c643381e-3a80-417d-9e84-e6d6ab530f86",
   "metadata": {
    "tags": []
   },
   "outputs": [],
   "source": [
    "import pandas as pd"
   ]
  },
  {
   "cell_type": "code",
   "execution_count": 23,
   "id": "f8aa5f78-364f-4e43-a8be-aeb1aeb6cefd",
   "metadata": {},
   "outputs": [
    {
     "data": {
      "text/html": [
       "<div>\n",
       "<style scoped>\n",
       "    .dataframe tbody tr th:only-of-type {\n",
       "        vertical-align: middle;\n",
       "    }\n",
       "\n",
       "    .dataframe tbody tr th {\n",
       "        vertical-align: top;\n",
       "    }\n",
       "\n",
       "    .dataframe thead th {\n",
       "        text-align: right;\n",
       "    }\n",
       "</style>\n",
       "<table border=\"1\" class=\"dataframe\">\n",
       "  <thead>\n",
       "    <tr style=\"text-align: right;\">\n",
       "      <th></th>\n",
       "      <th>entry</th>\n",
       "      <th>R1-</th>\n",
       "      <th>R2</th>\n",
       "      <th>organocatalyst</th>\n",
       "      <th>organocatalyst(mol%)</th>\n",
       "      <th>solvent</th>\n",
       "      <th>under</th>\n",
       "      <th>temp(℃)</th>\n",
       "      <th>time(h)</th>\n",
       "      <th>Cu(OAc)2(mol%)</th>\n",
       "      <th>AcOH(mol%)</th>\n",
       "      <th>収率(%)</th>\n",
       "    </tr>\n",
       "  </thead>\n",
       "  <tbody>\n",
       "    <tr>\n",
       "      <th>0</th>\n",
       "      <td>1</td>\n",
       "      <td>[*]C1=CC=CC=C1</td>\n",
       "      <td>H</td>\n",
       "      <td>ClC1=CC=C(C(O)=O)C(O)=C1</td>\n",
       "      <td>5.0</td>\n",
       "      <td>toluene</td>\n",
       "      <td>O2</td>\n",
       "      <td>90</td>\n",
       "      <td>24.0</td>\n",
       "      <td>0.0</td>\n",
       "      <td>0.0</td>\n",
       "      <td>81.0</td>\n",
       "    </tr>\n",
       "    <tr>\n",
       "      <th>1</th>\n",
       "      <td>2</td>\n",
       "      <td>[*]C1=CC=CC=C1</td>\n",
       "      <td>H</td>\n",
       "      <td>ClC1=CC=C(C(O)=O)C(O)=C1</td>\n",
       "      <td>5.0</td>\n",
       "      <td>toluene</td>\n",
       "      <td>O2</td>\n",
       "      <td>90</td>\n",
       "      <td>12.0</td>\n",
       "      <td>0.0</td>\n",
       "      <td>0.0</td>\n",
       "      <td>14.0</td>\n",
       "    </tr>\n",
       "    <tr>\n",
       "      <th>2</th>\n",
       "      <td>3</td>\n",
       "      <td>[*]C1=CC=CC=C1</td>\n",
       "      <td>H</td>\n",
       "      <td>OC1=CC(C)=CC=C1C(O)=O</td>\n",
       "      <td>5.0</td>\n",
       "      <td>toluene</td>\n",
       "      <td>O2</td>\n",
       "      <td>90</td>\n",
       "      <td>24.0</td>\n",
       "      <td>0.0</td>\n",
       "      <td>0.0</td>\n",
       "      <td>74.0</td>\n",
       "    </tr>\n",
       "    <tr>\n",
       "      <th>3</th>\n",
       "      <td>4</td>\n",
       "      <td>[*]C1=CC=CC=C1</td>\n",
       "      <td>H</td>\n",
       "      <td>OC1=CC(C)=CC=C1C(O)=O</td>\n",
       "      <td>5.0</td>\n",
       "      <td>toluene</td>\n",
       "      <td>O2</td>\n",
       "      <td>90</td>\n",
       "      <td>12.0</td>\n",
       "      <td>0.0</td>\n",
       "      <td>0.0</td>\n",
       "      <td>15.0</td>\n",
       "    </tr>\n",
       "    <tr>\n",
       "      <th>4</th>\n",
       "      <td>5</td>\n",
       "      <td>[*]C1=CC=CC=C1</td>\n",
       "      <td>H</td>\n",
       "      <td>OC1=CC(OC)=CC=C1C(O)=O</td>\n",
       "      <td>5.0</td>\n",
       "      <td>toluene</td>\n",
       "      <td>O2</td>\n",
       "      <td>90</td>\n",
       "      <td>24.0</td>\n",
       "      <td>0.0</td>\n",
       "      <td>0.0</td>\n",
       "      <td>90.0</td>\n",
       "    </tr>\n",
       "    <tr>\n",
       "      <th>...</th>\n",
       "      <td>...</td>\n",
       "      <td>...</td>\n",
       "      <td>...</td>\n",
       "      <td>...</td>\n",
       "      <td>...</td>\n",
       "      <td>...</td>\n",
       "      <td>...</td>\n",
       "      <td>...</td>\n",
       "      <td>...</td>\n",
       "      <td>...</td>\n",
       "      <td>...</td>\n",
       "      <td>...</td>\n",
       "    </tr>\n",
       "    <tr>\n",
       "      <th>201</th>\n",
       "      <td>2l-c</td>\n",
       "      <td>[*]C1=CC=CC=C1</td>\n",
       "      <td>Ph</td>\n",
       "      <td>O=C1C(C=C(OC)C(C(C)(C)C)=C1)=O</td>\n",
       "      <td>10.0</td>\n",
       "      <td>CH3CN</td>\n",
       "      <td>O2</td>\n",
       "      <td>60</td>\n",
       "      <td>72.0</td>\n",
       "      <td>0.0</td>\n",
       "      <td>0.0</td>\n",
       "      <td>92.0</td>\n",
       "    </tr>\n",
       "    <tr>\n",
       "      <th>202</th>\n",
       "      <td>2m</td>\n",
       "      <td>[*]C1=CSC=C1</td>\n",
       "      <td>C</td>\n",
       "      <td>O=C1C(C=C(OC)C(C(C)(C)C)=C1)=O</td>\n",
       "      <td>10.0</td>\n",
       "      <td>CH3CN</td>\n",
       "      <td>O2</td>\n",
       "      <td>60</td>\n",
       "      <td>48.0</td>\n",
       "      <td>0.0</td>\n",
       "      <td>0.0</td>\n",
       "      <td>83.0</td>\n",
       "    </tr>\n",
       "    <tr>\n",
       "      <th>203</th>\n",
       "      <td>2n</td>\n",
       "      <td>NaN</td>\n",
       "      <td>NaN</td>\n",
       "      <td>O=C1C(C=C(OC)C(C(C)(C)C)=C1)=O</td>\n",
       "      <td>10.0</td>\n",
       "      <td>CH3CN</td>\n",
       "      <td>O2</td>\n",
       "      <td>60</td>\n",
       "      <td>48.0</td>\n",
       "      <td>0.0</td>\n",
       "      <td>0.0</td>\n",
       "      <td>53.0</td>\n",
       "    </tr>\n",
       "    <tr>\n",
       "      <th>204</th>\n",
       "      <td>2o</td>\n",
       "      <td>NaN</td>\n",
       "      <td>NaN</td>\n",
       "      <td>O=C1C(C=C(OC)C(C(C)(C)C)=C1)=O</td>\n",
       "      <td>10.0</td>\n",
       "      <td>CH3CN</td>\n",
       "      <td>O2</td>\n",
       "      <td>60</td>\n",
       "      <td>48.0</td>\n",
       "      <td>0.0</td>\n",
       "      <td>0.0</td>\n",
       "      <td>25.0</td>\n",
       "    </tr>\n",
       "    <tr>\n",
       "      <th>205</th>\n",
       "      <td>2p</td>\n",
       "      <td>[*]C1=CC=CC=C1</td>\n",
       "      <td>H</td>\n",
       "      <td>O=C1C(C=C(OC)C(C(C)(C)C)=C1)=O</td>\n",
       "      <td>10.0</td>\n",
       "      <td>CH3CN</td>\n",
       "      <td>O2</td>\n",
       "      <td>rt</td>\n",
       "      <td>12.0</td>\n",
       "      <td>0.0</td>\n",
       "      <td>0.0</td>\n",
       "      <td>99.0</td>\n",
       "    </tr>\n",
       "  </tbody>\n",
       "</table>\n",
       "<p>206 rows × 12 columns</p>\n",
       "</div>"
      ],
      "text/plain": [
       "    entry             R1-   R2                  organocatalyst  \\\n",
       "0       1  [*]C1=CC=CC=C1    H        ClC1=CC=C(C(O)=O)C(O)=C1   \n",
       "1       2  [*]C1=CC=CC=C1    H        ClC1=CC=C(C(O)=O)C(O)=C1   \n",
       "2       3  [*]C1=CC=CC=C1    H           OC1=CC(C)=CC=C1C(O)=O   \n",
       "3       4  [*]C1=CC=CC=C1    H           OC1=CC(C)=CC=C1C(O)=O   \n",
       "4       5  [*]C1=CC=CC=C1    H          OC1=CC(OC)=CC=C1C(O)=O   \n",
       "..    ...             ...  ...                             ...   \n",
       "201  2l-c  [*]C1=CC=CC=C1   Ph  O=C1C(C=C(OC)C(C(C)(C)C)=C1)=O   \n",
       "202    2m    [*]C1=CSC=C1    C  O=C1C(C=C(OC)C(C(C)(C)C)=C1)=O   \n",
       "203    2n             NaN  NaN  O=C1C(C=C(OC)C(C(C)(C)C)=C1)=O   \n",
       "204    2o             NaN  NaN  O=C1C(C=C(OC)C(C(C)(C)C)=C1)=O   \n",
       "205    2p  [*]C1=CC=CC=C1    H  O=C1C(C=C(OC)C(C(C)(C)C)=C1)=O   \n",
       "\n",
       "     organocatalyst(mol%)  solvent under temp(℃)  time(h)  Cu(OAc)2(mol%)  \\\n",
       "0                     5.0  toluene    O2      90     24.0             0.0   \n",
       "1                     5.0  toluene    O2      90     12.0             0.0   \n",
       "2                     5.0  toluene    O2      90     24.0             0.0   \n",
       "3                     5.0  toluene    O2      90     12.0             0.0   \n",
       "4                     5.0  toluene    O2      90     24.0             0.0   \n",
       "..                    ...      ...   ...     ...      ...             ...   \n",
       "201                  10.0    CH3CN    O2      60     72.0             0.0   \n",
       "202                  10.0    CH3CN    O2      60     48.0             0.0   \n",
       "203                  10.0    CH3CN    O2      60     48.0             0.0   \n",
       "204                  10.0    CH3CN    O2      60     48.0             0.0   \n",
       "205                  10.0    CH3CN    O2      rt     12.0             0.0   \n",
       "\n",
       "     AcOH(mol%)  収率(%)  \n",
       "0           0.0   81.0  \n",
       "1           0.0   14.0  \n",
       "2           0.0   74.0  \n",
       "3           0.0   15.0  \n",
       "4           0.0   90.0  \n",
       "..          ...    ...  \n",
       "201         0.0   92.0  \n",
       "202         0.0   83.0  \n",
       "203         0.0   53.0  \n",
       "204         0.0   25.0  \n",
       "205         0.0   99.0  \n",
       "\n",
       "[206 rows x 12 columns]"
      ]
     },
     "execution_count": 23,
     "metadata": {},
     "output_type": "execute_result"
    }
   ],
   "source": [
    "df = pd.read_csv('./data/dataset.csv')\n",
    "df"
   ]
  },
  {
   "cell_type": "code",
   "execution_count": 24,
   "id": "4d9b5b0f-2405-426f-b600-6d5fad348aa5",
   "metadata": {},
   "outputs": [],
   "source": [
    "# 基質、触媒、収率で欠損がある場合は削除\n",
    "df.dropna(subset=['R1-', 'R2', 'organocatalyst', '収率(%)'], inplace=True)"
   ]
  },
  {
   "cell_type": "code",
   "execution_count": 25,
   "id": "27c9922b-4b7c-4b7b-b6de-d0f4eeb8d1e7",
   "metadata": {},
   "outputs": [
    {
     "name": "stdout",
     "output_type": "stream",
     "text": [
      "欠損値合計 entry                   0\n",
      "R1-                     0\n",
      "R2                      0\n",
      "organocatalyst          0\n",
      "organocatalyst(mol%)    0\n",
      "solvent                 0\n",
      "under                   0\n",
      "temp(℃)                 0\n",
      "time(h)                 0\n",
      "Cu(OAc)2(mol%)          0\n",
      "AcOH(mol%)              0\n",
      "収率(%)                   0\n",
      "dtype: int64\n"
     ]
    },
    {
     "data": {
      "text/html": [
       "<div>\n",
       "<style scoped>\n",
       "    .dataframe tbody tr th:only-of-type {\n",
       "        vertical-align: middle;\n",
       "    }\n",
       "\n",
       "    .dataframe tbody tr th {\n",
       "        vertical-align: top;\n",
       "    }\n",
       "\n",
       "    .dataframe thead th {\n",
       "        text-align: right;\n",
       "    }\n",
       "</style>\n",
       "<table border=\"1\" class=\"dataframe\">\n",
       "  <thead>\n",
       "    <tr style=\"text-align: right;\">\n",
       "      <th></th>\n",
       "      <th>entry</th>\n",
       "      <th>R1-</th>\n",
       "      <th>R2</th>\n",
       "      <th>organocatalyst</th>\n",
       "      <th>organocatalyst(mol%)</th>\n",
       "      <th>solvent</th>\n",
       "      <th>under</th>\n",
       "      <th>temp(℃)</th>\n",
       "      <th>time(h)</th>\n",
       "      <th>Cu(OAc)2(mol%)</th>\n",
       "      <th>AcOH(mol%)</th>\n",
       "      <th>収率(%)</th>\n",
       "    </tr>\n",
       "  </thead>\n",
       "  <tbody>\n",
       "  </tbody>\n",
       "</table>\n",
       "</div>"
      ],
      "text/plain": [
       "Empty DataFrame\n",
       "Columns: [entry, R1-, R2, organocatalyst, organocatalyst(mol%), solvent, under, temp(℃), time(h), Cu(OAc)2(mol%), AcOH(mol%), 収率(%)]\n",
       "Index: []"
      ]
     },
     "execution_count": 25,
     "metadata": {},
     "output_type": "execute_result"
    }
   ],
   "source": [
    "print('欠損値合計', df.isnull().sum())\n",
    "na_row = df.isnull().any(axis=1)\n",
    "df.loc[na_row, :]"
   ]
  },
  {
   "cell_type": "code",
   "execution_count": 26,
   "id": "aef3019a-9a3b-4192-b677-779d72b7b62c",
   "metadata": {},
   "outputs": [
    {
     "data": {
      "text/plain": [
       "O2     110\n",
       "air     44\n",
       "Name: under, dtype: int64"
      ]
     },
     "execution_count": 26,
     "metadata": {},
     "output_type": "execute_result"
    }
   ],
   "source": [
    "# Arを削除(1 data)\n",
    "df = df[df['under'] != 'Ar']\n",
    "df['under'].value_counts()"
   ]
  },
  {
   "cell_type": "code",
   "execution_count": 27,
   "id": "842ed079-60f8-43b9-a7c0-ffc845271eae",
   "metadata": {},
   "outputs": [
    {
     "data": {
      "text/plain": [
       "H    99\n",
       "C    52\n",
       "Name: R2, dtype: int64"
      ]
     },
     "execution_count": 27,
     "metadata": {},
     "output_type": "execute_result"
    }
   ],
   "source": [
    "# R2 = Ph削除(3 data)\n",
    "df = df[df['R2'] != 'Ph']\n",
    "df['R2'].value_counts()"
   ]
  },
  {
   "cell_type": "code",
   "execution_count": 28,
   "id": "4ac4f407-d143-43d1-8bbb-adbbe2210550",
   "metadata": {},
   "outputs": [
    {
     "name": "stdout",
     "output_type": "stream",
     "text": [
      "Index(['entry', 'R1-', 'R2', 'organocatalyst', 'organocatalyst(mol%)',\n",
      "       'solvent', 'under', 'temp(℃)', 'time(h)', 'Cu(OAc)2(mol%)',\n",
      "       'AcOH(mol%)', '収率(%)'],\n",
      "      dtype='object')\n",
      "(123, 12)\n"
     ]
    }
   ],
   "source": [
    "# 触媒促進剤データ削除\n",
    "df = df[df['Cu(OAc)2(mol%)'] == 0]\n",
    "df = df[df['AcOH(mol%)'] == 0]\n",
    "print(df.columns)\n",
    "print(df.shape)"
   ]
  },
  {
   "cell_type": "code",
   "execution_count": 31,
   "id": "c43ed77e-cb38-4e05-8c32-e1ed647c98a6",
   "metadata": {},
   "outputs": [
    {
     "data": {
      "text/plain": [
       "Index(['entry', 'R1-', 'R2', 'organocatalyst', 'organocatalyst(mol%)',\n",
       "       'solvent', 'under', 'temp(℃)', 'time(h)', '収率(%)'],\n",
       "      dtype='object')"
      ]
     },
     "execution_count": 31,
     "metadata": {},
     "output_type": "execute_result"
    }
   ],
   "source": [
    "# 触媒カラム削除\n",
    "df.drop(columns=['Cu(OAc)2(mol%)','AcOH(mol%)'],inplace=True)\n",
    "\n",
    "df.columns"
   ]
  },
  {
   "cell_type": "code",
   "execution_count": 32,
   "id": "4eb62ead-77d3-40d8-983c-87c3d24d8ca8",
   "metadata": {},
   "outputs": [
    {
     "name": "stdout",
     "output_type": "stream",
     "text": [
      "23    65\n",
      "90    49\n",
      "80     7\n",
      "60     2\n",
      "Name: temp(℃), dtype: int64\n"
     ]
    },
    {
     "name": "stderr",
     "output_type": "stream",
     "text": [
      "/var/folders/12/6r_lrg9d6kx949nw6gcq9ksh0000gn/T/ipykernel_86251/2448397563.py:2: SettingWithCopyWarning: \n",
      "A value is trying to be set on a copy of a slice from a DataFrame\n",
      "\n",
      "See the caveats in the documentation: https://pandas.pydata.org/pandas-docs/stable/user_guide/indexing.html#returning-a-view-versus-a-copy\n",
      "  df['temp(℃)'][df['temp(℃)'] == 'rt'] = \"23\"\n"
     ]
    }
   ],
   "source": [
    "# rtを23度に置換\n",
    "df['temp(℃)'][df['temp(℃)'] == 'rt'] = \"23\"\n",
    "print(df['temp(℃)'].value_counts())"
   ]
  },
  {
   "cell_type": "code",
   "execution_count": 34,
   "id": "ac29b463-9daa-47bf-aa3c-61e27c550363",
   "metadata": {},
   "outputs": [
    {
     "data": {
      "text/html": [
       "<div>\n",
       "<style scoped>\n",
       "    .dataframe tbody tr th:only-of-type {\n",
       "        vertical-align: middle;\n",
       "    }\n",
       "\n",
       "    .dataframe tbody tr th {\n",
       "        vertical-align: top;\n",
       "    }\n",
       "\n",
       "    .dataframe thead th {\n",
       "        text-align: right;\n",
       "    }\n",
       "</style>\n",
       "<table border=\"1\" class=\"dataframe\">\n",
       "  <thead>\n",
       "    <tr style=\"text-align: right;\">\n",
       "      <th></th>\n",
       "      <th>entry</th>\n",
       "      <th>R1-</th>\n",
       "      <th>organocatalyst</th>\n",
       "      <th>organocatalyst(mol%)</th>\n",
       "      <th>temp(℃)</th>\n",
       "      <th>time(h)</th>\n",
       "      <th>収率(%)</th>\n",
       "      <th>R2_C</th>\n",
       "      <th>R2_H</th>\n",
       "      <th>under_O2</th>\n",
       "      <th>under_air</th>\n",
       "      <th>solvent_CH3CN</th>\n",
       "      <th>solvent_DMF</th>\n",
       "      <th>solvent_MeCN</th>\n",
       "      <th>solvent_MeOH</th>\n",
       "      <th>solvent_toluene</th>\n",
       "    </tr>\n",
       "  </thead>\n",
       "  <tbody>\n",
       "    <tr>\n",
       "      <th>0</th>\n",
       "      <td>1</td>\n",
       "      <td>[*]C1=CC=CC=C1</td>\n",
       "      <td>ClC1=CC=C(C(O)=O)C(O)=C1</td>\n",
       "      <td>5.0</td>\n",
       "      <td>90</td>\n",
       "      <td>24.0</td>\n",
       "      <td>81.0</td>\n",
       "      <td>0</td>\n",
       "      <td>1</td>\n",
       "      <td>1</td>\n",
       "      <td>0</td>\n",
       "      <td>0</td>\n",
       "      <td>0</td>\n",
       "      <td>0</td>\n",
       "      <td>0</td>\n",
       "      <td>1</td>\n",
       "    </tr>\n",
       "    <tr>\n",
       "      <th>1</th>\n",
       "      <td>2</td>\n",
       "      <td>[*]C1=CC=CC=C1</td>\n",
       "      <td>ClC1=CC=C(C(O)=O)C(O)=C1</td>\n",
       "      <td>5.0</td>\n",
       "      <td>90</td>\n",
       "      <td>12.0</td>\n",
       "      <td>14.0</td>\n",
       "      <td>0</td>\n",
       "      <td>1</td>\n",
       "      <td>1</td>\n",
       "      <td>0</td>\n",
       "      <td>0</td>\n",
       "      <td>0</td>\n",
       "      <td>0</td>\n",
       "      <td>0</td>\n",
       "      <td>1</td>\n",
       "    </tr>\n",
       "    <tr>\n",
       "      <th>2</th>\n",
       "      <td>3</td>\n",
       "      <td>[*]C1=CC=CC=C1</td>\n",
       "      <td>OC1=CC(C)=CC=C1C(O)=O</td>\n",
       "      <td>5.0</td>\n",
       "      <td>90</td>\n",
       "      <td>24.0</td>\n",
       "      <td>74.0</td>\n",
       "      <td>0</td>\n",
       "      <td>1</td>\n",
       "      <td>1</td>\n",
       "      <td>0</td>\n",
       "      <td>0</td>\n",
       "      <td>0</td>\n",
       "      <td>0</td>\n",
       "      <td>0</td>\n",
       "      <td>1</td>\n",
       "    </tr>\n",
       "    <tr>\n",
       "      <th>3</th>\n",
       "      <td>4</td>\n",
       "      <td>[*]C1=CC=CC=C1</td>\n",
       "      <td>OC1=CC(C)=CC=C1C(O)=O</td>\n",
       "      <td>5.0</td>\n",
       "      <td>90</td>\n",
       "      <td>12.0</td>\n",
       "      <td>15.0</td>\n",
       "      <td>0</td>\n",
       "      <td>1</td>\n",
       "      <td>1</td>\n",
       "      <td>0</td>\n",
       "      <td>0</td>\n",
       "      <td>0</td>\n",
       "      <td>0</td>\n",
       "      <td>0</td>\n",
       "      <td>1</td>\n",
       "    </tr>\n",
       "    <tr>\n",
       "      <th>4</th>\n",
       "      <td>5</td>\n",
       "      <td>[*]C1=CC=CC=C1</td>\n",
       "      <td>OC1=CC(OC)=CC=C1C(O)=O</td>\n",
       "      <td>5.0</td>\n",
       "      <td>90</td>\n",
       "      <td>24.0</td>\n",
       "      <td>90.0</td>\n",
       "      <td>0</td>\n",
       "      <td>1</td>\n",
       "      <td>1</td>\n",
       "      <td>0</td>\n",
       "      <td>0</td>\n",
       "      <td>0</td>\n",
       "      <td>0</td>\n",
       "      <td>0</td>\n",
       "      <td>1</td>\n",
       "    </tr>\n",
       "  </tbody>\n",
       "</table>\n",
       "</div>"
      ],
      "text/plain": [
       "  entry             R1-            organocatalyst  organocatalyst(mol%)  \\\n",
       "0     1  [*]C1=CC=CC=C1  ClC1=CC=C(C(O)=O)C(O)=C1                   5.0   \n",
       "1     2  [*]C1=CC=CC=C1  ClC1=CC=C(C(O)=O)C(O)=C1                   5.0   \n",
       "2     3  [*]C1=CC=CC=C1     OC1=CC(C)=CC=C1C(O)=O                   5.0   \n",
       "3     4  [*]C1=CC=CC=C1     OC1=CC(C)=CC=C1C(O)=O                   5.0   \n",
       "4     5  [*]C1=CC=CC=C1    OC1=CC(OC)=CC=C1C(O)=O                   5.0   \n",
       "\n",
       "  temp(℃)  time(h)  収率(%)  R2_C  R2_H  under_O2  under_air  solvent_CH3CN  \\\n",
       "0      90     24.0   81.0     0     1         1          0              0   \n",
       "1      90     12.0   14.0     0     1         1          0              0   \n",
       "2      90     24.0   74.0     0     1         1          0              0   \n",
       "3      90     12.0   15.0     0     1         1          0              0   \n",
       "4      90     24.0   90.0     0     1         1          0              0   \n",
       "\n",
       "   solvent_DMF  solvent_MeCN  solvent_MeOH  solvent_toluene  \n",
       "0            0             0             0                1  \n",
       "1            0             0             0                1  \n",
       "2            0             0             0                1  \n",
       "3            0             0             0                1  \n",
       "4            0             0             0                1  "
      ]
     },
     "execution_count": 34,
     "metadata": {},
     "output_type": "execute_result"
    }
   ],
   "source": [
    "# カテゴリ値をダミー変数に変換\n",
    "df = pd.get_dummies(df, columns=['R2','under','solvent'])\n",
    "df.head(5)"
   ]
  },
  {
   "cell_type": "code",
   "execution_count": null,
   "id": "eead9385-f207-472d-afac-7c0e763febe1",
   "metadata": {},
   "outputs": [],
   "source": [
    "# 重複確認\n",
    "check_columns = df.columns.drop(['entry', '収率(%)'])\n",
    "\n",
    "# 説明変数のみでみた時の重複削除\n",
    "_df = df.drop(columns='entry').drop_duplicates(subset=check_columns).reset_index(drop=True)\n",
    "X = _df.drop(columns=['収率(%)'])\n",
    "y = _df['収率(%)']\n",
    "_df.to_csv('exec_1114_前処理後.csv')"
   ]
  },
  {
   "cell_type": "code",
   "execution_count": 42,
   "id": "fcf0a245-f9bb-4bbe-92ac-e986360dcb08",
   "metadata": {},
   "outputs": [
    {
     "data": {
      "text/plain": [
       "False    123\n",
       "dtype: int64"
      ]
     },
     "execution_count": 42,
     "metadata": {},
     "output_type": "execute_result"
    }
   ],
   "source": [
    "check_columns = df.columns.drop(['entry', '収率(%)'])\n",
    "df.duplicated(subset=check_columns).value_counts()"
   ]
  },
  {
   "cell_type": "code",
   "execution_count": 43,
   "id": "6b397e78-3030-4e75-8527-265424cf34b4",
   "metadata": {},
   "outputs": [],
   "source": [
    "df.to_csv('./data/origin.csv')"
   ]
  },
  {
   "cell_type": "code",
   "execution_count": 45,
   "id": "34507943-4eab-4bca-8278-a4b005861235",
   "metadata": {},
   "outputs": [
    {
     "name": "stdout",
     "output_type": "stream",
     "text": [
      "(123, 16)\n"
     ]
    }
   ],
   "source": [
    "# 説明変数をスケーリング\n",
    "# 目的変数は必要ない。\n",
    "# https://stats.stackexchange.com/questions/111467/is-it-necessary-to-scale-the-target-value-in-addition-to-scaling-features-for-re\n",
    "from sklearn.preprocessing import StandardScaler\n",
    "scaling_columns = ['organocatalyst(mol%)','temp(℃)','time(h)']\n",
    "scaler = StandardScaler()\n",
    "scaler.fit(df[scaling_columns])\n",
    "df_scaled = pd.concat([df.drop(columns=scaling_columns), \n",
    "                           pd.DataFrame(scaler.transform(df[scaling_columns]),index=df.index , columns=scaling_columns)],\n",
    "                           axis=1, join='inner')\n",
    "\n",
    "print(df_scaled.shape)"
   ]
  },
  {
   "cell_type": "code",
   "execution_count": 48,
   "id": "5e92db8a-984a-4bb4-babc-43713cb77441",
   "metadata": {},
   "outputs": [],
   "source": [
    "df_scaled.to_csv('./data/origin_scaled.csv')"
   ]
  },
  {
   "cell_type": "code",
   "execution_count": null,
   "id": "248616fe-8cd7-4805-913b-9dd78b896a79",
   "metadata": {},
   "outputs": [],
   "source": []
  }
 ],
 "metadata": {
  "kernelspec": {
   "display_name": "Python 3 (ipykernel)",
   "language": "python",
   "name": "python3"
  },
  "language_info": {
   "codemirror_mode": {
    "name": "ipython",
    "version": 3
   },
   "file_extension": ".py",
   "mimetype": "text/x-python",
   "name": "python",
   "nbconvert_exporter": "python",
   "pygments_lexer": "ipython3",
   "version": "3.9.13"
  }
 },
 "nbformat": 4,
 "nbformat_minor": 5
}
