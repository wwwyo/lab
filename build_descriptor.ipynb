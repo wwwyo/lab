{
 "cells": [
  {
   "cell_type": "code",
   "execution_count": null,
   "id": "c643381e-3a80-417d-9e84-e6d6ab530f86",
   "metadata": {
    "tags": []
   },
   "outputs": [],
   "source": [
    "import pandas as pd"
   ]
  },
  {
   "cell_type": "code",
   "execution_count": null,
   "id": "f8aa5f78-364f-4e43-a8be-aeb1aeb6cefd",
   "metadata": {},
   "outputs": [
    {
     "data": {
      "text/html": [
       "<div>\n",
       "<style scoped>\n",
       "    .dataframe tbody tr th:only-of-type {\n",
       "        vertical-align: middle;\n",
       "    }\n",
       "\n",
       "    .dataframe tbody tr th {\n",
       "        vertical-align: top;\n",
       "    }\n",
       "\n",
       "    .dataframe thead th {\n",
       "        text-align: right;\n",
       "    }\n",
       "</style>\n",
       "<table border=\"1\" class=\"dataframe\">\n",
       "  <thead>\n",
       "    <tr style=\"text-align: right;\">\n",
       "      <th></th>\n",
       "      <th>entry</th>\n",
       "      <th>R1-</th>\n",
       "      <th>R2</th>\n",
       "      <th>organocatalyst</th>\n",
       "      <th>organocatalyst(mol%)</th>\n",
       "      <th>solvent</th>\n",
       "      <th>under</th>\n",
       "      <th>temp(℃)</th>\n",
       "      <th>time(h)</th>\n",
       "      <th>Cu(OAc)2(mol%)</th>\n",
       "      <th>AcOH(mol%)</th>\n",
       "      <th>yield</th>\n",
       "    </tr>\n",
       "  </thead>\n",
       "  <tbody>\n",
       "    <tr>\n",
       "      <th>0</th>\n",
       "      <td>1</td>\n",
       "      <td>[*]C1=CC=CC=C1</td>\n",
       "      <td>H</td>\n",
       "      <td>ClC1=CC=C(C(O)=O)C(O)=C1</td>\n",
       "      <td>5.0</td>\n",
       "      <td>toluene</td>\n",
       "      <td>O2</td>\n",
       "      <td>90</td>\n",
       "      <td>24.0</td>\n",
       "      <td>0.0</td>\n",
       "      <td>0.0</td>\n",
       "      <td>81.0</td>\n",
       "    </tr>\n",
       "    <tr>\n",
       "      <th>1</th>\n",
       "      <td>2</td>\n",
       "      <td>[*]C1=CC=CC=C1</td>\n",
       "      <td>H</td>\n",
       "      <td>ClC1=CC=C(C(O)=O)C(O)=C1</td>\n",
       "      <td>5.0</td>\n",
       "      <td>toluene</td>\n",
       "      <td>O2</td>\n",
       "      <td>90</td>\n",
       "      <td>12.0</td>\n",
       "      <td>0.0</td>\n",
       "      <td>0.0</td>\n",
       "      <td>14.0</td>\n",
       "    </tr>\n",
       "    <tr>\n",
       "      <th>2</th>\n",
       "      <td>3</td>\n",
       "      <td>[*]C1=CC=CC=C1</td>\n",
       "      <td>H</td>\n",
       "      <td>OC1=CC(C)=CC=C1C(O)=O</td>\n",
       "      <td>5.0</td>\n",
       "      <td>toluene</td>\n",
       "      <td>O2</td>\n",
       "      <td>90</td>\n",
       "      <td>24.0</td>\n",
       "      <td>0.0</td>\n",
       "      <td>0.0</td>\n",
       "      <td>74.0</td>\n",
       "    </tr>\n",
       "    <tr>\n",
       "      <th>3</th>\n",
       "      <td>4</td>\n",
       "      <td>[*]C1=CC=CC=C1</td>\n",
       "      <td>H</td>\n",
       "      <td>OC1=CC(C)=CC=C1C(O)=O</td>\n",
       "      <td>5.0</td>\n",
       "      <td>toluene</td>\n",
       "      <td>O2</td>\n",
       "      <td>90</td>\n",
       "      <td>12.0</td>\n",
       "      <td>0.0</td>\n",
       "      <td>0.0</td>\n",
       "      <td>15.0</td>\n",
       "    </tr>\n",
       "    <tr>\n",
       "      <th>4</th>\n",
       "      <td>5</td>\n",
       "      <td>[*]C1=CC=CC=C1</td>\n",
       "      <td>H</td>\n",
       "      <td>OC1=CC(OC)=CC=C1C(O)=O</td>\n",
       "      <td>5.0</td>\n",
       "      <td>toluene</td>\n",
       "      <td>O2</td>\n",
       "      <td>90</td>\n",
       "      <td>24.0</td>\n",
       "      <td>0.0</td>\n",
       "      <td>0.0</td>\n",
       "      <td>90.0</td>\n",
       "    </tr>\n",
       "    <tr>\n",
       "      <th>...</th>\n",
       "      <td>...</td>\n",
       "      <td>...</td>\n",
       "      <td>...</td>\n",
       "      <td>...</td>\n",
       "      <td>...</td>\n",
       "      <td>...</td>\n",
       "      <td>...</td>\n",
       "      <td>...</td>\n",
       "      <td>...</td>\n",
       "      <td>...</td>\n",
       "      <td>...</td>\n",
       "      <td>...</td>\n",
       "    </tr>\n",
       "    <tr>\n",
       "      <th>201</th>\n",
       "      <td>2l-c</td>\n",
       "      <td>[*]C1=CC=CC=C1</td>\n",
       "      <td>Ph</td>\n",
       "      <td>O=C1C(C=C(OC)C(C(C)(C)C)=C1)=O</td>\n",
       "      <td>10.0</td>\n",
       "      <td>CH3CN</td>\n",
       "      <td>O2</td>\n",
       "      <td>60</td>\n",
       "      <td>72.0</td>\n",
       "      <td>0.0</td>\n",
       "      <td>0.0</td>\n",
       "      <td>92.0</td>\n",
       "    </tr>\n",
       "    <tr>\n",
       "      <th>202</th>\n",
       "      <td>2m</td>\n",
       "      <td>[*]C1=CSC=C1</td>\n",
       "      <td>C</td>\n",
       "      <td>O=C1C(C=C(OC)C(C(C)(C)C)=C1)=O</td>\n",
       "      <td>10.0</td>\n",
       "      <td>CH3CN</td>\n",
       "      <td>O2</td>\n",
       "      <td>60</td>\n",
       "      <td>48.0</td>\n",
       "      <td>0.0</td>\n",
       "      <td>0.0</td>\n",
       "      <td>83.0</td>\n",
       "    </tr>\n",
       "    <tr>\n",
       "      <th>203</th>\n",
       "      <td>2n</td>\n",
       "      <td>NaN</td>\n",
       "      <td>NaN</td>\n",
       "      <td>O=C1C(C=C(OC)C(C(C)(C)C)=C1)=O</td>\n",
       "      <td>10.0</td>\n",
       "      <td>CH3CN</td>\n",
       "      <td>O2</td>\n",
       "      <td>60</td>\n",
       "      <td>48.0</td>\n",
       "      <td>0.0</td>\n",
       "      <td>0.0</td>\n",
       "      <td>53.0</td>\n",
       "    </tr>\n",
       "    <tr>\n",
       "      <th>204</th>\n",
       "      <td>2o</td>\n",
       "      <td>NaN</td>\n",
       "      <td>NaN</td>\n",
       "      <td>O=C1C(C=C(OC)C(C(C)(C)C)=C1)=O</td>\n",
       "      <td>10.0</td>\n",
       "      <td>CH3CN</td>\n",
       "      <td>O2</td>\n",
       "      <td>60</td>\n",
       "      <td>48.0</td>\n",
       "      <td>0.0</td>\n",
       "      <td>0.0</td>\n",
       "      <td>25.0</td>\n",
       "    </tr>\n",
       "    <tr>\n",
       "      <th>205</th>\n",
       "      <td>2p</td>\n",
       "      <td>[*]C1=CC=CC=C1</td>\n",
       "      <td>H</td>\n",
       "      <td>O=C1C(C=C(OC)C(C(C)(C)C)=C1)=O</td>\n",
       "      <td>10.0</td>\n",
       "      <td>CH3CN</td>\n",
       "      <td>O2</td>\n",
       "      <td>rt</td>\n",
       "      <td>12.0</td>\n",
       "      <td>0.0</td>\n",
       "      <td>0.0</td>\n",
       "      <td>99.0</td>\n",
       "    </tr>\n",
       "  </tbody>\n",
       "</table>\n",
       "<p>206 rows × 12 columns</p>\n",
       "</div>"
      ],
      "text/plain": [
       "    entry             R1-   R2                  organocatalyst  \\\n",
       "0       1  [*]C1=CC=CC=C1    H        ClC1=CC=C(C(O)=O)C(O)=C1   \n",
       "1       2  [*]C1=CC=CC=C1    H        ClC1=CC=C(C(O)=O)C(O)=C1   \n",
       "2       3  [*]C1=CC=CC=C1    H           OC1=CC(C)=CC=C1C(O)=O   \n",
       "3       4  [*]C1=CC=CC=C1    H           OC1=CC(C)=CC=C1C(O)=O   \n",
       "4       5  [*]C1=CC=CC=C1    H          OC1=CC(OC)=CC=C1C(O)=O   \n",
       "..    ...             ...  ...                             ...   \n",
       "201  2l-c  [*]C1=CC=CC=C1   Ph  O=C1C(C=C(OC)C(C(C)(C)C)=C1)=O   \n",
       "202    2m    [*]C1=CSC=C1    C  O=C1C(C=C(OC)C(C(C)(C)C)=C1)=O   \n",
       "203    2n             NaN  NaN  O=C1C(C=C(OC)C(C(C)(C)C)=C1)=O   \n",
       "204    2o             NaN  NaN  O=C1C(C=C(OC)C(C(C)(C)C)=C1)=O   \n",
       "205    2p  [*]C1=CC=CC=C1    H  O=C1C(C=C(OC)C(C(C)(C)C)=C1)=O   \n",
       "\n",
       "     organocatalyst(mol%)  solvent under temp(℃)  time(h)  Cu(OAc)2(mol%)  \\\n",
       "0                     5.0  toluene    O2      90     24.0             0.0   \n",
       "1                     5.0  toluene    O2      90     12.0             0.0   \n",
       "2                     5.0  toluene    O2      90     24.0             0.0   \n",
       "3                     5.0  toluene    O2      90     12.0             0.0   \n",
       "4                     5.0  toluene    O2      90     24.0             0.0   \n",
       "..                    ...      ...   ...     ...      ...             ...   \n",
       "201                  10.0    CH3CN    O2      60     72.0             0.0   \n",
       "202                  10.0    CH3CN    O2      60     48.0             0.0   \n",
       "203                  10.0    CH3CN    O2      60     48.0             0.0   \n",
       "204                  10.0    CH3CN    O2      60     48.0             0.0   \n",
       "205                  10.0    CH3CN    O2      rt     12.0             0.0   \n",
       "\n",
       "     AcOH(mol%)  yield  \n",
       "0           0.0   81.0  \n",
       "1           0.0   14.0  \n",
       "2           0.0   74.0  \n",
       "3           0.0   15.0  \n",
       "4           0.0   90.0  \n",
       "..          ...    ...  \n",
       "201         0.0   92.0  \n",
       "202         0.0   83.0  \n",
       "203         0.0   53.0  \n",
       "204         0.0   25.0  \n",
       "205         0.0   99.0  \n",
       "\n",
       "[206 rows x 12 columns]"
      ]
     },
     "execution_count": 2,
     "metadata": {},
     "output_type": "execute_result"
    }
   ],
   "source": [
    "df = pd.read_csv('./data/dataset.csv')\n",
    "df"
   ]
  },
  {
   "cell_type": "markdown",
   "id": "784ab944-0b0a-4a32-9fd0-ef4f43cc5f74",
   "metadata": {
    "tags": []
   },
   "source": [
    "# 前処理\n",
    "1. 欠損値削除(R1-,R2,organocatalyst,yield)\n",
    "2. under = Ar削除(1個)\n",
    "3. R2 = Ph削除(3個)\n",
    "4. 触媒促進剤使ってるデータも削除\n",
    "5. rtを23度に置換\n",
    "6. カテゴリ値をダミー変数に変換"
   ]
  },
  {
   "cell_type": "code",
   "execution_count": null,
   "id": "4d9b5b0f-2405-426f-b600-6d5fad348aa5",
   "metadata": {
    "tags": []
   },
   "outputs": [],
   "source": [
    "# 基質、触媒、収率で欠損がある場合は削除\n",
    "df.dropna(subset=['R1-', 'R2', 'organocatalyst', 'yield'], inplace=True)"
   ]
  },
  {
   "cell_type": "code",
   "execution_count": null,
   "id": "27c9922b-4b7c-4b7b-b6de-d0f4eeb8d1e7",
   "metadata": {},
   "outputs": [
    {
     "name": "stdout",
     "output_type": "stream",
     "text": [
      "欠損値合計 entry                   0\n",
      "R1-                     0\n",
      "R2                      0\n",
      "organocatalyst          0\n",
      "organocatalyst(mol%)    0\n",
      "solvent                 0\n",
      "under                   0\n",
      "temp(℃)                 0\n",
      "time(h)                 0\n",
      "Cu(OAc)2(mol%)          0\n",
      "AcOH(mol%)              0\n",
      "yield                   0\n",
      "dtype: int64\n"
     ]
    },
    {
     "data": {
      "text/html": [
       "<div>\n",
       "<style scoped>\n",
       "    .dataframe tbody tr th:only-of-type {\n",
       "        vertical-align: middle;\n",
       "    }\n",
       "\n",
       "    .dataframe tbody tr th {\n",
       "        vertical-align: top;\n",
       "    }\n",
       "\n",
       "    .dataframe thead th {\n",
       "        text-align: right;\n",
       "    }\n",
       "</style>\n",
       "<table border=\"1\" class=\"dataframe\">\n",
       "  <thead>\n",
       "    <tr style=\"text-align: right;\">\n",
       "      <th></th>\n",
       "      <th>entry</th>\n",
       "      <th>R1-</th>\n",
       "      <th>R2</th>\n",
       "      <th>organocatalyst</th>\n",
       "      <th>organocatalyst(mol%)</th>\n",
       "      <th>solvent</th>\n",
       "      <th>under</th>\n",
       "      <th>temp(℃)</th>\n",
       "      <th>time(h)</th>\n",
       "      <th>Cu(OAc)2(mol%)</th>\n",
       "      <th>AcOH(mol%)</th>\n",
       "      <th>yield</th>\n",
       "    </tr>\n",
       "  </thead>\n",
       "  <tbody>\n",
       "  </tbody>\n",
       "</table>\n",
       "</div>"
      ],
      "text/plain": [
       "Empty DataFrame\n",
       "Columns: [entry, R1-, R2, organocatalyst, organocatalyst(mol%), solvent, under, temp(℃), time(h), Cu(OAc)2(mol%), AcOH(mol%), yield]\n",
       "Index: []"
      ]
     },
     "execution_count": 198,
     "metadata": {},
     "output_type": "execute_result"
    }
   ],
   "source": [
    "print('欠損値合計', df.isnull().sum())\n",
    "na_row = df.isnull().any(axis=1)\n",
    "df.loc[na_row, :]"
   ]
  },
  {
   "cell_type": "code",
   "execution_count": null,
   "id": "36b65897-aa28-4e92-9eae-5c873b63ed56",
   "metadata": {},
   "outputs": [
    {
     "data": {
      "text/html": [
       "<div>\n",
       "<style scoped>\n",
       "    .dataframe tbody tr th:only-of-type {\n",
       "        vertical-align: middle;\n",
       "    }\n",
       "\n",
       "    .dataframe tbody tr th {\n",
       "        vertical-align: top;\n",
       "    }\n",
       "\n",
       "    .dataframe thead th {\n",
       "        text-align: right;\n",
       "    }\n",
       "</style>\n",
       "<table border=\"1\" class=\"dataframe\">\n",
       "  <thead>\n",
       "    <tr style=\"text-align: right;\">\n",
       "      <th></th>\n",
       "      <th>entry</th>\n",
       "      <th>R1-</th>\n",
       "      <th>R2</th>\n",
       "      <th>organocatalyst</th>\n",
       "      <th>organocatalyst(mol%)</th>\n",
       "      <th>solvent</th>\n",
       "      <th>under</th>\n",
       "      <th>temp(℃)</th>\n",
       "      <th>time(h)</th>\n",
       "      <th>Cu(OAc)2(mol%)</th>\n",
       "      <th>AcOH(mol%)</th>\n",
       "      <th>yield</th>\n",
       "    </tr>\n",
       "  </thead>\n",
       "  <tbody>\n",
       "    <tr>\n",
       "      <th>0</th>\n",
       "      <td>1</td>\n",
       "      <td>[*]C1=CC=CC=C1</td>\n",
       "      <td>H</td>\n",
       "      <td>ClC1=CC=C(C(O)=O)C(O)=C1</td>\n",
       "      <td>5.0</td>\n",
       "      <td>toluene</td>\n",
       "      <td>O2</td>\n",
       "      <td>90</td>\n",
       "      <td>24.0</td>\n",
       "      <td>0.0</td>\n",
       "      <td>0.0</td>\n",
       "      <td>81.0</td>\n",
       "    </tr>\n",
       "    <tr>\n",
       "      <th>1</th>\n",
       "      <td>2</td>\n",
       "      <td>[*]C1=CC=CC=C1</td>\n",
       "      <td>H</td>\n",
       "      <td>ClC1=CC=C(C(O)=O)C(O)=C1</td>\n",
       "      <td>5.0</td>\n",
       "      <td>toluene</td>\n",
       "      <td>O2</td>\n",
       "      <td>90</td>\n",
       "      <td>12.0</td>\n",
       "      <td>0.0</td>\n",
       "      <td>0.0</td>\n",
       "      <td>14.0</td>\n",
       "    </tr>\n",
       "    <tr>\n",
       "      <th>2</th>\n",
       "      <td>3</td>\n",
       "      <td>[*]C1=CC=CC=C1</td>\n",
       "      <td>H</td>\n",
       "      <td>OC1=CC(C)=CC=C1C(O)=O</td>\n",
       "      <td>5.0</td>\n",
       "      <td>toluene</td>\n",
       "      <td>O2</td>\n",
       "      <td>90</td>\n",
       "      <td>24.0</td>\n",
       "      <td>0.0</td>\n",
       "      <td>0.0</td>\n",
       "      <td>74.0</td>\n",
       "    </tr>\n",
       "    <tr>\n",
       "      <th>3</th>\n",
       "      <td>4</td>\n",
       "      <td>[*]C1=CC=CC=C1</td>\n",
       "      <td>H</td>\n",
       "      <td>OC1=CC(C)=CC=C1C(O)=O</td>\n",
       "      <td>5.0</td>\n",
       "      <td>toluene</td>\n",
       "      <td>O2</td>\n",
       "      <td>90</td>\n",
       "      <td>12.0</td>\n",
       "      <td>0.0</td>\n",
       "      <td>0.0</td>\n",
       "      <td>15.0</td>\n",
       "    </tr>\n",
       "    <tr>\n",
       "      <th>4</th>\n",
       "      <td>5</td>\n",
       "      <td>[*]C1=CC=CC=C1</td>\n",
       "      <td>H</td>\n",
       "      <td>OC1=CC(OC)=CC=C1C(O)=O</td>\n",
       "      <td>5.0</td>\n",
       "      <td>toluene</td>\n",
       "      <td>O2</td>\n",
       "      <td>90</td>\n",
       "      <td>24.0</td>\n",
       "      <td>0.0</td>\n",
       "      <td>0.0</td>\n",
       "      <td>90.0</td>\n",
       "    </tr>\n",
       "  </tbody>\n",
       "</table>\n",
       "</div>"
      ],
      "text/plain": [
       "  entry             R1- R2            organocatalyst  organocatalyst(mol%)  \\\n",
       "0     1  [*]C1=CC=CC=C1  H  ClC1=CC=C(C(O)=O)C(O)=C1                   5.0   \n",
       "1     2  [*]C1=CC=CC=C1  H  ClC1=CC=C(C(O)=O)C(O)=C1                   5.0   \n",
       "2     3  [*]C1=CC=CC=C1  H     OC1=CC(C)=CC=C1C(O)=O                   5.0   \n",
       "3     4  [*]C1=CC=CC=C1  H     OC1=CC(C)=CC=C1C(O)=O                   5.0   \n",
       "4     5  [*]C1=CC=CC=C1  H    OC1=CC(OC)=CC=C1C(O)=O                   5.0   \n",
       "\n",
       "   solvent under temp(℃)  time(h)  Cu(OAc)2(mol%)  AcOH(mol%)  yield  \n",
       "0  toluene    O2      90     24.0             0.0         0.0   81.0  \n",
       "1  toluene    O2      90     12.0             0.0         0.0   14.0  \n",
       "2  toluene    O2      90     24.0             0.0         0.0   74.0  \n",
       "3  toluene    O2      90     12.0             0.0         0.0   15.0  \n",
       "4  toluene    O2      90     24.0             0.0         0.0   90.0  "
      ]
     },
     "execution_count": 200,
     "metadata": {},
     "output_type": "execute_result"
    }
   ],
   "source": [
    "df.head()"
   ]
  },
  {
   "cell_type": "code",
   "execution_count": null,
   "id": "1e1ab2a7-b3fb-4067-beb7-cba48ed17e02",
   "metadata": {},
   "outputs": [
    {
     "data": {
      "text/plain": [
       "0      False\n",
       "1      False\n",
       "2      False\n",
       "3      False\n",
       "4      False\n",
       "       ...  \n",
       "199    False\n",
       "200    False\n",
       "201    False\n",
       "202    False\n",
       "205    False\n",
       "Name: organocatalyst, Length: 153, dtype: bool"
      ]
     },
     "execution_count": 191,
     "metadata": {},
     "output_type": "execute_result"
    }
   ],
   "source": [
    "# organocatalyst = '-'のデータ削除\n",
    "df = df[df['organocatalyst'] != '-']\n",
    "df['organocatalyst'] == '-'"
   ]
  },
  {
   "cell_type": "code",
   "execution_count": null,
   "id": "aef3019a-9a3b-4192-b677-779d72b7b62c",
   "metadata": {},
   "outputs": [
    {
     "data": {
      "text/plain": [
       "O2     108\n",
       "air     44\n",
       "Name: under, dtype: int64"
      ]
     },
     "execution_count": 192,
     "metadata": {},
     "output_type": "execute_result"
    }
   ],
   "source": [
    "# Arを削除(1 data)\n",
    "df = df[df['under'] != 'Ar']\n",
    "df['under'].value_counts()"
   ]
  },
  {
   "cell_type": "code",
   "execution_count": null,
   "id": "842ed079-60f8-43b9-a7c0-ffc845271eae",
   "metadata": {},
   "outputs": [
    {
     "data": {
      "text/plain": [
       "H    97\n",
       "C    52\n",
       "Name: R2, dtype: int64"
      ]
     },
     "execution_count": 193,
     "metadata": {},
     "output_type": "execute_result"
    }
   ],
   "source": [
    "# R2 = Ph削除(3 data)\n",
    "df = df[df['R2'] != 'Ph']\n",
    "df['R2'].value_counts()"
   ]
  },
  {
   "cell_type": "code",
   "execution_count": null,
   "id": "4ac4f407-d143-43d1-8bbb-adbbe2210550",
   "metadata": {},
   "outputs": [
    {
     "name": "stdout",
     "output_type": "stream",
     "text": [
      "Index(['entry', 'R1-', 'R2', 'organocatalyst', 'organocatalyst(mol%)',\n",
      "       'solvent', 'under', 'temp(℃)', 'time(h)', 'Cu(OAc)2(mol%)',\n",
      "       'AcOH(mol%)', 'yield'],\n",
      "      dtype='object')\n",
      "(121, 12)\n"
     ]
    }
   ],
   "source": [
    "# 触媒促進剤データ削除\n",
    "df = df[df['Cu(OAc)2(mol%)'] == 0]\n",
    "df = df[df['AcOH(mol%)'] == 0]\n",
    "print(df.columns)\n",
    "print(df.shape)"
   ]
  },
  {
   "cell_type": "code",
   "execution_count": null,
   "id": "c43ed77e-cb38-4e05-8c32-e1ed647c98a6",
   "metadata": {},
   "outputs": [
    {
     "data": {
      "text/plain": [
       "Index(['entry', 'R1-', 'R2', 'organocatalyst', 'organocatalyst(mol%)',\n",
       "       'solvent', 'under', 'temp(℃)', 'time(h)', 'yield'],\n",
       "      dtype='object')"
      ]
     },
     "execution_count": 157,
     "metadata": {},
     "output_type": "execute_result"
    }
   ],
   "source": [
    "# 触媒カラム削除\n",
    "df.drop(columns=['Cu(OAc)2(mol%)','AcOH(mol%)'],inplace=True)\n",
    "\n",
    "df.columns"
   ]
  },
  {
   "cell_type": "code",
   "execution_count": null,
   "id": "f2cc519a-fa95-4ec5-a41d-0d6e361bfa5c",
   "metadata": {},
   "outputs": [],
   "source": [
    "df.reset_index(inplace=True,drop=True)"
   ]
  },
  {
   "cell_type": "code",
   "execution_count": null,
   "id": "4eb62ead-77d3-40d8-983c-87c3d24d8ca8",
   "metadata": {},
   "outputs": [
    {
     "name": "stdout",
     "output_type": "stream",
     "text": [
      "23    64\n",
      "90    48\n",
      "80     7\n",
      "60     2\n",
      "Name: temp(℃), dtype: int64\n"
     ]
    },
    {
     "name": "stderr",
     "output_type": "stream",
     "text": [
      "/var/folders/12/6r_lrg9d6kx949nw6gcq9ksh0000gn/T/ipykernel_92445/2448397563.py:2: SettingWithCopyWarning: \n",
      "A value is trying to be set on a copy of a slice from a DataFrame\n",
      "\n",
      "See the caveats in the documentation: https://pandas.pydata.org/pandas-docs/stable/user_guide/indexing.html#returning-a-view-versus-a-copy\n",
      "  df['temp(℃)'][df['temp(℃)'] == 'rt'] = \"23\"\n"
     ]
    }
   ],
   "source": [
    "# rtを23度に置換\n",
    "df['temp(℃)'][df['temp(℃)'] == 'rt'] = \"23\"\n",
    "print(df['temp(℃)'].value_counts())"
   ]
  },
  {
   "cell_type": "code",
   "execution_count": null,
   "id": "ac29b463-9daa-47bf-aa3c-61e27c550363",
   "metadata": {},
   "outputs": [
    {
     "data": {
      "text/html": [
       "<div>\n",
       "<style scoped>\n",
       "    .dataframe tbody tr th:only-of-type {\n",
       "        vertical-align: middle;\n",
       "    }\n",
       "\n",
       "    .dataframe tbody tr th {\n",
       "        vertical-align: top;\n",
       "    }\n",
       "\n",
       "    .dataframe thead th {\n",
       "        text-align: right;\n",
       "    }\n",
       "</style>\n",
       "<table border=\"1\" class=\"dataframe\">\n",
       "  <thead>\n",
       "    <tr style=\"text-align: right;\">\n",
       "      <th></th>\n",
       "      <th>entry</th>\n",
       "      <th>R1-</th>\n",
       "      <th>organocatalyst</th>\n",
       "      <th>organocatalyst(mol%)</th>\n",
       "      <th>temp(℃)</th>\n",
       "      <th>time(h)</th>\n",
       "      <th>yield</th>\n",
       "      <th>R2_C</th>\n",
       "      <th>R2_H</th>\n",
       "      <th>under_O2</th>\n",
       "      <th>under_air</th>\n",
       "      <th>solvent_CH3CN</th>\n",
       "      <th>solvent_DMF</th>\n",
       "      <th>solvent_MeCN</th>\n",
       "      <th>solvent_MeOH</th>\n",
       "      <th>solvent_toluene</th>\n",
       "    </tr>\n",
       "  </thead>\n",
       "  <tbody>\n",
       "    <tr>\n",
       "      <th>0</th>\n",
       "      <td>1</td>\n",
       "      <td>[*]C1=CC=CC=C1</td>\n",
       "      <td>ClC1=CC=C(C(O)=O)C(O)=C1</td>\n",
       "      <td>5.0</td>\n",
       "      <td>90</td>\n",
       "      <td>24.0</td>\n",
       "      <td>81.0</td>\n",
       "      <td>0</td>\n",
       "      <td>1</td>\n",
       "      <td>1</td>\n",
       "      <td>0</td>\n",
       "      <td>0</td>\n",
       "      <td>0</td>\n",
       "      <td>0</td>\n",
       "      <td>0</td>\n",
       "      <td>1</td>\n",
       "    </tr>\n",
       "    <tr>\n",
       "      <th>1</th>\n",
       "      <td>2</td>\n",
       "      <td>[*]C1=CC=CC=C1</td>\n",
       "      <td>ClC1=CC=C(C(O)=O)C(O)=C1</td>\n",
       "      <td>5.0</td>\n",
       "      <td>90</td>\n",
       "      <td>12.0</td>\n",
       "      <td>14.0</td>\n",
       "      <td>0</td>\n",
       "      <td>1</td>\n",
       "      <td>1</td>\n",
       "      <td>0</td>\n",
       "      <td>0</td>\n",
       "      <td>0</td>\n",
       "      <td>0</td>\n",
       "      <td>0</td>\n",
       "      <td>1</td>\n",
       "    </tr>\n",
       "    <tr>\n",
       "      <th>2</th>\n",
       "      <td>3</td>\n",
       "      <td>[*]C1=CC=CC=C1</td>\n",
       "      <td>OC1=CC(C)=CC=C1C(O)=O</td>\n",
       "      <td>5.0</td>\n",
       "      <td>90</td>\n",
       "      <td>24.0</td>\n",
       "      <td>74.0</td>\n",
       "      <td>0</td>\n",
       "      <td>1</td>\n",
       "      <td>1</td>\n",
       "      <td>0</td>\n",
       "      <td>0</td>\n",
       "      <td>0</td>\n",
       "      <td>0</td>\n",
       "      <td>0</td>\n",
       "      <td>1</td>\n",
       "    </tr>\n",
       "    <tr>\n",
       "      <th>3</th>\n",
       "      <td>4</td>\n",
       "      <td>[*]C1=CC=CC=C1</td>\n",
       "      <td>OC1=CC(C)=CC=C1C(O)=O</td>\n",
       "      <td>5.0</td>\n",
       "      <td>90</td>\n",
       "      <td>12.0</td>\n",
       "      <td>15.0</td>\n",
       "      <td>0</td>\n",
       "      <td>1</td>\n",
       "      <td>1</td>\n",
       "      <td>0</td>\n",
       "      <td>0</td>\n",
       "      <td>0</td>\n",
       "      <td>0</td>\n",
       "      <td>0</td>\n",
       "      <td>1</td>\n",
       "    </tr>\n",
       "    <tr>\n",
       "      <th>4</th>\n",
       "      <td>5</td>\n",
       "      <td>[*]C1=CC=CC=C1</td>\n",
       "      <td>OC1=CC(OC)=CC=C1C(O)=O</td>\n",
       "      <td>5.0</td>\n",
       "      <td>90</td>\n",
       "      <td>24.0</td>\n",
       "      <td>90.0</td>\n",
       "      <td>0</td>\n",
       "      <td>1</td>\n",
       "      <td>1</td>\n",
       "      <td>0</td>\n",
       "      <td>0</td>\n",
       "      <td>0</td>\n",
       "      <td>0</td>\n",
       "      <td>0</td>\n",
       "      <td>1</td>\n",
       "    </tr>\n",
       "  </tbody>\n",
       "</table>\n",
       "</div>"
      ],
      "text/plain": [
       "  entry             R1-            organocatalyst  organocatalyst(mol%)  \\\n",
       "0     1  [*]C1=CC=CC=C1  ClC1=CC=C(C(O)=O)C(O)=C1                   5.0   \n",
       "1     2  [*]C1=CC=CC=C1  ClC1=CC=C(C(O)=O)C(O)=C1                   5.0   \n",
       "2     3  [*]C1=CC=CC=C1     OC1=CC(C)=CC=C1C(O)=O                   5.0   \n",
       "3     4  [*]C1=CC=CC=C1     OC1=CC(C)=CC=C1C(O)=O                   5.0   \n",
       "4     5  [*]C1=CC=CC=C1    OC1=CC(OC)=CC=C1C(O)=O                   5.0   \n",
       "\n",
       "  temp(℃)  time(h)  yield  R2_C  R2_H  under_O2  under_air  solvent_CH3CN  \\\n",
       "0      90     24.0   81.0     0     1         1          0              0   \n",
       "1      90     12.0   14.0     0     1         1          0              0   \n",
       "2      90     24.0   74.0     0     1         1          0              0   \n",
       "3      90     12.0   15.0     0     1         1          0              0   \n",
       "4      90     24.0   90.0     0     1         1          0              0   \n",
       "\n",
       "   solvent_DMF  solvent_MeCN  solvent_MeOH  solvent_toluene  \n",
       "0            0             0             0                1  \n",
       "1            0             0             0                1  \n",
       "2            0             0             0                1  \n",
       "3            0             0             0                1  \n",
       "4            0             0             0                1  "
      ]
     },
     "execution_count": 160,
     "metadata": {},
     "output_type": "execute_result"
    }
   ],
   "source": [
    "# カテゴリ値をダミー変数に変換\n",
    "df = pd.get_dummies(df, columns=['R2','under','solvent'])\n",
    "df.head(5)"
   ]
  },
  {
   "cell_type": "code",
   "execution_count": null,
   "id": "eead9385-f207-472d-afac-7c0e763febe1",
   "metadata": {},
   "outputs": [],
   "source": [
    "# 重複確認\n",
    "# check_columns = df.columns.drop(['entry', '収率(%)'])\n",
    "\n",
    "# # 説明変数のみでみた時の重複削除\n",
    "# _df = df.drop(columns='entry').drop_duplicates(subset=check_columns).reset_index(drop=True)\n",
    "# X = _df.drop(columns=['収率(%)'])\n",
    "# y = _df['収率(%)']"
   ]
  },
  {
   "cell_type": "code",
   "execution_count": null,
   "id": "fcf0a245-f9bb-4bbe-92ac-e986360dcb08",
   "metadata": {},
   "outputs": [],
   "source": [
    "# 重複確認\n",
    "def isDuplicated(df):\n",
    "    check_columns = df.columns.drop(['entry', 'yield'])\n",
    "    return df.duplicated(subset=check_columns).value_counts()"
   ]
  },
  {
   "cell_type": "code",
   "execution_count": null,
   "id": "d1194220-73cf-45a9-8f7c-d80170b892e6",
   "metadata": {},
   "outputs": [
    {
     "data": {
      "text/plain": [
       "False    121\n",
       "dtype: int64"
      ]
     },
     "execution_count": 162,
     "metadata": {},
     "output_type": "execute_result"
    }
   ],
   "source": [
    "isDuplicated(df)"
   ]
  },
  {
   "cell_type": "code",
   "execution_count": null,
   "id": "6b397e78-3030-4e75-8527-265424cf34b4",
   "metadata": {},
   "outputs": [],
   "source": [
    "df.to_csv('./data/origin.csv')"
   ]
  },
  {
   "cell_type": "markdown",
   "id": "afc599cd-cd53-4f93-a0a9-7179d225961f",
   "metadata": {
    "tags": []
   },
   "source": [
    "# スケーリング"
   ]
  },
  {
   "cell_type": "code",
   "execution_count": 12,
   "id": "34507943-4eab-4bca-8278-a4b005861235",
   "metadata": {},
   "outputs": [],
   "source": [
    "# 説明変数をスケーリング\n",
    "# 目的変数は必要ない。\n",
    "# https://stats.stackexchange.com/questions/111467/is-it-necessary-to-scale-the-target-value-in-addition-to-scaling-features-for-re\n",
    "from sklearn.preprocessing import StandardScaler\n",
    "def scaling(df, scaling_columns):\n",
    "    scaler = StandardScaler()\n",
    "    scaler.fit(df[scaling_columns])\n",
    "    df_scaled = pd.concat([df.drop(columns=scaling_columns), \n",
    "                               pd.DataFrame(scaler.transform(df[scaling_columns]),index=df.index , columns=scaling_columns)\n",
    "                          ],axis=1, join='inner')\n",
    "    print(df_scaled.shape)\n",
    "    return df_scaled"
   ]
  },
  {
   "cell_type": "code",
   "execution_count": null,
   "id": "75fbe324-dd09-4367-94b5-4e58cc0b42c9",
   "metadata": {
    "collapsed": true,
    "jupyter": {
     "outputs_hidden": true
    },
    "tags": []
   },
   "outputs": [
    {
     "ename": "ValueError",
     "evalue": "could not convert string to float: 'rt'",
     "output_type": "error",
     "traceback": [
      "\u001b[0;31m---------------------------------------------------------------------------\u001b[0m",
      "\u001b[0;31mValueError\u001b[0m                                Traceback (most recent call last)",
      "Cell \u001b[0;32mIn [6], line 2\u001b[0m\n\u001b[1;32m      1\u001b[0m scaling_columns \u001b[38;5;241m=\u001b[39m [\u001b[38;5;124m'\u001b[39m\u001b[38;5;124morganocatalyst(mol\u001b[39m\u001b[38;5;124m%\u001b[39m\u001b[38;5;124m)\u001b[39m\u001b[38;5;124m'\u001b[39m,\u001b[38;5;124m'\u001b[39m\u001b[38;5;124mtemp(℃)\u001b[39m\u001b[38;5;124m'\u001b[39m,\u001b[38;5;124m'\u001b[39m\u001b[38;5;124mtime(h)\u001b[39m\u001b[38;5;124m'\u001b[39m]\n\u001b[0;32m----> 2\u001b[0m df_scaled \u001b[38;5;241m=\u001b[39m \u001b[43mscaling\u001b[49m\u001b[43m(\u001b[49m\u001b[43mdf\u001b[49m\u001b[43m,\u001b[49m\u001b[43m \u001b[49m\u001b[43mscaling_columns\u001b[49m\u001b[43m)\u001b[49m\n",
      "Cell \u001b[0;32mIn [5], line 7\u001b[0m, in \u001b[0;36mscaling\u001b[0;34m(df, scaling_columns)\u001b[0m\n\u001b[1;32m      5\u001b[0m \u001b[38;5;28;01mdef\u001b[39;00m \u001b[38;5;21mscaling\u001b[39m(df, scaling_columns):\n\u001b[1;32m      6\u001b[0m     scaler \u001b[38;5;241m=\u001b[39m StandardScaler()\n\u001b[0;32m----> 7\u001b[0m     \u001b[43mscaler\u001b[49m\u001b[38;5;241;43m.\u001b[39;49m\u001b[43mfit\u001b[49m\u001b[43m(\u001b[49m\u001b[43mdf\u001b[49m\u001b[43m[\u001b[49m\u001b[43mscaling_columns\u001b[49m\u001b[43m]\u001b[49m\u001b[43m)\u001b[49m\n\u001b[1;32m      8\u001b[0m     df_scaled \u001b[38;5;241m=\u001b[39m pd\u001b[38;5;241m.\u001b[39mconcat([df\u001b[38;5;241m.\u001b[39mdrop(columns\u001b[38;5;241m=\u001b[39mscaling_columns), \n\u001b[1;32m      9\u001b[0m                                pd\u001b[38;5;241m.\u001b[39mDataFrame(scaler\u001b[38;5;241m.\u001b[39mtransform(df[scaling_columns]),index\u001b[38;5;241m=\u001b[39mdf\u001b[38;5;241m.\u001b[39mindex , columns\u001b[38;5;241m=\u001b[39mscaling_columns)\n\u001b[1;32m     10\u001b[0m                           ],axis\u001b[38;5;241m=\u001b[39m\u001b[38;5;241m1\u001b[39m, join\u001b[38;5;241m=\u001b[39m\u001b[38;5;124m'\u001b[39m\u001b[38;5;124minner\u001b[39m\u001b[38;5;124m'\u001b[39m)\n\u001b[1;32m     11\u001b[0m     \u001b[38;5;28mprint\u001b[39m(df_scaled\u001b[38;5;241m.\u001b[39mshape)\n",
      "File \u001b[0;32m~/opt/anaconda3/envs/chem/lib/python3.9/site-packages/sklearn/preprocessing/_data.py:806\u001b[0m, in \u001b[0;36mStandardScaler.fit\u001b[0;34m(self, X, y, sample_weight)\u001b[0m\n\u001b[1;32m    804\u001b[0m \u001b[38;5;66;03m# Reset internal state before fitting\u001b[39;00m\n\u001b[1;32m    805\u001b[0m \u001b[38;5;28mself\u001b[39m\u001b[38;5;241m.\u001b[39m_reset()\n\u001b[0;32m--> 806\u001b[0m \u001b[38;5;28;01mreturn\u001b[39;00m \u001b[38;5;28;43mself\u001b[39;49m\u001b[38;5;241;43m.\u001b[39;49m\u001b[43mpartial_fit\u001b[49m\u001b[43m(\u001b[49m\u001b[43mX\u001b[49m\u001b[43m,\u001b[49m\u001b[43m \u001b[49m\u001b[43my\u001b[49m\u001b[43m,\u001b[49m\u001b[43m \u001b[49m\u001b[43msample_weight\u001b[49m\u001b[43m)\u001b[49m\n",
      "File \u001b[0;32m~/opt/anaconda3/envs/chem/lib/python3.9/site-packages/sklearn/preprocessing/_data.py:841\u001b[0m, in \u001b[0;36mStandardScaler.partial_fit\u001b[0;34m(self, X, y, sample_weight)\u001b[0m\n\u001b[1;32m    809\u001b[0m \u001b[38;5;124;03m\"\"\"Online computation of mean and std on X for later scaling.\u001b[39;00m\n\u001b[1;32m    810\u001b[0m \n\u001b[1;32m    811\u001b[0m \u001b[38;5;124;03mAll of X is processed as a single batch. This is intended for cases\u001b[39;00m\n\u001b[0;32m   (...)\u001b[0m\n\u001b[1;32m    838\u001b[0m \u001b[38;5;124;03m    Fitted scaler.\u001b[39;00m\n\u001b[1;32m    839\u001b[0m \u001b[38;5;124;03m\"\"\"\u001b[39;00m\n\u001b[1;32m    840\u001b[0m first_call \u001b[38;5;241m=\u001b[39m \u001b[38;5;129;01mnot\u001b[39;00m \u001b[38;5;28mhasattr\u001b[39m(\u001b[38;5;28mself\u001b[39m, \u001b[38;5;124m\"\u001b[39m\u001b[38;5;124mn_samples_seen_\u001b[39m\u001b[38;5;124m\"\u001b[39m)\n\u001b[0;32m--> 841\u001b[0m X \u001b[38;5;241m=\u001b[39m \u001b[38;5;28;43mself\u001b[39;49m\u001b[38;5;241;43m.\u001b[39;49m\u001b[43m_validate_data\u001b[49m\u001b[43m(\u001b[49m\n\u001b[1;32m    842\u001b[0m \u001b[43m    \u001b[49m\u001b[43mX\u001b[49m\u001b[43m,\u001b[49m\n\u001b[1;32m    843\u001b[0m \u001b[43m    \u001b[49m\u001b[43maccept_sparse\u001b[49m\u001b[38;5;241;43m=\u001b[39;49m\u001b[43m(\u001b[49m\u001b[38;5;124;43m\"\u001b[39;49m\u001b[38;5;124;43mcsr\u001b[39;49m\u001b[38;5;124;43m\"\u001b[39;49m\u001b[43m,\u001b[49m\u001b[43m \u001b[49m\u001b[38;5;124;43m\"\u001b[39;49m\u001b[38;5;124;43mcsc\u001b[39;49m\u001b[38;5;124;43m\"\u001b[39;49m\u001b[43m)\u001b[49m\u001b[43m,\u001b[49m\n\u001b[1;32m    844\u001b[0m \u001b[43m    \u001b[49m\u001b[43mestimator\u001b[49m\u001b[38;5;241;43m=\u001b[39;49m\u001b[38;5;28;43mself\u001b[39;49m\u001b[43m,\u001b[49m\n\u001b[1;32m    845\u001b[0m \u001b[43m    \u001b[49m\u001b[43mdtype\u001b[49m\u001b[38;5;241;43m=\u001b[39;49m\u001b[43mFLOAT_DTYPES\u001b[49m\u001b[43m,\u001b[49m\n\u001b[1;32m    846\u001b[0m \u001b[43m    \u001b[49m\u001b[43mforce_all_finite\u001b[49m\u001b[38;5;241;43m=\u001b[39;49m\u001b[38;5;124;43m\"\u001b[39;49m\u001b[38;5;124;43mallow-nan\u001b[39;49m\u001b[38;5;124;43m\"\u001b[39;49m\u001b[43m,\u001b[49m\n\u001b[1;32m    847\u001b[0m \u001b[43m    \u001b[49m\u001b[43mreset\u001b[49m\u001b[38;5;241;43m=\u001b[39;49m\u001b[43mfirst_call\u001b[49m\u001b[43m,\u001b[49m\n\u001b[1;32m    848\u001b[0m \u001b[43m\u001b[49m\u001b[43m)\u001b[49m\n\u001b[1;32m    849\u001b[0m n_features \u001b[38;5;241m=\u001b[39m X\u001b[38;5;241m.\u001b[39mshape[\u001b[38;5;241m1\u001b[39m]\n\u001b[1;32m    851\u001b[0m \u001b[38;5;28;01mif\u001b[39;00m sample_weight \u001b[38;5;129;01mis\u001b[39;00m \u001b[38;5;129;01mnot\u001b[39;00m \u001b[38;5;28;01mNone\u001b[39;00m:\n",
      "File \u001b[0;32m~/opt/anaconda3/envs/chem/lib/python3.9/site-packages/sklearn/base.py:566\u001b[0m, in \u001b[0;36mBaseEstimator._validate_data\u001b[0;34m(self, X, y, reset, validate_separately, **check_params)\u001b[0m\n\u001b[1;32m    564\u001b[0m     \u001b[38;5;28;01mraise\u001b[39;00m \u001b[38;5;167;01mValueError\u001b[39;00m(\u001b[38;5;124m\"\u001b[39m\u001b[38;5;124mValidation should be done on X, y or both.\u001b[39m\u001b[38;5;124m\"\u001b[39m)\n\u001b[1;32m    565\u001b[0m \u001b[38;5;28;01melif\u001b[39;00m \u001b[38;5;129;01mnot\u001b[39;00m no_val_X \u001b[38;5;129;01mand\u001b[39;00m no_val_y:\n\u001b[0;32m--> 566\u001b[0m     X \u001b[38;5;241m=\u001b[39m \u001b[43mcheck_array\u001b[49m\u001b[43m(\u001b[49m\u001b[43mX\u001b[49m\u001b[43m,\u001b[49m\u001b[43m \u001b[49m\u001b[38;5;241;43m*\u001b[39;49m\u001b[38;5;241;43m*\u001b[39;49m\u001b[43mcheck_params\u001b[49m\u001b[43m)\u001b[49m\n\u001b[1;32m    567\u001b[0m     out \u001b[38;5;241m=\u001b[39m X\n\u001b[1;32m    568\u001b[0m \u001b[38;5;28;01melif\u001b[39;00m no_val_X \u001b[38;5;129;01mand\u001b[39;00m \u001b[38;5;129;01mnot\u001b[39;00m no_val_y:\n",
      "File \u001b[0;32m~/opt/anaconda3/envs/chem/lib/python3.9/site-packages/sklearn/utils/validation.py:746\u001b[0m, in \u001b[0;36mcheck_array\u001b[0;34m(array, accept_sparse, accept_large_sparse, dtype, order, copy, force_all_finite, ensure_2d, allow_nd, ensure_min_samples, ensure_min_features, estimator)\u001b[0m\n\u001b[1;32m    744\u001b[0m         array \u001b[38;5;241m=\u001b[39m array\u001b[38;5;241m.\u001b[39mastype(dtype, casting\u001b[38;5;241m=\u001b[39m\u001b[38;5;124m\"\u001b[39m\u001b[38;5;124munsafe\u001b[39m\u001b[38;5;124m\"\u001b[39m, copy\u001b[38;5;241m=\u001b[39m\u001b[38;5;28;01mFalse\u001b[39;00m)\n\u001b[1;32m    745\u001b[0m     \u001b[38;5;28;01melse\u001b[39;00m:\n\u001b[0;32m--> 746\u001b[0m         array \u001b[38;5;241m=\u001b[39m \u001b[43mnp\u001b[49m\u001b[38;5;241;43m.\u001b[39;49m\u001b[43masarray\u001b[49m\u001b[43m(\u001b[49m\u001b[43marray\u001b[49m\u001b[43m,\u001b[49m\u001b[43m \u001b[49m\u001b[43morder\u001b[49m\u001b[38;5;241;43m=\u001b[39;49m\u001b[43morder\u001b[49m\u001b[43m,\u001b[49m\u001b[43m \u001b[49m\u001b[43mdtype\u001b[49m\u001b[38;5;241;43m=\u001b[39;49m\u001b[43mdtype\u001b[49m\u001b[43m)\u001b[49m\n\u001b[1;32m    747\u001b[0m \u001b[38;5;28;01mexcept\u001b[39;00m ComplexWarning \u001b[38;5;28;01mas\u001b[39;00m complex_warning:\n\u001b[1;32m    748\u001b[0m     \u001b[38;5;28;01mraise\u001b[39;00m \u001b[38;5;167;01mValueError\u001b[39;00m(\n\u001b[1;32m    749\u001b[0m         \u001b[38;5;124m\"\u001b[39m\u001b[38;5;124mComplex data not supported\u001b[39m\u001b[38;5;130;01m\\n\u001b[39;00m\u001b[38;5;132;01m{}\u001b[39;00m\u001b[38;5;130;01m\\n\u001b[39;00m\u001b[38;5;124m\"\u001b[39m\u001b[38;5;241m.\u001b[39mformat(array)\n\u001b[1;32m    750\u001b[0m     ) \u001b[38;5;28;01mfrom\u001b[39;00m \u001b[38;5;21;01mcomplex_warning\u001b[39;00m\n",
      "File \u001b[0;32m~/opt/anaconda3/envs/chem/lib/python3.9/site-packages/pandas/core/generic.py:2069\u001b[0m, in \u001b[0;36mNDFrame.__array__\u001b[0;34m(self, dtype)\u001b[0m\n\u001b[1;32m   2068\u001b[0m \u001b[38;5;28;01mdef\u001b[39;00m \u001b[38;5;21m__array__\u001b[39m(\u001b[38;5;28mself\u001b[39m, dtype: npt\u001b[38;5;241m.\u001b[39mDTypeLike \u001b[38;5;241m|\u001b[39m \u001b[38;5;28;01mNone\u001b[39;00m \u001b[38;5;241m=\u001b[39m \u001b[38;5;28;01mNone\u001b[39;00m) \u001b[38;5;241m-\u001b[39m\u001b[38;5;241m>\u001b[39m np\u001b[38;5;241m.\u001b[39mndarray:\n\u001b[0;32m-> 2069\u001b[0m     \u001b[38;5;28;01mreturn\u001b[39;00m \u001b[43mnp\u001b[49m\u001b[38;5;241;43m.\u001b[39;49m\u001b[43masarray\u001b[49m\u001b[43m(\u001b[49m\u001b[38;5;28;43mself\u001b[39;49m\u001b[38;5;241;43m.\u001b[39;49m\u001b[43m_values\u001b[49m\u001b[43m,\u001b[49m\u001b[43m \u001b[49m\u001b[43mdtype\u001b[49m\u001b[38;5;241;43m=\u001b[39;49m\u001b[43mdtype\u001b[49m\u001b[43m)\u001b[49m\n",
      "\u001b[0;31mValueError\u001b[0m: could not convert string to float: 'rt'"
     ]
    }
   ],
   "source": [
    "scaling_columns = ['organocatalyst(mol%)','temp(℃)','time(h)']\n",
    "df_scaled = scaling(df, scaling_columns)"
   ]
  },
  {
   "cell_type": "code",
   "execution_count": null,
   "id": "5e92db8a-984a-4bb4-babc-43713cb77441",
   "metadata": {},
   "outputs": [],
   "source": [
    "df_scaled.to_csv('./data/origin_scaled.csv')"
   ]
  },
  {
   "cell_type": "markdown",
   "id": "15c46478-af67-4f59-a642-cadb756ac1e5",
   "metadata": {
    "tags": []
   },
   "source": [
    "# 記述子\n",
    "https://qiita.com/ottantachinque/items/d7332bcf67b5844f5be3\n",
    "### morganフィンガープリントの作成（Extended Connectivity Fingerprint）\n",
    "子からある距離にある部分構造を数え上げていく，「circular substructures」と呼ばれるタイプのフィンガープリントです．radiusの値で距離を設定します．いわゆるECFP（Extended Connectivity Fingerprint）フィンガープリントに相当するものですが，探索距離の定義が異なる点に注意が必要です．\n",
    "### morgan featureフィンガープリントの作成(Functional Connectivity Fingerprint）\n",
    "FCFP（Functional Connectivity Fingerprint）様のフィンガープリントを用いたい場合にはuseFeatures=Trueを設定します．\n",
    "\n",
    "### MACCS\n",
    "全部で166の部分構造についての有無を調べ上げたもので，RDKit内の情報保持のために1ビット使っているため全部で167ビットのフィンガープリントになります．部分構造を有する場合は1が，ない場合は0が格納されています．\n",
    "\n",
    "### RDkit記述子\n",
    "一定の結合数に相当する原子と結合種類を格納する方法で，事前に部分構造を用意する必要がないことから，より柔軟に分子構造を表現することが可能です．\n",
    "\n",
    "### MinHashフィンガープリント\n",
    "「A probabilistic molecular fingerprint for big data settings」という論文で報告されている，ECFPと同様にCircular型のフィンガープリントになります\n",
    "\n",
    "### Avalonフィンガープリント\n",
    "\n",
    "### アトムペアフィンガープリントとトポロジカル二面角フィンガープリント\n",
    "原子のアトムタイプとその最小結合距離を記録していきます．\n",
    "アトムタイプには\n",
    "原子の種類\n",
    "結合する重原子の数\n",
    "π電子数\n",
    "https://future-chem.com/ap-dp-fingerprint/\n",
    "\n",
    "### ドナーアクセプターペアフィンガープリント\n",
    "ドナーアクセプターペアフィンガープリントでは「アトムタイプの情報」について\n",
    "\n",
    "水素結合供与体\n",
    "水素結合受容体\n",
    "といった一般性のある「化学的性質」を情報として用いているフィンガープリントです\n",
    "\n",
    "### mordred記述子の作成\n",
    "https://github.com/mordred-descriptor\n",
    "\n",
    "\n",
    "MolLogP : Crippenらによる原子ベースのLogP指標(LogPは水/オクタノール分配係数）\n",
    "MolWt : 分子量\n",
    "NumHAcceptors : 水素結合アクセプターの数\n",
    "NumHDonors : 水素結合ドナーの数\n",
    "NumHeteroatoms : へテロ元素の数\n",
    "NumRotatableBonds : 回転可能な結合数\n",
    "FractionCSP3 : 全炭素数におけるsp3炭素の割合\n",
    "TPSA : トポロジカル極性表面積\n"
   ]
  },
  {
   "cell_type": "code",
   "execution_count": 88,
   "id": "3a6328ff-0e54-46a3-a774-3b3f0a76ae2a",
   "metadata": {},
   "outputs": [
    {
     "data": {
      "text/html": [
       "<div>\n",
       "<style scoped>\n",
       "    .dataframe tbody tr th:only-of-type {\n",
       "        vertical-align: middle;\n",
       "    }\n",
       "\n",
       "    .dataframe tbody tr th {\n",
       "        vertical-align: top;\n",
       "    }\n",
       "\n",
       "    .dataframe thead th {\n",
       "        text-align: right;\n",
       "    }\n",
       "</style>\n",
       "<table border=\"1\" class=\"dataframe\">\n",
       "  <thead>\n",
       "    <tr style=\"text-align: right;\">\n",
       "      <th></th>\n",
       "      <th>entry</th>\n",
       "      <th>R1-</th>\n",
       "      <th>organocatalyst</th>\n",
       "      <th>yield</th>\n",
       "      <th>R2_C</th>\n",
       "      <th>R2_H</th>\n",
       "      <th>under_O2</th>\n",
       "      <th>under_air</th>\n",
       "      <th>solvent_CH3CN</th>\n",
       "      <th>solvent_DMF</th>\n",
       "      <th>solvent_MeOH</th>\n",
       "      <th>solvent_toluene</th>\n",
       "      <th>organocatalyst(mol%)</th>\n",
       "      <th>temp(℃)</th>\n",
       "      <th>time(h)</th>\n",
       "    </tr>\n",
       "  </thead>\n",
       "  <tbody>\n",
       "    <tr>\n",
       "      <th>0</th>\n",
       "      <td>1</td>\n",
       "      <td>[*]C1=CC=CC=C1</td>\n",
       "      <td>ClC1=CC=C(C(O)=O)C(O)=C1</td>\n",
       "      <td>81.0</td>\n",
       "      <td>0</td>\n",
       "      <td>1</td>\n",
       "      <td>1</td>\n",
       "      <td>0</td>\n",
       "      <td>0</td>\n",
       "      <td>0</td>\n",
       "      <td>0</td>\n",
       "      <td>1</td>\n",
       "      <td>-0.599526</td>\n",
       "      <td>1.120490</td>\n",
       "      <td>-0.171686</td>\n",
       "    </tr>\n",
       "    <tr>\n",
       "      <th>1</th>\n",
       "      <td>2</td>\n",
       "      <td>[*]C1=CC=CC=C1</td>\n",
       "      <td>ClC1=CC=C(C(O)=O)C(O)=C1</td>\n",
       "      <td>14.0</td>\n",
       "      <td>0</td>\n",
       "      <td>1</td>\n",
       "      <td>1</td>\n",
       "      <td>0</td>\n",
       "      <td>0</td>\n",
       "      <td>0</td>\n",
       "      <td>0</td>\n",
       "      <td>1</td>\n",
       "      <td>-0.599526</td>\n",
       "      <td>1.120490</td>\n",
       "      <td>-0.801200</td>\n",
       "    </tr>\n",
       "    <tr>\n",
       "      <th>2</th>\n",
       "      <td>3</td>\n",
       "      <td>[*]C1=CC=CC=C1</td>\n",
       "      <td>OC1=CC(C)=CC=C1C(O)=O</td>\n",
       "      <td>74.0</td>\n",
       "      <td>0</td>\n",
       "      <td>1</td>\n",
       "      <td>1</td>\n",
       "      <td>0</td>\n",
       "      <td>0</td>\n",
       "      <td>0</td>\n",
       "      <td>0</td>\n",
       "      <td>1</td>\n",
       "      <td>-0.599526</td>\n",
       "      <td>1.120490</td>\n",
       "      <td>-0.171686</td>\n",
       "    </tr>\n",
       "    <tr>\n",
       "      <th>3</th>\n",
       "      <td>4</td>\n",
       "      <td>[*]C1=CC=CC=C1</td>\n",
       "      <td>OC1=CC(C)=CC=C1C(O)=O</td>\n",
       "      <td>15.0</td>\n",
       "      <td>0</td>\n",
       "      <td>1</td>\n",
       "      <td>1</td>\n",
       "      <td>0</td>\n",
       "      <td>0</td>\n",
       "      <td>0</td>\n",
       "      <td>0</td>\n",
       "      <td>1</td>\n",
       "      <td>-0.599526</td>\n",
       "      <td>1.120490</td>\n",
       "      <td>-0.801200</td>\n",
       "    </tr>\n",
       "    <tr>\n",
       "      <th>4</th>\n",
       "      <td>5</td>\n",
       "      <td>[*]C1=CC=CC=C1</td>\n",
       "      <td>OC1=CC(OC)=CC=C1C(O)=O</td>\n",
       "      <td>90.0</td>\n",
       "      <td>0</td>\n",
       "      <td>1</td>\n",
       "      <td>1</td>\n",
       "      <td>0</td>\n",
       "      <td>0</td>\n",
       "      <td>0</td>\n",
       "      <td>0</td>\n",
       "      <td>1</td>\n",
       "      <td>-0.599526</td>\n",
       "      <td>1.120490</td>\n",
       "      <td>-0.171686</td>\n",
       "    </tr>\n",
       "    <tr>\n",
       "      <th>...</th>\n",
       "      <td>...</td>\n",
       "      <td>...</td>\n",
       "      <td>...</td>\n",
       "      <td>...</td>\n",
       "      <td>...</td>\n",
       "      <td>...</td>\n",
       "      <td>...</td>\n",
       "      <td>...</td>\n",
       "      <td>...</td>\n",
       "      <td>...</td>\n",
       "      <td>...</td>\n",
       "      <td>...</td>\n",
       "      <td>...</td>\n",
       "      <td>...</td>\n",
       "      <td>...</td>\n",
       "    </tr>\n",
       "    <tr>\n",
       "      <th>116</th>\n",
       "      <td>2i</td>\n",
       "      <td>[*]C1=CC(Br)=CC=C1</td>\n",
       "      <td>O=C1C(C=C(OC)C(C(C)(C)C)=C1)=O</td>\n",
       "      <td>95.0</td>\n",
       "      <td>1</td>\n",
       "      <td>0</td>\n",
       "      <td>1</td>\n",
       "      <td>0</td>\n",
       "      <td>1</td>\n",
       "      <td>0</td>\n",
       "      <td>0</td>\n",
       "      <td>0</td>\n",
       "      <td>0.746348</td>\n",
       "      <td>-0.935602</td>\n",
       "      <td>2.346371</td>\n",
       "    </tr>\n",
       "    <tr>\n",
       "      <th>117</th>\n",
       "      <td>2j</td>\n",
       "      <td>[*]C1=CC=CC(OC)=C1</td>\n",
       "      <td>O=C1C(C=C(OC)C(C(C)(C)C)=C1)=O</td>\n",
       "      <td>89.0</td>\n",
       "      <td>1</td>\n",
       "      <td>0</td>\n",
       "      <td>1</td>\n",
       "      <td>0</td>\n",
       "      <td>1</td>\n",
       "      <td>0</td>\n",
       "      <td>0</td>\n",
       "      <td>0</td>\n",
       "      <td>0.746348</td>\n",
       "      <td>-0.935602</td>\n",
       "      <td>1.087343</td>\n",
       "    </tr>\n",
       "    <tr>\n",
       "      <th>118</th>\n",
       "      <td>2k</td>\n",
       "      <td>[*]C1=CC(C)=C(C)C=C1</td>\n",
       "      <td>O=C1C(C=C(OC)C(C(C)(C)C)=C1)=O</td>\n",
       "      <td>99.0</td>\n",
       "      <td>1</td>\n",
       "      <td>0</td>\n",
       "      <td>1</td>\n",
       "      <td>0</td>\n",
       "      <td>1</td>\n",
       "      <td>0</td>\n",
       "      <td>0</td>\n",
       "      <td>0</td>\n",
       "      <td>0.746348</td>\n",
       "      <td>-0.935602</td>\n",
       "      <td>2.346371</td>\n",
       "    </tr>\n",
       "    <tr>\n",
       "      <th>119</th>\n",
       "      <td>2m</td>\n",
       "      <td>[*]C1=CSC=C1</td>\n",
       "      <td>O=C1C(C=C(OC)C(C(C)(C)C)=C1)=O</td>\n",
       "      <td>83.0</td>\n",
       "      <td>1</td>\n",
       "      <td>0</td>\n",
       "      <td>1</td>\n",
       "      <td>0</td>\n",
       "      <td>1</td>\n",
       "      <td>0</td>\n",
       "      <td>0</td>\n",
       "      <td>0</td>\n",
       "      <td>0.746348</td>\n",
       "      <td>0.199852</td>\n",
       "      <td>1.087343</td>\n",
       "    </tr>\n",
       "    <tr>\n",
       "      <th>120</th>\n",
       "      <td>2p</td>\n",
       "      <td>[*]C1=CC=CC=C1</td>\n",
       "      <td>O=C1C(C=C(OC)C(C(C)(C)C)=C1)=O</td>\n",
       "      <td>99.0</td>\n",
       "      <td>0</td>\n",
       "      <td>1</td>\n",
       "      <td>1</td>\n",
       "      <td>0</td>\n",
       "      <td>1</td>\n",
       "      <td>0</td>\n",
       "      <td>0</td>\n",
       "      <td>0</td>\n",
       "      <td>0.746348</td>\n",
       "      <td>-0.935602</td>\n",
       "      <td>-0.801200</td>\n",
       "    </tr>\n",
       "  </tbody>\n",
       "</table>\n",
       "<p>121 rows × 15 columns</p>\n",
       "</div>"
      ],
      "text/plain": [
       "    entry                   R1-                  organocatalyst  yield  R2_C  \\\n",
       "0       1        [*]C1=CC=CC=C1        ClC1=CC=C(C(O)=O)C(O)=C1   81.0     0   \n",
       "1       2        [*]C1=CC=CC=C1        ClC1=CC=C(C(O)=O)C(O)=C1   14.0     0   \n",
       "2       3        [*]C1=CC=CC=C1           OC1=CC(C)=CC=C1C(O)=O   74.0     0   \n",
       "3       4        [*]C1=CC=CC=C1           OC1=CC(C)=CC=C1C(O)=O   15.0     0   \n",
       "4       5        [*]C1=CC=CC=C1          OC1=CC(OC)=CC=C1C(O)=O   90.0     0   \n",
       "..    ...                   ...                             ...    ...   ...   \n",
       "116    2i    [*]C1=CC(Br)=CC=C1  O=C1C(C=C(OC)C(C(C)(C)C)=C1)=O   95.0     1   \n",
       "117    2j    [*]C1=CC=CC(OC)=C1  O=C1C(C=C(OC)C(C(C)(C)C)=C1)=O   89.0     1   \n",
       "118    2k  [*]C1=CC(C)=C(C)C=C1  O=C1C(C=C(OC)C(C(C)(C)C)=C1)=O   99.0     1   \n",
       "119    2m          [*]C1=CSC=C1  O=C1C(C=C(OC)C(C(C)(C)C)=C1)=O   83.0     1   \n",
       "120    2p        [*]C1=CC=CC=C1  O=C1C(C=C(OC)C(C(C)(C)C)=C1)=O   99.0     0   \n",
       "\n",
       "     R2_H  under_O2  under_air  solvent_CH3CN  solvent_DMF  solvent_MeOH  \\\n",
       "0       1         1          0              0            0             0   \n",
       "1       1         1          0              0            0             0   \n",
       "2       1         1          0              0            0             0   \n",
       "3       1         1          0              0            0             0   \n",
       "4       1         1          0              0            0             0   \n",
       "..    ...       ...        ...            ...          ...           ...   \n",
       "116     0         1          0              1            0             0   \n",
       "117     0         1          0              1            0             0   \n",
       "118     0         1          0              1            0             0   \n",
       "119     0         1          0              1            0             0   \n",
       "120     1         1          0              1            0             0   \n",
       "\n",
       "     solvent_toluene  organocatalyst(mol%)   temp(℃)   time(h)  \n",
       "0                  1             -0.599526  1.120490 -0.171686  \n",
       "1                  1             -0.599526  1.120490 -0.801200  \n",
       "2                  1             -0.599526  1.120490 -0.171686  \n",
       "3                  1             -0.599526  1.120490 -0.801200  \n",
       "4                  1             -0.599526  1.120490 -0.171686  \n",
       "..               ...                   ...       ...       ...  \n",
       "116                0              0.746348 -0.935602  2.346371  \n",
       "117                0              0.746348 -0.935602  1.087343  \n",
       "118                0              0.746348 -0.935602  2.346371  \n",
       "119                0              0.746348  0.199852  1.087343  \n",
       "120                0              0.746348 -0.935602 -0.801200  \n",
       "\n",
       "[121 rows x 15 columns]"
      ]
     },
     "execution_count": 88,
     "metadata": {},
     "output_type": "execute_result"
    }
   ],
   "source": [
    "import pandas as pd\n",
    "df_scaled = pd.read_csv('./data/origin_scaled.csv', index_col=0)\n",
    "df_scaled"
   ]
  },
  {
   "cell_type": "code",
   "execution_count": 14,
   "id": "756c8c4e-5866-43c1-8ef9-7403c28c6bc4",
   "metadata": {},
   "outputs": [],
   "source": [
    "BIT = 2048"
   ]
  },
  {
   "cell_type": "code",
   "execution_count": 89,
   "id": "d434a17d-b049-4b8b-bfab-c0760e8cf1c9",
   "metadata": {},
   "outputs": [],
   "source": [
    "import numpy as np\n",
    "from rdkit import Chem\n",
    "from rdkit.Chem import AllChem, DataStructs\n",
    "from rdkit.Avalon import pyAvalonTools\n",
    "from mordred import Calculator, descriptors\n",
    "from rdkit.Chem.AtomPairs.Sheridan import GetBPFingerprint\n",
    "from rdkit.Chem.AtomPairs import Pairs\n",
    "from rdkit.Chem import rdMHFPFingerprint\n",
    "encoder = rdMHFPFingerprint.MHFPEncoder()\n",
    "\n",
    "def toFinger(df, columns, finger_method):\n",
    "    df_copy = df.drop(columns=columns)\n",
    "    for column in columns:\n",
    "        fingerprints = toFingerFromSmiles(df[column],finger_method)\n",
    "        if finger_method in ['mordred_2d','mordred_3d']:\n",
    "            fingerprints_df = fingerprints.add_suffix('_'+column).set_axis(df.index, axis='index')\n",
    "        else:\n",
    "            column_names = list(map(lambda x: str(x)+'_'+column, range(len(fingerprints[0]))))\n",
    "            fingerprints_df =  pd.DataFrame(fingerprints,index=df.index, columns=column_names)\n",
    "        \n",
    "        # scaling必要\n",
    "        # if finger_method in ['mordred_2d','mordred_3d', 'minhash']:\n",
    "        #     fingerprints_df = scaling(fingerprints_df, fingerprints_df.columns)\n",
    "        fingerprints_df = fingerprints_df[fingerprints_df.columns[~fingerprints_df.isnull().any()]]\n",
    "        df_copy = pd.merge(df_copy, fingerprints_df, left_index=True, right_index=True)\n",
    "    return df_copy\n",
    "\n",
    "def toFingerFromSmiles(series, method):\n",
    "    mols = []\n",
    "    for smile in series:\n",
    "        if smile in ['-', 0]: smile = '' \n",
    "        mols.append(Chem.MolFromSmiles(smile))\n",
    "\n",
    "    if (method == 'mordred_2d'):\n",
    "        # scaling必要\n",
    "        calc_2D = Calculator(descriptors, ignore_3D=True) #2D記述子\n",
    "        fingerprints = calc_2D.pandas(mols,quiet=False)\n",
    "        for column in fingerprints.columns:\n",
    "            if fingerprints[column].dtypes == object:\n",
    "                fingerprints[column] = fingerprints[column].values.astype(np.float32)\n",
    "        return fingerprints\n",
    "    elif (method == 'mordred_3d'):\n",
    "        # scaling必要\n",
    "        calc_3D = Calculator(descriptors, ignore_3D=False) #3D記述子\n",
    "        fingerprints = calc_3D.pandas(mols,quiet=False)\n",
    "        for column in fingerprints.columns:\n",
    "            if fingerprints[column].dtypes == object:\n",
    "                fingerprints[column] = fingerprints[column].values.astype(np.float32)\n",
    "        return fingerprints\n",
    "    else:\n",
    "        fingerprints = []\n",
    "        for mol_idx, mol in enumerate(mols):\n",
    "            try:\n",
    "                # listに直してる。\n",
    "                if (method == 'morgan'):\n",
    "                    fingerprint = [x for x in AllChem.GetMorganFingerprintAsBitVect(mol,2,BIT)]\n",
    "                elif (method == 'morgan_feature'):\n",
    "                    fingerprint = [x for x in AllChem.GetMorganFingerprintAsBitVect(mol,2,BIT,useFeatures=True)]\n",
    "                elif (method == 'maccs'):\n",
    "                    fingerprint = [x for x in AllChem.GetMACCSKeysFingerprint(mol)]\n",
    "                elif (method == 'rdkit'):\n",
    "                    fingerprint = [x for x in Chem.RDKFingerprint(mol)]\n",
    "                elif (method == 'minhash'):\n",
    "                    # scaling必要\n",
    "                    fingerprint = [x for x in encoder.EncodeMol(mol)]\n",
    "                elif (method == 'avalon'):\n",
    "                    fingerprint = [x for x in pyAvalonTools.GetAvalonFP(mol)]\n",
    "                elif (method == 'atom'):\n",
    "                    fingerprint = [x for x in Pairs.GetAtomPairFingerprintAsBitVect(mol)]\n",
    "                elif (method == 'donor'):\n",
    "                    print('donor')\n",
    "                    fingerprint = [x for x in GetBPFingerprint(mol)]\n",
    "                else:\n",
    "                    print('method error')\n",
    "                fingerprints.append(fingerprint)\n",
    "            except Exception as e:\n",
    "                print(e)\n",
    "                print(\"Error\", mol_idx)\n",
    "                break\n",
    "        return fingerprints"
   ]
  },
  {
   "cell_type": "code",
   "execution_count": 16,
   "id": "7f6404c8-159f-48c6-a9e9-4091236880fc",
   "metadata": {},
   "outputs": [],
   "source": [
    "finger_methods = [\n",
    "    # 'morgan',\n",
    "    # 'morgan_feature',\n",
    "    # 'maccs',\n",
    "    # 'rdkit',\n",
    "    # 'minhash',\n",
    "    'avalon',\n",
    "    # 'atom', # 重い\n",
    "    #'donor', # 重い\n",
    "    'mordred_2d',\n",
    "    # 'mordred_3d',\n",
    "]"
   ]
  },
  {
   "cell_type": "markdown",
   "id": "0a850dc3-9d35-4630-9217-ec49ec058710",
   "metadata": {
    "tags": []
   },
   "source": [
    "# 記述子変換 ⇒ 分散が0 or 80%異常が同じ値の情報を削除\n",
    "説明しきれていないため共線性の恐れがある\n",
    "VarianceThresholdで特徴選択"
   ]
  },
  {
   "cell_type": "code",
   "execution_count": 17,
   "id": "d982e455-58ba-4adc-8c86-19ab8190b1f2",
   "metadata": {},
   "outputs": [],
   "source": [
    "from sklearn.feature_selection import VarianceThreshold\n",
    "from sklearn import preprocessing\n",
    "from sklearn.preprocessing import StandardScaler\n",
    "from sklearn.ensemble import RandomForestRegressor\n",
    "from boruta import BorutaPy\n",
    "\n",
    "def removeNoImpactData(df):\n",
    "    X = df.drop(columns=['entry','yield'])\n",
    "    y = df['yield']\n",
    "    # ベルヌーイ分布に基づく分散の閾値は0.16\n",
    "    select = VarianceThreshold(threshold=(.8 * (1 - .8)))\n",
    "    select.fit_transform(X.values)\n",
    "    selected_columns = X.columns[select.get_support()]\n",
    "    selected_X = pd.DataFrame(X[selected_columns], columns=selected_columns)\n",
    "\n",
    "    # 相関が0.95以上のカラムを削除\n",
    "    X_new = deleteHighCorrColumn(selected_X)\n",
    "    \n",
    "    df_new = pd.concat([\n",
    "        y,\n",
    "        X_new,\n",
    "    ],axis=1)\n",
    "    print('before_shape: ', df.shape)\n",
    "    print('new_shape: ', df_new.shape)\n",
    "    return df_new\n",
    "\n",
    "def deleteHighCorrColumn(df):\n",
    "    threshold = 0.95\n",
    "    df_corr = df.corr()\n",
    "    df_corr = abs(df_corr)\n",
    "    columns = df_corr.columns\n",
    "\n",
    "    # 対角線の値を0にする\n",
    "    for i in range(0, len(columns)):\n",
    "        df_corr.iloc[i, i] = 0\n",
    "\n",
    "    while True:\n",
    "        columns = df_corr.columns\n",
    "        max_corr = 0.0\n",
    "        query_column = None\n",
    "        target_column = None\n",
    "\n",
    "        df_max_column_value = df_corr.max()\n",
    "        max_corr = df_max_column_value.max()\n",
    "        query_column = df_max_column_value.idxmax()\n",
    "        target_column = df_corr[query_column].idxmax()\n",
    "\n",
    "        if max_corr < threshold:\n",
    "            # しきい値を超えるものがなかったため終了\n",
    "            break\n",
    "        else:\n",
    "            # しきい値を超えるものがあった場合\n",
    "            delete_column = None\n",
    "            saved_column = None\n",
    "\n",
    "            # その他との相関の絶対値が大きい方を除去\n",
    "            if sum(df_corr[query_column]) <= sum(df_corr[target_column]):\n",
    "                delete_column = target_column\n",
    "                saved_column = query_column\n",
    "            else:\n",
    "                delete_column = query_column\n",
    "                saved_column = target_column\n",
    "\n",
    "            # 除去すべき特徴を相関行列から消す（行、列）\n",
    "            df_corr.drop([delete_column], axis=0, inplace=True)\n",
    "            df_corr.drop([delete_column], axis=1, inplace=True)\n",
    "\n",
    "    return df[df_corr.columns]\n",
    "\n",
    "def boruta(X,y):\n",
    "    scaler = StandardScaler()\n",
    "    X_scaled = scaler.fit_transform(X)\n",
    "    corr_list = []\n",
    "    for n in range(10000):\n",
    "        shadow_features = np.random.rand(X_scaled.shape[0]).T\n",
    "        corr = np.corrcoef(X_scaled, shadow_features,rowvar=False)[-1]\n",
    "        corr = abs(corr[corr < 0.95])\n",
    "        corr_list.append(corr.max())\n",
    "\n",
    "    corr_array = np.array(corr_list)\n",
    "    perc = 100 * (1-corr_array.max())\n",
    "\n",
    "    # RandomForestRegressorでBorutaを実行\n",
    "    rf = RandomForestRegressor(n_jobs=-1, max_depth=5)\n",
    "    feat_selector = BorutaPy(\n",
    "        rf,\n",
    "        n_estimators='auto',\n",
    "        verbose=2,\n",
    "        alpha=0.05, # 有意水準\n",
    "        max_iter=100, # 試行回数\n",
    "        perc = perc, #ランダム生成変数の重要度の何％を基準とするか\n",
    "        random_state=1\n",
    "    )\n",
    "    feat_selector.fit(X_scaled, y.values)\n",
    "\n",
    "    # 選択された特徴量を確認\n",
    "    selected = feat_selector.support_\n",
    "    print('選択された特徴量の数: %d' % np.sum(selected))\n",
    "    print(selected)\n",
    "    print(X.columns[selected])\n",
    "\n",
    "    # 選択した特徴量で学習\n",
    "    X_selected = X[X.columns[selected]]\n",
    "    return X_selected\n",
    "    "
   ]
  },
  {
   "cell_type": "markdown",
   "id": "ff72bf8c-15a5-4704-8f7b-0d6d0d3da30e",
   "metadata": {
    "tags": []
   },
   "source": [
    "# finger print変換\n",
    "- method1 全てのデータを使用"
   ]
  },
  {
   "cell_type": "code",
   "execution_count": null,
   "id": "4198ee2e-fe77-4ff9-bc19-75c81b9038f9",
   "metadata": {
    "tags": []
   },
   "outputs": [],
   "source": [
    "# 1. 全てのデータを使用\n",
    "finger_columns = ['R1-', 'organocatalyst']\n",
    "for finger_method in finger_methods:\n",
    "    print(finger_method)\n",
    "    df_method1 = toFinger(df_scaled, finger_columns,finger_method)\n",
    "    df_method1.to_csv(f'./data/method1/{finger_method}_noRemoved.csv')\n",
    "    removeNoImpactData(df_method1).to_csv(f'./data/method1/{finger_method}.csv')"
   ]
  },
  {
   "cell_type": "code",
   "execution_count": null,
   "id": "bc133235-25ae-4764-9403-cae88711fa01",
   "metadata": {
    "collapsed": true,
    "jupyter": {
     "outputs_hidden": true
    },
    "tags": []
   },
   "outputs": [
    {
     "name": "stdout",
     "output_type": "stream",
     "text": [
      "morgan_feature\n",
      "Iteration: \t1 / 100\n",
      "Confirmed: \t0\n",
      "Tentative: \t27\n",
      "Rejected: \t0\n",
      "Iteration: \t2 / 100\n",
      "Confirmed: \t0\n",
      "Tentative: \t27\n",
      "Rejected: \t0\n",
      "Iteration: \t3 / 100\n",
      "Confirmed: \t0\n",
      "Tentative: \t27\n",
      "Rejected: \t0\n",
      "Iteration: \t4 / 100\n",
      "Confirmed: \t0\n",
      "Tentative: \t27\n",
      "Rejected: \t0\n",
      "Iteration: \t5 / 100\n",
      "Confirmed: \t0\n",
      "Tentative: \t27\n",
      "Rejected: \t0\n",
      "Iteration: \t6 / 100\n",
      "Confirmed: \t0\n",
      "Tentative: \t27\n",
      "Rejected: \t0\n",
      "Iteration: \t7 / 100\n",
      "Confirmed: \t0\n",
      "Tentative: \t27\n",
      "Rejected: \t0\n",
      "Iteration: \t8 / 100\n",
      "Confirmed: \t13\n",
      "Tentative: \t7\n",
      "Rejected: \t7\n",
      "Iteration: \t9 / 100\n",
      "Confirmed: \t13\n",
      "Tentative: \t7\n",
      "Rejected: \t7\n",
      "Iteration: \t10 / 100\n",
      "Confirmed: \t13\n",
      "Tentative: \t7\n",
      "Rejected: \t7\n",
      "Iteration: \t11 / 100\n",
      "Confirmed: \t13\n",
      "Tentative: \t7\n",
      "Rejected: \t7\n",
      "Iteration: \t12 / 100\n",
      "Confirmed: \t14\n",
      "Tentative: \t4\n",
      "Rejected: \t9\n",
      "Iteration: \t13 / 100\n",
      "Confirmed: \t14\n",
      "Tentative: \t4\n",
      "Rejected: \t9\n",
      "Iteration: \t14 / 100\n",
      "Confirmed: \t14\n",
      "Tentative: \t4\n",
      "Rejected: \t9\n",
      "Iteration: \t15 / 100\n",
      "Confirmed: \t14\n",
      "Tentative: \t4\n",
      "Rejected: \t9\n",
      "Iteration: \t16 / 100\n",
      "Confirmed: \t14\n",
      "Tentative: \t4\n",
      "Rejected: \t9\n",
      "Iteration: \t17 / 100\n",
      "Confirmed: \t14\n",
      "Tentative: \t4\n",
      "Rejected: \t9\n",
      "Iteration: \t18 / 100\n",
      "Confirmed: \t14\n",
      "Tentative: \t4\n",
      "Rejected: \t9\n",
      "Iteration: \t19 / 100\n",
      "Confirmed: \t14\n",
      "Tentative: \t3\n",
      "Rejected: \t10\n",
      "Iteration: \t20 / 100\n",
      "Confirmed: \t14\n",
      "Tentative: \t3\n",
      "Rejected: \t10\n",
      "Iteration: \t21 / 100\n",
      "Confirmed: \t14\n",
      "Tentative: \t3\n",
      "Rejected: \t10\n",
      "Iteration: \t22 / 100\n",
      "Confirmed: \t14\n",
      "Tentative: \t3\n",
      "Rejected: \t10\n",
      "Iteration: \t23 / 100\n",
      "Confirmed: \t14\n",
      "Tentative: \t3\n",
      "Rejected: \t10\n",
      "Iteration: \t24 / 100\n",
      "Confirmed: \t14\n",
      "Tentative: \t3\n",
      "Rejected: \t10\n",
      "Iteration: \t25 / 100\n",
      "Confirmed: \t14\n",
      "Tentative: \t3\n",
      "Rejected: \t10\n",
      "Iteration: \t26 / 100\n",
      "Confirmed: \t14\n",
      "Tentative: \t3\n",
      "Rejected: \t10\n",
      "Iteration: \t27 / 100\n",
      "Confirmed: \t14\n",
      "Tentative: \t3\n",
      "Rejected: \t10\n",
      "Iteration: \t28 / 100\n",
      "Confirmed: \t14\n",
      "Tentative: \t3\n",
      "Rejected: \t10\n",
      "Iteration: \t29 / 100\n",
      "Confirmed: \t14\n",
      "Tentative: \t3\n",
      "Rejected: \t10\n",
      "Iteration: \t30 / 100\n",
      "Confirmed: \t14\n",
      "Tentative: \t3\n",
      "Rejected: \t10\n",
      "Iteration: \t31 / 100\n",
      "Confirmed: \t14\n",
      "Tentative: \t3\n",
      "Rejected: \t10\n",
      "Iteration: \t32 / 100\n",
      "Confirmed: \t14\n",
      "Tentative: \t3\n",
      "Rejected: \t10\n",
      "Iteration: \t33 / 100\n",
      "Confirmed: \t14\n",
      "Tentative: \t3\n",
      "Rejected: \t10\n",
      "Iteration: \t34 / 100\n",
      "Confirmed: \t14\n",
      "Tentative: \t3\n",
      "Rejected: \t10\n",
      "Iteration: \t35 / 100\n",
      "Confirmed: \t14\n",
      "Tentative: \t3\n",
      "Rejected: \t10\n",
      "Iteration: \t36 / 100\n",
      "Confirmed: \t14\n",
      "Tentative: \t3\n",
      "Rejected: \t10\n",
      "Iteration: \t37 / 100\n",
      "Confirmed: \t14\n",
      "Tentative: \t3\n",
      "Rejected: \t10\n",
      "Iteration: \t38 / 100\n",
      "Confirmed: \t14\n",
      "Tentative: \t3\n",
      "Rejected: \t10\n",
      "Iteration: \t39 / 100\n",
      "Confirmed: \t14\n",
      "Tentative: \t3\n",
      "Rejected: \t10\n",
      "Iteration: \t40 / 100\n",
      "Confirmed: \t14\n",
      "Tentative: \t3\n",
      "Rejected: \t10\n",
      "Iteration: \t41 / 100\n",
      "Confirmed: \t14\n",
      "Tentative: \t3\n",
      "Rejected: \t10\n",
      "Iteration: \t42 / 100\n",
      "Confirmed: \t14\n",
      "Tentative: \t3\n",
      "Rejected: \t10\n",
      "Iteration: \t43 / 100\n",
      "Confirmed: \t14\n",
      "Tentative: \t3\n",
      "Rejected: \t10\n",
      "Iteration: \t44 / 100\n",
      "Confirmed: \t14\n",
      "Tentative: \t3\n",
      "Rejected: \t10\n",
      "Iteration: \t45 / 100\n",
      "Confirmed: \t14\n",
      "Tentative: \t3\n",
      "Rejected: \t10\n",
      "Iteration: \t46 / 100\n",
      "Confirmed: \t14\n",
      "Tentative: \t3\n",
      "Rejected: \t10\n",
      "Iteration: \t47 / 100\n",
      "Confirmed: \t14\n",
      "Tentative: \t3\n",
      "Rejected: \t10\n",
      "Iteration: \t48 / 100\n",
      "Confirmed: \t14\n",
      "Tentative: \t3\n",
      "Rejected: \t10\n",
      "Iteration: \t49 / 100\n",
      "Confirmed: \t14\n",
      "Tentative: \t3\n",
      "Rejected: \t10\n",
      "Iteration: \t50 / 100\n",
      "Confirmed: \t14\n",
      "Tentative: \t3\n",
      "Rejected: \t10\n",
      "Iteration: \t51 / 100\n",
      "Confirmed: \t14\n",
      "Tentative: \t3\n",
      "Rejected: \t10\n",
      "Iteration: \t52 / 100\n",
      "Confirmed: \t14\n",
      "Tentative: \t3\n",
      "Rejected: \t10\n",
      "Iteration: \t53 / 100\n",
      "Confirmed: \t14\n",
      "Tentative: \t3\n",
      "Rejected: \t10\n",
      "Iteration: \t54 / 100\n",
      "Confirmed: \t14\n",
      "Tentative: \t3\n",
      "Rejected: \t10\n",
      "Iteration: \t55 / 100\n",
      "Confirmed: \t14\n",
      "Tentative: \t3\n",
      "Rejected: \t10\n",
      "Iteration: \t56 / 100\n",
      "Confirmed: \t14\n",
      "Tentative: \t3\n",
      "Rejected: \t10\n",
      "Iteration: \t57 / 100\n",
      "Confirmed: \t14\n",
      "Tentative: \t3\n",
      "Rejected: \t10\n",
      "Iteration: \t58 / 100\n",
      "Confirmed: \t14\n",
      "Tentative: \t3\n",
      "Rejected: \t10\n",
      "Iteration: \t59 / 100\n",
      "Confirmed: \t14\n",
      "Tentative: \t3\n",
      "Rejected: \t10\n",
      "Iteration: \t60 / 100\n",
      "Confirmed: \t14\n",
      "Tentative: \t3\n",
      "Rejected: \t10\n",
      "Iteration: \t61 / 100\n",
      "Confirmed: \t14\n",
      "Tentative: \t3\n",
      "Rejected: \t10\n",
      "Iteration: \t62 / 100\n",
      "Confirmed: \t14\n",
      "Tentative: \t3\n",
      "Rejected: \t10\n",
      "Iteration: \t63 / 100\n",
      "Confirmed: \t14\n",
      "Tentative: \t3\n",
      "Rejected: \t10\n",
      "Iteration: \t64 / 100\n",
      "Confirmed: \t14\n",
      "Tentative: \t3\n",
      "Rejected: \t10\n",
      "Iteration: \t65 / 100\n",
      "Confirmed: \t14\n",
      "Tentative: \t2\n",
      "Rejected: \t11\n",
      "Iteration: \t66 / 100\n",
      "Confirmed: \t14\n",
      "Tentative: \t2\n",
      "Rejected: \t11\n",
      "Iteration: \t67 / 100\n",
      "Confirmed: \t14\n",
      "Tentative: \t2\n",
      "Rejected: \t11\n",
      "Iteration: \t68 / 100\n",
      "Confirmed: \t14\n",
      "Tentative: \t2\n",
      "Rejected: \t11\n",
      "Iteration: \t69 / 100\n",
      "Confirmed: \t14\n",
      "Tentative: \t2\n",
      "Rejected: \t11\n",
      "Iteration: \t70 / 100\n",
      "Confirmed: \t14\n",
      "Tentative: \t2\n",
      "Rejected: \t11\n",
      "Iteration: \t71 / 100\n",
      "Confirmed: \t14\n",
      "Tentative: \t2\n",
      "Rejected: \t11\n",
      "Iteration: \t72 / 100\n",
      "Confirmed: \t14\n",
      "Tentative: \t2\n",
      "Rejected: \t11\n",
      "Iteration: \t73 / 100\n",
      "Confirmed: \t14\n",
      "Tentative: \t2\n",
      "Rejected: \t11\n",
      "Iteration: \t74 / 100\n",
      "Confirmed: \t14\n",
      "Tentative: \t2\n",
      "Rejected: \t11\n",
      "Iteration: \t75 / 100\n",
      "Confirmed: \t14\n",
      "Tentative: \t2\n",
      "Rejected: \t11\n",
      "Iteration: \t76 / 100\n",
      "Confirmed: \t14\n",
      "Tentative: \t2\n",
      "Rejected: \t11\n",
      "Iteration: \t77 / 100\n",
      "Confirmed: \t14\n",
      "Tentative: \t2\n",
      "Rejected: \t11\n",
      "Iteration: \t78 / 100\n",
      "Confirmed: \t14\n",
      "Tentative: \t2\n",
      "Rejected: \t11\n",
      "Iteration: \t79 / 100\n",
      "Confirmed: \t14\n",
      "Tentative: \t2\n",
      "Rejected: \t11\n",
      "Iteration: \t80 / 100\n",
      "Confirmed: \t14\n",
      "Tentative: \t2\n",
      "Rejected: \t11\n",
      "Iteration: \t81 / 100\n",
      "Confirmed: \t14\n",
      "Tentative: \t2\n",
      "Rejected: \t11\n",
      "Iteration: \t82 / 100\n",
      "Confirmed: \t14\n",
      "Tentative: \t2\n",
      "Rejected: \t11\n",
      "Iteration: \t83 / 100\n",
      "Confirmed: \t14\n",
      "Tentative: \t2\n",
      "Rejected: \t11\n",
      "Iteration: \t84 / 100\n",
      "Confirmed: \t14\n",
      "Tentative: \t2\n",
      "Rejected: \t11\n",
      "Iteration: \t85 / 100\n",
      "Confirmed: \t14\n",
      "Tentative: \t2\n",
      "Rejected: \t11\n",
      "Iteration: \t86 / 100\n",
      "Confirmed: \t14\n",
      "Tentative: \t2\n",
      "Rejected: \t11\n",
      "Iteration: \t87 / 100\n",
      "Confirmed: \t14\n",
      "Tentative: \t2\n",
      "Rejected: \t11\n",
      "Iteration: \t88 / 100\n",
      "Confirmed: \t14\n",
      "Tentative: \t2\n",
      "Rejected: \t11\n",
      "Iteration: \t89 / 100\n",
      "Confirmed: \t14\n",
      "Tentative: \t2\n",
      "Rejected: \t11\n",
      "Iteration: \t90 / 100\n",
      "Confirmed: \t14\n",
      "Tentative: \t2\n",
      "Rejected: \t11\n",
      "Iteration: \t91 / 100\n",
      "Confirmed: \t14\n",
      "Tentative: \t2\n",
      "Rejected: \t11\n",
      "Iteration: \t92 / 100\n",
      "Confirmed: \t14\n",
      "Tentative: \t2\n",
      "Rejected: \t11\n",
      "Iteration: \t93 / 100\n",
      "Confirmed: \t14\n",
      "Tentative: \t2\n",
      "Rejected: \t11\n",
      "Iteration: \t94 / 100\n",
      "Confirmed: \t14\n",
      "Tentative: \t2\n",
      "Rejected: \t11\n",
      "Iteration: \t95 / 100\n",
      "Confirmed: \t14\n",
      "Tentative: \t2\n",
      "Rejected: \t11\n",
      "Iteration: \t96 / 100\n",
      "Confirmed: \t14\n",
      "Tentative: \t2\n",
      "Rejected: \t11\n",
      "Iteration: \t97 / 100\n",
      "Confirmed: \t14\n",
      "Tentative: \t2\n",
      "Rejected: \t11\n",
      "Iteration: \t98 / 100\n",
      "Confirmed: \t14\n",
      "Tentative: \t2\n",
      "Rejected: \t11\n",
      "Iteration: \t99 / 100\n",
      "Confirmed: \t14\n",
      "Tentative: \t2\n",
      "Rejected: \t11\n",
      "\n",
      "\n",
      "BorutaPy finished running.\n",
      "\n",
      "Iteration: \t100 / 100\n",
      "Confirmed: \t14\n",
      "Tentative: \t1\n",
      "Rejected: \t11\n",
      "選択された特徴量の数: 14\n",
      "[False  True False False  True  True  True  True False False  True False\n",
      "  True False  True  True False  True False False  True False False False\n",
      "  True  True  True]\n",
      "Index(['under_O2', 'organocatalyst(mol%)', 'temp(℃)', 'time(h)', '598_R1-',\n",
      "       '3_organocatalyst', '232_organocatalyst', '380_organocatalyst',\n",
      "       '428_organocatalyst', '598_organocatalyst', '857_organocatalyst',\n",
      "       '1731_organocatalyst', '2017_organocatalyst', '2040_organocatalyst'],\n",
      "      dtype='object')\n",
      "Index(['under_O2', 'organocatalyst(mol%)', 'temp(℃)', 'time(h)', '598_R1-',\n",
      "       '3_organocatalyst', '232_organocatalyst', '380_organocatalyst',\n",
      "       '428_organocatalyst', '598_organocatalyst', '857_organocatalyst',\n",
      "       '1731_organocatalyst', '2017_organocatalyst', '2040_organocatalyst'],\n",
      "      dtype='object')\n",
      "maccs\n",
      "Iteration: \t1 / 100\n",
      "Confirmed: \t0\n",
      "Tentative: \t28\n",
      "Rejected: \t0\n",
      "Iteration: \t2 / 100\n",
      "Confirmed: \t0\n",
      "Tentative: \t28\n",
      "Rejected: \t0\n",
      "Iteration: \t3 / 100\n",
      "Confirmed: \t0\n",
      "Tentative: \t28\n",
      "Rejected: \t0\n",
      "Iteration: \t4 / 100\n",
      "Confirmed: \t0\n",
      "Tentative: \t28\n",
      "Rejected: \t0\n",
      "Iteration: \t5 / 100\n",
      "Confirmed: \t0\n",
      "Tentative: \t28\n",
      "Rejected: \t0\n",
      "Iteration: \t6 / 100\n",
      "Confirmed: \t0\n",
      "Tentative: \t28\n",
      "Rejected: \t0\n",
      "Iteration: \t7 / 100\n",
      "Confirmed: \t0\n",
      "Tentative: \t28\n",
      "Rejected: \t0\n",
      "Iteration: \t8 / 100\n",
      "Confirmed: \t12\n",
      "Tentative: \t5\n",
      "Rejected: \t11\n",
      "Iteration: \t9 / 100\n",
      "Confirmed: \t12\n",
      "Tentative: \t5\n",
      "Rejected: \t11\n",
      "Iteration: \t10 / 100\n",
      "Confirmed: \t12\n",
      "Tentative: \t5\n",
      "Rejected: \t11\n",
      "Iteration: \t11 / 100\n",
      "Confirmed: \t12\n",
      "Tentative: \t5\n",
      "Rejected: \t11\n",
      "Iteration: \t12 / 100\n",
      "Confirmed: \t13\n",
      "Tentative: \t4\n",
      "Rejected: \t11\n",
      "Iteration: \t13 / 100\n",
      "Confirmed: \t13\n",
      "Tentative: \t4\n",
      "Rejected: \t11\n",
      "Iteration: \t14 / 100\n",
      "Confirmed: \t13\n",
      "Tentative: \t4\n",
      "Rejected: \t11\n",
      "Iteration: \t15 / 100\n",
      "Confirmed: \t13\n",
      "Tentative: \t4\n",
      "Rejected: \t11\n",
      "Iteration: \t16 / 100\n",
      "Confirmed: \t13\n",
      "Tentative: \t4\n",
      "Rejected: \t11\n",
      "Iteration: \t17 / 100\n",
      "Confirmed: \t13\n",
      "Tentative: \t4\n",
      "Rejected: \t11\n",
      "Iteration: \t18 / 100\n",
      "Confirmed: \t13\n",
      "Tentative: \t4\n",
      "Rejected: \t11\n",
      "Iteration: \t19 / 100\n",
      "Confirmed: \t13\n",
      "Tentative: \t4\n",
      "Rejected: \t11\n",
      "Iteration: \t20 / 100\n",
      "Confirmed: \t13\n",
      "Tentative: \t4\n",
      "Rejected: \t11\n",
      "Iteration: \t21 / 100\n",
      "Confirmed: \t13\n",
      "Tentative: \t4\n",
      "Rejected: \t11\n",
      "Iteration: \t22 / 100\n",
      "Confirmed: \t13\n",
      "Tentative: \t4\n",
      "Rejected: \t11\n",
      "Iteration: \t23 / 100\n",
      "Confirmed: \t13\n",
      "Tentative: \t4\n",
      "Rejected: \t11\n",
      "Iteration: \t24 / 100\n",
      "Confirmed: \t13\n",
      "Tentative: \t4\n",
      "Rejected: \t11\n",
      "Iteration: \t25 / 100\n",
      "Confirmed: \t13\n",
      "Tentative: \t4\n",
      "Rejected: \t11\n",
      "Iteration: \t26 / 100\n",
      "Confirmed: \t13\n",
      "Tentative: \t4\n",
      "Rejected: \t11\n",
      "Iteration: \t27 / 100\n",
      "Confirmed: \t13\n",
      "Tentative: \t4\n",
      "Rejected: \t11\n",
      "Iteration: \t28 / 100\n",
      "Confirmed: \t13\n",
      "Tentative: \t4\n",
      "Rejected: \t11\n",
      "Iteration: \t29 / 100\n",
      "Confirmed: \t13\n",
      "Tentative: \t3\n",
      "Rejected: \t12\n",
      "Iteration: \t30 / 100\n",
      "Confirmed: \t13\n",
      "Tentative: \t3\n",
      "Rejected: \t12\n",
      "Iteration: \t31 / 100\n",
      "Confirmed: \t13\n",
      "Tentative: \t3\n",
      "Rejected: \t12\n",
      "Iteration: \t32 / 100\n",
      "Confirmed: \t13\n",
      "Tentative: \t3\n",
      "Rejected: \t12\n",
      "Iteration: \t33 / 100\n",
      "Confirmed: \t13\n",
      "Tentative: \t3\n",
      "Rejected: \t12\n",
      "Iteration: \t34 / 100\n",
      "Confirmed: \t13\n",
      "Tentative: \t3\n",
      "Rejected: \t12\n",
      "Iteration: \t35 / 100\n",
      "Confirmed: \t13\n",
      "Tentative: \t3\n",
      "Rejected: \t12\n",
      "Iteration: \t36 / 100\n",
      "Confirmed: \t13\n",
      "Tentative: \t3\n",
      "Rejected: \t12\n",
      "Iteration: \t37 / 100\n",
      "Confirmed: \t13\n",
      "Tentative: \t3\n",
      "Rejected: \t12\n",
      "Iteration: \t38 / 100\n",
      "Confirmed: \t13\n",
      "Tentative: \t3\n",
      "Rejected: \t12\n",
      "Iteration: \t39 / 100\n",
      "Confirmed: \t13\n",
      "Tentative: \t3\n",
      "Rejected: \t12\n",
      "Iteration: \t40 / 100\n",
      "Confirmed: \t13\n",
      "Tentative: \t3\n",
      "Rejected: \t12\n",
      "Iteration: \t41 / 100\n",
      "Confirmed: \t13\n",
      "Tentative: \t3\n",
      "Rejected: \t12\n",
      "Iteration: \t42 / 100\n",
      "Confirmed: \t13\n",
      "Tentative: \t3\n",
      "Rejected: \t12\n",
      "Iteration: \t43 / 100\n",
      "Confirmed: \t13\n",
      "Tentative: \t3\n",
      "Rejected: \t12\n",
      "Iteration: \t44 / 100\n",
      "Confirmed: \t13\n",
      "Tentative: \t3\n",
      "Rejected: \t12\n",
      "Iteration: \t45 / 100\n",
      "Confirmed: \t13\n",
      "Tentative: \t3\n",
      "Rejected: \t12\n",
      "Iteration: \t46 / 100\n",
      "Confirmed: \t13\n",
      "Tentative: \t3\n",
      "Rejected: \t12\n",
      "Iteration: \t47 / 100\n",
      "Confirmed: \t13\n",
      "Tentative: \t3\n",
      "Rejected: \t12\n",
      "Iteration: \t48 / 100\n",
      "Confirmed: \t13\n",
      "Tentative: \t3\n",
      "Rejected: \t12\n",
      "Iteration: \t49 / 100\n",
      "Confirmed: \t13\n",
      "Tentative: \t3\n",
      "Rejected: \t12\n",
      "Iteration: \t50 / 100\n",
      "Confirmed: \t13\n",
      "Tentative: \t3\n",
      "Rejected: \t12\n",
      "Iteration: \t51 / 100\n",
      "Confirmed: \t13\n",
      "Tentative: \t3\n",
      "Rejected: \t12\n",
      "Iteration: \t52 / 100\n",
      "Confirmed: \t13\n",
      "Tentative: \t3\n",
      "Rejected: \t12\n",
      "Iteration: \t53 / 100\n",
      "Confirmed: \t13\n",
      "Tentative: \t3\n",
      "Rejected: \t12\n",
      "Iteration: \t54 / 100\n",
      "Confirmed: \t13\n",
      "Tentative: \t3\n",
      "Rejected: \t12\n",
      "Iteration: \t55 / 100\n",
      "Confirmed: \t13\n",
      "Tentative: \t3\n",
      "Rejected: \t12\n",
      "Iteration: \t56 / 100\n",
      "Confirmed: \t13\n",
      "Tentative: \t3\n",
      "Rejected: \t12\n",
      "Iteration: \t57 / 100\n",
      "Confirmed: \t13\n",
      "Tentative: \t3\n",
      "Rejected: \t12\n",
      "Iteration: \t58 / 100\n",
      "Confirmed: \t13\n",
      "Tentative: \t3\n",
      "Rejected: \t12\n",
      "Iteration: \t59 / 100\n",
      "Confirmed: \t13\n",
      "Tentative: \t3\n",
      "Rejected: \t12\n",
      "Iteration: \t60 / 100\n",
      "Confirmed: \t13\n",
      "Tentative: \t3\n",
      "Rejected: \t12\n",
      "Iteration: \t61 / 100\n",
      "Confirmed: \t13\n",
      "Tentative: \t3\n",
      "Rejected: \t12\n",
      "Iteration: \t62 / 100\n",
      "Confirmed: \t13\n",
      "Tentative: \t3\n",
      "Rejected: \t12\n",
      "Iteration: \t63 / 100\n",
      "Confirmed: \t13\n",
      "Tentative: \t3\n",
      "Rejected: \t12\n",
      "Iteration: \t64 / 100\n",
      "Confirmed: \t13\n",
      "Tentative: \t3\n",
      "Rejected: \t12\n",
      "Iteration: \t65 / 100\n",
      "Confirmed: \t13\n",
      "Tentative: \t3\n",
      "Rejected: \t12\n",
      "Iteration: \t66 / 100\n",
      "Confirmed: \t13\n",
      "Tentative: \t3\n",
      "Rejected: \t12\n",
      "Iteration: \t67 / 100\n",
      "Confirmed: \t13\n",
      "Tentative: \t3\n",
      "Rejected: \t12\n",
      "Iteration: \t68 / 100\n",
      "Confirmed: \t13\n",
      "Tentative: \t3\n",
      "Rejected: \t12\n",
      "Iteration: \t69 / 100\n",
      "Confirmed: \t13\n",
      "Tentative: \t3\n",
      "Rejected: \t12\n",
      "Iteration: \t70 / 100\n",
      "Confirmed: \t13\n",
      "Tentative: \t3\n",
      "Rejected: \t12\n",
      "Iteration: \t71 / 100\n",
      "Confirmed: \t13\n",
      "Tentative: \t3\n",
      "Rejected: \t12\n",
      "Iteration: \t72 / 100\n",
      "Confirmed: \t13\n",
      "Tentative: \t3\n",
      "Rejected: \t12\n",
      "Iteration: \t73 / 100\n",
      "Confirmed: \t13\n",
      "Tentative: \t3\n",
      "Rejected: \t12\n",
      "Iteration: \t74 / 100\n",
      "Confirmed: \t13\n",
      "Tentative: \t3\n",
      "Rejected: \t12\n",
      "Iteration: \t75 / 100\n",
      "Confirmed: \t13\n",
      "Tentative: \t3\n",
      "Rejected: \t12\n",
      "Iteration: \t76 / 100\n",
      "Confirmed: \t13\n",
      "Tentative: \t3\n",
      "Rejected: \t12\n",
      "Iteration: \t77 / 100\n",
      "Confirmed: \t13\n",
      "Tentative: \t3\n",
      "Rejected: \t12\n",
      "Iteration: \t78 / 100\n",
      "Confirmed: \t13\n",
      "Tentative: \t3\n",
      "Rejected: \t12\n",
      "Iteration: \t79 / 100\n",
      "Confirmed: \t13\n",
      "Tentative: \t3\n",
      "Rejected: \t12\n",
      "Iteration: \t80 / 100\n",
      "Confirmed: \t13\n",
      "Tentative: \t3\n",
      "Rejected: \t12\n",
      "Iteration: \t81 / 100\n",
      "Confirmed: \t13\n",
      "Tentative: \t3\n",
      "Rejected: \t12\n",
      "Iteration: \t82 / 100\n",
      "Confirmed: \t13\n",
      "Tentative: \t3\n",
      "Rejected: \t12\n",
      "Iteration: \t83 / 100\n",
      "Confirmed: \t13\n",
      "Tentative: \t3\n",
      "Rejected: \t12\n",
      "Iteration: \t84 / 100\n",
      "Confirmed: \t13\n",
      "Tentative: \t3\n",
      "Rejected: \t12\n",
      "Iteration: \t85 / 100\n",
      "Confirmed: \t13\n",
      "Tentative: \t3\n",
      "Rejected: \t12\n",
      "Iteration: \t86 / 100\n",
      "Confirmed: \t13\n",
      "Tentative: \t3\n",
      "Rejected: \t12\n",
      "Iteration: \t87 / 100\n",
      "Confirmed: \t13\n",
      "Tentative: \t3\n",
      "Rejected: \t12\n",
      "Iteration: \t88 / 100\n",
      "Confirmed: \t13\n",
      "Tentative: \t3\n",
      "Rejected: \t12\n",
      "Iteration: \t89 / 100\n",
      "Confirmed: \t13\n",
      "Tentative: \t3\n",
      "Rejected: \t12\n",
      "Iteration: \t90 / 100\n",
      "Confirmed: \t13\n",
      "Tentative: \t3\n",
      "Rejected: \t12\n",
      "Iteration: \t91 / 100\n",
      "Confirmed: \t13\n",
      "Tentative: \t3\n",
      "Rejected: \t12\n",
      "Iteration: \t92 / 100\n",
      "Confirmed: \t13\n",
      "Tentative: \t3\n",
      "Rejected: \t12\n",
      "Iteration: \t93 / 100\n",
      "Confirmed: \t13\n",
      "Tentative: \t3\n",
      "Rejected: \t12\n",
      "Iteration: \t94 / 100\n",
      "Confirmed: \t13\n",
      "Tentative: \t3\n",
      "Rejected: \t12\n",
      "Iteration: \t95 / 100\n",
      "Confirmed: \t13\n",
      "Tentative: \t3\n",
      "Rejected: \t12\n",
      "Iteration: \t96 / 100\n",
      "Confirmed: \t13\n",
      "Tentative: \t3\n",
      "Rejected: \t12\n",
      "Iteration: \t97 / 100\n",
      "Confirmed: \t13\n",
      "Tentative: \t3\n",
      "Rejected: \t12\n",
      "Iteration: \t98 / 100\n",
      "Confirmed: \t13\n",
      "Tentative: \t3\n",
      "Rejected: \t12\n",
      "Iteration: \t99 / 100\n",
      "Confirmed: \t13\n",
      "Tentative: \t3\n",
      "Rejected: \t12\n",
      "\n",
      "\n",
      "BorutaPy finished running.\n",
      "\n",
      "Iteration: \t100 / 100\n",
      "Confirmed: \t13\n",
      "Tentative: \t2\n",
      "Rejected: \t12\n",
      "選択された特徴量の数: 13\n",
      "[False False False False  True  True  True False  True False False  True\n",
      "  True  True False False False False False False False  True  True  True\n",
      "  True  True False  True]\n",
      "Index(['organocatalyst(mol%)', 'temp(℃)', 'time(h)', '160_R1-',\n",
      "       '53_organocatalyst', '72_organocatalyst', '89_organocatalyst',\n",
      "       '140_organocatalyst', '144_organocatalyst', '146_organocatalyst',\n",
      "       '149_organocatalyst', '157_organocatalyst', '162_organocatalyst'],\n",
      "      dtype='object')\n",
      "Index(['organocatalyst(mol%)', 'temp(℃)', 'time(h)', '160_R1-',\n",
      "       '53_organocatalyst', '72_organocatalyst', '89_organocatalyst',\n",
      "       '140_organocatalyst', '144_organocatalyst', '146_organocatalyst',\n",
      "       '149_organocatalyst', '157_organocatalyst', '162_organocatalyst'],\n",
      "      dtype='object')\n",
      "rdkit\n",
      "Iteration: \t1 / 100\n",
      "Confirmed: \t0\n",
      "Tentative: \t229\n",
      "Rejected: \t0\n",
      "Iteration: \t2 / 100\n",
      "Confirmed: \t0\n",
      "Tentative: \t229\n",
      "Rejected: \t0\n",
      "Iteration: \t3 / 100\n",
      "Confirmed: \t0\n",
      "Tentative: \t229\n",
      "Rejected: \t0\n",
      "Iteration: \t4 / 100\n",
      "Confirmed: \t0\n",
      "Tentative: \t229\n",
      "Rejected: \t0\n",
      "Iteration: \t5 / 100\n",
      "Confirmed: \t0\n",
      "Tentative: \t229\n",
      "Rejected: \t0\n",
      "Iteration: \t6 / 100\n",
      "Confirmed: \t0\n",
      "Tentative: \t229\n",
      "Rejected: \t0\n",
      "Iteration: \t7 / 100\n",
      "Confirmed: \t0\n",
      "Tentative: \t229\n",
      "Rejected: \t0\n",
      "Iteration: \t8 / 100\n",
      "Confirmed: \t24\n",
      "Tentative: \t62\n",
      "Rejected: \t143\n",
      "Iteration: \t9 / 100\n",
      "Confirmed: \t24\n",
      "Tentative: \t62\n",
      "Rejected: \t143\n",
      "Iteration: \t10 / 100\n",
      "Confirmed: \t24\n",
      "Tentative: \t62\n",
      "Rejected: \t143\n",
      "Iteration: \t11 / 100\n",
      "Confirmed: \t24\n",
      "Tentative: \t62\n",
      "Rejected: \t143\n",
      "Iteration: \t12 / 100\n",
      "Confirmed: \t25\n",
      "Tentative: \t46\n",
      "Rejected: \t158\n",
      "Iteration: \t13 / 100\n",
      "Confirmed: \t25\n",
      "Tentative: \t46\n",
      "Rejected: \t158\n",
      "Iteration: \t14 / 100\n",
      "Confirmed: \t25\n",
      "Tentative: \t46\n",
      "Rejected: \t158\n",
      "Iteration: \t15 / 100\n",
      "Confirmed: \t25\n",
      "Tentative: \t46\n",
      "Rejected: \t158\n",
      "Iteration: \t16 / 100\n",
      "Confirmed: \t25\n",
      "Tentative: \t40\n",
      "Rejected: \t164\n",
      "Iteration: \t17 / 100\n",
      "Confirmed: \t25\n",
      "Tentative: \t40\n",
      "Rejected: \t164\n",
      "Iteration: \t18 / 100\n",
      "Confirmed: \t25\n",
      "Tentative: \t40\n",
      "Rejected: \t164\n",
      "Iteration: \t19 / 100\n",
      "Confirmed: \t25\n",
      "Tentative: \t37\n",
      "Rejected: \t167\n",
      "Iteration: \t20 / 100\n",
      "Confirmed: \t25\n",
      "Tentative: \t37\n",
      "Rejected: \t167\n",
      "Iteration: \t21 / 100\n",
      "Confirmed: \t25\n",
      "Tentative: \t37\n",
      "Rejected: \t167\n",
      "Iteration: \t22 / 100\n",
      "Confirmed: \t25\n",
      "Tentative: \t34\n",
      "Rejected: \t170\n",
      "Iteration: \t23 / 100\n",
      "Confirmed: \t25\n",
      "Tentative: \t34\n",
      "Rejected: \t170\n",
      "Iteration: \t24 / 100\n",
      "Confirmed: \t25\n",
      "Tentative: \t34\n",
      "Rejected: \t170\n",
      "Iteration: \t25 / 100\n",
      "Confirmed: \t25\n",
      "Tentative: \t34\n",
      "Rejected: \t170\n",
      "Iteration: \t26 / 100\n",
      "Confirmed: \t25\n",
      "Tentative: \t29\n",
      "Rejected: \t175\n",
      "Iteration: \t27 / 100\n",
      "Confirmed: \t25\n",
      "Tentative: \t29\n",
      "Rejected: \t175\n",
      "Iteration: \t28 / 100\n",
      "Confirmed: \t25\n",
      "Tentative: \t29\n",
      "Rejected: \t175\n",
      "Iteration: \t29 / 100\n",
      "Confirmed: \t26\n",
      "Tentative: \t28\n",
      "Rejected: \t175\n",
      "Iteration: \t30 / 100\n",
      "Confirmed: \t26\n",
      "Tentative: \t28\n",
      "Rejected: \t175\n",
      "Iteration: \t31 / 100\n",
      "Confirmed: \t26\n",
      "Tentative: \t28\n",
      "Rejected: \t175\n",
      "Iteration: \t32 / 100\n",
      "Confirmed: \t26\n",
      "Tentative: \t25\n",
      "Rejected: \t178\n",
      "Iteration: \t33 / 100\n",
      "Confirmed: \t26\n",
      "Tentative: \t25\n",
      "Rejected: \t178\n",
      "Iteration: \t34 / 100\n",
      "Confirmed: \t26\n",
      "Tentative: \t23\n",
      "Rejected: \t180\n",
      "Iteration: \t35 / 100\n",
      "Confirmed: \t26\n",
      "Tentative: \t23\n",
      "Rejected: \t180\n",
      "Iteration: \t36 / 100\n",
      "Confirmed: \t26\n",
      "Tentative: \t23\n",
      "Rejected: \t180\n",
      "Iteration: \t37 / 100\n",
      "Confirmed: \t26\n",
      "Tentative: \t23\n",
      "Rejected: \t180\n",
      "Iteration: \t38 / 100\n",
      "Confirmed: \t26\n",
      "Tentative: \t22\n",
      "Rejected: \t181\n",
      "Iteration: \t39 / 100\n",
      "Confirmed: \t26\n",
      "Tentative: \t22\n",
      "Rejected: \t181\n",
      "Iteration: \t40 / 100\n",
      "Confirmed: \t26\n",
      "Tentative: \t22\n",
      "Rejected: \t181\n",
      "Iteration: \t41 / 100\n",
      "Confirmed: \t26\n",
      "Tentative: \t21\n",
      "Rejected: \t182\n",
      "Iteration: \t42 / 100\n",
      "Confirmed: \t26\n",
      "Tentative: \t21\n",
      "Rejected: \t182\n",
      "Iteration: \t43 / 100\n",
      "Confirmed: \t26\n",
      "Tentative: \t21\n",
      "Rejected: \t182\n",
      "Iteration: \t44 / 100\n",
      "Confirmed: \t26\n",
      "Tentative: \t21\n",
      "Rejected: \t182\n",
      "Iteration: \t45 / 100\n",
      "Confirmed: \t26\n",
      "Tentative: \t21\n",
      "Rejected: \t182\n",
      "Iteration: \t46 / 100\n",
      "Confirmed: \t26\n",
      "Tentative: \t21\n",
      "Rejected: \t182\n",
      "Iteration: \t47 / 100\n",
      "Confirmed: \t26\n",
      "Tentative: \t21\n",
      "Rejected: \t182\n",
      "Iteration: \t48 / 100\n",
      "Confirmed: \t26\n",
      "Tentative: \t21\n",
      "Rejected: \t182\n",
      "Iteration: \t49 / 100\n",
      "Confirmed: \t26\n",
      "Tentative: \t19\n",
      "Rejected: \t184\n",
      "Iteration: \t50 / 100\n",
      "Confirmed: \t26\n",
      "Tentative: \t19\n",
      "Rejected: \t184\n",
      "Iteration: \t51 / 100\n",
      "Confirmed: \t26\n",
      "Tentative: \t18\n",
      "Rejected: \t185\n",
      "Iteration: \t52 / 100\n",
      "Confirmed: \t26\n",
      "Tentative: \t18\n",
      "Rejected: \t185\n",
      "Iteration: \t53 / 100\n",
      "Confirmed: \t26\n",
      "Tentative: \t18\n",
      "Rejected: \t185\n",
      "Iteration: \t54 / 100\n",
      "Confirmed: \t27\n",
      "Tentative: \t15\n",
      "Rejected: \t187\n",
      "Iteration: \t55 / 100\n",
      "Confirmed: \t27\n",
      "Tentative: \t15\n",
      "Rejected: \t187\n",
      "Iteration: \t56 / 100\n",
      "Confirmed: \t27\n",
      "Tentative: \t15\n",
      "Rejected: \t187\n",
      "Iteration: \t57 / 100\n",
      "Confirmed: \t27\n",
      "Tentative: \t14\n",
      "Rejected: \t188\n",
      "Iteration: \t58 / 100\n",
      "Confirmed: \t27\n",
      "Tentative: \t14\n",
      "Rejected: \t188\n",
      "Iteration: \t59 / 100\n",
      "Confirmed: \t27\n",
      "Tentative: \t14\n",
      "Rejected: \t188\n",
      "Iteration: \t60 / 100\n",
      "Confirmed: \t27\n",
      "Tentative: \t14\n",
      "Rejected: \t188\n",
      "Iteration: \t61 / 100\n",
      "Confirmed: \t27\n",
      "Tentative: \t14\n",
      "Rejected: \t188\n",
      "Iteration: \t62 / 100\n",
      "Confirmed: \t27\n",
      "Tentative: \t14\n",
      "Rejected: \t188\n",
      "Iteration: \t63 / 100\n",
      "Confirmed: \t27\n",
      "Tentative: \t14\n",
      "Rejected: \t188\n",
      "Iteration: \t64 / 100\n",
      "Confirmed: \t27\n",
      "Tentative: \t14\n",
      "Rejected: \t188\n",
      "Iteration: \t65 / 100\n",
      "Confirmed: \t27\n",
      "Tentative: \t14\n",
      "Rejected: \t188\n",
      "Iteration: \t66 / 100\n",
      "Confirmed: \t27\n",
      "Tentative: \t14\n",
      "Rejected: \t188\n",
      "Iteration: \t67 / 100\n",
      "Confirmed: \t27\n",
      "Tentative: \t13\n",
      "Rejected: \t189\n",
      "Iteration: \t68 / 100\n",
      "Confirmed: \t27\n",
      "Tentative: \t13\n",
      "Rejected: \t189\n",
      "Iteration: \t69 / 100\n",
      "Confirmed: \t27\n",
      "Tentative: \t13\n",
      "Rejected: \t189\n",
      "Iteration: \t70 / 100\n",
      "Confirmed: \t27\n",
      "Tentative: \t12\n",
      "Rejected: \t190\n",
      "Iteration: \t71 / 100\n",
      "Confirmed: \t27\n",
      "Tentative: \t12\n",
      "Rejected: \t190\n",
      "Iteration: \t72 / 100\n",
      "Confirmed: \t27\n",
      "Tentative: \t12\n",
      "Rejected: \t190\n",
      "Iteration: \t73 / 100\n",
      "Confirmed: \t27\n",
      "Tentative: \t12\n",
      "Rejected: \t190\n",
      "Iteration: \t74 / 100\n",
      "Confirmed: \t27\n",
      "Tentative: \t12\n",
      "Rejected: \t190\n",
      "Iteration: \t75 / 100\n",
      "Confirmed: \t28\n",
      "Tentative: \t11\n",
      "Rejected: \t190\n",
      "Iteration: \t76 / 100\n",
      "Confirmed: \t28\n",
      "Tentative: \t11\n",
      "Rejected: \t190\n",
      "Iteration: \t77 / 100\n",
      "Confirmed: \t28\n",
      "Tentative: \t11\n",
      "Rejected: \t190\n",
      "Iteration: \t78 / 100\n",
      "Confirmed: \t28\n",
      "Tentative: \t11\n",
      "Rejected: \t190\n",
      "Iteration: \t79 / 100\n",
      "Confirmed: \t28\n",
      "Tentative: \t11\n",
      "Rejected: \t190\n",
      "Iteration: \t80 / 100\n",
      "Confirmed: \t28\n",
      "Tentative: \t11\n",
      "Rejected: \t190\n",
      "Iteration: \t81 / 100\n",
      "Confirmed: \t28\n",
      "Tentative: \t11\n",
      "Rejected: \t190\n",
      "Iteration: \t82 / 100\n",
      "Confirmed: \t28\n",
      "Tentative: \t11\n",
      "Rejected: \t190\n",
      "Iteration: \t83 / 100\n",
      "Confirmed: \t28\n",
      "Tentative: \t11\n",
      "Rejected: \t190\n",
      "Iteration: \t84 / 100\n",
      "Confirmed: \t28\n",
      "Tentative: \t11\n",
      "Rejected: \t190\n",
      "Iteration: \t85 / 100\n",
      "Confirmed: \t28\n",
      "Tentative: \t11\n",
      "Rejected: \t190\n",
      "Iteration: \t86 / 100\n",
      "Confirmed: \t28\n",
      "Tentative: \t11\n",
      "Rejected: \t190\n",
      "Iteration: \t87 / 100\n",
      "Confirmed: \t28\n",
      "Tentative: \t11\n",
      "Rejected: \t190\n",
      "Iteration: \t88 / 100\n",
      "Confirmed: \t28\n",
      "Tentative: \t11\n",
      "Rejected: \t190\n",
      "Iteration: \t89 / 100\n",
      "Confirmed: \t28\n",
      "Tentative: \t11\n",
      "Rejected: \t190\n",
      "Iteration: \t90 / 100\n",
      "Confirmed: \t28\n",
      "Tentative: \t11\n",
      "Rejected: \t190\n",
      "Iteration: \t91 / 100\n",
      "Confirmed: \t28\n",
      "Tentative: \t11\n",
      "Rejected: \t190\n",
      "Iteration: \t92 / 100\n",
      "Confirmed: \t28\n",
      "Tentative: \t11\n",
      "Rejected: \t190\n",
      "Iteration: \t93 / 100\n",
      "Confirmed: \t28\n",
      "Tentative: \t11\n",
      "Rejected: \t190\n",
      "Iteration: \t94 / 100\n",
      "Confirmed: \t28\n",
      "Tentative: \t11\n",
      "Rejected: \t190\n",
      "Iteration: \t95 / 100\n",
      "Confirmed: \t28\n",
      "Tentative: \t11\n",
      "Rejected: \t190\n",
      "Iteration: \t96 / 100\n",
      "Confirmed: \t28\n",
      "Tentative: \t11\n",
      "Rejected: \t190\n",
      "Iteration: \t97 / 100\n",
      "Confirmed: \t28\n",
      "Tentative: \t11\n",
      "Rejected: \t190\n",
      "Iteration: \t98 / 100\n",
      "Confirmed: \t28\n",
      "Tentative: \t11\n",
      "Rejected: \t190\n",
      "Iteration: \t99 / 100\n",
      "Confirmed: \t28\n",
      "Tentative: \t11\n",
      "Rejected: \t190\n",
      "\n",
      "\n",
      "BorutaPy finished running.\n",
      "\n",
      "Iteration: \t100 / 100\n",
      "Confirmed: \t28\n",
      "Tentative: \t3\n",
      "Rejected: \t190\n",
      "選択された特徴量の数: 28\n",
      "[False False False False  True  True  True False False False  True False\n",
      "  True False False False False False False False False False False False\n",
      " False  True False False False  True False False False  True False False\n",
      " False False False  True False False False False False False False False\n",
      " False False  True False False False False False False False False False\n",
      " False  True False False False False False False False False False False\n",
      " False False False  True False False  True False False  True False False\n",
      " False False False False False False False  True False False False False\n",
      " False False False False False False False False  True False False False\n",
      " False False  True False False False False False False False False False\n",
      " False False False False False False False False False  True False False\n",
      " False False False  True  True  True False False False False False False\n",
      " False  True False False False False  True False False False False False\n",
      " False False  True False False False False False False False False False\n",
      " False False False False False False False False False False False False\n",
      " False False False False False False False False False False False False\n",
      " False False False False False False False False False False False False\n",
      " False False False  True False False False False False False False False\n",
      " False  True  True False False False False False  True False False False\n",
      " False]\n",
      "Index(['organocatalyst(mol%)', 'temp(℃)', 'time(h)', '704_R1-', '1013_R1-',\n",
      "       '35_organocatalyst', '51_organocatalyst', '120_organocatalyst',\n",
      "       '173_organocatalyst', '281_organocatalyst', '413_organocatalyst',\n",
      "       '527_organocatalyst', '579_organocatalyst', '599_organocatalyst',\n",
      "       '728_organocatalyst', '863_organocatalyst', '905_organocatalyst',\n",
      "       '1076_organocatalyst', '1128_organocatalyst', '1138_organocatalyst',\n",
      "       '1144_organocatalyst', '1196_organocatalyst', '1234_organocatalyst',\n",
      "       '1307_organocatalyst', '1763_organocatalyst', '1902_organocatalyst',\n",
      "       '1911_organocatalyst', '1993_organocatalyst'],\n",
      "      dtype='object')\n",
      "Index(['organocatalyst(mol%)', 'temp(℃)', 'time(h)', '704_R1-', '1013_R1-',\n",
      "       '35_organocatalyst', '51_organocatalyst', '120_organocatalyst',\n",
      "       '173_organocatalyst', '281_organocatalyst', '413_organocatalyst',\n",
      "       '527_organocatalyst', '579_organocatalyst', '599_organocatalyst',\n",
      "       '728_organocatalyst', '863_organocatalyst', '905_organocatalyst',\n",
      "       '1076_organocatalyst', '1128_organocatalyst', '1138_organocatalyst',\n",
      "       '1144_organocatalyst', '1196_organocatalyst', '1234_organocatalyst',\n",
      "       '1307_organocatalyst', '1763_organocatalyst', '1902_organocatalyst',\n",
      "       '1911_organocatalyst', '1993_organocatalyst'],\n",
      "      dtype='object')\n",
      "avalon\n",
      "Iteration: \t1 / 100\n",
      "Confirmed: \t0\n",
      "Tentative: \t68\n",
      "Rejected: \t0\n",
      "Iteration: \t2 / 100\n",
      "Confirmed: \t0\n",
      "Tentative: \t68\n",
      "Rejected: \t0\n",
      "Iteration: \t3 / 100\n",
      "Confirmed: \t0\n",
      "Tentative: \t68\n",
      "Rejected: \t0\n",
      "Iteration: \t4 / 100\n",
      "Confirmed: \t0\n",
      "Tentative: \t68\n",
      "Rejected: \t0\n",
      "Iteration: \t5 / 100\n",
      "Confirmed: \t0\n",
      "Tentative: \t68\n",
      "Rejected: \t0\n",
      "Iteration: \t6 / 100\n",
      "Confirmed: \t0\n",
      "Tentative: \t68\n",
      "Rejected: \t0\n",
      "Iteration: \t7 / 100\n",
      "Confirmed: \t0\n",
      "Tentative: \t68\n",
      "Rejected: \t0\n",
      "Iteration: \t8 / 100\n",
      "Confirmed: \t19\n",
      "Tentative: \t13\n",
      "Rejected: \t36\n",
      "Iteration: \t9 / 100\n",
      "Confirmed: \t19\n",
      "Tentative: \t13\n",
      "Rejected: \t36\n",
      "Iteration: \t10 / 100\n",
      "Confirmed: \t19\n",
      "Tentative: \t13\n",
      "Rejected: \t36\n",
      "Iteration: \t11 / 100\n",
      "Confirmed: \t19\n",
      "Tentative: \t13\n",
      "Rejected: \t36\n",
      "Iteration: \t12 / 100\n",
      "Confirmed: \t19\n",
      "Tentative: \t9\n",
      "Rejected: \t40\n",
      "Iteration: \t13 / 100\n",
      "Confirmed: \t19\n",
      "Tentative: \t9\n",
      "Rejected: \t40\n",
      "Iteration: \t14 / 100\n",
      "Confirmed: \t19\n",
      "Tentative: \t9\n",
      "Rejected: \t40\n",
      "Iteration: \t15 / 100\n",
      "Confirmed: \t19\n",
      "Tentative: \t9\n",
      "Rejected: \t40\n",
      "Iteration: \t16 / 100\n",
      "Confirmed: \t19\n",
      "Tentative: \t7\n",
      "Rejected: \t42\n",
      "Iteration: \t17 / 100\n",
      "Confirmed: \t19\n",
      "Tentative: \t7\n",
      "Rejected: \t42\n",
      "Iteration: \t18 / 100\n",
      "Confirmed: \t19\n",
      "Tentative: \t7\n",
      "Rejected: \t42\n",
      "Iteration: \t19 / 100\n",
      "Confirmed: \t19\n",
      "Tentative: \t7\n",
      "Rejected: \t42\n",
      "Iteration: \t20 / 100\n",
      "Confirmed: \t19\n",
      "Tentative: \t6\n",
      "Rejected: \t43\n",
      "Iteration: \t21 / 100\n",
      "Confirmed: \t19\n",
      "Tentative: \t6\n",
      "Rejected: \t43\n",
      "Iteration: \t22 / 100\n",
      "Confirmed: \t19\n",
      "Tentative: \t6\n",
      "Rejected: \t43\n",
      "Iteration: \t23 / 100\n",
      "Confirmed: \t19\n",
      "Tentative: \t6\n",
      "Rejected: \t43\n",
      "Iteration: \t24 / 100\n",
      "Confirmed: \t19\n",
      "Tentative: \t6\n",
      "Rejected: \t43\n",
      "Iteration: \t25 / 100\n",
      "Confirmed: \t19\n",
      "Tentative: \t6\n",
      "Rejected: \t43\n",
      "Iteration: \t26 / 100\n",
      "Confirmed: \t19\n",
      "Tentative: \t6\n",
      "Rejected: \t43\n",
      "Iteration: \t27 / 100\n",
      "Confirmed: \t19\n",
      "Tentative: \t6\n",
      "Rejected: \t43\n",
      "Iteration: \t28 / 100\n",
      "Confirmed: \t19\n",
      "Tentative: \t6\n",
      "Rejected: \t43\n",
      "Iteration: \t29 / 100\n",
      "Confirmed: \t19\n",
      "Tentative: \t6\n",
      "Rejected: \t43\n",
      "Iteration: \t30 / 100\n",
      "Confirmed: \t19\n",
      "Tentative: \t6\n",
      "Rejected: \t43\n",
      "Iteration: \t31 / 100\n",
      "Confirmed: \t19\n",
      "Tentative: \t6\n",
      "Rejected: \t43\n",
      "Iteration: \t32 / 100\n",
      "Confirmed: \t19\n",
      "Tentative: \t6\n",
      "Rejected: \t43\n",
      "Iteration: \t33 / 100\n",
      "Confirmed: \t19\n",
      "Tentative: \t6\n",
      "Rejected: \t43\n",
      "Iteration: \t34 / 100\n",
      "Confirmed: \t19\n",
      "Tentative: \t6\n",
      "Rejected: \t43\n",
      "Iteration: \t35 / 100\n",
      "Confirmed: \t19\n",
      "Tentative: \t6\n",
      "Rejected: \t43\n",
      "Iteration: \t36 / 100\n",
      "Confirmed: \t19\n",
      "Tentative: \t6\n",
      "Rejected: \t43\n",
      "Iteration: \t37 / 100\n",
      "Confirmed: \t19\n",
      "Tentative: \t6\n",
      "Rejected: \t43\n",
      "Iteration: \t38 / 100\n",
      "Confirmed: \t19\n",
      "Tentative: \t6\n",
      "Rejected: \t43\n",
      "Iteration: \t39 / 100\n",
      "Confirmed: \t19\n",
      "Tentative: \t6\n",
      "Rejected: \t43\n",
      "Iteration: \t40 / 100\n",
      "Confirmed: \t20\n",
      "Tentative: \t5\n",
      "Rejected: \t43\n",
      "Iteration: \t41 / 100\n",
      "Confirmed: \t20\n",
      "Tentative: \t5\n",
      "Rejected: \t43\n",
      "Iteration: \t42 / 100\n",
      "Confirmed: \t20\n",
      "Tentative: \t5\n",
      "Rejected: \t43\n",
      "Iteration: \t43 / 100\n",
      "Confirmed: \t20\n",
      "Tentative: \t5\n",
      "Rejected: \t43\n",
      "Iteration: \t44 / 100\n",
      "Confirmed: \t20\n",
      "Tentative: \t5\n",
      "Rejected: \t43\n",
      "Iteration: \t45 / 100\n",
      "Confirmed: \t20\n",
      "Tentative: \t5\n",
      "Rejected: \t43\n",
      "Iteration: \t46 / 100\n",
      "Confirmed: \t20\n",
      "Tentative: \t5\n",
      "Rejected: \t43\n",
      "Iteration: \t47 / 100\n",
      "Confirmed: \t20\n",
      "Tentative: \t5\n",
      "Rejected: \t43\n",
      "Iteration: \t48 / 100\n",
      "Confirmed: \t20\n",
      "Tentative: \t5\n",
      "Rejected: \t43\n",
      "Iteration: \t49 / 100\n",
      "Confirmed: \t20\n",
      "Tentative: \t5\n",
      "Rejected: \t43\n",
      "Iteration: \t50 / 100\n",
      "Confirmed: \t20\n",
      "Tentative: \t5\n",
      "Rejected: \t43\n",
      "Iteration: \t51 / 100\n",
      "Confirmed: \t20\n",
      "Tentative: \t4\n",
      "Rejected: \t44\n",
      "Iteration: \t52 / 100\n",
      "Confirmed: \t20\n",
      "Tentative: \t4\n",
      "Rejected: \t44\n",
      "Iteration: \t53 / 100\n",
      "Confirmed: \t20\n",
      "Tentative: \t4\n",
      "Rejected: \t44\n",
      "Iteration: \t54 / 100\n",
      "Confirmed: \t20\n",
      "Tentative: \t4\n",
      "Rejected: \t44\n",
      "Iteration: \t55 / 100\n",
      "Confirmed: \t20\n",
      "Tentative: \t4\n",
      "Rejected: \t44\n",
      "Iteration: \t56 / 100\n",
      "Confirmed: \t20\n",
      "Tentative: \t4\n",
      "Rejected: \t44\n",
      "Iteration: \t57 / 100\n",
      "Confirmed: \t20\n",
      "Tentative: \t4\n",
      "Rejected: \t44\n",
      "Iteration: \t58 / 100\n",
      "Confirmed: \t20\n",
      "Tentative: \t4\n",
      "Rejected: \t44\n",
      "Iteration: \t59 / 100\n",
      "Confirmed: \t20\n",
      "Tentative: \t4\n",
      "Rejected: \t44\n",
      "Iteration: \t60 / 100\n",
      "Confirmed: \t20\n",
      "Tentative: \t4\n",
      "Rejected: \t44\n",
      "Iteration: \t61 / 100\n",
      "Confirmed: \t20\n",
      "Tentative: \t4\n",
      "Rejected: \t44\n",
      "Iteration: \t62 / 100\n",
      "Confirmed: \t21\n",
      "Tentative: \t3\n",
      "Rejected: \t44\n",
      "Iteration: \t63 / 100\n",
      "Confirmed: \t21\n",
      "Tentative: \t3\n",
      "Rejected: \t44\n",
      "Iteration: \t64 / 100\n",
      "Confirmed: \t21\n",
      "Tentative: \t3\n",
      "Rejected: \t44\n",
      "Iteration: \t65 / 100\n",
      "Confirmed: \t21\n",
      "Tentative: \t3\n",
      "Rejected: \t44\n",
      "Iteration: \t66 / 100\n",
      "Confirmed: \t21\n",
      "Tentative: \t3\n",
      "Rejected: \t44\n",
      "Iteration: \t67 / 100\n",
      "Confirmed: \t21\n",
      "Tentative: \t3\n",
      "Rejected: \t44\n",
      "Iteration: \t68 / 100\n",
      "Confirmed: \t21\n",
      "Tentative: \t3\n",
      "Rejected: \t44\n",
      "Iteration: \t69 / 100\n",
      "Confirmed: \t21\n",
      "Tentative: \t3\n",
      "Rejected: \t44\n",
      "Iteration: \t70 / 100\n",
      "Confirmed: \t21\n",
      "Tentative: \t3\n",
      "Rejected: \t44\n",
      "Iteration: \t71 / 100\n",
      "Confirmed: \t21\n",
      "Tentative: \t3\n",
      "Rejected: \t44\n",
      "Iteration: \t72 / 100\n",
      "Confirmed: \t21\n",
      "Tentative: \t3\n",
      "Rejected: \t44\n",
      "Iteration: \t73 / 100\n",
      "Confirmed: \t21\n",
      "Tentative: \t3\n",
      "Rejected: \t44\n",
      "Iteration: \t74 / 100\n",
      "Confirmed: \t21\n",
      "Tentative: \t3\n",
      "Rejected: \t44\n",
      "Iteration: \t75 / 100\n",
      "Confirmed: \t21\n",
      "Tentative: \t3\n",
      "Rejected: \t44\n",
      "Iteration: \t76 / 100\n",
      "Confirmed: \t21\n",
      "Tentative: \t3\n",
      "Rejected: \t44\n",
      "Iteration: \t77 / 100\n",
      "Confirmed: \t21\n",
      "Tentative: \t3\n",
      "Rejected: \t44\n",
      "Iteration: \t78 / 100\n",
      "Confirmed: \t21\n",
      "Tentative: \t3\n",
      "Rejected: \t44\n",
      "Iteration: \t79 / 100\n",
      "Confirmed: \t21\n",
      "Tentative: \t3\n",
      "Rejected: \t44\n",
      "Iteration: \t80 / 100\n",
      "Confirmed: \t21\n",
      "Tentative: \t3\n",
      "Rejected: \t44\n",
      "Iteration: \t81 / 100\n",
      "Confirmed: \t21\n",
      "Tentative: \t3\n",
      "Rejected: \t44\n",
      "Iteration: \t82 / 100\n",
      "Confirmed: \t21\n",
      "Tentative: \t3\n",
      "Rejected: \t44\n",
      "Iteration: \t83 / 100\n",
      "Confirmed: \t21\n",
      "Tentative: \t3\n",
      "Rejected: \t44\n",
      "Iteration: \t84 / 100\n",
      "Confirmed: \t21\n",
      "Tentative: \t3\n",
      "Rejected: \t44\n",
      "Iteration: \t85 / 100\n",
      "Confirmed: \t21\n",
      "Tentative: \t3\n",
      "Rejected: \t44\n",
      "Iteration: \t86 / 100\n",
      "Confirmed: \t21\n",
      "Tentative: \t3\n",
      "Rejected: \t44\n",
      "Iteration: \t87 / 100\n",
      "Confirmed: \t21\n",
      "Tentative: \t3\n",
      "Rejected: \t44\n",
      "Iteration: \t88 / 100\n",
      "Confirmed: \t21\n",
      "Tentative: \t3\n",
      "Rejected: \t44\n",
      "Iteration: \t89 / 100\n",
      "Confirmed: \t21\n",
      "Tentative: \t3\n",
      "Rejected: \t44\n",
      "Iteration: \t90 / 100\n",
      "Confirmed: \t21\n",
      "Tentative: \t3\n",
      "Rejected: \t44\n",
      "Iteration: \t91 / 100\n",
      "Confirmed: \t21\n",
      "Tentative: \t3\n",
      "Rejected: \t44\n",
      "Iteration: \t92 / 100\n",
      "Confirmed: \t21\n",
      "Tentative: \t3\n",
      "Rejected: \t44\n",
      "Iteration: \t93 / 100\n",
      "Confirmed: \t21\n",
      "Tentative: \t3\n",
      "Rejected: \t44\n",
      "Iteration: \t94 / 100\n",
      "Confirmed: \t21\n",
      "Tentative: \t3\n",
      "Rejected: \t44\n",
      "Iteration: \t95 / 100\n",
      "Confirmed: \t21\n",
      "Tentative: \t3\n",
      "Rejected: \t44\n",
      "Iteration: \t96 / 100\n",
      "Confirmed: \t21\n",
      "Tentative: \t3\n",
      "Rejected: \t44\n",
      "Iteration: \t97 / 100\n",
      "Confirmed: \t21\n",
      "Tentative: \t3\n",
      "Rejected: \t44\n",
      "Iteration: \t98 / 100\n",
      "Confirmed: \t21\n",
      "Tentative: \t3\n",
      "Rejected: \t44\n",
      "Iteration: \t99 / 100\n",
      "Confirmed: \t21\n",
      "Tentative: \t3\n",
      "Rejected: \t44\n",
      "\n",
      "\n",
      "BorutaPy finished running.\n",
      "\n",
      "Iteration: \t100 / 100\n",
      "Confirmed: \t21\n",
      "Tentative: \t1\n",
      "Rejected: \t44\n",
      "選択された特徴量の数: 21\n",
      "[False False False False  True  True  True  True  True False False False\n",
      " False False False False False  True False  True False  True  True False\n",
      "  True False False  True False False False False False False False  True\n",
      "  True  True False  True False False False False False False False False\n",
      " False False  True False  True False  True False  True  True  True False\n",
      " False False False False False False False False]\n",
      "Index(['organocatalyst(mol%)', 'temp(℃)', 'time(h)', '266_R1-', '324_R1-',\n",
      "       '85_organocatalyst', '93_organocatalyst', '132_organocatalyst',\n",
      "       '138_organocatalyst', '150_organocatalyst', '160_organocatalyst',\n",
      "       '246_organocatalyst', '258_organocatalyst', '266_organocatalyst',\n",
      "       '286_organocatalyst', '365_organocatalyst', '370_organocatalyst',\n",
      "       '372_organocatalyst', '378_organocatalyst', '380_organocatalyst',\n",
      "       '386_organocatalyst'],\n",
      "      dtype='object')\n",
      "Index(['organocatalyst(mol%)', 'temp(℃)', 'time(h)', '266_R1-', '324_R1-',\n",
      "       '85_organocatalyst', '93_organocatalyst', '132_organocatalyst',\n",
      "       '138_organocatalyst', '150_organocatalyst', '160_organocatalyst',\n",
      "       '246_organocatalyst', '258_organocatalyst', '266_organocatalyst',\n",
      "       '286_organocatalyst', '365_organocatalyst', '370_organocatalyst',\n",
      "       '372_organocatalyst', '378_organocatalyst', '380_organocatalyst',\n",
      "       '386_organocatalyst'],\n",
      "      dtype='object')\n",
      "mordred_2d\n",
      "Iteration: \t1 / 100\n",
      "Confirmed: \t0\n",
      "Tentative: \t524\n",
      "Rejected: \t0\n",
      "Iteration: \t2 / 100\n",
      "Confirmed: \t0\n",
      "Tentative: \t524\n",
      "Rejected: \t0\n",
      "Iteration: \t3 / 100\n",
      "Confirmed: \t0\n",
      "Tentative: \t524\n",
      "Rejected: \t0\n",
      "Iteration: \t4 / 100\n",
      "Confirmed: \t0\n",
      "Tentative: \t524\n",
      "Rejected: \t0\n",
      "Iteration: \t5 / 100\n",
      "Confirmed: \t0\n",
      "Tentative: \t524\n",
      "Rejected: \t0\n",
      "Iteration: \t6 / 100\n",
      "Confirmed: \t0\n",
      "Tentative: \t524\n",
      "Rejected: \t0\n",
      "Iteration: \t7 / 100\n",
      "Confirmed: \t0\n",
      "Tentative: \t524\n",
      "Rejected: \t0\n",
      "Iteration: \t8 / 100\n",
      "Confirmed: \t69\n",
      "Tentative: \t167\n",
      "Rejected: \t288\n",
      "Iteration: \t9 / 100\n",
      "Confirmed: \t69\n",
      "Tentative: \t167\n",
      "Rejected: \t288\n",
      "Iteration: \t10 / 100\n",
      "Confirmed: \t69\n",
      "Tentative: \t167\n",
      "Rejected: \t288\n",
      "Iteration: \t11 / 100\n",
      "Confirmed: \t69\n",
      "Tentative: \t167\n",
      "Rejected: \t288\n",
      "Iteration: \t12 / 100\n",
      "Confirmed: \t70\n",
      "Tentative: \t116\n",
      "Rejected: \t338\n",
      "Iteration: \t13 / 100\n",
      "Confirmed: \t70\n",
      "Tentative: \t116\n",
      "Rejected: \t338\n",
      "Iteration: \t14 / 100\n",
      "Confirmed: \t70\n",
      "Tentative: \t116\n",
      "Rejected: \t338\n",
      "Iteration: \t15 / 100\n",
      "Confirmed: \t70\n",
      "Tentative: \t116\n",
      "Rejected: \t338\n",
      "Iteration: \t16 / 100\n",
      "Confirmed: \t71\n",
      "Tentative: \t95\n",
      "Rejected: \t358\n",
      "Iteration: \t17 / 100\n",
      "Confirmed: \t71\n",
      "Tentative: \t95\n",
      "Rejected: \t358\n",
      "Iteration: \t18 / 100\n",
      "Confirmed: \t71\n",
      "Tentative: \t95\n",
      "Rejected: \t358\n",
      "Iteration: \t19 / 100\n",
      "Confirmed: \t73\n",
      "Tentative: \t81\n",
      "Rejected: \t370\n",
      "Iteration: \t20 / 100\n",
      "Confirmed: \t73\n",
      "Tentative: \t81\n",
      "Rejected: \t370\n",
      "Iteration: \t21 / 100\n",
      "Confirmed: \t73\n",
      "Tentative: \t81\n",
      "Rejected: \t370\n",
      "Iteration: \t22 / 100\n",
      "Confirmed: \t75\n",
      "Tentative: \t70\n",
      "Rejected: \t379\n",
      "Iteration: \t23 / 100\n",
      "Confirmed: \t75\n",
      "Tentative: \t70\n",
      "Rejected: \t379\n",
      "Iteration: \t24 / 100\n",
      "Confirmed: \t75\n",
      "Tentative: \t70\n",
      "Rejected: \t379\n",
      "Iteration: \t25 / 100\n",
      "Confirmed: \t75\n",
      "Tentative: \t70\n",
      "Rejected: \t379\n",
      "Iteration: \t26 / 100\n",
      "Confirmed: \t75\n",
      "Tentative: \t63\n",
      "Rejected: \t386\n",
      "Iteration: \t27 / 100\n",
      "Confirmed: \t75\n",
      "Tentative: \t63\n",
      "Rejected: \t386\n",
      "Iteration: \t28 / 100\n",
      "Confirmed: \t75\n",
      "Tentative: \t63\n",
      "Rejected: \t386\n",
      "Iteration: \t29 / 100\n",
      "Confirmed: \t75\n",
      "Tentative: \t54\n",
      "Rejected: \t395\n",
      "Iteration: \t30 / 100\n",
      "Confirmed: \t75\n",
      "Tentative: \t54\n",
      "Rejected: \t395\n",
      "Iteration: \t31 / 100\n",
      "Confirmed: \t75\n",
      "Tentative: \t54\n",
      "Rejected: \t395\n",
      "Iteration: \t32 / 100\n",
      "Confirmed: \t75\n",
      "Tentative: \t46\n",
      "Rejected: \t403\n",
      "Iteration: \t33 / 100\n",
      "Confirmed: \t75\n",
      "Tentative: \t46\n",
      "Rejected: \t403\n",
      "Iteration: \t34 / 100\n",
      "Confirmed: \t75\n",
      "Tentative: \t41\n",
      "Rejected: \t408\n",
      "Iteration: \t35 / 100\n",
      "Confirmed: \t75\n",
      "Tentative: \t41\n",
      "Rejected: \t408\n",
      "Iteration: \t36 / 100\n",
      "Confirmed: \t75\n",
      "Tentative: \t41\n",
      "Rejected: \t408\n",
      "Iteration: \t37 / 100\n",
      "Confirmed: \t75\n",
      "Tentative: \t41\n",
      "Rejected: \t408\n",
      "Iteration: \t38 / 100\n",
      "Confirmed: \t75\n",
      "Tentative: \t39\n",
      "Rejected: \t410\n",
      "Iteration: \t39 / 100\n",
      "Confirmed: \t75\n",
      "Tentative: \t39\n",
      "Rejected: \t410\n",
      "Iteration: \t40 / 100\n",
      "Confirmed: \t75\n",
      "Tentative: \t39\n",
      "Rejected: \t410\n",
      "Iteration: \t41 / 100\n",
      "Confirmed: \t75\n",
      "Tentative: \t39\n",
      "Rejected: \t410\n",
      "Iteration: \t42 / 100\n",
      "Confirmed: \t75\n",
      "Tentative: \t39\n",
      "Rejected: \t410\n",
      "Iteration: \t43 / 100\n",
      "Confirmed: \t75\n",
      "Tentative: \t36\n",
      "Rejected: \t413\n",
      "Iteration: \t44 / 100\n",
      "Confirmed: \t75\n",
      "Tentative: \t36\n",
      "Rejected: \t413\n",
      "Iteration: \t45 / 100\n",
      "Confirmed: \t75\n",
      "Tentative: \t36\n",
      "Rejected: \t413\n",
      "Iteration: \t46 / 100\n",
      "Confirmed: \t75\n",
      "Tentative: \t32\n",
      "Rejected: \t417\n",
      "Iteration: \t47 / 100\n",
      "Confirmed: \t75\n",
      "Tentative: \t32\n",
      "Rejected: \t417\n",
      "Iteration: \t48 / 100\n",
      "Confirmed: \t75\n",
      "Tentative: \t32\n",
      "Rejected: \t417\n",
      "Iteration: \t49 / 100\n",
      "Confirmed: \t75\n",
      "Tentative: \t32\n",
      "Rejected: \t417\n",
      "Iteration: \t50 / 100\n",
      "Confirmed: \t75\n",
      "Tentative: \t32\n",
      "Rejected: \t417\n",
      "Iteration: \t51 / 100\n",
      "Confirmed: \t75\n",
      "Tentative: \t31\n",
      "Rejected: \t418\n",
      "Iteration: \t52 / 100\n",
      "Confirmed: \t75\n",
      "Tentative: \t31\n",
      "Rejected: \t418\n",
      "Iteration: \t53 / 100\n",
      "Confirmed: \t75\n",
      "Tentative: \t31\n",
      "Rejected: \t418\n",
      "Iteration: \t54 / 100\n",
      "Confirmed: \t75\n",
      "Tentative: \t31\n",
      "Rejected: \t418\n",
      "Iteration: \t55 / 100\n",
      "Confirmed: \t75\n",
      "Tentative: \t31\n",
      "Rejected: \t418\n",
      "Iteration: \t56 / 100\n",
      "Confirmed: \t75\n",
      "Tentative: \t31\n",
      "Rejected: \t418\n",
      "Iteration: \t57 / 100\n",
      "Confirmed: \t75\n",
      "Tentative: \t30\n",
      "Rejected: \t419\n",
      "Iteration: \t58 / 100\n",
      "Confirmed: \t75\n",
      "Tentative: \t30\n",
      "Rejected: \t419\n",
      "Iteration: \t59 / 100\n",
      "Confirmed: \t75\n",
      "Tentative: \t30\n",
      "Rejected: \t419\n",
      "Iteration: \t60 / 100\n",
      "Confirmed: \t75\n",
      "Tentative: \t30\n",
      "Rejected: \t419\n",
      "Iteration: \t61 / 100\n",
      "Confirmed: \t75\n",
      "Tentative: \t30\n",
      "Rejected: \t419\n",
      "Iteration: \t62 / 100\n",
      "Confirmed: \t75\n",
      "Tentative: \t30\n",
      "Rejected: \t419\n",
      "Iteration: \t63 / 100\n",
      "Confirmed: \t75\n",
      "Tentative: \t30\n",
      "Rejected: \t419\n",
      "Iteration: \t64 / 100\n",
      "Confirmed: \t75\n",
      "Tentative: \t30\n",
      "Rejected: \t419\n",
      "Iteration: \t65 / 100\n",
      "Confirmed: \t75\n",
      "Tentative: \t30\n",
      "Rejected: \t419\n",
      "Iteration: \t66 / 100\n",
      "Confirmed: \t75\n",
      "Tentative: \t30\n",
      "Rejected: \t419\n",
      "Iteration: \t67 / 100\n",
      "Confirmed: \t75\n",
      "Tentative: \t28\n",
      "Rejected: \t421\n",
      "Iteration: \t68 / 100\n",
      "Confirmed: \t75\n",
      "Tentative: \t28\n",
      "Rejected: \t421\n",
      "Iteration: \t69 / 100\n",
      "Confirmed: \t75\n",
      "Tentative: \t28\n",
      "Rejected: \t421\n",
      "Iteration: \t70 / 100\n",
      "Confirmed: \t75\n",
      "Tentative: \t26\n",
      "Rejected: \t423\n",
      "Iteration: \t71 / 100\n",
      "Confirmed: \t75\n",
      "Tentative: \t26\n",
      "Rejected: \t423\n",
      "Iteration: \t72 / 100\n",
      "Confirmed: \t75\n",
      "Tentative: \t26\n",
      "Rejected: \t423\n",
      "Iteration: \t73 / 100\n",
      "Confirmed: \t75\n",
      "Tentative: \t26\n",
      "Rejected: \t423\n",
      "Iteration: \t74 / 100\n",
      "Confirmed: \t75\n",
      "Tentative: \t26\n",
      "Rejected: \t423\n",
      "Iteration: \t75 / 100\n",
      "Confirmed: \t75\n",
      "Tentative: \t26\n",
      "Rejected: \t423\n",
      "Iteration: \t76 / 100\n",
      "Confirmed: \t75\n",
      "Tentative: \t26\n",
      "Rejected: \t423\n",
      "Iteration: \t77 / 100\n",
      "Confirmed: \t75\n",
      "Tentative: \t26\n",
      "Rejected: \t423\n",
      "Iteration: \t78 / 100\n",
      "Confirmed: \t75\n",
      "Tentative: \t26\n",
      "Rejected: \t423\n",
      "Iteration: \t79 / 100\n",
      "Confirmed: \t75\n",
      "Tentative: \t26\n",
      "Rejected: \t423\n",
      "Iteration: \t80 / 100\n",
      "Confirmed: \t75\n",
      "Tentative: \t25\n",
      "Rejected: \t424\n",
      "Iteration: \t81 / 100\n",
      "Confirmed: \t75\n",
      "Tentative: \t25\n",
      "Rejected: \t424\n",
      "Iteration: \t82 / 100\n",
      "Confirmed: \t75\n",
      "Tentative: \t25\n",
      "Rejected: \t424\n",
      "Iteration: \t83 / 100\n",
      "Confirmed: \t75\n",
      "Tentative: \t25\n",
      "Rejected: \t424\n",
      "Iteration: \t84 / 100\n",
      "Confirmed: \t75\n",
      "Tentative: \t25\n",
      "Rejected: \t424\n",
      "Iteration: \t85 / 100\n",
      "Confirmed: \t75\n",
      "Tentative: \t24\n",
      "Rejected: \t425\n",
      "Iteration: \t86 / 100\n",
      "Confirmed: \t75\n",
      "Tentative: \t24\n",
      "Rejected: \t425\n",
      "Iteration: \t87 / 100\n",
      "Confirmed: \t75\n",
      "Tentative: \t24\n",
      "Rejected: \t425\n",
      "Iteration: \t88 / 100\n",
      "Confirmed: \t75\n",
      "Tentative: \t23\n",
      "Rejected: \t426\n",
      "Iteration: \t89 / 100\n",
      "Confirmed: \t75\n",
      "Tentative: \t23\n",
      "Rejected: \t426\n",
      "Iteration: \t90 / 100\n",
      "Confirmed: \t75\n",
      "Tentative: \t23\n",
      "Rejected: \t426\n",
      "Iteration: \t91 / 100\n",
      "Confirmed: \t75\n",
      "Tentative: \t23\n",
      "Rejected: \t426\n",
      "Iteration: \t92 / 100\n",
      "Confirmed: \t75\n",
      "Tentative: \t23\n",
      "Rejected: \t426\n",
      "Iteration: \t93 / 100\n",
      "Confirmed: \t75\n",
      "Tentative: \t23\n",
      "Rejected: \t426\n",
      "Iteration: \t94 / 100\n",
      "Confirmed: \t75\n",
      "Tentative: \t23\n",
      "Rejected: \t426\n",
      "Iteration: \t95 / 100\n",
      "Confirmed: \t75\n",
      "Tentative: \t23\n",
      "Rejected: \t426\n",
      "Iteration: \t96 / 100\n",
      "Confirmed: \t75\n",
      "Tentative: \t23\n",
      "Rejected: \t426\n",
      "Iteration: \t97 / 100\n",
      "Confirmed: \t75\n",
      "Tentative: \t23\n",
      "Rejected: \t426\n",
      "Iteration: \t98 / 100\n",
      "Confirmed: \t75\n",
      "Tentative: \t23\n",
      "Rejected: \t426\n",
      "Iteration: \t99 / 100\n",
      "Confirmed: \t75\n",
      "Tentative: \t23\n",
      "Rejected: \t426\n",
      "\n",
      "\n",
      "BorutaPy finished running.\n",
      "\n",
      "Iteration: \t100 / 100\n",
      "Confirmed: \t75\n",
      "Tentative: \t0\n",
      "Rejected: \t426\n",
      "選択された特徴量の数: 75\n",
      "[False False False False  True  True  True False  True False False False\n",
      " False False False False False False False False False  True  True False\n",
      " False False False False False False False False False False False False\n",
      " False False  True False False  True False False False False  True False\n",
      " False False  True False False False False False False False  True False\n",
      " False False False False False False False False False False False False\n",
      " False False False False  True  True False False False False False False\n",
      " False False False False False False False False False  True  True  True\n",
      "  True  True False False False False False False  True False False False\n",
      " False False False False False False False False False False False False\n",
      " False False False False False  True False False False False False False\n",
      " False False False False False  True False False  True False  True False\n",
      " False False  True False False  True False False False False False False\n",
      " False False False False False False False False False False False False\n",
      " False  True False False False False False False False False False False\n",
      "  True False False False False False False False False False False False\n",
      " False False False False False  True False False False  True False False\n",
      " False  True False False False False False False False  True False False\n",
      " False False False False False False  True False False False False  True\n",
      " False  True False False False False False  True  True  True False False\n",
      " False False False False False False False False False False False False\n",
      " False False False False False  True False False False  True False False\n",
      " False  True  True False False False  True  True False False False False\n",
      " False False False False False False False  True False False False False\n",
      " False False  True False False False False False False False False False\n",
      "  True False False False False False False False False False False False\n",
      " False False False False False False  True  True False False False False\n",
      "  True False False False False False False False False False  True False\n",
      " False False False False False False  True  True False False False  True\n",
      " False False False False False False False False  True False False False\n",
      " False  True False False False False False False  True False False  True\n",
      " False False False False False False False False False False False  True\n",
      " False False  True False False False False False  True False False False\n",
      "  True False False  True False False False False False False False False\n",
      " False False False False False False False False False False False False\n",
      "  True False False False False False False False  True False False False\n",
      " False False False  True False False  True False False False False False\n",
      " False False False False False False False  True False False False False\n",
      " False False False False False False  True  True False False False False\n",
      " False False False False False False False False False False False False\n",
      " False False False False False False False False False False False  True\n",
      "  True False False False False False False False False False False  True\n",
      " False False False False False False False False  True  True False False\n",
      " False False False  True False False False False]\n",
      "Index(['organocatalyst(mol%)', 'temp(℃)', 'time(h)', 'SpMAD_A_R1-',\n",
      "       'AATS1d_R1-', 'AATS2d_R1-', 'ATSC0Z_R1-', 'ATSC5Z_R1-', 'AATSC0d_R1-',\n",
      "       'AATSC2Z_R1-', 'MATS2Z_R1-', 'BCUTZ-1h_R1-', 'BalabanJ_R1-',\n",
      "       'AXp-0d_R1-', 'AXp-1d_R1-', 'AXp-2d_R1-', 'AXp-3d_R1-', 'AXp-4d_R1-',\n",
      "       'NsOH_R1-', 'AETA_eta_RL_R1-', 'BIC3_R1-', 'CIC2_R1-', 'MIC2_R1-',\n",
      "       'ZMIC3_R1-', 'FilterItLogS_R1-', 'VSA_EState1_R1-', 'AMID_R1-',\n",
      "       'SLogP_R1-', 'GGI3_R1-', 'JGI2_R1-', 'TSRW10_R1-',\n",
      "       'ATS1dv_organocatalyst', 'ATS1s_organocatalyst', 'ATS3s_organocatalyst',\n",
      "       'ATS0m_organocatalyst', 'ATS1m_organocatalyst', 'ATS4m_organocatalyst',\n",
      "       'AATS0p_organocatalyst', 'AATS3i_organocatalyst',\n",
      "       'ATSC6c_organocatalyst', 'ATSC7c_organocatalyst',\n",
      "       'ATSC4dv_organocatalyst', 'ATSC5dv_organocatalyst',\n",
      "       'ATSC0s_organocatalyst', 'ATSC4m_organocatalyst',\n",
      "       'ATSC0pe_organocatalyst', 'AATSC4dv_organocatalyst',\n",
      "       'AATSC0d_organocatalyst', 'AATSC4s_organocatalyst',\n",
      "       'AATSC0i_organocatalyst', 'MATS4pe_organocatalyst',\n",
      "       'MATS2are_organocatalyst', 'GATS4c_organocatalyst',\n",
      "       'GATS4s_organocatalyst', 'GATS2v_organocatalyst',\n",
      "       'GATS3p_organocatalyst', 'BCUTc-1h_organocatalyst',\n",
      "       'BalabanJ_organocatalyst', 'SpAbs_Dzp_organocatalyst',\n",
      "       'RPCG_organocatalyst', 'Xc-5d_organocatalyst', 'Xpc-5d_organocatalyst',\n",
      "       'ETA_shape_y_organocatalyst', 'ETA_eta_BR_organocatalyst',\n",
      "       'nHBAcc_organocatalyst', 'IC3_organocatalyst', 'MIC3_organocatalyst',\n",
      "       'PEOE_VSA7_organocatalyst', 'PEOE_VSA8_organocatalyst',\n",
      "       'VSA_EState4_organocatalyst', 'VSA_EState5_organocatalyst',\n",
      "       'GGI1_organocatalyst', 'JGI3_organocatalyst', 'JGI4_organocatalyst',\n",
      "       'JGT10_organocatalyst'],\n",
      "      dtype='object')\n",
      "Index(['organocatalyst(mol%)', 'temp(℃)', 'time(h)', 'SpMAD_A_R1-',\n",
      "       'AATS1d_R1-', 'AATS2d_R1-', 'ATSC0Z_R1-', 'ATSC5Z_R1-', 'AATSC0d_R1-',\n",
      "       'AATSC2Z_R1-', 'MATS2Z_R1-', 'BCUTZ-1h_R1-', 'BalabanJ_R1-',\n",
      "       'AXp-0d_R1-', 'AXp-1d_R1-', 'AXp-2d_R1-', 'AXp-3d_R1-', 'AXp-4d_R1-',\n",
      "       'NsOH_R1-', 'AETA_eta_RL_R1-', 'BIC3_R1-', 'CIC2_R1-', 'MIC2_R1-',\n",
      "       'ZMIC3_R1-', 'FilterItLogS_R1-', 'VSA_EState1_R1-', 'AMID_R1-',\n",
      "       'SLogP_R1-', 'GGI3_R1-', 'JGI2_R1-', 'TSRW10_R1-',\n",
      "       'ATS1dv_organocatalyst', 'ATS1s_organocatalyst', 'ATS3s_organocatalyst',\n",
      "       'ATS0m_organocatalyst', 'ATS1m_organocatalyst', 'ATS4m_organocatalyst',\n",
      "       'AATS0p_organocatalyst', 'AATS3i_organocatalyst',\n",
      "       'ATSC6c_organocatalyst', 'ATSC7c_organocatalyst',\n",
      "       'ATSC4dv_organocatalyst', 'ATSC5dv_organocatalyst',\n",
      "       'ATSC0s_organocatalyst', 'ATSC4m_organocatalyst',\n",
      "       'ATSC0pe_organocatalyst', 'AATSC4dv_organocatalyst',\n",
      "       'AATSC0d_organocatalyst', 'AATSC4s_organocatalyst',\n",
      "       'AATSC0i_organocatalyst', 'MATS4pe_organocatalyst',\n",
      "       'MATS2are_organocatalyst', 'GATS4c_organocatalyst',\n",
      "       'GATS4s_organocatalyst', 'GATS2v_organocatalyst',\n",
      "       'GATS3p_organocatalyst', 'BCUTc-1h_organocatalyst',\n",
      "       'BalabanJ_organocatalyst', 'SpAbs_Dzp_organocatalyst',\n",
      "       'RPCG_organocatalyst', 'Xc-5d_organocatalyst', 'Xpc-5d_organocatalyst',\n",
      "       'ETA_shape_y_organocatalyst', 'ETA_eta_BR_organocatalyst',\n",
      "       'nHBAcc_organocatalyst', 'IC3_organocatalyst', 'MIC3_organocatalyst',\n",
      "       'PEOE_VSA7_organocatalyst', 'PEOE_VSA8_organocatalyst',\n",
      "       'VSA_EState4_organocatalyst', 'VSA_EState5_organocatalyst',\n",
      "       'GGI1_organocatalyst', 'JGI3_organocatalyst', 'JGI4_organocatalyst',\n",
      "       'JGT10_organocatalyst'],\n",
      "      dtype='object')\n"
     ]
    }
   ],
   "source": [
    "# method boruta\n",
    "finger_columns = ['R1-', 'organocatalyst']\n",
    "for finger_method in finger_methods:\n",
    "    print(finger_method)\n",
    "    df = pd.read_csv(f'./data/method1/{finger_method}.csv',index_col=0)\n",
    "    X = df.drop(columns=['yield'])\n",
    "    y = df['yield']\n",
    "    X_boruta = boruta(X,y)\n",
    "    print(X_boruta.columns)\n",
    "    pd.concat([y,X_boruta],axis=1).to_csv(f'./data/boruta/{finger_method}.csv')"
   ]
  },
  {
   "cell_type": "markdown",
   "id": "1b222a22-3bad-4e10-90e4-7969cd1154bf",
   "metadata": {},
   "source": [
    "# 構造予測データ"
   ]
  },
  {
   "cell_type": "code",
   "execution_count": 90,
   "id": "f743df59-59a7-4cdd-b5d3-59a2a4df52d5",
   "metadata": {},
   "outputs": [
    {
     "name": "stderr",
     "output_type": "stream",
     "text": [
      "100%|██████████████████████████████████████████████████████████████████████████████████████████████████████████████████████████████████████| 121/121 [00:10<00:00, 12.07it/s]\n",
      "100%|██████████████████████████████████████████████████████████████████████████████████████████████████████████████████████████████████████| 121/121 [00:26<00:00,  4.49it/s]\n"
     ]
    }
   ],
   "source": [
    "# toFinger(df_scaled,['R1-','organocatalyst'],'avalon').to_csv('./data/origin/avalon.csv')\n",
    "# toFinger(df_scaled,['R1-','organocatalyst'],'mordred_2d').to_csv('./data/origin/mordred.csv')\n",
    "\n",
    "\n"
   ]
  },
  {
   "cell_type": "code",
   "execution_count": 70,
   "id": "dfc0e523-4b24-4718-9ce7-95d7d5c02e9f",
   "metadata": {},
   "outputs": [
    {
     "name": "stderr",
     "output_type": "stream",
     "text": [
      "100%|██████████████████████████████████████████████████████████████████████████████████████████████████████████████████████████████████████████| 1/1 [00:00<00:00,  1.10it/s]\n"
     ]
    }
   ],
   "source": [
    "r1 = pd.DataFrame({'SMILES':['CC1=CC=CC=C1']})\n",
    "toFinger(r1,['SMILES'],'avalon').to_csv('./data/structure_creation/avalon_r1.csv')\n",
    "toFinger(r1,['SMILES'],'mordred_2d').to_csv('./data/structure_creation/mordred_r1.csv')"
   ]
  },
  {
   "cell_type": "code",
   "execution_count": 65,
   "id": "f9107caa-fecc-421a-8435-7f0fd12898fb",
   "metadata": {
    "collapsed": true,
    "jupyter": {
     "outputs_hidden": true
    },
    "tags": []
   },
   "outputs": [
    {
     "name": "stderr",
     "output_type": "stream",
     "text": [
      "100%|██████████████████████████████████████████████████████████████████████████████████████████████████████████████████████████████████| 10000/10000 [44:10<00:00,  3.77it/s]\n"
     ]
    },
    {
     "data": {
      "text/html": [
       "<div>\n",
       "<style scoped>\n",
       "    .dataframe tbody tr th:only-of-type {\n",
       "        vertical-align: middle;\n",
       "    }\n",
       "\n",
       "    .dataframe tbody tr th {\n",
       "        vertical-align: top;\n",
       "    }\n",
       "\n",
       "    .dataframe thead th {\n",
       "        text-align: right;\n",
       "    }\n",
       "</style>\n",
       "<table border=\"1\" class=\"dataframe\">\n",
       "  <thead>\n",
       "    <tr style=\"text-align: right;\">\n",
       "      <th></th>\n",
       "      <th>ABC_SMILES</th>\n",
       "      <th>ABCGG_SMILES</th>\n",
       "      <th>nAcid_SMILES</th>\n",
       "      <th>nBase_SMILES</th>\n",
       "      <th>SpAbs_A_SMILES</th>\n",
       "      <th>SpMax_A_SMILES</th>\n",
       "      <th>SpDiam_A_SMILES</th>\n",
       "      <th>SpAD_A_SMILES</th>\n",
       "      <th>SpMAD_A_SMILES</th>\n",
       "      <th>LogEE_A_SMILES</th>\n",
       "      <th>...</th>\n",
       "      <th>SRW10_SMILES</th>\n",
       "      <th>TSRW10_SMILES</th>\n",
       "      <th>MW_SMILES</th>\n",
       "      <th>AMW_SMILES</th>\n",
       "      <th>WPath_SMILES</th>\n",
       "      <th>WPol_SMILES</th>\n",
       "      <th>Zagreb1_SMILES</th>\n",
       "      <th>Zagreb2_SMILES</th>\n",
       "      <th>mZagreb1_SMILES</th>\n",
       "      <th>mZagreb2_SMILES</th>\n",
       "    </tr>\n",
       "    <tr>\n",
       "      <th>name</th>\n",
       "      <th></th>\n",
       "      <th></th>\n",
       "      <th></th>\n",
       "      <th></th>\n",
       "      <th></th>\n",
       "      <th></th>\n",
       "      <th></th>\n",
       "      <th></th>\n",
       "      <th></th>\n",
       "      <th></th>\n",
       "      <th></th>\n",
       "      <th></th>\n",
       "      <th></th>\n",
       "      <th></th>\n",
       "      <th></th>\n",
       "      <th></th>\n",
       "      <th></th>\n",
       "      <th></th>\n",
       "      <th></th>\n",
       "      <th></th>\n",
       "      <th></th>\n",
       "    </tr>\n",
       "  </thead>\n",
       "  <tbody>\n",
       "    <tr>\n",
       "      <th>structure 1</th>\n",
       "      <td>16.774613</td>\n",
       "      <td>16.428494</td>\n",
       "      <td>2</td>\n",
       "      <td>0</td>\n",
       "      <td>26.654527</td>\n",
       "      <td>2.525710</td>\n",
       "      <td>5.051419</td>\n",
       "      <td>26.654527</td>\n",
       "      <td>1.158892</td>\n",
       "      <td>4.019937</td>\n",
       "      <td>...</td>\n",
       "      <td>10.132494</td>\n",
       "      <td>57.297715</td>\n",
       "      <td>323.136887</td>\n",
       "      <td>7.344020</td>\n",
       "      <td>1024</td>\n",
       "      <td>41</td>\n",
       "      <td>112.0</td>\n",
       "      <td>133.0</td>\n",
       "      <td>11.861111</td>\n",
       "      <td>5.333333</td>\n",
       "    </tr>\n",
       "    <tr>\n",
       "      <th>structure 2</th>\n",
       "      <td>15.739337</td>\n",
       "      <td>15.714480</td>\n",
       "      <td>1</td>\n",
       "      <td>1</td>\n",
       "      <td>26.650378</td>\n",
       "      <td>2.523090</td>\n",
       "      <td>5.046180</td>\n",
       "      <td>26.650378</td>\n",
       "      <td>1.211381</td>\n",
       "      <td>3.974516</td>\n",
       "      <td>...</td>\n",
       "      <td>10.107856</td>\n",
       "      <td>56.092220</td>\n",
       "      <td>313.079766</td>\n",
       "      <td>8.461615</td>\n",
       "      <td>908</td>\n",
       "      <td>41</td>\n",
       "      <td>106.0</td>\n",
       "      <td>128.0</td>\n",
       "      <td>11.000000</td>\n",
       "      <td>5.333333</td>\n",
       "    </tr>\n",
       "    <tr>\n",
       "      <th>structure 3</th>\n",
       "      <td>16.136456</td>\n",
       "      <td>15.877342</td>\n",
       "      <td>4</td>\n",
       "      <td>0</td>\n",
       "      <td>25.372814</td>\n",
       "      <td>2.532513</td>\n",
       "      <td>5.065027</td>\n",
       "      <td>25.372814</td>\n",
       "      <td>1.153310</td>\n",
       "      <td>3.978161</td>\n",
       "      <td>...</td>\n",
       "      <td>10.136383</td>\n",
       "      <td>56.189454</td>\n",
       "      <td>312.048132</td>\n",
       "      <td>9.177886</td>\n",
       "      <td>895</td>\n",
       "      <td>40</td>\n",
       "      <td>108.0</td>\n",
       "      <td>129.0</td>\n",
       "      <td>11.611111</td>\n",
       "      <td>5.027778</td>\n",
       "    </tr>\n",
       "    <tr>\n",
       "      <th>structure 4</th>\n",
       "      <td>13.480117</td>\n",
       "      <td>13.438945</td>\n",
       "      <td>1</td>\n",
       "      <td>1</td>\n",
       "      <td>22.798999</td>\n",
       "      <td>2.489657</td>\n",
       "      <td>4.979314</td>\n",
       "      <td>22.798999</td>\n",
       "      <td>1.199947</td>\n",
       "      <td>3.827304</td>\n",
       "      <td>...</td>\n",
       "      <td>9.917834</td>\n",
       "      <td>52.227259</td>\n",
       "      <td>262.131742</td>\n",
       "      <td>7.084642</td>\n",
       "      <td>626</td>\n",
       "      <td>34</td>\n",
       "      <td>90.0</td>\n",
       "      <td>108.0</td>\n",
       "      <td>9.027778</td>\n",
       "      <td>4.694444</td>\n",
       "    </tr>\n",
       "    <tr>\n",
       "      <th>structure 5</th>\n",
       "      <td>18.024283</td>\n",
       "      <td>17.626712</td>\n",
       "      <td>2</td>\n",
       "      <td>0</td>\n",
       "      <td>26.541703</td>\n",
       "      <td>2.572653</td>\n",
       "      <td>5.145306</td>\n",
       "      <td>26.541703</td>\n",
       "      <td>1.105904</td>\n",
       "      <td>4.075030</td>\n",
       "      <td>...</td>\n",
       "      <td>10.368761</td>\n",
       "      <td>59.062848</td>\n",
       "      <td>336.193674</td>\n",
       "      <td>6.465263</td>\n",
       "      <td>1095</td>\n",
       "      <td>44</td>\n",
       "      <td>124.0</td>\n",
       "      <td>147.0</td>\n",
       "      <td>13.513889</td>\n",
       "      <td>5.138889</td>\n",
       "    </tr>\n",
       "    <tr>\n",
       "      <th>...</th>\n",
       "      <td>...</td>\n",
       "      <td>...</td>\n",
       "      <td>...</td>\n",
       "      <td>...</td>\n",
       "      <td>...</td>\n",
       "      <td>...</td>\n",
       "      <td>...</td>\n",
       "      <td>...</td>\n",
       "      <td>...</td>\n",
       "      <td>...</td>\n",
       "      <td>...</td>\n",
       "      <td>...</td>\n",
       "      <td>...</td>\n",
       "      <td>...</td>\n",
       "      <td>...</td>\n",
       "      <td>...</td>\n",
       "      <td>...</td>\n",
       "      <td>...</td>\n",
       "      <td>...</td>\n",
       "      <td>...</td>\n",
       "      <td>...</td>\n",
       "    </tr>\n",
       "    <tr>\n",
       "      <th>structure 9996</th>\n",
       "      <td>16.624783</td>\n",
       "      <td>16.519108</td>\n",
       "      <td>2</td>\n",
       "      <td>1</td>\n",
       "      <td>27.406515</td>\n",
       "      <td>2.535560</td>\n",
       "      <td>5.071120</td>\n",
       "      <td>27.406515</td>\n",
       "      <td>1.191588</td>\n",
       "      <td>4.020298</td>\n",
       "      <td>...</td>\n",
       "      <td>10.173018</td>\n",
       "      <td>57.380945</td>\n",
       "      <td>326.075015</td>\n",
       "      <td>8.812838</td>\n",
       "      <td>1014</td>\n",
       "      <td>43</td>\n",
       "      <td>112.0</td>\n",
       "      <td>135.0</td>\n",
       "      <td>11.861111</td>\n",
       "      <td>5.444444</td>\n",
       "    </tr>\n",
       "    <tr>\n",
       "      <th>structure 9997</th>\n",
       "      <td>15.291450</td>\n",
       "      <td>14.923487</td>\n",
       "      <td>1</td>\n",
       "      <td>0</td>\n",
       "      <td>24.753774</td>\n",
       "      <td>2.503124</td>\n",
       "      <td>5.006247</td>\n",
       "      <td>24.753774</td>\n",
       "      <td>1.178751</td>\n",
       "      <td>3.930144</td>\n",
       "      <td>...</td>\n",
       "      <td>10.026280</td>\n",
       "      <td>54.815284</td>\n",
       "      <td>291.121906</td>\n",
       "      <td>7.661103</td>\n",
       "      <td>830</td>\n",
       "      <td>37</td>\n",
       "      <td>102.0</td>\n",
       "      <td>121.0</td>\n",
       "      <td>10.750000</td>\n",
       "      <td>4.888889</td>\n",
       "    </tr>\n",
       "    <tr>\n",
       "      <th>structure 9998</th>\n",
       "      <td>16.581560</td>\n",
       "      <td>16.117979</td>\n",
       "      <td>1</td>\n",
       "      <td>0</td>\n",
       "      <td>24.435855</td>\n",
       "      <td>2.537268</td>\n",
       "      <td>5.074535</td>\n",
       "      <td>24.435855</td>\n",
       "      <td>1.110721</td>\n",
       "      <td>3.990044</td>\n",
       "      <td>...</td>\n",
       "      <td>10.238709</td>\n",
       "      <td>56.574450</td>\n",
       "      <td>308.162374</td>\n",
       "      <td>6.699182</td>\n",
       "      <td>890</td>\n",
       "      <td>39</td>\n",
       "      <td>114.0</td>\n",
       "      <td>134.0</td>\n",
       "      <td>12.402778</td>\n",
       "      <td>4.666667</td>\n",
       "    </tr>\n",
       "    <tr>\n",
       "      <th>structure 9999</th>\n",
       "      <td>12.463023</td>\n",
       "      <td>12.399864</td>\n",
       "      <td>2</td>\n",
       "      <td>0</td>\n",
       "      <td>19.739250</td>\n",
       "      <td>2.483411</td>\n",
       "      <td>4.966822</td>\n",
       "      <td>19.739250</td>\n",
       "      <td>1.161132</td>\n",
       "      <td>3.727435</td>\n",
       "      <td>...</td>\n",
       "      <td>9.893185</td>\n",
       "      <td>49.978352</td>\n",
       "      <td>242.053886</td>\n",
       "      <td>8.964959</td>\n",
       "      <td>456</td>\n",
       "      <td>31</td>\n",
       "      <td>84.0</td>\n",
       "      <td>101.0</td>\n",
       "      <td>9.138889</td>\n",
       "      <td>3.888889</td>\n",
       "    </tr>\n",
       "    <tr>\n",
       "      <th>structure 10000</th>\n",
       "      <td>15.739337</td>\n",
       "      <td>15.714480</td>\n",
       "      <td>1</td>\n",
       "      <td>2</td>\n",
       "      <td>26.653788</td>\n",
       "      <td>2.523400</td>\n",
       "      <td>5.046801</td>\n",
       "      <td>26.653788</td>\n",
       "      <td>1.211536</td>\n",
       "      <td>3.974516</td>\n",
       "      <td>...</td>\n",
       "      <td>10.108263</td>\n",
       "      <td>56.092628</td>\n",
       "      <td>312.095751</td>\n",
       "      <td>8.213046</td>\n",
       "      <td>908</td>\n",
       "      <td>41</td>\n",
       "      <td>106.0</td>\n",
       "      <td>128.0</td>\n",
       "      <td>11.000000</td>\n",
       "      <td>5.333333</td>\n",
       "    </tr>\n",
       "  </tbody>\n",
       "</table>\n",
       "<p>10000 rows × 1385 columns</p>\n",
       "</div>"
      ],
      "text/plain": [
       "                 ABC_SMILES  ABCGG_SMILES  nAcid_SMILES  nBase_SMILES  \\\n",
       "name                                                                    \n",
       "structure 1       16.774613     16.428494             2             0   \n",
       "structure 2       15.739337     15.714480             1             1   \n",
       "structure 3       16.136456     15.877342             4             0   \n",
       "structure 4       13.480117     13.438945             1             1   \n",
       "structure 5       18.024283     17.626712             2             0   \n",
       "...                     ...           ...           ...           ...   \n",
       "structure 9996    16.624783     16.519108             2             1   \n",
       "structure 9997    15.291450     14.923487             1             0   \n",
       "structure 9998    16.581560     16.117979             1             0   \n",
       "structure 9999    12.463023     12.399864             2             0   \n",
       "structure 10000   15.739337     15.714480             1             2   \n",
       "\n",
       "                 SpAbs_A_SMILES  SpMax_A_SMILES  SpDiam_A_SMILES  \\\n",
       "name                                                               \n",
       "structure 1           26.654527        2.525710         5.051419   \n",
       "structure 2           26.650378        2.523090         5.046180   \n",
       "structure 3           25.372814        2.532513         5.065027   \n",
       "structure 4           22.798999        2.489657         4.979314   \n",
       "structure 5           26.541703        2.572653         5.145306   \n",
       "...                         ...             ...              ...   \n",
       "structure 9996        27.406515        2.535560         5.071120   \n",
       "structure 9997        24.753774        2.503124         5.006247   \n",
       "structure 9998        24.435855        2.537268         5.074535   \n",
       "structure 9999        19.739250        2.483411         4.966822   \n",
       "structure 10000       26.653788        2.523400         5.046801   \n",
       "\n",
       "                 SpAD_A_SMILES  SpMAD_A_SMILES  LogEE_A_SMILES  ...  \\\n",
       "name                                                            ...   \n",
       "structure 1          26.654527        1.158892        4.019937  ...   \n",
       "structure 2          26.650378        1.211381        3.974516  ...   \n",
       "structure 3          25.372814        1.153310        3.978161  ...   \n",
       "structure 4          22.798999        1.199947        3.827304  ...   \n",
       "structure 5          26.541703        1.105904        4.075030  ...   \n",
       "...                        ...             ...             ...  ...   \n",
       "structure 9996       27.406515        1.191588        4.020298  ...   \n",
       "structure 9997       24.753774        1.178751        3.930144  ...   \n",
       "structure 9998       24.435855        1.110721        3.990044  ...   \n",
       "structure 9999       19.739250        1.161132        3.727435  ...   \n",
       "structure 10000      26.653788        1.211536        3.974516  ...   \n",
       "\n",
       "                 SRW10_SMILES  TSRW10_SMILES   MW_SMILES  AMW_SMILES  \\\n",
       "name                                                                   \n",
       "structure 1         10.132494      57.297715  323.136887    7.344020   \n",
       "structure 2         10.107856      56.092220  313.079766    8.461615   \n",
       "structure 3         10.136383      56.189454  312.048132    9.177886   \n",
       "structure 4          9.917834      52.227259  262.131742    7.084642   \n",
       "structure 5         10.368761      59.062848  336.193674    6.465263   \n",
       "...                       ...            ...         ...         ...   \n",
       "structure 9996      10.173018      57.380945  326.075015    8.812838   \n",
       "structure 9997      10.026280      54.815284  291.121906    7.661103   \n",
       "structure 9998      10.238709      56.574450  308.162374    6.699182   \n",
       "structure 9999       9.893185      49.978352  242.053886    8.964959   \n",
       "structure 10000     10.108263      56.092628  312.095751    8.213046   \n",
       "\n",
       "                 WPath_SMILES  WPol_SMILES  Zagreb1_SMILES  Zagreb2_SMILES  \\\n",
       "name                                                                         \n",
       "structure 1              1024           41           112.0           133.0   \n",
       "structure 2               908           41           106.0           128.0   \n",
       "structure 3               895           40           108.0           129.0   \n",
       "structure 4               626           34            90.0           108.0   \n",
       "structure 5              1095           44           124.0           147.0   \n",
       "...                       ...          ...             ...             ...   \n",
       "structure 9996           1014           43           112.0           135.0   \n",
       "structure 9997            830           37           102.0           121.0   \n",
       "structure 9998            890           39           114.0           134.0   \n",
       "structure 9999            456           31            84.0           101.0   \n",
       "structure 10000           908           41           106.0           128.0   \n",
       "\n",
       "                 mZagreb1_SMILES  mZagreb2_SMILES  \n",
       "name                                               \n",
       "structure 1            11.861111         5.333333  \n",
       "structure 2            11.000000         5.333333  \n",
       "structure 3            11.611111         5.027778  \n",
       "structure 4             9.027778         4.694444  \n",
       "structure 5            13.513889         5.138889  \n",
       "...                          ...              ...  \n",
       "structure 9996         11.861111         5.444444  \n",
       "structure 9997         10.750000         4.888889  \n",
       "structure 9998         12.402778         4.666667  \n",
       "structure 9999          9.138889         3.888889  \n",
       "structure 10000        11.000000         5.333333  \n",
       "\n",
       "[10000 rows x 1385 columns]"
      ]
     },
     "metadata": {},
     "output_type": "display_data"
    },
    {
     "name": "stderr",
     "output_type": "stream",
     "text": [
      "100%|██████████████████████████████████████████████████████████████████████████████████████████████████████████████████████████████████| 10000/10000 [58:05<00:00,  2.87it/s]\n"
     ]
    },
    {
     "data": {
      "text/html": [
       "<div>\n",
       "<style scoped>\n",
       "    .dataframe tbody tr th:only-of-type {\n",
       "        vertical-align: middle;\n",
       "    }\n",
       "\n",
       "    .dataframe tbody tr th {\n",
       "        vertical-align: top;\n",
       "    }\n",
       "\n",
       "    .dataframe thead th {\n",
       "        text-align: right;\n",
       "    }\n",
       "</style>\n",
       "<table border=\"1\" class=\"dataframe\">\n",
       "  <thead>\n",
       "    <tr style=\"text-align: right;\">\n",
       "      <th></th>\n",
       "      <th>ABC_SMILES</th>\n",
       "      <th>ABCGG_SMILES</th>\n",
       "      <th>nAcid_SMILES</th>\n",
       "      <th>nBase_SMILES</th>\n",
       "      <th>SpAbs_A_SMILES</th>\n",
       "      <th>SpMax_A_SMILES</th>\n",
       "      <th>SpDiam_A_SMILES</th>\n",
       "      <th>SpAD_A_SMILES</th>\n",
       "      <th>SpMAD_A_SMILES</th>\n",
       "      <th>LogEE_A_SMILES</th>\n",
       "      <th>...</th>\n",
       "      <th>SRW10_SMILES</th>\n",
       "      <th>TSRW10_SMILES</th>\n",
       "      <th>MW_SMILES</th>\n",
       "      <th>AMW_SMILES</th>\n",
       "      <th>WPath_SMILES</th>\n",
       "      <th>WPol_SMILES</th>\n",
       "      <th>Zagreb1_SMILES</th>\n",
       "      <th>Zagreb2_SMILES</th>\n",
       "      <th>mZagreb1_SMILES</th>\n",
       "      <th>mZagreb2_SMILES</th>\n",
       "    </tr>\n",
       "    <tr>\n",
       "      <th>name</th>\n",
       "      <th></th>\n",
       "      <th></th>\n",
       "      <th></th>\n",
       "      <th></th>\n",
       "      <th></th>\n",
       "      <th></th>\n",
       "      <th></th>\n",
       "      <th></th>\n",
       "      <th></th>\n",
       "      <th></th>\n",
       "      <th></th>\n",
       "      <th></th>\n",
       "      <th></th>\n",
       "      <th></th>\n",
       "      <th></th>\n",
       "      <th></th>\n",
       "      <th></th>\n",
       "      <th></th>\n",
       "      <th></th>\n",
       "      <th></th>\n",
       "      <th></th>\n",
       "    </tr>\n",
       "  </thead>\n",
       "  <tbody>\n",
       "    <tr>\n",
       "      <th>structure 10001</th>\n",
       "      <td>16.942470</td>\n",
       "      <td>16.409722</td>\n",
       "      <td>1</td>\n",
       "      <td>0</td>\n",
       "      <td>26.205852</td>\n",
       "      <td>2.534096</td>\n",
       "      <td>5.068191</td>\n",
       "      <td>26.205852</td>\n",
       "      <td>1.139385</td>\n",
       "      <td>4.023768</td>\n",
       "      <td>...</td>\n",
       "      <td>10.184787</td>\n",
       "      <td>57.452292</td>\n",
       "      <td>322.214409</td>\n",
       "      <td>6.079517</td>\n",
       "      <td>1030</td>\n",
       "      <td>40</td>\n",
       "      <td>114.0</td>\n",
       "      <td>134.0</td>\n",
       "      <td>11.951389</td>\n",
       "      <td>5.194444</td>\n",
       "    </tr>\n",
       "    <tr>\n",
       "      <th>structure 10002</th>\n",
       "      <td>14.543903</td>\n",
       "      <td>14.514844</td>\n",
       "      <td>3</td>\n",
       "      <td>1</td>\n",
       "      <td>23.294266</td>\n",
       "      <td>2.516673</td>\n",
       "      <td>5.033345</td>\n",
       "      <td>23.294266</td>\n",
       "      <td>1.164713</td>\n",
       "      <td>3.884559</td>\n",
       "      <td>...</td>\n",
       "      <td>10.052812</td>\n",
       "      <td>53.742643</td>\n",
       "      <td>283.069202</td>\n",
       "      <td>8.577855</td>\n",
       "      <td>693</td>\n",
       "      <td>37</td>\n",
       "      <td>98.0</td>\n",
       "      <td>118.0</td>\n",
       "      <td>10.500000</td>\n",
       "      <td>4.666667</td>\n",
       "    </tr>\n",
       "    <tr>\n",
       "      <th>structure 10003</th>\n",
       "      <td>11.141620</td>\n",
       "      <td>10.474205</td>\n",
       "      <td>1</td>\n",
       "      <td>0</td>\n",
       "      <td>17.324259</td>\n",
       "      <td>2.371357</td>\n",
       "      <td>4.742715</td>\n",
       "      <td>17.324259</td>\n",
       "      <td>1.154951</td>\n",
       "      <td>3.597969</td>\n",
       "      <td>...</td>\n",
       "      <td>9.465835</td>\n",
       "      <td>46.704770</td>\n",
       "      <td>209.105193</td>\n",
       "      <td>6.970173</td>\n",
       "      <td>362</td>\n",
       "      <td>21</td>\n",
       "      <td>72.0</td>\n",
       "      <td>81.0</td>\n",
       "      <td>7.416667</td>\n",
       "      <td>3.333333</td>\n",
       "    </tr>\n",
       "    <tr>\n",
       "      <th>structure 10004</th>\n",
       "      <td>16.027066</td>\n",
       "      <td>15.854732</td>\n",
       "      <td>2</td>\n",
       "      <td>0</td>\n",
       "      <td>26.134522</td>\n",
       "      <td>2.527207</td>\n",
       "      <td>5.054414</td>\n",
       "      <td>26.134522</td>\n",
       "      <td>1.187933</td>\n",
       "      <td>3.978332</td>\n",
       "      <td>...</td>\n",
       "      <td>10.137967</td>\n",
       "      <td>56.205614</td>\n",
       "      <td>312.059365</td>\n",
       "      <td>9.178217</td>\n",
       "      <td>910</td>\n",
       "      <td>41</td>\n",
       "      <td>108.0</td>\n",
       "      <td>130.0</td>\n",
       "      <td>11.611111</td>\n",
       "      <td>5.111111</td>\n",
       "    </tr>\n",
       "    <tr>\n",
       "      <th>structure 10005</th>\n",
       "      <td>17.372330</td>\n",
       "      <td>17.007265</td>\n",
       "      <td>1</td>\n",
       "      <td>0</td>\n",
       "      <td>28.695188</td>\n",
       "      <td>2.528265</td>\n",
       "      <td>5.056529</td>\n",
       "      <td>28.695188</td>\n",
       "      <td>1.195633</td>\n",
       "      <td>4.060219</td>\n",
       "      <td>...</td>\n",
       "      <td>10.158479</td>\n",
       "      <td>58.456926</td>\n",
       "      <td>333.132471</td>\n",
       "      <td>7.747267</td>\n",
       "      <td>1158</td>\n",
       "      <td>43</td>\n",
       "      <td>116.0</td>\n",
       "      <td>138.0</td>\n",
       "      <td>12.111111</td>\n",
       "      <td>5.666667</td>\n",
       "    </tr>\n",
       "    <tr>\n",
       "      <th>...</th>\n",
       "      <td>...</td>\n",
       "      <td>...</td>\n",
       "      <td>...</td>\n",
       "      <td>...</td>\n",
       "      <td>...</td>\n",
       "      <td>...</td>\n",
       "      <td>...</td>\n",
       "      <td>...</td>\n",
       "      <td>...</td>\n",
       "      <td>...</td>\n",
       "      <td>...</td>\n",
       "      <td>...</td>\n",
       "      <td>...</td>\n",
       "      <td>...</td>\n",
       "      <td>...</td>\n",
       "      <td>...</td>\n",
       "      <td>...</td>\n",
       "      <td>...</td>\n",
       "      <td>...</td>\n",
       "      <td>...</td>\n",
       "      <td>...</td>\n",
       "    </tr>\n",
       "    <tr>\n",
       "      <th>structure 19996</th>\n",
       "      <td>12.325124</td>\n",
       "      <td>12.146431</td>\n",
       "      <td>1</td>\n",
       "      <td>1</td>\n",
       "      <td>20.482588</td>\n",
       "      <td>2.454782</td>\n",
       "      <td>4.909564</td>\n",
       "      <td>20.482588</td>\n",
       "      <td>1.204858</td>\n",
       "      <td>3.722024</td>\n",
       "      <td>...</td>\n",
       "      <td>9.781037</td>\n",
       "      <td>49.693515</td>\n",
       "      <td>238.095357</td>\n",
       "      <td>7.680495</td>\n",
       "      <td>470</td>\n",
       "      <td>29</td>\n",
       "      <td>82.0</td>\n",
       "      <td>97.0</td>\n",
       "      <td>8.527778</td>\n",
       "      <td>4.000000</td>\n",
       "    </tr>\n",
       "    <tr>\n",
       "      <th>structure 19997</th>\n",
       "      <td>11.577577</td>\n",
       "      <td>11.604428</td>\n",
       "      <td>1</td>\n",
       "      <td>1</td>\n",
       "      <td>19.022919</td>\n",
       "      <td>2.467936</td>\n",
       "      <td>4.935872</td>\n",
       "      <td>19.022919</td>\n",
       "      <td>1.188932</td>\n",
       "      <td>3.665584</td>\n",
       "      <td>...</td>\n",
       "      <td>9.807692</td>\n",
       "      <td>48.594399</td>\n",
       "      <td>227.079373</td>\n",
       "      <td>7.830323</td>\n",
       "      <td>389</td>\n",
       "      <td>29</td>\n",
       "      <td>78.0</td>\n",
       "      <td>94.0</td>\n",
       "      <td>8.277778</td>\n",
       "      <td>3.777778</td>\n",
       "    </tr>\n",
       "    <tr>\n",
       "      <th>structure 19998</th>\n",
       "      <td>15.141620</td>\n",
       "      <td>15.117322</td>\n",
       "      <td>2</td>\n",
       "      <td>0</td>\n",
       "      <td>24.966761</td>\n",
       "      <td>2.520236</td>\n",
       "      <td>5.040472</td>\n",
       "      <td>24.966761</td>\n",
       "      <td>1.188893</td>\n",
       "      <td>3.930549</td>\n",
       "      <td>...</td>\n",
       "      <td>10.080922</td>\n",
       "      <td>54.920803</td>\n",
       "      <td>298.068867</td>\n",
       "      <td>8.516253</td>\n",
       "      <td>796</td>\n",
       "      <td>39</td>\n",
       "      <td>102.0</td>\n",
       "      <td>123.0</td>\n",
       "      <td>10.750000</td>\n",
       "      <td>5.000000</td>\n",
       "    </tr>\n",
       "    <tr>\n",
       "      <th>structure 19999</th>\n",
       "      <td>14.543903</td>\n",
       "      <td>14.451086</td>\n",
       "      <td>2</td>\n",
       "      <td>0</td>\n",
       "      <td>23.707412</td>\n",
       "      <td>2.510997</td>\n",
       "      <td>5.021993</td>\n",
       "      <td>23.707412</td>\n",
       "      <td>1.185371</td>\n",
       "      <td>3.884549</td>\n",
       "      <td>...</td>\n",
       "      <td>10.042423</td>\n",
       "      <td>53.728274</td>\n",
       "      <td>283.069202</td>\n",
       "      <td>8.577855</td>\n",
       "      <td>706</td>\n",
       "      <td>37</td>\n",
       "      <td>98.0</td>\n",
       "      <td>118.0</td>\n",
       "      <td>10.500000</td>\n",
       "      <td>4.666667</td>\n",
       "    </tr>\n",
       "    <tr>\n",
       "      <th>structure 20000</th>\n",
       "      <td>13.958117</td>\n",
       "      <td>13.394362</td>\n",
       "      <td>1</td>\n",
       "      <td>0</td>\n",
       "      <td>22.217085</td>\n",
       "      <td>2.460514</td>\n",
       "      <td>4.921029</td>\n",
       "      <td>22.217085</td>\n",
       "      <td>1.169320</td>\n",
       "      <td>3.831044</td>\n",
       "      <td>...</td>\n",
       "      <td>9.848979</td>\n",
       "      <td>52.166420</td>\n",
       "      <td>268.094688</td>\n",
       "      <td>7.659848</td>\n",
       "      <td>654</td>\n",
       "      <td>31</td>\n",
       "      <td>92.0</td>\n",
       "      <td>107.0</td>\n",
       "      <td>9.638889</td>\n",
       "      <td>4.333333</td>\n",
       "    </tr>\n",
       "  </tbody>\n",
       "</table>\n",
       "<p>10000 rows × 1385 columns</p>\n",
       "</div>"
      ],
      "text/plain": [
       "                 ABC_SMILES  ABCGG_SMILES  nAcid_SMILES  nBase_SMILES  \\\n",
       "name                                                                    \n",
       "structure 10001   16.942470     16.409722             1             0   \n",
       "structure 10002   14.543903     14.514844             3             1   \n",
       "structure 10003   11.141620     10.474205             1             0   \n",
       "structure 10004   16.027066     15.854732             2             0   \n",
       "structure 10005   17.372330     17.007265             1             0   \n",
       "...                     ...           ...           ...           ...   \n",
       "structure 19996   12.325124     12.146431             1             1   \n",
       "structure 19997   11.577577     11.604428             1             1   \n",
       "structure 19998   15.141620     15.117322             2             0   \n",
       "structure 19999   14.543903     14.451086             2             0   \n",
       "structure 20000   13.958117     13.394362             1             0   \n",
       "\n",
       "                 SpAbs_A_SMILES  SpMax_A_SMILES  SpDiam_A_SMILES  \\\n",
       "name                                                               \n",
       "structure 10001       26.205852        2.534096         5.068191   \n",
       "structure 10002       23.294266        2.516673         5.033345   \n",
       "structure 10003       17.324259        2.371357         4.742715   \n",
       "structure 10004       26.134522        2.527207         5.054414   \n",
       "structure 10005       28.695188        2.528265         5.056529   \n",
       "...                         ...             ...              ...   \n",
       "structure 19996       20.482588        2.454782         4.909564   \n",
       "structure 19997       19.022919        2.467936         4.935872   \n",
       "structure 19998       24.966761        2.520236         5.040472   \n",
       "structure 19999       23.707412        2.510997         5.021993   \n",
       "structure 20000       22.217085        2.460514         4.921029   \n",
       "\n",
       "                 SpAD_A_SMILES  SpMAD_A_SMILES  LogEE_A_SMILES  ...  \\\n",
       "name                                                            ...   \n",
       "structure 10001      26.205852        1.139385        4.023768  ...   \n",
       "structure 10002      23.294266        1.164713        3.884559  ...   \n",
       "structure 10003      17.324259        1.154951        3.597969  ...   \n",
       "structure 10004      26.134522        1.187933        3.978332  ...   \n",
       "structure 10005      28.695188        1.195633        4.060219  ...   \n",
       "...                        ...             ...             ...  ...   \n",
       "structure 19996      20.482588        1.204858        3.722024  ...   \n",
       "structure 19997      19.022919        1.188932        3.665584  ...   \n",
       "structure 19998      24.966761        1.188893        3.930549  ...   \n",
       "structure 19999      23.707412        1.185371        3.884549  ...   \n",
       "structure 20000      22.217085        1.169320        3.831044  ...   \n",
       "\n",
       "                 SRW10_SMILES  TSRW10_SMILES   MW_SMILES  AMW_SMILES  \\\n",
       "name                                                                   \n",
       "structure 10001     10.184787      57.452292  322.214409    6.079517   \n",
       "structure 10002     10.052812      53.742643  283.069202    8.577855   \n",
       "structure 10003      9.465835      46.704770  209.105193    6.970173   \n",
       "structure 10004     10.137967      56.205614  312.059365    9.178217   \n",
       "structure 10005     10.158479      58.456926  333.132471    7.747267   \n",
       "...                       ...            ...         ...         ...   \n",
       "structure 19996      9.781037      49.693515  238.095357    7.680495   \n",
       "structure 19997      9.807692      48.594399  227.079373    7.830323   \n",
       "structure 19998     10.080922      54.920803  298.068867    8.516253   \n",
       "structure 19999     10.042423      53.728274  283.069202    8.577855   \n",
       "structure 20000      9.848979      52.166420  268.094688    7.659848   \n",
       "\n",
       "                 WPath_SMILES  WPol_SMILES  Zagreb1_SMILES  Zagreb2_SMILES  \\\n",
       "name                                                                         \n",
       "structure 10001          1030           40           114.0           134.0   \n",
       "structure 10002           693           37            98.0           118.0   \n",
       "structure 10003           362           21            72.0            81.0   \n",
       "structure 10004           910           41           108.0           130.0   \n",
       "structure 10005          1158           43           116.0           138.0   \n",
       "...                       ...          ...             ...             ...   \n",
       "structure 19996           470           29            82.0            97.0   \n",
       "structure 19997           389           29            78.0            94.0   \n",
       "structure 19998           796           39           102.0           123.0   \n",
       "structure 19999           706           37            98.0           118.0   \n",
       "structure 20000           654           31            92.0           107.0   \n",
       "\n",
       "                 mZagreb1_SMILES  mZagreb2_SMILES  \n",
       "name                                               \n",
       "structure 10001        11.951389         5.194444  \n",
       "structure 10002        10.500000         4.666667  \n",
       "structure 10003         7.416667         3.333333  \n",
       "structure 10004        11.611111         5.111111  \n",
       "structure 10005        12.111111         5.666667  \n",
       "...                          ...              ...  \n",
       "structure 19996         8.527778         4.000000  \n",
       "structure 19997         8.277778         3.777778  \n",
       "structure 19998        10.750000         5.000000  \n",
       "structure 19999        10.500000         4.666667  \n",
       "structure 20000         9.638889         4.333333  \n",
       "\n",
       "[10000 rows x 1385 columns]"
      ]
     },
     "metadata": {},
     "output_type": "display_data"
    },
    {
     "name": "stderr",
     "output_type": "stream",
     "text": [
      "100%|██████████████████████████████████████████████████████████████████████████████████████████████████████████████████████████████████| 10000/10000 [51:53<00:00,  3.21it/s]\n"
     ]
    },
    {
     "data": {
      "text/html": [
       "<div>\n",
       "<style scoped>\n",
       "    .dataframe tbody tr th:only-of-type {\n",
       "        vertical-align: middle;\n",
       "    }\n",
       "\n",
       "    .dataframe tbody tr th {\n",
       "        vertical-align: top;\n",
       "    }\n",
       "\n",
       "    .dataframe thead th {\n",
       "        text-align: right;\n",
       "    }\n",
       "</style>\n",
       "<table border=\"1\" class=\"dataframe\">\n",
       "  <thead>\n",
       "    <tr style=\"text-align: right;\">\n",
       "      <th></th>\n",
       "      <th>ABC_SMILES</th>\n",
       "      <th>ABCGG_SMILES</th>\n",
       "      <th>nAcid_SMILES</th>\n",
       "      <th>nBase_SMILES</th>\n",
       "      <th>SpAbs_A_SMILES</th>\n",
       "      <th>SpMax_A_SMILES</th>\n",
       "      <th>SpDiam_A_SMILES</th>\n",
       "      <th>SpAD_A_SMILES</th>\n",
       "      <th>SpMAD_A_SMILES</th>\n",
       "      <th>LogEE_A_SMILES</th>\n",
       "      <th>...</th>\n",
       "      <th>SRW10_SMILES</th>\n",
       "      <th>TSRW10_SMILES</th>\n",
       "      <th>MW_SMILES</th>\n",
       "      <th>AMW_SMILES</th>\n",
       "      <th>WPath_SMILES</th>\n",
       "      <th>WPol_SMILES</th>\n",
       "      <th>Zagreb1_SMILES</th>\n",
       "      <th>Zagreb2_SMILES</th>\n",
       "      <th>mZagreb1_SMILES</th>\n",
       "      <th>mZagreb2_SMILES</th>\n",
       "    </tr>\n",
       "    <tr>\n",
       "      <th>name</th>\n",
       "      <th></th>\n",
       "      <th></th>\n",
       "      <th></th>\n",
       "      <th></th>\n",
       "      <th></th>\n",
       "      <th></th>\n",
       "      <th></th>\n",
       "      <th></th>\n",
       "      <th></th>\n",
       "      <th></th>\n",
       "      <th></th>\n",
       "      <th></th>\n",
       "      <th></th>\n",
       "      <th></th>\n",
       "      <th></th>\n",
       "      <th></th>\n",
       "      <th></th>\n",
       "      <th></th>\n",
       "      <th></th>\n",
       "      <th></th>\n",
       "      <th></th>\n",
       "    </tr>\n",
       "  </thead>\n",
       "  <tbody>\n",
       "    <tr>\n",
       "      <th>structure 20001</th>\n",
       "      <td>15.291450</td>\n",
       "      <td>14.931148</td>\n",
       "      <td>1</td>\n",
       "      <td>0</td>\n",
       "      <td>24.793791</td>\n",
       "      <td>2.503849</td>\n",
       "      <td>5.007699</td>\n",
       "      <td>24.793791</td>\n",
       "      <td>1.180657</td>\n",
       "      <td>3.930144</td>\n",
       "      <td>...</td>\n",
       "      <td>10.026722</td>\n",
       "      <td>54.815727</td>\n",
       "      <td>298.105253</td>\n",
       "      <td>7.643724</td>\n",
       "      <td>828</td>\n",
       "      <td>37</td>\n",
       "      <td>102.0</td>\n",
       "      <td>121.0</td>\n",
       "      <td>10.750000</td>\n",
       "      <td>4.888889</td>\n",
       "    </tr>\n",
       "    <tr>\n",
       "      <th>structure 20002</th>\n",
       "      <td>14.693733</td>\n",
       "      <td>14.360549</td>\n",
       "      <td>1</td>\n",
       "      <td>0</td>\n",
       "      <td>23.222569</td>\n",
       "      <td>2.495786</td>\n",
       "      <td>4.991572</td>\n",
       "      <td>23.222569</td>\n",
       "      <td>1.161128</td>\n",
       "      <td>3.884126</td>\n",
       "      <td>...</td>\n",
       "      <td>9.986955</td>\n",
       "      <td>53.620112</td>\n",
       "      <td>283.105587</td>\n",
       "      <td>7.651502</td>\n",
       "      <td>716</td>\n",
       "      <td>35</td>\n",
       "      <td>98.0</td>\n",
       "      <td>116.0</td>\n",
       "      <td>10.500000</td>\n",
       "      <td>4.555556</td>\n",
       "    </tr>\n",
       "    <tr>\n",
       "      <th>structure 20003</th>\n",
       "      <td>15.141620</td>\n",
       "      <td>15.037423</td>\n",
       "      <td>1</td>\n",
       "      <td>0</td>\n",
       "      <td>25.386721</td>\n",
       "      <td>2.514279</td>\n",
       "      <td>5.028558</td>\n",
       "      <td>25.386721</td>\n",
       "      <td>1.208891</td>\n",
       "      <td>3.930539</td>\n",
       "      <td>...</td>\n",
       "      <td>10.070822</td>\n",
       "      <td>54.906845</td>\n",
       "      <td>293.064785</td>\n",
       "      <td>9.158275</td>\n",
       "      <td>814</td>\n",
       "      <td>39</td>\n",
       "      <td>102.0</td>\n",
       "      <td>123.0</td>\n",
       "      <td>10.750000</td>\n",
       "      <td>5.000000</td>\n",
       "    </tr>\n",
       "    <tr>\n",
       "      <th>structure 20004</th>\n",
       "      <td>13.808287</td>\n",
       "      <td>13.549534</td>\n",
       "      <td>1</td>\n",
       "      <td>1</td>\n",
       "      <td>22.302097</td>\n",
       "      <td>2.484215</td>\n",
       "      <td>4.968431</td>\n",
       "      <td>22.302097</td>\n",
       "      <td>1.173795</td>\n",
       "      <td>3.831496</td>\n",
       "      <td>...</td>\n",
       "      <td>9.918819</td>\n",
       "      <td>52.296888</td>\n",
       "      <td>262.131742</td>\n",
       "      <td>7.084642</td>\n",
       "      <td>632</td>\n",
       "      <td>33</td>\n",
       "      <td>92.0</td>\n",
       "      <td>109.0</td>\n",
       "      <td>9.638889</td>\n",
       "      <td>4.444444</td>\n",
       "    </tr>\n",
       "    <tr>\n",
       "      <th>structure 20005</th>\n",
       "      <td>17.080370</td>\n",
       "      <td>16.751687</td>\n",
       "      <td>3</td>\n",
       "      <td>0</td>\n",
       "      <td>25.948930</td>\n",
       "      <td>2.553562</td>\n",
       "      <td>5.107123</td>\n",
       "      <td>25.948930</td>\n",
       "      <td>1.128214</td>\n",
       "      <td>4.027768</td>\n",
       "      <td>...</td>\n",
       "      <td>10.258957</td>\n",
       "      <td>57.646566</td>\n",
       "      <td>324.120903</td>\n",
       "      <td>7.537695</td>\n",
       "      <td>992</td>\n",
       "      <td>42</td>\n",
       "      <td>116.0</td>\n",
       "      <td>138.0</td>\n",
       "      <td>12.562500</td>\n",
       "      <td>5.083333</td>\n",
       "    </tr>\n",
       "    <tr>\n",
       "      <th>...</th>\n",
       "      <td>...</td>\n",
       "      <td>...</td>\n",
       "      <td>...</td>\n",
       "      <td>...</td>\n",
       "      <td>...</td>\n",
       "      <td>...</td>\n",
       "      <td>...</td>\n",
       "      <td>...</td>\n",
       "      <td>...</td>\n",
       "      <td>...</td>\n",
       "      <td>...</td>\n",
       "      <td>...</td>\n",
       "      <td>...</td>\n",
       "      <td>...</td>\n",
       "      <td>...</td>\n",
       "      <td>...</td>\n",
       "      <td>...</td>\n",
       "      <td>...</td>\n",
       "      <td>...</td>\n",
       "      <td>...</td>\n",
       "      <td>...</td>\n",
       "    </tr>\n",
       "    <tr>\n",
       "      <th>structure 29996</th>\n",
       "      <td>18.079437</td>\n",
       "      <td>17.575575</td>\n",
       "      <td>1</td>\n",
       "      <td>0</td>\n",
       "      <td>29.741695</td>\n",
       "      <td>2.530771</td>\n",
       "      <td>5.061541</td>\n",
       "      <td>29.741695</td>\n",
       "      <td>1.189668</td>\n",
       "      <td>4.098782</td>\n",
       "      <td>...</td>\n",
       "      <td>10.172407</td>\n",
       "      <td>59.582622</td>\n",
       "      <td>351.168188</td>\n",
       "      <td>7.023364</td>\n",
       "      <td>1288</td>\n",
       "      <td>44</td>\n",
       "      <td>120.0</td>\n",
       "      <td>142.0</td>\n",
       "      <td>12.361111</td>\n",
       "      <td>5.916667</td>\n",
       "    </tr>\n",
       "    <tr>\n",
       "      <th>structure 29997</th>\n",
       "      <td>14.890100</td>\n",
       "      <td>14.653549</td>\n",
       "      <td>1</td>\n",
       "      <td>0</td>\n",
       "      <td>22.786857</td>\n",
       "      <td>2.527649</td>\n",
       "      <td>5.055297</td>\n",
       "      <td>22.786857</td>\n",
       "      <td>1.139343</td>\n",
       "      <td>3.893287</td>\n",
       "      <td>...</td>\n",
       "      <td>10.142544</td>\n",
       "      <td>54.046538</td>\n",
       "      <td>284.089603</td>\n",
       "      <td>7.891378</td>\n",
       "      <td>702</td>\n",
       "      <td>37</td>\n",
       "      <td>102.0</td>\n",
       "      <td>122.0</td>\n",
       "      <td>11.201389</td>\n",
       "      <td>4.388889</td>\n",
       "    </tr>\n",
       "    <tr>\n",
       "      <th>structure 29998</th>\n",
       "      <td>8.910910</td>\n",
       "      <td>8.632017</td>\n",
       "      <td>1</td>\n",
       "      <td>0</td>\n",
       "      <td>13.407823</td>\n",
       "      <td>2.358294</td>\n",
       "      <td>4.716589</td>\n",
       "      <td>13.407823</td>\n",
       "      <td>1.117319</td>\n",
       "      <td>3.383453</td>\n",
       "      <td>...</td>\n",
       "      <td>9.324115</td>\n",
       "      <td>42.775979</td>\n",
       "      <td>166.062994</td>\n",
       "      <td>7.548318</td>\n",
       "      <td>184</td>\n",
       "      <td>17</td>\n",
       "      <td>58.0</td>\n",
       "      <td>66.0</td>\n",
       "      <td>6.055556</td>\n",
       "      <td>2.666667</td>\n",
       "    </tr>\n",
       "    <tr>\n",
       "      <th>structure 29999</th>\n",
       "      <td>13.658457</td>\n",
       "      <td>13.693842</td>\n",
       "      <td>2</td>\n",
       "      <td>0</td>\n",
       "      <td>22.551037</td>\n",
       "      <td>2.501933</td>\n",
       "      <td>5.003865</td>\n",
       "      <td>22.551037</td>\n",
       "      <td>1.186897</td>\n",
       "      <td>3.831943</td>\n",
       "      <td>...</td>\n",
       "      <td>9.979012</td>\n",
       "      <td>52.413501</td>\n",
       "      <td>260.043321</td>\n",
       "      <td>9.631234</td>\n",
       "      <td>612</td>\n",
       "      <td>35</td>\n",
       "      <td>92.0</td>\n",
       "      <td>111.0</td>\n",
       "      <td>9.638889</td>\n",
       "      <td>4.555556</td>\n",
       "    </tr>\n",
       "    <tr>\n",
       "      <th>structure 30000</th>\n",
       "      <td>14.555834</td>\n",
       "      <td>14.003813</td>\n",
       "      <td>1</td>\n",
       "      <td>0</td>\n",
       "      <td>23.414407</td>\n",
       "      <td>2.462317</td>\n",
       "      <td>4.924634</td>\n",
       "      <td>23.414407</td>\n",
       "      <td>1.170720</td>\n",
       "      <td>3.879501</td>\n",
       "      <td>...</td>\n",
       "      <td>9.881293</td>\n",
       "      <td>53.362325</td>\n",
       "      <td>281.126323</td>\n",
       "      <td>7.208367</td>\n",
       "      <td>752</td>\n",
       "      <td>33</td>\n",
       "      <td>96.0</td>\n",
       "      <td>112.0</td>\n",
       "      <td>9.888889</td>\n",
       "      <td>4.666667</td>\n",
       "    </tr>\n",
       "  </tbody>\n",
       "</table>\n",
       "<p>10000 rows × 1385 columns</p>\n",
       "</div>"
      ],
      "text/plain": [
       "                 ABC_SMILES  ABCGG_SMILES  nAcid_SMILES  nBase_SMILES  \\\n",
       "name                                                                    \n",
       "structure 20001   15.291450     14.931148             1             0   \n",
       "structure 20002   14.693733     14.360549             1             0   \n",
       "structure 20003   15.141620     15.037423             1             0   \n",
       "structure 20004   13.808287     13.549534             1             1   \n",
       "structure 20005   17.080370     16.751687             3             0   \n",
       "...                     ...           ...           ...           ...   \n",
       "structure 29996   18.079437     17.575575             1             0   \n",
       "structure 29997   14.890100     14.653549             1             0   \n",
       "structure 29998    8.910910      8.632017             1             0   \n",
       "structure 29999   13.658457     13.693842             2             0   \n",
       "structure 30000   14.555834     14.003813             1             0   \n",
       "\n",
       "                 SpAbs_A_SMILES  SpMax_A_SMILES  SpDiam_A_SMILES  \\\n",
       "name                                                               \n",
       "structure 20001       24.793791        2.503849         5.007699   \n",
       "structure 20002       23.222569        2.495786         4.991572   \n",
       "structure 20003       25.386721        2.514279         5.028558   \n",
       "structure 20004       22.302097        2.484215         4.968431   \n",
       "structure 20005       25.948930        2.553562         5.107123   \n",
       "...                         ...             ...              ...   \n",
       "structure 29996       29.741695        2.530771         5.061541   \n",
       "structure 29997       22.786857        2.527649         5.055297   \n",
       "structure 29998       13.407823        2.358294         4.716589   \n",
       "structure 29999       22.551037        2.501933         5.003865   \n",
       "structure 30000       23.414407        2.462317         4.924634   \n",
       "\n",
       "                 SpAD_A_SMILES  SpMAD_A_SMILES  LogEE_A_SMILES  ...  \\\n",
       "name                                                            ...   \n",
       "structure 20001      24.793791        1.180657        3.930144  ...   \n",
       "structure 20002      23.222569        1.161128        3.884126  ...   \n",
       "structure 20003      25.386721        1.208891        3.930539  ...   \n",
       "structure 20004      22.302097        1.173795        3.831496  ...   \n",
       "structure 20005      25.948930        1.128214        4.027768  ...   \n",
       "...                        ...             ...             ...  ...   \n",
       "structure 29996      29.741695        1.189668        4.098782  ...   \n",
       "structure 29997      22.786857        1.139343        3.893287  ...   \n",
       "structure 29998      13.407823        1.117319        3.383453  ...   \n",
       "structure 29999      22.551037        1.186897        3.831943  ...   \n",
       "structure 30000      23.414407        1.170720        3.879501  ...   \n",
       "\n",
       "                 SRW10_SMILES  TSRW10_SMILES   MW_SMILES  AMW_SMILES  \\\n",
       "name                                                                   \n",
       "structure 20001     10.026722      54.815727  298.105253    7.643724   \n",
       "structure 20002      9.986955      53.620112  283.105587    7.651502   \n",
       "structure 20003     10.070822      54.906845  293.064785    9.158275   \n",
       "structure 20004      9.918819      52.296888  262.131742    7.084642   \n",
       "structure 20005     10.258957      57.646566  324.120903    7.537695   \n",
       "...                       ...            ...         ...         ...   \n",
       "structure 29996     10.172407      59.582622  351.168188    7.023364   \n",
       "structure 29997     10.142544      54.046538  284.089603    7.891378   \n",
       "structure 29998      9.324115      42.775979  166.062994    7.548318   \n",
       "structure 29999      9.979012      52.413501  260.043321    9.631234   \n",
       "structure 30000      9.881293      53.362325  281.126323    7.208367   \n",
       "\n",
       "                 WPath_SMILES  WPol_SMILES  Zagreb1_SMILES  Zagreb2_SMILES  \\\n",
       "name                                                                         \n",
       "structure 20001           828           37           102.0           121.0   \n",
       "structure 20002           716           35            98.0           116.0   \n",
       "structure 20003           814           39           102.0           123.0   \n",
       "structure 20004           632           33            92.0           109.0   \n",
       "structure 20005           992           42           116.0           138.0   \n",
       "...                       ...          ...             ...             ...   \n",
       "structure 29996          1288           44           120.0           142.0   \n",
       "structure 29997           702           37           102.0           122.0   \n",
       "structure 29998           184           17            58.0            66.0   \n",
       "structure 29999           612           35            92.0           111.0   \n",
       "structure 30000           752           33            96.0           112.0   \n",
       "\n",
       "                 mZagreb1_SMILES  mZagreb2_SMILES  \n",
       "name                                               \n",
       "structure 20001        10.750000         4.888889  \n",
       "structure 20002        10.500000         4.555556  \n",
       "structure 20003        10.750000         5.000000  \n",
       "structure 20004         9.638889         4.444444  \n",
       "structure 20005        12.562500         5.083333  \n",
       "...                          ...              ...  \n",
       "structure 29996        12.361111         5.916667  \n",
       "structure 29997        11.201389         4.388889  \n",
       "structure 29998         6.055556         2.666667  \n",
       "structure 29999         9.638889         4.555556  \n",
       "structure 30000         9.888889         4.666667  \n",
       "\n",
       "[10000 rows x 1385 columns]"
      ]
     },
     "metadata": {},
     "output_type": "display_data"
    },
    {
     "name": "stderr",
     "output_type": "stream",
     "text": [
      "100%|████████████████████████████████████████████████████████████████████████████████████████████████████████████████████████████████████| 5621/5621 [29:25<00:00,  3.18it/s]\n"
     ]
    },
    {
     "data": {
      "text/html": [
       "<div>\n",
       "<style scoped>\n",
       "    .dataframe tbody tr th:only-of-type {\n",
       "        vertical-align: middle;\n",
       "    }\n",
       "\n",
       "    .dataframe tbody tr th {\n",
       "        vertical-align: top;\n",
       "    }\n",
       "\n",
       "    .dataframe thead th {\n",
       "        text-align: right;\n",
       "    }\n",
       "</style>\n",
       "<table border=\"1\" class=\"dataframe\">\n",
       "  <thead>\n",
       "    <tr style=\"text-align: right;\">\n",
       "      <th></th>\n",
       "      <th>ABC_SMILES</th>\n",
       "      <th>ABCGG_SMILES</th>\n",
       "      <th>nAcid_SMILES</th>\n",
       "      <th>nBase_SMILES</th>\n",
       "      <th>SpAbs_A_SMILES</th>\n",
       "      <th>SpMax_A_SMILES</th>\n",
       "      <th>SpDiam_A_SMILES</th>\n",
       "      <th>SpAD_A_SMILES</th>\n",
       "      <th>SpMAD_A_SMILES</th>\n",
       "      <th>LogEE_A_SMILES</th>\n",
       "      <th>...</th>\n",
       "      <th>SRW10_SMILES</th>\n",
       "      <th>TSRW10_SMILES</th>\n",
       "      <th>MW_SMILES</th>\n",
       "      <th>AMW_SMILES</th>\n",
       "      <th>WPath_SMILES</th>\n",
       "      <th>WPol_SMILES</th>\n",
       "      <th>Zagreb1_SMILES</th>\n",
       "      <th>Zagreb2_SMILES</th>\n",
       "      <th>mZagreb1_SMILES</th>\n",
       "      <th>mZagreb2_SMILES</th>\n",
       "    </tr>\n",
       "    <tr>\n",
       "      <th>name</th>\n",
       "      <th></th>\n",
       "      <th></th>\n",
       "      <th></th>\n",
       "      <th></th>\n",
       "      <th></th>\n",
       "      <th></th>\n",
       "      <th></th>\n",
       "      <th></th>\n",
       "      <th></th>\n",
       "      <th></th>\n",
       "      <th></th>\n",
       "      <th></th>\n",
       "      <th></th>\n",
       "      <th></th>\n",
       "      <th></th>\n",
       "      <th></th>\n",
       "      <th></th>\n",
       "      <th></th>\n",
       "      <th></th>\n",
       "      <th></th>\n",
       "      <th></th>\n",
       "    </tr>\n",
       "  </thead>\n",
       "  <tbody>\n",
       "    <tr>\n",
       "      <th>structure 30001</th>\n",
       "      <td>13.917677</td>\n",
       "      <td>13.436504</td>\n",
       "      <td>1</td>\n",
       "      <td>0</td>\n",
       "      <td>22.253112</td>\n",
       "      <td>2.477339</td>\n",
       "      <td>4.954678</td>\n",
       "      <td>22.253112</td>\n",
       "      <td>1.171216</td>\n",
       "      <td>3.831278</td>\n",
       "      <td>...</td>\n",
       "      <td>9.893387</td>\n",
       "      <td>52.244801</td>\n",
       "      <td>266.163043</td>\n",
       "      <td>6.491782</td>\n",
       "      <td>646</td>\n",
       "      <td>32</td>\n",
       "      <td>92.0</td>\n",
       "      <td>108.0</td>\n",
       "      <td>9.638889</td>\n",
       "      <td>4.361111</td>\n",
       "    </tr>\n",
       "    <tr>\n",
       "      <th>structure 30002</th>\n",
       "      <td>14.500680</td>\n",
       "      <td>14.142349</td>\n",
       "      <td>1</td>\n",
       "      <td>0</td>\n",
       "      <td>20.295556</td>\n",
       "      <td>2.529497</td>\n",
       "      <td>5.058994</td>\n",
       "      <td>20.295556</td>\n",
       "      <td>1.068187</td>\n",
       "      <td>3.849844</td>\n",
       "      <td>...</td>\n",
       "      <td>10.142465</td>\n",
       "      <td>52.981323</td>\n",
       "      <td>266.151809</td>\n",
       "      <td>6.491508</td>\n",
       "      <td>590</td>\n",
       "      <td>33</td>\n",
       "      <td>100.0</td>\n",
       "      <td>117.0</td>\n",
       "      <td>11.041667</td>\n",
       "      <td>3.888889</td>\n",
       "    </tr>\n",
       "    <tr>\n",
       "      <th>structure 30003</th>\n",
       "      <td>15.441280</td>\n",
       "      <td>14.882613</td>\n",
       "      <td>1</td>\n",
       "      <td>0</td>\n",
       "      <td>24.103954</td>\n",
       "      <td>2.491466</td>\n",
       "      <td>4.982932</td>\n",
       "      <td>24.103954</td>\n",
       "      <td>1.147807</td>\n",
       "      <td>3.929748</td>\n",
       "      <td>...</td>\n",
       "      <td>9.979661</td>\n",
       "      <td>54.720381</td>\n",
       "      <td>295.178358</td>\n",
       "      <td>6.416921</td>\n",
       "      <td>828</td>\n",
       "      <td>35</td>\n",
       "      <td>102.0</td>\n",
       "      <td>119.0</td>\n",
       "      <td>10.750000</td>\n",
       "      <td>4.777778</td>\n",
       "    </tr>\n",
       "    <tr>\n",
       "      <th>structure 30004</th>\n",
       "      <td>15.487817</td>\n",
       "      <td>15.320318</td>\n",
       "      <td>1</td>\n",
       "      <td>0</td>\n",
       "      <td>24.298042</td>\n",
       "      <td>2.535510</td>\n",
       "      <td>5.071019</td>\n",
       "      <td>24.298042</td>\n",
       "      <td>1.157050</td>\n",
       "      <td>3.938895</td>\n",
       "      <td>...</td>\n",
       "      <td>10.176678</td>\n",
       "      <td>55.227435</td>\n",
       "      <td>292.105922</td>\n",
       "      <td>7.894755</td>\n",
       "      <td>792</td>\n",
       "      <td>39</td>\n",
       "      <td>106.0</td>\n",
       "      <td>127.0</td>\n",
       "      <td>11.451389</td>\n",
       "      <td>4.722222</td>\n",
       "    </tr>\n",
       "    <tr>\n",
       "      <th>structure 30005</th>\n",
       "      <td>16.774613</td>\n",
       "      <td>16.428494</td>\n",
       "      <td>2</td>\n",
       "      <td>0</td>\n",
       "      <td>26.648762</td>\n",
       "      <td>2.524709</td>\n",
       "      <td>5.049418</td>\n",
       "      <td>26.648762</td>\n",
       "      <td>1.158642</td>\n",
       "      <td>4.019937</td>\n",
       "      <td>...</td>\n",
       "      <td>10.131698</td>\n",
       "      <td>57.296920</td>\n",
       "      <td>321.084852</td>\n",
       "      <td>8.449601</td>\n",
       "      <td>1024</td>\n",
       "      <td>41</td>\n",
       "      <td>112.0</td>\n",
       "      <td>133.0</td>\n",
       "      <td>11.861111</td>\n",
       "      <td>5.333333</td>\n",
       "    </tr>\n",
       "    <tr>\n",
       "      <th>...</th>\n",
       "      <td>...</td>\n",
       "      <td>...</td>\n",
       "      <td>...</td>\n",
       "      <td>...</td>\n",
       "      <td>...</td>\n",
       "      <td>...</td>\n",
       "      <td>...</td>\n",
       "      <td>...</td>\n",
       "      <td>...</td>\n",
       "      <td>...</td>\n",
       "      <td>...</td>\n",
       "      <td>...</td>\n",
       "      <td>...</td>\n",
       "      <td>...</td>\n",
       "      <td>...</td>\n",
       "      <td>...</td>\n",
       "      <td>...</td>\n",
       "      <td>...</td>\n",
       "      <td>...</td>\n",
       "      <td>...</td>\n",
       "      <td>...</td>\n",
       "    </tr>\n",
       "    <tr>\n",
       "      <th>structure 35617</th>\n",
       "      <td>12.325124</td>\n",
       "      <td>12.105839</td>\n",
       "      <td>1</td>\n",
       "      <td>1</td>\n",
       "      <td>20.138021</td>\n",
       "      <td>2.446632</td>\n",
       "      <td>4.893264</td>\n",
       "      <td>20.138021</td>\n",
       "      <td>1.184589</td>\n",
       "      <td>3.722013</td>\n",
       "      <td>...</td>\n",
       "      <td>9.766808</td>\n",
       "      <td>49.674253</td>\n",
       "      <td>240.074621</td>\n",
       "      <td>8.278435</td>\n",
       "      <td>476</td>\n",
       "      <td>29</td>\n",
       "      <td>82.0</td>\n",
       "      <td>97.0</td>\n",
       "      <td>8.527778</td>\n",
       "      <td>4.000000</td>\n",
       "    </tr>\n",
       "    <tr>\n",
       "      <th>structure 35618</th>\n",
       "      <td>15.487817</td>\n",
       "      <td>15.328636</td>\n",
       "      <td>1</td>\n",
       "      <td>1</td>\n",
       "      <td>23.903211</td>\n",
       "      <td>2.534041</td>\n",
       "      <td>5.068083</td>\n",
       "      <td>23.903211</td>\n",
       "      <td>1.138248</td>\n",
       "      <td>3.938895</td>\n",
       "      <td>...</td>\n",
       "      <td>10.175536</td>\n",
       "      <td>55.226293</td>\n",
       "      <td>295.153206</td>\n",
       "      <td>7.027457</td>\n",
       "      <td>790</td>\n",
       "      <td>39</td>\n",
       "      <td>106.0</td>\n",
       "      <td>127.0</td>\n",
       "      <td>11.451389</td>\n",
       "      <td>4.722222</td>\n",
       "    </tr>\n",
       "    <tr>\n",
       "      <th>structure 35619</th>\n",
       "      <td>14.963281</td>\n",
       "      <td>14.865729</td>\n",
       "      <td>1</td>\n",
       "      <td>1</td>\n",
       "      <td>25.224636</td>\n",
       "      <td>2.508570</td>\n",
       "      <td>5.017141</td>\n",
       "      <td>25.224636</td>\n",
       "      <td>1.201173</td>\n",
       "      <td>3.926347</td>\n",
       "      <td>...</td>\n",
       "      <td>10.025395</td>\n",
       "      <td>54.752631</td>\n",
       "      <td>292.105922</td>\n",
       "      <td>7.894755</td>\n",
       "      <td>810</td>\n",
       "      <td>38</td>\n",
       "      <td>100.0</td>\n",
       "      <td>120.0</td>\n",
       "      <td>10.138889</td>\n",
       "      <td>5.138889</td>\n",
       "    </tr>\n",
       "    <tr>\n",
       "      <th>structure 35620</th>\n",
       "      <td>11.589507</td>\n",
       "      <td>11.237244</td>\n",
       "      <td>1</td>\n",
       "      <td>1</td>\n",
       "      <td>19.313792</td>\n",
       "      <td>2.402959</td>\n",
       "      <td>4.805918</td>\n",
       "      <td>19.313792</td>\n",
       "      <td>1.207112</td>\n",
       "      <td>3.659285</td>\n",
       "      <td>...</td>\n",
       "      <td>9.588982</td>\n",
       "      <td>48.109825</td>\n",
       "      <td>224.079707</td>\n",
       "      <td>8.002847</td>\n",
       "      <td>415</td>\n",
       "      <td>25</td>\n",
       "      <td>76.0</td>\n",
       "      <td>88.0</td>\n",
       "      <td>7.666667</td>\n",
       "      <td>3.777778</td>\n",
       "    </tr>\n",
       "    <tr>\n",
       "      <th>structure 35621</th>\n",
       "      <td>12.474954</td>\n",
       "      <td>11.968704</td>\n",
       "      <td>1</td>\n",
       "      <td>0</td>\n",
       "      <td>19.312767</td>\n",
       "      <td>2.433543</td>\n",
       "      <td>4.867087</td>\n",
       "      <td>19.312767</td>\n",
       "      <td>1.136045</td>\n",
       "      <td>3.721536</td>\n",
       "      <td>...</td>\n",
       "      <td>9.718061</td>\n",
       "      <td>49.569712</td>\n",
       "      <td>236.141244</td>\n",
       "      <td>6.382196</td>\n",
       "      <td>492</td>\n",
       "      <td>27</td>\n",
       "      <td>82.0</td>\n",
       "      <td>95.0</td>\n",
       "      <td>8.527778</td>\n",
       "      <td>3.888889</td>\n",
       "    </tr>\n",
       "  </tbody>\n",
       "</table>\n",
       "<p>5621 rows × 1385 columns</p>\n",
       "</div>"
      ],
      "text/plain": [
       "                 ABC_SMILES  ABCGG_SMILES  nAcid_SMILES  nBase_SMILES  \\\n",
       "name                                                                    \n",
       "structure 30001   13.917677     13.436504             1             0   \n",
       "structure 30002   14.500680     14.142349             1             0   \n",
       "structure 30003   15.441280     14.882613             1             0   \n",
       "structure 30004   15.487817     15.320318             1             0   \n",
       "structure 30005   16.774613     16.428494             2             0   \n",
       "...                     ...           ...           ...           ...   \n",
       "structure 35617   12.325124     12.105839             1             1   \n",
       "structure 35618   15.487817     15.328636             1             1   \n",
       "structure 35619   14.963281     14.865729             1             1   \n",
       "structure 35620   11.589507     11.237244             1             1   \n",
       "structure 35621   12.474954     11.968704             1             0   \n",
       "\n",
       "                 SpAbs_A_SMILES  SpMax_A_SMILES  SpDiam_A_SMILES  \\\n",
       "name                                                               \n",
       "structure 30001       22.253112        2.477339         4.954678   \n",
       "structure 30002       20.295556        2.529497         5.058994   \n",
       "structure 30003       24.103954        2.491466         4.982932   \n",
       "structure 30004       24.298042        2.535510         5.071019   \n",
       "structure 30005       26.648762        2.524709         5.049418   \n",
       "...                         ...             ...              ...   \n",
       "structure 35617       20.138021        2.446632         4.893264   \n",
       "structure 35618       23.903211        2.534041         5.068083   \n",
       "structure 35619       25.224636        2.508570         5.017141   \n",
       "structure 35620       19.313792        2.402959         4.805918   \n",
       "structure 35621       19.312767        2.433543         4.867087   \n",
       "\n",
       "                 SpAD_A_SMILES  SpMAD_A_SMILES  LogEE_A_SMILES  ...  \\\n",
       "name                                                            ...   \n",
       "structure 30001      22.253112        1.171216        3.831278  ...   \n",
       "structure 30002      20.295556        1.068187        3.849844  ...   \n",
       "structure 30003      24.103954        1.147807        3.929748  ...   \n",
       "structure 30004      24.298042        1.157050        3.938895  ...   \n",
       "structure 30005      26.648762        1.158642        4.019937  ...   \n",
       "...                        ...             ...             ...  ...   \n",
       "structure 35617      20.138021        1.184589        3.722013  ...   \n",
       "structure 35618      23.903211        1.138248        3.938895  ...   \n",
       "structure 35619      25.224636        1.201173        3.926347  ...   \n",
       "structure 35620      19.313792        1.207112        3.659285  ...   \n",
       "structure 35621      19.312767        1.136045        3.721536  ...   \n",
       "\n",
       "                 SRW10_SMILES  TSRW10_SMILES   MW_SMILES  AMW_SMILES  \\\n",
       "name                                                                   \n",
       "structure 30001      9.893387      52.244801  266.163043    6.491782   \n",
       "structure 30002     10.142465      52.981323  266.151809    6.491508   \n",
       "structure 30003      9.979661      54.720381  295.178358    6.416921   \n",
       "structure 30004     10.176678      55.227435  292.105922    7.894755   \n",
       "structure 30005     10.131698      57.296920  321.084852    8.449601   \n",
       "...                       ...            ...         ...         ...   \n",
       "structure 35617      9.766808      49.674253  240.074621    8.278435   \n",
       "structure 35618     10.175536      55.226293  295.153206    7.027457   \n",
       "structure 35619     10.025395      54.752631  292.105922    7.894755   \n",
       "structure 35620      9.588982      48.109825  224.079707    8.002847   \n",
       "structure 35621      9.718061      49.569712  236.141244    6.382196   \n",
       "\n",
       "                 WPath_SMILES  WPol_SMILES  Zagreb1_SMILES  Zagreb2_SMILES  \\\n",
       "name                                                                         \n",
       "structure 30001           646           32            92.0           108.0   \n",
       "structure 30002           590           33           100.0           117.0   \n",
       "structure 30003           828           35           102.0           119.0   \n",
       "structure 30004           792           39           106.0           127.0   \n",
       "structure 30005          1024           41           112.0           133.0   \n",
       "...                       ...          ...             ...             ...   \n",
       "structure 35617           476           29            82.0            97.0   \n",
       "structure 35618           790           39           106.0           127.0   \n",
       "structure 35619           810           38           100.0           120.0   \n",
       "structure 35620           415           25            76.0            88.0   \n",
       "structure 35621           492           27            82.0            95.0   \n",
       "\n",
       "                 mZagreb1_SMILES  mZagreb2_SMILES  \n",
       "name                                               \n",
       "structure 30001         9.638889         4.361111  \n",
       "structure 30002        11.041667         3.888889  \n",
       "structure 30003        10.750000         4.777778  \n",
       "structure 30004        11.451389         4.722222  \n",
       "structure 30005        11.861111         5.333333  \n",
       "...                          ...              ...  \n",
       "structure 35617         8.527778         4.000000  \n",
       "structure 35618        11.451389         4.722222  \n",
       "structure 35619        10.138889         5.138889  \n",
       "structure 35620         7.666667         3.777778  \n",
       "structure 35621         8.527778         3.888889  \n",
       "\n",
       "[5621 rows x 1385 columns]"
      ]
     },
     "metadata": {},
     "output_type": "display_data"
    }
   ],
   "source": [
    "# structure_creation\n",
    "FINGER_COLUMN=['SMILES']\n",
    "finger_method = 'mordred_2d'\n",
    "df = pd.read_csv('./data/structure_creation/generated.csv',index_col=0)\n",
    "split_num = 10000\n",
    "for i in range(round(df.shape[0]/split_num)):\n",
    "    start = i * split_num\n",
    "    df_structure = toFinger(df.iloc[start:start+split_num,:],FINGER_COLUMN,finger_method)\n",
    "    display(df_structure)\n",
    "    df_structure.to_csv(f'./data/structure_creation/{finger_method}_{i}.csv')"
   ]
  },
  {
   "cell_type": "code",
   "execution_count": 108,
   "id": "de3bd9df-7f9e-433e-a491-f282fa968c6e",
   "metadata": {
    "collapsed": true,
    "jupyter": {
     "outputs_hidden": true
    },
    "tags": []
   },
   "outputs": [
    {
     "name": "stdout",
     "output_type": "stream",
     "text": [
      "0 回目\n"
     ]
    },
    {
     "name": "stderr",
     "output_type": "stream",
     "text": [
      "100%|██████████████████████████████████████████████████████████████████████████████████████████████████████████████████████████████████████████| 1/1 [00:01<00:00,  1.36s/it]\n"
     ]
    },
    {
     "name": "stdout",
     "output_type": "stream",
     "text": [
      "/Users/watanabeyuitou/opt/anaconda3/envs/chem/lib/python3.9/site-packages/numpy/core/fromnumeric.py:86: RuntimeWarning: overflow encountered in reduce\n",
      "  return ufunc.reduce(obj, axis, dtype, out, **passkwargs)\n",
      "(1, 1178)\n",
      "\"['ATS1s_SMILES', 'GATS4s_SMILES'] not in index\"\n",
      "1 回目\n"
     ]
    },
    {
     "name": "stderr",
     "output_type": "stream",
     "text": [
      "100%|██████████████████████████████████████████████████████████████████████████████████████████████████████████████████████████████████████████| 1/1 [00:01<00:00,  1.03s/it]\n"
     ]
    },
    {
     "name": "stdout",
     "output_type": "stream",
     "text": [
      "(1, 1444)\n",
      "1\n",
      "2 回目\n"
     ]
    },
    {
     "name": "stderr",
     "output_type": "stream",
     "text": [
      "100%|██████████████████████████████████████████████████████████████████████████████████████████████████████████████████████████████████████████| 1/1 [00:01<00:00,  1.09s/it]\n"
     ]
    },
    {
     "name": "stdout",
     "output_type": "stream",
     "text": [
      "(1, 1443)\n",
      "1\n",
      "3 回目\n"
     ]
    },
    {
     "name": "stderr",
     "output_type": "stream",
     "text": [
      "100%|██████████████████████████████████████████████████████████████████████████████████████████████████████████████████████████████████████████| 1/1 [00:01<00:00,  1.18s/it]\n"
     ]
    },
    {
     "name": "stdout",
     "output_type": "stream",
     "text": [
      "(1, 1449)\n",
      "1\n",
      "4 回目\n"
     ]
    },
    {
     "name": "stderr",
     "output_type": "stream",
     "text": [
      "100%|██████████████████████████████████████████████████████████████████████████████████████████████████████████████████████████████████████████| 1/1 [00:01<00:00,  1.14s/it]\n"
     ]
    },
    {
     "name": "stdout",
     "output_type": "stream",
     "text": [
      "(1, 1400)\n",
      "1\n",
      "5 回目\n"
     ]
    },
    {
     "name": "stderr",
     "output_type": "stream",
     "text": [
      "100%|██████████████████████████████████████████████████████████████████████████████████████████████████████████████████████████████████████████| 1/1 [00:01<00:00,  1.54s/it]\n"
     ]
    },
    {
     "name": "stdout",
     "output_type": "stream",
     "text": [
      "(1, 1448)\n",
      "1\n",
      "6 回目\n"
     ]
    },
    {
     "name": "stderr",
     "output_type": "stream",
     "text": [
      "100%|██████████████████████████████████████████████████████████████████████████████████████████████████████████████████████████████████████████| 1/1 [00:01<00:00,  1.28s/it]\n"
     ]
    },
    {
     "name": "stdout",
     "output_type": "stream",
     "text": [
      "(1, 1176)\n",
      "\"['ATS1s_SMILES', 'GATS4s_SMILES'] not in index\"\n",
      "7 回目\n"
     ]
    },
    {
     "name": "stderr",
     "output_type": "stream",
     "text": [
      "100%|██████████████████████████████████████████████████████████████████████████████████████████████████████████████████████████████████████████| 1/1 [00:01<00:00,  1.03s/it]\n"
     ]
    },
    {
     "name": "stdout",
     "output_type": "stream",
     "text": [
      "(1, 1089)\n",
      "\"['ATS1s_SMILES', 'GATS4s_SMILES'] not in index\"\n",
      "8 回目\n"
     ]
    },
    {
     "name": "stderr",
     "output_type": "stream",
     "text": [
      "100%|██████████████████████████████████████████████████████████████████████████████████████████████████████████████████████████████████████████| 1/1 [00:00<00:00,  1.11it/s]\n"
     ]
    },
    {
     "name": "stdout",
     "output_type": "stream",
     "text": [
      "(1, 1087)\n",
      "\"['ATS1s_SMILES', 'GATS4s_SMILES'] not in index\"\n",
      "9 回目\n"
     ]
    },
    {
     "name": "stderr",
     "output_type": "stream",
     "text": [
      "100%|██████████████████████████████████████████████████████████████████████████████████████████████████████████████████████████████████████████| 1/1 [00:01<00:00,  1.43s/it]\n"
     ]
    },
    {
     "name": "stdout",
     "output_type": "stream",
     "text": [
      "(1, 1453)\n",
      "4\n",
      "10 回目\n"
     ]
    },
    {
     "name": "stderr",
     "output_type": "stream",
     "text": [
      "100%|██████████████████████████████████████████████████████████████████████████████████████████████████████████████████████████████████████████| 1/1 [00:01<00:00,  1.11s/it]\n"
     ]
    },
    {
     "name": "stdout",
     "output_type": "stream",
     "text": [
      "(1, 1452)\n",
      "4\n",
      "11 回目\n"
     ]
    },
    {
     "name": "stderr",
     "output_type": "stream",
     "text": [
      "100%|██████████████████████████████████████████████████████████████████████████████████████████████████████████████████████████████████████████| 1/1 [00:01<00:00,  1.13s/it]\n"
     ]
    },
    {
     "name": "stdout",
     "output_type": "stream",
     "text": [
      "(1, 1449)\n",
      "4\n",
      "12 回目\n"
     ]
    },
    {
     "name": "stderr",
     "output_type": "stream",
     "text": [
      "100%|██████████████████████████████████████████████████████████████████████████████████████████████████████████████████████████████████████████| 1/1 [00:01<00:00,  1.10s/it]\n"
     ]
    },
    {
     "name": "stdout",
     "output_type": "stream",
     "text": [
      "(1, 1443)\n",
      "4\n",
      "13 回目\n"
     ]
    },
    {
     "name": "stderr",
     "output_type": "stream",
     "text": [
      "100%|██████████████████████████████████████████████████████████████████████████████████████████████████████████████████████████████████████████| 1/1 [00:01<00:00,  1.14s/it]\n"
     ]
    },
    {
     "name": "stdout",
     "output_type": "stream",
     "text": [
      "(1, 1447)\n",
      "4\n",
      "14 回目\n"
     ]
    },
    {
     "name": "stderr",
     "output_type": "stream",
     "text": [
      "100%|██████████████████████████████████████████████████████████████████████████████████████████████████████████████████████████████████████████| 1/1 [00:01<00:00,  1.17s/it]\n"
     ]
    },
    {
     "name": "stdout",
     "output_type": "stream",
     "text": [
      "(1, 1446)\n",
      "4\n",
      "15 回目\n"
     ]
    },
    {
     "name": "stderr",
     "output_type": "stream",
     "text": [
      "100%|██████████████████████████████████████████████████████████████████████████████████████████████████████████████████████████████████████████| 1/1 [00:01<00:00,  1.17s/it]\n"
     ]
    },
    {
     "name": "stdout",
     "output_type": "stream",
     "text": [
      "(1, 1450)\n",
      "4\n",
      "16 回目\n"
     ]
    },
    {
     "name": "stderr",
     "output_type": "stream",
     "text": [
      "100%|██████████████████████████████████████████████████████████████████████████████████████████████████████████████████████████████████████████| 1/1 [00:01<00:00,  1.08s/it]\n"
     ]
    },
    {
     "name": "stdout",
     "output_type": "stream",
     "text": [
      "(1, 1393)\n",
      "4\n",
      "17 回目\n"
     ]
    },
    {
     "name": "stderr",
     "output_type": "stream",
     "text": [
      "100%|██████████████████████████████████████████████████████████████████████████████████████████████████████████████████████████████████████████| 1/1 [00:01<00:00,  1.12s/it]\n"
     ]
    },
    {
     "name": "stdout",
     "output_type": "stream",
     "text": [
      "(1, 1445)\n",
      "4\n",
      "18 回目\n"
     ]
    },
    {
     "name": "stderr",
     "output_type": "stream",
     "text": [
      "100%|██████████████████████████████████████████████████████████████████████████████████████████████████████████████████████████████████████████| 1/1 [00:01<00:00,  1.13s/it]\n"
     ]
    },
    {
     "name": "stdout",
     "output_type": "stream",
     "text": [
      "(1, 1448)\n",
      "4\n",
      "19 回目\n"
     ]
    },
    {
     "name": "stderr",
     "output_type": "stream",
     "text": [
      "100%|██████████████████████████████████████████████████████████████████████████████████████████████████████████████████████████████████████████| 1/1 [00:01<00:00,  1.09s/it]\n"
     ]
    },
    {
     "name": "stdout",
     "output_type": "stream",
     "text": [
      "(1, 1447)\n",
      "4\n",
      "20 回目\n"
     ]
    },
    {
     "name": "stderr",
     "output_type": "stream",
     "text": [
      "100%|██████████████████████████████████████████████████████████████████████████████████████████████████████████████████████████████████████████| 1/1 [00:01<00:00,  1.09s/it]\n"
     ]
    },
    {
     "name": "stdout",
     "output_type": "stream",
     "text": [
      "(1, 1440)\n",
      "4\n",
      "21 回目\n"
     ]
    },
    {
     "name": "stderr",
     "output_type": "stream",
     "text": [
      "100%|██████████████████████████████████████████████████████████████████████████████████████████████████████████████████████████████████████████| 1/1 [00:01<00:00,  1.19s/it]\n"
     ]
    },
    {
     "name": "stdout",
     "output_type": "stream",
     "text": [
      "(1, 1448)\n",
      "4\n",
      "22 回目\n"
     ]
    },
    {
     "name": "stderr",
     "output_type": "stream",
     "text": [
      "100%|██████████████████████████████████████████████████████████████████████████████████████████████████████████████████████████████████████████| 1/1 [00:01<00:00,  1.16s/it]\n"
     ]
    },
    {
     "name": "stdout",
     "output_type": "stream",
     "text": [
      "(1, 1393)\n",
      "4\n",
      "23 回目\n"
     ]
    },
    {
     "name": "stderr",
     "output_type": "stream",
     "text": [
      "100%|██████████████████████████████████████████████████████████████████████████████████████████████████████████████████████████████████████████| 1/1 [00:01<00:00,  1.44s/it]\n"
     ]
    },
    {
     "name": "stdout",
     "output_type": "stream",
     "text": [
      "(1, 1442)\n",
      "4\n",
      "24 回目\n"
     ]
    },
    {
     "name": "stderr",
     "output_type": "stream",
     "text": [
      "100%|██████████████████████████████████████████████████████████████████████████████████████████████████████████████████████████████████████████| 1/1 [00:01<00:00,  1.16s/it]\n"
     ]
    },
    {
     "name": "stdout",
     "output_type": "stream",
     "text": [
      "(1, 1447)\n",
      "4\n",
      "25 回目\n"
     ]
    },
    {
     "name": "stderr",
     "output_type": "stream",
     "text": [
      "100%|██████████████████████████████████████████████████████████████████████████████████████████████████████████████████████████████████████████| 1/1 [00:01<00:00,  1.12s/it]\n"
     ]
    },
    {
     "name": "stdout",
     "output_type": "stream",
     "text": [
      "(1, 1447)\n",
      "4\n",
      "26 回目\n"
     ]
    },
    {
     "name": "stderr",
     "output_type": "stream",
     "text": [
      "100%|██████████████████████████████████████████████████████████████████████████████████████████████████████████████████████████████████████████| 1/1 [00:01<00:00,  1.27s/it]\n"
     ]
    },
    {
     "name": "stdout",
     "output_type": "stream",
     "text": [
      "(1, 1452)\n",
      "4\n",
      "27 回目\n"
     ]
    },
    {
     "name": "stderr",
     "output_type": "stream",
     "text": [
      "100%|██████████████████████████████████████████████████████████████████████████████████████████████████████████████████████████████████████████| 1/1 [00:01<00:00,  1.16s/it]\n"
     ]
    },
    {
     "name": "stdout",
     "output_type": "stream",
     "text": [
      "(1, 1448)\n",
      "4\n",
      "28 回目\n"
     ]
    },
    {
     "name": "stderr",
     "output_type": "stream",
     "text": [
      "100%|██████████████████████████████████████████████████████████████████████████████████████████████████████████████████████████████████████████| 1/1 [00:01<00:00,  1.10s/it]\n"
     ]
    },
    {
     "name": "stdout",
     "output_type": "stream",
     "text": [
      "(1, 1440)\n",
      "4\n",
      "29 回目\n"
     ]
    },
    {
     "name": "stderr",
     "output_type": "stream",
     "text": [
      "100%|██████████████████████████████████████████████████████████████████████████████████████████████████████████████████████████████████████████| 1/1 [00:01<00:00,  1.56s/it]\n"
     ]
    },
    {
     "name": "stdout",
     "output_type": "stream",
     "text": [
      "(1, 1439)\n",
      "4\n",
      "30 回目\n"
     ]
    },
    {
     "name": "stderr",
     "output_type": "stream",
     "text": [
      "100%|██████████████████████████████████████████████████████████████████████████████████████████████████████████████████████████████████████████| 1/1 [00:01<00:00,  1.16s/it]\n"
     ]
    },
    {
     "name": "stdout",
     "output_type": "stream",
     "text": [
      "(1, 1443)\n",
      "4\n",
      "31 回目\n"
     ]
    },
    {
     "name": "stderr",
     "output_type": "stream",
     "text": [
      "100%|██████████████████████████████████████████████████████████████████████████████████████████████████████████████████████████████████████████| 1/1 [00:01<00:00,  1.16s/it]\n"
     ]
    },
    {
     "name": "stdout",
     "output_type": "stream",
     "text": [
      "(1, 1396)\n",
      "4\n",
      "32 回目\n"
     ]
    },
    {
     "name": "stderr",
     "output_type": "stream",
     "text": [
      "100%|██████████████████████████████████████████████████████████████████████████████████████████████████████████████████████████████████████████| 1/1 [00:01<00:00,  1.17s/it]\n"
     ]
    },
    {
     "name": "stdout",
     "output_type": "stream",
     "text": [
      "(1, 1449)\n",
      "4\n",
      "33 回目\n"
     ]
    },
    {
     "name": "stderr",
     "output_type": "stream",
     "text": [
      "100%|██████████████████████████████████████████████████████████████████████████████████████████████████████████████████████████████████████████| 1/1 [00:01<00:00,  1.10s/it]\n"
     ]
    },
    {
     "name": "stdout",
     "output_type": "stream",
     "text": [
      "(1, 1396)\n",
      "4\n",
      "34 回目\n"
     ]
    },
    {
     "name": "stderr",
     "output_type": "stream",
     "text": [
      "100%|██████████████████████████████████████████████████████████████████████████████████████████████████████████████████████████████████████████| 1/1 [00:01<00:00,  1.55s/it]\n"
     ]
    },
    {
     "name": "stdout",
     "output_type": "stream",
     "text": [
      "(1, 1443)\n",
      "4\n",
      "35 回目\n"
     ]
    },
    {
     "name": "stderr",
     "output_type": "stream",
     "text": [
      "100%|██████████████████████████████████████████████████████████████████████████████████████████████████████████████████████████████████████████| 1/1 [00:01<00:00,  1.08s/it]\n"
     ]
    },
    {
     "name": "stdout",
     "output_type": "stream",
     "text": [
      "(1, 1447)\n",
      "4\n",
      "36 回目\n"
     ]
    },
    {
     "name": "stderr",
     "output_type": "stream",
     "text": [
      "100%|██████████████████████████████████████████████████████████████████████████████████████████████████████████████████████████████████████████| 1/1 [00:01<00:00,  1.12s/it]\n"
     ]
    },
    {
     "name": "stdout",
     "output_type": "stream",
     "text": [
      "(1, 1448)\n",
      "4\n",
      "37 回目\n"
     ]
    },
    {
     "name": "stderr",
     "output_type": "stream",
     "text": [
      "100%|██████████████████████████████████████████████████████████████████████████████████████████████████████████████████████████████████████████| 1/1 [00:01<00:00,  1.11s/it]\n"
     ]
    },
    {
     "name": "stdout",
     "output_type": "stream",
     "text": [
      "(1, 1447)\n",
      "4\n",
      "38 回目\n"
     ]
    },
    {
     "name": "stderr",
     "output_type": "stream",
     "text": [
      "100%|██████████████████████████████████████████████████████████████████████████████████████████████████████████████████████████████████████████| 1/1 [00:01<00:00,  1.13s/it]\n"
     ]
    },
    {
     "name": "stdout",
     "output_type": "stream",
     "text": [
      "(1, 1447)\n",
      "4\n",
      "39 回目\n"
     ]
    },
    {
     "name": "stderr",
     "output_type": "stream",
     "text": [
      "100%|██████████████████████████████████████████████████████████████████████████████████████████████████████████████████████████████████████████| 1/1 [00:01<00:00,  1.09s/it]\n"
     ]
    },
    {
     "name": "stdout",
     "output_type": "stream",
     "text": [
      "(1, 1448)\n",
      "4\n",
      "40 回目\n"
     ]
    },
    {
     "name": "stderr",
     "output_type": "stream",
     "text": [
      "100%|██████████████████████████████████████████████████████████████████████████████████████████████████████████████████████████████████████████| 1/1 [00:01<00:00,  1.30s/it]\n"
     ]
    },
    {
     "name": "stdout",
     "output_type": "stream",
     "text": [
      "(1, 1449)\n",
      "4\n",
      "41 回目\n"
     ]
    },
    {
     "name": "stderr",
     "output_type": "stream",
     "text": [
      "100%|██████████████████████████████████████████████████████████████████████████████████████████████████████████████████████████████████████████| 1/1 [00:01<00:00,  1.26s/it]\n"
     ]
    },
    {
     "name": "stdout",
     "output_type": "stream",
     "text": [
      "(1, 1441)\n",
      "4\n",
      "42 回目\n"
     ]
    },
    {
     "name": "stderr",
     "output_type": "stream",
     "text": [
      "100%|██████████████████████████████████████████████████████████████████████████████████████████████████████████████████████████████████████████| 1/1 [00:01<00:00,  1.12s/it]\n"
     ]
    },
    {
     "name": "stdout",
     "output_type": "stream",
     "text": [
      "(1, 1393)\n",
      "4\n",
      "43 回目\n"
     ]
    },
    {
     "name": "stderr",
     "output_type": "stream",
     "text": [
      "100%|██████████████████████████████████████████████████████████████████████████████████████████████████████████████████████████████████████████| 1/1 [00:01<00:00,  1.44s/it]\n"
     ]
    },
    {
     "name": "stdout",
     "output_type": "stream",
     "text": [
      "(1, 1449)\n",
      "4\n",
      "44 回目\n"
     ]
    },
    {
     "name": "stderr",
     "output_type": "stream",
     "text": [
      "100%|██████████████████████████████████████████████████████████████████████████████████████████████████████████████████████████████████████████| 1/1 [00:01<00:00,  1.16s/it]\n"
     ]
    },
    {
     "name": "stdout",
     "output_type": "stream",
     "text": [
      "(1, 1447)\n",
      "4\n",
      "45 回目\n"
     ]
    },
    {
     "name": "stderr",
     "output_type": "stream",
     "text": [
      "100%|██████████████████████████████████████████████████████████████████████████████████████████████████████████████████████████████████████████| 1/1 [00:01<00:00,  1.37s/it]\n"
     ]
    },
    {
     "name": "stdout",
     "output_type": "stream",
     "text": [
      "(1, 1447)\n",
      "4\n",
      "46 回目\n"
     ]
    },
    {
     "name": "stderr",
     "output_type": "stream",
     "text": [
      "100%|██████████████████████████████████████████████████████████████████████████████████████████████████████████████████████████████████████████| 1/1 [00:01<00:00,  1.36s/it]\n"
     ]
    },
    {
     "name": "stdout",
     "output_type": "stream",
     "text": [
      "(1, 1443)\n",
      "4\n",
      "47 回目\n"
     ]
    },
    {
     "name": "stderr",
     "output_type": "stream",
     "text": [
      "100%|██████████████████████████████████████████████████████████████████████████████████████████████████████████████████████████████████████████| 1/1 [00:01<00:00,  1.34s/it]\n"
     ]
    },
    {
     "name": "stdout",
     "output_type": "stream",
     "text": [
      "(1, 1455)\n",
      "4\n",
      "48 回目\n"
     ]
    },
    {
     "name": "stderr",
     "output_type": "stream",
     "text": [
      "100%|██████████████████████████████████████████████████████████████████████████████████████████████████████████████████████████████████████████| 1/1 [00:01<00:00,  1.09s/it]\n"
     ]
    },
    {
     "name": "stdout",
     "output_type": "stream",
     "text": [
      "(1, 1394)\n",
      "4\n",
      "49 回目\n"
     ]
    },
    {
     "name": "stderr",
     "output_type": "stream",
     "text": [
      "100%|██████████████████████████████████████████████████████████████████████████████████████████████████████████████████████████████████████████| 1/1 [00:01<00:00,  1.16s/it]\n"
     ]
    },
    {
     "name": "stdout",
     "output_type": "stream",
     "text": [
      "(1, 1393)\n",
      "4\n",
      "50 回目\n"
     ]
    },
    {
     "name": "stderr",
     "output_type": "stream",
     "text": [
      "100%|██████████████████████████████████████████████████████████████████████████████████████████████████████████████████████████████████████████| 1/1 [00:01<00:00,  1.12s/it]\n"
     ]
    },
    {
     "name": "stdout",
     "output_type": "stream",
     "text": [
      "(1, 1450)\n",
      "4\n",
      "51 回目\n"
     ]
    },
    {
     "name": "stderr",
     "output_type": "stream",
     "text": [
      "100%|██████████████████████████████████████████████████████████████████████████████████████████████████████████████████████████████████████████| 1/1 [00:01<00:00,  1.13s/it]\n"
     ]
    },
    {
     "name": "stdout",
     "output_type": "stream",
     "text": [
      "(1, 1448)\n",
      "4\n",
      "52 回目\n"
     ]
    },
    {
     "name": "stderr",
     "output_type": "stream",
     "text": [
      "100%|██████████████████████████████████████████████████████████████████████████████████████████████████████████████████████████████████████████| 1/1 [00:01<00:00,  1.16s/it]\n"
     ]
    },
    {
     "name": "stdout",
     "output_type": "stream",
     "text": [
      "(1, 1454)\n",
      "4\n",
      "53 回目\n"
     ]
    },
    {
     "name": "stderr",
     "output_type": "stream",
     "text": [
      "100%|██████████████████████████████████████████████████████████████████████████████████████████████████████████████████████████████████████████| 1/1 [00:01<00:00,  1.05s/it]\n"
     ]
    },
    {
     "name": "stdout",
     "output_type": "stream",
     "text": [
      "(1, 1396)\n",
      "4\n",
      "54 回目\n"
     ]
    },
    {
     "name": "stderr",
     "output_type": "stream",
     "text": [
      "100%|██████████████████████████████████████████████████████████████████████████████████████████████████████████████████████████████████████████| 1/1 [00:01<00:00,  1.10s/it]\n"
     ]
    },
    {
     "name": "stdout",
     "output_type": "stream",
     "text": [
      "(1, 1443)\n",
      "4\n",
      "55 回目\n"
     ]
    },
    {
     "name": "stderr",
     "output_type": "stream",
     "text": [
      "100%|██████████████████████████████████████████████████████████████████████████████████████████████████████████████████████████████████████████| 1/1 [00:01<00:00,  1.16s/it]\n"
     ]
    },
    {
     "name": "stdout",
     "output_type": "stream",
     "text": [
      "(1, 1448)\n",
      "4\n",
      "56 回目\n"
     ]
    },
    {
     "name": "stderr",
     "output_type": "stream",
     "text": [
      "100%|██████████████████████████████████████████████████████████████████████████████████████████████████████████████████████████████████████████| 1/1 [00:01<00:00,  1.11s/it]\n"
     ]
    },
    {
     "name": "stdout",
     "output_type": "stream",
     "text": [
      "(1, 1450)\n",
      "4\n",
      "57 回目\n"
     ]
    },
    {
     "name": "stderr",
     "output_type": "stream",
     "text": [
      "100%|██████████████████████████████████████████████████████████████████████████████████████████████████████████████████████████████████████████| 1/1 [00:01<00:00,  1.13s/it]\n"
     ]
    },
    {
     "name": "stdout",
     "output_type": "stream",
     "text": [
      "(1, 1446)\n",
      "4\n",
      "58 回目\n"
     ]
    },
    {
     "name": "stderr",
     "output_type": "stream",
     "text": [
      "100%|██████████████████████████████████████████████████████████████████████████████████████████████████████████████████████████████████████████| 1/1 [00:01<00:00,  1.13s/it]\n"
     ]
    },
    {
     "name": "stdout",
     "output_type": "stream",
     "text": [
      "(1, 1447)\n",
      "4\n",
      "59 回目\n"
     ]
    },
    {
     "name": "stderr",
     "output_type": "stream",
     "text": [
      "100%|██████████████████████████████████████████████████████████████████████████████████████████████████████████████████████████████████████████| 1/1 [00:01<00:00,  1.25s/it]\n"
     ]
    },
    {
     "name": "stdout",
     "output_type": "stream",
     "text": [
      "(1, 1446)\n",
      "4\n",
      "60 回目\n"
     ]
    },
    {
     "name": "stderr",
     "output_type": "stream",
     "text": [
      "100%|██████████████████████████████████████████████████████████████████████████████████████████████████████████████████████████████████████████| 1/1 [00:01<00:00,  1.14s/it]\n"
     ]
    },
    {
     "name": "stdout",
     "output_type": "stream",
     "text": [
      "(1, 1396)\n",
      "4\n",
      "61 回目\n"
     ]
    },
    {
     "name": "stderr",
     "output_type": "stream",
     "text": [
      "100%|██████████████████████████████████████████████████████████████████████████████████████████████████████████████████████████████████████████| 1/1 [00:01<00:00,  1.09s/it]\n"
     ]
    },
    {
     "name": "stdout",
     "output_type": "stream",
     "text": [
      "(1, 1440)\n",
      "4\n",
      "62 回目\n"
     ]
    },
    {
     "name": "stderr",
     "output_type": "stream",
     "text": [
      "100%|██████████████████████████████████████████████████████████████████████████████████████████████████████████████████████████████████████████| 1/1 [00:01<00:00,  1.15s/it]\n"
     ]
    },
    {
     "name": "stdout",
     "output_type": "stream",
     "text": [
      "(1, 1450)\n",
      "4\n",
      "63 回目\n"
     ]
    },
    {
     "name": "stderr",
     "output_type": "stream",
     "text": [
      "100%|██████████████████████████████████████████████████████████████████████████████████████████████████████████████████████████████████████████| 1/1 [00:01<00:00,  1.05s/it]\n"
     ]
    },
    {
     "name": "stdout",
     "output_type": "stream",
     "text": [
      "(1, 1347)\n",
      "4\n",
      "64 回目\n"
     ]
    },
    {
     "name": "stderr",
     "output_type": "stream",
     "text": [
      "100%|██████████████████████████████████████████████████████████████████████████████████████████████████████████████████████████████████████████| 1/1 [00:01<00:00,  1.75s/it]\n"
     ]
    },
    {
     "name": "stdout",
     "output_type": "stream",
     "text": [
      "(1, 1445)\n",
      "4\n",
      "65 回目\n"
     ]
    },
    {
     "name": "stderr",
     "output_type": "stream",
     "text": [
      "100%|██████████████████████████████████████████████████████████████████████████████████████████████████████████████████████████████████████████| 1/1 [00:01<00:00,  1.44s/it]\n"
     ]
    },
    {
     "name": "stdout",
     "output_type": "stream",
     "text": [
      "(1, 1450)\n",
      "4\n",
      "66 回目\n"
     ]
    },
    {
     "name": "stderr",
     "output_type": "stream",
     "text": [
      "100%|██████████████████████████████████████████████████████████████████████████████████████████████████████████████████████████████████████████| 1/1 [00:01<00:00,  1.65s/it]\n"
     ]
    },
    {
     "name": "stdout",
     "output_type": "stream",
     "text": [
      "(1, 1440)\n",
      "4\n",
      "67 回目\n"
     ]
    },
    {
     "name": "stderr",
     "output_type": "stream",
     "text": [
      "100%|██████████████████████████████████████████████████████████████████████████████████████████████████████████████████████████████████████████| 1/1 [00:01<00:00,  1.30s/it]\n"
     ]
    },
    {
     "name": "stdout",
     "output_type": "stream",
     "text": [
      "(1, 1450)\n",
      "4\n",
      "68 回目\n"
     ]
    },
    {
     "name": "stderr",
     "output_type": "stream",
     "text": [
      "100%|██████████████████████████████████████████████████████████████████████████████████████████████████████████████████████████████████████████| 1/1 [00:01<00:00,  1.56s/it]\n"
     ]
    },
    {
     "name": "stdout",
     "output_type": "stream",
     "text": [
      "(1, 1446)\n",
      "4\n",
      "69 回目\n"
     ]
    },
    {
     "name": "stderr",
     "output_type": "stream",
     "text": [
      "100%|██████████████████████████████████████████████████████████████████████████████████████████████████████████████████████████████████████████| 1/1 [00:02<00:00,  2.29s/it]\n"
     ]
    },
    {
     "name": "stdout",
     "output_type": "stream",
     "text": [
      "(1, 1438)\n",
      "4\n",
      "70 回目\n"
     ]
    },
    {
     "name": "stderr",
     "output_type": "stream",
     "text": [
      "100%|██████████████████████████████████████████████████████████████████████████████████████████████████████████████████████████████████████████| 1/1 [00:01<00:00,  1.21s/it]\n"
     ]
    },
    {
     "name": "stdout",
     "output_type": "stream",
     "text": [
      "(1, 1448)\n",
      "4\n",
      "71 回目\n"
     ]
    },
    {
     "name": "stderr",
     "output_type": "stream",
     "text": [
      "100%|██████████████████████████████████████████████████████████████████████████████████████████████████████████████████████████████████████████| 1/1 [00:01<00:00,  1.45s/it]\n"
     ]
    },
    {
     "name": "stdout",
     "output_type": "stream",
     "text": [
      "(1, 1446)\n",
      "4\n",
      "72 回目\n"
     ]
    },
    {
     "name": "stderr",
     "output_type": "stream",
     "text": [
      "100%|██████████████████████████████████████████████████████████████████████████████████████████████████████████████████████████████████████████| 1/1 [00:01<00:00,  1.17s/it]\n"
     ]
    },
    {
     "name": "stdout",
     "output_type": "stream",
     "text": [
      "(1, 1450)\n",
      "4\n",
      "73 回目\n"
     ]
    },
    {
     "name": "stderr",
     "output_type": "stream",
     "text": [
      "100%|██████████████████████████████████████████████████████████████████████████████████████████████████████████████████████████████████████████| 1/1 [00:01<00:00,  1.92s/it]\n"
     ]
    },
    {
     "name": "stdout",
     "output_type": "stream",
     "text": [
      "(1, 1440)\n",
      "4\n",
      "74 回目\n"
     ]
    },
    {
     "name": "stderr",
     "output_type": "stream",
     "text": [
      "100%|██████████████████████████████████████████████████████████████████████████████████████████████████████████████████████████████████████████| 1/1 [00:01<00:00,  1.82s/it]\n"
     ]
    },
    {
     "name": "stdout",
     "output_type": "stream",
     "text": [
      "(1, 1448)\n",
      "4\n",
      "75 回目\n"
     ]
    },
    {
     "name": "stderr",
     "output_type": "stream",
     "text": [
      "100%|██████████████████████████████████████████████████████████████████████████████████████████████████████████████████████████████████████████| 1/1 [00:01<00:00,  1.13s/it]\n"
     ]
    },
    {
     "name": "stdout",
     "output_type": "stream",
     "text": [
      "(1, 1448)\n",
      "4\n",
      "76 回目\n"
     ]
    },
    {
     "name": "stderr",
     "output_type": "stream",
     "text": [
      "100%|██████████████████████████████████████████████████████████████████████████████████████████████████████████████████████████████████████████| 1/1 [00:01<00:00,  1.12s/it]\n"
     ]
    },
    {
     "name": "stdout",
     "output_type": "stream",
     "text": [
      "(1, 1446)\n",
      "4\n",
      "77 回目\n"
     ]
    },
    {
     "name": "stderr",
     "output_type": "stream",
     "text": [
      "100%|██████████████████████████████████████████████████████████████████████████████████████████████████████████████████████████████████████████| 1/1 [00:01<00:00,  1.18s/it]\n"
     ]
    },
    {
     "name": "stdout",
     "output_type": "stream",
     "text": [
      "(1, 1446)\n",
      "4\n",
      "78 回目\n"
     ]
    },
    {
     "name": "stderr",
     "output_type": "stream",
     "text": [
      "100%|██████████████████████████████████████████████████████████████████████████████████████████████████████████████████████████████████████████| 1/1 [00:01<00:00,  1.52s/it]\n"
     ]
    },
    {
     "name": "stdout",
     "output_type": "stream",
     "text": [
      "(1, 1446)\n",
      "4\n",
      "79 回目\n"
     ]
    },
    {
     "name": "stderr",
     "output_type": "stream",
     "text": [
      "100%|██████████████████████████████████████████████████████████████████████████████████████████████████████████████████████████████████████████| 1/1 [00:01<00:00,  1.24s/it]\n"
     ]
    },
    {
     "name": "stdout",
     "output_type": "stream",
     "text": [
      "(1, 1452)\n",
      "4\n",
      "80 回目\n"
     ]
    },
    {
     "name": "stderr",
     "output_type": "stream",
     "text": [
      "100%|██████████████████████████████████████████████████████████████████████████████████████████████████████████████████████████████████████████| 1/1 [00:01<00:00,  1.35s/it]\n"
     ]
    },
    {
     "name": "stdout",
     "output_type": "stream",
     "text": [
      "(1, 1444)\n",
      "4\n",
      "81 回目\n"
     ]
    },
    {
     "name": "stderr",
     "output_type": "stream",
     "text": [
      "100%|██████████████████████████████████████████████████████████████████████████████████████████████████████████████████████████████████████████| 1/1 [00:01<00:00,  1.23s/it]\n"
     ]
    },
    {
     "name": "stdout",
     "output_type": "stream",
     "text": [
      "(1, 1452)\n",
      "4\n",
      "82 回目\n"
     ]
    },
    {
     "name": "stderr",
     "output_type": "stream",
     "text": [
      "100%|██████████████████████████████████████████████████████████████████████████████████████████████████████████████████████████████████████████| 1/1 [00:01<00:00,  1.54s/it]\n"
     ]
    },
    {
     "name": "stdout",
     "output_type": "stream",
     "text": [
      "(1, 1452)\n",
      "4\n",
      "83 回目\n"
     ]
    },
    {
     "name": "stderr",
     "output_type": "stream",
     "text": [
      "100%|██████████████████████████████████████████████████████████████████████████████████████████████████████████████████████████████████████████| 1/1 [00:01<00:00,  1.20s/it]\n"
     ]
    },
    {
     "name": "stdout",
     "output_type": "stream",
     "text": [
      "(1, 1449)\n",
      "4\n",
      "84 回目\n"
     ]
    },
    {
     "name": "stderr",
     "output_type": "stream",
     "text": [
      "100%|██████████████████████████████████████████████████████████████████████████████████████████████████████████████████████████████████████████| 1/1 [00:01<00:00,  1.40s/it]\n"
     ]
    },
    {
     "name": "stdout",
     "output_type": "stream",
     "text": [
      "(1, 1452)\n",
      "4\n",
      "85 回目\n"
     ]
    },
    {
     "name": "stderr",
     "output_type": "stream",
     "text": [
      "100%|██████████████████████████████████████████████████████████████████████████████████████████████████████████████████████████████████████████| 1/1 [00:01<00:00,  1.21s/it]\n"
     ]
    },
    {
     "name": "stdout",
     "output_type": "stream",
     "text": [
      "(1, 1440)\n",
      "4\n",
      "86 回目\n"
     ]
    },
    {
     "name": "stderr",
     "output_type": "stream",
     "text": [
      "100%|██████████████████████████████████████████████████████████████████████████████████████████████████████████████████████████████████████████| 1/1 [00:01<00:00,  1.22s/it]\n"
     ]
    },
    {
     "name": "stdout",
     "output_type": "stream",
     "text": [
      "(1, 1438)\n",
      "4\n",
      "87 回目\n"
     ]
    },
    {
     "name": "stderr",
     "output_type": "stream",
     "text": [
      "100%|██████████████████████████████████████████████████████████████████████████████████████████████████████████████████████████████████████████| 1/1 [00:01<00:00,  1.77s/it]\n"
     ]
    },
    {
     "name": "stdout",
     "output_type": "stream",
     "text": [
      "(1, 1436)\n",
      "4\n",
      "88 回目\n"
     ]
    },
    {
     "name": "stderr",
     "output_type": "stream",
     "text": [
      "100%|██████████████████████████████████████████████████████████████████████████████████████████████████████████████████████████████████████████| 1/1 [00:01<00:00,  1.33s/it]\n"
     ]
    },
    {
     "name": "stdout",
     "output_type": "stream",
     "text": [
      "(1, 1172)\n",
      "\"['ATS1s_SMILES', 'GATS4s_SMILES'] not in index\"\n",
      "89 回目\n"
     ]
    },
    {
     "name": "stderr",
     "output_type": "stream",
     "text": [
      "100%|██████████████████████████████████████████████████████████████████████████████████████████████████████████████████████████████████████████| 1/1 [00:02<00:00,  2.39s/it]\n"
     ]
    },
    {
     "name": "stdout",
     "output_type": "stream",
     "text": [
      "(1, 1172)\n",
      "\"['ATS1s_SMILES', 'GATS4s_SMILES'] not in index\"\n",
      "90 回目\n"
     ]
    },
    {
     "name": "stderr",
     "output_type": "stream",
     "text": [
      "100%|██████████████████████████████████████████████████████████████████████████████████████████████████████████████████████████████████████████| 1/1 [00:02<00:00,  2.05s/it]\n"
     ]
    },
    {
     "name": "stdout",
     "output_type": "stream",
     "text": [
      "(1, 1450)\n",
      "6\n",
      "91 回目\n"
     ]
    },
    {
     "name": "stderr",
     "output_type": "stream",
     "text": [
      "100%|██████████████████████████████████████████████████████████████████████████████████████████████████████████████████████████████████████████| 1/1 [00:01<00:00,  1.35s/it]\n"
     ]
    },
    {
     "name": "stdout",
     "output_type": "stream",
     "text": [
      "(1, 1455)\n",
      "6\n",
      "92 回目\n"
     ]
    },
    {
     "name": "stderr",
     "output_type": "stream",
     "text": [
      "100%|██████████████████████████████████████████████████████████████████████████████████████████████████████████████████████████████████████████| 1/1 [00:01<00:00,  1.12s/it]\n"
     ]
    },
    {
     "name": "stdout",
     "output_type": "stream",
     "text": [
      "(1, 1446)\n",
      "6\n",
      "93 回目\n"
     ]
    },
    {
     "name": "stderr",
     "output_type": "stream",
     "text": [
      "100%|██████████████████████████████████████████████████████████████████████████████████████████████████████████████████████████████████████████| 1/1 [00:01<00:00,  1.08s/it]\n"
     ]
    },
    {
     "name": "stdout",
     "output_type": "stream",
     "text": [
      "(1, 1447)\n",
      "6\n",
      "94 回目\n"
     ]
    },
    {
     "name": "stderr",
     "output_type": "stream",
     "text": [
      "100%|██████████████████████████████████████████████████████████████████████████████████████████████████████████████████████████████████████████| 1/1 [00:01<00:00,  1.17s/it]\n"
     ]
    },
    {
     "name": "stdout",
     "output_type": "stream",
     "text": [
      "(1, 1450)\n",
      "6\n",
      "95 回目\n"
     ]
    },
    {
     "name": "stderr",
     "output_type": "stream",
     "text": [
      "100%|██████████████████████████████████████████████████████████████████████████████████████████████████████████████████████████████████████████| 1/1 [00:01<00:00,  1.11s/it]\n"
     ]
    },
    {
     "name": "stdout",
     "output_type": "stream",
     "text": [
      "(1, 1446)\n",
      "6\n",
      "96 回目\n"
     ]
    },
    {
     "name": "stderr",
     "output_type": "stream",
     "text": [
      "100%|██████████████████████████████████████████████████████████████████████████████████████████████████████████████████████████████████████████| 1/1 [00:01<00:00,  1.20s/it]\n"
     ]
    },
    {
     "name": "stdout",
     "output_type": "stream",
     "text": [
      "(1, 1401)\n",
      "6\n",
      "97 回目\n"
     ]
    },
    {
     "name": "stderr",
     "output_type": "stream",
     "text": [
      "100%|██████████████████████████████████████████████████████████████████████████████████████████████████████████████████████████████████████████| 1/1 [00:01<00:00,  1.20s/it]\n"
     ]
    },
    {
     "name": "stdout",
     "output_type": "stream",
     "text": [
      "(1, 1447)\n",
      "6\n",
      "98 回目\n"
     ]
    },
    {
     "name": "stderr",
     "output_type": "stream",
     "text": [
      "100%|██████████████████████████████████████████████████████████████████████████████████████████████████████████████████████████████████████████| 1/1 [00:02<00:00,  2.61s/it]\n"
     ]
    },
    {
     "name": "stdout",
     "output_type": "stream",
     "text": [
      "(1, 1449)\n",
      "6\n",
      "99 回目\n"
     ]
    },
    {
     "name": "stderr",
     "output_type": "stream",
     "text": [
      "100%|██████████████████████████████████████████████████████████████████████████████████████████████████████████████████████████████████████████| 1/1 [00:01<00:00,  1.43s/it]\n"
     ]
    },
    {
     "name": "stdout",
     "output_type": "stream",
     "text": [
      "(1, 1450)\n",
      "6\n",
      "100 回目\n"
     ]
    },
    {
     "name": "stderr",
     "output_type": "stream",
     "text": [
      "100%|██████████████████████████████████████████████████████████████████████████████████████████████████████████████████████████████████████████| 1/1 [00:01<00:00,  1.12s/it]\n"
     ]
    },
    {
     "name": "stdout",
     "output_type": "stream",
     "text": [
      "(1, 1448)\n",
      "6\n",
      "101 回目\n"
     ]
    },
    {
     "name": "stderr",
     "output_type": "stream",
     "text": [
      "100%|██████████████████████████████████████████████████████████████████████████████████████████████████████████████████████████████████████████| 1/1 [00:02<00:00,  2.10s/it]\n"
     ]
    },
    {
     "name": "stdout",
     "output_type": "stream",
     "text": [
      "(1, 1452)\n",
      "6\n",
      "102 回目\n"
     ]
    },
    {
     "name": "stderr",
     "output_type": "stream",
     "text": [
      "100%|██████████████████████████████████████████████████████████████████████████████████████████████████████████████████████████████████████████| 1/1 [00:01<00:00,  1.66s/it]\n"
     ]
    },
    {
     "name": "stdout",
     "output_type": "stream",
     "text": [
      "/Users/watanabeyuitou/opt/anaconda3/envs/chem/lib/python3.9/site-packages/numpy/core/fromnumeric.py:86: RuntimeWarning: overflow encountered in reduce\n",
      "  return ufunc.reduce(obj, axis, dtype, out, **passkwargs)\n",
      "(1, 1238)\n",
      "6\n",
      "103 回目\n"
     ]
    },
    {
     "name": "stderr",
     "output_type": "stream",
     "text": [
      "100%|██████████████████████████████████████████████████████████████████████████████████████████████████████████████████████████████████████████| 1/1 [00:05<00:00,  5.16s/it]\n"
     ]
    },
    {
     "name": "stdout",
     "output_type": "stream",
     "text": [
      "(1, 1444)\n",
      "6\n",
      "104 回目\n"
     ]
    },
    {
     "name": "stderr",
     "output_type": "stream",
     "text": [
      "100%|██████████████████████████████████████████████████████████████████████████████████████████████████████████████████████████████████████████| 1/1 [00:04<00:00,  4.23s/it]\n"
     ]
    },
    {
     "name": "stdout",
     "output_type": "stream",
     "text": [
      "(1, 1454)\n",
      "6\n",
      "105 回目\n"
     ]
    },
    {
     "name": "stderr",
     "output_type": "stream",
     "text": [
      "100%|██████████████████████████████████████████████████████████████████████████████████████████████████████████████████████████████████████████| 1/1 [00:03<00:00,  3.37s/it]\n"
     ]
    },
    {
     "name": "stdout",
     "output_type": "stream",
     "text": [
      "(1, 1446)\n",
      "6\n",
      "106 回目\n"
     ]
    },
    {
     "name": "stderr",
     "output_type": "stream",
     "text": [
      "100%|██████████████████████████████████████████████████████████████████████████████████████████████████████████████████████████████████████████| 1/1 [00:01<00:00,  1.78s/it]\n"
     ]
    },
    {
     "name": "stdout",
     "output_type": "stream",
     "text": [
      "(1, 1444)\n",
      "6\n",
      "107 回目\n"
     ]
    },
    {
     "name": "stderr",
     "output_type": "stream",
     "text": [
      "100%|██████████████████████████████████████████████████████████████████████████████████████████████████████████████████████████████████████████| 1/1 [00:01<00:00,  1.50s/it]\n"
     ]
    },
    {
     "name": "stdout",
     "output_type": "stream",
     "text": [
      "(1, 1442)\n",
      "6\n",
      "108 回目\n"
     ]
    },
    {
     "name": "stderr",
     "output_type": "stream",
     "text": [
      "100%|██████████████████████████████████████████████████████████████████████████████████████████████████████████████████████████████████████████| 1/1 [00:01<00:00,  1.52s/it]\n"
     ]
    },
    {
     "name": "stdout",
     "output_type": "stream",
     "text": [
      "(1, 1443)\n",
      "6\n",
      "109 回目\n"
     ]
    },
    {
     "name": "stderr",
     "output_type": "stream",
     "text": [
      "100%|██████████████████████████████████████████████████████████████████████████████████████████████████████████████████████████████████████████| 1/1 [00:01<00:00,  1.54s/it]\n"
     ]
    },
    {
     "name": "stdout",
     "output_type": "stream",
     "text": [
      "(1, 1445)\n",
      "6\n",
      "110 回目\n"
     ]
    },
    {
     "name": "stderr",
     "output_type": "stream",
     "text": [
      "100%|██████████████████████████████████████████████████████████████████████████████████████████████████████████████████████████████████████████| 1/1 [00:01<00:00,  1.47s/it]\n"
     ]
    },
    {
     "name": "stdout",
     "output_type": "stream",
     "text": [
      "(1, 1449)\n",
      "6\n",
      "111 回目\n"
     ]
    },
    {
     "name": "stderr",
     "output_type": "stream",
     "text": [
      "100%|██████████████████████████████████████████████████████████████████████████████████████████████████████████████████████████████████████████| 1/1 [00:01<00:00,  1.80s/it]\n"
     ]
    },
    {
     "name": "stdout",
     "output_type": "stream",
     "text": [
      "(1, 1448)\n",
      "6\n",
      "112 回目\n"
     ]
    },
    {
     "name": "stderr",
     "output_type": "stream",
     "text": [
      "100%|██████████████████████████████████████████████████████████████████████████████████████████████████████████████████████████████████████████| 1/1 [00:02<00:00,  2.33s/it]\n"
     ]
    },
    {
     "name": "stdout",
     "output_type": "stream",
     "text": [
      "(1, 1450)\n",
      "6\n",
      "113 回目\n"
     ]
    },
    {
     "name": "stderr",
     "output_type": "stream",
     "text": [
      "100%|██████████████████████████████████████████████████████████████████████████████████████████████████████████████████████████████████████████| 1/1 [00:02<00:00,  2.38s/it]\n"
     ]
    },
    {
     "name": "stdout",
     "output_type": "stream",
     "text": [
      "(1, 1452)\n",
      "6\n",
      "114 回目\n"
     ]
    },
    {
     "name": "stderr",
     "output_type": "stream",
     "text": [
      "100%|██████████████████████████████████████████████████████████████████████████████████████████████████████████████████████████████████████████| 1/1 [00:01<00:00,  1.28s/it]\n"
     ]
    },
    {
     "name": "stdout",
     "output_type": "stream",
     "text": [
      "(1, 1453)\n",
      "6\n",
      "115 回目\n"
     ]
    },
    {
     "name": "stderr",
     "output_type": "stream",
     "text": [
      "100%|██████████████████████████████████████████████████████████████████████████████████████████████████████████████████████████████████████████| 1/1 [00:01<00:00,  1.82s/it]\n"
     ]
    },
    {
     "name": "stdout",
     "output_type": "stream",
     "text": [
      "(1, 1448)\n",
      "6\n",
      "116 回目\n"
     ]
    },
    {
     "name": "stderr",
     "output_type": "stream",
     "text": [
      "100%|██████████████████████████████████████████████████████████████████████████████████████████████████████████████████████████████████████████| 1/1 [00:01<00:00,  1.31s/it]\n"
     ]
    },
    {
     "name": "stdout",
     "output_type": "stream",
     "text": [
      "(1, 1454)\n",
      "6\n",
      "117 回目\n"
     ]
    },
    {
     "name": "stderr",
     "output_type": "stream",
     "text": [
      "100%|██████████████████████████████████████████████████████████████████████████████████████████████████████████████████████████████████████████| 1/1 [00:01<00:00,  1.16s/it]\n"
     ]
    },
    {
     "name": "stdout",
     "output_type": "stream",
     "text": [
      "(1, 1447)\n",
      "6\n",
      "118 回目\n"
     ]
    },
    {
     "name": "stderr",
     "output_type": "stream",
     "text": [
      "100%|██████████████████████████████████████████████████████████████████████████████████████████████████████████████████████████████████████████| 1/1 [00:03<00:00,  3.54s/it]\n"
     ]
    },
    {
     "name": "stdout",
     "output_type": "stream",
     "text": [
      "(1, 1447)\n",
      "6\n",
      "119 回目\n"
     ]
    },
    {
     "name": "stderr",
     "output_type": "stream",
     "text": [
      "100%|██████████████████████████████████████████████████████████████████████████████████████████████████████████████████████████████████████████| 1/1 [00:02<00:00,  2.24s/it]\n"
     ]
    },
    {
     "name": "stdout",
     "output_type": "stream",
     "text": [
      "(1, 1451)\n",
      "6\n",
      "120 回目\n"
     ]
    },
    {
     "name": "stderr",
     "output_type": "stream",
     "text": [
      "100%|██████████████████████████████████████████████████████████████████████████████████████████████████████████████████████████████████████████| 1/1 [00:01<00:00,  1.40s/it]\n"
     ]
    },
    {
     "name": "stdout",
     "output_type": "stream",
     "text": [
      "(1, 1449)\n",
      "6\n",
      "121 回目\n"
     ]
    },
    {
     "name": "stderr",
     "output_type": "stream",
     "text": [
      "100%|██████████████████████████████████████████████████████████████████████████████████████████████████████████████████████████████████████████| 1/1 [00:01<00:00,  1.27s/it]\n"
     ]
    },
    {
     "name": "stdout",
     "output_type": "stream",
     "text": [
      "(1, 1185)\n",
      "\"['ATS1s_SMILES', 'GATS4s_SMILES'] not in index\"\n",
      "122 回目\n"
     ]
    },
    {
     "name": "stderr",
     "output_type": "stream",
     "text": [
      "100%|██████████████████████████████████████████████████████████████████████████████████████████████████████████████████████████████████████████| 1/1 [00:01<00:00,  1.51s/it]\n"
     ]
    },
    {
     "name": "stdout",
     "output_type": "stream",
     "text": [
      "(1, 1449)\n",
      "7\n",
      "123 回目\n"
     ]
    },
    {
     "name": "stderr",
     "output_type": "stream",
     "text": [
      "100%|██████████████████████████████████████████████████████████████████████████████████████████████████████████████████████████████████████████| 1/1 [00:00<00:00,  1.00it/s]\n"
     ]
    },
    {
     "name": "stdout",
     "output_type": "stream",
     "text": [
      "/Users/watanabeyuitou/opt/anaconda3/envs/chem/lib/python3.9/site-packages/numpy/core/fromnumeric.py:86: RuntimeWarning: overflow encountered in reduce\n",
      "  return ufunc.reduce(obj, axis, dtype, out, **passkwargs)\n",
      "(1, 1236)\n",
      "7\n",
      "124 回目\n"
     ]
    },
    {
     "name": "stderr",
     "output_type": "stream",
     "text": [
      "100%|██████████████████████████████████████████████████████████████████████████████████████████████████████████████████████████████████████████| 1/1 [00:02<00:00,  2.93s/it]\n"
     ]
    },
    {
     "name": "stdout",
     "output_type": "stream",
     "text": [
      "(1, 1441)\n",
      "7\n",
      "125 回目\n"
     ]
    },
    {
     "name": "stderr",
     "output_type": "stream",
     "text": [
      "100%|██████████████████████████████████████████████████████████████████████████████████████████████████████████████████████████████████████████| 1/1 [00:03<00:00,  3.76s/it]\n"
     ]
    },
    {
     "name": "stdout",
     "output_type": "stream",
     "text": [
      "(1, 1442)\n",
      "7\n",
      "126 回目\n"
     ]
    },
    {
     "name": "stderr",
     "output_type": "stream",
     "text": [
      "100%|██████████████████████████████████████████████████████████████████████████████████████████████████████████████████████████████████████████| 1/1 [00:01<00:00,  1.57s/it]\n"
     ]
    },
    {
     "name": "stdout",
     "output_type": "stream",
     "text": [
      "(1, 1448)\n",
      "7\n",
      "127 回目\n"
     ]
    },
    {
     "name": "stderr",
     "output_type": "stream",
     "text": [
      "100%|██████████████████████████████████████████████████████████████████████████████████████████████████████████████████████████████████████████| 1/1 [00:02<00:00,  2.26s/it]\n"
     ]
    },
    {
     "name": "stdout",
     "output_type": "stream",
     "text": [
      "(1, 1455)\n",
      "7\n",
      "128 回目\n"
     ]
    },
    {
     "name": "stderr",
     "output_type": "stream",
     "text": [
      "100%|██████████████████████████████████████████████████████████████████████████████████████████████████████████████████████████████████████████| 1/1 [00:01<00:00,  1.77s/it]\n"
     ]
    },
    {
     "name": "stdout",
     "output_type": "stream",
     "text": [
      "(1, 1442)\n",
      "7\n",
      "129 回目\n"
     ]
    },
    {
     "name": "stderr",
     "output_type": "stream",
     "text": [
      "100%|██████████████████████████████████████████████████████████████████████████████████████████████████████████████████████████████████████████| 1/1 [00:01<00:00,  1.44s/it]\n"
     ]
    },
    {
     "name": "stdout",
     "output_type": "stream",
     "text": [
      "(1, 1448)\n",
      "7\n",
      "130 回目\n"
     ]
    },
    {
     "name": "stderr",
     "output_type": "stream",
     "text": [
      "100%|██████████████████████████████████████████████████████████████████████████████████████████████████████████████████████████████████████████| 1/1 [00:01<00:00,  1.95s/it]\n"
     ]
    },
    {
     "name": "stdout",
     "output_type": "stream",
     "text": [
      "(1, 1448)\n",
      "7\n",
      "131 回目\n"
     ]
    },
    {
     "name": "stderr",
     "output_type": "stream",
     "text": [
      "100%|██████████████████████████████████████████████████████████████████████████████████████████████████████████████████████████████████████████| 1/1 [00:04<00:00,  4.50s/it]\n"
     ]
    },
    {
     "name": "stdout",
     "output_type": "stream",
     "text": [
      "(1, 1448)\n",
      "7\n",
      "132 回目\n"
     ]
    },
    {
     "name": "stderr",
     "output_type": "stream",
     "text": [
      "100%|██████████████████████████████████████████████████████████████████████████████████████████████████████████████████████████████████████████| 1/1 [00:02<00:00,  2.15s/it]\n"
     ]
    },
    {
     "name": "stdout",
     "output_type": "stream",
     "text": [
      "(1, 1448)\n",
      "7\n",
      "133 回目\n"
     ]
    },
    {
     "name": "stderr",
     "output_type": "stream",
     "text": [
      "100%|██████████████████████████████████████████████████████████████████████████████████████████████████████████████████████████████████████████| 1/1 [00:01<00:00,  1.50s/it]\n"
     ]
    },
    {
     "name": "stdout",
     "output_type": "stream",
     "text": [
      "(1, 1448)\n",
      "7\n",
      "134 回目\n"
     ]
    },
    {
     "name": "stderr",
     "output_type": "stream",
     "text": [
      "100%|██████████████████████████████████████████████████████████████████████████████████████████████████████████████████████████████████████████| 1/1 [00:01<00:00,  1.30s/it]\n"
     ]
    },
    {
     "name": "stdout",
     "output_type": "stream",
     "text": [
      "(1, 1445)\n",
      "7\n",
      "135 回目\n"
     ]
    },
    {
     "name": "stderr",
     "output_type": "stream",
     "text": [
      "100%|██████████████████████████████████████████████████████████████████████████████████████████████████████████████████████████████████████████| 1/1 [00:01<00:00,  1.23s/it]\n"
     ]
    },
    {
     "name": "stdout",
     "output_type": "stream",
     "text": [
      "(1, 1449)\n",
      "7\n",
      "136 回目\n"
     ]
    },
    {
     "name": "stderr",
     "output_type": "stream",
     "text": [
      "100%|██████████████████████████████████████████████████████████████████████████████████████████████████████████████████████████████████████████| 1/1 [00:01<00:00,  1.22s/it]\n"
     ]
    },
    {
     "name": "stdout",
     "output_type": "stream",
     "text": [
      "(1, 1452)\n",
      "7\n",
      "137 回目\n"
     ]
    },
    {
     "name": "stderr",
     "output_type": "stream",
     "text": [
      "100%|██████████████████████████████████████████████████████████████████████████████████████████████████████████████████████████████████████████| 1/1 [00:01<00:00,  1.49s/it]\n"
     ]
    },
    {
     "name": "stdout",
     "output_type": "stream",
     "text": [
      "(1, 1452)\n",
      "7\n",
      "138 回目\n"
     ]
    },
    {
     "name": "stderr",
     "output_type": "stream",
     "text": [
      "100%|██████████████████████████████████████████████████████████████████████████████████████████████████████████████████████████████████████████| 1/1 [00:01<00:00,  1.35s/it]\n"
     ]
    },
    {
     "name": "stdout",
     "output_type": "stream",
     "text": [
      "(1, 1445)\n",
      "7\n",
      "139 回目\n"
     ]
    },
    {
     "name": "stderr",
     "output_type": "stream",
     "text": [
      "100%|██████████████████████████████████████████████████████████████████████████████████████████████████████████████████████████████████████████| 1/1 [00:01<00:00,  1.33s/it]\n"
     ]
    },
    {
     "name": "stdout",
     "output_type": "stream",
     "text": [
      "(1, 1448)\n",
      "7\n",
      "140 回目\n"
     ]
    },
    {
     "name": "stderr",
     "output_type": "stream",
     "text": [
      "100%|██████████████████████████████████████████████████████████████████████████████████████████████████████████████████████████████████████████| 1/1 [00:01<00:00,  1.29s/it]\n"
     ]
    },
    {
     "name": "stdout",
     "output_type": "stream",
     "text": [
      "(1, 1239)\n",
      "7\n",
      "141 回目\n"
     ]
    },
    {
     "name": "stderr",
     "output_type": "stream",
     "text": [
      "100%|██████████████████████████████████████████████████████████████████████████████████████████████████████████████████████████████████████████| 1/1 [00:01<00:00,  1.26s/it]\n"
     ]
    },
    {
     "name": "stdout",
     "output_type": "stream",
     "text": [
      "(1, 1447)\n",
      "7\n",
      "142 回目\n"
     ]
    },
    {
     "name": "stderr",
     "output_type": "stream",
     "text": [
      "100%|██████████████████████████████████████████████████████████████████████████████████████████████████████████████████████████████████████████| 1/1 [00:01<00:00,  1.63s/it]\n"
     ]
    },
    {
     "name": "stdout",
     "output_type": "stream",
     "text": [
      "(1, 1455)\n",
      "7\n",
      "143 回目\n"
     ]
    },
    {
     "name": "stderr",
     "output_type": "stream",
     "text": [
      "100%|██████████████████████████████████████████████████████████████████████████████████████████████████████████████████████████████████████████| 1/1 [00:01<00:00,  1.40s/it]\n"
     ]
    },
    {
     "name": "stdout",
     "output_type": "stream",
     "text": [
      "(1, 1440)\n",
      "7\n",
      "144 回目\n"
     ]
    },
    {
     "name": "stderr",
     "output_type": "stream",
     "text": [
      "100%|██████████████████████████████████████████████████████████████████████████████████████████████████████████████████████████████████████████| 1/1 [00:01<00:00,  1.59s/it]\n"
     ]
    },
    {
     "name": "stdout",
     "output_type": "stream",
     "text": [
      "(1, 1447)\n",
      "7\n",
      "145 回目\n"
     ]
    },
    {
     "name": "stderr",
     "output_type": "stream",
     "text": [
      "100%|██████████████████████████████████████████████████████████████████████████████████████████████████████████████████████████████████████████| 1/1 [00:03<00:00,  3.58s/it]\n"
     ]
    },
    {
     "name": "stdout",
     "output_type": "stream",
     "text": [
      "(1, 1444)\n",
      "7\n",
      "146 回目\n"
     ]
    },
    {
     "name": "stderr",
     "output_type": "stream",
     "text": [
      "100%|██████████████████████████████████████████████████████████████████████████████████████████████████████████████████████████████████████████| 1/1 [00:01<00:00,  1.94s/it]\n"
     ]
    },
    {
     "name": "stdout",
     "output_type": "stream",
     "text": [
      "(1, 1238)\n",
      "7\n",
      "147 回目\n"
     ]
    },
    {
     "name": "stderr",
     "output_type": "stream",
     "text": [
      "100%|██████████████████████████████████████████████████████████████████████████████████████████████████████████████████████████████████████████| 1/1 [00:01<00:00,  1.25s/it]\n"
     ]
    },
    {
     "name": "stdout",
     "output_type": "stream",
     "text": [
      "(1, 1444)\n",
      "7\n",
      "148 回目\n"
     ]
    },
    {
     "name": "stderr",
     "output_type": "stream",
     "text": [
      "100%|██████████████████████████████████████████████████████████████████████████████████████████████████████████████████████████████████████████| 1/1 [00:01<00:00,  1.81s/it]\n"
     ]
    },
    {
     "name": "stdout",
     "output_type": "stream",
     "text": [
      "(1, 1445)\n",
      "7\n",
      "149 回目\n"
     ]
    },
    {
     "name": "stderr",
     "output_type": "stream",
     "text": [
      "100%|██████████████████████████████████████████████████████████████████████████████████████████████████████████████████████████████████████████| 1/1 [00:01<00:00,  1.94s/it]\n"
     ]
    },
    {
     "name": "stdout",
     "output_type": "stream",
     "text": [
      "(1, 1447)\n",
      "7\n",
      "150 回目\n"
     ]
    },
    {
     "name": "stderr",
     "output_type": "stream",
     "text": [
      "100%|██████████████████████████████████████████████████████████████████████████████████████████████████████████████████████████████████████████| 1/1 [00:01<00:00,  1.46s/it]\n"
     ]
    },
    {
     "name": "stdout",
     "output_type": "stream",
     "text": [
      "(1, 1394)\n",
      "7\n",
      "151 回目\n"
     ]
    },
    {
     "name": "stderr",
     "output_type": "stream",
     "text": [
      "100%|██████████████████████████████████████████████████████████████████████████████████████████████████████████████████████████████████████████| 1/1 [00:01<00:00,  1.34s/it]\n"
     ]
    },
    {
     "name": "stdout",
     "output_type": "stream",
     "text": [
      "(1, 1440)\n",
      "7\n",
      "152 回目\n"
     ]
    },
    {
     "name": "stderr",
     "output_type": "stream",
     "text": [
      "100%|██████████████████████████████████████████████████████████████████████████████████████████████████████████████████████████████████████████| 1/1 [00:03<00:00,  3.44s/it]\n"
     ]
    },
    {
     "name": "stdout",
     "output_type": "stream",
     "text": [
      "(1, 1445)\n",
      "7\n",
      "153 回目\n"
     ]
    },
    {
     "name": "stderr",
     "output_type": "stream",
     "text": [
      "100%|██████████████████████████████████████████████████████████████████████████████████████████████████████████████████████████████████████████| 1/1 [00:02<00:00,  2.81s/it]\n"
     ]
    },
    {
     "name": "stdout",
     "output_type": "stream",
     "text": [
      "(1, 1445)\n",
      "7\n",
      "154 回目\n"
     ]
    },
    {
     "name": "stderr",
     "output_type": "stream",
     "text": [
      "100%|██████████████████████████████████████████████████████████████████████████████████████████████████████████████████████████████████████████| 1/1 [00:01<00:00,  1.40s/it]\n"
     ]
    },
    {
     "name": "stdout",
     "output_type": "stream",
     "text": [
      "(1, 1447)\n",
      "7\n",
      "155 回目\n"
     ]
    },
    {
     "name": "stderr",
     "output_type": "stream",
     "text": [
      "100%|██████████████████████████████████████████████████████████████████████████████████████████████████████████████████████████████████████████| 1/1 [00:02<00:00,  2.12s/it]\n"
     ]
    },
    {
     "name": "stdout",
     "output_type": "stream",
     "text": [
      "(1, 1449)\n",
      "7\n",
      "156 回目\n"
     ]
    },
    {
     "name": "stderr",
     "output_type": "stream",
     "text": [
      "100%|██████████████████████████████████████████████████████████████████████████████████████████████████████████████████████████████████████████| 1/1 [00:01<00:00,  1.42s/it]\n"
     ]
    },
    {
     "name": "stdout",
     "output_type": "stream",
     "text": [
      "(1, 1448)\n",
      "7\n",
      "157 回目\n"
     ]
    },
    {
     "name": "stderr",
     "output_type": "stream",
     "text": [
      "100%|██████████████████████████████████████████████████████████████████████████████████████████████████████████████████████████████████████████| 1/1 [00:01<00:00,  1.39s/it]\n"
     ]
    },
    {
     "name": "stdout",
     "output_type": "stream",
     "text": [
      "(1, 1457)\n",
      "7\n",
      "158 回目\n"
     ]
    },
    {
     "name": "stderr",
     "output_type": "stream",
     "text": [
      "100%|██████████████████████████████████████████████████████████████████████████████████████████████████████████████████████████████████████████| 1/1 [00:01<00:00,  1.65s/it]\n"
     ]
    },
    {
     "name": "stdout",
     "output_type": "stream",
     "text": [
      "(1, 1452)\n",
      "7\n",
      "159 回目\n"
     ]
    },
    {
     "name": "stderr",
     "output_type": "stream",
     "text": [
      "100%|██████████████████████████████████████████████████████████████████████████████████████████████████████████████████████████████████████████| 1/1 [00:01<00:00,  1.90s/it]\n"
     ]
    },
    {
     "name": "stdout",
     "output_type": "stream",
     "text": [
      "(1, 1452)\n",
      "7\n",
      "160 回目\n"
     ]
    },
    {
     "name": "stderr",
     "output_type": "stream",
     "text": [
      "100%|██████████████████████████████████████████████████████████████████████████████████████████████████████████████████████████████████████████| 1/1 [00:01<00:00,  1.42s/it]\n"
     ]
    },
    {
     "name": "stdout",
     "output_type": "stream",
     "text": [
      "(1, 1450)\n",
      "7\n",
      "161 回目\n"
     ]
    },
    {
     "name": "stderr",
     "output_type": "stream",
     "text": [
      "100%|██████████████████████████████████████████████████████████████████████████████████████████████████████████████████████████████████████████| 1/1 [00:01<00:00,  1.39s/it]\n"
     ]
    },
    {
     "name": "stdout",
     "output_type": "stream",
     "text": [
      "(1, 1449)\n",
      "7\n",
      "162 回目\n"
     ]
    },
    {
     "name": "stderr",
     "output_type": "stream",
     "text": [
      "100%|██████████████████████████████████████████████████████████████████████████████████████████████████████████████████████████████████████████| 1/1 [00:01<00:00,  1.71s/it]\n"
     ]
    },
    {
     "name": "stdout",
     "output_type": "stream",
     "text": [
      "(1, 1449)\n",
      "7\n",
      "163 回目\n"
     ]
    },
    {
     "name": "stderr",
     "output_type": "stream",
     "text": [
      "100%|██████████████████████████████████████████████████████████████████████████████████████████████████████████████████████████████████████████| 1/1 [00:04<00:00,  4.09s/it]\n"
     ]
    },
    {
     "name": "stdout",
     "output_type": "stream",
     "text": [
      "(1, 1240)\n",
      "7\n",
      "164 回目\n"
     ]
    },
    {
     "name": "stderr",
     "output_type": "stream",
     "text": [
      "100%|██████████████████████████████████████████████████████████████████████████████████████████████████████████████████████████████████████████| 1/1 [00:02<00:00,  2.07s/it]\n"
     ]
    },
    {
     "name": "stdout",
     "output_type": "stream",
     "text": [
      "(1, 1447)\n",
      "7\n",
      "165 回目\n"
     ]
    },
    {
     "name": "stderr",
     "output_type": "stream",
     "text": [
      "100%|██████████████████████████████████████████████████████████████████████████████████████████████████████████████████████████████████████████| 1/1 [00:01<00:00,  1.49s/it]\n"
     ]
    },
    {
     "name": "stdout",
     "output_type": "stream",
     "text": [
      "(1, 1453)\n",
      "7\n",
      "166 回目\n"
     ]
    },
    {
     "name": "stderr",
     "output_type": "stream",
     "text": [
      "100%|██████████████████████████████████████████████████████████████████████████████████████████████████████████████████████████████████████████| 1/1 [00:01<00:00,  1.09s/it]\n"
     ]
    },
    {
     "name": "stdout",
     "output_type": "stream",
     "text": [
      "(1, 1447)\n",
      "7\n",
      "167 回目\n"
     ]
    },
    {
     "name": "stderr",
     "output_type": "stream",
     "text": [
      "100%|██████████████████████████████████████████████████████████████████████████████████████████████████████████████████████████████████████████| 1/1 [00:01<00:00,  1.36s/it]\n"
     ]
    },
    {
     "name": "stdout",
     "output_type": "stream",
     "text": [
      "(1, 1449)\n",
      "7\n",
      "168 回目\n"
     ]
    },
    {
     "name": "stderr",
     "output_type": "stream",
     "text": [
      "100%|██████████████████████████████████████████████████████████████████████████████████████████████████████████████████████████████████████████| 1/1 [00:01<00:00,  1.55s/it]\n"
     ]
    },
    {
     "name": "stdout",
     "output_type": "stream",
     "text": [
      "(1, 1446)\n",
      "7\n",
      "169 回目\n"
     ]
    },
    {
     "name": "stderr",
     "output_type": "stream",
     "text": [
      "100%|██████████████████████████████████████████████████████████████████████████████████████████████████████████████████████████████████████████| 1/1 [00:01<00:00,  1.09s/it]\n"
     ]
    },
    {
     "name": "stdout",
     "output_type": "stream",
     "text": [
      "(1, 1240)\n",
      "7\n",
      "170 回目\n"
     ]
    },
    {
     "name": "stderr",
     "output_type": "stream",
     "text": [
      "100%|██████████████████████████████████████████████████████████████████████████████████████████████████████████████████████████████████████████| 1/1 [00:01<00:00,  1.56s/it]\n"
     ]
    },
    {
     "name": "stdout",
     "output_type": "stream",
     "text": [
      "(1, 1240)\n",
      "7\n",
      "171 回目\n"
     ]
    },
    {
     "name": "stderr",
     "output_type": "stream",
     "text": [
      "100%|██████████████████████████████████████████████████████████████████████████████████████████████████████████████████████████████████████████| 1/1 [00:02<00:00,  2.05s/it]\n"
     ]
    },
    {
     "name": "stdout",
     "output_type": "stream",
     "text": [
      "(1, 1442)\n",
      "7\n",
      "172 回目\n"
     ]
    },
    {
     "name": "stderr",
     "output_type": "stream",
     "text": [
      "100%|██████████████████████████████████████████████████████████████████████████████████████████████████████████████████████████████████████████| 1/1 [00:01<00:00,  1.42s/it]\n"
     ]
    },
    {
     "name": "stdout",
     "output_type": "stream",
     "text": [
      "(1, 1446)\n",
      "7\n",
      "173 回目\n"
     ]
    },
    {
     "name": "stderr",
     "output_type": "stream",
     "text": [
      "100%|██████████████████████████████████████████████████████████████████████████████████████████████████████████████████████████████████████████| 1/1 [00:01<00:00,  1.96s/it]\n"
     ]
    },
    {
     "name": "stdout",
     "output_type": "stream",
     "text": [
      "(1, 1236)\n",
      "7\n",
      "174 回目\n"
     ]
    },
    {
     "name": "stderr",
     "output_type": "stream",
     "text": [
      "100%|██████████████████████████████████████████████████████████████████████████████████████████████████████████████████████████████████████████| 1/1 [00:01<00:00,  2.00s/it]\n"
     ]
    },
    {
     "name": "stdout",
     "output_type": "stream",
     "text": [
      "(1, 1182)\n",
      "7\n",
      "175 回目\n"
     ]
    },
    {
     "name": "stderr",
     "output_type": "stream",
     "text": [
      "100%|██████████████████████████████████████████████████████████████████████████████████████████████████████████████████████████████████████████| 1/1 [00:01<00:00,  1.53s/it]\n"
     ]
    },
    {
     "name": "stdout",
     "output_type": "stream",
     "text": [
      "(1, 1440)\n",
      "7\n",
      "176 回目\n"
     ]
    },
    {
     "name": "stderr",
     "output_type": "stream",
     "text": [
      "100%|██████████████████████████████████████████████████████████████████████████████████████████████████████████████████████████████████████████| 1/1 [00:01<00:00,  1.67s/it]\n"
     ]
    },
    {
     "name": "stdout",
     "output_type": "stream",
     "text": [
      "(1, 1442)\n",
      "7\n",
      "177 回目\n"
     ]
    },
    {
     "name": "stderr",
     "output_type": "stream",
     "text": [
      "100%|██████████████████████████████████████████████████████████████████████████████████████████████████████████████████████████████████████████| 1/1 [00:05<00:00,  5.02s/it]\n"
     ]
    },
    {
     "name": "stdout",
     "output_type": "stream",
     "text": [
      "(1, 1447)\n",
      "7\n",
      "178 回目\n"
     ]
    },
    {
     "name": "stderr",
     "output_type": "stream",
     "text": [
      "100%|██████████████████████████████████████████████████████████████████████████████████████████████████████████████████████████████████████████| 1/1 [00:04<00:00,  4.09s/it]\n"
     ]
    },
    {
     "name": "stdout",
     "output_type": "stream",
     "text": [
      "(1, 1447)\n",
      "7\n",
      "179 回目\n"
     ]
    },
    {
     "name": "stderr",
     "output_type": "stream",
     "text": [
      "100%|██████████████████████████████████████████████████████████████████████████████████████████████████████████████████████████████████████████| 1/1 [00:03<00:00,  3.79s/it]\n"
     ]
    },
    {
     "name": "stdout",
     "output_type": "stream",
     "text": [
      "(1, 1397)\n",
      "7\n",
      "180 回目\n"
     ]
    },
    {
     "name": "stderr",
     "output_type": "stream",
     "text": [
      "100%|██████████████████████████████████████████████████████████████████████████████████████████████████████████████████████████████████████████| 1/1 [00:04<00:00,  4.92s/it]\n"
     ]
    },
    {
     "name": "stdout",
     "output_type": "stream",
     "text": [
      "(1, 1444)\n",
      "7\n",
      "181 回目\n"
     ]
    },
    {
     "name": "stderr",
     "output_type": "stream",
     "text": [
      "100%|██████████████████████████████████████████████████████████████████████████████████████████████████████████████████████████████████████████| 1/1 [00:03<00:00,  3.77s/it]\n"
     ]
    },
    {
     "name": "stdout",
     "output_type": "stream",
     "text": [
      "(1, 1397)\n",
      "7\n",
      "182 回目\n"
     ]
    },
    {
     "name": "stderr",
     "output_type": "stream",
     "text": [
      "100%|██████████████████████████████████████████████████████████████████████████████████████████████████████████████████████████████████████████| 1/1 [00:02<00:00,  2.24s/it]\n"
     ]
    },
    {
     "name": "stdout",
     "output_type": "stream",
     "text": [
      "(1, 1447)\n",
      "7\n",
      "183 回目\n"
     ]
    },
    {
     "name": "stderr",
     "output_type": "stream",
     "text": [
      "100%|██████████████████████████████████████████████████████████████████████████████████████████████████████████████████████████████████████████| 1/1 [00:02<00:00,  2.95s/it]\n"
     ]
    },
    {
     "name": "stdout",
     "output_type": "stream",
     "text": [
      "(1, 1446)\n",
      "7\n",
      "184 回目\n"
     ]
    },
    {
     "name": "stderr",
     "output_type": "stream",
     "text": [
      "100%|██████████████████████████████████████████████████████████████████████████████████████████████████████████████████████████████████████████| 1/1 [00:02<00:00,  2.11s/it]\n"
     ]
    },
    {
     "name": "stdout",
     "output_type": "stream",
     "text": [
      "(1, 1445)\n",
      "7\n",
      "185 回目\n"
     ]
    },
    {
     "name": "stderr",
     "output_type": "stream",
     "text": [
      "100%|██████████████████████████████████████████████████████████████████████████████████████████████████████████████████████████████████████████| 1/1 [00:02<00:00,  2.10s/it]\n"
     ]
    },
    {
     "name": "stdout",
     "output_type": "stream",
     "text": [
      "(1, 1443)\n",
      "7\n",
      "186 回目\n"
     ]
    },
    {
     "name": "stderr",
     "output_type": "stream",
     "text": [
      "100%|██████████████████████████████████████████████████████████████████████████████████████████████████████████████████████████████████████████| 1/1 [00:01<00:00,  1.30s/it]\n"
     ]
    },
    {
     "name": "stdout",
     "output_type": "stream",
     "text": [
      "(1, 1458)\n",
      "7\n",
      "187 回目\n"
     ]
    },
    {
     "name": "stderr",
     "output_type": "stream",
     "text": [
      "100%|██████████████████████████████████████████████████████████████████████████████████████████████████████████████████████████████████████████| 1/1 [00:01<00:00,  1.39s/it]\n"
     ]
    },
    {
     "name": "stdout",
     "output_type": "stream",
     "text": [
      "(1, 1242)\n",
      "7\n",
      "188 回目\n"
     ]
    },
    {
     "name": "stderr",
     "output_type": "stream",
     "text": [
      "100%|██████████████████████████████████████████████████████████████████████████████████████████████████████████████████████████████████████████| 1/1 [00:01<00:00,  1.31s/it]\n"
     ]
    },
    {
     "name": "stdout",
     "output_type": "stream",
     "text": [
      "(1, 1460)\n",
      "7\n",
      "189 回目\n"
     ]
    },
    {
     "name": "stderr",
     "output_type": "stream",
     "text": [
      "100%|██████████████████████████████████████████████████████████████████████████████████████████████████████████████████████████████████████████| 1/1 [00:01<00:00,  1.85s/it]\n"
     ]
    },
    {
     "name": "stdout",
     "output_type": "stream",
     "text": [
      "(1, 1449)\n",
      "7\n",
      "190 回目\n"
     ]
    },
    {
     "name": "stderr",
     "output_type": "stream",
     "text": [
      "100%|██████████████████████████████████████████████████████████████████████████████████████████████████████████████████████████████████████████| 1/1 [00:01<00:00,  1.74s/it]\n"
     ]
    },
    {
     "name": "stdout",
     "output_type": "stream",
     "text": [
      "(1, 1450)\n",
      "7\n",
      "191 回目\n"
     ]
    },
    {
     "name": "stderr",
     "output_type": "stream",
     "text": [
      "100%|██████████████████████████████████████████████████████████████████████████████████████████████████████████████████████████████████████████| 1/1 [00:01<00:00,  1.38s/it]\n"
     ]
    },
    {
     "name": "stdout",
     "output_type": "stream",
     "text": [
      "(1, 1454)\n",
      "7\n",
      "192 回目\n"
     ]
    },
    {
     "name": "stderr",
     "output_type": "stream",
     "text": [
      "100%|██████████████████████████████████████████████████████████████████████████████████████████████████████████████████████████████████████████| 1/1 [00:01<00:00,  1.33s/it]\n"
     ]
    },
    {
     "name": "stdout",
     "output_type": "stream",
     "text": [
      "(1, 1451)\n",
      "7\n",
      "193 回目\n"
     ]
    },
    {
     "name": "stderr",
     "output_type": "stream",
     "text": [
      "100%|██████████████████████████████████████████████████████████████████████████████████████████████████████████████████████████████████████████| 1/1 [00:01<00:00,  1.61s/it]\n"
     ]
    },
    {
     "name": "stdout",
     "output_type": "stream",
     "text": [
      "(1, 1450)\n",
      "7\n",
      "194 回目\n"
     ]
    },
    {
     "name": "stderr",
     "output_type": "stream",
     "text": [
      "100%|██████████████████████████████████████████████████████████████████████████████████████████████████████████████████████████████████████████| 1/1 [00:01<00:00,  1.27s/it]\n"
     ]
    },
    {
     "name": "stdout",
     "output_type": "stream",
     "text": [
      "(1, 1452)\n",
      "7\n",
      "195 回目\n"
     ]
    },
    {
     "name": "stderr",
     "output_type": "stream",
     "text": [
      "100%|██████████████████████████████████████████████████████████████████████████████████████████████████████████████████████████████████████████| 1/1 [00:01<00:00,  1.08s/it]\n"
     ]
    },
    {
     "name": "stdout",
     "output_type": "stream",
     "text": [
      "(1, 1440)\n",
      "7\n",
      "196 回目\n"
     ]
    },
    {
     "name": "stderr",
     "output_type": "stream",
     "text": [
      "100%|██████████████████████████████████████████████████████████████████████████████████████████████████████████████████████████████████████████| 1/1 [00:01<00:00,  1.15s/it]\n"
     ]
    },
    {
     "name": "stdout",
     "output_type": "stream",
     "text": [
      "(1, 1176)\n",
      "\"['ATS1s_SMILES', 'GATS4s_SMILES'] not in index\"\n",
      "197 回目\n"
     ]
    },
    {
     "name": "stderr",
     "output_type": "stream",
     "text": [
      "100%|██████████████████████████████████████████████████████████████████████████████████████████████████████████████████████████████████████████| 1/1 [00:01<00:00,  1.24s/it]\n"
     ]
    },
    {
     "name": "stdout",
     "output_type": "stream",
     "text": [
      "(1, 1237)\n",
      "8\n",
      "198 回目\n"
     ]
    },
    {
     "name": "stderr",
     "output_type": "stream",
     "text": [
      "100%|██████████████████████████████████████████████████████████████████████████████████████████████████████████████████████████████████████████| 1/1 [00:01<00:00,  1.46s/it]\n"
     ]
    },
    {
     "name": "stdout",
     "output_type": "stream",
     "text": [
      "(1, 1445)\n",
      "8\n",
      "199 回目\n"
     ]
    },
    {
     "name": "stderr",
     "output_type": "stream",
     "text": [
      "100%|██████████████████████████████████████████████████████████████████████████████████████████████████████████████████████████████████████████| 1/1 [00:01<00:00,  1.71s/it]\n"
     ]
    },
    {
     "name": "stdout",
     "output_type": "stream",
     "text": [
      "(1, 1441)\n",
      "8\n",
      "200 回目\n"
     ]
    },
    {
     "name": "stderr",
     "output_type": "stream",
     "text": [
      "100%|██████████████████████████████████████████████████████████████████████████████████████████████████████████████████████████████████████████| 1/1 [00:01<00:00,  1.58s/it]\n"
     ]
    },
    {
     "name": "stdout",
     "output_type": "stream",
     "text": [
      "(1, 1454)\n",
      "8\n",
      "201 回目\n"
     ]
    },
    {
     "name": "stderr",
     "output_type": "stream",
     "text": [
      "100%|██████████████████████████████████████████████████████████████████████████████████████████████████████████████████████████████████████████| 1/1 [00:01<00:00,  1.91s/it]\n"
     ]
    },
    {
     "name": "stdout",
     "output_type": "stream",
     "text": [
      "(1, 1442)\n",
      "8\n",
      "202 回目\n"
     ]
    },
    {
     "name": "stderr",
     "output_type": "stream",
     "text": [
      "100%|██████████████████████████████████████████████████████████████████████████████████████████████████████████████████████████████████████████| 1/1 [00:02<00:00,  2.45s/it]\n"
     ]
    },
    {
     "name": "stdout",
     "output_type": "stream",
     "text": [
      "(1, 1449)\n",
      "8\n",
      "203 回目\n"
     ]
    },
    {
     "name": "stderr",
     "output_type": "stream",
     "text": [
      "100%|██████████████████████████████████████████████████████████████████████████████████████████████████████████████████████████████████████████| 1/1 [00:01<00:00,  1.51s/it]\n"
     ]
    },
    {
     "name": "stdout",
     "output_type": "stream",
     "text": [
      "(1, 1450)\n",
      "8\n",
      "204 回目\n"
     ]
    },
    {
     "name": "stderr",
     "output_type": "stream",
     "text": [
      "100%|██████████████████████████████████████████████████████████████████████████████████████████████████████████████████████████████████████████| 1/1 [00:01<00:00,  1.28s/it]\n"
     ]
    },
    {
     "name": "stdout",
     "output_type": "stream",
     "text": [
      "(1, 1452)\n",
      "8\n",
      "205 回目\n"
     ]
    },
    {
     "name": "stderr",
     "output_type": "stream",
     "text": [
      "100%|██████████████████████████████████████████████████████████████████████████████████████████████████████████████████████████████████████████| 1/1 [00:01<00:00,  1.24s/it]\n"
     ]
    },
    {
     "name": "stdout",
     "output_type": "stream",
     "text": [
      "(1, 1444)\n",
      "8\n",
      "206 回目\n"
     ]
    },
    {
     "name": "stderr",
     "output_type": "stream",
     "text": [
      "100%|██████████████████████████████████████████████████████████████████████████████████████████████████████████████████████████████████████████| 1/1 [00:01<00:00,  1.49s/it]\n"
     ]
    },
    {
     "name": "stdout",
     "output_type": "stream",
     "text": [
      "(1, 1445)\n",
      "8\n",
      "207 回目\n"
     ]
    },
    {
     "name": "stderr",
     "output_type": "stream",
     "text": [
      "100%|██████████████████████████████████████████████████████████████████████████████████████████████████████████████████████████████████████████| 1/1 [00:01<00:00,  1.34s/it]\n"
     ]
    },
    {
     "name": "stdout",
     "output_type": "stream",
     "text": [
      "(1, 1445)\n",
      "8\n",
      "208 回目\n"
     ]
    },
    {
     "name": "stderr",
     "output_type": "stream",
     "text": [
      "100%|██████████████████████████████████████████████████████████████████████████████████████████████████████████████████████████████████████████| 1/1 [00:01<00:00,  1.17s/it]\n"
     ]
    },
    {
     "name": "stdout",
     "output_type": "stream",
     "text": [
      "(1, 1445)\n",
      "8\n",
      "209 回目\n"
     ]
    },
    {
     "name": "stderr",
     "output_type": "stream",
     "text": [
      "100%|██████████████████████████████████████████████████████████████████████████████████████████████████████████████████████████████████████████| 1/1 [00:01<00:00,  1.08s/it]\n"
     ]
    },
    {
     "name": "stdout",
     "output_type": "stream",
     "text": [
      "(1, 1240)\n",
      "8\n",
      "210 回目\n"
     ]
    },
    {
     "name": "stderr",
     "output_type": "stream",
     "text": [
      "100%|██████████████████████████████████████████████████████████████████████████████████████████████████████████████████████████████████████████| 1/1 [00:01<00:00,  1.36s/it]\n"
     ]
    },
    {
     "name": "stdout",
     "output_type": "stream",
     "text": [
      "(1, 1441)\n",
      "8\n",
      "211 回目\n"
     ]
    },
    {
     "name": "stderr",
     "output_type": "stream",
     "text": [
      "100%|██████████████████████████████████████████████████████████████████████████████████████████████████████████████████████████████████████████| 1/1 [00:01<00:00,  1.26s/it]\n"
     ]
    },
    {
     "name": "stdout",
     "output_type": "stream",
     "text": [
      "(1, 1441)\n",
      "8\n",
      "212 回目\n"
     ]
    },
    {
     "name": "stderr",
     "output_type": "stream",
     "text": [
      "100%|██████████████████████████████████████████████████████████████████████████████████████████████████████████████████████████████████████████| 1/1 [00:01<00:00,  1.59s/it]\n"
     ]
    },
    {
     "name": "stdout",
     "output_type": "stream",
     "text": [
      "(1, 1448)\n",
      "8\n",
      "213 回目\n"
     ]
    },
    {
     "name": "stderr",
     "output_type": "stream",
     "text": [
      "100%|██████████████████████████████████████████████████████████████████████████████████████████████████████████████████████████████████████████| 1/1 [00:02<00:00,  2.29s/it]\n"
     ]
    },
    {
     "name": "stdout",
     "output_type": "stream",
     "text": [
      "(1, 1453)\n",
      "8\n",
      "214 回目\n"
     ]
    },
    {
     "name": "stderr",
     "output_type": "stream",
     "text": [
      "100%|██████████████████████████████████████████████████████████████████████████████████████████████████████████████████████████████████████████| 1/1 [00:08<00:00,  8.33s/it]\n"
     ]
    },
    {
     "name": "stdout",
     "output_type": "stream",
     "text": [
      "(1, 1446)\n",
      "8\n",
      "215 回目\n"
     ]
    },
    {
     "name": "stderr",
     "output_type": "stream",
     "text": [
      "100%|██████████████████████████████████████████████████████████████████████████████████████████████████████████████████████████████████████████| 1/1 [00:02<00:00,  2.89s/it]\n"
     ]
    },
    {
     "name": "stdout",
     "output_type": "stream",
     "text": [
      "(1, 1444)\n",
      "8\n",
      "216 回目\n"
     ]
    },
    {
     "name": "stderr",
     "output_type": "stream",
     "text": [
      "100%|██████████████████████████████████████████████████████████████████████████████████████████████████████████████████████████████████████████| 1/1 [00:01<00:00,  1.80s/it]\n"
     ]
    },
    {
     "name": "stdout",
     "output_type": "stream",
     "text": [
      "(1, 1180)\n",
      "\"['ATS1s_SMILES', 'GATS4s_SMILES'] not in index\"\n",
      "217 回目\n"
     ]
    },
    {
     "name": "stderr",
     "output_type": "stream",
     "text": [
      "100%|██████████████████████████████████████████████████████████████████████████████████████████████████████████████████████████████████████████| 1/1 [00:01<00:00,  1.70s/it]\n"
     ]
    },
    {
     "name": "stdout",
     "output_type": "stream",
     "text": [
      "(1, 1180)\n",
      "9\n",
      "218 回目\n"
     ]
    },
    {
     "name": "stderr",
     "output_type": "stream",
     "text": [
      "100%|██████████████████████████████████████████████████████████████████████████████████████████████████████████████████████████████████████████| 1/1 [00:01<00:00,  1.41s/it]\n"
     ]
    },
    {
     "name": "stdout",
     "output_type": "stream",
     "text": [
      "(1, 1445)\n",
      "9\n",
      "219 回目\n"
     ]
    },
    {
     "name": "stderr",
     "output_type": "stream",
     "text": [
      "100%|██████████████████████████████████████████████████████████████████████████████████████████████████████████████████████████████████████████| 1/1 [00:03<00:00,  3.90s/it]\n"
     ]
    },
    {
     "name": "stdout",
     "output_type": "stream",
     "text": [
      "(1, 1446)\n",
      "9\n",
      "220 回目\n"
     ]
    },
    {
     "name": "stderr",
     "output_type": "stream",
     "text": [
      "100%|██████████████████████████████████████████████████████████████████████████████████████████████████████████████████████████████████████████| 1/1 [00:01<00:00,  1.56s/it]\n"
     ]
    },
    {
     "name": "stdout",
     "output_type": "stream",
     "text": [
      "(1, 1446)\n",
      "9\n",
      "221 回目\n"
     ]
    },
    {
     "name": "stderr",
     "output_type": "stream",
     "text": [
      "100%|██████████████████████████████████████████████████████████████████████████████████████████████████████████████████████████████████████████| 1/1 [00:02<00:00,  2.81s/it]\n"
     ]
    },
    {
     "name": "stdout",
     "output_type": "stream",
     "text": [
      "(1, 1445)\n",
      "9\n",
      "222 回目\n"
     ]
    },
    {
     "name": "stderr",
     "output_type": "stream",
     "text": [
      "100%|██████████████████████████████████████████████████████████████████████████████████████████████████████████████████████████████████████████| 1/1 [00:01<00:00,  1.33s/it]\n"
     ]
    },
    {
     "name": "stdout",
     "output_type": "stream",
     "text": [
      "(1, 1446)\n",
      "9\n",
      "223 回目\n"
     ]
    },
    {
     "name": "stderr",
     "output_type": "stream",
     "text": [
      "100%|██████████████████████████████████████████████████████████████████████████████████████████████████████████████████████████████████████████| 1/1 [00:01<00:00,  1.34s/it]\n"
     ]
    },
    {
     "name": "stdout",
     "output_type": "stream",
     "text": [
      "(1, 1444)\n",
      "9\n",
      "224 回目\n"
     ]
    },
    {
     "name": "stderr",
     "output_type": "stream",
     "text": [
      "100%|██████████████████████████████████████████████████████████████████████████████████████████████████████████████████████████████████████████| 1/1 [00:02<00:00,  2.92s/it]\n"
     ]
    },
    {
     "name": "stdout",
     "output_type": "stream",
     "text": [
      "(1, 1395)\n",
      "9\n",
      "225 回目\n"
     ]
    },
    {
     "name": "stderr",
     "output_type": "stream",
     "text": [
      "100%|██████████████████████████████████████████████████████████████████████████████████████████████████████████████████████████████████████████| 1/1 [00:02<00:00,  2.45s/it]\n"
     ]
    },
    {
     "name": "stdout",
     "output_type": "stream",
     "text": [
      "(1, 1446)\n",
      "9\n",
      "226 回目\n"
     ]
    },
    {
     "name": "stderr",
     "output_type": "stream",
     "text": [
      "100%|██████████████████████████████████████████████████████████████████████████████████████████████████████████████████████████████████████████| 1/1 [00:01<00:00,  1.46s/it]\n"
     ]
    },
    {
     "name": "stdout",
     "output_type": "stream",
     "text": [
      "(1, 1444)\n",
      "9\n",
      "227 回目\n"
     ]
    },
    {
     "name": "stderr",
     "output_type": "stream",
     "text": [
      "100%|██████████████████████████████████████████████████████████████████████████████████████████████████████████████████████████████████████████| 1/1 [00:01<00:00,  1.30s/it]\n"
     ]
    },
    {
     "name": "stdout",
     "output_type": "stream",
     "text": [
      "(1, 1180)\n",
      "\"['ATS1s_SMILES', 'GATS4s_SMILES'] not in index\"\n",
      "228 回目\n"
     ]
    },
    {
     "name": "stderr",
     "output_type": "stream",
     "text": [
      "100%|██████████████████████████████████████████████████████████████████████████████████████████████████████████████████████████████████████████| 1/1 [00:02<00:00,  2.05s/it]\n"
     ]
    },
    {
     "name": "stdout",
     "output_type": "stream",
     "text": [
      "(1, 1397)\n",
      "10\n",
      "229 回目\n"
     ]
    },
    {
     "name": "stderr",
     "output_type": "stream",
     "text": [
      "100%|██████████████████████████████████████████████████████████████████████████████████████████████████████████████████████████████████████████| 1/1 [00:01<00:00,  1.32s/it]\n"
     ]
    },
    {
     "name": "stdout",
     "output_type": "stream",
     "text": [
      "(1, 1440)\n",
      "10\n",
      "230 回目\n"
     ]
    },
    {
     "name": "stderr",
     "output_type": "stream",
     "text": [
      "100%|██████████████████████████████████████████████████████████████████████████████████████████████████████████████████████████████████████████| 1/1 [00:01<00:00,  1.91s/it]\n"
     ]
    },
    {
     "name": "stdout",
     "output_type": "stream",
     "text": [
      "(1, 1453)\n",
      "10\n",
      "231 回目\n"
     ]
    },
    {
     "name": "stderr",
     "output_type": "stream",
     "text": [
      "100%|██████████████████████████████████████████████████████████████████████████████████████████████████████████████████████████████████████████| 1/1 [00:02<00:00,  2.27s/it]\n"
     ]
    },
    {
     "name": "stdout",
     "output_type": "stream",
     "text": [
      "(1, 1445)\n",
      "10\n",
      "232 回目\n"
     ]
    },
    {
     "name": "stderr",
     "output_type": "stream",
     "text": [
      "100%|██████████████████████████████████████████████████████████████████████████████████████████████████████████████████████████████████████████| 1/1 [00:01<00:00,  1.57s/it]\n"
     ]
    },
    {
     "name": "stdout",
     "output_type": "stream",
     "text": [
      "(1, 1452)\n",
      "10\n",
      "233 回目\n"
     ]
    },
    {
     "name": "stderr",
     "output_type": "stream",
     "text": [
      "100%|██████████████████████████████████████████████████████████████████████████████████████████████████████████████████████████████████████████| 1/1 [00:01<00:00,  1.38s/it]\n"
     ]
    },
    {
     "name": "stdout",
     "output_type": "stream",
     "text": [
      "(1, 1452)\n",
      "10\n",
      "234 回目\n"
     ]
    },
    {
     "name": "stderr",
     "output_type": "stream",
     "text": [
      "100%|██████████████████████████████████████████████████████████████████████████████████████████████████████████████████████████████████████████| 1/1 [00:01<00:00,  1.56s/it]\n"
     ]
    },
    {
     "name": "stdout",
     "output_type": "stream",
     "text": [
      "(1, 1446)\n",
      "10\n",
      "235 回目\n"
     ]
    },
    {
     "name": "stderr",
     "output_type": "stream",
     "text": [
      "100%|██████████████████████████████████████████████████████████████████████████████████████████████████████████████████████████████████████████| 1/1 [00:03<00:00,  3.08s/it]\n"
     ]
    },
    {
     "name": "stdout",
     "output_type": "stream",
     "text": [
      "(1, 1447)\n",
      "10\n",
      "236 回目\n"
     ]
    },
    {
     "name": "stderr",
     "output_type": "stream",
     "text": [
      "100%|██████████████████████████████████████████████████████████████████████████████████████████████████████████████████████████████████████████| 1/1 [00:01<00:00,  1.14s/it]\n"
     ]
    },
    {
     "name": "stdout",
     "output_type": "stream",
     "text": [
      "(1, 1452)\n",
      "10\n",
      "237 回目\n"
     ]
    },
    {
     "name": "stderr",
     "output_type": "stream",
     "text": [
      "100%|██████████████████████████████████████████████████████████████████████████████████████████████████████████████████████████████████████████| 1/1 [00:01<00:00,  1.30s/it]\n"
     ]
    },
    {
     "name": "stdout",
     "output_type": "stream",
     "text": [
      "(1, 1449)\n",
      "10\n",
      "238 回目\n"
     ]
    },
    {
     "name": "stderr",
     "output_type": "stream",
     "text": [
      "100%|██████████████████████████████████████████████████████████████████████████████████████████████████████████████████████████████████████████| 1/1 [00:01<00:00,  1.21s/it]\n"
     ]
    },
    {
     "name": "stdout",
     "output_type": "stream",
     "text": [
      "(1, 1450)\n",
      "10\n",
      "239 回目\n"
     ]
    },
    {
     "name": "stderr",
     "output_type": "stream",
     "text": [
      "100%|██████████████████████████████████████████████████████████████████████████████████████████████████████████████████████████████████████████| 1/1 [00:01<00:00,  1.29s/it]\n"
     ]
    },
    {
     "name": "stdout",
     "output_type": "stream",
     "text": [
      "(1, 1443)\n",
      "10\n",
      "240 回目\n"
     ]
    },
    {
     "name": "stderr",
     "output_type": "stream",
     "text": [
      "100%|██████████████████████████████████████████████████████████████████████████████████████████████████████████████████████████████████████████| 1/1 [00:01<00:00,  1.29s/it]\n"
     ]
    },
    {
     "name": "stdout",
     "output_type": "stream",
     "text": [
      "(1, 1449)\n",
      "10\n",
      "241 回目\n"
     ]
    },
    {
     "name": "stderr",
     "output_type": "stream",
     "text": [
      "100%|██████████████████████████████████████████████████████████████████████████████████████████████████████████████████████████████████████████| 1/1 [00:01<00:00,  1.49s/it]\n"
     ]
    },
    {
     "name": "stdout",
     "output_type": "stream",
     "text": [
      "(1, 1446)\n",
      "10\n",
      "242 回目\n"
     ]
    },
    {
     "name": "stderr",
     "output_type": "stream",
     "text": [
      "100%|██████████████████████████████████████████████████████████████████████████████████████████████████████████████████████████████████████████| 1/1 [00:01<00:00,  1.32s/it]\n"
     ]
    },
    {
     "name": "stdout",
     "output_type": "stream",
     "text": [
      "(1, 1445)\n",
      "10\n",
      "243 回目\n"
     ]
    },
    {
     "name": "stderr",
     "output_type": "stream",
     "text": [
      "100%|██████████████████████████████████████████████████████████████████████████████████████████████████████████████████████████████████████████| 1/1 [00:01<00:00,  1.38s/it]\n"
     ]
    },
    {
     "name": "stdout",
     "output_type": "stream",
     "text": [
      "(1, 1452)\n",
      "10\n",
      "244 回目\n"
     ]
    },
    {
     "name": "stderr",
     "output_type": "stream",
     "text": [
      "100%|██████████████████████████████████████████████████████████████████████████████████████████████████████████████████████████████████████████| 1/1 [00:01<00:00,  1.93s/it]\n"
     ]
    },
    {
     "name": "stdout",
     "output_type": "stream",
     "text": [
      "(1, 1454)\n",
      "10\n",
      "245 回目\n"
     ]
    },
    {
     "name": "stderr",
     "output_type": "stream",
     "text": [
      "100%|██████████████████████████████████████████████████████████████████████████████████████████████████████████████████████████████████████████| 1/1 [00:01<00:00,  1.18s/it]\n"
     ]
    },
    {
     "name": "stdout",
     "output_type": "stream",
     "text": [
      "(1, 1395)\n",
      "10\n",
      "246 回目\n"
     ]
    },
    {
     "name": "stderr",
     "output_type": "stream",
     "text": [
      "100%|██████████████████████████████████████████████████████████████████████████████████████████████████████████████████████████████████████████| 1/1 [00:01<00:00,  1.15s/it]\n"
     ]
    },
    {
     "name": "stdout",
     "output_type": "stream",
     "text": [
      "(1, 1442)\n",
      "10\n",
      "247 回目\n"
     ]
    },
    {
     "name": "stderr",
     "output_type": "stream",
     "text": [
      "100%|██████████████████████████████████████████████████████████████████████████████████████████████████████████████████████████████████████████| 1/1 [00:01<00:00,  1.35s/it]\n"
     ]
    },
    {
     "name": "stdout",
     "output_type": "stream",
     "text": [
      "(1, 1446)\n",
      "10\n",
      "248 回目\n"
     ]
    },
    {
     "name": "stderr",
     "output_type": "stream",
     "text": [
      "100%|██████████████████████████████████████████████████████████████████████████████████████████████████████████████████████████████████████████| 1/1 [00:01<00:00,  1.51s/it]\n"
     ]
    },
    {
     "name": "stdout",
     "output_type": "stream",
     "text": [
      "(1, 1445)\n",
      "10\n",
      "249 回目\n"
     ]
    },
    {
     "name": "stderr",
     "output_type": "stream",
     "text": [
      "100%|██████████████████████████████████████████████████████████████████████████████████████████████████████████████████████████████████████████| 1/1 [00:02<00:00,  2.55s/it]\n"
     ]
    },
    {
     "name": "stdout",
     "output_type": "stream",
     "text": [
      "(1, 1446)\n",
      "10\n",
      "250 回目\n"
     ]
    },
    {
     "name": "stderr",
     "output_type": "stream",
     "text": [
      "100%|██████████████████████████████████████████████████████████████████████████████████████████████████████████████████████████████████████████| 1/1 [00:01<00:00,  1.64s/it]\n"
     ]
    },
    {
     "name": "stdout",
     "output_type": "stream",
     "text": [
      "(1, 1446)\n",
      "10\n",
      "251 回目\n"
     ]
    },
    {
     "name": "stderr",
     "output_type": "stream",
     "text": [
      "100%|██████████████████████████████████████████████████████████████████████████████████████████████████████████████████████████████████████████| 1/1 [00:02<00:00,  2.91s/it]\n"
     ]
    },
    {
     "name": "stdout",
     "output_type": "stream",
     "text": [
      "(1, 1454)\n",
      "10\n",
      "252 回目\n"
     ]
    },
    {
     "name": "stderr",
     "output_type": "stream",
     "text": [
      "100%|██████████████████████████████████████████████████████████████████████████████████████████████████████████████████████████████████████████| 1/1 [00:01<00:00,  1.52s/it]\n"
     ]
    },
    {
     "name": "stdout",
     "output_type": "stream",
     "text": [
      "(1, 1240)\n",
      "10\n",
      "253 回目\n"
     ]
    },
    {
     "name": "stderr",
     "output_type": "stream",
     "text": [
      "100%|██████████████████████████████████████████████████████████████████████████████████████████████████████████████████████████████████████████| 1/1 [00:01<00:00,  1.99s/it]\n"
     ]
    },
    {
     "name": "stdout",
     "output_type": "stream",
     "text": [
      "(1, 1452)\n",
      "10\n",
      "254 回目\n"
     ]
    },
    {
     "name": "stderr",
     "output_type": "stream",
     "text": [
      "100%|██████████████████████████████████████████████████████████████████████████████████████████████████████████████████████████████████████████| 1/1 [00:01<00:00,  1.46s/it]\n"
     ]
    },
    {
     "name": "stdout",
     "output_type": "stream",
     "text": [
      "(1, 1443)\n",
      "10\n",
      "255 回目\n"
     ]
    },
    {
     "name": "stderr",
     "output_type": "stream",
     "text": [
      "100%|██████████████████████████████████████████████████████████████████████████████████████████████████████████████████████████████████████████| 1/1 [00:01<00:00,  1.26s/it]\n"
     ]
    },
    {
     "name": "stdout",
     "output_type": "stream",
     "text": [
      "(1, 1455)\n",
      "10\n",
      "256 回目\n"
     ]
    },
    {
     "name": "stderr",
     "output_type": "stream",
     "text": [
      "100%|██████████████████████████████████████████████████████████████████████████████████████████████████████████████████████████████████████████| 1/1 [00:02<00:00,  2.13s/it]\n"
     ]
    },
    {
     "name": "stdout",
     "output_type": "stream",
     "text": [
      "(1, 1453)\n",
      "10\n",
      "257 回目\n"
     ]
    },
    {
     "name": "stderr",
     "output_type": "stream",
     "text": [
      "100%|██████████████████████████████████████████████████████████████████████████████████████████████████████████████████████████████████████████| 1/1 [00:01<00:00,  1.09s/it]\n"
     ]
    },
    {
     "name": "stdout",
     "output_type": "stream",
     "text": [
      "(1, 1393)\n",
      "10\n",
      "258 回目\n"
     ]
    },
    {
     "name": "stderr",
     "output_type": "stream",
     "text": [
      "100%|██████████████████████████████████████████████████████████████████████████████████████████████████████████████████████████████████████████| 1/1 [00:01<00:00,  1.10s/it]\n"
     ]
    },
    {
     "name": "stdout",
     "output_type": "stream",
     "text": [
      "(1, 1446)\n",
      "10\n",
      "259 回目\n"
     ]
    },
    {
     "name": "stderr",
     "output_type": "stream",
     "text": [
      "100%|██████████████████████████████████████████████████████████████████████████████████████████████████████████████████████████████████████████| 1/1 [00:01<00:00,  1.14s/it]\n"
     ]
    },
    {
     "name": "stdout",
     "output_type": "stream",
     "text": [
      "(1, 1446)\n",
      "10\n",
      "260 回目\n"
     ]
    },
    {
     "name": "stderr",
     "output_type": "stream",
     "text": [
      "100%|██████████████████████████████████████████████████████████████████████████████████████████████████████████████████████████████████████████| 1/1 [00:00<00:00,  1.03it/s]\n"
     ]
    },
    {
     "name": "stdout",
     "output_type": "stream",
     "text": [
      "(1, 1344)\n",
      "10\n",
      "261 回目\n"
     ]
    },
    {
     "name": "stderr",
     "output_type": "stream",
     "text": [
      "100%|██████████████████████████████████████████████████████████████████████████████████████████████████████████████████████████████████████████| 1/1 [00:00<00:00,  1.05it/s]\n"
     ]
    },
    {
     "name": "stdout",
     "output_type": "stream",
     "text": [
      "(1, 1182)\n",
      "10\n",
      "262 回目\n"
     ]
    },
    {
     "name": "stderr",
     "output_type": "stream",
     "text": [
      "100%|██████████████████████████████████████████████████████████████████████████████████████████████████████████████████████████████████████████| 1/1 [00:01<00:00,  1.19s/it]\n"
     ]
    },
    {
     "name": "stdout",
     "output_type": "stream",
     "text": [
      "(1, 1438)\n",
      "10\n",
      "263 回目\n"
     ]
    },
    {
     "name": "stderr",
     "output_type": "stream",
     "text": [
      "100%|██████████████████████████████████████████████████████████████████████████████████████████████████████████████████████████████████████████| 1/1 [00:01<00:00,  1.32s/it]\n"
     ]
    },
    {
     "name": "stdout",
     "output_type": "stream",
     "text": [
      "(1, 1452)\n",
      "10\n",
      "264 回目\n"
     ]
    },
    {
     "name": "stderr",
     "output_type": "stream",
     "text": [
      "100%|██████████████████████████████████████████████████████████████████████████████████████████████████████████████████████████████████████████| 1/1 [00:01<00:00,  1.21s/it]\n"
     ]
    },
    {
     "name": "stdout",
     "output_type": "stream",
     "text": [
      "(1, 1447)\n",
      "10\n",
      "265 回目\n"
     ]
    },
    {
     "name": "stderr",
     "output_type": "stream",
     "text": [
      "100%|██████████████████████████████████████████████████████████████████████████████████████████████████████████████████████████████████████████| 1/1 [00:01<00:00,  1.43s/it]\n"
     ]
    },
    {
     "name": "stdout",
     "output_type": "stream",
     "text": [
      "(1, 1443)\n",
      "10\n",
      "266 回目\n"
     ]
    },
    {
     "name": "stderr",
     "output_type": "stream",
     "text": [
      "100%|██████████████████████████████████████████████████████████████████████████████████████████████████████████████████████████████████████████| 1/1 [00:01<00:00,  1.17s/it]\n"
     ]
    },
    {
     "name": "stdout",
     "output_type": "stream",
     "text": [
      "(1, 1450)\n",
      "10\n",
      "267 回目\n"
     ]
    },
    {
     "name": "stderr",
     "output_type": "stream",
     "text": [
      "100%|██████████████████████████████████████████████████████████████████████████████████████████████████████████████████████████████████████████| 1/1 [00:01<00:00,  1.28s/it]\n"
     ]
    },
    {
     "name": "stdout",
     "output_type": "stream",
     "text": [
      "(1, 1449)\n",
      "10\n",
      "268 回目\n"
     ]
    },
    {
     "name": "stderr",
     "output_type": "stream",
     "text": [
      "100%|██████████████████████████████████████████████████████████████████████████████████████████████████████████████████████████████████████████| 1/1 [00:01<00:00,  1.37s/it]\n"
     ]
    },
    {
     "name": "stdout",
     "output_type": "stream",
     "text": [
      "(1, 1243)\n",
      "10\n",
      "269 回目\n"
     ]
    },
    {
     "name": "stderr",
     "output_type": "stream",
     "text": [
      "100%|██████████████████████████████████████████████████████████████████████████████████████████████████████████████████████████████████████████| 1/1 [00:01<00:00,  1.41s/it]\n"
     ]
    },
    {
     "name": "stdout",
     "output_type": "stream",
     "text": [
      "(1, 1450)\n",
      "10\n",
      "270 回目\n"
     ]
    },
    {
     "name": "stderr",
     "output_type": "stream",
     "text": [
      "100%|██████████████████████████████████████████████████████████████████████████████████████████████████████████████████████████████████████████| 1/1 [00:01<00:00,  1.31s/it]\n"
     ]
    },
    {
     "name": "stdout",
     "output_type": "stream",
     "text": [
      "(1, 1448)\n",
      "10\n",
      "271 回目\n"
     ]
    },
    {
     "name": "stderr",
     "output_type": "stream",
     "text": [
      "100%|██████████████████████████████████████████████████████████████████████████████████████████████████████████████████████████████████████████| 1/1 [00:01<00:00,  1.27s/it]\n"
     ]
    },
    {
     "name": "stdout",
     "output_type": "stream",
     "text": [
      "(1, 1448)\n",
      "10\n",
      "272 回目\n"
     ]
    },
    {
     "name": "stderr",
     "output_type": "stream",
     "text": [
      "100%|██████████████████████████████████████████████████████████████████████████████████████████████████████████████████████████████████████████| 1/1 [00:01<00:00,  1.30s/it]\n"
     ]
    },
    {
     "name": "stdout",
     "output_type": "stream",
     "text": [
      "(1, 1448)\n",
      "10\n",
      "273 回目\n"
     ]
    },
    {
     "name": "stderr",
     "output_type": "stream",
     "text": [
      "100%|██████████████████████████████████████████████████████████████████████████████████████████████████████████████████████████████████████████| 1/1 [00:01<00:00,  1.49s/it]\n"
     ]
    },
    {
     "name": "stdout",
     "output_type": "stream",
     "text": [
      "(1, 1447)\n",
      "10\n",
      "274 回目\n"
     ]
    },
    {
     "name": "stderr",
     "output_type": "stream",
     "text": [
      "100%|██████████████████████████████████████████████████████████████████████████████████████████████████████████████████████████████████████████| 1/1 [00:03<00:00,  3.04s/it]\n"
     ]
    },
    {
     "name": "stdout",
     "output_type": "stream",
     "text": [
      "(1, 1449)\n",
      "10\n",
      "275 回目\n"
     ]
    },
    {
     "name": "stderr",
     "output_type": "stream",
     "text": [
      "100%|██████████████████████████████████████████████████████████████████████████████████████████████████████████████████████████████████████████| 1/1 [00:03<00:00,  3.13s/it]\n"
     ]
    },
    {
     "name": "stdout",
     "output_type": "stream",
     "text": [
      "(1, 1448)\n",
      "10\n",
      "276 回目\n"
     ]
    },
    {
     "name": "stderr",
     "output_type": "stream",
     "text": [
      "100%|██████████████████████████████████████████████████████████████████████████████████████████████████████████████████████████████████████████| 1/1 [00:02<00:00,  2.19s/it]\n"
     ]
    },
    {
     "name": "stdout",
     "output_type": "stream",
     "text": [
      "(1, 1449)\n",
      "10\n",
      "277 回目\n"
     ]
    },
    {
     "name": "stderr",
     "output_type": "stream",
     "text": [
      "100%|██████████████████████████████████████████████████████████████████████████████████████████████████████████████████████████████████████████| 1/1 [00:03<00:00,  3.11s/it]\n"
     ]
    },
    {
     "name": "stdout",
     "output_type": "stream",
     "text": [
      "(1, 1450)\n",
      "10\n",
      "278 回目\n"
     ]
    },
    {
     "name": "stderr",
     "output_type": "stream",
     "text": [
      "100%|██████████████████████████████████████████████████████████████████████████████████████████████████████████████████████████████████████████| 1/1 [00:01<00:00,  1.49s/it]\n"
     ]
    },
    {
     "name": "stdout",
     "output_type": "stream",
     "text": [
      "(1, 1450)\n",
      "10\n",
      "279 回目\n"
     ]
    },
    {
     "name": "stderr",
     "output_type": "stream",
     "text": [
      "100%|██████████████████████████████████████████████████████████████████████████████████████████████████████████████████████████████████████████| 1/1 [00:02<00:00,  2.57s/it]\n"
     ]
    },
    {
     "name": "stdout",
     "output_type": "stream",
     "text": [
      "(1, 1449)\n",
      "10\n",
      "280 回目\n"
     ]
    },
    {
     "name": "stderr",
     "output_type": "stream",
     "text": [
      "100%|██████████████████████████████████████████████████████████████████████████████████████████████████████████████████████████████████████████| 1/1 [00:01<00:00,  1.11s/it]\n"
     ]
    },
    {
     "name": "stdout",
     "output_type": "stream",
     "text": [
      "(1, 1394)\n",
      "10\n",
      "281 回目\n"
     ]
    },
    {
     "name": "stderr",
     "output_type": "stream",
     "text": [
      "100%|██████████████████████████████████████████████████████████████████████████████████████████████████████████████████████████████████████████| 1/1 [00:01<00:00,  1.45s/it]\n"
     ]
    },
    {
     "name": "stdout",
     "output_type": "stream",
     "text": [
      "(1, 1449)\n",
      "10\n",
      "282 回目\n"
     ]
    },
    {
     "name": "stderr",
     "output_type": "stream",
     "text": [
      "100%|██████████████████████████████████████████████████████████████████████████████████████████████████████████████████████████████████████████| 1/1 [00:01<00:00,  1.31s/it]\n"
     ]
    },
    {
     "name": "stdout",
     "output_type": "stream",
     "text": [
      "(1, 1446)\n",
      "10\n",
      "283 回目\n"
     ]
    },
    {
     "name": "stderr",
     "output_type": "stream",
     "text": [
      "100%|██████████████████████████████████████████████████████████████████████████████████████████████████████████████████████████████████████████| 1/1 [00:01<00:00,  1.34s/it]\n"
     ]
    },
    {
     "name": "stdout",
     "output_type": "stream",
     "text": [
      "(1, 1447)\n",
      "10\n",
      "284 回目\n"
     ]
    },
    {
     "name": "stderr",
     "output_type": "stream",
     "text": [
      "100%|██████████████████████████████████████████████████████████████████████████████████████████████████████████████████████████████████████████| 1/1 [00:01<00:00,  1.67s/it]\n"
     ]
    },
    {
     "name": "stdout",
     "output_type": "stream",
     "text": [
      "(1, 1446)\n",
      "10\n",
      "285 回目\n"
     ]
    },
    {
     "name": "stderr",
     "output_type": "stream",
     "text": [
      "100%|██████████████████████████████████████████████████████████████████████████████████████████████████████████████████████████████████████████| 1/1 [00:01<00:00,  1.73s/it]\n"
     ]
    },
    {
     "name": "stdout",
     "output_type": "stream",
     "text": [
      "(1, 1443)\n",
      "10\n",
      "286 回目\n"
     ]
    },
    {
     "name": "stderr",
     "output_type": "stream",
     "text": [
      "100%|██████████████████████████████████████████████████████████████████████████████████████████████████████████████████████████████████████████| 1/1 [00:01<00:00,  1.82s/it]\n"
     ]
    },
    {
     "name": "stdout",
     "output_type": "stream",
     "text": [
      "(1, 1446)\n",
      "10\n",
      "287 回目\n"
     ]
    },
    {
     "name": "stderr",
     "output_type": "stream",
     "text": [
      "100%|██████████████████████████████████████████████████████████████████████████████████████████████████████████████████████████████████████████| 1/1 [00:04<00:00,  4.81s/it]\n"
     ]
    },
    {
     "name": "stdout",
     "output_type": "stream",
     "text": [
      "(1, 1449)\n",
      "10\n",
      "288 回目\n"
     ]
    },
    {
     "name": "stderr",
     "output_type": "stream",
     "text": [
      "100%|██████████████████████████████████████████████████████████████████████████████████████████████████████████████████████████████████████████| 1/1 [00:02<00:00,  2.02s/it]\n"
     ]
    },
    {
     "name": "stdout",
     "output_type": "stream",
     "text": [
      "(1, 1344)\n",
      "10\n",
      "289 回目\n"
     ]
    },
    {
     "name": "stderr",
     "output_type": "stream",
     "text": [
      "100%|██████████████████████████████████████████████████████████████████████████████████████████████████████████████████████████████████████████| 1/1 [00:02<00:00,  2.18s/it]\n"
     ]
    },
    {
     "name": "stdout",
     "output_type": "stream",
     "text": [
      "(1, 1445)\n",
      "10\n",
      "290 回目\n"
     ]
    },
    {
     "name": "stderr",
     "output_type": "stream",
     "text": [
      "100%|██████████████████████████████████████████████████████████████████████████████████████████████████████████████████████████████████████████| 1/1 [00:01<00:00,  1.76s/it]\n"
     ]
    },
    {
     "name": "stdout",
     "output_type": "stream",
     "text": [
      "(1, 1440)\n",
      "10\n",
      "291 回目\n"
     ]
    },
    {
     "name": "stderr",
     "output_type": "stream",
     "text": [
      "100%|██████████████████████████████████████████████████████████████████████████████████████████████████████████████████████████████████████████| 1/1 [00:01<00:00,  1.76s/it]\n"
     ]
    },
    {
     "name": "stdout",
     "output_type": "stream",
     "text": [
      "(1, 1445)\n",
      "10\n",
      "292 回目\n"
     ]
    },
    {
     "name": "stderr",
     "output_type": "stream",
     "text": [
      "100%|██████████████████████████████████████████████████████████████████████████████████████████████████████████████████████████████████████████| 1/1 [00:01<00:00,  1.52s/it]\n"
     ]
    },
    {
     "name": "stdout",
     "output_type": "stream",
     "text": [
      "(1, 1447)\n",
      "10\n",
      "293 回目\n"
     ]
    },
    {
     "name": "stderr",
     "output_type": "stream",
     "text": [
      "100%|██████████████████████████████████████████████████████████████████████████████████████████████████████████████████████████████████████████| 1/1 [00:01<00:00,  1.51s/it]\n"
     ]
    },
    {
     "name": "stdout",
     "output_type": "stream",
     "text": [
      "(1, 1452)\n",
      "10\n",
      "294 回目\n"
     ]
    },
    {
     "name": "stderr",
     "output_type": "stream",
     "text": [
      "100%|██████████████████████████████████████████████████████████████████████████████████████████████████████████████████████████████████████████| 1/1 [00:02<00:00,  2.37s/it]\n"
     ]
    },
    {
     "name": "stdout",
     "output_type": "stream",
     "text": [
      "(1, 1453)\n",
      "10\n",
      "295 回目\n"
     ]
    },
    {
     "name": "stderr",
     "output_type": "stream",
     "text": [
      "100%|██████████████████████████████████████████████████████████████████████████████████████████████████████████████████████████████████████████| 1/1 [00:01<00:00,  1.59s/it]\n"
     ]
    },
    {
     "name": "stdout",
     "output_type": "stream",
     "text": [
      "(1, 1399)\n",
      "10\n",
      "296 回目\n"
     ]
    },
    {
     "name": "stderr",
     "output_type": "stream",
     "text": [
      "100%|██████████████████████████████████████████████████████████████████████████████████████████████████████████████████████████████████████████| 1/1 [00:01<00:00,  1.37s/it]\n"
     ]
    },
    {
     "name": "stdout",
     "output_type": "stream",
     "text": [
      "(1, 1448)\n",
      "10\n",
      "297 回目\n"
     ]
    },
    {
     "name": "stderr",
     "output_type": "stream",
     "text": [
      "100%|██████████████████████████████████████████████████████████████████████████████████████████████████████████████████████████████████████████| 1/1 [00:01<00:00,  1.93s/it]\n"
     ]
    },
    {
     "name": "stdout",
     "output_type": "stream",
     "text": [
      "(1, 1447)\n",
      "10\n",
      "298 回目\n"
     ]
    },
    {
     "name": "stderr",
     "output_type": "stream",
     "text": [
      "100%|██████████████████████████████████████████████████████████████████████████████████████████████████████████████████████████████████████████| 1/1 [00:01<00:00,  1.34s/it]\n"
     ]
    },
    {
     "name": "stdout",
     "output_type": "stream",
     "text": [
      "(1, 1446)\n",
      "10\n",
      "299 回目\n"
     ]
    },
    {
     "name": "stderr",
     "output_type": "stream",
     "text": [
      "100%|██████████████████████████████████████████████████████████████████████████████████████████████████████████████████████████████████████████| 1/1 [00:01<00:00,  1.44s/it]\n"
     ]
    },
    {
     "name": "stdout",
     "output_type": "stream",
     "text": [
      "(1, 1451)\n",
      "10\n",
      "300 回目\n"
     ]
    },
    {
     "name": "stderr",
     "output_type": "stream",
     "text": [
      "100%|██████████████████████████████████████████████████████████████████████████████████████████████████████████████████████████████████████████| 1/1 [00:01<00:00,  1.94s/it]\n"
     ]
    },
    {
     "name": "stdout",
     "output_type": "stream",
     "text": [
      "(1, 1443)\n",
      "10\n",
      "301 回目\n"
     ]
    },
    {
     "name": "stderr",
     "output_type": "stream",
     "text": [
      "100%|██████████████████████████████████████████████████████████████████████████████████████████████████████████████████████████████████████████| 1/1 [00:01<00:00,  1.73s/it]\n"
     ]
    },
    {
     "name": "stdout",
     "output_type": "stream",
     "text": [
      "(1, 1446)\n",
      "10\n",
      "302 回目\n"
     ]
    },
    {
     "name": "stderr",
     "output_type": "stream",
     "text": [
      "100%|██████████████████████████████████████████████████████████████████████████████████████████████████████████████████████████████████████████| 1/1 [00:02<00:00,  2.14s/it]\n"
     ]
    },
    {
     "name": "stdout",
     "output_type": "stream",
     "text": [
      "(1, 1455)\n",
      "10\n",
      "303 回目\n"
     ]
    },
    {
     "name": "stderr",
     "output_type": "stream",
     "text": [
      "100%|██████████████████████████████████████████████████████████████████████████████████████████████████████████████████████████████████████████| 1/1 [00:01<00:00,  1.80s/it]\n"
     ]
    },
    {
     "name": "stdout",
     "output_type": "stream",
     "text": [
      "(1, 1448)\n",
      "10\n",
      "304 回目\n"
     ]
    },
    {
     "name": "stderr",
     "output_type": "stream",
     "text": [
      "100%|██████████████████████████████████████████████████████████████████████████████████████████████████████████████████████████████████████████| 1/1 [00:03<00:00,  3.16s/it]\n"
     ]
    },
    {
     "name": "stdout",
     "output_type": "stream",
     "text": [
      "(1, 1445)\n",
      "10\n",
      "305 回目\n"
     ]
    },
    {
     "name": "stderr",
     "output_type": "stream",
     "text": [
      "100%|██████████████████████████████████████████████████████████████████████████████████████████████████████████████████████████████████████████| 1/1 [00:02<00:00,  2.01s/it]\n"
     ]
    },
    {
     "name": "stdout",
     "output_type": "stream",
     "text": [
      "(1, 1242)\n",
      "10\n",
      "306 回目\n"
     ]
    },
    {
     "name": "stderr",
     "output_type": "stream",
     "text": [
      "100%|██████████████████████████████████████████████████████████████████████████████████████████████████████████████████████████████████████████| 1/1 [00:02<00:00,  2.90s/it]\n"
     ]
    },
    {
     "name": "stdout",
     "output_type": "stream",
     "text": [
      "(1, 1451)\n",
      "10\n",
      "307 回目\n"
     ]
    },
    {
     "name": "stderr",
     "output_type": "stream",
     "text": [
      "100%|██████████████████████████████████████████████████████████████████████████████████████████████████████████████████████████████████████████| 1/1 [00:02<00:00,  2.89s/it]\n"
     ]
    },
    {
     "name": "stdout",
     "output_type": "stream",
     "text": [
      "(1, 1447)\n",
      "10\n",
      "308 回目\n"
     ]
    },
    {
     "name": "stderr",
     "output_type": "stream",
     "text": [
      "100%|██████████████████████████████████████████████████████████████████████████████████████████████████████████████████████████████████████████| 1/1 [00:01<00:00,  1.53s/it]\n"
     ]
    },
    {
     "name": "stdout",
     "output_type": "stream",
     "text": [
      "(1, 1447)\n",
      "10\n",
      "309 回目\n"
     ]
    },
    {
     "name": "stderr",
     "output_type": "stream",
     "text": [
      "100%|██████████████████████████████████████████████████████████████████████████████████████████████████████████████████████████████████████████| 1/1 [00:01<00:00,  1.56s/it]\n"
     ]
    },
    {
     "name": "stdout",
     "output_type": "stream",
     "text": [
      "(1, 1447)\n",
      "10\n",
      "310 回目\n"
     ]
    },
    {
     "name": "stderr",
     "output_type": "stream",
     "text": [
      "100%|██████████████████████████████████████████████████████████████████████████████████████████████████████████████████████████████████████████| 1/1 [00:01<00:00,  1.53s/it]\n"
     ]
    },
    {
     "name": "stdout",
     "output_type": "stream",
     "text": [
      "(1, 1446)\n",
      "10\n",
      "311 回目\n"
     ]
    },
    {
     "name": "stderr",
     "output_type": "stream",
     "text": [
      "100%|██████████████████████████████████████████████████████████████████████████████████████████████████████████████████████████████████████████| 1/1 [00:01<00:00,  1.98s/it]\n"
     ]
    },
    {
     "name": "stdout",
     "output_type": "stream",
     "text": [
      "(1, 1445)\n",
      "10\n",
      "312 回目\n"
     ]
    },
    {
     "name": "stderr",
     "output_type": "stream",
     "text": [
      "100%|██████████████████████████████████████████████████████████████████████████████████████████████████████████████████████████████████████████| 1/1 [00:02<00:00,  2.17s/it]\n"
     ]
    },
    {
     "name": "stdout",
     "output_type": "stream",
     "text": [
      "(1, 1451)\n",
      "10\n",
      "313 回目\n"
     ]
    },
    {
     "name": "stderr",
     "output_type": "stream",
     "text": [
      "100%|██████████████████████████████████████████████████████████████████████████████████████████████████████████████████████████████████████████| 1/1 [00:01<00:00,  1.85s/it]\n"
     ]
    },
    {
     "name": "stdout",
     "output_type": "stream",
     "text": [
      "(1, 1452)\n",
      "10\n",
      "314 回目\n"
     ]
    },
    {
     "name": "stderr",
     "output_type": "stream",
     "text": [
      "100%|██████████████████████████████████████████████████████████████████████████████████████████████████████████████████████████████████████████| 1/1 [00:03<00:00,  3.38s/it]\n"
     ]
    },
    {
     "name": "stdout",
     "output_type": "stream",
     "text": [
      "(1, 1451)\n",
      "10\n",
      "315 回目\n"
     ]
    },
    {
     "name": "stderr",
     "output_type": "stream",
     "text": [
      "100%|██████████████████████████████████████████████████████████████████████████████████████████████████████████████████████████████████████████| 1/1 [00:02<00:00,  2.87s/it]\n"
     ]
    },
    {
     "name": "stdout",
     "output_type": "stream",
     "text": [
      "(1, 1442)\n",
      "10\n",
      "316 回目\n"
     ]
    },
    {
     "name": "stderr",
     "output_type": "stream",
     "text": [
      "100%|██████████████████████████████████████████████████████████████████████████████████████████████████████████████████████████████████████████| 1/1 [00:03<00:00,  3.31s/it]\n"
     ]
    },
    {
     "name": "stdout",
     "output_type": "stream",
     "text": [
      "(1, 1447)\n",
      "10\n",
      "317 回目\n"
     ]
    },
    {
     "name": "stderr",
     "output_type": "stream",
     "text": [
      "100%|██████████████████████████████████████████████████████████████████████████████████████████████████████████████████████████████████████████| 1/1 [00:01<00:00,  1.73s/it]\n"
     ]
    },
    {
     "name": "stdout",
     "output_type": "stream",
     "text": [
      "(1, 1449)\n",
      "10\n",
      "318 回目\n"
     ]
    },
    {
     "name": "stderr",
     "output_type": "stream",
     "text": [
      "100%|██████████████████████████████████████████████████████████████████████████████████████████████████████████████████████████████████████████| 1/1 [00:01<00:00,  1.21s/it]\n"
     ]
    },
    {
     "name": "stdout",
     "output_type": "stream",
     "text": [
      "(1, 1185)\n",
      "\"['ATS1s_SMILES', 'GATS4s_SMILES'] not in index\"\n",
      "319 回目\n"
     ]
    },
    {
     "name": "stderr",
     "output_type": "stream",
     "text": [
      "100%|██████████████████████████████████████████████████████████████████████████████████████████████████████████████████████████████████████████| 1/1 [00:01<00:00,  1.15s/it]\n"
     ]
    },
    {
     "name": "stdout",
     "output_type": "stream",
     "text": [
      "(1, 1397)\n",
      "11\n",
      "320 回目\n"
     ]
    },
    {
     "name": "stderr",
     "output_type": "stream",
     "text": [
      "100%|██████████████████████████████████████████████████████████████████████████████████████████████████████████████████████████████████████████| 1/1 [00:01<00:00,  1.51s/it]\n"
     ]
    },
    {
     "name": "stdout",
     "output_type": "stream",
     "text": [
      "(1, 1443)\n",
      "11\n",
      "321 回目\n"
     ]
    },
    {
     "name": "stderr",
     "output_type": "stream",
     "text": [
      "100%|██████████████████████████████████████████████████████████████████████████████████████████████████████████████████████████████████████████| 1/1 [00:01<00:00,  1.07s/it]\n"
     ]
    },
    {
     "name": "stdout",
     "output_type": "stream",
     "text": [
      "(1, 1391)\n",
      "11\n",
      "322 回目\n"
     ]
    },
    {
     "name": "stderr",
     "output_type": "stream",
     "text": [
      "100%|██████████████████████████████████████████████████████████████████████████████████████████████████████████████████████████████████████████| 1/1 [00:01<00:00,  1.65s/it]\n"
     ]
    },
    {
     "name": "stdout",
     "output_type": "stream",
     "text": [
      "(1, 1447)\n",
      "11\n",
      "323 回目\n"
     ]
    },
    {
     "name": "stderr",
     "output_type": "stream",
     "text": [
      "100%|██████████████████████████████████████████████████████████████████████████████████████████████████████████████████████████████████████████| 1/1 [00:01<00:00,  1.35s/it]\n"
     ]
    },
    {
     "name": "stdout",
     "output_type": "stream",
     "text": [
      "(1, 1445)\n",
      "11\n",
      "324 回目\n"
     ]
    },
    {
     "name": "stderr",
     "output_type": "stream",
     "text": [
      "100%|██████████████████████████████████████████████████████████████████████████████████████████████████████████████████████████████████████████| 1/1 [00:01<00:00,  1.26s/it]\n"
     ]
    },
    {
     "name": "stdout",
     "output_type": "stream",
     "text": [
      "(1, 1452)\n",
      "11\n",
      "325 回目\n"
     ]
    },
    {
     "name": "stderr",
     "output_type": "stream",
     "text": [
      "100%|██████████████████████████████████████████████████████████████████████████████████████████████████████████████████████████████████████████| 1/1 [00:02<00:00,  2.29s/it]\n"
     ]
    },
    {
     "name": "stdout",
     "output_type": "stream",
     "text": [
      "(1, 1453)\n",
      "11\n",
      "326 回目\n"
     ]
    },
    {
     "name": "stderr",
     "output_type": "stream",
     "text": [
      "100%|██████████████████████████████████████████████████████████████████████████████████████████████████████████████████████████████████████████| 1/1 [00:02<00:00,  2.95s/it]\n"
     ]
    },
    {
     "name": "stdout",
     "output_type": "stream",
     "text": [
      "(1, 1453)\n",
      "11\n",
      "327 回目\n"
     ]
    },
    {
     "name": "stderr",
     "output_type": "stream",
     "text": [
      "100%|██████████████████████████████████████████████████████████████████████████████████████████████████████████████████████████████████████████| 1/1 [00:01<00:00,  1.82s/it]\n"
     ]
    },
    {
     "name": "stdout",
     "output_type": "stream",
     "text": [
      "(1, 1455)\n",
      "11\n",
      "328 回目\n"
     ]
    },
    {
     "name": "stderr",
     "output_type": "stream",
     "text": [
      "100%|██████████████████████████████████████████████████████████████████████████████████████████████████████████████████████████████████████████| 1/1 [00:01<00:00,  1.64s/it]\n"
     ]
    },
    {
     "name": "stdout",
     "output_type": "stream",
     "text": [
      "(1, 1455)\n",
      "11\n",
      "329 回目\n"
     ]
    },
    {
     "name": "stderr",
     "output_type": "stream",
     "text": [
      "100%|██████████████████████████████████████████████████████████████████████████████████████████████████████████████████████████████████████████| 1/1 [00:01<00:00,  1.26s/it]\n"
     ]
    },
    {
     "name": "stdout",
     "output_type": "stream",
     "text": [
      "(1, 1452)\n",
      "11\n",
      "330 回目\n"
     ]
    },
    {
     "name": "stderr",
     "output_type": "stream",
     "text": [
      "100%|██████████████████████████████████████████████████████████████████████████████████████████████████████████████████████████████████████████| 1/1 [00:01<00:00,  1.52s/it]\n"
     ]
    },
    {
     "name": "stdout",
     "output_type": "stream",
     "text": [
      "(1, 1446)\n",
      "11\n",
      "331 回目\n"
     ]
    },
    {
     "name": "stderr",
     "output_type": "stream",
     "text": [
      "100%|██████████████████████████████████████████████████████████████████████████████████████████████████████████████████████████████████████████| 1/1 [00:01<00:00,  1.74s/it]\n"
     ]
    },
    {
     "name": "stdout",
     "output_type": "stream",
     "text": [
      "(1, 1449)\n",
      "11\n",
      "332 回目\n"
     ]
    },
    {
     "name": "stderr",
     "output_type": "stream",
     "text": [
      "100%|██████████████████████████████████████████████████████████████████████████████████████████████████████████████████████████████████████████| 1/1 [00:01<00:00,  1.78s/it]\n"
     ]
    },
    {
     "name": "stdout",
     "output_type": "stream",
     "text": [
      "(1, 1457)\n",
      "11\n",
      "333 回目\n"
     ]
    },
    {
     "name": "stderr",
     "output_type": "stream",
     "text": [
      "100%|██████████████████████████████████████████████████████████████████████████████████████████████████████████████████████████████████████████| 1/1 [00:01<00:00,  1.50s/it]\n"
     ]
    },
    {
     "name": "stdout",
     "output_type": "stream",
     "text": [
      "(1, 1446)\n",
      "11\n",
      "334 回目\n"
     ]
    },
    {
     "name": "stderr",
     "output_type": "stream",
     "text": [
      "100%|██████████████████████████████████████████████████████████████████████████████████████████████████████████████████████████████████████████| 1/1 [00:01<00:00,  1.29s/it]\n"
     ]
    },
    {
     "name": "stdout",
     "output_type": "stream",
     "text": [
      "(1, 1451)\n",
      "11\n",
      "335 回目\n"
     ]
    },
    {
     "name": "stderr",
     "output_type": "stream",
     "text": [
      "100%|██████████████████████████████████████████████████████████████████████████████████████████████████████████████████████████████████████████| 1/1 [00:01<00:00,  1.52s/it]\n"
     ]
    },
    {
     "name": "stdout",
     "output_type": "stream",
     "text": [
      "(1, 1443)\n",
      "11\n",
      "336 回目\n"
     ]
    },
    {
     "name": "stderr",
     "output_type": "stream",
     "text": [
      "100%|██████████████████████████████████████████████████████████████████████████████████████████████████████████████████████████████████████████| 1/1 [00:01<00:00,  1.23s/it]\n"
     ]
    },
    {
     "name": "stdout",
     "output_type": "stream",
     "text": [
      "(1, 1443)\n",
      "11\n",
      "337 回目\n"
     ]
    },
    {
     "name": "stderr",
     "output_type": "stream",
     "text": [
      "100%|██████████████████████████████████████████████████████████████████████████████████████████████████████████████████████████████████████████| 1/1 [00:01<00:00,  1.80s/it]\n"
     ]
    },
    {
     "name": "stdout",
     "output_type": "stream",
     "text": [
      "(1, 1445)\n",
      "11\n",
      "338 回目\n"
     ]
    },
    {
     "name": "stderr",
     "output_type": "stream",
     "text": [
      "100%|██████████████████████████████████████████████████████████████████████████████████████████████████████████████████████████████████████████| 1/1 [00:02<00:00,  2.62s/it]\n"
     ]
    },
    {
     "name": "stdout",
     "output_type": "stream",
     "text": [
      "(1, 1440)\n",
      "11\n",
      "339 回目\n"
     ]
    },
    {
     "name": "stderr",
     "output_type": "stream",
     "text": [
      "100%|██████████████████████████████████████████████████████████████████████████████████████████████████████████████████████████████████████████| 1/1 [00:01<00:00,  1.38s/it]\n"
     ]
    },
    {
     "name": "stdout",
     "output_type": "stream",
     "text": [
      "(1, 1176)\n",
      "\"['ATS1s_SMILES', 'GATS4s_SMILES'] not in index\"\n",
      "340 回目\n"
     ]
    },
    {
     "name": "stderr",
     "output_type": "stream",
     "text": [
      "100%|██████████████████████████████████████████████████████████████████████████████████████████████████████████████████████████████████████████| 1/1 [00:01<00:00,  1.48s/it]\n"
     ]
    },
    {
     "name": "stdout",
     "output_type": "stream",
     "text": [
      "(1, 1443)\n",
      "12\n",
      "341 回目\n"
     ]
    },
    {
     "name": "stderr",
     "output_type": "stream",
     "text": [
      "100%|██████████████████████████████████████████████████████████████████████████████████████████████████████████████████████████████████████████| 1/1 [00:01<00:00,  1.30s/it]\n"
     ]
    },
    {
     "name": "stdout",
     "output_type": "stream",
     "text": [
      "(1, 1445)\n",
      "12\n",
      "342 回目\n"
     ]
    },
    {
     "name": "stderr",
     "output_type": "stream",
     "text": [
      "100%|██████████████████████████████████████████████████████████████████████████████████████████████████████████████████████████████████████████| 1/1 [00:01<00:00,  1.04s/it]\n"
     ]
    },
    {
     "name": "stdout",
     "output_type": "stream",
     "text": [
      "(1, 1393)\n",
      "12\n",
      "343 回目\n"
     ]
    },
    {
     "name": "stderr",
     "output_type": "stream",
     "text": [
      "100%|██████████████████████████████████████████████████████████████████████████████████████████████████████████████████████████████████████████| 1/1 [00:01<00:00,  1.27s/it]\n"
     ]
    },
    {
     "name": "stdout",
     "output_type": "stream",
     "text": [
      "(1, 1449)\n",
      "12\n",
      "344 回目\n"
     ]
    },
    {
     "name": "stderr",
     "output_type": "stream",
     "text": [
      "100%|██████████████████████████████████████████████████████████████████████████████████████████████████████████████████████████████████████████| 1/1 [00:01<00:00,  1.17s/it]\n"
     ]
    },
    {
     "name": "stdout",
     "output_type": "stream",
     "text": [
      "(1, 1444)\n",
      "12\n",
      "345 回目\n"
     ]
    },
    {
     "name": "stderr",
     "output_type": "stream",
     "text": [
      "100%|██████████████████████████████████████████████████████████████████████████████████████████████████████████████████████████████████████████| 1/1 [00:01<00:00,  1.35s/it]\n"
     ]
    },
    {
     "name": "stdout",
     "output_type": "stream",
     "text": [
      "(1, 1452)\n",
      "12\n",
      "346 回目\n"
     ]
    },
    {
     "name": "stderr",
     "output_type": "stream",
     "text": [
      "100%|██████████████████████████████████████████████████████████████████████████████████████████████████████████████████████████████████████████| 1/1 [00:01<00:00,  1.67s/it]\n"
     ]
    },
    {
     "name": "stdout",
     "output_type": "stream",
     "text": [
      "(1, 1455)\n",
      "12\n",
      "347 回目\n"
     ]
    },
    {
     "name": "stderr",
     "output_type": "stream",
     "text": [
      "100%|██████████████████████████████████████████████████████████████████████████████████████████████████████████████████████████████████████████| 1/1 [00:01<00:00,  1.42s/it]\n"
     ]
    },
    {
     "name": "stdout",
     "output_type": "stream",
     "text": [
      "(1, 1448)\n",
      "12\n",
      "348 回目\n"
     ]
    },
    {
     "name": "stderr",
     "output_type": "stream",
     "text": [
      "100%|██████████████████████████████████████████████████████████████████████████████████████████████████████████████████████████████████████████| 1/1 [00:01<00:00,  1.42s/it]\n"
     ]
    },
    {
     "name": "stdout",
     "output_type": "stream",
     "text": [
      "(1, 1447)\n",
      "12\n",
      "349 回目\n"
     ]
    },
    {
     "name": "stderr",
     "output_type": "stream",
     "text": [
      "100%|██████████████████████████████████████████████████████████████████████████████████████████████████████████████████████████████████████████| 1/1 [00:01<00:00,  1.65s/it]\n"
     ]
    },
    {
     "name": "stdout",
     "output_type": "stream",
     "text": [
      "(1, 1452)\n",
      "12\n",
      "350 回目\n"
     ]
    },
    {
     "name": "stderr",
     "output_type": "stream",
     "text": [
      "100%|██████████████████████████████████████████████████████████████████████████████████████████████████████████████████████████████████████████| 1/1 [00:01<00:00,  1.34s/it]\n"
     ]
    },
    {
     "name": "stdout",
     "output_type": "stream",
     "text": [
      "(1, 1448)\n",
      "12\n",
      "351 回目\n"
     ]
    },
    {
     "name": "stderr",
     "output_type": "stream",
     "text": [
      "100%|██████████████████████████████████████████████████████████████████████████████████████████████████████████████████████████████████████████| 1/1 [00:01<00:00,  1.12s/it]\n"
     ]
    },
    {
     "name": "stdout",
     "output_type": "stream",
     "text": [
      "(1, 1245)\n",
      "12\n",
      "352 回目\n"
     ]
    },
    {
     "name": "stderr",
     "output_type": "stream",
     "text": [
      "100%|██████████████████████████████████████████████████████████████████████████████████████████████████████████████████████████████████████████| 1/1 [00:01<00:00,  1.20s/it]\n"
     ]
    },
    {
     "name": "stdout",
     "output_type": "stream",
     "text": [
      "(1, 1448)\n",
      "12\n",
      "353 回目\n"
     ]
    },
    {
     "name": "stderr",
     "output_type": "stream",
     "text": [
      "100%|██████████████████████████████████████████████████████████████████████████████████████████████████████████████████████████████████████████| 1/1 [00:01<00:00,  1.05s/it]\n"
     ]
    },
    {
     "name": "stdout",
     "output_type": "stream",
     "text": [
      "(1, 1450)\n",
      "12\n",
      "354 回目\n"
     ]
    },
    {
     "name": "stderr",
     "output_type": "stream",
     "text": [
      "100%|██████████████████████████████████████████████████████████████████████████████████████████████████████████████████████████████████████████| 1/1 [00:01<00:00,  1.24s/it]\n"
     ]
    },
    {
     "name": "stdout",
     "output_type": "stream",
     "text": [
      "(1, 1450)\n",
      "12\n",
      "355 回目\n"
     ]
    },
    {
     "name": "stderr",
     "output_type": "stream",
     "text": [
      "100%|██████████████████████████████████████████████████████████████████████████████████████████████████████████████████████████████████████████| 1/1 [00:01<00:00,  1.15s/it]\n"
     ]
    },
    {
     "name": "stdout",
     "output_type": "stream",
     "text": [
      "(1, 1451)\n",
      "12\n",
      "356 回目\n"
     ]
    },
    {
     "name": "stderr",
     "output_type": "stream",
     "text": [
      "100%|██████████████████████████████████████████████████████████████████████████████████████████████████████████████████████████████████████████| 1/1 [00:00<00:00,  1.03it/s]\n"
     ]
    },
    {
     "name": "stdout",
     "output_type": "stream",
     "text": [
      "(1, 1241)\n",
      "12\n",
      "357 回目\n"
     ]
    },
    {
     "name": "stderr",
     "output_type": "stream",
     "text": [
      "100%|██████████████████████████████████████████████████████████████████████████████████████████████████████████████████████████████████████████| 1/1 [00:01<00:00,  1.16s/it]\n"
     ]
    },
    {
     "name": "stdout",
     "output_type": "stream",
     "text": [
      "(1, 1447)\n",
      "12\n",
      "358 回目\n"
     ]
    },
    {
     "name": "stderr",
     "output_type": "stream",
     "text": [
      "100%|██████████████████████████████████████████████████████████████████████████████████████████████████████████████████████████████████████████| 1/1 [00:01<00:00,  1.44s/it]\n"
     ]
    },
    {
     "name": "stdout",
     "output_type": "stream",
     "text": [
      "(1, 1454)\n",
      "12\n",
      "359 回目\n"
     ]
    },
    {
     "name": "stderr",
     "output_type": "stream",
     "text": [
      "100%|██████████████████████████████████████████████████████████████████████████████████████████████████████████████████████████████████████████| 1/1 [00:01<00:00,  1.27s/it]\n"
     ]
    },
    {
     "name": "stdout",
     "output_type": "stream",
     "text": [
      "(1, 1447)\n",
      "12\n",
      "360 回目\n"
     ]
    },
    {
     "name": "stderr",
     "output_type": "stream",
     "text": [
      "100%|██████████████████████████████████████████████████████████████████████████████████████████████████████████████████████████████████████████| 1/1 [00:01<00:00,  1.08s/it]\n"
     ]
    },
    {
     "name": "stdout",
     "output_type": "stream",
     "text": [
      "(1, 1453)\n",
      "12\n",
      "361 回目\n"
     ]
    },
    {
     "name": "stderr",
     "output_type": "stream",
     "text": [
      "100%|██████████████████████████████████████████████████████████████████████████████████████████████████████████████████████████████████████████| 1/1 [00:01<00:00,  1.15s/it]\n"
     ]
    },
    {
     "name": "stdout",
     "output_type": "stream",
     "text": [
      "(1, 1450)\n",
      "12\n",
      "362 回目\n"
     ]
    },
    {
     "name": "stderr",
     "output_type": "stream",
     "text": [
      "100%|██████████████████████████████████████████████████████████████████████████████████████████████████████████████████████████████████████████| 1/1 [00:01<00:00,  1.16s/it]\n"
     ]
    },
    {
     "name": "stdout",
     "output_type": "stream",
     "text": [
      "(1, 1443)\n",
      "12\n",
      "363 回目\n"
     ]
    },
    {
     "name": "stderr",
     "output_type": "stream",
     "text": [
      "100%|██████████████████████████████████████████████████████████████████████████████████████████████████████████████████████████████████████████| 1/1 [00:00<00:00,  1.06it/s]\n"
     ]
    },
    {
     "name": "stdout",
     "output_type": "stream",
     "text": [
      "(1, 1344)\n",
      "12\n",
      "364 回目\n"
     ]
    },
    {
     "name": "stderr",
     "output_type": "stream",
     "text": [
      "100%|██████████████████████████████████████████████████████████████████████████████████████████████████████████████████████████████████████████| 1/1 [00:01<00:00,  1.10s/it]\n"
     ]
    },
    {
     "name": "stdout",
     "output_type": "stream",
     "text": [
      "(1, 1448)\n",
      "12\n",
      "365 回目\n"
     ]
    },
    {
     "name": "stderr",
     "output_type": "stream",
     "text": [
      "100%|██████████████████████████████████████████████████████████████████████████████████████████████████████████████████████████████████████████| 1/1 [00:01<00:00,  1.26s/it]\n"
     ]
    },
    {
     "name": "stdout",
     "output_type": "stream",
     "text": [
      "(1, 1447)\n",
      "12\n",
      "366 回目\n"
     ]
    },
    {
     "name": "stderr",
     "output_type": "stream",
     "text": [
      "100%|██████████████████████████████████████████████████████████████████████████████████████████████████████████████████████████████████████████| 1/1 [00:01<00:00,  1.52s/it]\n"
     ]
    },
    {
     "name": "stdout",
     "output_type": "stream",
     "text": [
      "(1, 1454)\n",
      "12\n",
      "367 回目\n"
     ]
    },
    {
     "name": "stderr",
     "output_type": "stream",
     "text": [
      "100%|██████████████████████████████████████████████████████████████████████████████████████████████████████████████████████████████████████████| 1/1 [00:01<00:00,  1.21s/it]\n"
     ]
    },
    {
     "name": "stdout",
     "output_type": "stream",
     "text": [
      "(1, 1182)\n",
      "\"['ATS1s_SMILES', 'GATS4s_SMILES'] not in index\"\n",
      "368 回目\n"
     ]
    },
    {
     "name": "stderr",
     "output_type": "stream",
     "text": [
      "100%|██████████████████████████████████████████████████████████████████████████████████████████████████████████████████████████████████████████| 1/1 [00:01<00:00,  1.03s/it]\n"
     ]
    },
    {
     "name": "stdout",
     "output_type": "stream",
     "text": [
      "(1, 1451)\n",
      "13\n",
      "369 回目\n"
     ]
    },
    {
     "name": "stderr",
     "output_type": "stream",
     "text": [
      "100%|██████████████████████████████████████████████████████████████████████████████████████████████████████████████████████████████████████████| 1/1 [00:01<00:00,  1.21s/it]\n"
     ]
    },
    {
     "name": "stdout",
     "output_type": "stream",
     "text": [
      "(1, 1449)\n",
      "13\n",
      "370 回目\n"
     ]
    },
    {
     "name": "stderr",
     "output_type": "stream",
     "text": [
      "100%|██████████████████████████████████████████████████████████████████████████████████████████████████████████████████████████████████████████| 1/1 [00:01<00:00,  1.05s/it]\n"
     ]
    },
    {
     "name": "stdout",
     "output_type": "stream",
     "text": [
      "(1, 1447)\n",
      "13\n",
      "371 回目\n"
     ]
    },
    {
     "name": "stderr",
     "output_type": "stream",
     "text": [
      "100%|██████████████████████████████████████████████████████████████████████████████████████████████████████████████████████████████████████████| 1/1 [00:01<00:00,  1.83s/it]\n"
     ]
    },
    {
     "name": "stdout",
     "output_type": "stream",
     "text": [
      "(1, 1445)\n",
      "13\n",
      "372 回目\n"
     ]
    },
    {
     "name": "stderr",
     "output_type": "stream",
     "text": [
      "100%|██████████████████████████████████████████████████████████████████████████████████████████████████████████████████████████████████████████| 1/1 [00:01<00:00,  1.46s/it]\n"
     ]
    },
    {
     "name": "stdout",
     "output_type": "stream",
     "text": [
      "(1, 1449)\n",
      "13\n",
      "373 回目\n"
     ]
    },
    {
     "name": "stderr",
     "output_type": "stream",
     "text": [
      "100%|██████████████████████████████████████████████████████████████████████████████████████████████████████████████████████████████████████████| 1/1 [00:01<00:00,  1.19s/it]\n"
     ]
    },
    {
     "name": "stdout",
     "output_type": "stream",
     "text": [
      "(1, 1448)\n",
      "13\n",
      "374 回目\n"
     ]
    },
    {
     "name": "stderr",
     "output_type": "stream",
     "text": [
      "100%|██████████████████████████████████████████████████████████████████████████████████████████████████████████████████████████████████████████| 1/1 [00:01<00:00,  1.54s/it]\n"
     ]
    },
    {
     "name": "stdout",
     "output_type": "stream",
     "text": [
      "(1, 1444)\n",
      "13\n",
      "375 回目\n"
     ]
    },
    {
     "name": "stderr",
     "output_type": "stream",
     "text": [
      "100%|██████████████████████████████████████████████████████████████████████████████████████████████████████████████████████████████████████████| 1/1 [00:01<00:00,  1.09s/it]\n"
     ]
    },
    {
     "name": "stdout",
     "output_type": "stream",
     "text": [
      "(1, 1445)\n",
      "13\n",
      "376 回目\n"
     ]
    },
    {
     "name": "stderr",
     "output_type": "stream",
     "text": [
      "100%|██████████████████████████████████████████████████████████████████████████████████████████████████████████████████████████████████████████| 1/1 [00:01<00:00,  1.55s/it]\n"
     ]
    },
    {
     "name": "stdout",
     "output_type": "stream",
     "text": [
      "(1, 1452)\n",
      "13\n",
      "377 回目\n"
     ]
    },
    {
     "name": "stderr",
     "output_type": "stream",
     "text": [
      "100%|██████████████████████████████████████████████████████████████████████████████████████████████████████████████████████████████████████████| 1/1 [00:01<00:00,  1.91s/it]\n"
     ]
    },
    {
     "name": "stdout",
     "output_type": "stream",
     "text": [
      "(1, 1452)\n",
      "13\n",
      "378 回目\n"
     ]
    },
    {
     "name": "stderr",
     "output_type": "stream",
     "text": [
      "100%|██████████████████████████████████████████████████████████████████████████████████████████████████████████████████████████████████████████| 1/1 [00:02<00:00,  2.08s/it]\n"
     ]
    },
    {
     "name": "stdout",
     "output_type": "stream",
     "text": [
      "(1, 1452)\n",
      "13\n",
      "379 回目\n"
     ]
    },
    {
     "name": "stderr",
     "output_type": "stream",
     "text": [
      "100%|██████████████████████████████████████████████████████████████████████████████████████████████████████████████████████████████████████████| 1/1 [00:01<00:00,  1.97s/it]\n"
     ]
    },
    {
     "name": "stdout",
     "output_type": "stream",
     "text": [
      "(1, 1452)\n",
      "13\n",
      "380 回目\n"
     ]
    },
    {
     "name": "stderr",
     "output_type": "stream",
     "text": [
      "100%|██████████████████████████████████████████████████████████████████████████████████████████████████████████████████████████████████████████| 1/1 [00:03<00:00,  3.12s/it]\n"
     ]
    },
    {
     "name": "stdout",
     "output_type": "stream",
     "text": [
      "(1, 1453)\n",
      "13\n",
      "381 回目\n"
     ]
    },
    {
     "name": "stderr",
     "output_type": "stream",
     "text": [
      "100%|██████████████████████████████████████████████████████████████████████████████████████████████████████████████████████████████████████████| 1/1 [00:01<00:00,  1.95s/it]\n"
     ]
    },
    {
     "name": "stdout",
     "output_type": "stream",
     "text": [
      "(1, 1453)\n",
      "13\n",
      "382 回目\n"
     ]
    },
    {
     "name": "stderr",
     "output_type": "stream",
     "text": [
      "100%|██████████████████████████████████████████████████████████████████████████████████████████████████████████████████████████████████████████| 1/1 [00:01<00:00,  1.57s/it]\n"
     ]
    },
    {
     "name": "stdout",
     "output_type": "stream",
     "text": [
      "(1, 1453)\n",
      "13\n",
      "383 回目\n"
     ]
    },
    {
     "name": "stderr",
     "output_type": "stream",
     "text": [
      "100%|██████████████████████████████████████████████████████████████████████████████████████████████████████████████████████████████████████████| 1/1 [00:02<00:00,  2.02s/it]\n"
     ]
    },
    {
     "name": "stdout",
     "output_type": "stream",
     "text": [
      "(1, 1453)\n",
      "13\n",
      "384 回目\n"
     ]
    },
    {
     "name": "stderr",
     "output_type": "stream",
     "text": [
      "100%|██████████████████████████████████████████████████████████████████████████████████████████████████████████████████████████████████████████| 1/1 [00:01<00:00,  1.30s/it]\n"
     ]
    },
    {
     "name": "stdout",
     "output_type": "stream",
     "text": [
      "(1, 1453)\n",
      "13\n",
      "385 回目\n"
     ]
    },
    {
     "name": "stderr",
     "output_type": "stream",
     "text": [
      "100%|██████████████████████████████████████████████████████████████████████████████████████████████████████████████████████████████████████████| 1/1 [00:01<00:00,  1.35s/it]\n"
     ]
    },
    {
     "name": "stdout",
     "output_type": "stream",
     "text": [
      "(1, 1453)\n",
      "13\n",
      "386 回目\n"
     ]
    },
    {
     "name": "stderr",
     "output_type": "stream",
     "text": [
      "100%|██████████████████████████████████████████████████████████████████████████████████████████████████████████████████████████████████████████| 1/1 [00:01<00:00,  1.23s/it]\n"
     ]
    },
    {
     "name": "stdout",
     "output_type": "stream",
     "text": [
      "(1, 1455)\n",
      "13\n",
      "387 回目\n"
     ]
    },
    {
     "name": "stderr",
     "output_type": "stream",
     "text": [
      "100%|██████████████████████████████████████████████████████████████████████████████████████████████████████████████████████████████████████████| 1/1 [00:01<00:00,  1.22s/it]\n"
     ]
    },
    {
     "name": "stdout",
     "output_type": "stream",
     "text": [
      "(1, 1449)\n",
      "13\n",
      "388 回目\n"
     ]
    },
    {
     "name": "stderr",
     "output_type": "stream",
     "text": [
      "100%|██████████████████████████████████████████████████████████████████████████████████████████████████████████████████████████████████████████| 1/1 [00:01<00:00,  1.48s/it]\n"
     ]
    },
    {
     "name": "stdout",
     "output_type": "stream",
     "text": [
      "(1, 1447)\n",
      "13\n",
      "389 回目\n"
     ]
    },
    {
     "name": "stderr",
     "output_type": "stream",
     "text": [
      "100%|██████████████████████████████████████████████████████████████████████████████████████████████████████████████████████████████████████████| 1/1 [00:01<00:00,  1.30s/it]\n"
     ]
    },
    {
     "name": "stdout",
     "output_type": "stream",
     "text": [
      "(1, 1449)\n",
      "13\n",
      "390 回目\n"
     ]
    },
    {
     "name": "stderr",
     "output_type": "stream",
     "text": [
      "100%|██████████████████████████████████████████████████████████████████████████████████████████████████████████████████████████████████████████| 1/1 [00:01<00:00,  1.07s/it]\n"
     ]
    },
    {
     "name": "stdout",
     "output_type": "stream",
     "text": [
      "(1, 1448)\n",
      "13\n",
      "391 回目\n"
     ]
    },
    {
     "name": "stderr",
     "output_type": "stream",
     "text": [
      "100%|██████████████████████████████████████████████████████████████████████████████████████████████████████████████████████████████████████████| 1/1 [00:01<00:00,  1.04s/it]\n"
     ]
    },
    {
     "name": "stdout",
     "output_type": "stream",
     "text": [
      "(1, 1445)\n",
      "13\n",
      "392 回目\n"
     ]
    },
    {
     "name": "stderr",
     "output_type": "stream",
     "text": [
      "100%|██████████████████████████████████████████████████████████████████████████████████████████████████████████████████████████████████████████| 1/1 [00:01<00:00,  1.14s/it]\n"
     ]
    },
    {
     "name": "stdout",
     "output_type": "stream",
     "text": [
      "(1, 1445)\n",
      "13\n",
      "393 回目\n"
     ]
    },
    {
     "name": "stderr",
     "output_type": "stream",
     "text": [
      "100%|██████████████████████████████████████████████████████████████████████████████████████████████████████████████████████████████████████████| 1/1 [00:01<00:00,  1.39s/it]\n"
     ]
    },
    {
     "name": "stdout",
     "output_type": "stream",
     "text": [
      "(1, 1446)\n",
      "13\n",
      "394 回目\n"
     ]
    },
    {
     "name": "stderr",
     "output_type": "stream",
     "text": [
      "100%|██████████████████████████████████████████████████████████████████████████████████████████████████████████████████████████████████████████| 1/1 [00:01<00:00,  1.05s/it]\n"
     ]
    },
    {
     "name": "stdout",
     "output_type": "stream",
     "text": [
      "(1, 1400)\n",
      "13\n",
      "395 回目\n"
     ]
    },
    {
     "name": "stderr",
     "output_type": "stream",
     "text": [
      "100%|██████████████████████████████████████████████████████████████████████████████████████████████████████████████████████████████████████████| 1/1 [00:01<00:00,  1.31s/it]\n"
     ]
    },
    {
     "name": "stdout",
     "output_type": "stream",
     "text": [
      "(1, 1456)\n",
      "13\n",
      "396 回目\n"
     ]
    },
    {
     "name": "stderr",
     "output_type": "stream",
     "text": [
      "100%|██████████████████████████████████████████████████████████████████████████████████████████████████████████████████████████████████████████| 1/1 [00:01<00:00,  1.35s/it]\n"
     ]
    },
    {
     "name": "stdout",
     "output_type": "stream",
     "text": [
      "(1, 1447)\n",
      "13\n",
      "397 回目\n"
     ]
    },
    {
     "name": "stderr",
     "output_type": "stream",
     "text": [
      "100%|██████████████████████████████████████████████████████████████████████████████████████████████████████████████████████████████████████████| 1/1 [00:01<00:00,  1.48s/it]\n"
     ]
    },
    {
     "name": "stdout",
     "output_type": "stream",
     "text": [
      "(1, 1447)\n",
      "13\n",
      "398 回目\n"
     ]
    },
    {
     "name": "stderr",
     "output_type": "stream",
     "text": [
      "100%|██████████████████████████████████████████████████████████████████████████████████████████████████████████████████████████████████████████| 1/1 [00:01<00:00,  1.74s/it]\n"
     ]
    },
    {
     "name": "stdout",
     "output_type": "stream",
     "text": [
      "(1, 1447)\n",
      "13\n",
      "399 回目\n"
     ]
    },
    {
     "name": "stderr",
     "output_type": "stream",
     "text": [
      "100%|██████████████████████████████████████████████████████████████████████████████████████████████████████████████████████████████████████████| 1/1 [00:01<00:00,  1.13s/it]\n"
     ]
    },
    {
     "name": "stdout",
     "output_type": "stream",
     "text": [
      "(1, 1242)\n",
      "13\n",
      "400 回目\n"
     ]
    },
    {
     "name": "stderr",
     "output_type": "stream",
     "text": [
      "100%|██████████████████████████████████████████████████████████████████████████████████████████████████████████████████████████████████████████| 1/1 [00:01<00:00,  1.21s/it]\n"
     ]
    },
    {
     "name": "stdout",
     "output_type": "stream",
     "text": [
      "(1, 1451)\n",
      "13\n",
      "401 回目\n"
     ]
    },
    {
     "name": "stderr",
     "output_type": "stream",
     "text": [
      "100%|██████████████████████████████████████████████████████████████████████████████████████████████████████████████████████████████████████████| 1/1 [00:01<00:00,  1.25s/it]\n"
     ]
    },
    {
     "name": "stdout",
     "output_type": "stream",
     "text": [
      "(1, 1456)\n",
      "13\n",
      "402 回目\n"
     ]
    },
    {
     "name": "stderr",
     "output_type": "stream",
     "text": [
      "100%|██████████████████████████████████████████████████████████████████████████████████████████████████████████████████████████████████████████| 1/1 [00:01<00:00,  1.21s/it]\n"
     ]
    },
    {
     "name": "stdout",
     "output_type": "stream",
     "text": [
      "(1, 1452)\n",
      "13\n",
      "403 回目\n"
     ]
    },
    {
     "name": "stderr",
     "output_type": "stream",
     "text": [
      "100%|██████████████████████████████████████████████████████████████████████████████████████████████████████████████████████████████████████████| 1/1 [00:02<00:00,  2.07s/it]\n"
     ]
    },
    {
     "name": "stdout",
     "output_type": "stream",
     "text": [
      "(1, 1456)\n",
      "13\n",
      "404 回目\n"
     ]
    },
    {
     "name": "stderr",
     "output_type": "stream",
     "text": [
      "100%|██████████████████████████████████████████████████████████████████████████████████████████████████████████████████████████████████████████| 1/1 [00:01<00:00,  1.92s/it]\n"
     ]
    },
    {
     "name": "stdout",
     "output_type": "stream",
     "text": [
      "(1, 1450)\n",
      "13\n",
      "405 回目\n"
     ]
    },
    {
     "name": "stderr",
     "output_type": "stream",
     "text": [
      "100%|██████████████████████████████████████████████████████████████████████████████████████████████████████████████████████████████████████████| 1/1 [00:01<00:00,  1.21s/it]\n"
     ]
    },
    {
     "name": "stdout",
     "output_type": "stream",
     "text": [
      "(1, 1448)\n",
      "13\n",
      "406 回目\n"
     ]
    },
    {
     "name": "stderr",
     "output_type": "stream",
     "text": [
      "100%|██████████████████████████████████████████████████████████████████████████████████████████████████████████████████████████████████████████| 1/1 [00:00<00:00,  1.00it/s]\n"
     ]
    },
    {
     "name": "stdout",
     "output_type": "stream",
     "text": [
      "(1, 1391)\n",
      "13\n",
      "407 回目\n"
     ]
    },
    {
     "name": "stderr",
     "output_type": "stream",
     "text": [
      "100%|██████████████████████████████████████████████████████████████████████████████████████████████████████████████████████████████████████████| 1/1 [00:01<00:00,  1.04s/it]\n"
     ]
    },
    {
     "name": "stdout",
     "output_type": "stream",
     "text": [
      "(1, 1446)\n",
      "13\n",
      "408 回目\n"
     ]
    },
    {
     "name": "stderr",
     "output_type": "stream",
     "text": [
      "100%|██████████████████████████████████████████████████████████████████████████████████████████████████████████████████████████████████████████| 1/1 [00:01<00:00,  1.18s/it]\n"
     ]
    },
    {
     "name": "stdout",
     "output_type": "stream",
     "text": [
      "(1, 1449)\n",
      "13\n",
      "409 回目\n"
     ]
    },
    {
     "name": "stderr",
     "output_type": "stream",
     "text": [
      "100%|██████████████████████████████████████████████████████████████████████████████████████████████████████████████████████████████████████████| 1/1 [00:01<00:00,  1.25s/it]\n"
     ]
    },
    {
     "name": "stdout",
     "output_type": "stream",
     "text": [
      "(1, 1449)\n",
      "13\n",
      "410 回目\n"
     ]
    },
    {
     "name": "stderr",
     "output_type": "stream",
     "text": [
      "100%|██████████████████████████████████████████████████████████████████████████████████████████████████████████████████████████████████████████| 1/1 [00:01<00:00,  1.13s/it]\n"
     ]
    },
    {
     "name": "stdout",
     "output_type": "stream",
     "text": [
      "(1, 1447)\n",
      "13\n",
      "411 回目\n"
     ]
    },
    {
     "name": "stderr",
     "output_type": "stream",
     "text": [
      "100%|██████████████████████████████████████████████████████████████████████████████████████████████████████████████████████████████████████████| 1/1 [00:01<00:00,  1.15s/it]\n"
     ]
    },
    {
     "name": "stdout",
     "output_type": "stream",
     "text": [
      "(1, 1401)\n",
      "13\n",
      "412 回目\n"
     ]
    },
    {
     "name": "stderr",
     "output_type": "stream",
     "text": [
      "100%|██████████████████████████████████████████████████████████████████████████████████████████████████████████████████████████████████████████| 1/1 [00:01<00:00,  1.17s/it]\n"
     ]
    },
    {
     "name": "stdout",
     "output_type": "stream",
     "text": [
      "(1, 1451)\n",
      "13\n",
      "413 回目\n"
     ]
    },
    {
     "name": "stderr",
     "output_type": "stream",
     "text": [
      "100%|██████████████████████████████████████████████████████████████████████████████████████████████████████████████████████████████████████████| 1/1 [00:01<00:00,  1.61s/it]\n"
     ]
    },
    {
     "name": "stdout",
     "output_type": "stream",
     "text": [
      "(1, 1453)\n",
      "13\n",
      "414 回目\n"
     ]
    },
    {
     "name": "stderr",
     "output_type": "stream",
     "text": [
      "100%|██████████████████████████████████████████████████████████████████████████████████████████████████████████████████████████████████████████| 1/1 [00:01<00:00,  1.63s/it]\n"
     ]
    },
    {
     "name": "stdout",
     "output_type": "stream",
     "text": [
      "(1, 1391)\n",
      "13\n",
      "415 回目\n"
     ]
    },
    {
     "name": "stderr",
     "output_type": "stream",
     "text": [
      "100%|██████████████████████████████████████████████████████████████████████████████████████████████████████████████████████████████████████████| 1/1 [00:01<00:00,  1.44s/it]\n"
     ]
    },
    {
     "name": "stdout",
     "output_type": "stream",
     "text": [
      "(1, 1131)\n",
      "\"['ATS1s_SMILES', 'GATS4s_SMILES'] not in index\"\n",
      "416 回目\n"
     ]
    },
    {
     "name": "stderr",
     "output_type": "stream",
     "text": [
      "100%|██████████████████████████████████████████████████████████████████████████████████████████████████████████████████████████████████████████| 1/1 [00:01<00:00,  1.77s/it]\n"
     ]
    },
    {
     "name": "stdout",
     "output_type": "stream",
     "text": [
      "(1, 1444)\n",
      "14\n",
      "417 回目\n"
     ]
    },
    {
     "name": "stderr",
     "output_type": "stream",
     "text": [
      "100%|██████████████████████████████████████████████████████████████████████████████████████████████████████████████████████████████████████████| 1/1 [00:01<00:00,  1.47s/it]\n"
     ]
    },
    {
     "name": "stdout",
     "output_type": "stream",
     "text": [
      "(1, 1449)\n",
      "14\n",
      "418 回目\n"
     ]
    },
    {
     "name": "stderr",
     "output_type": "stream",
     "text": [
      "100%|██████████████████████████████████████████████████████████████████████████████████████████████████████████████████████████████████████████| 1/1 [00:01<00:00,  1.19s/it]\n"
     ]
    },
    {
     "name": "stdout",
     "output_type": "stream",
     "text": [
      "(1, 1452)\n",
      "14\n",
      "419 回目\n"
     ]
    },
    {
     "name": "stderr",
     "output_type": "stream",
     "text": [
      "100%|██████████████████████████████████████████████████████████████████████████████████████████████████████████████████████████████████████████| 1/1 [00:01<00:00,  1.32s/it]\n"
     ]
    },
    {
     "name": "stdout",
     "output_type": "stream",
     "text": [
      "(1, 1452)\n",
      "14\n",
      "420 回目\n"
     ]
    },
    {
     "name": "stderr",
     "output_type": "stream",
     "text": [
      "100%|██████████████████████████████████████████████████████████████████████████████████████████████████████████████████████████████████████████| 1/1 [00:01<00:00,  1.36s/it]\n"
     ]
    },
    {
     "name": "stdout",
     "output_type": "stream",
     "text": [
      "(1, 1452)\n",
      "14\n",
      "421 回目\n"
     ]
    },
    {
     "name": "stderr",
     "output_type": "stream",
     "text": [
      "100%|██████████████████████████████████████████████████████████████████████████████████████████████████████████████████████████████████████████| 1/1 [00:01<00:00,  1.14s/it]\n"
     ]
    },
    {
     "name": "stdout",
     "output_type": "stream",
     "text": [
      "(1, 1452)\n",
      "14\n",
      "422 回目\n"
     ]
    },
    {
     "name": "stderr",
     "output_type": "stream",
     "text": [
      "100%|██████████████████████████████████████████████████████████████████████████████████████████████████████████████████████████████████████████| 1/1 [00:01<00:00,  1.36s/it]\n"
     ]
    },
    {
     "name": "stdout",
     "output_type": "stream",
     "text": [
      "(1, 1452)\n",
      "14\n",
      "423 回目\n"
     ]
    },
    {
     "name": "stderr",
     "output_type": "stream",
     "text": [
      "100%|██████████████████████████████████████████████████████████████████████████████████████████████████████████████████████████████████████████| 1/1 [00:01<00:00,  1.60s/it]\n"
     ]
    },
    {
     "name": "stdout",
     "output_type": "stream",
     "text": [
      "(1, 1452)\n",
      "14\n",
      "424 回目\n"
     ]
    },
    {
     "name": "stderr",
     "output_type": "stream",
     "text": [
      "100%|██████████████████████████████████████████████████████████████████████████████████████████████████████████████████████████████████████████| 1/1 [00:01<00:00,  1.23s/it]\n"
     ]
    },
    {
     "name": "stdout",
     "output_type": "stream",
     "text": [
      "(1, 1453)\n",
      "14\n",
      "425 回目\n"
     ]
    },
    {
     "name": "stderr",
     "output_type": "stream",
     "text": [
      "100%|██████████████████████████████████████████████████████████████████████████████████████████████████████████████████████████████████████████| 1/1 [00:01<00:00,  1.45s/it]\n"
     ]
    },
    {
     "name": "stdout",
     "output_type": "stream",
     "text": [
      "(1, 1453)\n",
      "14\n",
      "426 回目\n"
     ]
    },
    {
     "name": "stderr",
     "output_type": "stream",
     "text": [
      "100%|██████████████████████████████████████████████████████████████████████████████████████████████████████████████████████████████████████████| 1/1 [00:01<00:00,  1.26s/it]\n"
     ]
    },
    {
     "name": "stdout",
     "output_type": "stream",
     "text": [
      "(1, 1453)\n",
      "14\n",
      "427 回目\n"
     ]
    },
    {
     "name": "stderr",
     "output_type": "stream",
     "text": [
      "100%|██████████████████████████████████████████████████████████████████████████████████████████████████████████████████████████████████████████| 1/1 [00:02<00:00,  2.53s/it]\n"
     ]
    },
    {
     "name": "stdout",
     "output_type": "stream",
     "text": [
      "(1, 1453)\n",
      "14\n",
      "428 回目\n"
     ]
    },
    {
     "name": "stderr",
     "output_type": "stream",
     "text": [
      "100%|██████████████████████████████████████████████████████████████████████████████████████████████████████████████████████████████████████████| 1/1 [00:02<00:00,  2.15s/it]\n"
     ]
    },
    {
     "name": "stdout",
     "output_type": "stream",
     "text": [
      "(1, 1452)\n",
      "14\n",
      "429 回目\n"
     ]
    },
    {
     "name": "stderr",
     "output_type": "stream",
     "text": [
      "100%|██████████████████████████████████████████████████████████████████████████████████████████████████████████████████████████████████████████| 1/1 [00:01<00:00,  1.90s/it]\n"
     ]
    },
    {
     "name": "stdout",
     "output_type": "stream",
     "text": [
      "(1, 1452)\n",
      "14\n",
      "430 回目\n"
     ]
    },
    {
     "name": "stderr",
     "output_type": "stream",
     "text": [
      "100%|██████████████████████████████████████████████████████████████████████████████████████████████████████████████████████████████████████████| 1/1 [00:01<00:00,  1.62s/it]\n"
     ]
    },
    {
     "name": "stdout",
     "output_type": "stream",
     "text": [
      "(1, 1445)\n",
      "14\n",
      "431 回目\n"
     ]
    },
    {
     "name": "stderr",
     "output_type": "stream",
     "text": [
      "100%|██████████████████████████████████████████████████████████████████████████████████████████████████████████████████████████████████████████| 1/1 [00:01<00:00,  1.67s/it]\n"
     ]
    },
    {
     "name": "stdout",
     "output_type": "stream",
     "text": [
      "(1, 1445)\n",
      "14\n",
      "432 回目\n"
     ]
    },
    {
     "name": "stderr",
     "output_type": "stream",
     "text": [
      "100%|██████████████████████████████████████████████████████████████████████████████████████████████████████████████████████████████████████████| 1/1 [00:01<00:00,  1.23s/it]\n"
     ]
    },
    {
     "name": "stdout",
     "output_type": "stream",
     "text": [
      "(1, 1453)\n",
      "14\n",
      "433 回目\n"
     ]
    },
    {
     "name": "stderr",
     "output_type": "stream",
     "text": [
      "100%|██████████████████████████████████████████████████████████████████████████████████████████████████████████████████████████████████████████| 1/1 [00:01<00:00,  1.10s/it]\n"
     ]
    },
    {
     "name": "stdout",
     "output_type": "stream",
     "text": [
      "(1, 1447)\n",
      "14\n",
      "434 回目\n"
     ]
    },
    {
     "name": "stderr",
     "output_type": "stream",
     "text": [
      "100%|██████████████████████████████████████████████████████████████████████████████████████████████████████████████████████████████████████████| 1/1 [00:01<00:00,  1.17s/it]\n"
     ]
    },
    {
     "name": "stdout",
     "output_type": "stream",
     "text": [
      "(1, 1447)\n",
      "14\n",
      "435 回目\n"
     ]
    },
    {
     "name": "stderr",
     "output_type": "stream",
     "text": [
      "100%|██████████████████████████████████████████████████████████████████████████████████████████████████████████████████████████████████████████| 1/1 [00:01<00:00,  1.35s/it]\n"
     ]
    },
    {
     "name": "stdout",
     "output_type": "stream",
     "text": [
      "(1, 1453)\n",
      "14\n",
      "436 回目\n"
     ]
    },
    {
     "name": "stderr",
     "output_type": "stream",
     "text": [
      "100%|██████████████████████████████████████████████████████████████████████████████████████████████████████████████████████████████████████████| 1/1 [00:01<00:00,  1.21s/it]\n"
     ]
    },
    {
     "name": "stdout",
     "output_type": "stream",
     "text": [
      "(1, 1447)\n",
      "14\n",
      "437 回目\n"
     ]
    },
    {
     "name": "stderr",
     "output_type": "stream",
     "text": [
      "100%|██████████████████████████████████████████████████████████████████████████████████████████████████████████████████████████████████████████| 1/1 [00:01<00:00,  1.62s/it]\n"
     ]
    },
    {
     "name": "stdout",
     "output_type": "stream",
     "text": [
      "(1, 1452)\n",
      "14\n",
      "438 回目\n"
     ]
    },
    {
     "name": "stderr",
     "output_type": "stream",
     "text": [
      "100%|██████████████████████████████████████████████████████████████████████████████████████████████████████████████████████████████████████████| 1/1 [00:01<00:00,  1.54s/it]\n"
     ]
    },
    {
     "name": "stdout",
     "output_type": "stream",
     "text": [
      "(1, 1443)\n",
      "14\n",
      "439 回目\n"
     ]
    },
    {
     "name": "stderr",
     "output_type": "stream",
     "text": [
      "100%|██████████████████████████████████████████████████████████████████████████████████████████████████████████████████████████████████████████| 1/1 [00:01<00:00,  1.89s/it]\n"
     ]
    },
    {
     "name": "stdout",
     "output_type": "stream",
     "text": [
      "(1, 1449)\n",
      "14\n",
      "440 回目\n"
     ]
    },
    {
     "name": "stderr",
     "output_type": "stream",
     "text": [
      "100%|██████████████████████████████████████████████████████████████████████████████████████████████████████████████████████████████████████████| 1/1 [00:01<00:00,  1.76s/it]\n"
     ]
    },
    {
     "name": "stdout",
     "output_type": "stream",
     "text": [
      "(1, 1454)\n",
      "14\n",
      "441 回目\n"
     ]
    },
    {
     "name": "stderr",
     "output_type": "stream",
     "text": [
      "100%|██████████████████████████████████████████████████████████████████████████████████████████████████████████████████████████████████████████| 1/1 [00:01<00:00,  1.40s/it]\n"
     ]
    },
    {
     "name": "stdout",
     "output_type": "stream",
     "text": [
      "(1, 1448)\n",
      "14\n",
      "442 回目\n"
     ]
    },
    {
     "name": "stderr",
     "output_type": "stream",
     "text": [
      "100%|██████████████████████████████████████████████████████████████████████████████████████████████████████████████████████████████████████████| 1/1 [00:01<00:00,  1.17s/it]\n"
     ]
    },
    {
     "name": "stdout",
     "output_type": "stream",
     "text": [
      "(1, 1443)\n",
      "14\n",
      "443 回目\n"
     ]
    },
    {
     "name": "stderr",
     "output_type": "stream",
     "text": [
      "100%|██████████████████████████████████████████████████████████████████████████████████████████████████████████████████████████████████████████| 1/1 [00:01<00:00,  1.10s/it]\n"
     ]
    },
    {
     "name": "stdout",
     "output_type": "stream",
     "text": [
      "(1, 1440)\n",
      "14\n",
      "444 回目\n"
     ]
    },
    {
     "name": "stderr",
     "output_type": "stream",
     "text": [
      "100%|██████████████████████████████████████████████████████████████████████████████████████████████████████████████████████████████████████████| 1/1 [00:01<00:00,  1.20s/it]\n"
     ]
    },
    {
     "name": "stdout",
     "output_type": "stream",
     "text": [
      "(1, 1447)\n",
      "14\n",
      "445 回目\n"
     ]
    },
    {
     "name": "stderr",
     "output_type": "stream",
     "text": [
      "100%|██████████████████████████████████████████████████████████████████████████████████████████████████████████████████████████████████████████| 1/1 [00:01<00:00,  1.22s/it]\n"
     ]
    },
    {
     "name": "stdout",
     "output_type": "stream",
     "text": [
      "(1, 1400)\n",
      "14\n",
      "446 回目\n"
     ]
    },
    {
     "name": "stderr",
     "output_type": "stream",
     "text": [
      "100%|██████████████████████████████████████████████████████████████████████████████████████████████████████████████████████████████████████████| 1/1 [00:01<00:00,  1.44s/it]\n"
     ]
    },
    {
     "name": "stdout",
     "output_type": "stream",
     "text": [
      "(1, 1241)\n",
      "14\n",
      "447 回目\n"
     ]
    },
    {
     "name": "stderr",
     "output_type": "stream",
     "text": [
      "100%|██████████████████████████████████████████████████████████████████████████████████████████████████████████████████████████████████████████| 1/1 [00:01<00:00,  1.99s/it]\n"
     ]
    },
    {
     "name": "stdout",
     "output_type": "stream",
     "text": [
      "(1, 1450)\n",
      "14\n",
      "448 回目\n"
     ]
    },
    {
     "name": "stderr",
     "output_type": "stream",
     "text": [
      "100%|██████████████████████████████████████████████████████████████████████████████████████████████████████████████████████████████████████████| 1/1 [00:01<00:00,  1.80s/it]\n"
     ]
    },
    {
     "name": "stdout",
     "output_type": "stream",
     "text": [
      "(1, 1453)\n",
      "14\n",
      "449 回目\n"
     ]
    },
    {
     "name": "stderr",
     "output_type": "stream",
     "text": [
      "100%|██████████████████████████████████████████████████████████████████████████████████████████████████████████████████████████████████████████| 1/1 [00:01<00:00,  1.69s/it]\n"
     ]
    },
    {
     "name": "stdout",
     "output_type": "stream",
     "text": [
      "(1, 1453)\n",
      "14\n",
      "450 回目\n"
     ]
    },
    {
     "name": "stderr",
     "output_type": "stream",
     "text": [
      "100%|██████████████████████████████████████████████████████████████████████████████████████████████████████████████████████████████████████████| 1/1 [00:01<00:00,  1.62s/it]\n"
     ]
    },
    {
     "name": "stdout",
     "output_type": "stream",
     "text": [
      "(1, 1447)\n",
      "14\n",
      "451 回目\n"
     ]
    },
    {
     "name": "stderr",
     "output_type": "stream",
     "text": [
      "100%|██████████████████████████████████████████████████████████████████████████████████████████████████████████████████████████████████████████| 1/1 [00:01<00:00,  1.71s/it]\n"
     ]
    },
    {
     "name": "stdout",
     "output_type": "stream",
     "text": [
      "(1, 1452)\n",
      "14\n",
      "452 回目\n"
     ]
    },
    {
     "name": "stderr",
     "output_type": "stream",
     "text": [
      "100%|██████████████████████████████████████████████████████████████████████████████████████████████████████████████████████████████████████████| 1/1 [00:02<00:00,  2.12s/it]\n"
     ]
    },
    {
     "name": "stdout",
     "output_type": "stream",
     "text": [
      "(1, 1453)\n",
      "14\n",
      "453 回目\n"
     ]
    },
    {
     "name": "stderr",
     "output_type": "stream",
     "text": [
      "100%|██████████████████████████████████████████████████████████████████████████████████████████████████████████████████████████████████████████| 1/1 [00:01<00:00,  1.50s/it]\n"
     ]
    },
    {
     "name": "stdout",
     "output_type": "stream",
     "text": [
      "(1, 1453)\n",
      "14\n",
      "454 回目\n"
     ]
    },
    {
     "name": "stderr",
     "output_type": "stream",
     "text": [
      "100%|██████████████████████████████████████████████████████████████████████████████████████████████████████████████████████████████████████████| 1/1 [00:01<00:00,  1.77s/it]\n"
     ]
    },
    {
     "name": "stdout",
     "output_type": "stream",
     "text": [
      "(1, 1453)\n",
      "14\n",
      "455 回目\n"
     ]
    },
    {
     "name": "stderr",
     "output_type": "stream",
     "text": [
      "100%|██████████████████████████████████████████████████████████████████████████████████████████████████████████████████████████████████████████| 1/1 [00:01<00:00,  1.57s/it]\n"
     ]
    },
    {
     "name": "stdout",
     "output_type": "stream",
     "text": [
      "(1, 1453)\n",
      "14\n",
      "456 回目\n"
     ]
    },
    {
     "name": "stderr",
     "output_type": "stream",
     "text": [
      "100%|██████████████████████████████████████████████████████████████████████████████████████████████████████████████████████████████████████████| 1/1 [00:01<00:00,  1.27s/it]\n"
     ]
    },
    {
     "name": "stdout",
     "output_type": "stream",
     "text": [
      "(1, 1454)\n",
      "14\n",
      "457 回目\n"
     ]
    },
    {
     "name": "stderr",
     "output_type": "stream",
     "text": [
      "100%|██████████████████████████████████████████████████████████████████████████████████████████████████████████████████████████████████████████| 1/1 [00:01<00:00,  1.62s/it]\n"
     ]
    },
    {
     "name": "stdout",
     "output_type": "stream",
     "text": [
      "(1, 1455)\n",
      "14\n",
      "458 回目\n"
     ]
    },
    {
     "name": "stderr",
     "output_type": "stream",
     "text": [
      "100%|██████████████████████████████████████████████████████████████████████████████████████████████████████████████████████████████████████████| 1/1 [00:01<00:00,  1.47s/it]\n"
     ]
    },
    {
     "name": "stdout",
     "output_type": "stream",
     "text": [
      "(1, 1443)\n",
      "14\n",
      "459 回目\n"
     ]
    },
    {
     "name": "stderr",
     "output_type": "stream",
     "text": [
      "100%|██████████████████████████████████████████████████████████████████████████████████████████████████████████████████████████████████████████| 1/1 [00:01<00:00,  1.51s/it]\n"
     ]
    },
    {
     "name": "stdout",
     "output_type": "stream",
     "text": [
      "(1, 1449)\n",
      "14\n",
      "460 回目\n"
     ]
    },
    {
     "name": "stderr",
     "output_type": "stream",
     "text": [
      "100%|██████████████████████████████████████████████████████████████████████████████████████████████████████████████████████████████████████████| 1/1 [00:01<00:00,  1.30s/it]\n"
     ]
    },
    {
     "name": "stdout",
     "output_type": "stream",
     "text": [
      "(1, 1445)\n",
      "14\n",
      "461 回目\n"
     ]
    },
    {
     "name": "stderr",
     "output_type": "stream",
     "text": [
      "100%|██████████████████████████████████████████████████████████████████████████████████████████████████████████████████████████████████████████| 1/1 [00:02<00:00,  2.26s/it]\n"
     ]
    },
    {
     "name": "stdout",
     "output_type": "stream",
     "text": [
      "(1, 1453)\n",
      "14\n",
      "462 回目\n"
     ]
    },
    {
     "name": "stderr",
     "output_type": "stream",
     "text": [
      "100%|██████████████████████████████████████████████████████████████████████████████████████████████████████████████████████████████████████████| 1/1 [00:01<00:00,  1.18s/it]\n"
     ]
    },
    {
     "name": "stdout",
     "output_type": "stream",
     "text": [
      "(1, 1447)\n",
      "14\n",
      "463 回目\n"
     ]
    },
    {
     "name": "stderr",
     "output_type": "stream",
     "text": [
      "100%|██████████████████████████████████████████████████████████████████████████████████████████████████████████████████████████████████████████| 1/1 [00:01<00:00,  1.77s/it]\n"
     ]
    },
    {
     "name": "stdout",
     "output_type": "stream",
     "text": [
      "(1, 1452)\n",
      "14\n",
      "464 回目\n"
     ]
    },
    {
     "name": "stderr",
     "output_type": "stream",
     "text": [
      "100%|██████████████████████████████████████████████████████████████████████████████████████████████████████████████████████████████████████████| 1/1 [00:01<00:00,  1.67s/it]\n"
     ]
    },
    {
     "name": "stdout",
     "output_type": "stream",
     "text": [
      "(1, 1452)\n",
      "14\n",
      "465 回目\n"
     ]
    },
    {
     "name": "stderr",
     "output_type": "stream",
     "text": [
      "100%|██████████████████████████████████████████████████████████████████████████████████████████████████████████████████████████████████████████| 1/1 [00:01<00:00,  1.80s/it]\n"
     ]
    },
    {
     "name": "stdout",
     "output_type": "stream",
     "text": [
      "(1, 1453)\n",
      "14\n",
      "466 回目\n"
     ]
    },
    {
     "name": "stderr",
     "output_type": "stream",
     "text": [
      "100%|██████████████████████████████████████████████████████████████████████████████████████████████████████████████████████████████████████████| 1/1 [00:01<00:00,  1.74s/it]\n"
     ]
    },
    {
     "name": "stdout",
     "output_type": "stream",
     "text": [
      "(1, 1457)\n",
      "14\n",
      "467 回目\n"
     ]
    },
    {
     "name": "stderr",
     "output_type": "stream",
     "text": [
      "100%|██████████████████████████████████████████████████████████████████████████████████████████████████████████████████████████████████████████| 1/1 [00:01<00:00,  1.56s/it]\n"
     ]
    },
    {
     "name": "stdout",
     "output_type": "stream",
     "text": [
      "(1, 1448)\n",
      "14\n",
      "468 回目\n"
     ]
    },
    {
     "name": "stderr",
     "output_type": "stream",
     "text": [
      "100%|██████████████████████████████████████████████████████████████████████████████████████████████████████████████████████████████████████████| 1/1 [00:01<00:00,  1.63s/it]\n"
     ]
    },
    {
     "name": "stdout",
     "output_type": "stream",
     "text": [
      "(1, 1454)\n",
      "14\n",
      "469 回目\n"
     ]
    },
    {
     "name": "stderr",
     "output_type": "stream",
     "text": [
      "100%|██████████████████████████████████████████████████████████████████████████████████████████████████████████████████████████████████████████| 1/1 [00:01<00:00,  1.58s/it]\n"
     ]
    },
    {
     "name": "stdout",
     "output_type": "stream",
     "text": [
      "(1, 1445)\n",
      "14\n",
      "470 回目\n"
     ]
    },
    {
     "name": "stderr",
     "output_type": "stream",
     "text": [
      "100%|██████████████████████████████████████████████████████████████████████████████████████████████████████████████████████████████████████████| 1/1 [00:01<00:00,  1.56s/it]\n"
     ]
    },
    {
     "name": "stdout",
     "output_type": "stream",
     "text": [
      "(1, 1449)\n",
      "14\n",
      "471 回目\n"
     ]
    },
    {
     "name": "stderr",
     "output_type": "stream",
     "text": [
      "100%|██████████████████████████████████████████████████████████████████████████████████████████████████████████████████████████████████████████| 1/1 [00:01<00:00,  1.52s/it]\n"
     ]
    },
    {
     "name": "stdout",
     "output_type": "stream",
     "text": [
      "(1, 1446)\n",
      "14\n",
      "472 回目\n"
     ]
    },
    {
     "name": "stderr",
     "output_type": "stream",
     "text": [
      "100%|██████████████████████████████████████████████████████████████████████████████████████████████████████████████████████████████████████████| 1/1 [00:01<00:00,  1.03s/it]\n"
     ]
    },
    {
     "name": "stdout",
     "output_type": "stream",
     "text": [
      "(1, 1176)\n",
      "\"['ATS1s_SMILES', 'GATS4s_SMILES'] not in index\"\n",
      "473 回目\n"
     ]
    },
    {
     "name": "stderr",
     "output_type": "stream",
     "text": [
      "100%|██████████████████████████████████████████████████████████████████████████████████████████████████████████████████████████████████████████| 1/1 [00:01<00:00,  1.06s/it]\n"
     ]
    },
    {
     "name": "stdout",
     "output_type": "stream",
     "text": [
      "(1, 1176)\n",
      "\"['ATS1s_SMILES', 'GATS4s_SMILES'] not in index\"\n",
      "474 回目\n"
     ]
    },
    {
     "name": "stderr",
     "output_type": "stream",
     "text": [
      "100%|██████████████████████████████████████████████████████████████████████████████████████████████████████████████████████████████████████████| 1/1 [00:01<00:00,  1.26s/it]\n"
     ]
    },
    {
     "name": "stdout",
     "output_type": "stream",
     "text": [
      "(1, 1445)\n",
      "16\n",
      "475 回目\n"
     ]
    },
    {
     "name": "stderr",
     "output_type": "stream",
     "text": [
      "100%|██████████████████████████████████████████████████████████████████████████████████████████████████████████████████████████████████████████| 1/1 [00:01<00:00,  1.53s/it]\n"
     ]
    },
    {
     "name": "stdout",
     "output_type": "stream",
     "text": [
      "(1, 1451)\n",
      "16\n",
      "476 回目\n"
     ]
    },
    {
     "name": "stderr",
     "output_type": "stream",
     "text": [
      "100%|██████████████████████████████████████████████████████████████████████████████████████████████████████████████████████████████████████████| 1/1 [00:01<00:00,  1.79s/it]\n"
     ]
    },
    {
     "name": "stdout",
     "output_type": "stream",
     "text": [
      "(1, 1452)\n",
      "16\n",
      "477 回目\n"
     ]
    },
    {
     "name": "stderr",
     "output_type": "stream",
     "text": [
      "100%|██████████████████████████████████████████████████████████████████████████████████████████████████████████████████████████████████████████| 1/1 [00:01<00:00,  1.32s/it]\n"
     ]
    },
    {
     "name": "stdout",
     "output_type": "stream",
     "text": [
      "(1, 1452)\n",
      "16\n",
      "478 回目\n"
     ]
    },
    {
     "name": "stderr",
     "output_type": "stream",
     "text": [
      "100%|██████████████████████████████████████████████████████████████████████████████████████████████████████████████████████████████████████████| 1/1 [00:01<00:00,  1.18s/it]\n"
     ]
    },
    {
     "name": "stdout",
     "output_type": "stream",
     "text": [
      "(1, 1452)\n",
      "16\n",
      "479 回目\n"
     ]
    },
    {
     "name": "stderr",
     "output_type": "stream",
     "text": [
      "100%|██████████████████████████████████████████████████████████████████████████████████████████████████████████████████████████████████████████| 1/1 [00:02<00:00,  2.04s/it]\n"
     ]
    },
    {
     "name": "stdout",
     "output_type": "stream",
     "text": [
      "(1, 1453)\n",
      "16\n",
      "480 回目\n"
     ]
    },
    {
     "name": "stderr",
     "output_type": "stream",
     "text": [
      "100%|██████████████████████████████████████████████████████████████████████████████████████████████████████████████████████████████████████████| 1/1 [00:01<00:00,  1.55s/it]\n"
     ]
    },
    {
     "name": "stdout",
     "output_type": "stream",
     "text": [
      "(1, 1453)\n",
      "16\n",
      "481 回目\n"
     ]
    },
    {
     "name": "stderr",
     "output_type": "stream",
     "text": [
      "100%|██████████████████████████████████████████████████████████████████████████████████████████████████████████████████████████████████████████| 1/1 [00:01<00:00,  1.41s/it]\n"
     ]
    },
    {
     "name": "stdout",
     "output_type": "stream",
     "text": [
      "(1, 1453)\n",
      "16\n",
      "482 回目\n"
     ]
    },
    {
     "name": "stderr",
     "output_type": "stream",
     "text": [
      "100%|██████████████████████████████████████████████████████████████████████████████████████████████████████████████████████████████████████████| 1/1 [00:01<00:00,  1.55s/it]\n"
     ]
    },
    {
     "name": "stdout",
     "output_type": "stream",
     "text": [
      "(1, 1453)\n",
      "16\n",
      "483 回目\n"
     ]
    },
    {
     "name": "stderr",
     "output_type": "stream",
     "text": [
      "100%|██████████████████████████████████████████████████████████████████████████████████████████████████████████████████████████████████████████| 1/1 [00:01<00:00,  1.23s/it]\n"
     ]
    },
    {
     "name": "stdout",
     "output_type": "stream",
     "text": [
      "(1, 1453)\n",
      "16\n",
      "484 回目\n"
     ]
    },
    {
     "name": "stderr",
     "output_type": "stream",
     "text": [
      "100%|██████████████████████████████████████████████████████████████████████████████████████████████████████████████████████████████████████████| 1/1 [00:01<00:00,  1.22s/it]\n"
     ]
    },
    {
     "name": "stdout",
     "output_type": "stream",
     "text": [
      "(1, 1453)\n",
      "16\n",
      "485 回目\n"
     ]
    },
    {
     "name": "stderr",
     "output_type": "stream",
     "text": [
      "100%|██████████████████████████████████████████████████████████████████████████████████████████████████████████████████████████████████████████| 1/1 [00:01<00:00,  1.24s/it]\n"
     ]
    },
    {
     "name": "stdout",
     "output_type": "stream",
     "text": [
      "(1, 1452)\n",
      "16\n",
      "486 回目\n"
     ]
    },
    {
     "name": "stderr",
     "output_type": "stream",
     "text": [
      "100%|██████████████████████████████████████████████████████████████████████████████████████████████████████████████████████████████████████████| 1/1 [00:01<00:00,  1.14s/it]\n"
     ]
    },
    {
     "name": "stdout",
     "output_type": "stream",
     "text": [
      "(1, 1443)\n",
      "16\n",
      "487 回目\n"
     ]
    },
    {
     "name": "stderr",
     "output_type": "stream",
     "text": [
      "100%|██████████████████████████████████████████████████████████████████████████████████████████████████████████████████████████████████████████| 1/1 [00:01<00:00,  1.78s/it]\n"
     ]
    },
    {
     "name": "stdout",
     "output_type": "stream",
     "text": [
      "(1, 1448)\n",
      "16\n",
      "488 回目\n"
     ]
    },
    {
     "name": "stderr",
     "output_type": "stream",
     "text": [
      "100%|██████████████████████████████████████████████████████████████████████████████████████████████████████████████████████████████████████████| 1/1 [00:01<00:00,  1.26s/it]\n"
     ]
    },
    {
     "name": "stdout",
     "output_type": "stream",
     "text": [
      "(1, 1452)\n",
      "16\n",
      "489 回目\n"
     ]
    },
    {
     "name": "stderr",
     "output_type": "stream",
     "text": [
      "100%|██████████████████████████████████████████████████████████████████████████████████████████████████████████████████████████████████████████| 1/1 [00:01<00:00,  1.55s/it]\n"
     ]
    },
    {
     "name": "stdout",
     "output_type": "stream",
     "text": [
      "(1, 1447)\n",
      "16\n",
      "490 回目\n"
     ]
    },
    {
     "name": "stderr",
     "output_type": "stream",
     "text": [
      "100%|██████████████████████████████████████████████████████████████████████████████████████████████████████████████████████████████████████████| 1/1 [00:01<00:00,  1.53s/it]\n"
     ]
    },
    {
     "name": "stdout",
     "output_type": "stream",
     "text": [
      "(1, 1459)\n",
      "16\n",
      "491 回目\n"
     ]
    },
    {
     "name": "stderr",
     "output_type": "stream",
     "text": [
      "100%|██████████████████████████████████████████████████████████████████████████████████████████████████████████████████████████████████████████| 1/1 [00:01<00:00,  1.32s/it]\n"
     ]
    },
    {
     "name": "stdout",
     "output_type": "stream",
     "text": [
      "(1, 1447)\n",
      "16\n",
      "492 回目\n"
     ]
    },
    {
     "name": "stderr",
     "output_type": "stream",
     "text": [
      "100%|██████████████████████████████████████████████████████████████████████████████████████████████████████████████████████████████████████████| 1/1 [00:01<00:00,  1.82s/it]\n"
     ]
    },
    {
     "name": "stdout",
     "output_type": "stream",
     "text": [
      "(1, 1453)\n",
      "16\n",
      "493 回目\n"
     ]
    },
    {
     "name": "stderr",
     "output_type": "stream",
     "text": [
      "100%|██████████████████████████████████████████████████████████████████████████████████████████████████████████████████████████████████████████| 1/1 [00:01<00:00,  1.73s/it]\n"
     ]
    },
    {
     "name": "stdout",
     "output_type": "stream",
     "text": [
      "(1, 1450)\n",
      "16\n",
      "494 回目\n"
     ]
    },
    {
     "name": "stderr",
     "output_type": "stream",
     "text": [
      "100%|██████████████████████████████████████████████████████████████████████████████████████████████████████████████████████████████████████████| 1/1 [00:01<00:00,  1.40s/it]\n"
     ]
    },
    {
     "name": "stdout",
     "output_type": "stream",
     "text": [
      "(1, 1453)\n",
      "16\n",
      "495 回目\n"
     ]
    },
    {
     "name": "stderr",
     "output_type": "stream",
     "text": [
      "100%|██████████████████████████████████████████████████████████████████████████████████████████████████████████████████████████████████████████| 1/1 [00:01<00:00,  1.27s/it]\n"
     ]
    },
    {
     "name": "stdout",
     "output_type": "stream",
     "text": [
      "(1, 1453)\n",
      "16\n",
      "496 回目\n"
     ]
    },
    {
     "name": "stderr",
     "output_type": "stream",
     "text": [
      "100%|██████████████████████████████████████████████████████████████████████████████████████████████████████████████████████████████████████████| 1/1 [00:01<00:00,  1.94s/it]\n"
     ]
    },
    {
     "name": "stdout",
     "output_type": "stream",
     "text": [
      "(1, 1456)\n",
      "16\n",
      "497 回目\n"
     ]
    },
    {
     "name": "stderr",
     "output_type": "stream",
     "text": [
      "100%|██████████████████████████████████████████████████████████████████████████████████████████████████████████████████████████████████████████| 1/1 [00:01<00:00,  1.48s/it]\n"
     ]
    },
    {
     "name": "stdout",
     "output_type": "stream",
     "text": [
      "(1, 1452)\n",
      "16\n",
      "498 回目\n"
     ]
    },
    {
     "name": "stderr",
     "output_type": "stream",
     "text": [
      "100%|██████████████████████████████████████████████████████████████████████████████████████████████████████████████████████████████████████████| 1/1 [00:01<00:00,  1.47s/it]\n"
     ]
    },
    {
     "name": "stdout",
     "output_type": "stream",
     "text": [
      "(1, 1454)\n",
      "16\n",
      "499 回目\n"
     ]
    },
    {
     "name": "stderr",
     "output_type": "stream",
     "text": [
      "100%|██████████████████████████████████████████████████████████████████████████████████████████████████████████████████████████████████████████| 1/1 [00:01<00:00,  1.51s/it]\n"
     ]
    },
    {
     "name": "stdout",
     "output_type": "stream",
     "text": [
      "(1, 1453)\n",
      "16\n",
      "500 回目\n"
     ]
    },
    {
     "name": "stderr",
     "output_type": "stream",
     "text": [
      "100%|██████████████████████████████████████████████████████████████████████████████████████████████████████████████████████████████████████████| 1/1 [00:00<00:00,  1.12it/s]\n"
     ]
    },
    {
     "name": "stdout",
     "output_type": "stream",
     "text": [
      "(1, 1089)\n",
      "\"['ATS1s_SMILES', 'GATS4s_SMILES'] not in index\"\n",
      "501 回目\n"
     ]
    },
    {
     "name": "stderr",
     "output_type": "stream",
     "text": [
      "100%|██████████████████████████████████████████████████████████████████████████████████████████████████████████████████████████████████████████| 1/1 [00:00<00:00,  1.09it/s]\n"
     ]
    },
    {
     "name": "stdout",
     "output_type": "stream",
     "text": [
      "(1, 1087)\n",
      "\"['ATS1s_SMILES', 'GATS4s_SMILES'] not in index\"\n",
      "502 回目\n"
     ]
    },
    {
     "name": "stderr",
     "output_type": "stream",
     "text": [
      "100%|██████████████████████████████████████████████████████████████████████████████████████████████████████████████████████████████████████████| 1/1 [00:00<00:00,  1.00it/s]\n"
     ]
    },
    {
     "name": "stdout",
     "output_type": "stream",
     "text": [
      "(1, 1176)\n",
      "\"['ATS1s_SMILES', 'GATS4s_SMILES'] not in index\"\n",
      "503 回目\n"
     ]
    },
    {
     "name": "stderr",
     "output_type": "stream",
     "text": [
      "100%|██████████████████████████████████████████████████████████████████████████████████████████████████████████████████████████████████████████| 1/1 [00:00<00:00,  1.05it/s]\n"
     ]
    },
    {
     "name": "stdout",
     "output_type": "stream",
     "text": [
      "(1, 1180)\n",
      "19\n",
      "504 回目\n"
     ]
    },
    {
     "name": "stderr",
     "output_type": "stream",
     "text": [
      "100%|██████████████████████████████████████████████████████████████████████████████████████████████████████████████████████████████████████████| 1/1 [00:01<00:00,  1.17s/it]\n"
     ]
    },
    {
     "name": "stdout",
     "output_type": "stream",
     "text": [
      "/Users/watanabeyuitou/opt/anaconda3/envs/chem/lib/python3.9/site-packages/numpy/core/fromnumeric.py:86: RuntimeWarning: overflow encountered in reduce\n",
      "  return ufunc.reduce(obj, axis, dtype, out, **passkwargs)\n",
      "(1, 1236)\n",
      "19\n",
      "505 回目\n"
     ]
    },
    {
     "name": "stderr",
     "output_type": "stream",
     "text": [
      "100%|██████████████████████████████████████████████████████████████████████████████████████████████████████████████████████████████████████████| 1/1 [00:01<00:00,  1.37s/it]\n"
     ]
    },
    {
     "name": "stdout",
     "output_type": "stream",
     "text": [
      "(1, 1389)\n",
      "19\n",
      "506 回目\n"
     ]
    },
    {
     "name": "stderr",
     "output_type": "stream",
     "text": [
      "100%|██████████████████████████████████████████████████████████████████████████████████████████████████████████████████████████████████████████| 1/1 [00:01<00:00,  1.05s/it]\n"
     ]
    },
    {
     "name": "stdout",
     "output_type": "stream",
     "text": [
      "(1, 1083)\n",
      "\"['ATS1s_SMILES', 'GATS4s_SMILES'] not in index\"\n",
      "507 回目\n"
     ]
    },
    {
     "name": "stderr",
     "output_type": "stream",
     "text": [
      "100%|██████████████████████████████████████████████████████████████████████████████████████████████████████████████████████████████████████████| 1/1 [00:00<00:00,  1.12it/s]\n"
     ]
    },
    {
     "name": "stdout",
     "output_type": "stream",
     "text": [
      "(1, 1082)\n",
      "\"['ATS1s_SMILES', 'GATS4s_SMILES'] not in index\"\n",
      "508 回目\n"
     ]
    },
    {
     "name": "stderr",
     "output_type": "stream",
     "text": [
      "100%|██████████████████████████████████████████████████████████████████████████████████████████████████████████████████████████████████████████| 1/1 [00:01<00:00,  1.20s/it]\n"
     ]
    },
    {
     "name": "stdout",
     "output_type": "stream",
     "text": [
      "(1, 1083)\n",
      "\"['ATS1s_SMILES', 'GATS4s_SMILES'] not in index\"\n",
      "509 回目\n"
     ]
    },
    {
     "name": "stderr",
     "output_type": "stream",
     "text": [
      "100%|██████████████████████████████████████████████████████████████████████████████████████████████████████████████████████████████████████████| 1/1 [00:01<00:00,  1.13s/it]\n"
     ]
    },
    {
     "name": "stdout",
     "output_type": "stream",
     "text": [
      "(1, 1081)\n",
      "\"['ATS1s_SMILES', 'GATS4s_SMILES'] not in index\"\n",
      "510 回目\n"
     ]
    },
    {
     "name": "stderr",
     "output_type": "stream",
     "text": [
      "100%|██████████████████████████████████████████████████████████████████████████████████████████████████████████████████████████████████████████| 1/1 [00:01<00:00,  1.27s/it]\n"
     ]
    },
    {
     "name": "stdout",
     "output_type": "stream",
     "text": [
      "(1, 1081)\n",
      "\"['ATS1s_SMILES', 'GATS4s_SMILES'] not in index\"\n",
      "511 回目\n"
     ]
    },
    {
     "name": "stderr",
     "output_type": "stream",
     "text": [
      "100%|██████████████████████████████████████████████████████████████████████████████████████████████████████████████████████████████████████████| 1/1 [00:00<00:00,  1.07it/s]\n"
     ]
    },
    {
     "name": "stdout",
     "output_type": "stream",
     "text": [
      "(1, 1081)\n",
      "\"['ATS1s_SMILES', 'GATS4s_SMILES'] not in index\"\n",
      "512 回目\n"
     ]
    },
    {
     "name": "stderr",
     "output_type": "stream",
     "text": [
      "100%|██████████████████████████████████████████████████████████████████████████████████████████████████████████████████████████████████████████| 1/1 [00:01<00:00,  1.10s/it]\n"
     ]
    },
    {
     "name": "stdout",
     "output_type": "stream",
     "text": [
      "(1, 1037)\n",
      "\"['ATS1s_SMILES', 'GATS4s_SMILES'] not in index\"\n",
      "513 回目\n"
     ]
    },
    {
     "name": "stderr",
     "output_type": "stream",
     "text": [
      "100%|██████████████████████████████████████████████████████████████████████████████████████████████████████████████████████████████████████████| 1/1 [00:01<00:00,  1.18s/it]\n"
     ]
    },
    {
     "name": "stdout",
     "output_type": "stream",
     "text": [
      "(1, 1081)\n",
      "\"['ATS1s_SMILES', 'GATS4s_SMILES'] not in index\"\n",
      "514 回目\n"
     ]
    },
    {
     "name": "stderr",
     "output_type": "stream",
     "text": [
      "100%|██████████████████████████████████████████████████████████████████████████████████████████████████████████████████████████████████████████| 1/1 [00:00<00:00,  1.00it/s]\n"
     ]
    },
    {
     "name": "stdout",
     "output_type": "stream",
     "text": [
      "(1, 1083)\n",
      "\"['ATS1s_SMILES', 'GATS4s_SMILES'] not in index\"\n",
      "515 回目\n"
     ]
    },
    {
     "name": "stderr",
     "output_type": "stream",
     "text": [
      "100%|██████████████████████████████████████████████████████████████████████████████████████████████████████████████████████████████████████████| 1/1 [00:00<00:00,  1.04it/s]\n"
     ]
    },
    {
     "name": "stdout",
     "output_type": "stream",
     "text": [
      "/Users/watanabeyuitou/opt/anaconda3/envs/chem/lib/python3.9/site-packages/numpy/core/fromnumeric.py:86: RuntimeWarning: overflow encountered in reduce\n",
      "  return ufunc.reduce(obj, axis, dtype, out, **passkwargs)\n",
      "(1, 1083)\n",
      "\"['ATS1s_SMILES', 'GATS4s_SMILES'] not in index\"\n",
      "516 回目\n"
     ]
    },
    {
     "name": "stderr",
     "output_type": "stream",
     "text": [
      "100%|██████████████████████████████████████████████████████████████████████████████████████████████████████████████████████████████████████████| 1/1 [00:01<00:00,  1.22s/it]\n"
     ]
    },
    {
     "name": "stdout",
     "output_type": "stream",
     "text": [
      "(1, 1081)\n",
      "\"['ATS1s_SMILES', 'GATS4s_SMILES'] not in index\"\n",
      "517 回目\n"
     ]
    },
    {
     "name": "stderr",
     "output_type": "stream",
     "text": [
      "100%|██████████████████████████████████████████████████████████████████████████████████████████████████████████████████████████████████████████| 1/1 [00:01<00:00,  1.17s/it]\n"
     ]
    },
    {
     "name": "stdout",
     "output_type": "stream",
     "text": [
      "(1, 1081)\n",
      "\"['ATS1s_SMILES', 'GATS4s_SMILES'] not in index\"\n",
      "518 回目\n"
     ]
    },
    {
     "name": "stderr",
     "output_type": "stream",
     "text": [
      "100%|██████████████████████████████████████████████████████████████████████████████████████████████████████████████████████████████████████████| 1/1 [00:01<00:00,  1.20s/it]\n"
     ]
    },
    {
     "name": "stdout",
     "output_type": "stream",
     "text": [
      "(1, 1236)\n",
      "31\n",
      "519 回目\n"
     ]
    },
    {
     "name": "stderr",
     "output_type": "stream",
     "text": [
      "100%|██████████████████████████████████████████████████████████████████████████████████████████████████████████████████████████████████████████| 1/1 [00:01<00:00,  1.02s/it]\n"
     ]
    },
    {
     "name": "stdout",
     "output_type": "stream",
     "text": [
      "(1, 1129)\n",
      "\"['ATS1s_SMILES', 'GATS4s_SMILES'] not in index\"\n",
      "520 回目\n"
     ]
    },
    {
     "name": "stderr",
     "output_type": "stream",
     "text": [
      "100%|██████████████████████████████████████████████████████████████████████████████████████████████████████████████████████████████████████████| 1/1 [00:00<00:00,  1.11it/s]\n"
     ]
    },
    {
     "name": "stdout",
     "output_type": "stream",
     "text": [
      "(1, 1128)\n",
      "\"['ATS1s_SMILES', 'GATS4s_SMILES'] not in index\"\n",
      "521 回目\n"
     ]
    },
    {
     "name": "stderr",
     "output_type": "stream",
     "text": [
      "100%|██████████████████████████████████████████████████████████████████████████████████████████████████████████████████████████████████████████| 1/1 [00:01<00:00,  1.03s/it]\n"
     ]
    },
    {
     "name": "stdout",
     "output_type": "stream",
     "text": [
      "/Users/watanabeyuitou/opt/anaconda3/envs/chem/lib/python3.9/site-packages/numpy/core/fromnumeric.py:86: RuntimeWarning: overflow encountered in reduce\n",
      "  return ufunc.reduce(obj, axis, dtype, out, **passkwargs)\n",
      "(1, 1182)\n",
      "33\n",
      "522 回目\n"
     ]
    },
    {
     "name": "stderr",
     "output_type": "stream",
     "text": [
      "100%|██████████████████████████████████████████████████████████████████████████████████████████████████████████████████████████████████████████| 1/1 [00:01<00:00,  1.07s/it]\n"
     ]
    },
    {
     "name": "stdout",
     "output_type": "stream",
     "text": [
      "(1, 1128)\n",
      "\"['ATS1s_SMILES', 'GATS4s_SMILES'] not in index\"\n",
      "523 回目\n"
     ]
    },
    {
     "name": "stderr",
     "output_type": "stream",
     "text": [
      "100%|██████████████████████████████████████████████████████████████████████████████████████████████████████████████████████████████████████████| 1/1 [00:01<00:00,  1.17s/it]\n"
     ]
    },
    {
     "name": "stdout",
     "output_type": "stream",
     "text": [
      "(1, 1393)\n",
      "34\n",
      "524 回目\n"
     ]
    },
    {
     "name": "stderr",
     "output_type": "stream",
     "text": [
      "100%|██████████████████████████████████████████████████████████████████████████████████████████████████████████████████████████████████████████| 1/1 [00:01<00:00,  1.06s/it]\n"
     ]
    },
    {
     "name": "stdout",
     "output_type": "stream",
     "text": [
      "(1, 1440)\n",
      "34\n",
      "525 回目\n"
     ]
    },
    {
     "name": "stderr",
     "output_type": "stream",
     "text": [
      "100%|██████████████████████████████████████████████████████████████████████████████████████████████████████████████████████████████████████████| 1/1 [00:01<00:00,  1.41s/it]\n"
     ]
    },
    {
     "name": "stdout",
     "output_type": "stream",
     "text": [
      "(1, 1438)\n",
      "34\n",
      "526 回目\n"
     ]
    },
    {
     "name": "stderr",
     "output_type": "stream",
     "text": [
      "100%|██████████████████████████████████████████████████████████████████████████████████████████████████████████████████████████████████████████| 1/1 [00:00<00:00,  1.07it/s]\n"
     ]
    },
    {
     "name": "stdout",
     "output_type": "stream",
     "text": [
      "/Users/watanabeyuitou/opt/anaconda3/envs/chem/lib/python3.9/site-packages/numpy/core/fromnumeric.py:86: RuntimeWarning: overflow encountered in reduce\n",
      "  return ufunc.reduce(obj, axis, dtype, out, **passkwargs)\n",
      "(1, 1189)\n",
      "34\n",
      "527 回目\n"
     ]
    },
    {
     "name": "stderr",
     "output_type": "stream",
     "text": [
      "100%|██████████████████████████████████████████████████████████████████████████████████████████████████████████████████████████████████████████| 1/1 [00:01<00:00,  1.09s/it]\n"
     ]
    },
    {
     "name": "stdout",
     "output_type": "stream",
     "text": [
      "(1, 1393)\n",
      "34\n",
      "528 回目\n"
     ]
    },
    {
     "name": "stderr",
     "output_type": "stream",
     "text": [
      "100%|██████████████████████████████████████████████████████████████████████████████████████████████████████████████████████████████████████████| 1/1 [00:01<00:00,  1.30s/it]\n"
     ]
    },
    {
     "name": "stdout",
     "output_type": "stream",
     "text": [
      "(1, 1445)\n",
      "34\n",
      "529 回目\n"
     ]
    },
    {
     "name": "stderr",
     "output_type": "stream",
     "text": [
      "100%|██████████████████████████████████████████████████████████████████████████████████████████████████████████████████████████████████████████| 1/1 [00:01<00:00,  1.33s/it]\n"
     ]
    },
    {
     "name": "stdout",
     "output_type": "stream",
     "text": [
      "(1, 1140)\n",
      "34\n",
      "530 回目\n"
     ]
    },
    {
     "name": "stderr",
     "output_type": "stream",
     "text": [
      "100%|██████████████████████████████████████████████████████████████████████████████████████████████████████████████████████████████████████████| 1/1 [00:01<00:00,  1.14s/it]\n"
     ]
    },
    {
     "name": "stdout",
     "output_type": "stream",
     "text": [
      "(1, 1389)\n",
      "34\n",
      "531 回目\n"
     ]
    },
    {
     "name": "stderr",
     "output_type": "stream",
     "text": [
      "100%|██████████████████████████████████████████████████████████████████████████████████████████████████████████████████████████████████████████| 1/1 [00:01<00:00,  1.10s/it]\n"
     ]
    },
    {
     "name": "stdout",
     "output_type": "stream",
     "text": [
      "(1, 1182)\n",
      "34\n",
      "532 回目\n"
     ]
    },
    {
     "name": "stderr",
     "output_type": "stream",
     "text": [
      "100%|██████████████████████████████████████████████████████████████████████████████████████████████████████████████████████████████████████████| 1/1 [00:01<00:00,  1.21s/it]\n"
     ]
    },
    {
     "name": "stdout",
     "output_type": "stream",
     "text": [
      "/Users/watanabeyuitou/opt/anaconda3/envs/chem/lib/python3.9/site-packages/numpy/core/fromnumeric.py:86: RuntimeWarning: overflow encountered in reduce\n",
      "  return ufunc.reduce(obj, axis, dtype, out, **passkwargs)\n",
      "(1, 1178)\n",
      "\"['ATS1s_SMILES', 'GATS4s_SMILES'] not in index\"\n",
      "533 回目\n"
     ]
    },
    {
     "name": "stderr",
     "output_type": "stream",
     "text": [
      "100%|██████████████████████████████████████████████████████████████████████████████████████████████████████████████████████████████████████████| 1/1 [00:01<00:00,  1.06s/it]\n"
     ]
    },
    {
     "name": "stdout",
     "output_type": "stream",
     "text": [
      "(1, 1440)\n",
      "35\n",
      "534 回目\n"
     ]
    },
    {
     "name": "stderr",
     "output_type": "stream",
     "text": [
      "100%|██████████████████████████████████████████████████████████████████████████████████████████████████████████████████████████████████████████| 1/1 [00:01<00:00,  1.22s/it]\n"
     ]
    },
    {
     "name": "stdout",
     "output_type": "stream",
     "text": [
      "(1, 1440)\n",
      "35\n",
      "535 回目\n"
     ]
    },
    {
     "name": "stderr",
     "output_type": "stream",
     "text": [
      "100%|██████████████████████████████████████████████████████████████████████████████████████████████████████████████████████████████████████████| 1/1 [00:01<00:00,  1.10s/it]\n"
     ]
    },
    {
     "name": "stdout",
     "output_type": "stream",
     "text": [
      "(1, 1447)\n",
      "35\n",
      "536 回目\n"
     ]
    },
    {
     "name": "stderr",
     "output_type": "stream",
     "text": [
      "100%|██████████████████████████████████████████████████████████████████████████████████████████████████████████████████████████████████████████| 1/1 [00:01<00:00,  1.05s/it]\n"
     ]
    },
    {
     "name": "stdout",
     "output_type": "stream",
     "text": [
      "(1, 1447)\n",
      "35\n",
      "537 回目\n"
     ]
    },
    {
     "name": "stderr",
     "output_type": "stream",
     "text": [
      "100%|██████████████████████████████████████████████████████████████████████████████████████████████████████████████████████████████████████████| 1/1 [00:01<00:00,  1.17s/it]\n"
     ]
    },
    {
     "name": "stdout",
     "output_type": "stream",
     "text": [
      "(1, 1447)\n",
      "35\n",
      "538 回目\n"
     ]
    },
    {
     "name": "stderr",
     "output_type": "stream",
     "text": [
      "100%|██████████████████████████████████████████████████████████████████████████████████████████████████████████████████████████████████████████| 1/1 [00:01<00:00,  1.21s/it]\n"
     ]
    },
    {
     "name": "stdout",
     "output_type": "stream",
     "text": [
      "(1, 1447)\n",
      "35\n",
      "539 回目\n"
     ]
    },
    {
     "name": "stderr",
     "output_type": "stream",
     "text": [
      "100%|██████████████████████████████████████████████████████████████████████████████████████████████████████████████████████████████████████████| 1/1 [00:01<00:00,  1.22s/it]\n"
     ]
    },
    {
     "name": "stdout",
     "output_type": "stream",
     "text": [
      "(1, 1186)\n",
      "35\n",
      "540 回目\n"
     ]
    },
    {
     "name": "stderr",
     "output_type": "stream",
     "text": [
      "100%|██████████████████████████████████████████████████████████████████████████████████████████████████████████████████████████████████████████| 1/1 [00:01<00:00,  1.22s/it]\n"
     ]
    },
    {
     "name": "stdout",
     "output_type": "stream",
     "text": [
      "/Users/watanabeyuitou/opt/anaconda3/envs/chem/lib/python3.9/site-packages/numpy/core/fromnumeric.py:86: RuntimeWarning: overflow encountered in reduce\n",
      "  return ufunc.reduce(obj, axis, dtype, out, **passkwargs)\n",
      "(1, 1234)\n",
      "35\n",
      "541 回目\n"
     ]
    },
    {
     "name": "stderr",
     "output_type": "stream",
     "text": [
      "100%|██████████████████████████████████████████████████████████████████████████████████████████████████████████████████████████████████████████| 1/1 [00:01<00:00,  1.12s/it]\n"
     ]
    },
    {
     "name": "stdout",
     "output_type": "stream",
     "text": [
      "(1, 1446)\n",
      "35\n",
      "542 回目\n"
     ]
    },
    {
     "name": "stderr",
     "output_type": "stream",
     "text": [
      "100%|██████████████████████████████████████████████████████████████████████████████████████████████████████████████████████████████████████████| 1/1 [00:01<00:00,  1.13s/it]\n"
     ]
    },
    {
     "name": "stdout",
     "output_type": "stream",
     "text": [
      "(1, 1393)\n",
      "35\n",
      "543 回目\n"
     ]
    },
    {
     "name": "stderr",
     "output_type": "stream",
     "text": [
      "100%|██████████████████████████████████████████████████████████████████████████████████████████████████████████████████████████████████████████| 1/1 [00:01<00:00,  1.08s/it]\n"
     ]
    },
    {
     "name": "stdout",
     "output_type": "stream",
     "text": [
      "(1, 1346)\n",
      "35\n",
      "544 回目\n"
     ]
    },
    {
     "name": "stderr",
     "output_type": "stream",
     "text": [
      "100%|██████████████████████████████████████████████████████████████████████████████████████████████████████████████████████████████████████████| 1/1 [00:01<00:00,  1.15s/it]\n"
     ]
    },
    {
     "name": "stdout",
     "output_type": "stream",
     "text": [
      "(1, 1440)\n",
      "35\n",
      "545 回目\n"
     ]
    },
    {
     "name": "stderr",
     "output_type": "stream",
     "text": [
      "100%|██████████████████████████████████████████████████████████████████████████████████████████████████████████████████████████████████████████| 1/1 [00:01<00:00,  1.13s/it]\n"
     ]
    },
    {
     "name": "stdout",
     "output_type": "stream",
     "text": [
      "(1, 1447)\n",
      "35\n",
      "546 回目\n"
     ]
    },
    {
     "name": "stderr",
     "output_type": "stream",
     "text": [
      "100%|██████████████████████████████████████████████████████████████████████████████████████████████████████████████████████████████████████████| 1/1 [00:01<00:00,  1.22s/it]\n"
     ]
    },
    {
     "name": "stdout",
     "output_type": "stream",
     "text": [
      "(1, 1393)\n",
      "35\n",
      "547 回目\n"
     ]
    },
    {
     "name": "stderr",
     "output_type": "stream",
     "text": [
      "100%|██████████████████████████████████████████████████████████████████████████████████████████████████████████████████████████████████████████| 1/1 [00:01<00:00,  1.27s/it]\n"
     ]
    },
    {
     "name": "stdout",
     "output_type": "stream",
     "text": [
      "(1, 1182)\n",
      "35\n",
      "548 回目\n"
     ]
    },
    {
     "name": "stderr",
     "output_type": "stream",
     "text": [
      "100%|██████████████████████████████████████████████████████████████████████████████████████████████████████████████████████████████████████████| 1/1 [00:01<00:00,  1.10s/it]\n"
     ]
    },
    {
     "name": "stdout",
     "output_type": "stream",
     "text": [
      "(1, 1393)\n",
      "35\n",
      "549 回目\n"
     ]
    },
    {
     "name": "stderr",
     "output_type": "stream",
     "text": [
      "100%|██████████████████████████████████████████████████████████████████████████████████████████████████████████████████████████████████████████| 1/1 [00:01<00:00,  1.05s/it]\n"
     ]
    },
    {
     "name": "stdout",
     "output_type": "stream",
     "text": [
      "(1, 1445)\n",
      "35\n",
      "550 回目\n"
     ]
    },
    {
     "name": "stderr",
     "output_type": "stream",
     "text": [
      "100%|██████████████████████████████████████████████████████████████████████████████████████████████████████████████████████████████████████████| 1/1 [00:01<00:00,  1.13s/it]\n"
     ]
    },
    {
     "name": "stdout",
     "output_type": "stream",
     "text": [
      "(1, 1443)\n",
      "35\n",
      "551 回目\n"
     ]
    },
    {
     "name": "stderr",
     "output_type": "stream",
     "text": [
      "100%|██████████████████████████████████████████████████████████████████████████████████████████████████████████████████████████████████████████| 1/1 [00:01<00:00,  1.16s/it]\n"
     ]
    },
    {
     "name": "stdout",
     "output_type": "stream",
     "text": [
      "(1, 1393)\n",
      "35\n",
      "552 回目\n"
     ]
    },
    {
     "name": "stderr",
     "output_type": "stream",
     "text": [
      "100%|██████████████████████████████████████████████████████████████████████████████████████████████████████████████████████████████████████████| 1/1 [00:01<00:00,  1.17s/it]\n"
     ]
    },
    {
     "name": "stdout",
     "output_type": "stream",
     "text": [
      "(1, 1446)\n",
      "35\n",
      "553 回目\n"
     ]
    },
    {
     "name": "stderr",
     "output_type": "stream",
     "text": [
      "100%|██████████████████████████████████████████████████████████████████████████████████████████████████████████████████████████████████████████| 1/1 [00:01<00:00,  1.50s/it]\n"
     ]
    },
    {
     "name": "stdout",
     "output_type": "stream",
     "text": [
      "(1, 1446)\n",
      "35\n",
      "554 回目\n"
     ]
    },
    {
     "name": "stderr",
     "output_type": "stream",
     "text": [
      "100%|██████████████████████████████████████████████████████████████████████████████████████████████████████████████████████████████████████████| 1/1 [00:01<00:00,  1.15s/it]\n"
     ]
    },
    {
     "name": "stdout",
     "output_type": "stream",
     "text": [
      "(1, 1447)\n",
      "35\n",
      "555 回目\n"
     ]
    },
    {
     "name": "stderr",
     "output_type": "stream",
     "text": [
      "100%|██████████████████████████████████████████████████████████████████████████████████████████████████████████████████████████████████████████| 1/1 [00:01<00:00,  1.02s/it]\n"
     ]
    },
    {
     "name": "stdout",
     "output_type": "stream",
     "text": [
      "(1, 1397)\n",
      "35\n",
      "556 回目\n"
     ]
    },
    {
     "name": "stderr",
     "output_type": "stream",
     "text": [
      "100%|██████████████████████████████████████████████████████████████████████████████████████████████████████████████████████████████████████████| 1/1 [00:01<00:00,  1.23s/it]\n"
     ]
    },
    {
     "name": "stdout",
     "output_type": "stream",
     "text": [
      "(1, 1393)\n",
      "35\n",
      "557 回目\n"
     ]
    },
    {
     "name": "stderr",
     "output_type": "stream",
     "text": [
      "100%|██████████████████████████████████████████████████████████████████████████████████████████████████████████████████████████████████████████| 1/1 [00:01<00:00,  1.41s/it]\n"
     ]
    },
    {
     "name": "stdout",
     "output_type": "stream",
     "text": [
      "(1, 1447)\n",
      "35\n",
      "558 回目\n"
     ]
    },
    {
     "name": "stderr",
     "output_type": "stream",
     "text": [
      "100%|██████████████████████████████████████████████████████████████████████████████████████████████████████████████████████████████████████████| 1/1 [00:01<00:00,  1.68s/it]\n"
     ]
    },
    {
     "name": "stdout",
     "output_type": "stream",
     "text": [
      "(1, 1447)\n",
      "35\n",
      "559 回目\n"
     ]
    },
    {
     "name": "stderr",
     "output_type": "stream",
     "text": [
      "100%|██████████████████████████████████████████████████████████████████████████████████████████████████████████████████████████████████████████| 1/1 [00:01<00:00,  1.37s/it]\n"
     ]
    },
    {
     "name": "stdout",
     "output_type": "stream",
     "text": [
      "(1, 1443)\n",
      "35\n",
      "560 回目\n"
     ]
    },
    {
     "name": "stderr",
     "output_type": "stream",
     "text": [
      "100%|██████████████████████████████████████████████████████████████████████████████████████████████████████████████████████████████████████████| 1/1 [00:01<00:00,  1.09s/it]\n"
     ]
    },
    {
     "name": "stdout",
     "output_type": "stream",
     "text": [
      "(1, 1450)\n",
      "35\n",
      "561 回目\n"
     ]
    },
    {
     "name": "stderr",
     "output_type": "stream",
     "text": [
      "100%|██████████████████████████████████████████████████████████████████████████████████████████████████████████████████████████████████████████| 1/1 [00:01<00:00,  1.37s/it]\n"
     ]
    },
    {
     "name": "stdout",
     "output_type": "stream",
     "text": [
      "(1, 1443)\n",
      "35\n",
      "562 回目\n"
     ]
    },
    {
     "name": "stderr",
     "output_type": "stream",
     "text": [
      "100%|██████████████████████████████████████████████████████████████████████████████████████████████████████████████████████████████████████████| 1/1 [00:01<00:00,  1.28s/it]\n"
     ]
    },
    {
     "name": "stdout",
     "output_type": "stream",
     "text": [
      "(1, 1341)\n",
      "35\n",
      "563 回目\n"
     ]
    },
    {
     "name": "stderr",
     "output_type": "stream",
     "text": [
      "100%|██████████████████████████████████████████████████████████████████████████████████████████████████████████████████████████████████████████| 1/1 [00:01<00:00,  1.39s/it]\n"
     ]
    },
    {
     "name": "stdout",
     "output_type": "stream",
     "text": [
      "(1, 1445)\n",
      "35\n",
      "564 回目\n"
     ]
    },
    {
     "name": "stderr",
     "output_type": "stream",
     "text": [
      "100%|██████████████████████████████████████████████████████████████████████████████████████████████████████████████████████████████████████████| 1/1 [00:01<00:00,  1.14s/it]\n"
     ]
    },
    {
     "name": "stdout",
     "output_type": "stream",
     "text": [
      "(1, 1393)\n",
      "35\n",
      "565 回目\n"
     ]
    },
    {
     "name": "stderr",
     "output_type": "stream",
     "text": [
      "100%|██████████████████████████████████████████████████████████████████████████████████████████████████████████████████████████████████████████| 1/1 [00:01<00:00,  1.04s/it]\n"
     ]
    },
    {
     "name": "stdout",
     "output_type": "stream",
     "text": [
      "(1, 1442)\n",
      "35\n",
      "566 回目\n"
     ]
    },
    {
     "name": "stderr",
     "output_type": "stream",
     "text": [
      "100%|██████████████████████████████████████████████████████████████████████████████████████████████████████████████████████████████████████████| 1/1 [00:01<00:00,  1.17s/it]\n"
     ]
    },
    {
     "name": "stdout",
     "output_type": "stream",
     "text": [
      "(1, 1442)\n",
      "35\n",
      "567 回目\n"
     ]
    },
    {
     "name": "stderr",
     "output_type": "stream",
     "text": [
      "100%|██████████████████████████████████████████████████████████████████████████████████████████████████████████████████████████████████████████| 1/1 [00:01<00:00,  1.06s/it]\n"
     ]
    },
    {
     "name": "stdout",
     "output_type": "stream",
     "text": [
      "(1, 1450)\n",
      "35\n",
      "568 回目\n"
     ]
    },
    {
     "name": "stderr",
     "output_type": "stream",
     "text": [
      "100%|██████████████████████████████████████████████████████████████████████████████████████████████████████████████████████████████████████████| 1/1 [00:01<00:00,  1.19s/it]\n"
     ]
    },
    {
     "name": "stdout",
     "output_type": "stream",
     "text": [
      "(1, 1443)\n",
      "35\n",
      "569 回目\n"
     ]
    },
    {
     "name": "stderr",
     "output_type": "stream",
     "text": [
      "100%|██████████████████████████████████████████████████████████████████████████████████████████████████████████████████████████████████████████| 1/1 [00:01<00:00,  1.24s/it]\n"
     ]
    },
    {
     "name": "stdout",
     "output_type": "stream",
     "text": [
      "(1, 1443)\n",
      "35\n",
      "570 回目\n"
     ]
    },
    {
     "name": "stderr",
     "output_type": "stream",
     "text": [
      "100%|██████████████████████████████████████████████████████████████████████████████████████████████████████████████████████████████████████████| 1/1 [00:01<00:00,  1.17s/it]\n"
     ]
    },
    {
     "name": "stdout",
     "output_type": "stream",
     "text": [
      "(1, 1445)\n",
      "35\n",
      "571 回目\n"
     ]
    },
    {
     "name": "stderr",
     "output_type": "stream",
     "text": [
      "100%|██████████████████████████████████████████████████████████████████████████████████████████████████████████████████████████████████████████| 1/1 [00:01<00:00,  1.17s/it]\n"
     ]
    },
    {
     "name": "stdout",
     "output_type": "stream",
     "text": [
      "(1, 1442)\n",
      "35\n",
      "572 回目\n"
     ]
    },
    {
     "name": "stderr",
     "output_type": "stream",
     "text": [
      "100%|██████████████████████████████████████████████████████████████████████████████████████████████████████████████████████████████████████████| 1/1 [00:01<00:00,  1.13s/it]\n"
     ]
    },
    {
     "name": "stdout",
     "output_type": "stream",
     "text": [
      "(1, 1442)\n",
      "35\n",
      "573 回目\n"
     ]
    },
    {
     "name": "stderr",
     "output_type": "stream",
     "text": [
      "100%|██████████████████████████████████████████████████████████████████████████████████████████████████████████████████████████████████████████| 1/1 [00:01<00:00,  1.21s/it]\n"
     ]
    },
    {
     "name": "stdout",
     "output_type": "stream",
     "text": [
      "(1, 1444)\n",
      "35\n",
      "574 回目\n"
     ]
    },
    {
     "name": "stderr",
     "output_type": "stream",
     "text": [
      "100%|██████████████████████████████████████████████████████████████████████████████████████████████████████████████████████████████████████████| 1/1 [00:01<00:00,  1.11s/it]\n"
     ]
    },
    {
     "name": "stdout",
     "output_type": "stream",
     "text": [
      "(1, 1446)\n",
      "35\n",
      "575 回目\n"
     ]
    },
    {
     "name": "stderr",
     "output_type": "stream",
     "text": [
      "100%|██████████████████████████████████████████████████████████████████████████████████████████████████████████████████████████████████████████| 1/1 [00:01<00:00,  1.29s/it]\n"
     ]
    },
    {
     "name": "stdout",
     "output_type": "stream",
     "text": [
      "(1, 1444)\n",
      "35\n",
      "576 回目\n"
     ]
    },
    {
     "name": "stderr",
     "output_type": "stream",
     "text": [
      "100%|██████████████████████████████████████████████████████████████████████████████████████████████████████████████████████████████████████████| 1/1 [00:01<00:00,  1.36s/it]\n"
     ]
    },
    {
     "name": "stdout",
     "output_type": "stream",
     "text": [
      "(1, 1447)\n",
      "35\n",
      "577 回目\n"
     ]
    },
    {
     "name": "stderr",
     "output_type": "stream",
     "text": [
      "100%|██████████████████████████████████████████████████████████████████████████████████████████████████████████████████████████████████████████| 1/1 [00:01<00:00,  1.35s/it]\n"
     ]
    },
    {
     "name": "stdout",
     "output_type": "stream",
     "text": [
      "(1, 1447)\n",
      "35\n",
      "578 回目\n"
     ]
    },
    {
     "name": "stderr",
     "output_type": "stream",
     "text": [
      "100%|██████████████████████████████████████████████████████████████████████████████████████████████████████████████████████████████████████████| 1/1 [00:01<00:00,  1.18s/it]\n"
     ]
    },
    {
     "name": "stdout",
     "output_type": "stream",
     "text": [
      "(1, 1441)\n",
      "35\n",
      "579 回目\n"
     ]
    },
    {
     "name": "stderr",
     "output_type": "stream",
     "text": [
      "100%|██████████████████████████████████████████████████████████████████████████████████████████████████████████████████████████████████████████| 1/1 [00:01<00:00,  1.04s/it]\n"
     ]
    },
    {
     "name": "stdout",
     "output_type": "stream",
     "text": [
      "(1, 1446)\n",
      "35\n",
      "580 回目\n"
     ]
    },
    {
     "name": "stderr",
     "output_type": "stream",
     "text": [
      "100%|██████████████████████████████████████████████████████████████████████████████████████████████████████████████████████████████████████████| 1/1 [00:01<00:00,  1.09s/it]\n"
     ]
    },
    {
     "name": "stdout",
     "output_type": "stream",
     "text": [
      "(1, 1448)\n",
      "35\n",
      "581 回目\n"
     ]
    },
    {
     "name": "stderr",
     "output_type": "stream",
     "text": [
      "100%|██████████████████████████████████████████████████████████████████████████████████████████████████████████████████████████████████████████| 1/1 [00:01<00:00,  1.10s/it]\n"
     ]
    },
    {
     "name": "stdout",
     "output_type": "stream",
     "text": [
      "(1, 1442)\n",
      "35\n",
      "582 回目\n"
     ]
    },
    {
     "name": "stderr",
     "output_type": "stream",
     "text": [
      "100%|██████████████████████████████████████████████████████████████████████████████████████████████████████████████████████████████████████████| 1/1 [00:00<00:00,  1.01it/s]\n"
     ]
    },
    {
     "name": "stdout",
     "output_type": "stream",
     "text": [
      "(1, 1345)\n",
      "35\n",
      "583 回目\n"
     ]
    },
    {
     "name": "stderr",
     "output_type": "stream",
     "text": [
      "100%|██████████████████████████████████████████████████████████████████████████████████████████████████████████████████████████████████████████| 1/1 [00:00<00:00,  1.01it/s]\n"
     ]
    },
    {
     "name": "stdout",
     "output_type": "stream",
     "text": [
      "(1, 1397)\n",
      "35\n",
      "584 回目\n"
     ]
    },
    {
     "name": "stderr",
     "output_type": "stream",
     "text": [
      "100%|██████████████████████████████████████████████████████████████████████████████████████████████████████████████████████████████████████████| 1/1 [00:01<00:00,  1.02s/it]\n"
     ]
    },
    {
     "name": "stdout",
     "output_type": "stream",
     "text": [
      "(1, 1390)\n",
      "35\n",
      "585 回目\n"
     ]
    },
    {
     "name": "stderr",
     "output_type": "stream",
     "text": [
      "100%|██████████████████████████████████████████████████████████████████████████████████████████████████████████████████████████████████████████| 1/1 [00:01<00:00,  1.04s/it]\n"
     ]
    },
    {
     "name": "stdout",
     "output_type": "stream",
     "text": [
      "(1, 1397)\n",
      "35\n",
      "586 回目\n"
     ]
    },
    {
     "name": "stderr",
     "output_type": "stream",
     "text": [
      "100%|██████████████████████████████████████████████████████████████████████████████████████████████████████████████████████████████████████████| 1/1 [00:01<00:00,  1.02s/it]\n"
     ]
    },
    {
     "name": "stdout",
     "output_type": "stream",
     "text": [
      "(1, 1444)\n",
      "35\n",
      "587 回目\n"
     ]
    },
    {
     "name": "stderr",
     "output_type": "stream",
     "text": [
      "100%|██████████████████████████████████████████████████████████████████████████████████████████████████████████████████████████████████████████| 1/1 [00:01<00:00,  1.22s/it]\n"
     ]
    },
    {
     "name": "stdout",
     "output_type": "stream",
     "text": [
      "(1, 1447)\n",
      "35\n",
      "588 回目\n"
     ]
    },
    {
     "name": "stderr",
     "output_type": "stream",
     "text": [
      "100%|██████████████████████████████████████████████████████████████████████████████████████████████████████████████████████████████████████████| 1/1 [00:01<00:00,  1.04s/it]\n"
     ]
    },
    {
     "name": "stdout",
     "output_type": "stream",
     "text": [
      "(1, 1444)\n",
      "35\n",
      "589 回目\n"
     ]
    },
    {
     "name": "stderr",
     "output_type": "stream",
     "text": [
      "100%|██████████████████████████████████████████████████████████████████████████████████████████████████████████████████████████████████████████| 1/1 [00:01<00:00,  1.05s/it]\n"
     ]
    },
    {
     "name": "stdout",
     "output_type": "stream",
     "text": [
      "(1, 1397)\n",
      "35\n",
      "590 回目\n"
     ]
    },
    {
     "name": "stderr",
     "output_type": "stream",
     "text": [
      "100%|██████████████████████████████████████████████████████████████████████████████████████████████████████████████████████████████████████████| 1/1 [00:01<00:00,  1.09s/it]\n"
     ]
    },
    {
     "name": "stdout",
     "output_type": "stream",
     "text": [
      "(1, 1445)\n",
      "35\n",
      "591 回目\n"
     ]
    },
    {
     "name": "stderr",
     "output_type": "stream",
     "text": [
      "100%|██████████████████████████████████████████████████████████████████████████████████████████████████████████████████████████████████████████| 1/1 [00:01<00:00,  1.01s/it]\n"
     ]
    },
    {
     "name": "stdout",
     "output_type": "stream",
     "text": [
      "(1, 1444)\n",
      "35\n",
      "592 回目\n"
     ]
    },
    {
     "name": "stderr",
     "output_type": "stream",
     "text": [
      "100%|██████████████████████████████████████████████████████████████████████████████████████████████████████████████████████████████████████████| 1/1 [00:01<00:00,  1.01s/it]\n"
     ]
    },
    {
     "name": "stdout",
     "output_type": "stream",
     "text": [
      "(1, 1444)\n",
      "35\n",
      "593 回目\n"
     ]
    },
    {
     "name": "stderr",
     "output_type": "stream",
     "text": [
      "100%|██████████████████████████████████████████████████████████████████████████████████████████████████████████████████████████████████████████| 1/1 [00:01<00:00,  1.21s/it]\n"
     ]
    },
    {
     "name": "stdout",
     "output_type": "stream",
     "text": [
      "(1, 1397)\n",
      "35\n",
      "594 回目\n"
     ]
    },
    {
     "name": "stderr",
     "output_type": "stream",
     "text": [
      "100%|██████████████████████████████████████████████████████████████████████████████████████████████████████████████████████████████████████████| 1/1 [00:01<00:00,  1.06s/it]\n"
     ]
    },
    {
     "name": "stdout",
     "output_type": "stream",
     "text": [
      "(1, 1444)\n",
      "35\n",
      "595 回目\n"
     ]
    },
    {
     "name": "stderr",
     "output_type": "stream",
     "text": [
      "100%|██████████████████████████████████████████████████████████████████████████████████████████████████████████████████████████████████████████| 1/1 [00:01<00:00,  1.11s/it]\n"
     ]
    },
    {
     "name": "stdout",
     "output_type": "stream",
     "text": [
      "(1, 1442)\n",
      "35\n",
      "596 回目\n"
     ]
    },
    {
     "name": "stderr",
     "output_type": "stream",
     "text": [
      "100%|██████████████████████████████████████████████████████████████████████████████████████████████████████████████████████████████████████████| 1/1 [00:01<00:00,  1.35s/it]\n"
     ]
    },
    {
     "name": "stdout",
     "output_type": "stream",
     "text": [
      "(1, 1440)\n",
      "35\n",
      "597 回目\n"
     ]
    },
    {
     "name": "stderr",
     "output_type": "stream",
     "text": [
      "100%|██████████████████████████████████████████████████████████████████████████████████████████████████████████████████████████████████████████| 1/1 [00:01<00:00,  1.02s/it]\n"
     ]
    },
    {
     "name": "stdout",
     "output_type": "stream",
     "text": [
      "(1, 1442)\n",
      "35\n",
      "598 回目\n"
     ]
    },
    {
     "name": "stderr",
     "output_type": "stream",
     "text": [
      "100%|██████████████████████████████████████████████████████████████████████████████████████████████████████████████████████████████████████████| 1/1 [00:01<00:00,  1.18s/it]\n"
     ]
    },
    {
     "name": "stdout",
     "output_type": "stream",
     "text": [
      "(1, 1440)\n",
      "35\n",
      "599 回目\n"
     ]
    },
    {
     "name": "stderr",
     "output_type": "stream",
     "text": [
      "100%|██████████████████████████████████████████████████████████████████████████████████████████████████████████████████████████████████████████| 1/1 [00:00<00:00,  1.04it/s]\n"
     ]
    },
    {
     "name": "stdout",
     "output_type": "stream",
     "text": [
      "(1, 1240)\n",
      "35\n",
      "600 回目\n"
     ]
    },
    {
     "name": "stderr",
     "output_type": "stream",
     "text": [
      "100%|██████████████████████████████████████████████████████████████████████████████████████████████████████████████████████████████████████████| 1/1 [00:01<00:00,  1.01s/it]\n"
     ]
    },
    {
     "name": "stdout",
     "output_type": "stream",
     "text": [
      "(1, 1446)\n",
      "35\n",
      "601 回目\n"
     ]
    },
    {
     "name": "stderr",
     "output_type": "stream",
     "text": [
      "100%|██████████████████████████████████████████████████████████████████████████████████████████████████████████████████████████████████████████| 1/1 [00:00<00:00,  1.01it/s]\n"
     ]
    },
    {
     "name": "stdout",
     "output_type": "stream",
     "text": [
      "(1, 1392)\n",
      "35\n",
      "602 回目\n"
     ]
    },
    {
     "name": "stderr",
     "output_type": "stream",
     "text": [
      "100%|██████████████████████████████████████████████████████████████████████████████████████████████████████████████████████████████████████████| 1/1 [00:01<00:00,  1.07s/it]\n"
     ]
    },
    {
     "name": "stdout",
     "output_type": "stream",
     "text": [
      "(1, 1448)\n",
      "35\n",
      "603 回目\n"
     ]
    },
    {
     "name": "stderr",
     "output_type": "stream",
     "text": [
      "100%|██████████████████████████████████████████████████████████████████████████████████████████████████████████████████████████████████████████| 1/1 [00:01<00:00,  1.01s/it]\n"
     ]
    },
    {
     "name": "stdout",
     "output_type": "stream",
     "text": [
      "(1, 1442)\n",
      "35\n",
      "604 回目\n"
     ]
    },
    {
     "name": "stderr",
     "output_type": "stream",
     "text": [
      "100%|██████████████████████████████████████████████████████████████████████████████████████████████████████████████████████████████████████████| 1/1 [00:01<00:00,  1.05s/it]\n"
     ]
    },
    {
     "name": "stdout",
     "output_type": "stream",
     "text": [
      "(1, 1397)\n",
      "35\n",
      "605 回目\n"
     ]
    },
    {
     "name": "stderr",
     "output_type": "stream",
     "text": [
      "100%|██████████████████████████████████████████████████████████████████████████████████████████████████████████████████████████████████████████| 1/1 [00:01<00:00,  1.12s/it]\n"
     ]
    },
    {
     "name": "stdout",
     "output_type": "stream",
     "text": [
      "(1, 1443)\n",
      "35\n",
      "606 回目\n"
     ]
    },
    {
     "name": "stderr",
     "output_type": "stream",
     "text": [
      "100%|██████████████████████████████████████████████████████████████████████████████████████████████████████████████████████████████████████████| 1/1 [00:01<00:00,  1.38s/it]\n"
     ]
    },
    {
     "name": "stdout",
     "output_type": "stream",
     "text": [
      "(1, 1442)\n",
      "35\n",
      "607 回目\n"
     ]
    },
    {
     "name": "stderr",
     "output_type": "stream",
     "text": [
      "100%|██████████████████████████████████████████████████████████████████████████████████████████████████████████████████████████████████████████| 1/1 [00:00<00:00,  1.15it/s]\n"
     ]
    },
    {
     "name": "stdout",
     "output_type": "stream",
     "text": [
      "(1, 1186)\n",
      "35\n",
      "608 回目\n"
     ]
    },
    {
     "name": "stderr",
     "output_type": "stream",
     "text": [
      "100%|██████████████████████████████████████████████████████████████████████████████████████████████████████████████████████████████████████████| 1/1 [00:01<00:00,  1.04s/it]\n"
     ]
    },
    {
     "name": "stdout",
     "output_type": "stream",
     "text": [
      "(1, 1393)\n",
      "35\n",
      "609 回目\n"
     ]
    },
    {
     "name": "stderr",
     "output_type": "stream",
     "text": [
      "100%|██████████████████████████████████████████████████████████████████████████████████████████████████████████████████████████████████████████| 1/1 [00:01<00:00,  1.17s/it]\n"
     ]
    },
    {
     "name": "stdout",
     "output_type": "stream",
     "text": [
      "(1, 1440)\n",
      "35\n",
      "610 回目\n"
     ]
    },
    {
     "name": "stderr",
     "output_type": "stream",
     "text": [
      "100%|██████████████████████████████████████████████████████████████████████████████████████████████████████████████████████████████████████████| 1/1 [00:01<00:00,  1.04s/it]\n"
     ]
    },
    {
     "name": "stdout",
     "output_type": "stream",
     "text": [
      "(1, 1446)\n",
      "35\n",
      "611 回目\n"
     ]
    },
    {
     "name": "stderr",
     "output_type": "stream",
     "text": [
      "100%|██████████████████████████████████████████████████████████████████████████████████████████████████████████████████████████████████████████| 1/1 [00:01<00:00,  1.04s/it]\n"
     ]
    },
    {
     "name": "stdout",
     "output_type": "stream",
     "text": [
      "(1, 1450)\n",
      "35\n",
      "612 回目\n"
     ]
    },
    {
     "name": "stderr",
     "output_type": "stream",
     "text": [
      "100%|██████████████████████████████████████████████████████████████████████████████████████████████████████████████████████████████████████████| 1/1 [00:01<00:00,  1.17s/it]\n"
     ]
    },
    {
     "name": "stdout",
     "output_type": "stream",
     "text": [
      "(1, 1446)\n",
      "35\n",
      "613 回目\n"
     ]
    },
    {
     "name": "stderr",
     "output_type": "stream",
     "text": [
      "100%|██████████████████████████████████████████████████████████████████████████████████████████████████████████████████████████████████████████| 1/1 [00:01<00:00,  1.64s/it]\n"
     ]
    },
    {
     "name": "stdout",
     "output_type": "stream",
     "text": [
      "(1, 1448)\n",
      "35\n",
      "614 回目\n"
     ]
    },
    {
     "name": "stderr",
     "output_type": "stream",
     "text": [
      "100%|██████████████████████████████████████████████████████████████████████████████████████████████████████████████████████████████████████████| 1/1 [00:01<00:00,  1.60s/it]\n"
     ]
    },
    {
     "name": "stdout",
     "output_type": "stream",
     "text": [
      "(1, 1450)\n",
      "35\n",
      "615 回目\n"
     ]
    },
    {
     "name": "stderr",
     "output_type": "stream",
     "text": [
      "100%|██████████████████████████████████████████████████████████████████████████████████████████████████████████████████████████████████████████| 1/1 [00:01<00:00,  1.13s/it]\n"
     ]
    },
    {
     "name": "stdout",
     "output_type": "stream",
     "text": [
      "(1, 1445)\n",
      "35\n",
      "616 回目\n"
     ]
    },
    {
     "name": "stderr",
     "output_type": "stream",
     "text": [
      "100%|██████████████████████████████████████████████████████████████████████████████████████████████████████████████████████████████████████████| 1/1 [00:01<00:00,  1.04s/it]\n"
     ]
    },
    {
     "name": "stdout",
     "output_type": "stream",
     "text": [
      "(1, 1446)\n",
      "35\n",
      "617 回目\n"
     ]
    },
    {
     "name": "stderr",
     "output_type": "stream",
     "text": [
      "100%|██████████████████████████████████████████████████████████████████████████████████████████████████████████████████████████████████████████| 1/1 [00:01<00:00,  1.19s/it]\n"
     ]
    },
    {
     "name": "stdout",
     "output_type": "stream",
     "text": [
      "(1, 1450)\n",
      "35\n",
      "618 回目\n"
     ]
    },
    {
     "name": "stderr",
     "output_type": "stream",
     "text": [
      "100%|██████████████████████████████████████████████████████████████████████████████████████████████████████████████████████████████████████████| 1/1 [00:01<00:00,  1.04s/it]\n"
     ]
    },
    {
     "name": "stdout",
     "output_type": "stream",
     "text": [
      "(1, 1438)\n",
      "35\n",
      "619 回目\n"
     ]
    },
    {
     "name": "stderr",
     "output_type": "stream",
     "text": [
      "100%|██████████████████████████████████████████████████████████████████████████████████████████████████████████████████████████████████████████| 1/1 [00:01<00:00,  1.32s/it]\n"
     ]
    },
    {
     "name": "stdout",
     "output_type": "stream",
     "text": [
      "(1, 1442)\n",
      "35\n",
      "620 回目\n"
     ]
    },
    {
     "name": "stderr",
     "output_type": "stream",
     "text": [
      "100%|██████████████████████████████████████████████████████████████████████████████████████████████████████████████████████████████████████████| 1/1 [00:01<00:00,  1.24s/it]\n"
     ]
    },
    {
     "name": "stdout",
     "output_type": "stream",
     "text": [
      "(1, 1440)\n",
      "35\n",
      "621 回目\n"
     ]
    },
    {
     "name": "stderr",
     "output_type": "stream",
     "text": [
      "100%|██████████████████████████████████████████████████████████████████████████████████████████████████████████████████████████████████████████| 1/1 [00:01<00:00,  1.21s/it]\n"
     ]
    },
    {
     "name": "stdout",
     "output_type": "stream",
     "text": [
      "(1, 1447)\n",
      "35\n",
      "622 回目\n"
     ]
    },
    {
     "name": "stderr",
     "output_type": "stream",
     "text": [
      "100%|██████████████████████████████████████████████████████████████████████████████████████████████████████████████████████████████████████████| 1/1 [00:01<00:00,  1.48s/it]\n"
     ]
    },
    {
     "name": "stdout",
     "output_type": "stream",
     "text": [
      "(1, 1446)\n",
      "35\n",
      "623 回目\n"
     ]
    },
    {
     "name": "stderr",
     "output_type": "stream",
     "text": [
      "100%|██████████████████████████████████████████████████████████████████████████████████████████████████████████████████████████████████████████| 1/1 [00:01<00:00,  1.16s/it]\n"
     ]
    },
    {
     "name": "stdout",
     "output_type": "stream",
     "text": [
      "(1, 1342)\n",
      "35\n",
      "624 回目\n"
     ]
    },
    {
     "name": "stderr",
     "output_type": "stream",
     "text": [
      "100%|██████████████████████████████████████████████████████████████████████████████████████████████████████████████████████████████████████████| 1/1 [00:01<00:00,  1.02s/it]\n"
     ]
    },
    {
     "name": "stdout",
     "output_type": "stream",
     "text": [
      "(1, 1393)\n",
      "35\n",
      "625 回目\n"
     ]
    },
    {
     "name": "stderr",
     "output_type": "stream",
     "text": [
      "100%|██████████████████████████████████████████████████████████████████████████████████████████████████████████████████████████████████████████| 1/1 [00:01<00:00,  1.00s/it]\n"
     ]
    },
    {
     "name": "stdout",
     "output_type": "stream",
     "text": [
      "(1, 1397)\n",
      "35\n",
      "626 回目\n"
     ]
    },
    {
     "name": "stderr",
     "output_type": "stream",
     "text": [
      "100%|██████████████████████████████████████████████████████████████████████████████████████████████████████████████████████████████████████████| 1/1 [00:01<00:00,  1.16s/it]\n"
     ]
    },
    {
     "name": "stdout",
     "output_type": "stream",
     "text": [
      "(1, 1446)\n",
      "35\n",
      "627 回目\n"
     ]
    },
    {
     "name": "stderr",
     "output_type": "stream",
     "text": [
      "100%|██████████████████████████████████████████████████████████████████████████████████████████████████████████████████████████████████████████| 1/1 [00:01<00:00,  1.08s/it]\n"
     ]
    },
    {
     "name": "stdout",
     "output_type": "stream",
     "text": [
      "(1, 1446)\n",
      "35\n",
      "628 回目\n"
     ]
    },
    {
     "name": "stderr",
     "output_type": "stream",
     "text": [
      "100%|██████████████████████████████████████████████████████████████████████████████████████████████████████████████████████████████████████████| 1/1 [00:01<00:00,  1.04s/it]\n"
     ]
    },
    {
     "name": "stdout",
     "output_type": "stream",
     "text": [
      "(1, 1392)\n",
      "35\n",
      "629 回目\n"
     ]
    },
    {
     "name": "stderr",
     "output_type": "stream",
     "text": [
      "100%|██████████████████████████████████████████████████████████████████████████████████████████████████████████████████████████████████████████| 1/1 [00:01<00:00,  1.44s/it]\n"
     ]
    },
    {
     "name": "stdout",
     "output_type": "stream",
     "text": [
      "(1, 1445)\n",
      "35\n",
      "630 回目\n"
     ]
    },
    {
     "name": "stderr",
     "output_type": "stream",
     "text": [
      "100%|██████████████████████████████████████████████████████████████████████████████████████████████████████████████████████████████████████████| 1/1 [00:01<00:00,  1.12s/it]\n"
     ]
    },
    {
     "name": "stdout",
     "output_type": "stream",
     "text": [
      "(1, 1239)\n",
      "35\n",
      "631 回目\n"
     ]
    },
    {
     "name": "stderr",
     "output_type": "stream",
     "text": [
      "100%|██████████████████████████████████████████████████████████████████████████████████████████████████████████████████████████████████████████| 1/1 [00:01<00:00,  1.06s/it]\n"
     ]
    },
    {
     "name": "stdout",
     "output_type": "stream",
     "text": [
      "(1, 1447)\n",
      "35\n",
      "632 回目\n"
     ]
    },
    {
     "name": "stderr",
     "output_type": "stream",
     "text": [
      "100%|██████████████████████████████████████████████████████████████████████████████████████████████████████████████████████████████████████████| 1/1 [00:01<00:00,  1.50s/it]\n"
     ]
    },
    {
     "name": "stdout",
     "output_type": "stream",
     "text": [
      "(1, 1447)\n",
      "35\n",
      "633 回目\n"
     ]
    },
    {
     "name": "stderr",
     "output_type": "stream",
     "text": [
      "100%|██████████████████████████████████████████████████████████████████████████████████████████████████████████████████████████████████████████| 1/1 [00:01<00:00,  1.15s/it]\n"
     ]
    },
    {
     "name": "stdout",
     "output_type": "stream",
     "text": [
      "(1, 1446)\n",
      "35\n",
      "634 回目\n"
     ]
    },
    {
     "name": "stderr",
     "output_type": "stream",
     "text": [
      "100%|██████████████████████████████████████████████████████████████████████████████████████████████████████████████████████████████████████████| 1/1 [00:01<00:00,  1.11s/it]\n"
     ]
    },
    {
     "name": "stdout",
     "output_type": "stream",
     "text": [
      "(1, 1446)\n",
      "35\n",
      "635 回目\n"
     ]
    },
    {
     "name": "stderr",
     "output_type": "stream",
     "text": [
      "100%|██████████████████████████████████████████████████████████████████████████████████████████████████████████████████████████████████████████| 1/1 [00:01<00:00,  1.15s/it]\n"
     ]
    },
    {
     "name": "stdout",
     "output_type": "stream",
     "text": [
      "(1, 1444)\n",
      "35\n",
      "636 回目\n"
     ]
    },
    {
     "name": "stderr",
     "output_type": "stream",
     "text": [
      "100%|██████████████████████████████████████████████████████████████████████████████████████████████████████████████████████████████████████████| 1/1 [00:01<00:00,  1.19s/it]\n"
     ]
    },
    {
     "name": "stdout",
     "output_type": "stream",
     "text": [
      "(1, 1444)\n",
      "35\n",
      "637 回目\n"
     ]
    },
    {
     "name": "stderr",
     "output_type": "stream",
     "text": [
      "100%|██████████████████████████████████████████████████████████████████████████████████████████████████████████████████████████████████████████| 1/1 [00:01<00:00,  1.08s/it]\n"
     ]
    },
    {
     "name": "stdout",
     "output_type": "stream",
     "text": [
      "(1, 1180)\n",
      "\"['ATS1s_SMILES', 'GATS4s_SMILES'] not in index\"\n",
      "638 回目\n"
     ]
    },
    {
     "name": "stderr",
     "output_type": "stream",
     "text": [
      "100%|██████████████████████████████████████████████████████████████████████████████████████████████████████████████████████████████████████████| 1/1 [00:01<00:00,  1.08s/it]\n"
     ]
    },
    {
     "name": "stdout",
     "output_type": "stream",
     "text": [
      "(1, 1438)\n",
      "36\n",
      "639 回目\n"
     ]
    },
    {
     "name": "stderr",
     "output_type": "stream",
     "text": [
      "100%|██████████████████████████████████████████████████████████████████████████████████████████████████████████████████████████████████████████| 1/1 [00:01<00:00,  1.17s/it]\n"
     ]
    },
    {
     "name": "stdout",
     "output_type": "stream",
     "text": [
      "(1, 1446)\n",
      "36\n",
      "640 回目\n"
     ]
    },
    {
     "name": "stderr",
     "output_type": "stream",
     "text": [
      "100%|██████████████████████████████████████████████████████████████████████████████████████████████████████████████████████████████████████████| 1/1 [00:01<00:00,  1.12s/it]\n"
     ]
    },
    {
     "name": "stdout",
     "output_type": "stream",
     "text": [
      "(1, 1446)\n",
      "36\n",
      "641 回目\n"
     ]
    },
    {
     "name": "stderr",
     "output_type": "stream",
     "text": [
      "100%|██████████████████████████████████████████████████████████████████████████████████████████████████████████████████████████████████████████| 1/1 [00:01<00:00,  1.29s/it]\n"
     ]
    },
    {
     "name": "stdout",
     "output_type": "stream",
     "text": [
      "(1, 1446)\n",
      "36\n",
      "642 回目\n"
     ]
    },
    {
     "name": "stderr",
     "output_type": "stream",
     "text": [
      "100%|██████████████████████████████████████████████████████████████████████████████████████████████████████████████████████████████████████████| 1/1 [00:01<00:00,  1.13s/it]\n"
     ]
    },
    {
     "name": "stdout",
     "output_type": "stream",
     "text": [
      "(1, 1443)\n",
      "36\n",
      "643 回目\n"
     ]
    },
    {
     "name": "stderr",
     "output_type": "stream",
     "text": [
      "100%|██████████████████████████████████████████████████████████████████████████████████████████████████████████████████████████████████████████| 1/1 [00:01<00:00,  1.14s/it]\n"
     ]
    },
    {
     "name": "stdout",
     "output_type": "stream",
     "text": [
      "(1, 1453)\n",
      "36\n",
      "644 回目\n"
     ]
    },
    {
     "name": "stderr",
     "output_type": "stream",
     "text": [
      "100%|██████████████████████████████████████████████████████████████████████████████████████████████████████████████████████████████████████████| 1/1 [00:01<00:00,  1.29s/it]\n"
     ]
    },
    {
     "name": "stdout",
     "output_type": "stream",
     "text": [
      "(1, 1446)\n",
      "36\n",
      "645 回目\n"
     ]
    },
    {
     "name": "stderr",
     "output_type": "stream",
     "text": [
      "100%|██████████████████████████████████████████████████████████████████████████████████████████████████████████████████████████████████████████| 1/1 [00:01<00:00,  1.30s/it]\n"
     ]
    },
    {
     "name": "stdout",
     "output_type": "stream",
     "text": [
      "(1, 1445)\n",
      "36\n",
      "646 回目\n"
     ]
    },
    {
     "name": "stderr",
     "output_type": "stream",
     "text": [
      "100%|██████████████████████████████████████████████████████████████████████████████████████████████████████████████████████████████████████████| 1/1 [00:01<00:00,  1.49s/it]\n"
     ]
    },
    {
     "name": "stdout",
     "output_type": "stream",
     "text": [
      "(1, 1442)\n",
      "36\n",
      "647 回目\n"
     ]
    },
    {
     "name": "stderr",
     "output_type": "stream",
     "text": [
      "100%|██████████████████████████████████████████████████████████████████████████████████████████████████████████████████████████████████████████| 1/1 [00:01<00:00,  1.25s/it]\n"
     ]
    },
    {
     "name": "stdout",
     "output_type": "stream",
     "text": [
      "(1, 1445)\n",
      "36\n",
      "648 回目\n"
     ]
    },
    {
     "name": "stderr",
     "output_type": "stream",
     "text": [
      "100%|██████████████████████████████████████████████████████████████████████████████████████████████████████████████████████████████████████████| 1/1 [00:01<00:00,  1.14s/it]\n"
     ]
    },
    {
     "name": "stdout",
     "output_type": "stream",
     "text": [
      "(1, 1444)\n",
      "36\n",
      "649 回目\n"
     ]
    },
    {
     "name": "stderr",
     "output_type": "stream",
     "text": [
      "100%|██████████████████████████████████████████████████████████████████████████████████████████████████████████████████████████████████████████| 1/1 [00:01<00:00,  1.24s/it]\n"
     ]
    },
    {
     "name": "stdout",
     "output_type": "stream",
     "text": [
      "(1, 1442)\n",
      "36\n",
      "650 回目\n"
     ]
    },
    {
     "name": "stderr",
     "output_type": "stream",
     "text": [
      "100%|██████████████████████████████████████████████████████████████████████████████████████████████████████████████████████████████████████████| 1/1 [00:01<00:00,  1.23s/it]\n"
     ]
    },
    {
     "name": "stdout",
     "output_type": "stream",
     "text": [
      "(1, 1444)\n",
      "36\n",
      "651 回目\n"
     ]
    },
    {
     "name": "stderr",
     "output_type": "stream",
     "text": [
      "100%|██████████████████████████████████████████████████████████████████████████████████████████████████████████████████████████████████████████| 1/1 [00:01<00:00,  1.15s/it]\n"
     ]
    },
    {
     "name": "stdout",
     "output_type": "stream",
     "text": [
      "(1, 1446)\n",
      "36\n",
      "652 回目\n"
     ]
    },
    {
     "name": "stderr",
     "output_type": "stream",
     "text": [
      "100%|██████████████████████████████████████████████████████████████████████████████████████████████████████████████████████████████████████████| 1/1 [00:01<00:00,  1.43s/it]\n"
     ]
    },
    {
     "name": "stdout",
     "output_type": "stream",
     "text": [
      "(1, 1441)\n",
      "36\n",
      "653 回目\n"
     ]
    },
    {
     "name": "stderr",
     "output_type": "stream",
     "text": [
      "100%|██████████████████████████████████████████████████████████████████████████████████████████████████████████████████████████████████████████| 1/1 [00:01<00:00,  1.18s/it]\n"
     ]
    },
    {
     "name": "stdout",
     "output_type": "stream",
     "text": [
      "(1, 1442)\n",
      "36\n",
      "654 回目\n"
     ]
    },
    {
     "name": "stderr",
     "output_type": "stream",
     "text": [
      "100%|██████████████████████████████████████████████████████████████████████████████████████████████████████████████████████████████████████████| 1/1 [00:01<00:00,  1.25s/it]\n"
     ]
    },
    {
     "name": "stdout",
     "output_type": "stream",
     "text": [
      "(1, 1445)\n",
      "36\n",
      "655 回目\n"
     ]
    },
    {
     "name": "stderr",
     "output_type": "stream",
     "text": [
      "100%|██████████████████████████████████████████████████████████████████████████████████████████████████████████████████████████████████████████| 1/1 [00:01<00:00,  1.29s/it]\n"
     ]
    },
    {
     "name": "stdout",
     "output_type": "stream",
     "text": [
      "(1, 1445)\n",
      "36\n",
      "656 回目\n"
     ]
    },
    {
     "name": "stderr",
     "output_type": "stream",
     "text": [
      "100%|██████████████████████████████████████████████████████████████████████████████████████████████████████████████████████████████████████████| 1/1 [00:01<00:00,  1.18s/it]\n"
     ]
    },
    {
     "name": "stdout",
     "output_type": "stream",
     "text": [
      "(1, 1395)\n",
      "36\n",
      "657 回目\n"
     ]
    },
    {
     "name": "stderr",
     "output_type": "stream",
     "text": [
      "100%|██████████████████████████████████████████████████████████████████████████████████████████████████████████████████████████████████████████| 1/1 [00:01<00:00,  1.16s/it]\n"
     ]
    },
    {
     "name": "stdout",
     "output_type": "stream",
     "text": [
      "(1, 1438)\n",
      "36\n",
      "658 回目\n"
     ]
    },
    {
     "name": "stderr",
     "output_type": "stream",
     "text": [
      "100%|██████████████████████████████████████████████████████████████████████████████████████████████████████████████████████████████████████████| 1/1 [00:01<00:00,  1.17s/it]\n"
     ]
    },
    {
     "name": "stdout",
     "output_type": "stream",
     "text": [
      "(1, 1445)\n",
      "36\n",
      "659 回目\n"
     ]
    },
    {
     "name": "stderr",
     "output_type": "stream",
     "text": [
      "100%|██████████████████████████████████████████████████████████████████████████████████████████████████████████████████████████████████████████| 1/1 [00:01<00:00,  1.33s/it]\n"
     ]
    },
    {
     "name": "stdout",
     "output_type": "stream",
     "text": [
      "(1, 1452)\n",
      "36\n",
      "660 回目\n"
     ]
    },
    {
     "name": "stderr",
     "output_type": "stream",
     "text": [
      "100%|██████████████████████████████████████████████████████████████████████████████████████████████████████████████████████████████████████████| 1/1 [00:01<00:00,  1.37s/it]\n"
     ]
    },
    {
     "name": "stdout",
     "output_type": "stream",
     "text": [
      "(1, 1446)\n",
      "36\n",
      "661 回目\n"
     ]
    },
    {
     "name": "stderr",
     "output_type": "stream",
     "text": [
      "100%|██████████████████████████████████████████████████████████████████████████████████████████████████████████████████████████████████████████| 1/1 [00:01<00:00,  1.45s/it]\n"
     ]
    },
    {
     "name": "stdout",
     "output_type": "stream",
     "text": [
      "(1, 1445)\n",
      "36\n",
      "662 回目\n"
     ]
    },
    {
     "name": "stderr",
     "output_type": "stream",
     "text": [
      "100%|██████████████████████████████████████████████████████████████████████████████████████████████████████████████████████████████████████████| 1/1 [00:01<00:00,  1.14s/it]\n"
     ]
    },
    {
     "name": "stdout",
     "output_type": "stream",
     "text": [
      "(1, 1442)\n",
      "36\n",
      "663 回目\n"
     ]
    },
    {
     "name": "stderr",
     "output_type": "stream",
     "text": [
      "100%|██████████████████████████████████████████████████████████████████████████████████████████████████████████████████████████████████████████| 1/1 [00:01<00:00,  1.16s/it]\n"
     ]
    },
    {
     "name": "stdout",
     "output_type": "stream",
     "text": [
      "(1, 1445)\n",
      "36\n",
      "664 回目\n"
     ]
    },
    {
     "name": "stderr",
     "output_type": "stream",
     "text": [
      "100%|██████████████████████████████████████████████████████████████████████████████████████████████████████████████████████████████████████████| 1/1 [00:01<00:00,  1.14s/it]\n"
     ]
    },
    {
     "name": "stdout",
     "output_type": "stream",
     "text": [
      "(1, 1442)\n",
      "36\n",
      "665 回目\n"
     ]
    },
    {
     "name": "stderr",
     "output_type": "stream",
     "text": [
      "100%|██████████████████████████████████████████████████████████████████████████████████████████████████████████████████████████████████████████| 1/1 [00:01<00:00,  1.19s/it]\n"
     ]
    },
    {
     "name": "stdout",
     "output_type": "stream",
     "text": [
      "(1, 1442)\n",
      "36\n",
      "666 回目\n"
     ]
    },
    {
     "name": "stderr",
     "output_type": "stream",
     "text": [
      "100%|██████████████████████████████████████████████████████████████████████████████████████████████████████████████████████████████████████████| 1/1 [00:01<00:00,  1.25s/it]\n"
     ]
    },
    {
     "name": "stdout",
     "output_type": "stream",
     "text": [
      "(1, 1440)\n",
      "36\n",
      "667 回目\n"
     ]
    },
    {
     "name": "stderr",
     "output_type": "stream",
     "text": [
      "100%|██████████████████████████████████████████████████████████████████████████████████████████████████████████████████████████████████████████| 1/1 [00:01<00:00,  1.16s/it]\n"
     ]
    },
    {
     "name": "stdout",
     "output_type": "stream",
     "text": [
      "(1, 1445)\n",
      "36\n",
      "668 回目\n"
     ]
    },
    {
     "name": "stderr",
     "output_type": "stream",
     "text": [
      "100%|██████████████████████████████████████████████████████████████████████████████████████████████████████████████████████████████████████████| 1/1 [00:01<00:00,  1.11s/it]\n"
     ]
    },
    {
     "name": "stdout",
     "output_type": "stream",
     "text": [
      "(1, 1447)\n",
      "36\n",
      "669 回目\n"
     ]
    },
    {
     "name": "stderr",
     "output_type": "stream",
     "text": [
      "100%|██████████████████████████████████████████████████████████████████████████████████████████████████████████████████████████████████████████| 1/1 [00:01<00:00,  1.21s/it]\n"
     ]
    },
    {
     "name": "stdout",
     "output_type": "stream",
     "text": [
      "(1, 1399)\n",
      "36\n",
      "670 回目\n"
     ]
    },
    {
     "name": "stderr",
     "output_type": "stream",
     "text": [
      "100%|██████████████████████████████████████████████████████████████████████████████████████████████████████████████████████████████████████████| 1/1 [00:01<00:00,  1.38s/it]\n"
     ]
    },
    {
     "name": "stdout",
     "output_type": "stream",
     "text": [
      "(1, 1440)\n",
      "36\n",
      "671 回目\n"
     ]
    },
    {
     "name": "stderr",
     "output_type": "stream",
     "text": [
      "100%|██████████████████████████████████████████████████████████████████████████████████████████████████████████████████████████████████████████| 1/1 [00:01<00:00,  1.38s/it]\n"
     ]
    },
    {
     "name": "stdout",
     "output_type": "stream",
     "text": [
      "(1, 1440)\n",
      "36\n",
      "672 回目\n"
     ]
    },
    {
     "name": "stderr",
     "output_type": "stream",
     "text": [
      "100%|██████████████████████████████████████████████████████████████████████████████████████████████████████████████████████████████████████████| 1/1 [00:01<00:00,  1.66s/it]\n"
     ]
    },
    {
     "name": "stdout",
     "output_type": "stream",
     "text": [
      "(1, 1440)\n",
      "36\n",
      "673 回目\n"
     ]
    },
    {
     "name": "stderr",
     "output_type": "stream",
     "text": [
      "100%|██████████████████████████████████████████████████████████████████████████████████████████████████████████████████████████████████████████| 1/1 [00:01<00:00,  1.51s/it]\n"
     ]
    },
    {
     "name": "stdout",
     "output_type": "stream",
     "text": [
      "(1, 1447)\n",
      "36\n",
      "674 回目\n"
     ]
    },
    {
     "name": "stderr",
     "output_type": "stream",
     "text": [
      "100%|██████████████████████████████████████████████████████████████████████████████████████████████████████████████████████████████████████████| 1/1 [00:01<00:00,  1.50s/it]\n"
     ]
    },
    {
     "name": "stdout",
     "output_type": "stream",
     "text": [
      "(1, 1448)\n",
      "36\n",
      "675 回目\n"
     ]
    },
    {
     "name": "stderr",
     "output_type": "stream",
     "text": [
      "100%|██████████████████████████████████████████████████████████████████████████████████████████████████████████████████████████████████████████| 1/1 [00:01<00:00,  1.39s/it]\n"
     ]
    },
    {
     "name": "stdout",
     "output_type": "stream",
     "text": [
      "(1, 1444)\n",
      "36\n",
      "676 回目\n"
     ]
    },
    {
     "name": "stderr",
     "output_type": "stream",
     "text": [
      "100%|██████████████████████████████████████████████████████████████████████████████████████████████████████████████████████████████████████████| 1/1 [00:01<00:00,  1.09s/it]\n"
     ]
    },
    {
     "name": "stdout",
     "output_type": "stream",
     "text": [
      "(1, 1441)\n",
      "36\n",
      "677 回目\n"
     ]
    },
    {
     "name": "stderr",
     "output_type": "stream",
     "text": [
      "100%|██████████████████████████████████████████████████████████████████████████████████████████████████████████████████████████████████████████| 1/1 [00:01<00:00,  1.04s/it]\n"
     ]
    },
    {
     "name": "stdout",
     "output_type": "stream",
     "text": [
      "(1, 1444)\n",
      "36\n",
      "678 回目\n"
     ]
    },
    {
     "name": "stderr",
     "output_type": "stream",
     "text": [
      "100%|██████████████████████████████████████████████████████████████████████████████████████████████████████████████████████████████████████████| 1/1 [00:01<00:00,  1.25s/it]\n"
     ]
    },
    {
     "name": "stdout",
     "output_type": "stream",
     "text": [
      "(1, 1437)\n",
      "36\n",
      "679 回目\n"
     ]
    },
    {
     "name": "stderr",
     "output_type": "stream",
     "text": [
      "100%|██████████████████████████████████████████████████████████████████████████████████████████████████████████████████████████████████████████| 1/1 [00:01<00:00,  1.03s/it]\n"
     ]
    },
    {
     "name": "stdout",
     "output_type": "stream",
     "text": [
      "(1, 1446)\n",
      "36\n",
      "680 回目\n"
     ]
    },
    {
     "name": "stderr",
     "output_type": "stream",
     "text": [
      "100%|██████████████████████████████████████████████████████████████████████████████████████████████████████████████████████████████████████████| 1/1 [00:01<00:00,  1.05s/it]\n"
     ]
    },
    {
     "name": "stdout",
     "output_type": "stream",
     "text": [
      "(1, 1445)\n",
      "36\n",
      "681 回目\n"
     ]
    },
    {
     "name": "stderr",
     "output_type": "stream",
     "text": [
      "100%|██████████████████████████████████████████████████████████████████████████████████████████████████████████████████████████████████████████| 1/1 [00:01<00:00,  1.34s/it]\n"
     ]
    },
    {
     "name": "stdout",
     "output_type": "stream",
     "text": [
      "(1, 1446)\n",
      "36\n",
      "682 回目\n"
     ]
    },
    {
     "name": "stderr",
     "output_type": "stream",
     "text": [
      "100%|██████████████████████████████████████████████████████████████████████████████████████████████████████████████████████████████████████████| 1/1 [00:01<00:00,  1.52s/it]\n"
     ]
    },
    {
     "name": "stdout",
     "output_type": "stream",
     "text": [
      "(1, 1440)\n",
      "36\n",
      "683 回目\n"
     ]
    },
    {
     "name": "stderr",
     "output_type": "stream",
     "text": [
      "100%|██████████████████████████████████████████████████████████████████████████████████████████████████████████████████████████████████████████| 1/1 [00:01<00:00,  1.47s/it]\n"
     ]
    },
    {
     "name": "stdout",
     "output_type": "stream",
     "text": [
      "(1, 1440)\n",
      "36\n",
      "684 回目\n"
     ]
    },
    {
     "name": "stderr",
     "output_type": "stream",
     "text": [
      "100%|██████████████████████████████████████████████████████████████████████████████████████████████████████████████████████████████████████████| 1/1 [00:01<00:00,  1.58s/it]\n"
     ]
    },
    {
     "name": "stdout",
     "output_type": "stream",
     "text": [
      "(1, 1440)\n",
      "36\n",
      "685 回目\n"
     ]
    },
    {
     "name": "stderr",
     "output_type": "stream",
     "text": [
      "100%|██████████████████████████████████████████████████████████████████████████████████████████████████████████████████████████████████████████| 1/1 [00:01<00:00,  1.27s/it]\n"
     ]
    },
    {
     "name": "stdout",
     "output_type": "stream",
     "text": [
      "(1, 1390)\n",
      "36\n",
      "686 回目\n"
     ]
    },
    {
     "name": "stderr",
     "output_type": "stream",
     "text": [
      "100%|██████████████████████████████████████████████████████████████████████████████████████████████████████████████████████████████████████████| 1/1 [00:01<00:00,  1.27s/it]\n"
     ]
    },
    {
     "name": "stdout",
     "output_type": "stream",
     "text": [
      "(1, 1394)\n",
      "36\n",
      "687 回目\n"
     ]
    },
    {
     "name": "stderr",
     "output_type": "stream",
     "text": [
      "100%|██████████████████████████████████████████████████████████████████████████████████████████████████████████████████████████████████████████| 1/1 [00:01<00:00,  1.37s/it]\n"
     ]
    },
    {
     "name": "stdout",
     "output_type": "stream",
     "text": [
      "(1, 1393)\n",
      "36\n",
      "688 回目\n"
     ]
    },
    {
     "name": "stderr",
     "output_type": "stream",
     "text": [
      "100%|██████████████████████████████████████████████████████████████████████████████████████████████████████████████████████████████████████████| 1/1 [00:02<00:00,  2.36s/it]\n"
     ]
    },
    {
     "name": "stdout",
     "output_type": "stream",
     "text": [
      "(1, 1444)\n",
      "36\n",
      "689 回目\n"
     ]
    },
    {
     "name": "stderr",
     "output_type": "stream",
     "text": [
      "100%|██████████████████████████████████████████████████████████████████████████████████████████████████████████████████████████████████████████| 1/1 [00:01<00:00,  1.34s/it]\n"
     ]
    },
    {
     "name": "stdout",
     "output_type": "stream",
     "text": [
      "(1, 1237)\n",
      "36\n",
      "690 回目\n"
     ]
    },
    {
     "name": "stderr",
     "output_type": "stream",
     "text": [
      "100%|██████████████████████████████████████████████████████████████████████████████████████████████████████████████████████████████████████████| 1/1 [00:01<00:00,  1.47s/it]\n"
     ]
    },
    {
     "name": "stdout",
     "output_type": "stream",
     "text": [
      "(1, 1177)\n",
      "\"['ATS1s_SMILES', 'GATS4s_SMILES'] not in index\"\n",
      "691 回目\n"
     ]
    },
    {
     "name": "stderr",
     "output_type": "stream",
     "text": [
      "100%|██████████████████████████████████████████████████████████████████████████████████████████████████████████████████████████████████████████| 1/1 [00:01<00:00,  1.36s/it]\n"
     ]
    },
    {
     "name": "stdout",
     "output_type": "stream",
     "text": [
      "(1, 1449)\n",
      "37\n",
      "692 回目\n"
     ]
    },
    {
     "name": "stderr",
     "output_type": "stream",
     "text": [
      "100%|██████████████████████████████████████████████████████████████████████████████████████████████████████████████████████████████████████████| 1/1 [00:01<00:00,  1.09s/it]\n"
     ]
    },
    {
     "name": "stdout",
     "output_type": "stream",
     "text": [
      "(1, 1395)\n",
      "37\n",
      "693 回目\n"
     ]
    },
    {
     "name": "stderr",
     "output_type": "stream",
     "text": [
      "100%|██████████████████████████████████████████████████████████████████████████████████████████████████████████████████████████████████████████| 1/1 [00:01<00:00,  1.27s/it]\n"
     ]
    },
    {
     "name": "stdout",
     "output_type": "stream",
     "text": [
      "(1, 1444)\n",
      "37\n",
      "694 回目\n"
     ]
    },
    {
     "name": "stderr",
     "output_type": "stream",
     "text": [
      "100%|██████████████████████████████████████████████████████████████████████████████████████████████████████████████████████████████████████████| 1/1 [00:01<00:00,  1.12s/it]\n"
     ]
    },
    {
     "name": "stdout",
     "output_type": "stream",
     "text": [
      "(1, 1394)\n",
      "37\n",
      "695 回目\n"
     ]
    },
    {
     "name": "stderr",
     "output_type": "stream",
     "text": [
      "100%|██████████████████████████████████████████████████████████████████████████████████████████████████████████████████████████████████████████| 1/1 [00:01<00:00,  1.19s/it]\n"
     ]
    },
    {
     "name": "stdout",
     "output_type": "stream",
     "text": [
      "(1, 1445)\n",
      "37\n",
      "696 回目\n"
     ]
    },
    {
     "name": "stderr",
     "output_type": "stream",
     "text": [
      "100%|██████████████████████████████████████████████████████████████████████████████████████████████████████████████████████████████████████████| 1/1 [00:01<00:00,  1.12s/it]\n"
     ]
    },
    {
     "name": "stdout",
     "output_type": "stream",
     "text": [
      "(1, 1395)\n",
      "37\n",
      "697 回目\n"
     ]
    },
    {
     "name": "stderr",
     "output_type": "stream",
     "text": [
      "100%|██████████████████████████████████████████████████████████████████████████████████████████████████████████████████████████████████████████| 1/1 [00:01<00:00,  1.03s/it]\n"
     ]
    },
    {
     "name": "stdout",
     "output_type": "stream",
     "text": [
      "(1, 1395)\n",
      "37\n",
      "698 回目\n"
     ]
    },
    {
     "name": "stderr",
     "output_type": "stream",
     "text": [
      "100%|██████████████████████████████████████████████████████████████████████████████████████████████████████████████████████████████████████████| 1/1 [00:01<00:00,  1.15s/it]\n"
     ]
    },
    {
     "name": "stdout",
     "output_type": "stream",
     "text": [
      "(1, 1445)\n",
      "37\n",
      "699 回目\n"
     ]
    },
    {
     "name": "stderr",
     "output_type": "stream",
     "text": [
      "100%|██████████████████████████████████████████████████████████████████████████████████████████████████████████████████████████████████████████| 1/1 [00:01<00:00,  1.46s/it]\n"
     ]
    },
    {
     "name": "stdout",
     "output_type": "stream",
     "text": [
      "(1, 1443)\n",
      "37\n",
      "700 回目\n"
     ]
    },
    {
     "name": "stderr",
     "output_type": "stream",
     "text": [
      "100%|██████████████████████████████████████████████████████████████████████████████████████████████████████████████████████████████████████████| 1/1 [00:01<00:00,  1.34s/it]\n"
     ]
    },
    {
     "name": "stdout",
     "output_type": "stream",
     "text": [
      "(1, 1446)\n",
      "37\n",
      "701 回目\n"
     ]
    },
    {
     "name": "stderr",
     "output_type": "stream",
     "text": [
      "100%|██████████████████████████████████████████████████████████████████████████████████████████████████████████████████████████████████████████| 1/1 [00:01<00:00,  1.34s/it]\n"
     ]
    },
    {
     "name": "stdout",
     "output_type": "stream",
     "text": [
      "(1, 1440)\n",
      "37\n",
      "702 回目\n"
     ]
    },
    {
     "name": "stderr",
     "output_type": "stream",
     "text": [
      "100%|██████████████████████████████████████████████████████████████████████████████████████████████████████████████████████████████████████████| 1/1 [00:01<00:00,  1.70s/it]\n"
     ]
    },
    {
     "name": "stdout",
     "output_type": "stream",
     "text": [
      "(1, 1442)\n",
      "37\n",
      "703 回目\n"
     ]
    },
    {
     "name": "stderr",
     "output_type": "stream",
     "text": [
      "100%|██████████████████████████████████████████████████████████████████████████████████████████████████████████████████████████████████████████| 1/1 [00:01<00:00,  1.55s/it]\n"
     ]
    },
    {
     "name": "stdout",
     "output_type": "stream",
     "text": [
      "(1, 1440)\n",
      "37\n",
      "704 回目\n"
     ]
    },
    {
     "name": "stderr",
     "output_type": "stream",
     "text": [
      "100%|██████████████████████████████████████████████████████████████████████████████████████████████████████████████████████████████████████████| 1/1 [00:01<00:00,  1.21s/it]\n"
     ]
    },
    {
     "name": "stdout",
     "output_type": "stream",
     "text": [
      "(1, 1450)\n",
      "37\n",
      "705 回目\n"
     ]
    },
    {
     "name": "stderr",
     "output_type": "stream",
     "text": [
      "100%|██████████████████████████████████████████████████████████████████████████████████████████████████████████████████████████████████████████| 1/1 [00:01<00:00,  1.12s/it]\n"
     ]
    },
    {
     "name": "stdout",
     "output_type": "stream",
     "text": [
      "(1, 1444)\n",
      "37\n",
      "706 回目\n"
     ]
    },
    {
     "name": "stderr",
     "output_type": "stream",
     "text": [
      "100%|██████████████████████████████████████████████████████████████████████████████████████████████████████████████████████████████████████████| 1/1 [00:01<00:00,  1.23s/it]\n"
     ]
    },
    {
     "name": "stdout",
     "output_type": "stream",
     "text": [
      "(1, 1445)\n",
      "37\n",
      "707 回目\n"
     ]
    },
    {
     "name": "stderr",
     "output_type": "stream",
     "text": [
      "100%|██████████████████████████████████████████████████████████████████████████████████████████████████████████████████████████████████████████| 1/1 [00:01<00:00,  1.30s/it]\n"
     ]
    },
    {
     "name": "stdout",
     "output_type": "stream",
     "text": [
      "(1, 1445)\n",
      "37\n",
      "708 回目\n"
     ]
    },
    {
     "name": "stderr",
     "output_type": "stream",
     "text": [
      "100%|██████████████████████████████████████████████████████████████████████████████████████████████████████████████████████████████████████████| 1/1 [00:01<00:00,  1.57s/it]\n"
     ]
    },
    {
     "name": "stdout",
     "output_type": "stream",
     "text": [
      "(1, 1395)\n",
      "37\n",
      "709 回目\n"
     ]
    },
    {
     "name": "stderr",
     "output_type": "stream",
     "text": [
      "100%|██████████████████████████████████████████████████████████████████████████████████████████████████████████████████████████████████████████| 1/1 [00:01<00:00,  1.18s/it]\n"
     ]
    },
    {
     "name": "stdout",
     "output_type": "stream",
     "text": [
      "(1, 1441)\n",
      "37\n",
      "710 回目\n"
     ]
    },
    {
     "name": "stderr",
     "output_type": "stream",
     "text": [
      "100%|██████████████████████████████████████████████████████████████████████████████████████████████████████████████████████████████████████████| 1/1 [00:01<00:00,  1.16s/it]\n"
     ]
    },
    {
     "name": "stdout",
     "output_type": "stream",
     "text": [
      "(1, 1395)\n",
      "37\n",
      "711 回目\n"
     ]
    },
    {
     "name": "stderr",
     "output_type": "stream",
     "text": [
      "100%|██████████████████████████████████████████████████████████████████████████████████████████████████████████████████████████████████████████| 1/1 [00:01<00:00,  1.07s/it]\n"
     ]
    },
    {
     "name": "stdout",
     "output_type": "stream",
     "text": [
      "(1, 1450)\n",
      "37\n",
      "712 回目\n"
     ]
    },
    {
     "name": "stderr",
     "output_type": "stream",
     "text": [
      "100%|██████████████████████████████████████████████████████████████████████████████████████████████████████████████████████████████████████████| 1/1 [00:01<00:00,  1.06s/it]\n"
     ]
    },
    {
     "name": "stdout",
     "output_type": "stream",
     "text": [
      "(1, 1445)\n",
      "37\n",
      "713 回目\n"
     ]
    },
    {
     "name": "stderr",
     "output_type": "stream",
     "text": [
      "100%|██████████████████████████████████████████████████████████████████████████████████████████████████████████████████████████████████████████| 1/1 [00:01<00:00,  1.22s/it]\n"
     ]
    },
    {
     "name": "stdout",
     "output_type": "stream",
     "text": [
      "(1, 1445)\n",
      "37\n",
      "714 回目\n"
     ]
    },
    {
     "name": "stderr",
     "output_type": "stream",
     "text": [
      "100%|██████████████████████████████████████████████████████████████████████████████████████████████████████████████████████████████████████████| 1/1 [00:01<00:00,  1.22s/it]\n"
     ]
    },
    {
     "name": "stdout",
     "output_type": "stream",
     "text": [
      "(1, 1445)\n",
      "37\n",
      "715 回目\n"
     ]
    },
    {
     "name": "stderr",
     "output_type": "stream",
     "text": [
      "100%|██████████████████████████████████████████████████████████████████████████████████████████████████████████████████████████████████████████| 1/1 [00:00<00:00,  1.16it/s]\n"
     ]
    },
    {
     "name": "stdout",
     "output_type": "stream",
     "text": [
      "(1, 1176)\n",
      "\"['ATS1s_SMILES', 'GATS4s_SMILES'] not in index\"\n",
      "716 回目\n"
     ]
    },
    {
     "name": "stderr",
     "output_type": "stream",
     "text": [
      "100%|██████████████████████████████████████████████████████████████████████████████████████████████████████████████████████████████████████████| 1/1 [00:01<00:00,  1.04s/it]\n"
     ]
    },
    {
     "name": "stdout",
     "output_type": "stream",
     "text": [
      "(1, 1446)\n",
      "38\n",
      "717 回目\n"
     ]
    },
    {
     "name": "stderr",
     "output_type": "stream",
     "text": [
      "100%|██████████████████████████████████████████████████████████████████████████████████████████████████████████████████████████████████████████| 1/1 [00:01<00:00,  1.09s/it]\n"
     ]
    },
    {
     "name": "stdout",
     "output_type": "stream",
     "text": [
      "(1, 1447)\n",
      "38\n",
      "718 回目\n"
     ]
    },
    {
     "name": "stderr",
     "output_type": "stream",
     "text": [
      "100%|██████████████████████████████████████████████████████████████████████████████████████████████████████████████████████████████████████████| 1/1 [00:01<00:00,  1.40s/it]\n"
     ]
    },
    {
     "name": "stdout",
     "output_type": "stream",
     "text": [
      "(1, 1446)\n",
      "38\n",
      "719 回目\n"
     ]
    },
    {
     "name": "stderr",
     "output_type": "stream",
     "text": [
      "100%|██████████████████████████████████████████████████████████████████████████████████████████████████████████████████████████████████████████| 1/1 [00:01<00:00,  1.33s/it]\n"
     ]
    },
    {
     "name": "stdout",
     "output_type": "stream",
     "text": [
      "(1, 1441)\n",
      "38\n",
      "720 回目\n"
     ]
    },
    {
     "name": "stderr",
     "output_type": "stream",
     "text": [
      "100%|██████████████████████████████████████████████████████████████████████████████████████████████████████████████████████████████████████████| 1/1 [00:01<00:00,  1.10s/it]\n"
     ]
    },
    {
     "name": "stdout",
     "output_type": "stream",
     "text": [
      "(1, 1396)\n",
      "38\n",
      "721 回目\n"
     ]
    },
    {
     "name": "stderr",
     "output_type": "stream",
     "text": [
      "100%|██████████████████████████████████████████████████████████████████████████████████████████████████████████████████████████████████████████| 1/1 [00:01<00:00,  1.18s/it]\n"
     ]
    },
    {
     "name": "stdout",
     "output_type": "stream",
     "text": [
      "(1, 1395)\n",
      "38\n",
      "722 回目\n"
     ]
    },
    {
     "name": "stderr",
     "output_type": "stream",
     "text": [
      "100%|██████████████████████████████████████████████████████████████████████████████████████████████████████████████████████████████████████████| 1/1 [00:01<00:00,  1.06s/it]\n"
     ]
    },
    {
     "name": "stdout",
     "output_type": "stream",
     "text": [
      "(1, 1443)\n",
      "38\n",
      "723 回目\n"
     ]
    },
    {
     "name": "stderr",
     "output_type": "stream",
     "text": [
      "100%|██████████████████████████████████████████████████████████████████████████████████████████████████████████████████████████████████████████| 1/1 [00:01<00:00,  1.02s/it]\n"
     ]
    },
    {
     "name": "stdout",
     "output_type": "stream",
     "text": [
      "(1, 1450)\n",
      "38\n",
      "724 回目\n"
     ]
    },
    {
     "name": "stderr",
     "output_type": "stream",
     "text": [
      "100%|██████████████████████████████████████████████████████████████████████████████████████████████████████████████████████████████████████████| 1/1 [00:01<00:00,  1.19s/it]\n"
     ]
    },
    {
     "name": "stdout",
     "output_type": "stream",
     "text": [
      "(1, 1394)\n",
      "38\n",
      "725 回目\n"
     ]
    },
    {
     "name": "stderr",
     "output_type": "stream",
     "text": [
      "100%|██████████████████████████████████████████████████████████████████████████████████████████████████████████████████████████████████████████| 1/1 [00:01<00:00,  1.57s/it]\n"
     ]
    },
    {
     "name": "stdout",
     "output_type": "stream",
     "text": [
      "(1, 1443)\n",
      "38\n",
      "726 回目\n"
     ]
    },
    {
     "name": "stderr",
     "output_type": "stream",
     "text": [
      "100%|██████████████████████████████████████████████████████████████████████████████████████████████████████████████████████████████████████████| 1/1 [00:06<00:00,  6.22s/it]\n"
     ]
    },
    {
     "name": "stdout",
     "output_type": "stream",
     "text": [
      "(1, 1393)\n",
      "38\n",
      "727 回目\n"
     ]
    },
    {
     "name": "stderr",
     "output_type": "stream",
     "text": [
      "100%|██████████████████████████████████████████████████████████████████████████████████████████████████████████████████████████████████████████| 1/1 [00:01<00:00,  1.18s/it]\n"
     ]
    },
    {
     "name": "stdout",
     "output_type": "stream",
     "text": [
      "(1, 1440)\n",
      "38\n",
      "728 回目\n"
     ]
    },
    {
     "name": "stderr",
     "output_type": "stream",
     "text": [
      "100%|██████████████████████████████████████████████████████████████████████████████████████████████████████████████████████████████████████████| 1/1 [00:01<00:00,  1.03s/it]\n"
     ]
    },
    {
     "name": "stdout",
     "output_type": "stream",
     "text": [
      "(1, 1236)\n",
      "38\n",
      "729 回目\n"
     ]
    },
    {
     "name": "stderr",
     "output_type": "stream",
     "text": [
      "100%|██████████████████████████████████████████████████████████████████████████████████████████████████████████████████████████████████████████| 1/1 [00:00<00:00,  1.06it/s]\n"
     ]
    },
    {
     "name": "stdout",
     "output_type": "stream",
     "text": [
      "(1, 1176)\n",
      "\"['ATS1s_SMILES', 'GATS4s_SMILES'] not in index\"\n",
      "730 回目\n"
     ]
    },
    {
     "name": "stderr",
     "output_type": "stream",
     "text": [
      "100%|██████████████████████████████████████████████████████████████████████████████████████████████████████████████████████████████████████████| 1/1 [00:01<00:00,  1.06s/it]\n"
     ]
    },
    {
     "name": "stdout",
     "output_type": "stream",
     "text": [
      "(1, 1395)\n",
      "39\n",
      "731 回目\n"
     ]
    },
    {
     "name": "stderr",
     "output_type": "stream",
     "text": [
      "100%|██████████████████████████████████████████████████████████████████████████████████████████████████████████████████████████████████████████| 1/1 [00:02<00:00,  2.40s/it]\n"
     ]
    },
    {
     "name": "stdout",
     "output_type": "stream",
     "text": [
      "(1, 1445)\n",
      "39\n",
      "732 回目\n"
     ]
    },
    {
     "name": "stderr",
     "output_type": "stream",
     "text": [
      "100%|██████████████████████████████████████████████████████████████████████████████████████████████████████████████████████████████████████████| 1/1 [00:01<00:00,  1.39s/it]\n"
     ]
    },
    {
     "name": "stdout",
     "output_type": "stream",
     "text": [
      "(1, 1395)\n",
      "39\n",
      "733 回目\n"
     ]
    },
    {
     "name": "stderr",
     "output_type": "stream",
     "text": [
      "100%|██████████████████████████████████████████████████████████████████████████████████████████████████████████████████████████████████████████| 1/1 [00:01<00:00,  1.02s/it]\n"
     ]
    },
    {
     "name": "stdout",
     "output_type": "stream",
     "text": [
      "(1, 1395)\n",
      "39\n",
      "734 回目\n"
     ]
    },
    {
     "name": "stderr",
     "output_type": "stream",
     "text": [
      "100%|██████████████████████████████████████████████████████████████████████████████████████████████████████████████████████████████████████████| 1/1 [00:01<00:00,  1.36s/it]\n"
     ]
    },
    {
     "name": "stdout",
     "output_type": "stream",
     "text": [
      "(1, 1440)\n",
      "39\n",
      "735 回目\n"
     ]
    },
    {
     "name": "stderr",
     "output_type": "stream",
     "text": [
      "100%|██████████████████████████████████████████████████████████████████████████████████████████████████████████████████████████████████████████| 1/1 [00:01<00:00,  1.14s/it]\n"
     ]
    },
    {
     "name": "stdout",
     "output_type": "stream",
     "text": [
      "(1, 1440)\n",
      "39\n",
      "736 回目\n"
     ]
    },
    {
     "name": "stderr",
     "output_type": "stream",
     "text": [
      "100%|██████████████████████████████████████████████████████████████████████████████████████████████████████████████████████████████████████████| 1/1 [00:01<00:00,  1.54s/it]\n"
     ]
    },
    {
     "name": "stdout",
     "output_type": "stream",
     "text": [
      "(1, 1397)\n",
      "39\n",
      "737 回目\n"
     ]
    },
    {
     "name": "stderr",
     "output_type": "stream",
     "text": [
      "100%|██████████████████████████████████████████████████████████████████████████████████████████████████████████████████████████████████████████| 1/1 [00:02<00:00,  2.67s/it]\n"
     ]
    },
    {
     "name": "stdout",
     "output_type": "stream",
     "text": [
      "(1, 1443)\n",
      "39\n",
      "738 回目\n"
     ]
    },
    {
     "name": "stderr",
     "output_type": "stream",
     "text": [
      "100%|██████████████████████████████████████████████████████████████████████████████████████████████████████████████████████████████████████████| 1/1 [00:01<00:00,  1.14s/it]\n"
     ]
    },
    {
     "name": "stdout",
     "output_type": "stream",
     "text": [
      "(1, 1443)\n",
      "39\n",
      "739 回目\n"
     ]
    },
    {
     "name": "stderr",
     "output_type": "stream",
     "text": [
      "100%|██████████████████████████████████████████████████████████████████████████████████████████████████████████████████████████████████████████| 1/1 [00:01<00:00,  1.35s/it]\n"
     ]
    },
    {
     "name": "stdout",
     "output_type": "stream",
     "text": [
      "(1, 1446)\n",
      "39\n",
      "740 回目\n"
     ]
    },
    {
     "name": "stderr",
     "output_type": "stream",
     "text": [
      "100%|██████████████████████████████████████████████████████████████████████████████████████████████████████████████████████████████████████████| 1/1 [00:01<00:00,  1.28s/it]\n"
     ]
    },
    {
     "name": "stdout",
     "output_type": "stream",
     "text": [
      "(1, 1396)\n",
      "39\n",
      "741 回目\n"
     ]
    },
    {
     "name": "stderr",
     "output_type": "stream",
     "text": [
      "100%|██████████████████████████████████████████████████████████████████████████████████████████████████████████████████████████████████████████| 1/1 [00:01<00:00,  1.17s/it]\n"
     ]
    },
    {
     "name": "stdout",
     "output_type": "stream",
     "text": [
      "(1, 1442)\n",
      "39\n",
      "742 回目\n"
     ]
    },
    {
     "name": "stderr",
     "output_type": "stream",
     "text": [
      "100%|██████████████████████████████████████████████████████████████████████████████████████████████████████████████████████████████████████████| 1/1 [00:01<00:00,  1.90s/it]\n"
     ]
    },
    {
     "name": "stdout",
     "output_type": "stream",
     "text": [
      "(1, 1395)\n",
      "39\n",
      "743 回目\n"
     ]
    },
    {
     "name": "stderr",
     "output_type": "stream",
     "text": [
      "100%|██████████████████████████████████████████████████████████████████████████████████████████████████████████████████████████████████████████| 1/1 [00:01<00:00,  1.51s/it]\n"
     ]
    },
    {
     "name": "stdout",
     "output_type": "stream",
     "text": [
      "(1, 1395)\n",
      "39\n",
      "744 回目\n"
     ]
    },
    {
     "name": "stderr",
     "output_type": "stream",
     "text": [
      "100%|██████████████████████████████████████████████████████████████████████████████████████████████████████████████████████████████████████████| 1/1 [00:01<00:00,  1.17s/it]\n"
     ]
    },
    {
     "name": "stdout",
     "output_type": "stream",
     "text": [
      "(1, 1395)\n",
      "39\n",
      "745 回目\n"
     ]
    },
    {
     "name": "stderr",
     "output_type": "stream",
     "text": [
      "100%|██████████████████████████████████████████████████████████████████████████████████████████████████████████████████████████████████████████| 1/1 [00:01<00:00,  1.88s/it]\n"
     ]
    },
    {
     "name": "stdout",
     "output_type": "stream",
     "text": [
      "(1, 1442)\n",
      "39\n",
      "746 回目\n"
     ]
    },
    {
     "name": "stderr",
     "output_type": "stream",
     "text": [
      "100%|██████████████████████████████████████████████████████████████████████████████████████████████████████████████████████████████████████████| 1/1 [00:01<00:00,  1.17s/it]\n"
     ]
    },
    {
     "name": "stdout",
     "output_type": "stream",
     "text": [
      "(1, 1395)\n",
      "39\n",
      "747 回目\n"
     ]
    },
    {
     "name": "stderr",
     "output_type": "stream",
     "text": [
      "100%|██████████████████████████████████████████████████████████████████████████████████████████████████████████████████████████████████████████| 1/1 [00:01<00:00,  1.06s/it]\n"
     ]
    },
    {
     "name": "stdout",
     "output_type": "stream",
     "text": [
      "(1, 1345)\n",
      "39\n",
      "748 回目\n"
     ]
    },
    {
     "name": "stderr",
     "output_type": "stream",
     "text": [
      "100%|██████████████████████████████████████████████████████████████████████████████████████████████████████████████████████████████████████████| 1/1 [00:01<00:00,  1.05s/it]\n"
     ]
    },
    {
     "name": "stdout",
     "output_type": "stream",
     "text": [
      "(1, 1395)\n",
      "39\n",
      "749 回目\n"
     ]
    },
    {
     "name": "stderr",
     "output_type": "stream",
     "text": [
      "100%|██████████████████████████████████████████████████████████████████████████████████████████████████████████████████████████████████████████| 1/1 [00:01<00:00,  1.13s/it]\n"
     ]
    },
    {
     "name": "stdout",
     "output_type": "stream",
     "text": [
      "(1, 1442)\n",
      "39\n",
      "750 回目\n"
     ]
    },
    {
     "name": "stderr",
     "output_type": "stream",
     "text": [
      "100%|██████████████████████████████████████████████████████████████████████████████████████████████████████████████████████████████████████████| 1/1 [00:05<00:00,  5.45s/it]\n"
     ]
    },
    {
     "name": "stdout",
     "output_type": "stream",
     "text": [
      "(1, 1435)\n",
      "39\n",
      "751 回目\n"
     ]
    },
    {
     "name": "stderr",
     "output_type": "stream",
     "text": [
      "100%|██████████████████████████████████████████████████████████████████████████████████████████████████████████████████████████████████████████| 1/1 [00:01<00:00,  1.99s/it]\n"
     ]
    },
    {
     "name": "stdout",
     "output_type": "stream",
     "text": [
      "(1, 1436)\n",
      "39\n",
      "752 回目\n"
     ]
    },
    {
     "name": "stderr",
     "output_type": "stream",
     "text": [
      "100%|██████████████████████████████████████████████████████████████████████████████████████████████████████████████████████████████████████████| 1/1 [00:01<00:00,  1.96s/it]\n"
     ]
    },
    {
     "name": "stdout",
     "output_type": "stream",
     "text": [
      "(1, 1444)\n",
      "39\n",
      "753 回目\n"
     ]
    },
    {
     "name": "stderr",
     "output_type": "stream",
     "text": [
      "100%|██████████████████████████████████████████████████████████████████████████████████████████████████████████████████████████████████████████| 1/1 [00:03<00:00,  3.89s/it]\n"
     ]
    },
    {
     "name": "stdout",
     "output_type": "stream",
     "text": [
      "(1, 1446)\n",
      "39\n",
      "754 回目\n"
     ]
    },
    {
     "name": "stderr",
     "output_type": "stream",
     "text": [
      "100%|██████████████████████████████████████████████████████████████████████████████████████████████████████████████████████████████████████████| 1/1 [00:01<00:00,  1.89s/it]\n"
     ]
    },
    {
     "name": "stdout",
     "output_type": "stream",
     "text": [
      "(1, 1395)\n",
      "39\n",
      "755 回目\n"
     ]
    },
    {
     "name": "stderr",
     "output_type": "stream",
     "text": [
      "100%|██████████████████████████████████████████████████████████████████████████████████████████████████████████████████████████████████████████| 1/1 [00:01<00:00,  1.36s/it]\n"
     ]
    },
    {
     "name": "stdout",
     "output_type": "stream",
     "text": [
      "(1, 1445)\n",
      "39\n",
      "756 回目\n"
     ]
    },
    {
     "name": "stderr",
     "output_type": "stream",
     "text": [
      "100%|██████████████████████████████████████████████████████████████████████████████████████████████████████████████████████████████████████████| 1/1 [00:01<00:00,  1.43s/it]\n"
     ]
    },
    {
     "name": "stdout",
     "output_type": "stream",
     "text": [
      "(1, 1393)\n",
      "39\n",
      "757 回目\n"
     ]
    },
    {
     "name": "stderr",
     "output_type": "stream",
     "text": [
      "100%|██████████████████████████████████████████████████████████████████████████████████████████████████████████████████████████████████████████| 1/1 [00:01<00:00,  1.09s/it]\n"
     ]
    },
    {
     "name": "stdout",
     "output_type": "stream",
     "text": [
      "(1, 1446)\n",
      "39\n",
      "758 回目\n"
     ]
    },
    {
     "name": "stderr",
     "output_type": "stream",
     "text": [
      "100%|██████████████████████████████████████████████████████████████████████████████████████████████████████████████████████████████████████████| 1/1 [00:01<00:00,  1.46s/it]\n"
     ]
    },
    {
     "name": "stdout",
     "output_type": "stream",
     "text": [
      "(1, 1448)\n",
      "39\n",
      "759 回目\n"
     ]
    },
    {
     "name": "stderr",
     "output_type": "stream",
     "text": [
      "100%|██████████████████████████████████████████████████████████████████████████████████████████████████████████████████████████████████████████| 1/1 [00:01<00:00,  1.32s/it]\n"
     ]
    },
    {
     "name": "stdout",
     "output_type": "stream",
     "text": [
      "(1, 1446)\n",
      "39\n",
      "760 回目\n"
     ]
    },
    {
     "name": "stderr",
     "output_type": "stream",
     "text": [
      "100%|██████████████████████████████████████████████████████████████████████████████████████████████████████████████████████████████████████████| 1/1 [00:01<00:00,  1.64s/it]\n"
     ]
    },
    {
     "name": "stdout",
     "output_type": "stream",
     "text": [
      "(1, 1446)\n",
      "39\n",
      "761 回目\n"
     ]
    },
    {
     "name": "stderr",
     "output_type": "stream",
     "text": [
      "100%|██████████████████████████████████████████████████████████████████████████████████████████████████████████████████████████████████████████| 1/1 [00:01<00:00,  1.06s/it]\n"
     ]
    },
    {
     "name": "stdout",
     "output_type": "stream",
     "text": [
      "(1, 1442)\n",
      "39\n",
      "762 回目\n"
     ]
    },
    {
     "name": "stderr",
     "output_type": "stream",
     "text": [
      "100%|██████████████████████████████████████████████████████████████████████████████████████████████████████████████████████████████████████████| 1/1 [00:01<00:00,  1.00s/it]\n"
     ]
    },
    {
     "name": "stdout",
     "output_type": "stream",
     "text": [
      "(1, 1395)\n",
      "39\n",
      "763 回目\n"
     ]
    },
    {
     "name": "stderr",
     "output_type": "stream",
     "text": [
      "100%|██████████████████████████████████████████████████████████████████████████████████████████████████████████████████████████████████████████| 1/1 [00:01<00:00,  1.10s/it]\n"
     ]
    },
    {
     "name": "stdout",
     "output_type": "stream",
     "text": [
      "(1, 1445)\n",
      "39\n",
      "764 回目\n"
     ]
    },
    {
     "name": "stderr",
     "output_type": "stream",
     "text": [
      "100%|██████████████████████████████████████████████████████████████████████████████████████████████████████████████████████████████████████████| 1/1 [00:01<00:00,  1.14s/it]\n"
     ]
    },
    {
     "name": "stdout",
     "output_type": "stream",
     "text": [
      "(1, 1393)\n",
      "39\n",
      "765 回目\n"
     ]
    },
    {
     "name": "stderr",
     "output_type": "stream",
     "text": [
      "100%|██████████████████████████████████████████████████████████████████████████████████████████████████████████████████████████████████████████| 1/1 [00:01<00:00,  1.49s/it]\n"
     ]
    },
    {
     "name": "stdout",
     "output_type": "stream",
     "text": [
      "(1, 1442)\n",
      "39\n",
      "766 回目\n"
     ]
    },
    {
     "name": "stderr",
     "output_type": "stream",
     "text": [
      "100%|██████████████████████████████████████████████████████████████████████████████████████████████████████████████████████████████████████████| 1/1 [00:01<00:00,  1.15s/it]\n"
     ]
    },
    {
     "name": "stdout",
     "output_type": "stream",
     "text": [
      "(1, 1442)\n",
      "39\n",
      "767 回目\n"
     ]
    },
    {
     "name": "stderr",
     "output_type": "stream",
     "text": [
      "100%|██████████████████████████████████████████████████████████████████████████████████████████████████████████████████████████████████████████| 1/1 [00:01<00:00,  1.31s/it]\n"
     ]
    },
    {
     "name": "stdout",
     "output_type": "stream",
     "text": [
      "(1, 1445)\n",
      "39\n",
      "768 回目\n"
     ]
    },
    {
     "name": "stderr",
     "output_type": "stream",
     "text": [
      "100%|██████████████████████████████████████████████████████████████████████████████████████████████████████████████████████████████████████████| 1/1 [00:02<00:00,  2.29s/it]\n"
     ]
    },
    {
     "name": "stdout",
     "output_type": "stream",
     "text": [
      "(1, 1440)\n",
      "39\n",
      "769 回目\n"
     ]
    },
    {
     "name": "stderr",
     "output_type": "stream",
     "text": [
      "100%|██████████████████████████████████████████████████████████████████████████████████████████████████████████████████████████████████████████| 1/1 [00:01<00:00,  1.93s/it]\n"
     ]
    },
    {
     "name": "stdout",
     "output_type": "stream",
     "text": [
      "(1, 1176)\n",
      "\"['ATS1s_SMILES', 'GATS4s_SMILES'] not in index\"\n",
      "770 回目\n"
     ]
    },
    {
     "name": "stderr",
     "output_type": "stream",
     "text": [
      "100%|██████████████████████████████████████████████████████████████████████████████████████████████████████████████████████████████████████████| 1/1 [00:01<00:00,  1.24s/it]\n"
     ]
    },
    {
     "name": "stdout",
     "output_type": "stream",
     "text": [
      "(1, 1446)\n",
      "40\n",
      "771 回目\n"
     ]
    },
    {
     "name": "stderr",
     "output_type": "stream",
     "text": [
      "100%|██████████████████████████████████████████████████████████████████████████████████████████████████████████████████████████████████████████| 1/1 [00:01<00:00,  1.19s/it]\n"
     ]
    },
    {
     "name": "stdout",
     "output_type": "stream",
     "text": [
      "(1, 1394)\n",
      "40\n",
      "772 回目\n"
     ]
    },
    {
     "name": "stderr",
     "output_type": "stream",
     "text": [
      "100%|██████████████████████████████████████████████████████████████████████████████████████████████████████████████████████████████████████████| 1/1 [00:01<00:00,  1.21s/it]\n"
     ]
    },
    {
     "name": "stdout",
     "output_type": "stream",
     "text": [
      "(1, 1395)\n",
      "40\n",
      "773 回目\n"
     ]
    },
    {
     "name": "stderr",
     "output_type": "stream",
     "text": [
      "100%|██████████████████████████████████████████████████████████████████████████████████████████████████████████████████████████████████████████| 1/1 [00:01<00:00,  1.79s/it]\n"
     ]
    },
    {
     "name": "stdout",
     "output_type": "stream",
     "text": [
      "(1, 1442)\n",
      "40\n",
      "774 回目\n"
     ]
    },
    {
     "name": "stderr",
     "output_type": "stream",
     "text": [
      "100%|██████████████████████████████████████████████████████████████████████████████████████████████████████████████████████████████████████████| 1/1 [00:01<00:00,  1.23s/it]\n"
     ]
    },
    {
     "name": "stdout",
     "output_type": "stream",
     "text": [
      "(1, 1441)\n",
      "40\n",
      "775 回目\n"
     ]
    },
    {
     "name": "stderr",
     "output_type": "stream",
     "text": [
      "100%|██████████████████████████████████████████████████████████████████████████████████████████████████████████████████████████████████████████| 1/1 [00:01<00:00,  1.11s/it]\n"
     ]
    },
    {
     "name": "stdout",
     "output_type": "stream",
     "text": [
      "(1, 1395)\n",
      "40\n",
      "776 回目\n"
     ]
    },
    {
     "name": "stderr",
     "output_type": "stream",
     "text": [
      "100%|██████████████████████████████████████████████████████████████████████████████████████████████████████████████████████████████████████████| 1/1 [00:01<00:00,  1.13s/it]\n"
     ]
    },
    {
     "name": "stdout",
     "output_type": "stream",
     "text": [
      "(1, 1450)\n",
      "40\n",
      "777 回目\n"
     ]
    },
    {
     "name": "stderr",
     "output_type": "stream",
     "text": [
      "100%|██████████████████████████████████████████████████████████████████████████████████████████████████████████████████████████████████████████| 1/1 [00:01<00:00,  1.57s/it]\n"
     ]
    },
    {
     "name": "stdout",
     "output_type": "stream",
     "text": [
      "(1, 1446)\n",
      "40\n",
      "778 回目\n"
     ]
    },
    {
     "name": "stderr",
     "output_type": "stream",
     "text": [
      "100%|██████████████████████████████████████████████████████████████████████████████████████████████████████████████████████████████████████████| 1/1 [00:01<00:00,  1.00s/it]\n"
     ]
    },
    {
     "name": "stdout",
     "output_type": "stream",
     "text": [
      "(1, 1181)\n",
      "\"['ATS1s_SMILES', 'GATS4s_SMILES'] not in index\"\n",
      "779 回目\n"
     ]
    },
    {
     "name": "stderr",
     "output_type": "stream",
     "text": [
      "100%|██████████████████████████████████████████████████████████████████████████████████████████████████████████████████████████████████████████| 1/1 [00:01<00:00,  1.26s/it]\n"
     ]
    },
    {
     "name": "stdout",
     "output_type": "stream",
     "text": [
      "(1, 1447)\n",
      "41\n",
      "780 回目\n"
     ]
    },
    {
     "name": "stderr",
     "output_type": "stream",
     "text": [
      "100%|██████████████████████████████████████████████████████████████████████████████████████████████████████████████████████████████████████████| 1/1 [00:01<00:00,  1.33s/it]\n"
     ]
    },
    {
     "name": "stdout",
     "output_type": "stream",
     "text": [
      "(1, 1343)\n",
      "41\n",
      "781 回目\n"
     ]
    },
    {
     "name": "stderr",
     "output_type": "stream",
     "text": [
      "100%|██████████████████████████████████████████████████████████████████████████████████████████████████████████████████████████████████████████| 1/1 [00:02<00:00,  2.21s/it]\n"
     ]
    },
    {
     "name": "stdout",
     "output_type": "stream",
     "text": [
      "(1, 1447)\n",
      "41\n",
      "782 回目\n"
     ]
    },
    {
     "name": "stderr",
     "output_type": "stream",
     "text": [
      "100%|██████████████████████████████████████████████████████████████████████████████████████████████████████████████████████████████████████████| 1/1 [00:01<00:00,  1.27s/it]\n"
     ]
    },
    {
     "name": "stdout",
     "output_type": "stream",
     "text": [
      "(1, 1393)\n",
      "41\n",
      "783 回目\n"
     ]
    },
    {
     "name": "stderr",
     "output_type": "stream",
     "text": [
      "100%|██████████████████████████████████████████████████████████████████████████████████████████████████████████████████████████████████████████| 1/1 [00:01<00:00,  1.03s/it]\n"
     ]
    },
    {
     "name": "stdout",
     "output_type": "stream",
     "text": [
      "(1, 1343)\n",
      "41\n",
      "784 回目\n"
     ]
    },
    {
     "name": "stderr",
     "output_type": "stream",
     "text": [
      "100%|██████████████████████████████████████████████████████████████████████████████████████████████████████████████████████████████████████████| 1/1 [00:01<00:00,  1.19s/it]\n"
     ]
    },
    {
     "name": "stdout",
     "output_type": "stream",
     "text": [
      "(1, 1442)\n",
      "41\n",
      "785 回目\n"
     ]
    },
    {
     "name": "stderr",
     "output_type": "stream",
     "text": [
      "100%|██████████████████████████████████████████████████████████████████████████████████████████████████████████████████████████████████████████| 1/1 [00:01<00:00,  1.50s/it]\n"
     ]
    },
    {
     "name": "stdout",
     "output_type": "stream",
     "text": [
      "(1, 1437)\n",
      "41\n",
      "786 回目\n"
     ]
    },
    {
     "name": "stderr",
     "output_type": "stream",
     "text": [
      "100%|██████████████████████████████████████████████████████████████████████████████████████████████████████████████████████████████████████████| 1/1 [00:01<00:00,  1.24s/it]\n"
     ]
    },
    {
     "name": "stdout",
     "output_type": "stream",
     "text": [
      "(1, 1435)\n",
      "41\n",
      "787 回目\n"
     ]
    },
    {
     "name": "stderr",
     "output_type": "stream",
     "text": [
      "100%|██████████████████████████████████████████████████████████████████████████████████████████████████████████████████████████████████████████| 1/1 [00:01<00:00,  1.25s/it]\n"
     ]
    },
    {
     "name": "stdout",
     "output_type": "stream",
     "text": [
      "(1, 1447)\n",
      "41\n",
      "788 回目\n"
     ]
    },
    {
     "name": "stderr",
     "output_type": "stream",
     "text": [
      "100%|██████████████████████████████████████████████████████████████████████████████████████████████████████████████████████████████████████████| 1/1 [00:01<00:00,  1.04s/it]\n"
     ]
    },
    {
     "name": "stdout",
     "output_type": "stream",
     "text": [
      "(1, 1395)\n",
      "41\n",
      "789 回目\n"
     ]
    },
    {
     "name": "stderr",
     "output_type": "stream",
     "text": [
      "100%|██████████████████████████████████████████████████████████████████████████████████████████████████████████████████████████████████████████| 1/1 [00:01<00:00,  1.08s/it]\n"
     ]
    },
    {
     "name": "stdout",
     "output_type": "stream",
     "text": [
      "(1, 1444)\n",
      "41\n",
      "790 回目\n"
     ]
    },
    {
     "name": "stderr",
     "output_type": "stream",
     "text": [
      "100%|██████████████████████████████████████████████████████████████████████████████████████████████████████████████████████████████████████████| 1/1 [00:01<00:00,  1.06s/it]\n"
     ]
    },
    {
     "name": "stdout",
     "output_type": "stream",
     "text": [
      "(1, 1446)\n",
      "41\n",
      "791 回目\n"
     ]
    },
    {
     "name": "stderr",
     "output_type": "stream",
     "text": [
      "100%|██████████████████████████████████████████████████████████████████████████████████████████████████████████████████████████████████████████| 1/1 [00:01<00:00,  1.01s/it]\n"
     ]
    },
    {
     "name": "stdout",
     "output_type": "stream",
     "text": [
      "(1, 1393)\n",
      "41\n",
      "792 回目\n"
     ]
    },
    {
     "name": "stderr",
     "output_type": "stream",
     "text": [
      "100%|██████████████████████████████████████████████████████████████████████████████████████████████████████████████████████████████████████████| 1/1 [00:00<00:00,  1.02it/s]\n"
     ]
    },
    {
     "name": "stdout",
     "output_type": "stream",
     "text": [
      "(1, 1343)\n",
      "41\n",
      "793 回目\n"
     ]
    },
    {
     "name": "stderr",
     "output_type": "stream",
     "text": [
      "100%|██████████████████████████████████████████████████████████████████████████████████████████████████████████████████████████████████████████| 1/1 [00:01<00:00,  1.03s/it]\n"
     ]
    },
    {
     "name": "stdout",
     "output_type": "stream",
     "text": [
      "(1, 1444)\n",
      "41\n",
      "794 回目\n"
     ]
    },
    {
     "name": "stderr",
     "output_type": "stream",
     "text": [
      "100%|██████████████████████████████████████████████████████████████████████████████████████████████████████████████████████████████████████████| 1/1 [00:01<00:00,  1.05s/it]\n"
     ]
    },
    {
     "name": "stdout",
     "output_type": "stream",
     "text": [
      "(1, 1442)\n",
      "41\n",
      "795 回目\n"
     ]
    },
    {
     "name": "stderr",
     "output_type": "stream",
     "text": [
      "100%|██████████████████████████████████████████████████████████████████████████████████████████████████████████████████████████████████████████| 1/1 [00:00<00:00,  1.00it/s]\n"
     ]
    },
    {
     "name": "stdout",
     "output_type": "stream",
     "text": [
      "(1, 1442)\n",
      "41\n",
      "796 回目\n"
     ]
    },
    {
     "name": "stderr",
     "output_type": "stream",
     "text": [
      "100%|██████████████████████████████████████████████████████████████████████████████████████████████████████████████████████████████████████████| 1/1 [00:01<00:00,  1.27s/it]\n"
     ]
    },
    {
     "name": "stdout",
     "output_type": "stream",
     "text": [
      "(1, 1394)\n",
      "41\n",
      "797 回目\n"
     ]
    },
    {
     "name": "stderr",
     "output_type": "stream",
     "text": [
      "100%|██████████████████████████████████████████████████████████████████████████████████████████████████████████████████████████████████████████| 1/1 [00:00<00:00,  1.03it/s]\n"
     ]
    },
    {
     "name": "stdout",
     "output_type": "stream",
     "text": [
      "(1, 1437)\n",
      "41\n",
      "798 回目\n"
     ]
    },
    {
     "name": "stderr",
     "output_type": "stream",
     "text": [
      "100%|██████████████████████████████████████████████████████████████████████████████████████████████████████████████████████████████████████████| 1/1 [00:01<00:00,  1.13s/it]\n"
     ]
    },
    {
     "name": "stdout",
     "output_type": "stream",
     "text": [
      "(1, 1442)\n",
      "41\n",
      "799 回目\n"
     ]
    },
    {
     "name": "stderr",
     "output_type": "stream",
     "text": [
      "100%|██████████████████████████████████████████████████████████████████████████████████████████████████████████████████████████████████████████| 1/1 [00:01<00:00,  1.32s/it]\n"
     ]
    },
    {
     "name": "stdout",
     "output_type": "stream",
     "text": [
      "(1, 1445)\n",
      "41\n",
      "800 回目\n"
     ]
    },
    {
     "name": "stderr",
     "output_type": "stream",
     "text": [
      "100%|██████████████████████████████████████████████████████████████████████████████████████████████████████████████████████████████████████████| 1/1 [00:01<00:00,  1.18s/it]\n"
     ]
    },
    {
     "name": "stdout",
     "output_type": "stream",
     "text": [
      "(1, 1398)\n",
      "41\n",
      "801 回目\n"
     ]
    },
    {
     "name": "stderr",
     "output_type": "stream",
     "text": [
      "100%|██████████████████████████████████████████████████████████████████████████████████████████████████████████████████████████████████████████| 1/1 [00:01<00:00,  1.31s/it]\n"
     ]
    },
    {
     "name": "stdout",
     "output_type": "stream",
     "text": [
      "(1, 1391)\n",
      "41\n",
      "802 回目\n"
     ]
    },
    {
     "name": "stderr",
     "output_type": "stream",
     "text": [
      "100%|██████████████████████████████████████████████████████████████████████████████████████████████████████████████████████████████████████████| 1/1 [00:01<00:00,  1.14s/it]\n"
     ]
    },
    {
     "name": "stdout",
     "output_type": "stream",
     "text": [
      "(1, 1443)\n",
      "41\n",
      "803 回目\n"
     ]
    },
    {
     "name": "stderr",
     "output_type": "stream",
     "text": [
      "100%|██████████████████████████████████████████████████████████████████████████████████████████████████████████████████████████████████████████| 1/1 [00:01<00:00,  1.31s/it]\n"
     ]
    },
    {
     "name": "stdout",
     "output_type": "stream",
     "text": [
      "(1, 1343)\n",
      "41\n",
      "804 回目\n"
     ]
    },
    {
     "name": "stderr",
     "output_type": "stream",
     "text": [
      "100%|██████████████████████████████████████████████████████████████████████████████████████████████████████████████████████████████████████████| 1/1 [00:01<00:00,  1.88s/it]\n"
     ]
    },
    {
     "name": "stdout",
     "output_type": "stream",
     "text": [
      "(1, 1441)\n",
      "41\n",
      "805 回目\n"
     ]
    },
    {
     "name": "stderr",
     "output_type": "stream",
     "text": [
      "100%|██████████████████████████████████████████████████████████████████████████████████████████████████████████████████████████████████████████| 1/1 [00:01<00:00,  1.38s/it]\n"
     ]
    },
    {
     "name": "stdout",
     "output_type": "stream",
     "text": [
      "(1, 1399)\n",
      "41\n",
      "806 回目\n"
     ]
    },
    {
     "name": "stderr",
     "output_type": "stream",
     "text": [
      "100%|██████████████████████████████████████████████████████████████████████████████████████████████████████████████████████████████████████████| 1/1 [00:03<00:00,  3.99s/it]\n"
     ]
    },
    {
     "name": "stdout",
     "output_type": "stream",
     "text": [
      "(1, 1446)\n",
      "41\n",
      "807 回目\n"
     ]
    },
    {
     "name": "stderr",
     "output_type": "stream",
     "text": [
      "100%|██████████████████████████████████████████████████████████████████████████████████████████████████████████████████████████████████████████| 1/1 [00:01<00:00,  1.31s/it]\n"
     ]
    },
    {
     "name": "stdout",
     "output_type": "stream",
     "text": [
      "(1, 1398)\n",
      "41\n",
      "808 回目\n"
     ]
    },
    {
     "name": "stderr",
     "output_type": "stream",
     "text": [
      "100%|██████████████████████████████████████████████████████████████████████████████████████████████████████████████████████████████████████████| 1/1 [00:01<00:00,  1.84s/it]\n"
     ]
    },
    {
     "name": "stdout",
     "output_type": "stream",
     "text": [
      "(1, 1397)\n",
      "41\n",
      "809 回目\n"
     ]
    },
    {
     "name": "stderr",
     "output_type": "stream",
     "text": [
      "100%|██████████████████████████████████████████████████████████████████████████████████████████████████████████████████████████████████████████| 1/1 [00:01<00:00,  1.21s/it]\n"
     ]
    },
    {
     "name": "stdout",
     "output_type": "stream",
     "text": [
      "(1, 1442)\n",
      "41\n",
      "810 回目\n"
     ]
    },
    {
     "name": "stderr",
     "output_type": "stream",
     "text": [
      "100%|██████████████████████████████████████████████████████████████████████████████████████████████████████████████████████████████████████████| 1/1 [00:01<00:00,  1.45s/it]\n"
     ]
    },
    {
     "name": "stdout",
     "output_type": "stream",
     "text": [
      "(1, 1446)\n",
      "41\n",
      "811 回目\n"
     ]
    },
    {
     "name": "stderr",
     "output_type": "stream",
     "text": [
      "100%|██████████████████████████████████████████████████████████████████████████████████████████████████████████████████████████████████████████| 1/1 [00:01<00:00,  1.07s/it]\n"
     ]
    },
    {
     "name": "stdout",
     "output_type": "stream",
     "text": [
      "(1, 1235)\n",
      "41\n",
      "812 回目\n"
     ]
    },
    {
     "name": "stderr",
     "output_type": "stream",
     "text": [
      "100%|██████████████████████████████████████████████████████████████████████████████████████████████████████████████████████████████████████████| 1/1 [00:01<00:00,  1.24s/it]\n"
     ]
    },
    {
     "name": "stdout",
     "output_type": "stream",
     "text": [
      "(1, 1444)\n",
      "41\n",
      "813 回目\n"
     ]
    },
    {
     "name": "stderr",
     "output_type": "stream",
     "text": [
      "100%|██████████████████████████████████████████████████████████████████████████████████████████████████████████████████████████████████████████| 1/1 [00:01<00:00,  1.18s/it]\n"
     ]
    },
    {
     "name": "stdout",
     "output_type": "stream",
     "text": [
      "(1, 1440)\n",
      "41\n",
      "814 回目\n"
     ]
    },
    {
     "name": "stderr",
     "output_type": "stream",
     "text": [
      "100%|██████████████████████████████████████████████████████████████████████████████████████████████████████████████████████████████████████████| 1/1 [00:01<00:00,  1.18s/it]\n"
     ]
    },
    {
     "name": "stdout",
     "output_type": "stream",
     "text": [
      "(1, 1343)\n",
      "41\n",
      "815 回目\n"
     ]
    },
    {
     "name": "stderr",
     "output_type": "stream",
     "text": [
      "100%|██████████████████████████████████████████████████████████████████████████████████████████████████████████████████████████████████████████| 1/1 [00:01<00:00,  1.08s/it]\n"
     ]
    },
    {
     "name": "stdout",
     "output_type": "stream",
     "text": [
      "(1, 1444)\n",
      "41\n",
      "816 回目\n"
     ]
    },
    {
     "name": "stderr",
     "output_type": "stream",
     "text": [
      "100%|██████████████████████████████████████████████████████████████████████████████████████████████████████████████████████████████████████████| 1/1 [00:01<00:00,  1.34s/it]\n"
     ]
    },
    {
     "name": "stdout",
     "output_type": "stream",
     "text": [
      "(1, 1439)\n",
      "41\n",
      "817 回目\n"
     ]
    },
    {
     "name": "stderr",
     "output_type": "stream",
     "text": [
      "100%|██████████████████████████████████████████████████████████████████████████████████████████████████████████████████████████████████████████| 1/1 [00:01<00:00,  1.34s/it]\n"
     ]
    },
    {
     "name": "stdout",
     "output_type": "stream",
     "text": [
      "(1, 1436)\n",
      "41\n",
      "818 回目\n"
     ]
    },
    {
     "name": "stderr",
     "output_type": "stream",
     "text": [
      "100%|██████████████████████████████████████████████████████████████████████████████████████████████████████████████████████████████████████████| 1/1 [00:01<00:00,  1.36s/it]\n"
     ]
    },
    {
     "name": "stdout",
     "output_type": "stream",
     "text": [
      "(1, 1447)\n",
      "41\n",
      "819 回目\n"
     ]
    },
    {
     "name": "stderr",
     "output_type": "stream",
     "text": [
      "100%|██████████████████████████████████████████████████████████████████████████████████████████████████████████████████████████████████████████| 1/1 [00:01<00:00,  1.29s/it]\n"
     ]
    },
    {
     "name": "stdout",
     "output_type": "stream",
     "text": [
      "(1, 1440)\n",
      "41\n",
      "820 回目\n"
     ]
    },
    {
     "name": "stderr",
     "output_type": "stream",
     "text": [
      "100%|██████████████████████████████████████████████████████████████████████████████████████████████████████████████████████████████████████████| 1/1 [00:01<00:00,  1.29s/it]\n"
     ]
    },
    {
     "name": "stdout",
     "output_type": "stream",
     "text": [
      "(1, 1448)\n",
      "41\n",
      "821 回目\n"
     ]
    },
    {
     "name": "stderr",
     "output_type": "stream",
     "text": [
      "100%|██████████████████████████████████████████████████████████████████████████████████████████████████████████████████████████████████████████| 1/1 [00:01<00:00,  1.40s/it]\n"
     ]
    },
    {
     "name": "stdout",
     "output_type": "stream",
     "text": [
      "(1, 1446)\n",
      "41\n",
      "822 回目\n"
     ]
    },
    {
     "name": "stderr",
     "output_type": "stream",
     "text": [
      "100%|██████████████████████████████████████████████████████████████████████████████████████████████████████████████████████████████████████████| 1/1 [00:00<00:00,  1.01it/s]\n"
     ]
    },
    {
     "name": "stdout",
     "output_type": "stream",
     "text": [
      "(1, 1441)\n",
      "41\n",
      "823 回目\n"
     ]
    },
    {
     "name": "stderr",
     "output_type": "stream",
     "text": [
      "100%|██████████████████████████████████████████████████████████████████████████████████████████████████████████████████████████████████████████| 1/1 [00:01<00:00,  1.11s/it]\n"
     ]
    },
    {
     "name": "stdout",
     "output_type": "stream",
     "text": [
      "(1, 1446)\n",
      "41\n",
      "824 回目\n"
     ]
    },
    {
     "name": "stderr",
     "output_type": "stream",
     "text": [
      "100%|██████████████████████████████████████████████████████████████████████████████████████████████████████████████████████████████████████████| 1/1 [00:00<00:00,  1.01it/s]\n"
     ]
    },
    {
     "name": "stdout",
     "output_type": "stream",
     "text": [
      "(1, 1439)\n",
      "41\n",
      "825 回目\n"
     ]
    },
    {
     "name": "stderr",
     "output_type": "stream",
     "text": [
      "100%|██████████████████████████████████████████████████████████████████████████████████████████████████████████████████████████████████████████| 1/1 [00:01<00:00,  1.21s/it]\n"
     ]
    },
    {
     "name": "stdout",
     "output_type": "stream",
     "text": [
      "(1, 1442)\n",
      "41\n",
      "826 回目\n"
     ]
    },
    {
     "name": "stderr",
     "output_type": "stream",
     "text": [
      "100%|██████████████████████████████████████████████████████████████████████████████████████████████████████████████████████████████████████████| 1/1 [00:01<00:00,  1.49s/it]\n"
     ]
    },
    {
     "name": "stdout",
     "output_type": "stream",
     "text": [
      "(1, 1446)\n",
      "41\n",
      "827 回目\n"
     ]
    },
    {
     "name": "stderr",
     "output_type": "stream",
     "text": [
      "100%|██████████████████████████████████████████████████████████████████████████████████████████████████████████████████████████████████████████| 1/1 [00:01<00:00,  1.11s/it]\n"
     ]
    },
    {
     "name": "stdout",
     "output_type": "stream",
     "text": [
      "(1, 1442)\n",
      "41\n",
      "828 回目\n"
     ]
    },
    {
     "name": "stderr",
     "output_type": "stream",
     "text": [
      "100%|██████████████████████████████████████████████████████████████████████████████████████████████████████████████████████████████████████████| 1/1 [00:01<00:00,  1.14s/it]\n"
     ]
    },
    {
     "name": "stdout",
     "output_type": "stream",
     "text": [
      "(1, 1440)\n",
      "41\n",
      "829 回目\n"
     ]
    },
    {
     "name": "stderr",
     "output_type": "stream",
     "text": [
      "100%|██████████████████████████████████████████████████████████████████████████████████████████████████████████████████████████████████████████| 1/1 [00:00<00:00,  1.00it/s]\n"
     ]
    },
    {
     "name": "stdout",
     "output_type": "stream",
     "text": [
      "(1, 1441)\n",
      "41\n",
      "830 回目\n"
     ]
    },
    {
     "name": "stderr",
     "output_type": "stream",
     "text": [
      "100%|██████████████████████████████████████████████████████████████████████████████████████████████████████████████████████████████████████████| 1/1 [00:00<00:00,  1.01it/s]\n"
     ]
    },
    {
     "name": "stdout",
     "output_type": "stream",
     "text": [
      "(1, 1438)\n",
      "41\n",
      "831 回目\n"
     ]
    },
    {
     "name": "stderr",
     "output_type": "stream",
     "text": [
      "100%|██████████████████████████████████████████████████████████████████████████████████████████████████████████████████████████████████████████| 1/1 [00:01<00:00,  1.01s/it]\n"
     ]
    },
    {
     "name": "stdout",
     "output_type": "stream",
     "text": [
      "(1, 1440)\n",
      "41\n",
      "832 回目\n"
     ]
    },
    {
     "name": "stderr",
     "output_type": "stream",
     "text": [
      "100%|██████████████████████████████████████████████████████████████████████████████████████████████████████████████████████████████████████████| 1/1 [00:01<00:00,  1.09s/it]\n"
     ]
    },
    {
     "name": "stdout",
     "output_type": "stream",
     "text": [
      "(1, 1442)\n",
      "41\n",
      "833 回目\n"
     ]
    },
    {
     "name": "stderr",
     "output_type": "stream",
     "text": [
      "100%|██████████████████████████████████████████████████████████████████████████████████████████████████████████████████████████████████████████| 1/1 [00:01<00:00,  1.52s/it]\n"
     ]
    },
    {
     "name": "stdout",
     "output_type": "stream",
     "text": [
      "(1, 1442)\n",
      "41\n",
      "834 回目\n"
     ]
    },
    {
     "name": "stderr",
     "output_type": "stream",
     "text": [
      "100%|██████████████████████████████████████████████████████████████████████████████████████████████████████████████████████████████████████████| 1/1 [00:03<00:00,  3.11s/it]\n"
     ]
    },
    {
     "name": "stdout",
     "output_type": "stream",
     "text": [
      "(1, 1447)\n",
      "41\n",
      "835 回目\n"
     ]
    },
    {
     "name": "stderr",
     "output_type": "stream",
     "text": [
      "100%|██████████████████████████████████████████████████████████████████████████████████████████████████████████████████████████████████████████| 1/1 [00:02<00:00,  2.14s/it]\n"
     ]
    },
    {
     "name": "stdout",
     "output_type": "stream",
     "text": [
      "(1, 1440)\n",
      "41\n",
      "836 回目\n"
     ]
    },
    {
     "name": "stderr",
     "output_type": "stream",
     "text": [
      "100%|██████████████████████████████████████████████████████████████████████████████████████████████████████████████████████████████████████████| 1/1 [00:01<00:00,  1.05s/it]\n"
     ]
    },
    {
     "name": "stdout",
     "output_type": "stream",
     "text": [
      "(1, 1176)\n",
      "\"['ATS1s_SMILES', 'GATS4s_SMILES'] not in index\"\n",
      "837 回目\n"
     ]
    },
    {
     "name": "stderr",
     "output_type": "stream",
     "text": [
      "100%|██████████████████████████████████████████████████████████████████████████████████████████████████████████████████████████████████████████| 1/1 [00:00<00:00,  1.03it/s]\n"
     ]
    },
    {
     "name": "stdout",
     "output_type": "stream",
     "text": [
      "(1, 1176)\n",
      "\"['ATS1s_SMILES', 'GATS4s_SMILES'] not in index\"\n",
      "838 回目\n"
     ]
    },
    {
     "name": "stderr",
     "output_type": "stream",
     "text": [
      "100%|██████████████████████████████████████████████████████████████████████████████████████████████████████████████████████████████████████████| 1/1 [00:00<00:00,  1.03it/s]\n"
     ]
    },
    {
     "name": "stdout",
     "output_type": "stream",
     "text": [
      "(1, 1390)\n",
      "43\n",
      "839 回目\n"
     ]
    },
    {
     "name": "stderr",
     "output_type": "stream",
     "text": [
      "100%|██████████████████████████████████████████████████████████████████████████████████████████████████████████████████████████████████████████| 1/1 [00:01<00:00,  1.01s/it]\n"
     ]
    },
    {
     "name": "stdout",
     "output_type": "stream",
     "text": [
      "(1, 1437)\n",
      "43\n",
      "840 回目\n"
     ]
    },
    {
     "name": "stderr",
     "output_type": "stream",
     "text": [
      "100%|██████████████████████████████████████████████████████████████████████████████████████████████████████████████████████████████████████████| 1/1 [00:01<00:00,  1.05s/it]\n"
     ]
    },
    {
     "name": "stdout",
     "output_type": "stream",
     "text": [
      "(1, 1449)\n",
      "43\n",
      "841 回目\n"
     ]
    },
    {
     "name": "stderr",
     "output_type": "stream",
     "text": [
      "100%|██████████████████████████████████████████████████████████████████████████████████████████████████████████████████████████████████████████| 1/1 [00:01<00:00,  1.10s/it]\n"
     ]
    },
    {
     "name": "stdout",
     "output_type": "stream",
     "text": [
      "(1, 1435)\n",
      "43\n",
      "842 回目\n"
     ]
    },
    {
     "name": "stderr",
     "output_type": "stream",
     "text": [
      "100%|██████████████████████████████████████████████████████████████████████████████████████████████████████████████████████████████████████████| 1/1 [00:01<00:00,  1.04s/it]\n"
     ]
    },
    {
     "name": "stdout",
     "output_type": "stream",
     "text": [
      "(1, 1447)\n",
      "43\n",
      "843 回目\n"
     ]
    },
    {
     "name": "stderr",
     "output_type": "stream",
     "text": [
      "100%|██████████████████████████████████████████████████████████████████████████████████████████████████████████████████████████████████████████| 1/1 [00:01<00:00,  1.23s/it]\n"
     ]
    },
    {
     "name": "stdout",
     "output_type": "stream",
     "text": [
      "(1, 1342)\n",
      "43\n",
      "844 回目\n"
     ]
    },
    {
     "name": "stderr",
     "output_type": "stream",
     "text": [
      "100%|██████████████████████████████████████████████████████████████████████████████████████████████████████████████████████████████████████████| 1/1 [00:02<00:00,  2.04s/it]\n"
     ]
    },
    {
     "name": "stdout",
     "output_type": "stream",
     "text": [
      "(1, 1435)\n",
      "43\n",
      "845 回目\n"
     ]
    },
    {
     "name": "stderr",
     "output_type": "stream",
     "text": [
      "100%|██████████████████████████████████████████████████████████████████████████████████████████████████████████████████████████████████████████| 1/1 [00:01<00:00,  1.29s/it]\n"
     ]
    },
    {
     "name": "stdout",
     "output_type": "stream",
     "text": [
      "(1, 1440)\n",
      "43\n",
      "846 回目\n"
     ]
    },
    {
     "name": "stderr",
     "output_type": "stream",
     "text": [
      "100%|██████████████████████████████████████████████████████████████████████████████████████████████████████████████████████████████████████████| 1/1 [00:01<00:00,  1.58s/it]\n"
     ]
    },
    {
     "name": "stdout",
     "output_type": "stream",
     "text": [
      "(1, 1442)\n",
      "43\n",
      "847 回目\n"
     ]
    },
    {
     "name": "stderr",
     "output_type": "stream",
     "text": [
      "100%|██████████████████████████████████████████████████████████████████████████████████████████████████████████████████████████████████████████| 1/1 [00:01<00:00,  1.27s/it]\n"
     ]
    },
    {
     "name": "stdout",
     "output_type": "stream",
     "text": [
      "(1, 1444)\n",
      "43\n",
      "848 回目\n"
     ]
    },
    {
     "name": "stderr",
     "output_type": "stream",
     "text": [
      "100%|██████████████████████████████████████████████████████████████████████████████████████████████████████████████████████████████████████████| 1/1 [00:01<00:00,  1.87s/it]\n"
     ]
    },
    {
     "name": "stdout",
     "output_type": "stream",
     "text": [
      "(1, 1442)\n",
      "43\n",
      "849 回目\n"
     ]
    },
    {
     "name": "stderr",
     "output_type": "stream",
     "text": [
      "100%|██████████████████████████████████████████████████████████████████████████████████████████████████████████████████████████████████████████| 1/1 [00:01<00:00,  1.52s/it]\n"
     ]
    },
    {
     "name": "stdout",
     "output_type": "stream",
     "text": [
      "(1, 1437)\n",
      "43\n",
      "850 回目\n"
     ]
    },
    {
     "name": "stderr",
     "output_type": "stream",
     "text": [
      "100%|██████████████████████████████████████████████████████████████████████████████████████████████████████████████████████████████████████████| 1/1 [00:01<00:00,  1.61s/it]\n"
     ]
    },
    {
     "name": "stdout",
     "output_type": "stream",
     "text": [
      "(1, 1440)\n",
      "43\n",
      "851 回目\n"
     ]
    },
    {
     "name": "stderr",
     "output_type": "stream",
     "text": [
      "100%|██████████████████████████████████████████████████████████████████████████████████████████████████████████████████████████████████████████| 1/1 [00:01<00:00,  1.51s/it]\n"
     ]
    },
    {
     "name": "stdout",
     "output_type": "stream",
     "text": [
      "(1, 1237)\n",
      "43\n",
      "852 回目\n"
     ]
    },
    {
     "name": "stderr",
     "output_type": "stream",
     "text": [
      "100%|██████████████████████████████████████████████████████████████████████████████████████████████████████████████████████████████████████████| 1/1 [00:01<00:00,  1.30s/it]\n"
     ]
    },
    {
     "name": "stdout",
     "output_type": "stream",
     "text": [
      "(1, 1446)\n",
      "43\n",
      "853 回目\n"
     ]
    },
    {
     "name": "stderr",
     "output_type": "stream",
     "text": [
      "100%|██████████████████████████████████████████████████████████████████████████████████████████████████████████████████████████████████████████| 1/1 [00:01<00:00,  1.65s/it]\n"
     ]
    },
    {
     "name": "stdout",
     "output_type": "stream",
     "text": [
      "(1, 1445)\n",
      "43\n",
      "854 回目\n"
     ]
    },
    {
     "name": "stderr",
     "output_type": "stream",
     "text": [
      "100%|██████████████████████████████████████████████████████████████████████████████████████████████████████████████████████████████████████████| 1/1 [00:01<00:00,  1.53s/it]\n"
     ]
    },
    {
     "name": "stdout",
     "output_type": "stream",
     "text": [
      "(1, 1438)\n",
      "43\n",
      "855 回目\n"
     ]
    },
    {
     "name": "stderr",
     "output_type": "stream",
     "text": [
      "100%|██████████████████████████████████████████████████████████████████████████████████████████████████████████████████████████████████████████| 1/1 [00:01<00:00,  1.36s/it]\n"
     ]
    },
    {
     "name": "stdout",
     "output_type": "stream",
     "text": [
      "(1, 1390)\n",
      "43\n",
      "856 回目\n"
     ]
    },
    {
     "name": "stderr",
     "output_type": "stream",
     "text": [
      "100%|██████████████████████████████████████████████████████████████████████████████████████████████████████████████████████████████████████████| 1/1 [00:01<00:00,  1.28s/it]\n"
     ]
    },
    {
     "name": "stdout",
     "output_type": "stream",
     "text": [
      "(1, 1446)\n",
      "43\n",
      "857 回目\n"
     ]
    },
    {
     "name": "stderr",
     "output_type": "stream",
     "text": [
      "100%|██████████████████████████████████████████████████████████████████████████████████████████████████████████████████████████████████████████| 1/1 [00:01<00:00,  1.51s/it]\n"
     ]
    },
    {
     "name": "stdout",
     "output_type": "stream",
     "text": [
      "(1, 1446)\n",
      "43\n",
      "858 回目\n"
     ]
    },
    {
     "name": "stderr",
     "output_type": "stream",
     "text": [
      "100%|██████████████████████████████████████████████████████████████████████████████████████████████████████████████████████████████████████████| 1/1 [00:01<00:00,  1.25s/it]\n"
     ]
    },
    {
     "name": "stdout",
     "output_type": "stream",
     "text": [
      "(1, 1446)\n",
      "43\n",
      "859 回目\n"
     ]
    },
    {
     "name": "stderr",
     "output_type": "stream",
     "text": [
      "100%|██████████████████████████████████████████████████████████████████████████████████████████████████████████████████████████████████████████| 1/1 [00:01<00:00,  1.32s/it]\n"
     ]
    },
    {
     "name": "stdout",
     "output_type": "stream",
     "text": [
      "(1, 1441)\n",
      "43\n",
      "860 回目\n"
     ]
    },
    {
     "name": "stderr",
     "output_type": "stream",
     "text": [
      "100%|██████████████████████████████████████████████████████████████████████████████████████████████████████████████████████████████████████████| 1/1 [00:02<00:00,  2.04s/it]\n"
     ]
    },
    {
     "name": "stdout",
     "output_type": "stream",
     "text": [
      "(1, 1441)\n",
      "43\n",
      "861 回目\n"
     ]
    },
    {
     "name": "stderr",
     "output_type": "stream",
     "text": [
      "100%|██████████████████████████████████████████████████████████████████████████████████████████████████████████████████████████████████████████| 1/1 [00:01<00:00,  1.65s/it]\n"
     ]
    },
    {
     "name": "stdout",
     "output_type": "stream",
     "text": [
      "(1, 1447)\n",
      "43\n",
      "862 回目\n"
     ]
    },
    {
     "name": "stderr",
     "output_type": "stream",
     "text": [
      "100%|██████████████████████████████████████████████████████████████████████████████████████████████████████████████████████████████████████████| 1/1 [00:02<00:00,  2.17s/it]\n"
     ]
    },
    {
     "name": "stdout",
     "output_type": "stream",
     "text": [
      "(1, 1442)\n",
      "43\n",
      "863 回目\n"
     ]
    },
    {
     "name": "stderr",
     "output_type": "stream",
     "text": [
      "100%|██████████████████████████████████████████████████████████████████████████████████████████████████████████████████████████████████████████| 1/1 [00:01<00:00,  1.17s/it]\n"
     ]
    },
    {
     "name": "stdout",
     "output_type": "stream",
     "text": [
      "(1, 1444)\n",
      "43\n",
      "864 回目\n"
     ]
    },
    {
     "name": "stderr",
     "output_type": "stream",
     "text": [
      "100%|██████████████████████████████████████████████████████████████████████████████████████████████████████████████████████████████████████████| 1/1 [00:01<00:00,  1.35s/it]\n"
     ]
    },
    {
     "name": "stdout",
     "output_type": "stream",
     "text": [
      "(1, 1445)\n",
      "43\n",
      "865 回目\n"
     ]
    },
    {
     "name": "stderr",
     "output_type": "stream",
     "text": [
      "100%|██████████████████████████████████████████████████████████████████████████████████████████████████████████████████████████████████████████| 1/1 [00:01<00:00,  1.29s/it]\n"
     ]
    },
    {
     "name": "stdout",
     "output_type": "stream",
     "text": [
      "(1, 1444)\n",
      "43\n",
      "866 回目\n"
     ]
    },
    {
     "name": "stderr",
     "output_type": "stream",
     "text": [
      "100%|██████████████████████████████████████████████████████████████████████████████████████████████████████████████████████████████████████████| 1/1 [00:01<00:00,  1.06s/it]\n"
     ]
    },
    {
     "name": "stdout",
     "output_type": "stream",
     "text": [
      "(1, 1437)\n",
      "43\n",
      "867 回目\n"
     ]
    },
    {
     "name": "stderr",
     "output_type": "stream",
     "text": [
      "100%|██████████████████████████████████████████████████████████████████████████████████████████████████████████████████████████████████████████| 1/1 [00:01<00:00,  1.27s/it]\n"
     ]
    },
    {
     "name": "stdout",
     "output_type": "stream",
     "text": [
      "(1, 1446)\n",
      "43\n",
      "868 回目\n"
     ]
    },
    {
     "name": "stderr",
     "output_type": "stream",
     "text": [
      "100%|██████████████████████████████████████████████████████████████████████████████████████████████████████████████████████████████████████████| 1/1 [00:01<00:00,  1.21s/it]\n"
     ]
    },
    {
     "name": "stdout",
     "output_type": "stream",
     "text": [
      "(1, 1203)\n",
      "43\n",
      "869 回目\n"
     ]
    },
    {
     "name": "stderr",
     "output_type": "stream",
     "text": [
      "100%|██████████████████████████████████████████████████████████████████████████████████████████████████████████████████████████████████████████| 1/1 [00:01<00:00,  1.09s/it]\n"
     ]
    },
    {
     "name": "stdout",
     "output_type": "stream",
     "text": [
      "(1, 1442)\n",
      "43\n",
      "870 回目\n"
     ]
    },
    {
     "name": "stderr",
     "output_type": "stream",
     "text": [
      "100%|██████████████████████████████████████████████████████████████████████████████████████████████████████████████████████████████████████████| 1/1 [00:01<00:00,  1.75s/it]\n"
     ]
    },
    {
     "name": "stdout",
     "output_type": "stream",
     "text": [
      "(1, 1445)\n",
      "43\n",
      "871 回目\n"
     ]
    },
    {
     "name": "stderr",
     "output_type": "stream",
     "text": [
      "100%|██████████████████████████████████████████████████████████████████████████████████████████████████████████████████████████████████████████| 1/1 [00:01<00:00,  1.27s/it]\n"
     ]
    },
    {
     "name": "stdout",
     "output_type": "stream",
     "text": [
      "(1, 1442)\n",
      "43\n",
      "872 回目\n"
     ]
    },
    {
     "name": "stderr",
     "output_type": "stream",
     "text": [
      "100%|██████████████████████████████████████████████████████████████████████████████████████████████████████████████████████████████████████████| 1/1 [00:01<00:00,  1.31s/it]\n"
     ]
    },
    {
     "name": "stdout",
     "output_type": "stream",
     "text": [
      "(1, 1449)\n",
      "43\n",
      "873 回目\n"
     ]
    },
    {
     "name": "stderr",
     "output_type": "stream",
     "text": [
      "100%|██████████████████████████████████████████████████████████████████████████████████████████████████████████████████████████████████████████| 1/1 [00:01<00:00,  1.14s/it]\n"
     ]
    },
    {
     "name": "stdout",
     "output_type": "stream",
     "text": [
      "(1, 1390)\n",
      "43\n",
      "874 回目\n"
     ]
    },
    {
     "name": "stderr",
     "output_type": "stream",
     "text": [
      "100%|██████████████████████████████████████████████████████████████████████████████████████████████████████████████████████████████████████████| 1/1 [00:01<00:00,  1.28s/it]\n"
     ]
    },
    {
     "name": "stdout",
     "output_type": "stream",
     "text": [
      "(1, 1436)\n",
      "43\n",
      "875 回目\n"
     ]
    },
    {
     "name": "stderr",
     "output_type": "stream",
     "text": [
      "100%|██████████████████████████████████████████████████████████████████████████████████████████████████████████████████████████████████████████| 1/1 [00:01<00:00,  1.27s/it]\n"
     ]
    },
    {
     "name": "stdout",
     "output_type": "stream",
     "text": [
      "(1, 1440)\n",
      "43\n",
      "876 回目\n"
     ]
    },
    {
     "name": "stderr",
     "output_type": "stream",
     "text": [
      "100%|██████████████████████████████████████████████████████████████████████████████████████████████████████████████████████████████████████████| 1/1 [00:01<00:00,  1.91s/it]\n"
     ]
    },
    {
     "name": "stdout",
     "output_type": "stream",
     "text": [
      "(1, 1441)\n",
      "43\n",
      "877 回目\n"
     ]
    },
    {
     "name": "stderr",
     "output_type": "stream",
     "text": [
      "100%|██████████████████████████████████████████████████████████████████████████████████████████████████████████████████████████████████████████| 1/1 [00:01<00:00,  1.78s/it]\n"
     ]
    },
    {
     "name": "stdout",
     "output_type": "stream",
     "text": [
      "(1, 1444)\n",
      "43\n",
      "878 回目\n"
     ]
    },
    {
     "name": "stderr",
     "output_type": "stream",
     "text": [
      "100%|██████████████████████████████████████████████████████████████████████████████████████████████████████████████████████████████████████████| 1/1 [00:01<00:00,  1.41s/it]\n"
     ]
    },
    {
     "name": "stdout",
     "output_type": "stream",
     "text": [
      "(1, 1437)\n",
      "43\n",
      "879 回目\n"
     ]
    },
    {
     "name": "stderr",
     "output_type": "stream",
     "text": [
      "100%|██████████████████████████████████████████████████████████████████████████████████████████████████████████████████████████████████████████| 1/1 [00:01<00:00,  1.45s/it]\n"
     ]
    },
    {
     "name": "stdout",
     "output_type": "stream",
     "text": [
      "(1, 1437)\n",
      "43\n",
      "880 回目\n"
     ]
    },
    {
     "name": "stderr",
     "output_type": "stream",
     "text": [
      "100%|██████████████████████████████████████████████████████████████████████████████████████████████████████████████████████████████████████████| 1/1 [00:01<00:00,  1.24s/it]\n"
     ]
    },
    {
     "name": "stdout",
     "output_type": "stream",
     "text": [
      "(1, 1442)\n",
      "43\n",
      "881 回目\n"
     ]
    },
    {
     "name": "stderr",
     "output_type": "stream",
     "text": [
      "100%|██████████████████████████████████████████████████████████████████████████████████████████████████████████████████████████████████████████| 1/1 [00:01<00:00,  1.21s/it]\n"
     ]
    },
    {
     "name": "stdout",
     "output_type": "stream",
     "text": [
      "(1, 1442)\n",
      "43\n",
      "882 回目\n"
     ]
    },
    {
     "name": "stderr",
     "output_type": "stream",
     "text": [
      "100%|██████████████████████████████████████████████████████████████████████████████████████████████████████████████████████████████████████████| 1/1 [00:01<00:00,  1.20s/it]\n"
     ]
    },
    {
     "name": "stdout",
     "output_type": "stream",
     "text": [
      "(1, 1442)\n",
      "43\n",
      "883 回目\n"
     ]
    },
    {
     "name": "stderr",
     "output_type": "stream",
     "text": [
      "100%|██████████████████████████████████████████████████████████████████████████████████████████████████████████████████████████████████████████| 1/1 [00:01<00:00,  1.21s/it]\n"
     ]
    },
    {
     "name": "stdout",
     "output_type": "stream",
     "text": [
      "(1, 1446)\n",
      "43\n",
      "884 回目\n"
     ]
    },
    {
     "name": "stderr",
     "output_type": "stream",
     "text": [
      "100%|██████████████████████████████████████████████████████████████████████████████████████████████████████████████████████████████████████████| 1/1 [00:01<00:00,  1.21s/it]\n"
     ]
    },
    {
     "name": "stdout",
     "output_type": "stream",
     "text": [
      "(1, 1443)\n",
      "43\n",
      "885 回目\n"
     ]
    },
    {
     "name": "stderr",
     "output_type": "stream",
     "text": [
      "100%|██████████████████████████████████████████████████████████████████████████████████████████████████████████████████████████████████████████| 1/1 [00:01<00:00,  1.28s/it]\n"
     ]
    },
    {
     "name": "stdout",
     "output_type": "stream",
     "text": [
      "(1, 1437)\n",
      "43\n",
      "886 回目\n"
     ]
    },
    {
     "name": "stderr",
     "output_type": "stream",
     "text": [
      "100%|██████████████████████████████████████████████████████████████████████████████████████████████████████████████████████████████████████████| 1/1 [00:01<00:00,  1.35s/it]\n"
     ]
    },
    {
     "name": "stdout",
     "output_type": "stream",
     "text": [
      "(1, 1446)\n",
      "43\n",
      "887 回目\n"
     ]
    },
    {
     "name": "stderr",
     "output_type": "stream",
     "text": [
      "100%|██████████████████████████████████████████████████████████████████████████████████████████████████████████████████████████████████████████| 1/1 [00:01<00:00,  1.31s/it]\n"
     ]
    },
    {
     "name": "stdout",
     "output_type": "stream",
     "text": [
      "(1, 1442)\n",
      "43\n",
      "888 回目\n"
     ]
    },
    {
     "name": "stderr",
     "output_type": "stream",
     "text": [
      "100%|██████████████████████████████████████████████████████████████████████████████████████████████████████████████████████████████████████████| 1/1 [00:01<00:00,  1.61s/it]\n"
     ]
    },
    {
     "name": "stdout",
     "output_type": "stream",
     "text": [
      "(1, 1446)\n",
      "43\n",
      "889 回目\n"
     ]
    },
    {
     "name": "stderr",
     "output_type": "stream",
     "text": [
      "100%|██████████████████████████████████████████████████████████████████████████████████████████████████████████████████████████████████████████| 1/1 [00:01<00:00,  1.54s/it]\n"
     ]
    },
    {
     "name": "stdout",
     "output_type": "stream",
     "text": [
      "(1, 1242)\n",
      "43\n",
      "890 回目\n"
     ]
    },
    {
     "name": "stderr",
     "output_type": "stream",
     "text": [
      "100%|██████████████████████████████████████████████████████████████████████████████████████████████████████████████████████████████████████████| 1/1 [00:01<00:00,  1.20s/it]\n"
     ]
    },
    {
     "name": "stdout",
     "output_type": "stream",
     "text": [
      "(1, 1237)\n",
      "43\n",
      "891 回目\n"
     ]
    },
    {
     "name": "stderr",
     "output_type": "stream",
     "text": [
      "100%|██████████████████████████████████████████████████████████████████████████████████████████████████████████████████████████████████████████| 1/1 [00:01<00:00,  1.50s/it]\n"
     ]
    },
    {
     "name": "stdout",
     "output_type": "stream",
     "text": [
      "(1, 1441)\n",
      "43\n",
      "892 回目\n"
     ]
    },
    {
     "name": "stderr",
     "output_type": "stream",
     "text": [
      "100%|██████████████████████████████████████████████████████████████████████████████████████████████████████████████████████████████████████████| 1/1 [00:01<00:00,  1.31s/it]\n"
     ]
    },
    {
     "name": "stdout",
     "output_type": "stream",
     "text": [
      "(1, 1446)\n",
      "43\n",
      "893 回目\n"
     ]
    },
    {
     "name": "stderr",
     "output_type": "stream",
     "text": [
      "100%|██████████████████████████████████████████████████████████████████████████████████████████████████████████████████████████████████████████| 1/1 [00:01<00:00,  1.28s/it]\n"
     ]
    },
    {
     "name": "stdout",
     "output_type": "stream",
     "text": [
      "(1, 1447)\n",
      "43\n",
      "894 回目\n"
     ]
    },
    {
     "name": "stderr",
     "output_type": "stream",
     "text": [
      "100%|██████████████████████████████████████████████████████████████████████████████████████████████████████████████████████████████████████████| 1/1 [00:01<00:00,  1.21s/it]\n"
     ]
    },
    {
     "name": "stdout",
     "output_type": "stream",
     "text": [
      "(1, 1447)\n",
      "43\n",
      "895 回目\n"
     ]
    },
    {
     "name": "stderr",
     "output_type": "stream",
     "text": [
      "100%|██████████████████████████████████████████████████████████████████████████████████████████████████████████████████████████████████████████| 1/1 [00:01<00:00,  1.91s/it]\n"
     ]
    },
    {
     "name": "stdout",
     "output_type": "stream",
     "text": [
      "(1, 1444)\n",
      "43\n",
      "896 回目\n"
     ]
    },
    {
     "name": "stderr",
     "output_type": "stream",
     "text": [
      "100%|██████████████████████████████████████████████████████████████████████████████████████████████████████████████████████████████████████████| 1/1 [00:01<00:00,  1.30s/it]\n"
     ]
    },
    {
     "name": "stdout",
     "output_type": "stream",
     "text": [
      "(1, 1444)\n",
      "43\n",
      "897 回目\n"
     ]
    },
    {
     "name": "stderr",
     "output_type": "stream",
     "text": [
      "100%|██████████████████████████████████████████████████████████████████████████████████████████████████████████████████████████████████████████| 1/1 [00:01<00:00,  1.27s/it]\n"
     ]
    },
    {
     "name": "stdout",
     "output_type": "stream",
     "text": [
      "(1, 1446)\n",
      "43\n",
      "898 回目\n"
     ]
    },
    {
     "name": "stderr",
     "output_type": "stream",
     "text": [
      "100%|██████████████████████████████████████████████████████████████████████████████████████████████████████████████████████████████████████████| 1/1 [00:01<00:00,  1.50s/it]\n"
     ]
    },
    {
     "name": "stdout",
     "output_type": "stream",
     "text": [
      "(1, 1448)\n",
      "43\n",
      "899 回目\n"
     ]
    },
    {
     "name": "stderr",
     "output_type": "stream",
     "text": [
      "100%|██████████████████████████████████████████████████████████████████████████████████████████████████████████████████████████████████████████| 1/1 [00:01<00:00,  1.30s/it]\n"
     ]
    },
    {
     "name": "stdout",
     "output_type": "stream",
     "text": [
      "(1, 1447)\n",
      "43\n",
      "900 回目\n"
     ]
    },
    {
     "name": "stderr",
     "output_type": "stream",
     "text": [
      "100%|██████████████████████████████████████████████████████████████████████████████████████████████████████████████████████████████████████████| 1/1 [00:01<00:00,  1.43s/it]\n"
     ]
    },
    {
     "name": "stdout",
     "output_type": "stream",
     "text": [
      "(1, 1443)\n",
      "43\n",
      "901 回目\n"
     ]
    },
    {
     "name": "stderr",
     "output_type": "stream",
     "text": [
      "100%|██████████████████████████████████████████████████████████████████████████████████████████████████████████████████████████████████████████| 1/1 [00:01<00:00,  1.48s/it]\n"
     ]
    },
    {
     "name": "stdout",
     "output_type": "stream",
     "text": [
      "(1, 1446)\n",
      "43\n",
      "902 回目\n"
     ]
    },
    {
     "name": "stderr",
     "output_type": "stream",
     "text": [
      "100%|██████████████████████████████████████████████████████████████████████████████████████████████████████████████████████████████████████████| 1/1 [00:01<00:00,  1.23s/it]\n"
     ]
    },
    {
     "name": "stdout",
     "output_type": "stream",
     "text": [
      "(1, 1440)\n",
      "43\n",
      "903 回目\n"
     ]
    },
    {
     "name": "stderr",
     "output_type": "stream",
     "text": [
      "100%|██████████████████████████████████████████████████████████████████████████████████████████████████████████████████████████████████████████| 1/1 [00:00<00:00,  1.09it/s]\n"
     ]
    },
    {
     "name": "stdout",
     "output_type": "stream",
     "text": [
      "(1, 1176)\n",
      "\"['ATS1s_SMILES', 'GATS4s_SMILES'] not in index\"\n",
      "904 回目\n"
     ]
    },
    {
     "name": "stderr",
     "output_type": "stream",
     "text": [
      "100%|██████████████████████████████████████████████████████████████████████████████████████████████████████████████████████████████████████████| 1/1 [00:01<00:00,  1.22s/it]\n"
     ]
    },
    {
     "name": "stdout",
     "output_type": "stream",
     "text": [
      "(1, 1449)\n",
      "44\n",
      "905 回目\n"
     ]
    },
    {
     "name": "stderr",
     "output_type": "stream",
     "text": [
      "100%|██████████████████████████████████████████████████████████████████████████████████████████████████████████████████████████████████████████| 1/1 [00:01<00:00,  1.16s/it]\n"
     ]
    },
    {
     "name": "stdout",
     "output_type": "stream",
     "text": [
      "(1, 1447)\n",
      "44\n",
      "906 回目\n"
     ]
    },
    {
     "name": "stderr",
     "output_type": "stream",
     "text": [
      "100%|██████████████████████████████████████████████████████████████████████████████████████████████████████████████████████████████████████████| 1/1 [00:01<00:00,  1.11s/it]\n"
     ]
    },
    {
     "name": "stdout",
     "output_type": "stream",
     "text": [
      "(1, 1452)\n",
      "44\n",
      "907 回目\n"
     ]
    },
    {
     "name": "stderr",
     "output_type": "stream",
     "text": [
      "100%|██████████████████████████████████████████████████████████████████████████████████████████████████████████████████████████████████████████| 1/1 [00:02<00:00,  2.85s/it]\n"
     ]
    },
    {
     "name": "stdout",
     "output_type": "stream",
     "text": [
      "(1, 1441)\n",
      "44\n",
      "908 回目\n"
     ]
    },
    {
     "name": "stderr",
     "output_type": "stream",
     "text": [
      "100%|██████████████████████████████████████████████████████████████████████████████████████████████████████████████████████████████████████████| 1/1 [00:02<00:00,  2.76s/it]\n"
     ]
    },
    {
     "name": "stdout",
     "output_type": "stream",
     "text": [
      "(1, 1435)\n",
      "44\n",
      "909 回目\n"
     ]
    },
    {
     "name": "stderr",
     "output_type": "stream",
     "text": [
      "100%|██████████████████████████████████████████████████████████████████████████████████████████████████████████████████████████████████████████| 1/1 [00:01<00:00,  1.18s/it]\n"
     ]
    },
    {
     "name": "stdout",
     "output_type": "stream",
     "text": [
      "(1, 1390)\n",
      "44\n",
      "910 回目\n"
     ]
    },
    {
     "name": "stderr",
     "output_type": "stream",
     "text": [
      "100%|██████████████████████████████████████████████████████████████████████████████████████████████████████████████████████████████████████████| 1/1 [00:01<00:00,  1.57s/it]\n"
     ]
    },
    {
     "name": "stdout",
     "output_type": "stream",
     "text": [
      "(1, 1446)\n",
      "44\n",
      "911 回目\n"
     ]
    },
    {
     "name": "stderr",
     "output_type": "stream",
     "text": [
      "100%|██████████████████████████████████████████████████████████████████████████████████████████████████████████████████████████████████████████| 1/1 [00:01<00:00,  1.29s/it]\n"
     ]
    },
    {
     "name": "stdout",
     "output_type": "stream",
     "text": [
      "(1, 1444)\n",
      "44\n",
      "912 回目\n"
     ]
    },
    {
     "name": "stderr",
     "output_type": "stream",
     "text": [
      "100%|██████████████████████████████████████████████████████████████████████████████████████████████████████████████████████████████████████████| 1/1 [00:01<00:00,  1.37s/it]\n"
     ]
    },
    {
     "name": "stdout",
     "output_type": "stream",
     "text": [
      "(1, 1446)\n",
      "44\n",
      "913 回目\n"
     ]
    },
    {
     "name": "stderr",
     "output_type": "stream",
     "text": [
      "100%|██████████████████████████████████████████████████████████████████████████████████████████████████████████████████████████████████████████| 1/1 [00:01<00:00,  1.81s/it]\n"
     ]
    },
    {
     "name": "stdout",
     "output_type": "stream",
     "text": [
      "(1, 1439)\n",
      "44\n",
      "914 回目\n"
     ]
    },
    {
     "name": "stderr",
     "output_type": "stream",
     "text": [
      "100%|██████████████████████████████████████████████████████████████████████████████████████████████████████████████████████████████████████████| 1/1 [00:02<00:00,  2.39s/it]\n"
     ]
    },
    {
     "name": "stdout",
     "output_type": "stream",
     "text": [
      "(1, 1434)\n",
      "44\n",
      "915 回目\n"
     ]
    },
    {
     "name": "stderr",
     "output_type": "stream",
     "text": [
      "100%|██████████████████████████████████████████████████████████████████████████████████████████████████████████████████████████████████████████| 1/1 [00:03<00:00,  3.05s/it]\n"
     ]
    },
    {
     "name": "stdout",
     "output_type": "stream",
     "text": [
      "(1, 1442)\n",
      "44\n",
      "916 回目\n"
     ]
    },
    {
     "name": "stderr",
     "output_type": "stream",
     "text": [
      "100%|██████████████████████████████████████████████████████████████████████████████████████████████████████████████████████████████████████████| 1/1 [00:01<00:00,  1.32s/it]\n"
     ]
    },
    {
     "name": "stdout",
     "output_type": "stream",
     "text": [
      "(1, 1447)\n",
      "44\n",
      "917 回目\n"
     ]
    },
    {
     "name": "stderr",
     "output_type": "stream",
     "text": [
      "100%|██████████████████████████████████████████████████████████████████████████████████████████████████████████████████████████████████████████| 1/1 [00:01<00:00,  1.32s/it]\n"
     ]
    },
    {
     "name": "stdout",
     "output_type": "stream",
     "text": [
      "(1, 1441)\n",
      "44\n",
      "918 回目\n"
     ]
    },
    {
     "name": "stderr",
     "output_type": "stream",
     "text": [
      "100%|██████████████████████████████████████████████████████████████████████████████████████████████████████████████████████████████████████████| 1/1 [00:01<00:00,  1.59s/it]\n"
     ]
    },
    {
     "name": "stdout",
     "output_type": "stream",
     "text": [
      "(1, 1437)\n",
      "44\n",
      "919 回目\n"
     ]
    },
    {
     "name": "stderr",
     "output_type": "stream",
     "text": [
      "100%|██████████████████████████████████████████████████████████████████████████████████████████████████████████████████████████████████████████| 1/1 [00:01<00:00,  1.06s/it]\n"
     ]
    },
    {
     "name": "stdout",
     "output_type": "stream",
     "text": [
      "(1, 1241)\n",
      "44\n",
      "920 回目\n"
     ]
    },
    {
     "name": "stderr",
     "output_type": "stream",
     "text": [
      "100%|██████████████████████████████████████████████████████████████████████████████████████████████████████████████████████████████████████████| 1/1 [00:00<00:00,  1.03it/s]\n"
     ]
    },
    {
     "name": "stdout",
     "output_type": "stream",
     "text": [
      "(1, 1240)\n",
      "44\n",
      "921 回目\n"
     ]
    },
    {
     "name": "stderr",
     "output_type": "stream",
     "text": [
      "100%|██████████████████████████████████████████████████████████████████████████████████████████████████████████████████████████████████████████| 1/1 [00:01<00:00,  1.95s/it]\n"
     ]
    },
    {
     "name": "stdout",
     "output_type": "stream",
     "text": [
      "(1, 1446)\n",
      "44\n",
      "922 回目\n"
     ]
    },
    {
     "name": "stderr",
     "output_type": "stream",
     "text": [
      "100%|██████████████████████████████████████████████████████████████████████████████████████████████████████████████████████████████████████████| 1/1 [00:01<00:00,  1.30s/it]\n"
     ]
    },
    {
     "name": "stdout",
     "output_type": "stream",
     "text": [
      "(1, 1443)\n",
      "44\n",
      "923 回目\n"
     ]
    },
    {
     "name": "stderr",
     "output_type": "stream",
     "text": [
      "100%|██████████████████████████████████████████████████████████████████████████████████████████████████████████████████████████████████████████| 1/1 [00:01<00:00,  1.61s/it]\n"
     ]
    },
    {
     "name": "stdout",
     "output_type": "stream",
     "text": [
      "(1, 1447)\n",
      "44\n",
      "924 回目\n"
     ]
    },
    {
     "name": "stderr",
     "output_type": "stream",
     "text": [
      "100%|██████████████████████████████████████████████████████████████████████████████████████████████████████████████████████████████████████████| 1/1 [00:01<00:00,  1.95s/it]\n"
     ]
    },
    {
     "name": "stdout",
     "output_type": "stream",
     "text": [
      "(1, 1446)\n",
      "44\n",
      "925 回目\n"
     ]
    },
    {
     "name": "stderr",
     "output_type": "stream",
     "text": [
      "100%|██████████████████████████████████████████████████████████████████████████████████████████████████████████████████████████████████████████| 1/1 [00:01<00:00,  1.87s/it]\n"
     ]
    },
    {
     "name": "stdout",
     "output_type": "stream",
     "text": [
      "(1, 1444)\n",
      "44\n",
      "926 回目\n"
     ]
    },
    {
     "name": "stderr",
     "output_type": "stream",
     "text": [
      "100%|██████████████████████████████████████████████████████████████████████████████████████████████████████████████████████████████████████████| 1/1 [00:01<00:00,  1.04s/it]\n"
     ]
    },
    {
     "name": "stdout",
     "output_type": "stream",
     "text": [
      "(1, 1442)\n",
      "44\n",
      "927 回目\n"
     ]
    },
    {
     "name": "stderr",
     "output_type": "stream",
     "text": [
      "100%|██████████████████████████████████████████████████████████████████████████████████████████████████████████████████████████████████████████| 1/1 [00:01<00:00,  1.17s/it]\n"
     ]
    },
    {
     "name": "stdout",
     "output_type": "stream",
     "text": [
      "(1, 1445)\n",
      "44\n",
      "928 回目\n"
     ]
    },
    {
     "name": "stderr",
     "output_type": "stream",
     "text": [
      "100%|██████████████████████████████████████████████████████████████████████████████████████████████████████████████████████████████████████████| 1/1 [00:01<00:00,  1.26s/it]\n"
     ]
    },
    {
     "name": "stdout",
     "output_type": "stream",
     "text": [
      "(1, 1435)\n",
      "44\n",
      "929 回目\n"
     ]
    },
    {
     "name": "stderr",
     "output_type": "stream",
     "text": [
      "100%|██████████████████████████████████████████████████████████████████████████████████████████████████████████████████████████████████████████| 1/1 [00:01<00:00,  1.32s/it]\n"
     ]
    },
    {
     "name": "stdout",
     "output_type": "stream",
     "text": [
      "(1, 1442)\n",
      "44\n",
      "930 回目\n"
     ]
    },
    {
     "name": "stderr",
     "output_type": "stream",
     "text": [
      "100%|██████████████████████████████████████████████████████████████████████████████████████████████████████████████████████████████████████████| 1/1 [00:01<00:00,  1.25s/it]\n"
     ]
    },
    {
     "name": "stdout",
     "output_type": "stream",
     "text": [
      "(1, 1444)\n",
      "44\n",
      "931 回目\n"
     ]
    },
    {
     "name": "stderr",
     "output_type": "stream",
     "text": [
      "100%|██████████████████████████████████████████████████████████████████████████████████████████████████████████████████████████████████████████| 1/1 [00:01<00:00,  1.33s/it]\n"
     ]
    },
    {
     "name": "stdout",
     "output_type": "stream",
     "text": [
      "(1, 1441)\n",
      "44\n",
      "932 回目\n"
     ]
    },
    {
     "name": "stderr",
     "output_type": "stream",
     "text": [
      "100%|██████████████████████████████████████████████████████████████████████████████████████████████████████████████████████████████████████████| 1/1 [00:01<00:00,  1.30s/it]\n"
     ]
    },
    {
     "name": "stdout",
     "output_type": "stream",
     "text": [
      "(1, 1442)\n",
      "44\n",
      "933 回目\n"
     ]
    },
    {
     "name": "stderr",
     "output_type": "stream",
     "text": [
      "100%|██████████████████████████████████████████████████████████████████████████████████████████████████████████████████████████████████████████| 1/1 [00:01<00:00,  1.03s/it]\n"
     ]
    },
    {
     "name": "stdout",
     "output_type": "stream",
     "text": [
      "(1, 1239)\n",
      "44\n",
      "934 回目\n"
     ]
    },
    {
     "name": "stderr",
     "output_type": "stream",
     "text": [
      "100%|██████████████████████████████████████████████████████████████████████████████████████████████████████████████████████████████████████████| 1/1 [00:01<00:00,  1.10s/it]\n"
     ]
    },
    {
     "name": "stdout",
     "output_type": "stream",
     "text": [
      "(1, 1446)\n",
      "44\n",
      "935 回目\n"
     ]
    },
    {
     "name": "stderr",
     "output_type": "stream",
     "text": [
      "100%|██████████████████████████████████████████████████████████████████████████████████████████████████████████████████████████████████████████| 1/1 [00:01<00:00,  1.12s/it]\n"
     ]
    },
    {
     "name": "stdout",
     "output_type": "stream",
     "text": [
      "(1, 1446)\n",
      "44\n",
      "936 回目\n"
     ]
    },
    {
     "name": "stderr",
     "output_type": "stream",
     "text": [
      "100%|██████████████████████████████████████████████████████████████████████████████████████████████████████████████████████████████████████████| 1/1 [00:01<00:00,  1.23s/it]\n"
     ]
    },
    {
     "name": "stdout",
     "output_type": "stream",
     "text": [
      "(1, 1440)\n",
      "44\n",
      "937 回目\n"
     ]
    },
    {
     "name": "stderr",
     "output_type": "stream",
     "text": [
      "100%|██████████████████████████████████████████████████████████████████████████████████████████████████████████████████████████████████████████| 1/1 [00:01<00:00,  1.18s/it]\n"
     ]
    },
    {
     "name": "stdout",
     "output_type": "stream",
     "text": [
      "(1, 1448)\n",
      "44\n",
      "938 回目\n"
     ]
    },
    {
     "name": "stderr",
     "output_type": "stream",
     "text": [
      "100%|██████████████████████████████████████████████████████████████████████████████████████████████████████████████████████████████████████████| 1/1 [00:01<00:00,  1.35s/it]\n"
     ]
    },
    {
     "name": "stdout",
     "output_type": "stream",
     "text": [
      "(1, 1445)\n",
      "44\n",
      "939 回目\n"
     ]
    },
    {
     "name": "stderr",
     "output_type": "stream",
     "text": [
      "100%|██████████████████████████████████████████████████████████████████████████████████████████████████████████████████████████████████████████| 1/1 [00:01<00:00,  1.09s/it]\n"
     ]
    },
    {
     "name": "stdout",
     "output_type": "stream",
     "text": [
      "(1, 1449)\n",
      "44\n",
      "940 回目\n"
     ]
    },
    {
     "name": "stderr",
     "output_type": "stream",
     "text": [
      "100%|██████████████████████████████████████████████████████████████████████████████████████████████████████████████████████████████████████████| 1/1 [00:01<00:00,  1.08s/it]\n"
     ]
    },
    {
     "name": "stdout",
     "output_type": "stream",
     "text": [
      "(1, 1446)\n",
      "44\n",
      "941 回目\n"
     ]
    },
    {
     "name": "stderr",
     "output_type": "stream",
     "text": [
      "100%|██████████████████████████████████████████████████████████████████████████████████████████████████████████████████████████████████████████| 1/1 [00:01<00:00,  1.06s/it]\n"
     ]
    },
    {
     "name": "stdout",
     "output_type": "stream",
     "text": [
      "(1, 1399)\n",
      "44\n",
      "942 回目\n"
     ]
    },
    {
     "name": "stderr",
     "output_type": "stream",
     "text": [
      "100%|██████████████████████████████████████████████████████████████████████████████████████████████████████████████████████████████████████████| 1/1 [00:01<00:00,  1.04s/it]\n"
     ]
    },
    {
     "name": "stdout",
     "output_type": "stream",
     "text": [
      "(1, 1443)\n",
      "44\n",
      "943 回目\n"
     ]
    },
    {
     "name": "stderr",
     "output_type": "stream",
     "text": [
      "100%|██████████████████████████████████████████████████████████████████████████████████████████████████████████████████████████████████████████| 1/1 [00:01<00:00,  1.04s/it]\n"
     ]
    },
    {
     "name": "stdout",
     "output_type": "stream",
     "text": [
      "(1, 1448)\n",
      "44\n",
      "944 回目\n"
     ]
    },
    {
     "name": "stderr",
     "output_type": "stream",
     "text": [
      "100%|██████████████████████████████████████████████████████████████████████████████████████████████████████████████████████████████████████████| 1/1 [00:01<00:00,  1.30s/it]\n"
     ]
    },
    {
     "name": "stdout",
     "output_type": "stream",
     "text": [
      "(1, 1448)\n",
      "44\n",
      "945 回目\n"
     ]
    },
    {
     "name": "stderr",
     "output_type": "stream",
     "text": [
      "100%|██████████████████████████████████████████████████████████████████████████████████████████████████████████████████████████████████████████| 1/1 [00:01<00:00,  1.41s/it]\n"
     ]
    },
    {
     "name": "stdout",
     "output_type": "stream",
     "text": [
      "(1, 1448)\n",
      "44\n",
      "946 回目\n"
     ]
    },
    {
     "name": "stderr",
     "output_type": "stream",
     "text": [
      "100%|██████████████████████████████████████████████████████████████████████████████████████████████████████████████████████████████████████████| 1/1 [00:01<00:00,  1.53s/it]\n"
     ]
    },
    {
     "name": "stdout",
     "output_type": "stream",
     "text": [
      "(1, 1448)\n",
      "44\n",
      "947 回目\n"
     ]
    },
    {
     "name": "stderr",
     "output_type": "stream",
     "text": [
      "100%|██████████████████████████████████████████████████████████████████████████████████████████████████████████████████████████████████████████| 1/1 [00:01<00:00,  1.42s/it]\n"
     ]
    },
    {
     "name": "stdout",
     "output_type": "stream",
     "text": [
      "(1, 1448)\n",
      "44\n",
      "948 回目\n"
     ]
    },
    {
     "name": "stderr",
     "output_type": "stream",
     "text": [
      "100%|██████████████████████████████████████████████████████████████████████████████████████████████████████████████████████████████████████████| 1/1 [00:01<00:00,  1.06s/it]\n"
     ]
    },
    {
     "name": "stdout",
     "output_type": "stream",
     "text": [
      "(1, 1242)\n",
      "44\n",
      "949 回目\n"
     ]
    },
    {
     "name": "stderr",
     "output_type": "stream",
     "text": [
      "100%|██████████████████████████████████████████████████████████████████████████████████████████████████████████████████████████████████████████| 1/1 [00:01<00:00,  1.74s/it]\n"
     ]
    },
    {
     "name": "stdout",
     "output_type": "stream",
     "text": [
      "(1, 1441)\n",
      "44\n",
      "950 回目\n"
     ]
    },
    {
     "name": "stderr",
     "output_type": "stream",
     "text": [
      "100%|██████████████████████████████████████████████████████████████████████████████████████████████████████████████████████████████████████████| 1/1 [00:01<00:00,  1.30s/it]\n"
     ]
    },
    {
     "name": "stdout",
     "output_type": "stream",
     "text": [
      "(1, 1441)\n",
      "44\n",
      "951 回目\n"
     ]
    },
    {
     "name": "stderr",
     "output_type": "stream",
     "text": [
      "100%|██████████████████████████████████████████████████████████████████████████████████████████████████████████████████████████████████████████| 1/1 [00:01<00:00,  1.34s/it]\n"
     ]
    },
    {
     "name": "stdout",
     "output_type": "stream",
     "text": [
      "(1, 1393)\n",
      "44\n",
      "952 回目\n"
     ]
    },
    {
     "name": "stderr",
     "output_type": "stream",
     "text": [
      "100%|██████████████████████████████████████████████████████████████████████████████████████████████████████████████████████████████████████████| 1/1 [00:01<00:00,  1.37s/it]\n"
     ]
    },
    {
     "name": "stdout",
     "output_type": "stream",
     "text": [
      "(1, 1442)\n",
      "44\n",
      "953 回目\n"
     ]
    },
    {
     "name": "stderr",
     "output_type": "stream",
     "text": [
      "100%|██████████████████████████████████████████████████████████████████████████████████████████████████████████████████████████████████████████| 1/1 [00:01<00:00,  1.38s/it]\n"
     ]
    },
    {
     "name": "stdout",
     "output_type": "stream",
     "text": [
      "(1, 1238)\n",
      "44\n",
      "954 回目\n"
     ]
    },
    {
     "name": "stderr",
     "output_type": "stream",
     "text": [
      "100%|██████████████████████████████████████████████████████████████████████████████████████████████████████████████████████████████████████████| 1/1 [00:01<00:00,  1.76s/it]\n"
     ]
    },
    {
     "name": "stdout",
     "output_type": "stream",
     "text": [
      "(1, 1238)\n",
      "44\n",
      "955 回目\n"
     ]
    },
    {
     "name": "stderr",
     "output_type": "stream",
     "text": [
      "100%|██████████████████████████████████████████████████████████████████████████████████████████████████████████████████████████████████████████| 1/1 [00:01<00:00,  1.57s/it]\n"
     ]
    },
    {
     "name": "stdout",
     "output_type": "stream",
     "text": [
      "(1, 1442)\n",
      "44\n",
      "956 回目\n"
     ]
    },
    {
     "name": "stderr",
     "output_type": "stream",
     "text": [
      "100%|██████████████████████████████████████████████████████████████████████████████████████████████████████████████████████████████████████████| 1/1 [00:01<00:00,  1.16s/it]\n"
     ]
    },
    {
     "name": "stdout",
     "output_type": "stream",
     "text": [
      "(1, 1441)\n",
      "44\n",
      "957 回目\n"
     ]
    },
    {
     "name": "stderr",
     "output_type": "stream",
     "text": [
      "100%|██████████████████████████████████████████████████████████████████████████████████████████████████████████████████████████████████████████| 1/1 [00:01<00:00,  1.55s/it]\n"
     ]
    },
    {
     "name": "stdout",
     "output_type": "stream",
     "text": [
      "(1, 1437)\n",
      "44\n",
      "958 回目\n"
     ]
    },
    {
     "name": "stderr",
     "output_type": "stream",
     "text": [
      "100%|██████████████████████████████████████████████████████████████████████████████████████████████████████████████████████████████████████████| 1/1 [00:01<00:00,  1.56s/it]\n"
     ]
    },
    {
     "name": "stdout",
     "output_type": "stream",
     "text": [
      "(1, 1439)\n",
      "44\n",
      "959 回目\n"
     ]
    },
    {
     "name": "stderr",
     "output_type": "stream",
     "text": [
      "100%|██████████████████████████████████████████████████████████████████████████████████████████████████████████████████████████████████████████| 1/1 [00:01<00:00,  1.35s/it]\n"
     ]
    },
    {
     "name": "stdout",
     "output_type": "stream",
     "text": [
      "(1, 1441)\n",
      "44\n",
      "960 回目\n"
     ]
    },
    {
     "name": "stderr",
     "output_type": "stream",
     "text": [
      "100%|██████████████████████████████████████████████████████████████████████████████████████████████████████████████████████████████████████████| 1/1 [00:02<00:00,  2.09s/it]\n"
     ]
    },
    {
     "name": "stdout",
     "output_type": "stream",
     "text": [
      "(1, 1442)\n",
      "44\n",
      "961 回目\n"
     ]
    },
    {
     "name": "stderr",
     "output_type": "stream",
     "text": [
      "100%|██████████████████████████████████████████████████████████████████████████████████████████████████████████████████████████████████████████| 1/1 [00:01<00:00,  1.75s/it]\n"
     ]
    },
    {
     "name": "stdout",
     "output_type": "stream",
     "text": [
      "(1, 1446)\n",
      "44\n",
      "962 回目\n"
     ]
    },
    {
     "name": "stderr",
     "output_type": "stream",
     "text": [
      "100%|██████████████████████████████████████████████████████████████████████████████████████████████████████████████████████████████████████████| 1/1 [00:03<00:00,  3.19s/it]\n"
     ]
    },
    {
     "name": "stdout",
     "output_type": "stream",
     "text": [
      "(1, 1445)\n",
      "44\n",
      "963 回目\n"
     ]
    },
    {
     "name": "stderr",
     "output_type": "stream",
     "text": [
      "100%|██████████████████████████████████████████████████████████████████████████████████████████████████████████████████████████████████████████| 1/1 [00:01<00:00,  1.88s/it]\n"
     ]
    },
    {
     "name": "stdout",
     "output_type": "stream",
     "text": [
      "(1, 1446)\n",
      "44\n",
      "964 回目\n"
     ]
    },
    {
     "name": "stderr",
     "output_type": "stream",
     "text": [
      "100%|██████████████████████████████████████████████████████████████████████████████████████████████████████████████████████████████████████████| 1/1 [00:01<00:00,  1.42s/it]\n"
     ]
    },
    {
     "name": "stdout",
     "output_type": "stream",
     "text": [
      "(1, 1452)\n",
      "44\n",
      "965 回目\n"
     ]
    },
    {
     "name": "stderr",
     "output_type": "stream",
     "text": [
      "100%|██████████████████████████████████████████████████████████████████████████████████████████████████████████████████████████████████████████| 1/1 [00:01<00:00,  1.68s/it]\n"
     ]
    },
    {
     "name": "stdout",
     "output_type": "stream",
     "text": [
      "(1, 1447)\n",
      "44\n",
      "966 回目\n"
     ]
    },
    {
     "name": "stderr",
     "output_type": "stream",
     "text": [
      "100%|██████████████████████████████████████████████████████████████████████████████████████████████████████████████████████████████████████████| 1/1 [00:01<00:00,  1.42s/it]\n"
     ]
    },
    {
     "name": "stdout",
     "output_type": "stream",
     "text": [
      "(1, 1440)\n",
      "44\n",
      "967 回目\n"
     ]
    },
    {
     "name": "stderr",
     "output_type": "stream",
     "text": [
      "100%|██████████████████████████████████████████████████████████████████████████████████████████████████████████████████████████████████████████| 1/1 [00:02<00:00,  2.23s/it]\n"
     ]
    },
    {
     "name": "stdout",
     "output_type": "stream",
     "text": [
      "(1, 1444)\n",
      "44\n",
      "968 回目\n"
     ]
    },
    {
     "name": "stderr",
     "output_type": "stream",
     "text": [
      "100%|██████████████████████████████████████████████████████████████████████████████████████████████████████████████████████████████████████████| 1/1 [00:01<00:00,  1.28s/it]\n"
     ]
    },
    {
     "name": "stdout",
     "output_type": "stream",
     "text": [
      "(1, 1448)\n",
      "44\n",
      "969 回目\n"
     ]
    },
    {
     "name": "stderr",
     "output_type": "stream",
     "text": [
      "100%|██████████████████████████████████████████████████████████████████████████████████████████████████████████████████████████████████████████| 1/1 [00:01<00:00,  1.39s/it]\n"
     ]
    },
    {
     "name": "stdout",
     "output_type": "stream",
     "text": [
      "(1, 1449)\n",
      "44\n",
      "970 回目\n"
     ]
    },
    {
     "name": "stderr",
     "output_type": "stream",
     "text": [
      "100%|██████████████████████████████████████████████████████████████████████████████████████████████████████████████████████████████████████████| 1/1 [00:01<00:00,  1.53s/it]\n"
     ]
    },
    {
     "name": "stdout",
     "output_type": "stream",
     "text": [
      "(1, 1445)\n",
      "44\n",
      "971 回目\n"
     ]
    },
    {
     "name": "stderr",
     "output_type": "stream",
     "text": [
      "100%|██████████████████████████████████████████████████████████████████████████████████████████████████████████████████████████████████████████| 1/1 [00:01<00:00,  1.75s/it]\n"
     ]
    },
    {
     "name": "stdout",
     "output_type": "stream",
     "text": [
      "(1, 1437)\n",
      "44\n",
      "972 回目\n"
     ]
    },
    {
     "name": "stderr",
     "output_type": "stream",
     "text": [
      "100%|██████████████████████████████████████████████████████████████████████████████████████████████████████████████████████████████████████████| 1/1 [00:02<00:00,  2.88s/it]\n"
     ]
    },
    {
     "name": "stdout",
     "output_type": "stream",
     "text": [
      "(1, 1454)\n",
      "44\n",
      "973 回目\n"
     ]
    },
    {
     "name": "stderr",
     "output_type": "stream",
     "text": [
      "100%|██████████████████████████████████████████████████████████████████████████████████████████████████████████████████████████████████████████| 1/1 [00:01<00:00,  1.92s/it]\n"
     ]
    },
    {
     "name": "stdout",
     "output_type": "stream",
     "text": [
      "(1, 1446)\n",
      "44\n",
      "974 回目\n"
     ]
    },
    {
     "name": "stderr",
     "output_type": "stream",
     "text": [
      "100%|██████████████████████████████████████████████████████████████████████████████████████████████████████████████████████████████████████████| 1/1 [00:01<00:00,  1.50s/it]\n"
     ]
    },
    {
     "name": "stdout",
     "output_type": "stream",
     "text": [
      "(1, 1441)\n",
      "44\n",
      "975 回目\n"
     ]
    },
    {
     "name": "stderr",
     "output_type": "stream",
     "text": [
      "100%|██████████████████████████████████████████████████████████████████████████████████████████████████████████████████████████████████████████| 1/1 [00:01<00:00,  1.46s/it]\n"
     ]
    },
    {
     "name": "stdout",
     "output_type": "stream",
     "text": [
      "(1, 1441)\n",
      "44\n",
      "976 回目\n"
     ]
    },
    {
     "name": "stderr",
     "output_type": "stream",
     "text": [
      "100%|██████████████████████████████████████████████████████████████████████████████████████████████████████████████████████████████████████████| 1/1 [00:01<00:00,  1.63s/it]\n"
     ]
    },
    {
     "name": "stdout",
     "output_type": "stream",
     "text": [
      "(1, 1443)\n",
      "44\n",
      "977 回目\n"
     ]
    },
    {
     "name": "stderr",
     "output_type": "stream",
     "text": [
      "100%|██████████████████████████████████████████████████████████████████████████████████████████████████████████████████████████████████████████| 1/1 [00:01<00:00,  1.63s/it]\n"
     ]
    },
    {
     "name": "stdout",
     "output_type": "stream",
     "text": [
      "(1, 1448)\n",
      "44\n",
      "978 回目\n"
     ]
    },
    {
     "name": "stderr",
     "output_type": "stream",
     "text": [
      "100%|██████████████████████████████████████████████████████████████████████████████████████████████████████████████████████████████████████████| 1/1 [00:02<00:00,  2.24s/it]\n"
     ]
    },
    {
     "name": "stdout",
     "output_type": "stream",
     "text": [
      "(1, 1177)\n",
      "\"['ATS1s_SMILES', 'GATS4s_SMILES'] not in index\"\n",
      "979 回目\n"
     ]
    },
    {
     "name": "stderr",
     "output_type": "stream",
     "text": [
      "100%|██████████████████████████████████████████████████████████████████████████████████████████████████████████████████████████████████████████| 1/1 [00:01<00:00,  1.54s/it]\n"
     ]
    },
    {
     "name": "stdout",
     "output_type": "stream",
     "text": [
      "/Users/watanabeyuitou/opt/anaconda3/envs/chem/lib/python3.9/site-packages/numpy/core/fromnumeric.py:86: RuntimeWarning: overflow encountered in reduce\n",
      "  return ufunc.reduce(obj, axis, dtype, out, **passkwargs)\n",
      "(1, 1237)\n",
      "45\n",
      "980 回目\n"
     ]
    },
    {
     "name": "stderr",
     "output_type": "stream",
     "text": [
      "100%|██████████████████████████████████████████████████████████████████████████████████████████████████████████████████████████████████████████| 1/1 [00:01<00:00,  1.58s/it]\n"
     ]
    },
    {
     "name": "stdout",
     "output_type": "stream",
     "text": [
      "(1, 1446)\n",
      "45\n",
      "981 回目\n"
     ]
    },
    {
     "name": "stderr",
     "output_type": "stream",
     "text": [
      "100%|██████████████████████████████████████████████████████████████████████████████████████████████████████████████████████████████████████████| 1/1 [00:02<00:00,  2.40s/it]\n"
     ]
    },
    {
     "name": "stdout",
     "output_type": "stream",
     "text": [
      "(1, 1448)\n",
      "45\n",
      "982 回目\n"
     ]
    },
    {
     "name": "stderr",
     "output_type": "stream",
     "text": [
      "100%|██████████████████████████████████████████████████████████████████████████████████████████████████████████████████████████████████████████| 1/1 [00:02<00:00,  2.46s/it]\n"
     ]
    },
    {
     "name": "stdout",
     "output_type": "stream",
     "text": [
      "(1, 1445)\n",
      "45\n",
      "983 回目\n"
     ]
    },
    {
     "name": "stderr",
     "output_type": "stream",
     "text": [
      "100%|██████████████████████████████████████████████████████████████████████████████████████████████████████████████████████████████████████████| 1/1 [00:01<00:00,  1.88s/it]\n"
     ]
    },
    {
     "name": "stdout",
     "output_type": "stream",
     "text": [
      "(1, 1446)\n",
      "45\n",
      "984 回目\n"
     ]
    },
    {
     "name": "stderr",
     "output_type": "stream",
     "text": [
      "100%|██████████████████████████████████████████████████████████████████████████████████████████████████████████████████████████████████████████| 1/1 [00:01<00:00,  1.87s/it]\n"
     ]
    },
    {
     "name": "stdout",
     "output_type": "stream",
     "text": [
      "(1, 1446)\n",
      "45\n",
      "985 回目\n"
     ]
    },
    {
     "name": "stderr",
     "output_type": "stream",
     "text": [
      "100%|██████████████████████████████████████████████████████████████████████████████████████████████████████████████████████████████████████████| 1/1 [00:01<00:00,  1.48s/it]\n"
     ]
    },
    {
     "name": "stdout",
     "output_type": "stream",
     "text": [
      "(1, 1446)\n",
      "45\n",
      "986 回目\n"
     ]
    },
    {
     "name": "stderr",
     "output_type": "stream",
     "text": [
      "100%|██████████████████████████████████████████████████████████████████████████████████████████████████████████████████████████████████████████| 1/1 [00:01<00:00,  1.33s/it]\n"
     ]
    },
    {
     "name": "stdout",
     "output_type": "stream",
     "text": [
      "(1, 1441)\n",
      "45\n",
      "987 回目\n"
     ]
    },
    {
     "name": "stderr",
     "output_type": "stream",
     "text": [
      "100%|██████████████████████████████████████████████████████████████████████████████████████████████████████████████████████████████████████████| 1/1 [00:01<00:00,  1.45s/it]\n"
     ]
    },
    {
     "name": "stdout",
     "output_type": "stream",
     "text": [
      "(1, 1446)\n",
      "45\n",
      "988 回目\n"
     ]
    },
    {
     "name": "stderr",
     "output_type": "stream",
     "text": [
      "100%|██████████████████████████████████████████████████████████████████████████████████████████████████████████████████████████████████████████| 1/1 [00:01<00:00,  1.26s/it]\n"
     ]
    },
    {
     "name": "stdout",
     "output_type": "stream",
     "text": [
      "(1, 1440)\n",
      "45\n",
      "989 回目\n"
     ]
    },
    {
     "name": "stderr",
     "output_type": "stream",
     "text": [
      "100%|██████████████████████████████████████████████████████████████████████████████████████████████████████████████████████████████████████████| 1/1 [00:01<00:00,  1.23s/it]\n"
     ]
    },
    {
     "name": "stdout",
     "output_type": "stream",
     "text": [
      "(1, 1442)\n",
      "45\n",
      "990 回目\n"
     ]
    },
    {
     "name": "stderr",
     "output_type": "stream",
     "text": [
      "100%|██████████████████████████████████████████████████████████████████████████████████████████████████████████████████████████████████████████| 1/1 [00:01<00:00,  1.13s/it]\n"
     ]
    },
    {
     "name": "stdout",
     "output_type": "stream",
     "text": [
      "(1, 1441)\n",
      "45\n",
      "991 回目\n"
     ]
    },
    {
     "name": "stderr",
     "output_type": "stream",
     "text": [
      "100%|██████████████████████████████████████████████████████████████████████████████████████████████████████████████████████████████████████████| 1/1 [00:01<00:00,  1.46s/it]\n"
     ]
    },
    {
     "name": "stdout",
     "output_type": "stream",
     "text": [
      "(1, 1437)\n",
      "45\n",
      "992 回目\n"
     ]
    },
    {
     "name": "stderr",
     "output_type": "stream",
     "text": [
      "100%|██████████████████████████████████████████████████████████████████████████████████████████████████████████████████████████████████████████| 1/1 [00:02<00:00,  2.11s/it]\n"
     ]
    },
    {
     "name": "stdout",
     "output_type": "stream",
     "text": [
      "(1, 1446)\n",
      "45\n",
      "993 回目\n"
     ]
    },
    {
     "name": "stderr",
     "output_type": "stream",
     "text": [
      "100%|██████████████████████████████████████████████████████████████████████████████████████████████████████████████████████████████████████████| 1/1 [00:01<00:00,  1.24s/it]\n"
     ]
    },
    {
     "name": "stdout",
     "output_type": "stream",
     "text": [
      "(1, 1448)\n",
      "45\n",
      "994 回目\n"
     ]
    },
    {
     "name": "stderr",
     "output_type": "stream",
     "text": [
      "100%|██████████████████████████████████████████████████████████████████████████████████████████████████████████████████████████████████████████| 1/1 [00:01<00:00,  1.22s/it]\n"
     ]
    },
    {
     "name": "stdout",
     "output_type": "stream",
     "text": [
      "(1, 1442)\n",
      "45\n",
      "995 回目\n"
     ]
    },
    {
     "name": "stderr",
     "output_type": "stream",
     "text": [
      "100%|██████████████████████████████████████████████████████████████████████████████████████████████████████████████████████████████████████████| 1/1 [00:01<00:00,  1.19s/it]\n"
     ]
    },
    {
     "name": "stdout",
     "output_type": "stream",
     "text": [
      "(1, 1442)\n",
      "45\n",
      "996 回目\n"
     ]
    },
    {
     "name": "stderr",
     "output_type": "stream",
     "text": [
      "100%|██████████████████████████████████████████████████████████████████████████████████████████████████████████████████████████████████████████| 1/1 [00:01<00:00,  1.19s/it]\n"
     ]
    },
    {
     "name": "stdout",
     "output_type": "stream",
     "text": [
      "(1, 1446)\n",
      "45\n",
      "997 回目\n"
     ]
    },
    {
     "name": "stderr",
     "output_type": "stream",
     "text": [
      "100%|██████████████████████████████████████████████████████████████████████████████████████████████████████████████████████████████████████████| 1/1 [00:01<00:00,  1.03s/it]\n"
     ]
    },
    {
     "name": "stdout",
     "output_type": "stream",
     "text": [
      "(1, 1448)\n",
      "45\n",
      "998 回目\n"
     ]
    },
    {
     "name": "stderr",
     "output_type": "stream",
     "text": [
      "100%|██████████████████████████████████████████████████████████████████████████████████████████████████████████████████████████████████████████| 1/1 [00:01<00:00,  1.39s/it]\n"
     ]
    },
    {
     "name": "stdout",
     "output_type": "stream",
     "text": [
      "(1, 1445)\n",
      "45\n",
      "999 回目\n"
     ]
    },
    {
     "name": "stderr",
     "output_type": "stream",
     "text": [
      "100%|██████████████████████████████████████████████████████████████████████████████████████████████████████████████████████████████████████████| 1/1 [00:01<00:00,  1.17s/it]\n"
     ]
    },
    {
     "name": "stdout",
     "output_type": "stream",
     "text": [
      "(1, 1443)\n",
      "45\n"
     ]
    }
   ],
   "source": [
    "# structure creatioin 2\n",
    "FINGER_COLUMN=['SMILES']\n",
    "finger_method = ['avalon','mordred_2d']\n",
    "df = pd.read_csv('./data/structure_creation2/smiles.csv',index_col=0)\n",
    "# エラー出るrowを削除\n",
    "drop_row = [\n",
    "    0,6,7,8,88,89,121,196,216,227,318,339,367,415,472,473,500,501,502,506,507,508,509,510,511,512,513,514,515,516,517,519,520,522,532,\n",
    "    637,690,715,729,769,778,836,837,903,978,\n",
    " ]\n",
    "err_cnt=0\n",
    "df_list = pd.DataFrame()\n",
    "for i in range(df.shape[0]):\n",
    "    df_split = df.iloc[i:i+1,:]\n",
    "    print(i,'回目')\n",
    "    df_ = toFinger(df_split,FINGER_COLUMN,'mordred_2d')\n",
    "    try:\n",
    "        print(df_.shape)\n",
    "        df_[['ATS1s_SMILES', 'AATS0p_SMILES', 'AATSC0i_SMILES','GATS4s_SMILES', 'BalabanJ_SMILES']]\n",
    "        df_list = pd.concat([df_list,df_])\n",
    "    except Exception as e:\n",
    "        print(e)\n",
    "        err_cnt+=1\n",
    "        continue\n",
    "    df_list.to_csv(f'./data/structure_creation2/mordred.csv')\n",
    "    print(err_cnt)"
   ]
  },
  {
   "cell_type": "code",
   "execution_count": 110,
   "id": "96d98ef4-97b9-4a22-b374-3c18720a5555",
   "metadata": {},
   "outputs": [
    {
     "name": "stdout",
     "output_type": "stream",
     "text": [
      "0 回目\n"
     ]
    },
    {
     "name": "stderr",
     "output_type": "stream",
     "text": [
      "100%|██████████████████████████████████████████████████████████████████████████████████████████████████████████████████████████████████████████| 1/1 [00:00<00:00,  1.17it/s]\n"
     ]
    },
    {
     "name": "stdout",
     "output_type": "stream",
     "text": [
      "(1, 1389)\n",
      "0\n",
      "1 回目\n"
     ]
    },
    {
     "name": "stderr",
     "output_type": "stream",
     "text": [
      "100%|██████████████████████████████████████████████████████████████████████████████████████████████████████████████████████████████████████████| 1/1 [00:00<00:00,  1.50it/s]\n"
     ]
    },
    {
     "name": "stdout",
     "output_type": "stream",
     "text": [
      "(1, 1129)\n",
      "\"['ATS1s_SMILES', 'GATS4s_SMILES'] not in index\"\n",
      "2 回目\n"
     ]
    },
    {
     "name": "stderr",
     "output_type": "stream",
     "text": [
      "100%|██████████████████████████████████████████████████████████████████████████████████████████████████████████████████████████████████████████| 1/1 [00:00<00:00,  1.12it/s]\n"
     ]
    },
    {
     "name": "stdout",
     "output_type": "stream",
     "text": [
      "(1, 1389)\n",
      "1\n",
      "3 回目\n"
     ]
    },
    {
     "name": "stderr",
     "output_type": "stream",
     "text": [
      "100%|██████████████████████████████████████████████████████████████████████████████████████████████████████████████████████████████████████████| 1/1 [00:00<00:00,  1.31it/s]\n"
     ]
    },
    {
     "name": "stdout",
     "output_type": "stream",
     "text": [
      "(1, 1393)\n",
      "1\n",
      "4 回目\n"
     ]
    },
    {
     "name": "stderr",
     "output_type": "stream",
     "text": [
      "100%|██████████████████████████████████████████████████████████████████████████████████████████████████████████████████████████████████████████| 1/1 [00:00<00:00,  1.20it/s]\n"
     ]
    },
    {
     "name": "stdout",
     "output_type": "stream",
     "text": [
      "(1, 1172)\n",
      "\"['ATS1s_SMILES', 'GATS4s_SMILES'] not in index\"\n",
      "5 回目\n"
     ]
    },
    {
     "name": "stderr",
     "output_type": "stream",
     "text": [
      "100%|██████████████████████████████████████████████████████████████████████████████████████████████████████████████████████████████████████████| 1/1 [00:00<00:00,  1.10it/s]\n"
     ]
    },
    {
     "name": "stdout",
     "output_type": "stream",
     "text": [
      "(1, 1436)\n",
      "2\n",
      "6 回目\n"
     ]
    },
    {
     "name": "stderr",
     "output_type": "stream",
     "text": [
      "100%|██████████████████████████████████████████████████████████████████████████████████████████████████████████████████████████████████████████| 1/1 [00:00<00:00,  1.25it/s]\n"
     ]
    },
    {
     "name": "stdout",
     "output_type": "stream",
     "text": [
      "(1, 1440)\n",
      "2\n",
      "7 回目\n"
     ]
    },
    {
     "name": "stderr",
     "output_type": "stream",
     "text": [
      "100%|██████████████████████████████████████████████████████████████████████████████████████████████████████████████████████████████████████████| 1/1 [00:00<00:00,  1.14it/s]\n"
     ]
    },
    {
     "name": "stdout",
     "output_type": "stream",
     "text": [
      "(1, 1389)\n",
      "2\n",
      "8 回目\n"
     ]
    },
    {
     "name": "stderr",
     "output_type": "stream",
     "text": [
      "100%|██████████████████████████████████████████████████████████████████████████████████████████████████████████████████████████████████████████| 1/1 [00:00<00:00,  1.28it/s]\n"
     ]
    },
    {
     "name": "stdout",
     "output_type": "stream",
     "text": [
      "(1, 1389)\n",
      "2\n",
      "9 回目\n"
     ]
    },
    {
     "name": "stderr",
     "output_type": "stream",
     "text": [
      "100%|██████████████████████████████████████████████████████████████████████████████████████████████████████████████████████████████████████████| 1/1 [00:00<00:00,  1.28it/s]\n"
     ]
    },
    {
     "name": "stdout",
     "output_type": "stream",
     "text": [
      "(1, 1396)\n",
      "2\n",
      "10 回目\n"
     ]
    },
    {
     "name": "stderr",
     "output_type": "stream",
     "text": [
      "100%|██████████████████████████████████████████████████████████████████████████████████████████████████████████████████████████████████████████| 1/1 [00:00<00:00,  1.26it/s]\n"
     ]
    },
    {
     "name": "stdout",
     "output_type": "stream",
     "text": [
      "(1, 1391)\n",
      "2\n",
      "11 回目\n"
     ]
    },
    {
     "name": "stderr",
     "output_type": "stream",
     "text": [
      "100%|██████████████████████████████████████████████████████████████████████████████████████████████████████████████████████████████████████████| 1/1 [00:00<00:00,  1.01it/s]\n"
     ]
    },
    {
     "name": "stdout",
     "output_type": "stream",
     "text": [
      "(1, 1438)\n",
      "2\n",
      "12 回目\n"
     ]
    },
    {
     "name": "stderr",
     "output_type": "stream",
     "text": [
      "100%|██████████████████████████████████████████████████████████████████████████████████████████████████████████████████████████████████████████| 1/1 [00:01<00:00,  1.15s/it]\n"
     ]
    },
    {
     "name": "stdout",
     "output_type": "stream",
     "text": [
      "(1, 1438)\n",
      "2\n",
      "13 回目\n"
     ]
    },
    {
     "name": "stderr",
     "output_type": "stream",
     "text": [
      "100%|██████████████████████████████████████████████████████████████████████████████████████████████████████████████████████████████████████████| 1/1 [00:00<00:00,  1.20it/s]\n"
     ]
    },
    {
     "name": "stdout",
     "output_type": "stream",
     "text": [
      "(1, 1440)\n",
      "2\n",
      "14 回目\n"
     ]
    },
    {
     "name": "stderr",
     "output_type": "stream",
     "text": [
      "100%|██████████████████████████████████████████████████████████████████████████████████████████████████████████████████████████████████████████| 1/1 [00:00<00:00,  1.26it/s]\n"
     ]
    },
    {
     "name": "stdout",
     "output_type": "stream",
     "text": [
      "(1, 1391)\n",
      "2\n",
      "15 回目\n"
     ]
    },
    {
     "name": "stderr",
     "output_type": "stream",
     "text": [
      "100%|██████████████████████████████████████████████████████████████████████████████████████████████████████████████████████████████████████████| 1/1 [00:00<00:00,  1.13it/s]\n"
     ]
    },
    {
     "name": "stdout",
     "output_type": "stream",
     "text": [
      "(1, 1391)\n",
      "2\n",
      "16 回目\n"
     ]
    },
    {
     "name": "stderr",
     "output_type": "stream",
     "text": [
      "100%|██████████████████████████████████████████████████████████████████████████████████████████████████████████████████████████████████████████| 1/1 [00:00<00:00,  1.21it/s]\n"
     ]
    },
    {
     "name": "stdout",
     "output_type": "stream",
     "text": [
      "(1, 1391)\n",
      "2\n",
      "17 回目\n"
     ]
    },
    {
     "name": "stderr",
     "output_type": "stream",
     "text": [
      "100%|██████████████████████████████████████████████████████████████████████████████████████████████████████████████████████████████████████████| 1/1 [00:01<00:00,  1.18s/it]\n"
     ]
    },
    {
     "name": "stdout",
     "output_type": "stream",
     "text": [
      "(1, 1436)\n",
      "2\n",
      "18 回目\n"
     ]
    },
    {
     "name": "stderr",
     "output_type": "stream",
     "text": [
      "100%|██████████████████████████████████████████████████████████████████████████████████████████████████████████████████████████████████████████| 1/1 [00:00<00:00,  1.02it/s]\n"
     ]
    },
    {
     "name": "stdout",
     "output_type": "stream",
     "text": [
      "(1, 1436)\n",
      "2\n",
      "19 回目\n"
     ]
    },
    {
     "name": "stderr",
     "output_type": "stream",
     "text": [
      "100%|██████████████████████████████████████████████████████████████████████████████████████████████████████████████████████████████████████████| 1/1 [00:00<00:00,  1.15it/s]\n"
     ]
    },
    {
     "name": "stdout",
     "output_type": "stream",
     "text": [
      "(1, 1389)\n",
      "2\n",
      "20 回目\n"
     ]
    },
    {
     "name": "stderr",
     "output_type": "stream",
     "text": [
      "100%|██████████████████████████████████████████████████████████████████████████████████████████████████████████████████████████████████████████| 1/1 [00:00<00:00,  1.19it/s]\n"
     ]
    },
    {
     "name": "stdout",
     "output_type": "stream",
     "text": [
      "(1, 1391)\n",
      "2\n",
      "21 回目\n"
     ]
    },
    {
     "name": "stderr",
     "output_type": "stream",
     "text": [
      "100%|██████████████████████████████████████████████████████████████████████████████████████████████████████████████████████████████████████████| 1/1 [00:00<00:00,  1.03it/s]\n"
     ]
    },
    {
     "name": "stdout",
     "output_type": "stream",
     "text": [
      "(1, 1438)\n",
      "2\n",
      "22 回目\n"
     ]
    },
    {
     "name": "stderr",
     "output_type": "stream",
     "text": [
      "100%|██████████████████████████████████████████████████████████████████████████████████████████████████████████████████████████████████████████| 1/1 [00:00<00:00,  1.20it/s]\n"
     ]
    },
    {
     "name": "stdout",
     "output_type": "stream",
     "text": [
      "(1, 1436)\n",
      "2\n",
      "23 回目\n"
     ]
    },
    {
     "name": "stderr",
     "output_type": "stream",
     "text": [
      "100%|██████████████████████████████████████████████████████████████████████████████████████████████████████████████████████████████████████████| 1/1 [00:00<00:00,  1.22it/s]\n"
     ]
    },
    {
     "name": "stdout",
     "output_type": "stream",
     "text": [
      "(1, 1391)\n",
      "2\n",
      "24 回目\n"
     ]
    },
    {
     "name": "stderr",
     "output_type": "stream",
     "text": [
      "100%|██████████████████████████████████████████████████████████████████████████████████████████████████████████████████████████████████████████| 1/1 [00:00<00:00,  1.20it/s]\n"
     ]
    },
    {
     "name": "stdout",
     "output_type": "stream",
     "text": [
      "(1, 1391)\n",
      "2\n",
      "25 回目\n"
     ]
    },
    {
     "name": "stderr",
     "output_type": "stream",
     "text": [
      "100%|██████████████████████████████████████████████████████████████████████████████████████████████████████████████████████████████████████████| 1/1 [00:00<00:00,  1.19it/s]\n"
     ]
    },
    {
     "name": "stdout",
     "output_type": "stream",
     "text": [
      "(1, 1391)\n",
      "2\n",
      "26 回目\n"
     ]
    },
    {
     "name": "stderr",
     "output_type": "stream",
     "text": [
      "100%|██████████████████████████████████████████████████████████████████████████████████████████████████████████████████████████████████████████| 1/1 [00:00<00:00,  1.22it/s]\n"
     ]
    },
    {
     "name": "stdout",
     "output_type": "stream",
     "text": [
      "(1, 1438)\n",
      "2\n",
      "27 回目\n"
     ]
    },
    {
     "name": "stderr",
     "output_type": "stream",
     "text": [
      "100%|██████████████████████████████████████████████████████████████████████████████████████████████████████████████████████████████████████████| 1/1 [00:00<00:00,  1.24it/s]\n"
     ]
    },
    {
     "name": "stdout",
     "output_type": "stream",
     "text": [
      "(1, 1390)\n",
      "2\n",
      "28 回目\n"
     ]
    },
    {
     "name": "stderr",
     "output_type": "stream",
     "text": [
      "100%|██████████████████████████████████████████████████████████████████████████████████████████████████████████████████████████████████████████| 1/1 [00:00<00:00,  1.18it/s]\n"
     ]
    },
    {
     "name": "stdout",
     "output_type": "stream",
     "text": [
      "(1, 1391)\n",
      "2\n",
      "29 回目\n"
     ]
    },
    {
     "name": "stderr",
     "output_type": "stream",
     "text": [
      "100%|██████████████████████████████████████████████████████████████████████████████████████████████████████████████████████████████████████████| 1/1 [00:00<00:00,  1.22it/s]\n"
     ]
    },
    {
     "name": "stdout",
     "output_type": "stream",
     "text": [
      "(1, 1391)\n",
      "2\n",
      "30 回目\n"
     ]
    },
    {
     "name": "stderr",
     "output_type": "stream",
     "text": [
      "100%|██████████████████████████████████████████████████████████████████████████████████████████████████████████████████████████████████████████| 1/1 [00:00<00:00,  1.04it/s]\n"
     ]
    },
    {
     "name": "stdout",
     "output_type": "stream",
     "text": [
      "(1, 1391)\n",
      "2\n",
      "31 回目\n"
     ]
    },
    {
     "name": "stderr",
     "output_type": "stream",
     "text": [
      "100%|██████████████████████████████████████████████████████████████████████████████████████████████████████████████████████████████████████████| 1/1 [00:00<00:00,  1.13it/s]\n"
     ]
    },
    {
     "name": "stdout",
     "output_type": "stream",
     "text": [
      "(1, 1443)\n",
      "2\n",
      "32 回目\n"
     ]
    },
    {
     "name": "stderr",
     "output_type": "stream",
     "text": [
      "100%|██████████████████████████████████████████████████████████████████████████████████████████████████████████████████████████████████████████| 1/1 [00:00<00:00,  1.16it/s]\n"
     ]
    },
    {
     "name": "stdout",
     "output_type": "stream",
     "text": [
      "(1, 1443)\n",
      "2\n",
      "33 回目\n"
     ]
    },
    {
     "name": "stderr",
     "output_type": "stream",
     "text": [
      "100%|██████████████████████████████████████████████████████████████████████████████████████████████████████████████████████████████████████████| 1/1 [00:00<00:00,  1.19it/s]\n"
     ]
    },
    {
     "name": "stdout",
     "output_type": "stream",
     "text": [
      "(1, 1391)\n",
      "2\n",
      "34 回目\n"
     ]
    },
    {
     "name": "stderr",
     "output_type": "stream",
     "text": [
      "100%|██████████████████████████████████████████████████████████████████████████████████████████████████████████████████████████████████████████| 1/1 [00:00<00:00,  1.16it/s]\n"
     ]
    },
    {
     "name": "stdout",
     "output_type": "stream",
     "text": [
      "(1, 1391)\n",
      "2\n",
      "35 回目\n"
     ]
    },
    {
     "name": "stderr",
     "output_type": "stream",
     "text": [
      "100%|██████████████████████████████████████████████████████████████████████████████████████████████████████████████████████████████████████████| 1/1 [00:00<00:00,  1.18it/s]\n"
     ]
    },
    {
     "name": "stdout",
     "output_type": "stream",
     "text": [
      "(1, 1390)\n",
      "2\n",
      "36 回目\n"
     ]
    },
    {
     "name": "stderr",
     "output_type": "stream",
     "text": [
      "100%|██████████████████████████████████████████████████████████████████████████████████████████████████████████████████████████████████████████| 1/1 [00:00<00:00,  1.16it/s]\n"
     ]
    },
    {
     "name": "stdout",
     "output_type": "stream",
     "text": [
      "(1, 1442)\n",
      "2\n",
      "37 回目\n"
     ]
    },
    {
     "name": "stderr",
     "output_type": "stream",
     "text": [
      "100%|██████████████████████████████████████████████████████████████████████████████████████████████████████████████████████████████████████████| 1/1 [00:01<00:00,  1.39s/it]\n"
     ]
    },
    {
     "name": "stdout",
     "output_type": "stream",
     "text": [
      "(1, 1447)\n",
      "2\n",
      "38 回目\n"
     ]
    },
    {
     "name": "stderr",
     "output_type": "stream",
     "text": [
      "100%|██████████████████████████████████████████████████████████████████████████████████████████████████████████████████████████████████████████| 1/1 [00:01<00:00,  1.02s/it]\n"
     ]
    },
    {
     "name": "stdout",
     "output_type": "stream",
     "text": [
      "(1, 1391)\n",
      "2\n",
      "39 回目\n"
     ]
    },
    {
     "name": "stderr",
     "output_type": "stream",
     "text": [
      "100%|██████████████████████████████████████████████████████████████████████████████████████████████████████████████████████████████████████████| 1/1 [00:00<00:00,  1.00it/s]\n"
     ]
    },
    {
     "name": "stdout",
     "output_type": "stream",
     "text": [
      "(1, 1174)\n",
      "\"['ATS1s_SMILES', 'GATS4s_SMILES'] not in index\"\n",
      "40 回目\n"
     ]
    },
    {
     "name": "stderr",
     "output_type": "stream",
     "text": [
      "100%|██████████████████████████████████████████████████████████████████████████████████████████████████████████████████████████████████████████| 1/1 [00:00<00:00,  1.12it/s]\n"
     ]
    },
    {
     "name": "stdout",
     "output_type": "stream",
     "text": [
      "(1, 1443)\n",
      "3\n",
      "41 回目\n"
     ]
    },
    {
     "name": "stderr",
     "output_type": "stream",
     "text": [
      "100%|██████████████████████████████████████████████████████████████████████████████████████████████████████████████████████████████████████████| 1/1 [00:00<00:00,  1.01it/s]\n"
     ]
    },
    {
     "name": "stdout",
     "output_type": "stream",
     "text": [
      "(1, 1440)\n",
      "3\n",
      "42 回目\n"
     ]
    },
    {
     "name": "stderr",
     "output_type": "stream",
     "text": [
      "100%|██████████████████████████████████████████████████████████████████████████████████████████████████████████████████████████████████████████| 1/1 [00:01<00:00,  1.25s/it]\n"
     ]
    },
    {
     "name": "stdout",
     "output_type": "stream",
     "text": [
      "(1, 1445)\n",
      "3\n",
      "43 回目\n"
     ]
    },
    {
     "name": "stderr",
     "output_type": "stream",
     "text": [
      "100%|██████████████████████████████████████████████████████████████████████████████████████████████████████████████████████████████████████████| 1/1 [00:00<00:00,  1.10it/s]\n"
     ]
    },
    {
     "name": "stdout",
     "output_type": "stream",
     "text": [
      "(1, 1438)\n",
      "3\n",
      "44 回目\n"
     ]
    },
    {
     "name": "stderr",
     "output_type": "stream",
     "text": [
      "100%|██████████████████████████████████████████████████████████████████████████████████████████████████████████████████████████████████████████| 1/1 [00:00<00:00,  1.07it/s]\n"
     ]
    },
    {
     "name": "stdout",
     "output_type": "stream",
     "text": [
      "(1, 1391)\n",
      "3\n",
      "45 回目\n"
     ]
    },
    {
     "name": "stderr",
     "output_type": "stream",
     "text": [
      "100%|██████████████████████████████████████████████████████████████████████████████████████████████████████████████████████████████████████████| 1/1 [00:00<00:00,  1.09it/s]\n"
     ]
    },
    {
     "name": "stdout",
     "output_type": "stream",
     "text": [
      "(1, 1390)\n",
      "3\n",
      "46 回目\n"
     ]
    },
    {
     "name": "stderr",
     "output_type": "stream",
     "text": [
      "100%|██████████████████████████████████████████████████████████████████████████████████████████████████████████████████████████████████████████| 1/1 [00:01<00:00,  1.34s/it]\n"
     ]
    },
    {
     "name": "stdout",
     "output_type": "stream",
     "text": [
      "(1, 1442)\n",
      "3\n",
      "47 回目\n"
     ]
    },
    {
     "name": "stderr",
     "output_type": "stream",
     "text": [
      "100%|██████████████████████████████████████████████████████████████████████████████████████████████████████████████████████████████████████████| 1/1 [00:01<00:00,  1.09s/it]\n"
     ]
    },
    {
     "name": "stdout",
     "output_type": "stream",
     "text": [
      "(1, 1392)\n",
      "3\n",
      "48 回目\n"
     ]
    },
    {
     "name": "stderr",
     "output_type": "stream",
     "text": [
      "100%|██████████████████████████████████████████████████████████████████████████████████████████████████████████████████████████████████████████| 1/1 [00:00<00:00,  1.23it/s]\n"
     ]
    },
    {
     "name": "stdout",
     "output_type": "stream",
     "text": [
      "(1, 1174)\n",
      "\"['ATS1s_SMILES', 'GATS4s_SMILES'] not in index\"\n",
      "49 回目\n"
     ]
    },
    {
     "name": "stderr",
     "output_type": "stream",
     "text": [
      "100%|██████████████████████████████████████████████████████████████████████████████████████████████████████████████████████████████████████████| 1/1 [00:01<00:00,  1.56s/it]\n"
     ]
    },
    {
     "name": "stdout",
     "output_type": "stream",
     "text": [
      "(1, 1440)\n",
      "4\n",
      "50 回目\n"
     ]
    },
    {
     "name": "stderr",
     "output_type": "stream",
     "text": [
      "100%|██████████████████████████████████████████████████████████████████████████████████████████████████████████████████████████████████████████| 1/1 [00:00<00:00,  1.01it/s]\n"
     ]
    },
    {
     "name": "stdout",
     "output_type": "stream",
     "text": [
      "(1, 1442)\n",
      "4\n",
      "51 回目\n"
     ]
    },
    {
     "name": "stderr",
     "output_type": "stream",
     "text": [
      "100%|██████████████████████████████████████████████████████████████████████████████████████████████████████████████████████████████████████████| 1/1 [00:00<00:00,  1.26it/s]\n"
     ]
    },
    {
     "name": "stdout",
     "output_type": "stream",
     "text": [
      "(1, 1128)\n",
      "\"['ATS1s_SMILES', 'GATS4s_SMILES'] not in index\"\n",
      "52 回目\n"
     ]
    },
    {
     "name": "stderr",
     "output_type": "stream",
     "text": [
      "100%|██████████████████████████████████████████████████████████████████████████████████████████████████████████████████████████████████████████| 1/1 [00:01<00:00,  1.07s/it]\n"
     ]
    },
    {
     "name": "stdout",
     "output_type": "stream",
     "text": [
      "(1, 1438)\n",
      "5\n",
      "53 回目\n"
     ]
    },
    {
     "name": "stderr",
     "output_type": "stream",
     "text": [
      "100%|██████████████████████████████████████████████████████████████████████████████████████████████████████████████████████████████████████████| 1/1 [00:01<00:00,  1.45s/it]\n"
     ]
    },
    {
     "name": "stdout",
     "output_type": "stream",
     "text": [
      "(1, 1438)\n",
      "5\n",
      "54 回目\n"
     ]
    },
    {
     "name": "stderr",
     "output_type": "stream",
     "text": [
      "100%|██████████████████████████████████████████████████████████████████████████████████████████████████████████████████████████████████████████| 1/1 [00:01<00:00,  1.64s/it]\n"
     ]
    },
    {
     "name": "stdout",
     "output_type": "stream",
     "text": [
      "(1, 1438)\n",
      "5\n",
      "55 回目\n"
     ]
    },
    {
     "name": "stderr",
     "output_type": "stream",
     "text": [
      "100%|██████████████████████████████████████████████████████████████████████████████████████████████████████████████████████████████████████████| 1/1 [00:01<00:00,  1.68s/it]\n"
     ]
    },
    {
     "name": "stdout",
     "output_type": "stream",
     "text": [
      "(1, 1438)\n",
      "5\n",
      "56 回目\n"
     ]
    },
    {
     "name": "stderr",
     "output_type": "stream",
     "text": [
      "100%|██████████████████████████████████████████████████████████████████████████████████████████████████████████████████████████████████████████| 1/1 [00:01<00:00,  1.34s/it]\n"
     ]
    },
    {
     "name": "stdout",
     "output_type": "stream",
     "text": [
      "(1, 1174)\n",
      "\"['ATS1s_SMILES', 'GATS4s_SMILES'] not in index\"\n",
      "57 回目\n"
     ]
    },
    {
     "name": "stderr",
     "output_type": "stream",
     "text": [
      "100%|██████████████████████████████████████████████████████████████████████████████████████████████████████████████████████████████████████████| 1/1 [00:01<00:00,  1.00s/it]\n"
     ]
    },
    {
     "name": "stdout",
     "output_type": "stream",
     "text": [
      "(1, 1247)\n",
      "6\n",
      "58 回目\n"
     ]
    },
    {
     "name": "stderr",
     "output_type": "stream",
     "text": [
      "100%|██████████████████████████████████████████████████████████████████████████████████████████████████████████████████████████████████████████| 1/1 [00:00<00:00,  1.07it/s]\n"
     ]
    },
    {
     "name": "stdout",
     "output_type": "stream",
     "text": [
      "(1, 1440)\n",
      "6\n",
      "59 回目\n"
     ]
    },
    {
     "name": "stderr",
     "output_type": "stream",
     "text": [
      "100%|██████████████████████████████████████████████████████████████████████████████████████████████████████████████████████████████████████████| 1/1 [00:01<00:00,  1.32s/it]\n"
     ]
    },
    {
     "name": "stdout",
     "output_type": "stream",
     "text": [
      "(1, 1446)\n",
      "6\n",
      "60 回目\n"
     ]
    },
    {
     "name": "stderr",
     "output_type": "stream",
     "text": [
      "100%|██████████████████████████████████████████████████████████████████████████████████████████████████████████████████████████████████████████| 1/1 [00:01<00:00,  1.37s/it]\n"
     ]
    },
    {
     "name": "stdout",
     "output_type": "stream",
     "text": [
      "/Users/watanabeyuitou/opt/anaconda3/envs/chem/lib/python3.9/site-packages/numpy/core/fromnumeric.py:86: RuntimeWarning: overflow encountered in reduce\n",
      "  return ufunc.reduce(obj, axis, dtype, out, **passkwargs)\n",
      "(1, 1244)\n",
      "6\n",
      "61 回目\n"
     ]
    },
    {
     "name": "stderr",
     "output_type": "stream",
     "text": [
      "100%|██████████████████████████████████████████████████████████████████████████████████████████████████████████████████████████████████████████| 1/1 [00:00<00:00,  1.04it/s]\n"
     ]
    },
    {
     "name": "stdout",
     "output_type": "stream",
     "text": [
      "(1, 1388)\n",
      "6\n",
      "62 回目\n"
     ]
    },
    {
     "name": "stderr",
     "output_type": "stream",
     "text": [
      "100%|██████████████████████████████████████████████████████████████████████████████████████████████████████████████████████████████████████████| 1/1 [00:00<00:00,  1.22it/s]\n"
     ]
    },
    {
     "name": "stdout",
     "output_type": "stream",
     "text": [
      "(1, 1184)\n",
      "6\n",
      "63 回目\n"
     ]
    },
    {
     "name": "stderr",
     "output_type": "stream",
     "text": [
      "100%|██████████████████████████████████████████████████████████████████████████████████████████████████████████████████████████████████████████| 1/1 [00:01<00:00,  1.79s/it]\n"
     ]
    },
    {
     "name": "stdout",
     "output_type": "stream",
     "text": [
      "(1, 1447)\n",
      "6\n",
      "64 回目\n"
     ]
    },
    {
     "name": "stderr",
     "output_type": "stream",
     "text": [
      "100%|██████████████████████████████████████████████████████████████████████████████████████████████████████████████████████████████████████████| 1/1 [00:00<00:00,  1.02it/s]\n"
     ]
    },
    {
     "name": "stdout",
     "output_type": "stream",
     "text": [
      "(1, 1436)\n",
      "6\n",
      "65 回目\n"
     ]
    },
    {
     "name": "stderr",
     "output_type": "stream",
     "text": [
      "100%|██████████████████████████████████████████████████████████████████████████████████████████████████████████████████████████████████████████| 1/1 [00:01<00:00,  1.35s/it]\n"
     ]
    },
    {
     "name": "stdout",
     "output_type": "stream",
     "text": [
      "(1, 1454)\n",
      "6\n",
      "66 回目\n"
     ]
    },
    {
     "name": "stderr",
     "output_type": "stream",
     "text": [
      "100%|██████████████████████████████████████████████████████████████████████████████████████████████████████████████████████████████████████████| 1/1 [00:01<00:00,  1.17s/it]\n"
     ]
    },
    {
     "name": "stdout",
     "output_type": "stream",
     "text": [
      "(1, 1190)\n",
      "\"['ATS1s_SMILES', 'GATS4s_SMILES'] not in index\"\n",
      "67 回目\n"
     ]
    },
    {
     "name": "stderr",
     "output_type": "stream",
     "text": [
      "100%|██████████████████████████████████████████████████████████████████████████████████████████████████████████████████████████████████████████| 1/1 [00:01<00:00,  1.73s/it]\n"
     ]
    },
    {
     "name": "stdout",
     "output_type": "stream",
     "text": [
      "/Users/watanabeyuitou/opt/anaconda3/envs/chem/lib/python3.9/site-packages/numpy/core/fromnumeric.py:86: RuntimeWarning: overflow encountered in reduce\n",
      "  return ufunc.reduce(obj, axis, dtype, out, **passkwargs)\n",
      "(1, 1198)\n",
      "\"['ATS1s_SMILES', 'GATS4s_SMILES'] not in index\"\n",
      "68 回目\n"
     ]
    },
    {
     "name": "stderr",
     "output_type": "stream",
     "text": [
      "100%|██████████████████████████████████████████████████████████████████████████████████████████████████████████████████████████████████████████| 1/1 [00:01<00:00,  1.21s/it]\n"
     ]
    },
    {
     "name": "stdout",
     "output_type": "stream",
     "text": [
      "(1, 1179)\n",
      "\"['ATS1s_SMILES', 'GATS4s_SMILES'] not in index\"\n",
      "69 回目\n"
     ]
    },
    {
     "name": "stderr",
     "output_type": "stream",
     "text": [
      "100%|██████████████████████████████████████████████████████████████████████████████████████████████████████████████████████████████████████████| 1/1 [00:01<00:00,  1.59s/it]\n"
     ]
    },
    {
     "name": "stdout",
     "output_type": "stream",
     "text": [
      "(1, 1449)\n",
      "9\n",
      "70 回目\n"
     ]
    },
    {
     "name": "stderr",
     "output_type": "stream",
     "text": [
      "100%|██████████████████████████████████████████████████████████████████████████████████████████████████████████████████████████████████████████| 1/1 [00:00<00:00,  1.00it/s]\n"
     ]
    },
    {
     "name": "stdout",
     "output_type": "stream",
     "text": [
      "(1, 1242)\n",
      "9\n",
      "71 回目\n"
     ]
    },
    {
     "name": "stderr",
     "output_type": "stream",
     "text": [
      "100%|██████████████████████████████████████████████████████████████████████████████████████████████████████████████████████████████████████████| 1/1 [00:01<00:00,  1.09s/it]\n"
     ]
    },
    {
     "name": "stdout",
     "output_type": "stream",
     "text": [
      "(1, 1236)\n",
      "9\n",
      "72 回目\n"
     ]
    },
    {
     "name": "stderr",
     "output_type": "stream",
     "text": [
      "100%|██████████████████████████████████████████████████████████████████████████████████████████████████████████████████████████████████████████| 1/1 [00:01<00:00,  1.09s/it]\n"
     ]
    },
    {
     "name": "stdout",
     "output_type": "stream",
     "text": [
      "(1, 1197)\n",
      "9\n",
      "73 回目\n"
     ]
    },
    {
     "name": "stderr",
     "output_type": "stream",
     "text": [
      "100%|██████████████████████████████████████████████████████████████████████████████████████████████████████████████████████████████████████████| 1/1 [00:01<00:00,  1.15s/it]\n"
     ]
    },
    {
     "name": "stdout",
     "output_type": "stream",
     "text": [
      "(1, 1439)\n",
      "9\n",
      "74 回目\n"
     ]
    },
    {
     "name": "stderr",
     "output_type": "stream",
     "text": [
      "100%|██████████████████████████████████████████████████████████████████████████████████████████████████████████████████████████████████████████| 1/1 [00:03<00:00,  3.23s/it]\n"
     ]
    },
    {
     "name": "stdout",
     "output_type": "stream",
     "text": [
      "/Users/watanabeyuitou/opt/anaconda3/envs/chem/lib/python3.9/site-packages/numpy/core/fromnumeric.py:86: RuntimeWarning: overflow encountered in reduce\n",
      "  return ufunc.reduce(obj, axis, dtype, out, **passkwargs)\n",
      "(1, 1194)\n",
      "\"['ATS1s_SMILES', 'GATS4s_SMILES'] not in index\"\n",
      "75 回目\n"
     ]
    },
    {
     "name": "stderr",
     "output_type": "stream",
     "text": [
      "100%|██████████████████████████████████████████████████████████████████████████████████████████████████████████████████████████████████████████| 1/1 [00:00<00:00,  1.12it/s]\n"
     ]
    },
    {
     "name": "stdout",
     "output_type": "stream",
     "text": [
      "/Users/watanabeyuitou/opt/anaconda3/envs/chem/lib/python3.9/site-packages/numpy/core/fromnumeric.py:86: RuntimeWarning: overflow encountered in reduce\n",
      "  return ufunc.reduce(obj, axis, dtype, out, **passkwargs)\n",
      "(1, 1190)\n",
      "10\n",
      "76 回目\n"
     ]
    },
    {
     "name": "stderr",
     "output_type": "stream",
     "text": [
      "100%|██████████████████████████████████████████████████████████████████████████████████████████████████████████████████████████████████████████| 1/1 [00:00<00:00,  1.18it/s]\n"
     ]
    },
    {
     "name": "stdout",
     "output_type": "stream",
     "text": [
      "(1, 1188)\n",
      "10\n",
      "77 回目\n"
     ]
    },
    {
     "name": "stderr",
     "output_type": "stream",
     "text": [
      "100%|██████████████████████████████████████████████████████████████████████████████████████████████████████████████████████████████████████████| 1/1 [00:01<00:00,  1.06s/it]\n"
     ]
    },
    {
     "name": "stdout",
     "output_type": "stream",
     "text": [
      "(1, 1395)\n",
      "10\n",
      "78 回目\n"
     ]
    },
    {
     "name": "stderr",
     "output_type": "stream",
     "text": [
      "100%|██████████████████████████████████████████████████████████████████████████████████████████████████████████████████████████████████████████| 1/1 [00:00<00:00,  1.11it/s]\n"
     ]
    },
    {
     "name": "stdout",
     "output_type": "stream",
     "text": [
      "(1, 1135)\n",
      "\"['ATS1s_SMILES', 'GATS4s_SMILES'] not in index\"\n",
      "79 回目\n"
     ]
    },
    {
     "name": "stderr",
     "output_type": "stream",
     "text": [
      "100%|██████████████████████████████████████████████████████████████████████████████████████████████████████████████████████████████████████████| 1/1 [00:01<00:00,  1.02s/it]\n"
     ]
    },
    {
     "name": "stdout",
     "output_type": "stream",
     "text": [
      "(1, 1452)\n",
      "11\n",
      "80 回目\n"
     ]
    },
    {
     "name": "stderr",
     "output_type": "stream",
     "text": [
      "100%|██████████████████████████████████████████████████████████████████████████████████████████████████████████████████████████████████████████| 1/1 [00:00<00:00,  1.10it/s]\n"
     ]
    },
    {
     "name": "stdout",
     "output_type": "stream",
     "text": [
      "(1, 1439)\n",
      "11\n",
      "81 回目\n"
     ]
    },
    {
     "name": "stderr",
     "output_type": "stream",
     "text": [
      "100%|██████████████████████████████████████████████████████████████████████████████████████████████████████████████████████████████████████████| 1/1 [00:00<00:00,  1.32it/s]\n"
     ]
    },
    {
     "name": "stdout",
     "output_type": "stream",
     "text": [
      "(1, 1175)\n",
      "\"['ATS1s_SMILES', 'GATS4s_SMILES'] not in index\"\n",
      "82 回目\n"
     ]
    },
    {
     "name": "stderr",
     "output_type": "stream",
     "text": [
      "100%|██████████████████████████████████████████████████████████████████████████████████████████████████████████████████████████████████████████| 1/1 [00:00<00:00,  1.26it/s]\n"
     ]
    },
    {
     "name": "stdout",
     "output_type": "stream",
     "text": [
      "(1, 1175)\n",
      "\"['ATS1s_SMILES', 'GATS4s_SMILES'] not in index\"\n",
      "83 回目\n"
     ]
    },
    {
     "name": "stderr",
     "output_type": "stream",
     "text": [
      "100%|██████████████████████████████████████████████████████████████████████████████████████████████████████████████████████████████████████████| 1/1 [00:00<00:00,  1.33it/s]\n"
     ]
    },
    {
     "name": "stdout",
     "output_type": "stream",
     "text": [
      "(1, 1175)\n",
      "\"['ATS1s_SMILES', 'GATS4s_SMILES'] not in index\"\n",
      "84 回目\n"
     ]
    },
    {
     "name": "stderr",
     "output_type": "stream",
     "text": [
      "100%|██████████████████████████████████████████████████████████████████████████████████████████████████████████████████████████████████████████| 1/1 [00:00<00:00,  1.36it/s]\n"
     ]
    },
    {
     "name": "stdout",
     "output_type": "stream",
     "text": [
      "(1, 1234)\n",
      "14\n",
      "85 回目\n"
     ]
    },
    {
     "name": "stderr",
     "output_type": "stream",
     "text": [
      "100%|██████████████████████████████████████████████████████████████████████████████████████████████████████████████████████████████████████████| 1/1 [00:01<00:00,  1.29s/it]\n"
     ]
    },
    {
     "name": "stdout",
     "output_type": "stream",
     "text": [
      "(1, 1248)\n",
      "14\n",
      "86 回目\n"
     ]
    },
    {
     "name": "stderr",
     "output_type": "stream",
     "text": [
      "100%|██████████████████████████████████████████████████████████████████████████████████████████████████████████████████████████████████████████| 1/1 [00:00<00:00,  1.17it/s]\n"
     ]
    },
    {
     "name": "stdout",
     "output_type": "stream",
     "text": [
      "(1, 1334)\n",
      "14\n",
      "87 回目\n"
     ]
    },
    {
     "name": "stderr",
     "output_type": "stream",
     "text": [
      "100%|██████████████████████████████████████████████████████████████████████████████████████████████████████████████████████████████████████████| 1/1 [00:00<00:00,  1.29it/s]\n"
     ]
    },
    {
     "name": "stdout",
     "output_type": "stream",
     "text": [
      "(1, 1078)\n",
      "\"['ATS1s_SMILES', 'GATS4s_SMILES'] not in index\"\n",
      "88 回目\n"
     ]
    },
    {
     "name": "stderr",
     "output_type": "stream",
     "text": [
      "100%|██████████████████████████████████████████████████████████████████████████████████████████████████████████████████████████████████████████| 1/1 [00:01<00:00,  1.18s/it]\n"
     ]
    },
    {
     "name": "stdout",
     "output_type": "stream",
     "text": [
      "(1, 1438)\n",
      "15\n",
      "89 回目\n"
     ]
    },
    {
     "name": "stderr",
     "output_type": "stream",
     "text": [
      "100%|██████████████████████████████████████████████████████████████████████████████████████████████████████████████████████████████████████████| 1/1 [00:01<00:00,  1.01s/it]\n"
     ]
    },
    {
     "name": "stdout",
     "output_type": "stream",
     "text": [
      "(1, 1334)\n",
      "15\n",
      "90 回目\n"
     ]
    },
    {
     "name": "stderr",
     "output_type": "stream",
     "text": [
      "100%|██████████████████████████████████████████████████████████████████████████████████████████████████████████████████████████████████████████| 1/1 [00:01<00:00,  1.06s/it]\n"
     ]
    },
    {
     "name": "stdout",
     "output_type": "stream",
     "text": [
      "(1, 1430)\n",
      "15\n"
     ]
    }
   ],
   "source": [
    "# structure creation 3\n",
    "FINGER_COLUMN=['SMILES']\n",
    "finger_method = ['avalon','mordred_2d']\n",
    "df = pd.read_csv('./data/structure_creation3/smiles.csv',index_col=0)\n",
    "\n",
    "toFinger(df,['SMILES'],'avalon').to_csv('./data/structure_creation3/avalon.csv')\n",
    "# エラー出るrowを削除\n",
    "# drop_row = [\n",
    "#     0,6,7,8,88,89,121,196,216,227,318,339,367,415,472,473,500,501,502,506,507,508,509,510,511,512,513,514,515,516,517,519,520,522,532,\n",
    "#     637,690,715,729,769,778,836,837,903,978,\n",
    "#  ]\n",
    "err_cnt=0\n",
    "df_list = pd.DataFrame()\n",
    "for i in range(df.shape[0]):\n",
    "    df_split = df.iloc[i:i+1,:]\n",
    "    print(i,'回目')\n",
    "    df_ = toFinger(df_split,FINGER_COLUMN,'mordred_2d')\n",
    "    try:\n",
    "        print(df_.shape)\n",
    "        df_[['ATS1s_SMILES', 'AATS0p_SMILES', 'AATSC0i_SMILES','GATS4s_SMILES', 'BalabanJ_SMILES']]\n",
    "        df_list = pd.concat([df_list,df_])\n",
    "    except Exception as e:\n",
    "        print(e)\n",
    "        err_cnt+=1\n",
    "        continue\n",
    "    df_list.to_csv(f'./data/structure_creation3/mordred.csv')\n",
    "    print(err_cnt)"
   ]
  },
  {
   "cell_type": "markdown",
   "id": "61080b44-5f7c-44f8-a8e9-d6d5f49f9364",
   "metadata": {
    "tags": []
   },
   "source": [
    "# method2 \n",
    "- R1 [*]C1=CC=CC=C1 \n",
    "- R2_H = 1\n",
    "- solvent toluene"
   ]
  },
  {
   "cell_type": "code",
   "execution_count": null,
   "id": "f93cdead-d080-468a-82b9-ea8923fe5e1d",
   "metadata": {},
   "outputs": [],
   "source": [
    "df = pd.read_csv('./data/origin.csv', index_col=0)"
   ]
  },
  {
   "cell_type": "code",
   "execution_count": null,
   "id": "7795f83c-2de1-410b-962b-daf04218e886",
   "metadata": {
    "collapsed": true,
    "jupyter": {
     "outputs_hidden": true
    },
    "tags": []
   },
   "outputs": [
    {
     "name": "stdout",
     "output_type": "stream",
     "text": [
      "1       7\n",
      "3       7\n",
      "2       7\n",
      "4       6\n",
      "6       6\n",
      "5       5\n",
      "7       5\n",
      "13      4\n",
      "12      4\n",
      "9       4\n",
      "8       4\n",
      "10      3\n",
      "11      3\n",
      "2a      3\n",
      "2b      3\n",
      "2c      3\n",
      "2d      3\n",
      "2e      3\n",
      "2f      3\n",
      "2g      3\n",
      "2j      2\n",
      "2k      2\n",
      "2m      2\n",
      "2i      2\n",
      "2h      2\n",
      "3f      1\n",
      "2h-c    1\n",
      "3q      1\n",
      "3o      1\n",
      "3n      1\n",
      "3m      1\n",
      "3l      1\n",
      "3k      1\n",
      "3j      1\n",
      "3i      1\n",
      "3h      1\n",
      "3g      1\n",
      "3e      1\n",
      "2l      1\n",
      "3d      1\n",
      "24      1\n",
      "22      1\n",
      "21      1\n",
      "20      1\n",
      "19      1\n",
      "14      1\n",
      "1p      1\n",
      "1o      1\n",
      "1n      1\n",
      "2p      1\n",
      "Name: entry, dtype: int64\n",
      "[*]C1=CC=CC=C1                  49\n",
      "[*]C1=CC=C(OC)C=C1              15\n",
      "[*]C1=CC=C(C)C=C1                7\n",
      "[*]C1=CC=C(Cl)C=C1               4\n",
      "[*]C1=CC(OCO2)=C2C=C1            3\n",
      "[*]C1=CC=C(F)C=C1                3\n",
      "[*]C1=CC=CO1                     3\n",
      "[*]C1=CC(Cl)=CC=C1               2\n",
      "[*]C1=CC=C([N+]([O-])=O)C=C1     2\n",
      "[*]C1=CC=CC(Cl)=C1               2\n",
      "[*]C1=C(C)C=CC=C1                2\n",
      "[*]C1=CC=CS1                     2\n",
      "[*]C1=C(C=CC=C2)C2=CC=C1         2\n",
      "[*]C1=CC=C(C(F)(F)F)C=C1         2\n",
      "[*]C1=CC=C(C(C)(C)C)C=C1         2\n",
      "[*]C1=CC(OC)=CC=C1               2\n",
      "[*]C1=C(OC)C=CC=C1               2\n",
      "[*]C1=CC=C(Br)C=C1               2\n",
      "[*]C1=CC=CC(Br)=C1               1\n",
      "[*]C1=CC=CC(OC)=C1               1\n",
      "[*]C1=CC(Br)=CC=C1               1\n",
      "[*]C1=CC(C)=C(C)C=C1             1\n",
      "[*]C1=CC=C(C(OC)=O)C=C1          1\n",
      "[*]C1=CC=C(Cl)C(Cl)=C1           1\n",
      "[*]C1=CC=C(N)C=C1                1\n",
      "[*]C1=CC=CC=C1OC                 1\n",
      "[*]C1=CC=CC=C1C                  1\n",
      "[*]C1=CC=CC(I)=C1                1\n",
      "[*]C1=CC=C(O)C=C1                1\n",
      "[*]C1=CC=C(C(O)C)C=C1            1\n",
      "[*]C1=CC=C(CO)C=C1               1\n",
      "[*]C1=NC=CC=C1                   1\n",
      "[*]C1=CSC=C1                     1\n",
      "Name: R1-, dtype: int64\n",
      "O=C1C=C(C2=CC=CC=C2)C3=CC=CC=C3C1=O                 26\n",
      "OC1=CC(OC)=CC(OC)=C1C(O)=O                          16\n",
      "O=C1C(C(C)(C)C)=CC(C(O)=C1)=O                       15\n",
      "O=C1C(C=C(OC)C(C(C)(C)C)=C1)=O                      14\n",
      "OC1=CC(O)=CC(O)=C1C(O)=O                             7\n",
      "OC1=CC(OC)=CC=C1C(O)=O                               3\n",
      "COC1=CC(OC)=C(C(O)=O)C(O)=C1                         3\n",
      "OC1=CC(C)=CC=C1C(O)=O                                2\n",
      "O=C1C(C2=CC=CC=C2)=C(C3=CC=CC=C3)C4=CC=CC=C4C1=O     2\n",
      "O=C1C=C(C2=CC=C(OC)C=C2)C3=CC=CC=C3C1=O              2\n",
      "O=C1C=C(C2=CC=C(F)C=C2)C3=CC=CC=C3C1=O               2\n",
      "O=C1C=C(OC)C2=CC=CC=C2C1=O                           2\n",
      "O=C1C=C(CCCCC)C2=CC=CC=C2C1=O                        2\n",
      "ClC1=CC=C(C(O)=O)C(O)=C1                             2\n",
      "OC1=C(CC(O)=O)C=CC=C1                                1\n",
      "O=C(C1=CC=CC=C1)O                                    1\n",
      "O=C1C=CC(C=C1C(C)(C)C)=O                             1\n",
      "O=C1C(CCC)=C(CCC)C2=CC=CC=C2C1=O                     1\n",
      "O=C1C(C)=C(C2=CC=CC=C2)C3=CC=CC=C3C1=O               1\n",
      "O=C1C=C(C2=CC=CC=C2)C3=CC=C(OC)C=C3C1=O              1\n",
      "O=C1C=CC2=CC=CC=C2C1=O                               1\n",
      "CC(/N=N/C(C)(C#N)C)(C#N)C                            1\n",
      "O=C1C(CCCCC)=C(CCCCC)C2=CC=CC=C2C1=O                 1\n",
      "O=C1C(C=C(O)C(C(C)(C)C)=C1)=O                        1\n",
      "OC1=CC=CC=C1                                         1\n",
      "OC1=C(C(O)=O)C=CC=C1                                 1\n",
      "CC(O)=O                                              1\n",
      "O=C(C1=C(OC)C=CC=C1)O                                1\n",
      "OC1=C2C(C=CC=C(O)C2=O)=CC(O)=C1O                     1\n",
      "OC1=CC=CC(O)=C1N                                     1\n",
      "OC1=CC=CC(O)=C1O                                     1\n",
      "OC1=CC=C(C(O)=O)C=C1                                 1\n",
      "OC1=CC=CC=C1C(O)=O                                   1\n",
      "OC1=C(C(OC)=O)C=CC=C1                                1\n",
      "OC1=CC(O)=CC=C1C(O)=O                                1\n",
      "CC1=CC=C(S(=O)(O)=O)C=C1                             1\n",
      "OC1=CC=CC(O)=C1C(O)=O                                1\n",
      "Name: organocatalyst, dtype: int64\n",
      "5.0     50\n",
      "10.0    47\n",
      "1.5     13\n",
      "15.0     7\n",
      "4.0      2\n",
      "2.0      1\n",
      "20.0     1\n",
      "Name: organocatalyst(mol%), dtype: int64\n",
      "23    64\n",
      "90    48\n",
      "80     7\n",
      "60     2\n",
      "Name: temp(℃), dtype: int64\n",
      "48.0    39\n",
      "24.0    28\n",
      "6.0     20\n",
      "2.0     12\n",
      "20.0    11\n",
      "12.0     5\n",
      "72.0     4\n",
      "8.0      1\n",
      "36.0     1\n",
      "Name: time(h), dtype: int64\n",
      "0.0     6\n",
      "80.0    5\n",
      "86.0    5\n",
      "81.0    4\n",
      "99.0    4\n",
      "90.0    4\n",
      "88.0    4\n",
      "95.0    4\n",
      "84.0    4\n",
      "87.0    4\n",
      "83.0    3\n",
      "21.0    3\n",
      "69.0    3\n",
      "91.0    3\n",
      "3.0     3\n",
      "32.0    3\n",
      "85.0    3\n",
      "37.0    2\n",
      "33.0    2\n",
      "75.0    2\n",
      "65.0    2\n",
      "76.0    2\n",
      "9.0     2\n",
      "40.0    2\n",
      "89.0    2\n",
      "14.0    2\n",
      "93.0    2\n",
      "6.0     2\n",
      "7.0     2\n",
      "68.0    2\n",
      "11.0    2\n",
      "39.0    2\n",
      "17.0    1\n",
      "44.0    1\n",
      "97.0    1\n",
      "8.0     1\n",
      "67.0    1\n",
      "94.0    1\n",
      "2.0     1\n",
      "79.0    1\n",
      "82.0    1\n",
      "46.0    1\n",
      "36.0    1\n",
      "4.0     1\n",
      "29.0    1\n",
      "63.0    1\n",
      "47.0    1\n",
      "64.0    1\n",
      "5.0     1\n",
      "73.0    1\n",
      "70.0    1\n",
      "72.0    1\n",
      "78.0    1\n",
      "50.0    1\n",
      "43.0    1\n",
      "15.0    1\n",
      "74.0    1\n",
      "98.0    1\n",
      "Name: yield, dtype: int64\n",
      "0    77\n",
      "1    44\n",
      "Name: R2_C, dtype: int64\n",
      "1    77\n",
      "0    44\n",
      "Name: R2_H, dtype: int64\n",
      "1    86\n",
      "0    35\n",
      "Name: under_O2, dtype: int64\n",
      "0    86\n",
      "1    35\n",
      "Name: under_air, dtype: int64\n",
      "0    65\n",
      "1    56\n",
      "Name: solvent_CH3CN, dtype: int64\n",
      "0    120\n",
      "1      1\n",
      "Name: solvent_DMF, dtype: int64\n",
      "0    108\n",
      "1     13\n",
      "Name: solvent_MeCN, dtype: int64\n",
      "0    118\n",
      "1      3\n",
      "Name: solvent_MeOH, dtype: int64\n",
      "0    73\n",
      "1    48\n",
      "Name: solvent_toluene, dtype: int64\n"
     ]
    }
   ],
   "source": [
    "for column in df.columns:\n",
    "    print(df[column].value_counts())\n"
   ]
  },
  {
   "cell_type": "code",
   "execution_count": null,
   "id": "c9ffba86-ff1d-4f70-aee7-44d8a91ba2f1",
   "metadata": {
    "tags": []
   },
   "outputs": [
    {
     "data": {
      "text/plain": [
       "(27, 16)"
      ]
     },
     "execution_count": 181,
     "metadata": {},
     "output_type": "execute_result"
    }
   ],
   "source": [
    "df_ = df[df['R1-'] == '[*]C1=CC=CC=C1']\n",
    "df_ = df_[df_['R2_H'] == 1]\n",
    "df_ = df_[df_['solvent_toluene'] == 1]\n",
    "df_.shape"
   ]
  },
  {
   "cell_type": "code",
   "execution_count": null,
   "id": "5edbf4d3-1dd6-4f14-9550-36ebb45c02a7",
   "metadata": {},
   "outputs": [],
   "source": [
    "df_dropped = df_.drop(columns=['R1-', 'R2_C', 'R2_H', 'solvent_CH3CN', 'solvent_DMF', 'solvent_MeCN', 'solvent_MeOH', 'solvent_toluene', 'under_O2', 'under_air','organocatalyst(mol%)', 'temp(℃)'])\n",
    "\n",
    "\n"
   ]
  },
  {
   "cell_type": "code",
   "execution_count": null,
   "id": "499632eb-4e0e-4ae8-ac71-c85e4515c208",
   "metadata": {},
   "outputs": [
    {
     "name": "stdout",
     "output_type": "stream",
     "text": [
      "(27, 4)\n"
     ]
    }
   ],
   "source": [
    "scaling_columns = ['time(h)']\n",
    "df_dropped_scaled = scaling(df_dropped, scaling_columns).reset_index(drop=True)"
   ]
  },
  {
   "cell_type": "code",
   "execution_count": null,
   "id": "7fd75820-5a57-4f48-9959-5afbee6d128b",
   "metadata": {},
   "outputs": [
    {
     "name": "stdout",
     "output_type": "stream",
     "text": [
      "morgan\n",
      "before_shape:  (27, 1027)\n",
      "new_shape:  (27, 113)\n",
      "morgan_feature\n",
      "before_shape:  (27, 1027)\n",
      "new_shape:  (27, 84)\n",
      "maccs\n",
      "before_shape:  (27, 170)\n",
      "new_shape:  (27, 73)\n",
      "rdkit\n",
      "before_shape:  (27, 2051)\n",
      "new_shape:  (27, 1082)\n",
      "minhash\n",
      "(27, 2048)\n",
      "before_shape:  (27, 2051)\n",
      "new_shape:  (27, 2050)\n",
      "avalon\n",
      "before_shape:  (27, 515)\n",
      "new_shape:  (27, 266)\n",
      "mordred_2d\n"
     ]
    },
    {
     "name": "stderr",
     "output_type": "stream",
     "text": [
      "100%|███████████████████████████████████████████████████████████████████████████████████████████████████████████████████████████████████████████████████████████████████████| 27/27 [00:11<00:00,  2.38it/s]\n",
      "/Users/watanabeyuitou/opt/anaconda3/envs/chem/lib/python3.9/site-packages/sklearn/utils/extmath.py:985: RuntimeWarning: invalid value encountered in divide\n",
      "  updated_mean = (last_sum + new_sum) / updated_sample_count\n",
      "/Users/watanabeyuitou/opt/anaconda3/envs/chem/lib/python3.9/site-packages/sklearn/utils/extmath.py:990: RuntimeWarning: invalid value encountered in divide\n",
      "  T = new_sum / new_sample_count\n",
      "/Users/watanabeyuitou/opt/anaconda3/envs/chem/lib/python3.9/site-packages/sklearn/utils/extmath.py:1020: RuntimeWarning: invalid value encountered in divide\n",
      "  new_unnormalized_variance -= correction ** 2 / new_sample_count\n",
      "/Users/watanabeyuitou/opt/anaconda3/envs/chem/lib/python3.9/site-packages/sklearn/feature_selection/_variance_threshold.py:104: RuntimeWarning: Degrees of freedom <= 0 for slice.\n",
      "  self.variances_ = np.nanvar(X, axis=0)\n",
      "/Users/watanabeyuitou/opt/anaconda3/envs/chem/lib/python3.9/site-packages/sklearn/feature_selection/_variance_threshold.py:112: RuntimeWarning: All-NaN slice encountered\n",
      "  self.variances_ = np.nanmin(compare_arr, axis=0)\n"
     ]
    },
    {
     "name": "stdout",
     "output_type": "stream",
     "text": [
      "(27, 1613)\n",
      "before_shape:  (27, 1616)\n",
      "new_shape:  (27, 1148)\n",
      "mordred_3d\n"
     ]
    },
    {
     "name": "stderr",
     "output_type": "stream",
     "text": [
      "100%|███████████████████████████████████████████████████████████████████████████████████████████████████████████████████████████████████████████████████████████████████████| 27/27 [00:08<00:00,  3.30it/s]\n"
     ]
    },
    {
     "name": "stdout",
     "output_type": "stream",
     "text": [
      "(27, 1826)\n",
      "before_shape:  (27, 1829)\n",
      "new_shape:  (27, 1148)\n"
     ]
    },
    {
     "name": "stderr",
     "output_type": "stream",
     "text": [
      "/Users/watanabeyuitou/opt/anaconda3/envs/chem/lib/python3.9/site-packages/sklearn/utils/extmath.py:985: RuntimeWarning: invalid value encountered in divide\n",
      "  updated_mean = (last_sum + new_sum) / updated_sample_count\n",
      "/Users/watanabeyuitou/opt/anaconda3/envs/chem/lib/python3.9/site-packages/sklearn/utils/extmath.py:990: RuntimeWarning: invalid value encountered in divide\n",
      "  T = new_sum / new_sample_count\n",
      "/Users/watanabeyuitou/opt/anaconda3/envs/chem/lib/python3.9/site-packages/sklearn/utils/extmath.py:1020: RuntimeWarning: invalid value encountered in divide\n",
      "  new_unnormalized_variance -= correction ** 2 / new_sample_count\n",
      "/Users/watanabeyuitou/opt/anaconda3/envs/chem/lib/python3.9/site-packages/sklearn/feature_selection/_variance_threshold.py:104: RuntimeWarning: Degrees of freedom <= 0 for slice.\n",
      "  self.variances_ = np.nanvar(X, axis=0)\n",
      "/Users/watanabeyuitou/opt/anaconda3/envs/chem/lib/python3.9/site-packages/sklearn/feature_selection/_variance_threshold.py:112: RuntimeWarning: All-NaN slice encountered\n",
      "  self.variances_ = np.nanmin(compare_arr, axis=0)\n"
     ]
    }
   ],
   "source": [
    "# 2. 限りなく除去\n",
    "finger_columns = ['organocatalyst']\n",
    "for finger_method in finger_methods:\n",
    "    print(finger_method)\n",
    "    df_method2 = toFinger(df_dropped_scaled, finger_columns,finger_method)\n",
    "    removeNoImpactData(df_method2).to_csv(f'./data/method2/{finger_method}.csv')"
   ]
  }
 ],
 "metadata": {
  "kernelspec": {
   "display_name": "Python 3 (ipykernel)",
   "language": "python",
   "name": "python3"
  },
  "language_info": {
   "codemirror_mode": {
    "name": "ipython",
    "version": 3
   },
   "file_extension": ".py",
   "mimetype": "text/x-python",
   "name": "python",
   "nbconvert_exporter": "python",
   "pygments_lexer": "ipython3",
   "version": "3.9.13"
  }
 },
 "nbformat": 4,
 "nbformat_minor": 5
}
