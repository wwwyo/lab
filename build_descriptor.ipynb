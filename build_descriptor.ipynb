{
 "cells": [
  {
   "cell_type": "code",
   "execution_count": 195,
   "id": "c643381e-3a80-417d-9e84-e6d6ab530f86",
   "metadata": {
    "tags": []
   },
   "outputs": [],
   "source": [
    "import pandas as pd"
   ]
  },
  {
   "cell_type": "code",
   "execution_count": 196,
   "id": "f8aa5f78-364f-4e43-a8be-aeb1aeb6cefd",
   "metadata": {},
   "outputs": [
    {
     "data": {
      "text/html": [
       "<div>\n",
       "<style scoped>\n",
       "    .dataframe tbody tr th:only-of-type {\n",
       "        vertical-align: middle;\n",
       "    }\n",
       "\n",
       "    .dataframe tbody tr th {\n",
       "        vertical-align: top;\n",
       "    }\n",
       "\n",
       "    .dataframe thead th {\n",
       "        text-align: right;\n",
       "    }\n",
       "</style>\n",
       "<table border=\"1\" class=\"dataframe\">\n",
       "  <thead>\n",
       "    <tr style=\"text-align: right;\">\n",
       "      <th></th>\n",
       "      <th>entry</th>\n",
       "      <th>R1-</th>\n",
       "      <th>R2</th>\n",
       "      <th>organocatalyst</th>\n",
       "      <th>organocatalyst(mol%)</th>\n",
       "      <th>solvent</th>\n",
       "      <th>under</th>\n",
       "      <th>temp(℃)</th>\n",
       "      <th>time(h)</th>\n",
       "      <th>Cu(OAc)2(mol%)</th>\n",
       "      <th>AcOH(mol%)</th>\n",
       "      <th>yield</th>\n",
       "    </tr>\n",
       "  </thead>\n",
       "  <tbody>\n",
       "    <tr>\n",
       "      <th>0</th>\n",
       "      <td>1</td>\n",
       "      <td>[*]C1=CC=CC=C1</td>\n",
       "      <td>H</td>\n",
       "      <td>ClC1=CC=C(C(O)=O)C(O)=C1</td>\n",
       "      <td>5.0</td>\n",
       "      <td>toluene</td>\n",
       "      <td>O2</td>\n",
       "      <td>90</td>\n",
       "      <td>24.0</td>\n",
       "      <td>0.0</td>\n",
       "      <td>0.0</td>\n",
       "      <td>81.0</td>\n",
       "    </tr>\n",
       "    <tr>\n",
       "      <th>1</th>\n",
       "      <td>2</td>\n",
       "      <td>[*]C1=CC=CC=C1</td>\n",
       "      <td>H</td>\n",
       "      <td>ClC1=CC=C(C(O)=O)C(O)=C1</td>\n",
       "      <td>5.0</td>\n",
       "      <td>toluene</td>\n",
       "      <td>O2</td>\n",
       "      <td>90</td>\n",
       "      <td>12.0</td>\n",
       "      <td>0.0</td>\n",
       "      <td>0.0</td>\n",
       "      <td>14.0</td>\n",
       "    </tr>\n",
       "    <tr>\n",
       "      <th>2</th>\n",
       "      <td>3</td>\n",
       "      <td>[*]C1=CC=CC=C1</td>\n",
       "      <td>H</td>\n",
       "      <td>OC1=CC(C)=CC=C1C(O)=O</td>\n",
       "      <td>5.0</td>\n",
       "      <td>toluene</td>\n",
       "      <td>O2</td>\n",
       "      <td>90</td>\n",
       "      <td>24.0</td>\n",
       "      <td>0.0</td>\n",
       "      <td>0.0</td>\n",
       "      <td>74.0</td>\n",
       "    </tr>\n",
       "    <tr>\n",
       "      <th>3</th>\n",
       "      <td>4</td>\n",
       "      <td>[*]C1=CC=CC=C1</td>\n",
       "      <td>H</td>\n",
       "      <td>OC1=CC(C)=CC=C1C(O)=O</td>\n",
       "      <td>5.0</td>\n",
       "      <td>toluene</td>\n",
       "      <td>O2</td>\n",
       "      <td>90</td>\n",
       "      <td>12.0</td>\n",
       "      <td>0.0</td>\n",
       "      <td>0.0</td>\n",
       "      <td>15.0</td>\n",
       "    </tr>\n",
       "    <tr>\n",
       "      <th>4</th>\n",
       "      <td>5</td>\n",
       "      <td>[*]C1=CC=CC=C1</td>\n",
       "      <td>H</td>\n",
       "      <td>OC1=CC(OC)=CC=C1C(O)=O</td>\n",
       "      <td>5.0</td>\n",
       "      <td>toluene</td>\n",
       "      <td>O2</td>\n",
       "      <td>90</td>\n",
       "      <td>24.0</td>\n",
       "      <td>0.0</td>\n",
       "      <td>0.0</td>\n",
       "      <td>90.0</td>\n",
       "    </tr>\n",
       "    <tr>\n",
       "      <th>...</th>\n",
       "      <td>...</td>\n",
       "      <td>...</td>\n",
       "      <td>...</td>\n",
       "      <td>...</td>\n",
       "      <td>...</td>\n",
       "      <td>...</td>\n",
       "      <td>...</td>\n",
       "      <td>...</td>\n",
       "      <td>...</td>\n",
       "      <td>...</td>\n",
       "      <td>...</td>\n",
       "      <td>...</td>\n",
       "    </tr>\n",
       "    <tr>\n",
       "      <th>201</th>\n",
       "      <td>2l-c</td>\n",
       "      <td>[*]C1=CC=CC=C1</td>\n",
       "      <td>Ph</td>\n",
       "      <td>O=C1C(C=C(OC)C(C(C)(C)C)=C1)=O</td>\n",
       "      <td>10.0</td>\n",
       "      <td>CH3CN</td>\n",
       "      <td>O2</td>\n",
       "      <td>60</td>\n",
       "      <td>72.0</td>\n",
       "      <td>0.0</td>\n",
       "      <td>0.0</td>\n",
       "      <td>92.0</td>\n",
       "    </tr>\n",
       "    <tr>\n",
       "      <th>202</th>\n",
       "      <td>2m</td>\n",
       "      <td>[*]C1=CSC=C1</td>\n",
       "      <td>C</td>\n",
       "      <td>O=C1C(C=C(OC)C(C(C)(C)C)=C1)=O</td>\n",
       "      <td>10.0</td>\n",
       "      <td>CH3CN</td>\n",
       "      <td>O2</td>\n",
       "      <td>60</td>\n",
       "      <td>48.0</td>\n",
       "      <td>0.0</td>\n",
       "      <td>0.0</td>\n",
       "      <td>83.0</td>\n",
       "    </tr>\n",
       "    <tr>\n",
       "      <th>203</th>\n",
       "      <td>2n</td>\n",
       "      <td>NaN</td>\n",
       "      <td>NaN</td>\n",
       "      <td>O=C1C(C=C(OC)C(C(C)(C)C)=C1)=O</td>\n",
       "      <td>10.0</td>\n",
       "      <td>CH3CN</td>\n",
       "      <td>O2</td>\n",
       "      <td>60</td>\n",
       "      <td>48.0</td>\n",
       "      <td>0.0</td>\n",
       "      <td>0.0</td>\n",
       "      <td>53.0</td>\n",
       "    </tr>\n",
       "    <tr>\n",
       "      <th>204</th>\n",
       "      <td>2o</td>\n",
       "      <td>NaN</td>\n",
       "      <td>NaN</td>\n",
       "      <td>O=C1C(C=C(OC)C(C(C)(C)C)=C1)=O</td>\n",
       "      <td>10.0</td>\n",
       "      <td>CH3CN</td>\n",
       "      <td>O2</td>\n",
       "      <td>60</td>\n",
       "      <td>48.0</td>\n",
       "      <td>0.0</td>\n",
       "      <td>0.0</td>\n",
       "      <td>25.0</td>\n",
       "    </tr>\n",
       "    <tr>\n",
       "      <th>205</th>\n",
       "      <td>2p</td>\n",
       "      <td>[*]C1=CC=CC=C1</td>\n",
       "      <td>H</td>\n",
       "      <td>O=C1C(C=C(OC)C(C(C)(C)C)=C1)=O</td>\n",
       "      <td>10.0</td>\n",
       "      <td>CH3CN</td>\n",
       "      <td>O2</td>\n",
       "      <td>rt</td>\n",
       "      <td>12.0</td>\n",
       "      <td>0.0</td>\n",
       "      <td>0.0</td>\n",
       "      <td>99.0</td>\n",
       "    </tr>\n",
       "  </tbody>\n",
       "</table>\n",
       "<p>206 rows × 12 columns</p>\n",
       "</div>"
      ],
      "text/plain": [
       "    entry             R1-   R2                  organocatalyst  \\\n",
       "0       1  [*]C1=CC=CC=C1    H        ClC1=CC=C(C(O)=O)C(O)=C1   \n",
       "1       2  [*]C1=CC=CC=C1    H        ClC1=CC=C(C(O)=O)C(O)=C1   \n",
       "2       3  [*]C1=CC=CC=C1    H           OC1=CC(C)=CC=C1C(O)=O   \n",
       "3       4  [*]C1=CC=CC=C1    H           OC1=CC(C)=CC=C1C(O)=O   \n",
       "4       5  [*]C1=CC=CC=C1    H          OC1=CC(OC)=CC=C1C(O)=O   \n",
       "..    ...             ...  ...                             ...   \n",
       "201  2l-c  [*]C1=CC=CC=C1   Ph  O=C1C(C=C(OC)C(C(C)(C)C)=C1)=O   \n",
       "202    2m    [*]C1=CSC=C1    C  O=C1C(C=C(OC)C(C(C)(C)C)=C1)=O   \n",
       "203    2n             NaN  NaN  O=C1C(C=C(OC)C(C(C)(C)C)=C1)=O   \n",
       "204    2o             NaN  NaN  O=C1C(C=C(OC)C(C(C)(C)C)=C1)=O   \n",
       "205    2p  [*]C1=CC=CC=C1    H  O=C1C(C=C(OC)C(C(C)(C)C)=C1)=O   \n",
       "\n",
       "     organocatalyst(mol%)  solvent under temp(℃)  time(h)  Cu(OAc)2(mol%)  \\\n",
       "0                     5.0  toluene    O2      90     24.0             0.0   \n",
       "1                     5.0  toluene    O2      90     12.0             0.0   \n",
       "2                     5.0  toluene    O2      90     24.0             0.0   \n",
       "3                     5.0  toluene    O2      90     12.0             0.0   \n",
       "4                     5.0  toluene    O2      90     24.0             0.0   \n",
       "..                    ...      ...   ...     ...      ...             ...   \n",
       "201                  10.0    CH3CN    O2      60     72.0             0.0   \n",
       "202                  10.0    CH3CN    O2      60     48.0             0.0   \n",
       "203                  10.0    CH3CN    O2      60     48.0             0.0   \n",
       "204                  10.0    CH3CN    O2      60     48.0             0.0   \n",
       "205                  10.0    CH3CN    O2      rt     12.0             0.0   \n",
       "\n",
       "     AcOH(mol%)  yield  \n",
       "0           0.0   81.0  \n",
       "1           0.0   14.0  \n",
       "2           0.0   74.0  \n",
       "3           0.0   15.0  \n",
       "4           0.0   90.0  \n",
       "..          ...    ...  \n",
       "201         0.0   92.0  \n",
       "202         0.0   83.0  \n",
       "203         0.0   53.0  \n",
       "204         0.0   25.0  \n",
       "205         0.0   99.0  \n",
       "\n",
       "[206 rows x 12 columns]"
      ]
     },
     "execution_count": 196,
     "metadata": {},
     "output_type": "execute_result"
    }
   ],
   "source": [
    "df = pd.read_csv('./data/dataset.csv')\n",
    "df"
   ]
  },
  {
   "cell_type": "markdown",
   "id": "784ab944-0b0a-4a32-9fd0-ef4f43cc5f74",
   "metadata": {
    "tags": []
   },
   "source": [
    "# 前処理\n",
    "1. 欠損値削除(R1-,R2,organocatalyst,yield)\n",
    "2. under = Ar削除(1個)\n",
    "3. R2 = Ph削除(3個)\n",
    "4. 触媒促進剤使ってるデータも削除\n",
    "5. rtを23度に置換\n",
    "6. カテゴリ値をダミー変数に変換"
   ]
  },
  {
   "cell_type": "code",
   "execution_count": 197,
   "id": "4d9b5b0f-2405-426f-b600-6d5fad348aa5",
   "metadata": {
    "tags": []
   },
   "outputs": [],
   "source": [
    "# 基質、触媒、収率で欠損がある場合は削除\n",
    "df.dropna(subset=['R1-', 'R2', 'organocatalyst', 'yield'], inplace=True)"
   ]
  },
  {
   "cell_type": "code",
   "execution_count": 198,
   "id": "27c9922b-4b7c-4b7b-b6de-d0f4eeb8d1e7",
   "metadata": {},
   "outputs": [
    {
     "name": "stdout",
     "output_type": "stream",
     "text": [
      "欠損値合計 entry                   0\n",
      "R1-                     0\n",
      "R2                      0\n",
      "organocatalyst          0\n",
      "organocatalyst(mol%)    0\n",
      "solvent                 0\n",
      "under                   0\n",
      "temp(℃)                 0\n",
      "time(h)                 0\n",
      "Cu(OAc)2(mol%)          0\n",
      "AcOH(mol%)              0\n",
      "yield                   0\n",
      "dtype: int64\n"
     ]
    },
    {
     "data": {
      "text/html": [
       "<div>\n",
       "<style scoped>\n",
       "    .dataframe tbody tr th:only-of-type {\n",
       "        vertical-align: middle;\n",
       "    }\n",
       "\n",
       "    .dataframe tbody tr th {\n",
       "        vertical-align: top;\n",
       "    }\n",
       "\n",
       "    .dataframe thead th {\n",
       "        text-align: right;\n",
       "    }\n",
       "</style>\n",
       "<table border=\"1\" class=\"dataframe\">\n",
       "  <thead>\n",
       "    <tr style=\"text-align: right;\">\n",
       "      <th></th>\n",
       "      <th>entry</th>\n",
       "      <th>R1-</th>\n",
       "      <th>R2</th>\n",
       "      <th>organocatalyst</th>\n",
       "      <th>organocatalyst(mol%)</th>\n",
       "      <th>solvent</th>\n",
       "      <th>under</th>\n",
       "      <th>temp(℃)</th>\n",
       "      <th>time(h)</th>\n",
       "      <th>Cu(OAc)2(mol%)</th>\n",
       "      <th>AcOH(mol%)</th>\n",
       "      <th>yield</th>\n",
       "    </tr>\n",
       "  </thead>\n",
       "  <tbody>\n",
       "  </tbody>\n",
       "</table>\n",
       "</div>"
      ],
      "text/plain": [
       "Empty DataFrame\n",
       "Columns: [entry, R1-, R2, organocatalyst, organocatalyst(mol%), solvent, under, temp(℃), time(h), Cu(OAc)2(mol%), AcOH(mol%), yield]\n",
       "Index: []"
      ]
     },
     "execution_count": 198,
     "metadata": {},
     "output_type": "execute_result"
    }
   ],
   "source": [
    "print('欠損値合計', df.isnull().sum())\n",
    "na_row = df.isnull().any(axis=1)\n",
    "df.loc[na_row, :]"
   ]
  },
  {
   "cell_type": "code",
   "execution_count": 200,
   "id": "36b65897-aa28-4e92-9eae-5c873b63ed56",
   "metadata": {},
   "outputs": [
    {
     "data": {
      "text/html": [
       "<div>\n",
       "<style scoped>\n",
       "    .dataframe tbody tr th:only-of-type {\n",
       "        vertical-align: middle;\n",
       "    }\n",
       "\n",
       "    .dataframe tbody tr th {\n",
       "        vertical-align: top;\n",
       "    }\n",
       "\n",
       "    .dataframe thead th {\n",
       "        text-align: right;\n",
       "    }\n",
       "</style>\n",
       "<table border=\"1\" class=\"dataframe\">\n",
       "  <thead>\n",
       "    <tr style=\"text-align: right;\">\n",
       "      <th></th>\n",
       "      <th>entry</th>\n",
       "      <th>R1-</th>\n",
       "      <th>R2</th>\n",
       "      <th>organocatalyst</th>\n",
       "      <th>organocatalyst(mol%)</th>\n",
       "      <th>solvent</th>\n",
       "      <th>under</th>\n",
       "      <th>temp(℃)</th>\n",
       "      <th>time(h)</th>\n",
       "      <th>Cu(OAc)2(mol%)</th>\n",
       "      <th>AcOH(mol%)</th>\n",
       "      <th>yield</th>\n",
       "    </tr>\n",
       "  </thead>\n",
       "  <tbody>\n",
       "    <tr>\n",
       "      <th>0</th>\n",
       "      <td>1</td>\n",
       "      <td>[*]C1=CC=CC=C1</td>\n",
       "      <td>H</td>\n",
       "      <td>ClC1=CC=C(C(O)=O)C(O)=C1</td>\n",
       "      <td>5.0</td>\n",
       "      <td>toluene</td>\n",
       "      <td>O2</td>\n",
       "      <td>90</td>\n",
       "      <td>24.0</td>\n",
       "      <td>0.0</td>\n",
       "      <td>0.0</td>\n",
       "      <td>81.0</td>\n",
       "    </tr>\n",
       "    <tr>\n",
       "      <th>1</th>\n",
       "      <td>2</td>\n",
       "      <td>[*]C1=CC=CC=C1</td>\n",
       "      <td>H</td>\n",
       "      <td>ClC1=CC=C(C(O)=O)C(O)=C1</td>\n",
       "      <td>5.0</td>\n",
       "      <td>toluene</td>\n",
       "      <td>O2</td>\n",
       "      <td>90</td>\n",
       "      <td>12.0</td>\n",
       "      <td>0.0</td>\n",
       "      <td>0.0</td>\n",
       "      <td>14.0</td>\n",
       "    </tr>\n",
       "    <tr>\n",
       "      <th>2</th>\n",
       "      <td>3</td>\n",
       "      <td>[*]C1=CC=CC=C1</td>\n",
       "      <td>H</td>\n",
       "      <td>OC1=CC(C)=CC=C1C(O)=O</td>\n",
       "      <td>5.0</td>\n",
       "      <td>toluene</td>\n",
       "      <td>O2</td>\n",
       "      <td>90</td>\n",
       "      <td>24.0</td>\n",
       "      <td>0.0</td>\n",
       "      <td>0.0</td>\n",
       "      <td>74.0</td>\n",
       "    </tr>\n",
       "    <tr>\n",
       "      <th>3</th>\n",
       "      <td>4</td>\n",
       "      <td>[*]C1=CC=CC=C1</td>\n",
       "      <td>H</td>\n",
       "      <td>OC1=CC(C)=CC=C1C(O)=O</td>\n",
       "      <td>5.0</td>\n",
       "      <td>toluene</td>\n",
       "      <td>O2</td>\n",
       "      <td>90</td>\n",
       "      <td>12.0</td>\n",
       "      <td>0.0</td>\n",
       "      <td>0.0</td>\n",
       "      <td>15.0</td>\n",
       "    </tr>\n",
       "    <tr>\n",
       "      <th>4</th>\n",
       "      <td>5</td>\n",
       "      <td>[*]C1=CC=CC=C1</td>\n",
       "      <td>H</td>\n",
       "      <td>OC1=CC(OC)=CC=C1C(O)=O</td>\n",
       "      <td>5.0</td>\n",
       "      <td>toluene</td>\n",
       "      <td>O2</td>\n",
       "      <td>90</td>\n",
       "      <td>24.0</td>\n",
       "      <td>0.0</td>\n",
       "      <td>0.0</td>\n",
       "      <td>90.0</td>\n",
       "    </tr>\n",
       "  </tbody>\n",
       "</table>\n",
       "</div>"
      ],
      "text/plain": [
       "  entry             R1- R2            organocatalyst  organocatalyst(mol%)  \\\n",
       "0     1  [*]C1=CC=CC=C1  H  ClC1=CC=C(C(O)=O)C(O)=C1                   5.0   \n",
       "1     2  [*]C1=CC=CC=C1  H  ClC1=CC=C(C(O)=O)C(O)=C1                   5.0   \n",
       "2     3  [*]C1=CC=CC=C1  H     OC1=CC(C)=CC=C1C(O)=O                   5.0   \n",
       "3     4  [*]C1=CC=CC=C1  H     OC1=CC(C)=CC=C1C(O)=O                   5.0   \n",
       "4     5  [*]C1=CC=CC=C1  H    OC1=CC(OC)=CC=C1C(O)=O                   5.0   \n",
       "\n",
       "   solvent under temp(℃)  time(h)  Cu(OAc)2(mol%)  AcOH(mol%)  yield  \n",
       "0  toluene    O2      90     24.0             0.0         0.0   81.0  \n",
       "1  toluene    O2      90     12.0             0.0         0.0   14.0  \n",
       "2  toluene    O2      90     24.0             0.0         0.0   74.0  \n",
       "3  toluene    O2      90     12.0             0.0         0.0   15.0  \n",
       "4  toluene    O2      90     24.0             0.0         0.0   90.0  "
      ]
     },
     "execution_count": 200,
     "metadata": {},
     "output_type": "execute_result"
    }
   ],
   "source": [
    "df.head()"
   ]
  },
  {
   "cell_type": "code",
   "execution_count": 191,
   "id": "1e1ab2a7-b3fb-4067-beb7-cba48ed17e02",
   "metadata": {},
   "outputs": [
    {
     "data": {
      "text/plain": [
       "0      False\n",
       "1      False\n",
       "2      False\n",
       "3      False\n",
       "4      False\n",
       "       ...  \n",
       "199    False\n",
       "200    False\n",
       "201    False\n",
       "202    False\n",
       "205    False\n",
       "Name: organocatalyst, Length: 153, dtype: bool"
      ]
     },
     "execution_count": 191,
     "metadata": {},
     "output_type": "execute_result"
    }
   ],
   "source": [
    "# organocatalyst = '-'のデータ削除\n",
    "df = df[df['organocatalyst'] != '-']\n",
    "df['organocatalyst'] == '-'"
   ]
  },
  {
   "cell_type": "code",
   "execution_count": 192,
   "id": "aef3019a-9a3b-4192-b677-779d72b7b62c",
   "metadata": {},
   "outputs": [
    {
     "data": {
      "text/plain": [
       "O2     108\n",
       "air     44\n",
       "Name: under, dtype: int64"
      ]
     },
     "execution_count": 192,
     "metadata": {},
     "output_type": "execute_result"
    }
   ],
   "source": [
    "# Arを削除(1 data)\n",
    "df = df[df['under'] != 'Ar']\n",
    "df['under'].value_counts()"
   ]
  },
  {
   "cell_type": "code",
   "execution_count": 193,
   "id": "842ed079-60f8-43b9-a7c0-ffc845271eae",
   "metadata": {},
   "outputs": [
    {
     "data": {
      "text/plain": [
       "H    97\n",
       "C    52\n",
       "Name: R2, dtype: int64"
      ]
     },
     "execution_count": 193,
     "metadata": {},
     "output_type": "execute_result"
    }
   ],
   "source": [
    "# R2 = Ph削除(3 data)\n",
    "df = df[df['R2'] != 'Ph']\n",
    "df['R2'].value_counts()"
   ]
  },
  {
   "cell_type": "code",
   "execution_count": 194,
   "id": "4ac4f407-d143-43d1-8bbb-adbbe2210550",
   "metadata": {},
   "outputs": [
    {
     "name": "stdout",
     "output_type": "stream",
     "text": [
      "Index(['entry', 'R1-', 'R2', 'organocatalyst', 'organocatalyst(mol%)',\n",
      "       'solvent', 'under', 'temp(℃)', 'time(h)', 'Cu(OAc)2(mol%)',\n",
      "       'AcOH(mol%)', 'yield'],\n",
      "      dtype='object')\n",
      "(121, 12)\n"
     ]
    }
   ],
   "source": [
    "# 触媒促進剤データ削除\n",
    "df = df[df['Cu(OAc)2(mol%)'] == 0]\n",
    "df = df[df['AcOH(mol%)'] == 0]\n",
    "print(df.columns)\n",
    "print(df.shape)"
   ]
  },
  {
   "cell_type": "code",
   "execution_count": 157,
   "id": "c43ed77e-cb38-4e05-8c32-e1ed647c98a6",
   "metadata": {},
   "outputs": [
    {
     "data": {
      "text/plain": [
       "Index(['entry', 'R1-', 'R2', 'organocatalyst', 'organocatalyst(mol%)',\n",
       "       'solvent', 'under', 'temp(℃)', 'time(h)', 'yield'],\n",
       "      dtype='object')"
      ]
     },
     "execution_count": 157,
     "metadata": {},
     "output_type": "execute_result"
    }
   ],
   "source": [
    "# 触媒カラム削除\n",
    "df.drop(columns=['Cu(OAc)2(mol%)','AcOH(mol%)'],inplace=True)\n",
    "\n",
    "df.columns"
   ]
  },
  {
   "cell_type": "code",
   "execution_count": 158,
   "id": "f2cc519a-fa95-4ec5-a41d-0d6e361bfa5c",
   "metadata": {},
   "outputs": [],
   "source": [
    "df.reset_index(inplace=True,drop=True)"
   ]
  },
  {
   "cell_type": "code",
   "execution_count": 159,
   "id": "4eb62ead-77d3-40d8-983c-87c3d24d8ca8",
   "metadata": {},
   "outputs": [
    {
     "name": "stdout",
     "output_type": "stream",
     "text": [
      "23    64\n",
      "90    48\n",
      "80     7\n",
      "60     2\n",
      "Name: temp(℃), dtype: int64\n"
     ]
    },
    {
     "name": "stderr",
     "output_type": "stream",
     "text": [
      "/var/folders/12/6r_lrg9d6kx949nw6gcq9ksh0000gn/T/ipykernel_92445/2448397563.py:2: SettingWithCopyWarning: \n",
      "A value is trying to be set on a copy of a slice from a DataFrame\n",
      "\n",
      "See the caveats in the documentation: https://pandas.pydata.org/pandas-docs/stable/user_guide/indexing.html#returning-a-view-versus-a-copy\n",
      "  df['temp(℃)'][df['temp(℃)'] == 'rt'] = \"23\"\n"
     ]
    }
   ],
   "source": [
    "# rtを23度に置換\n",
    "df['temp(℃)'][df['temp(℃)'] == 'rt'] = \"23\"\n",
    "print(df['temp(℃)'].value_counts())"
   ]
  },
  {
   "cell_type": "code",
   "execution_count": 160,
   "id": "ac29b463-9daa-47bf-aa3c-61e27c550363",
   "metadata": {},
   "outputs": [
    {
     "data": {
      "text/html": [
       "<div>\n",
       "<style scoped>\n",
       "    .dataframe tbody tr th:only-of-type {\n",
       "        vertical-align: middle;\n",
       "    }\n",
       "\n",
       "    .dataframe tbody tr th {\n",
       "        vertical-align: top;\n",
       "    }\n",
       "\n",
       "    .dataframe thead th {\n",
       "        text-align: right;\n",
       "    }\n",
       "</style>\n",
       "<table border=\"1\" class=\"dataframe\">\n",
       "  <thead>\n",
       "    <tr style=\"text-align: right;\">\n",
       "      <th></th>\n",
       "      <th>entry</th>\n",
       "      <th>R1-</th>\n",
       "      <th>organocatalyst</th>\n",
       "      <th>organocatalyst(mol%)</th>\n",
       "      <th>temp(℃)</th>\n",
       "      <th>time(h)</th>\n",
       "      <th>yield</th>\n",
       "      <th>R2_C</th>\n",
       "      <th>R2_H</th>\n",
       "      <th>under_O2</th>\n",
       "      <th>under_air</th>\n",
       "      <th>solvent_CH3CN</th>\n",
       "      <th>solvent_DMF</th>\n",
       "      <th>solvent_MeCN</th>\n",
       "      <th>solvent_MeOH</th>\n",
       "      <th>solvent_toluene</th>\n",
       "    </tr>\n",
       "  </thead>\n",
       "  <tbody>\n",
       "    <tr>\n",
       "      <th>0</th>\n",
       "      <td>1</td>\n",
       "      <td>[*]C1=CC=CC=C1</td>\n",
       "      <td>ClC1=CC=C(C(O)=O)C(O)=C1</td>\n",
       "      <td>5.0</td>\n",
       "      <td>90</td>\n",
       "      <td>24.0</td>\n",
       "      <td>81.0</td>\n",
       "      <td>0</td>\n",
       "      <td>1</td>\n",
       "      <td>1</td>\n",
       "      <td>0</td>\n",
       "      <td>0</td>\n",
       "      <td>0</td>\n",
       "      <td>0</td>\n",
       "      <td>0</td>\n",
       "      <td>1</td>\n",
       "    </tr>\n",
       "    <tr>\n",
       "      <th>1</th>\n",
       "      <td>2</td>\n",
       "      <td>[*]C1=CC=CC=C1</td>\n",
       "      <td>ClC1=CC=C(C(O)=O)C(O)=C1</td>\n",
       "      <td>5.0</td>\n",
       "      <td>90</td>\n",
       "      <td>12.0</td>\n",
       "      <td>14.0</td>\n",
       "      <td>0</td>\n",
       "      <td>1</td>\n",
       "      <td>1</td>\n",
       "      <td>0</td>\n",
       "      <td>0</td>\n",
       "      <td>0</td>\n",
       "      <td>0</td>\n",
       "      <td>0</td>\n",
       "      <td>1</td>\n",
       "    </tr>\n",
       "    <tr>\n",
       "      <th>2</th>\n",
       "      <td>3</td>\n",
       "      <td>[*]C1=CC=CC=C1</td>\n",
       "      <td>OC1=CC(C)=CC=C1C(O)=O</td>\n",
       "      <td>5.0</td>\n",
       "      <td>90</td>\n",
       "      <td>24.0</td>\n",
       "      <td>74.0</td>\n",
       "      <td>0</td>\n",
       "      <td>1</td>\n",
       "      <td>1</td>\n",
       "      <td>0</td>\n",
       "      <td>0</td>\n",
       "      <td>0</td>\n",
       "      <td>0</td>\n",
       "      <td>0</td>\n",
       "      <td>1</td>\n",
       "    </tr>\n",
       "    <tr>\n",
       "      <th>3</th>\n",
       "      <td>4</td>\n",
       "      <td>[*]C1=CC=CC=C1</td>\n",
       "      <td>OC1=CC(C)=CC=C1C(O)=O</td>\n",
       "      <td>5.0</td>\n",
       "      <td>90</td>\n",
       "      <td>12.0</td>\n",
       "      <td>15.0</td>\n",
       "      <td>0</td>\n",
       "      <td>1</td>\n",
       "      <td>1</td>\n",
       "      <td>0</td>\n",
       "      <td>0</td>\n",
       "      <td>0</td>\n",
       "      <td>0</td>\n",
       "      <td>0</td>\n",
       "      <td>1</td>\n",
       "    </tr>\n",
       "    <tr>\n",
       "      <th>4</th>\n",
       "      <td>5</td>\n",
       "      <td>[*]C1=CC=CC=C1</td>\n",
       "      <td>OC1=CC(OC)=CC=C1C(O)=O</td>\n",
       "      <td>5.0</td>\n",
       "      <td>90</td>\n",
       "      <td>24.0</td>\n",
       "      <td>90.0</td>\n",
       "      <td>0</td>\n",
       "      <td>1</td>\n",
       "      <td>1</td>\n",
       "      <td>0</td>\n",
       "      <td>0</td>\n",
       "      <td>0</td>\n",
       "      <td>0</td>\n",
       "      <td>0</td>\n",
       "      <td>1</td>\n",
       "    </tr>\n",
       "  </tbody>\n",
       "</table>\n",
       "</div>"
      ],
      "text/plain": [
       "  entry             R1-            organocatalyst  organocatalyst(mol%)  \\\n",
       "0     1  [*]C1=CC=CC=C1  ClC1=CC=C(C(O)=O)C(O)=C1                   5.0   \n",
       "1     2  [*]C1=CC=CC=C1  ClC1=CC=C(C(O)=O)C(O)=C1                   5.0   \n",
       "2     3  [*]C1=CC=CC=C1     OC1=CC(C)=CC=C1C(O)=O                   5.0   \n",
       "3     4  [*]C1=CC=CC=C1     OC1=CC(C)=CC=C1C(O)=O                   5.0   \n",
       "4     5  [*]C1=CC=CC=C1    OC1=CC(OC)=CC=C1C(O)=O                   5.0   \n",
       "\n",
       "  temp(℃)  time(h)  yield  R2_C  R2_H  under_O2  under_air  solvent_CH3CN  \\\n",
       "0      90     24.0   81.0     0     1         1          0              0   \n",
       "1      90     12.0   14.0     0     1         1          0              0   \n",
       "2      90     24.0   74.0     0     1         1          0              0   \n",
       "3      90     12.0   15.0     0     1         1          0              0   \n",
       "4      90     24.0   90.0     0     1         1          0              0   \n",
       "\n",
       "   solvent_DMF  solvent_MeCN  solvent_MeOH  solvent_toluene  \n",
       "0            0             0             0                1  \n",
       "1            0             0             0                1  \n",
       "2            0             0             0                1  \n",
       "3            0             0             0                1  \n",
       "4            0             0             0                1  "
      ]
     },
     "execution_count": 160,
     "metadata": {},
     "output_type": "execute_result"
    }
   ],
   "source": [
    "# カテゴリ値をダミー変数に変換\n",
    "df = pd.get_dummies(df, columns=['R2','under','solvent'])\n",
    "df.head(5)"
   ]
  },
  {
   "cell_type": "code",
   "execution_count": 108,
   "id": "eead9385-f207-472d-afac-7c0e763febe1",
   "metadata": {},
   "outputs": [],
   "source": [
    "# 重複確認\n",
    "# check_columns = df.columns.drop(['entry', '収率(%)'])\n",
    "\n",
    "# # 説明変数のみでみた時の重複削除\n",
    "# _df = df.drop(columns='entry').drop_duplicates(subset=check_columns).reset_index(drop=True)\n",
    "# X = _df.drop(columns=['収率(%)'])\n",
    "# y = _df['収率(%)']"
   ]
  },
  {
   "cell_type": "code",
   "execution_count": 161,
   "id": "fcf0a245-f9bb-4bbe-92ac-e986360dcb08",
   "metadata": {},
   "outputs": [],
   "source": [
    "# 重複確認\n",
    "def isDuplicated(df):\n",
    "    check_columns = df.columns.drop(['entry', 'yield'])\n",
    "    return df.duplicated(subset=check_columns).value_counts()"
   ]
  },
  {
   "cell_type": "code",
   "execution_count": 162,
   "id": "d1194220-73cf-45a9-8f7c-d80170b892e6",
   "metadata": {},
   "outputs": [
    {
     "data": {
      "text/plain": [
       "False    121\n",
       "dtype: int64"
      ]
     },
     "execution_count": 162,
     "metadata": {},
     "output_type": "execute_result"
    }
   ],
   "source": [
    "isDuplicated(df)"
   ]
  },
  {
   "cell_type": "code",
   "execution_count": 163,
   "id": "6b397e78-3030-4e75-8527-265424cf34b4",
   "metadata": {},
   "outputs": [],
   "source": [
    "df.to_csv('./data/origin.csv')"
   ]
  },
  {
   "cell_type": "markdown",
   "id": "afc599cd-cd53-4f93-a0a9-7179d225961f",
   "metadata": {
    "tags": []
   },
   "source": [
    "# スケーリング"
   ]
  },
  {
   "cell_type": "code",
   "execution_count": 164,
   "id": "34507943-4eab-4bca-8278-a4b005861235",
   "metadata": {},
   "outputs": [],
   "source": [
    "# 説明変数をスケーリング\n",
    "# 目的変数は必要ない。\n",
    "# https://stats.stackexchange.com/questions/111467/is-it-necessary-to-scale-the-target-value-in-addition-to-scaling-features-for-re\n",
    "from sklearn.preprocessing import StandardScaler\n",
    "def scaling(df, scaling_columns):\n",
    "    scaler = StandardScaler()\n",
    "    scaler.fit(df[scaling_columns])\n",
    "    df_scaled = pd.concat([df.drop(columns=scaling_columns), \n",
    "                               pd.DataFrame(scaler.transform(df[scaling_columns]),index=df.index , columns=scaling_columns)\n",
    "                          ],axis=1, join='inner')\n",
    "    print(df_scaled.shape)\n",
    "    return df_scaled"
   ]
  },
  {
   "cell_type": "code",
   "execution_count": 165,
   "id": "75fbe324-dd09-4367-94b5-4e58cc0b42c9",
   "metadata": {},
   "outputs": [
    {
     "name": "stdout",
     "output_type": "stream",
     "text": [
      "(121, 16)\n"
     ]
    }
   ],
   "source": [
    "scaling_columns = ['organocatalyst(mol%)','temp(℃)','time(h)']\n",
    "df_scaled = scaling(df, scaling_columns)"
   ]
  },
  {
   "cell_type": "code",
   "execution_count": 166,
   "id": "5e92db8a-984a-4bb4-babc-43713cb77441",
   "metadata": {},
   "outputs": [],
   "source": [
    "df_scaled.to_csv('./data/origin_scaled.csv')"
   ]
  },
  {
   "cell_type": "markdown",
   "id": "15c46478-af67-4f59-a642-cadb756ac1e5",
   "metadata": {
    "tags": []
   },
   "source": [
    "# 記述子\n",
    "https://qiita.com/ottantachinque/items/d7332bcf67b5844f5be3\n",
    "### morganフィンガープリントの作成（Extended Connectivity Fingerprint）\n",
    "子からある距離にある部分構造を数え上げていく，「circular substructures」と呼ばれるタイプのフィンガープリントです．radiusの値で距離を設定します．いわゆるECFP（Extended Connectivity Fingerprint）フィンガープリントに相当するものですが，探索距離の定義が異なる点に注意が必要です．\n",
    "### morgan featureフィンガープリントの作成(Functional Connectivity Fingerprint）\n",
    "FCFP（Functional Connectivity Fingerprint）様のフィンガープリントを用いたい場合にはuseFeatures=Trueを設定します．\n",
    "\n",
    "### MACCS\n",
    "全部で166の部分構造についての有無を調べ上げたもので，RDKit内の情報保持のために1ビット使っているため全部で167ビットのフィンガープリントになります．部分構造を有する場合は1が，ない場合は0が格納されています．\n",
    "\n",
    "### RDkit記述子\n",
    "一定の結合数に相当する原子と結合種類を格納する方法で，事前に部分構造を用意する必要がないことから，より柔軟に分子構造を表現することが可能です．\n",
    "\n",
    "### MinHashフィンガープリント\n",
    "「A probabilistic molecular fingerprint for big data settings」という論文で報告されている，ECFPと同様にCircular型のフィンガープリントになります\n",
    "\n",
    "### Avalonフィンガープリント\n",
    "\n",
    "### アトムペアフィンガープリントとトポロジカル二面角フィンガープリント\n",
    "原子のアトムタイプとその最小結合距離を記録していきます．\n",
    "アトムタイプには\n",
    "原子の種類\n",
    "結合する重原子の数\n",
    "π電子数\n",
    "https://future-chem.com/ap-dp-fingerprint/\n",
    "\n",
    "### ドナーアクセプターペアフィンガープリント\n",
    "ドナーアクセプターペアフィンガープリントでは「アトムタイプの情報」について\n",
    "\n",
    "水素結合供与体\n",
    "水素結合受容体\n",
    "といった一般性のある「化学的性質」を情報として用いているフィンガープリントです\n",
    "\n",
    "### mordred記述子の作成\n",
    "https://github.com/mordred-descriptor\n",
    "\n",
    "\n",
    "MolLogP : Crippenらによる原子ベースのLogP指標(LogPは水/オクタノール分配係数）\n",
    "MolWt : 分子量\n",
    "NumHAcceptors : 水素結合アクセプターの数\n",
    "NumHDonors : 水素結合ドナーの数\n",
    "NumHeteroatoms : へテロ元素の数\n",
    "NumRotatableBonds : 回転可能な結合数\n",
    "FractionCSP3 : 全炭素数におけるsp3炭素の割合\n",
    "TPSA : トポロジカル極性表面積\n"
   ]
  },
  {
   "cell_type": "code",
   "execution_count": 167,
   "id": "756c8c4e-5866-43c1-8ef9-7403c28c6bc4",
   "metadata": {},
   "outputs": [],
   "source": [
    "BIT = 1024"
   ]
  },
  {
   "cell_type": "code",
   "execution_count": 168,
   "id": "d434a17d-b049-4b8b-bfab-c0760e8cf1c9",
   "metadata": {},
   "outputs": [],
   "source": [
    "import numpy as np\n",
    "from rdkit import Chem\n",
    "from rdkit.Chem import AllChem, DataStructs\n",
    "from rdkit.Avalon import pyAvalonTools\n",
    "from mordred import Calculator, descriptors\n",
    "from rdkit.Chem.AtomPairs.Sheridan import GetBPFingerprint\n",
    "from rdkit.Chem.AtomPairs import Pairs\n",
    "from rdkit.Chem import rdMHFPFingerprint\n",
    "encoder = rdMHFPFingerprint.MHFPEncoder()\n",
    "\n",
    "def toFinger(df, columns, finger_method):\n",
    "    df_copy = df.drop(columns=columns)\n",
    "    for column in columns:\n",
    "        fingerprints = toFingerFromSmiles(df[column],finger_method)\n",
    "        if finger_method in ['mordred_2d','mordred_3d']:\n",
    "            fingerprints_df = fingerprints\n",
    "        else:\n",
    "            column_names = list(map(lambda x: str(x)+'_'+column, range(len(fingerprints[0]))))\n",
    "            fingerprints_df =  pd.DataFrame(fingerprints,index=df.index, columns=column_names)\n",
    "        \n",
    "        # scaling必要\n",
    "        if finger_method in ['mordred_2d','mordred_3d', 'minhash']:\n",
    "            fingerprints_df = scaling(fingerprints_df.round(5), fingerprints_df.columns)\n",
    "            \n",
    "        df_copy = pd.merge(df_copy, fingerprints_df, left_index=True, right_index=True)\n",
    "    return df_copy\n",
    "\n",
    "def toFingerFromSmiles(series, method):\n",
    "    mols = []\n",
    "    for smile in series:\n",
    "        if smile in ['-', 0]: smile = '' \n",
    "        mols.append(Chem.MolFromSmiles(smile))\n",
    "\n",
    "    if (method == 'mordred_2d'):\n",
    "        # scaling必要\n",
    "        calc_2D = Calculator(descriptors, ignore_3D=True) #2D記述子\n",
    "        fingerprints = calc_2D.pandas(mols,quiet=False)\n",
    "        return fingerprints\n",
    "    elif (method == 'mordred_3d'):\n",
    "        # scaling必要\n",
    "        calc_3D = Calculator(descriptors, ignore_3D=False) #3D記述子\n",
    "        fingerprints = calc_3D.pandas(mols,quiet=False)\n",
    "        return fingerprints\n",
    "    else:\n",
    "        fingerprints = []\n",
    "        for mol_idx, mol in enumerate(mols):\n",
    "            try:\n",
    "                # listに直してる。\n",
    "                if (method == 'morgan'):\n",
    "                    fingerprint = [x for x in AllChem.GetMorganFingerprintAsBitVect(mol,2,BIT)]\n",
    "                elif (method == 'morgan_feature'):\n",
    "                    fingerprint = [x for x in AllChem.GetMorganFingerprintAsBitVect(mol,2,BIT,useFeatures=True)]\n",
    "                elif (method == 'maccs'):\n",
    "                    fingerprint = [x for x in AllChem.GetMACCSKeysFingerprint(mol)]\n",
    "                elif (method == 'rdkit'):\n",
    "                    fingerprint = [x for x in Chem.RDKFingerprint(mol)]\n",
    "                elif (method == 'minhash'):\n",
    "                    # scaling必要\n",
    "                    fingerprint = [x for x in encoder.EncodeMol(mol)]\n",
    "                elif (method == 'avalon'):\n",
    "                    fingerprint = [x for x in pyAvalonTools.GetAvalonFP(mol)]\n",
    "                elif (method == 'atom'):\n",
    "                    fingerprint = [x for x in Pairs.GetAtomPairFingerprintAsBitVect(mol)]\n",
    "                elif (method == 'donor'):\n",
    "                    print('donor')\n",
    "                    fingerprint = [x for x in GetBPFingerprint(mol)]\n",
    "                else:\n",
    "                    print('method error')\n",
    "                fingerprints.append(fingerprint)\n",
    "            except Exception as e:\n",
    "                print(e)\n",
    "                print(\"Error\", mol_idx)\n",
    "                break\n",
    "        return fingerprints"
   ]
  },
  {
   "cell_type": "code",
   "execution_count": 169,
   "id": "7f6404c8-159f-48c6-a9e9-4091236880fc",
   "metadata": {},
   "outputs": [],
   "source": [
    "finger_methods = [\n",
    "    'morgan',\n",
    "    'morgan_feature',\n",
    "    'maccs',\n",
    "    'rdkit',\n",
    "    'minhash',\n",
    "    'avalon',\n",
    "    #'atom', # 重い\n",
    "    #'donor', # 重い\n",
    "    'mordred_2d',\n",
    "    'mordred_3d',\n",
    "]"
   ]
  },
  {
   "cell_type": "markdown",
   "id": "0a850dc3-9d35-4630-9217-ec49ec058710",
   "metadata": {
    "tags": []
   },
   "source": [
    "# 記述子変換 ⇒ 分散が0 or 80%異常が同じ値の情報を削除\n",
    "説明しきれていないため共線性の恐れがある\n",
    "VarianceThresholdで特徴選択"
   ]
  },
  {
   "cell_type": "code",
   "execution_count": 177,
   "id": "d982e455-58ba-4adc-8c86-19ab8190b1f2",
   "metadata": {},
   "outputs": [],
   "source": [
    "from sklearn.feature_selection import VarianceThreshold\n",
    "def removeNoImpactData(df):\n",
    "    X = df.drop(columns=['entry','yield'])\n",
    "    select = VarianceThreshold()\n",
    "    X_new = select.fit_transform(X)\n",
    "    df_new = pd.concat([\n",
    "        df['yield'],\n",
    "        pd.DataFrame(X_new, columns=np.array(X.columns)[select.get_support()==True])\n",
    "    ],axis=1)\n",
    "    print('before_shape: ', df.shape)\n",
    "    print('new_shape: ', df_new.shape)\n",
    "    return df_new"
   ]
  },
  {
   "cell_type": "markdown",
   "id": "ff72bf8c-15a5-4704-8f7b-0d6d0d3da30e",
   "metadata": {
    "tags": []
   },
   "source": [
    "# finger print変換\n",
    "- method1 全てのデータを使用"
   ]
  },
  {
   "cell_type": "code",
   "execution_count": 178,
   "id": "4198ee2e-fe77-4ff9-bc19-75c81b9038f9",
   "metadata": {
    "tags": []
   },
   "outputs": [
    {
     "name": "stdout",
     "output_type": "stream",
     "text": [
      "morgan\n",
      "before_shape:  (121, 2062)\n",
      "new_shape:  (121, 363)\n",
      "morgan_feature\n",
      "before_shape:  (121, 2062)\n",
      "new_shape:  (121, 232)\n",
      "maccs\n",
      "before_shape:  (121, 348)\n",
      "new_shape:  (121, 175)\n",
      "rdkit\n",
      "before_shape:  (121, 4110)\n",
      "new_shape:  (121, 2642)\n",
      "minhash\n",
      "(121, 2048)\n",
      "(121, 2048)\n",
      "before_shape:  (121, 4110)\n",
      "new_shape:  (121, 4103)\n",
      "avalon\n",
      "before_shape:  (121, 1038)\n",
      "new_shape:  (121, 567)\n",
      "mordred_2d\n"
     ]
    },
    {
     "name": "stderr",
     "output_type": "stream",
     "text": [
      "100%|█████████████████████████████████████████████████████████████████████████████████████████████████████████████████████████████████████████████████████████████████████| 121/121 [00:16<00:00,  7.37it/s]\n"
     ]
    },
    {
     "name": "stdout",
     "output_type": "stream",
     "text": [
      "(121, 1613)\n"
     ]
    },
    {
     "name": "stderr",
     "output_type": "stream",
     "text": [
      "/Users/watanabeyuitou/opt/anaconda3/envs/chem/lib/python3.9/site-packages/sklearn/utils/extmath.py:985: RuntimeWarning: invalid value encountered in divide\n",
      "  updated_mean = (last_sum + new_sum) / updated_sample_count\n",
      "/Users/watanabeyuitou/opt/anaconda3/envs/chem/lib/python3.9/site-packages/sklearn/utils/extmath.py:990: RuntimeWarning: invalid value encountered in divide\n",
      "  T = new_sum / new_sample_count\n",
      "/Users/watanabeyuitou/opt/anaconda3/envs/chem/lib/python3.9/site-packages/sklearn/utils/extmath.py:1020: RuntimeWarning: invalid value encountered in divide\n",
      "  new_unnormalized_variance -= correction ** 2 / new_sample_count\n",
      "100%|█████████████████████████████████████████████████████████████████████████████████████████████████████████████████████████████████████████████████████████████████████| 121/121 [00:41<00:00,  2.91it/s]\n",
      "/Users/watanabeyuitou/opt/anaconda3/envs/chem/lib/python3.9/site-packages/sklearn/utils/extmath.py:985: RuntimeWarning: invalid value encountered in divide\n",
      "  updated_mean = (last_sum + new_sum) / updated_sample_count\n",
      "/Users/watanabeyuitou/opt/anaconda3/envs/chem/lib/python3.9/site-packages/sklearn/utils/extmath.py:990: RuntimeWarning: invalid value encountered in divide\n",
      "  T = new_sum / new_sample_count\n",
      "/Users/watanabeyuitou/opt/anaconda3/envs/chem/lib/python3.9/site-packages/sklearn/utils/extmath.py:1020: RuntimeWarning: invalid value encountered in divide\n",
      "  new_unnormalized_variance -= correction ** 2 / new_sample_count\n",
      "/Users/watanabeyuitou/opt/anaconda3/envs/chem/lib/python3.9/site-packages/sklearn/feature_selection/_variance_threshold.py:104: RuntimeWarning: Degrees of freedom <= 0 for slice.\n",
      "  self.variances_ = np.nanvar(X, axis=0)\n",
      "/Users/watanabeyuitou/opt/anaconda3/envs/chem/lib/python3.9/site-packages/sklearn/feature_selection/_variance_threshold.py:112: RuntimeWarning: All-NaN slice encountered\n",
      "  self.variances_ = np.nanmin(compare_arr, axis=0)\n"
     ]
    },
    {
     "name": "stdout",
     "output_type": "stream",
     "text": [
      "(121, 1613)\n",
      "before_shape:  (121, 3240)\n",
      "new_shape:  (121, 1726)\n",
      "mordred_3d\n"
     ]
    },
    {
     "name": "stderr",
     "output_type": "stream",
     "text": [
      "100%|█████████████████████████████████████████████████████████████████████████████████████████████████████████████████████████████████████████████████████████████████████| 121/121 [00:28<00:00,  4.30it/s]\n"
     ]
    },
    {
     "name": "stdout",
     "output_type": "stream",
     "text": [
      "(121, 1826)\n"
     ]
    },
    {
     "name": "stderr",
     "output_type": "stream",
     "text": [
      "/Users/watanabeyuitou/opt/anaconda3/envs/chem/lib/python3.9/site-packages/sklearn/utils/extmath.py:985: RuntimeWarning: invalid value encountered in divide\n",
      "  updated_mean = (last_sum + new_sum) / updated_sample_count\n",
      "/Users/watanabeyuitou/opt/anaconda3/envs/chem/lib/python3.9/site-packages/sklearn/utils/extmath.py:990: RuntimeWarning: invalid value encountered in divide\n",
      "  T = new_sum / new_sample_count\n",
      "/Users/watanabeyuitou/opt/anaconda3/envs/chem/lib/python3.9/site-packages/sklearn/utils/extmath.py:1020: RuntimeWarning: invalid value encountered in divide\n",
      "  new_unnormalized_variance -= correction ** 2 / new_sample_count\n",
      "100%|█████████████████████████████████████████████████████████████████████████████████████████████████████████████████████████████████████████████████████████████████████| 121/121 [00:54<00:00,  2.24it/s]\n",
      "/Users/watanabeyuitou/opt/anaconda3/envs/chem/lib/python3.9/site-packages/sklearn/utils/extmath.py:985: RuntimeWarning: invalid value encountered in divide\n",
      "  updated_mean = (last_sum + new_sum) / updated_sample_count\n",
      "/Users/watanabeyuitou/opt/anaconda3/envs/chem/lib/python3.9/site-packages/sklearn/utils/extmath.py:990: RuntimeWarning: invalid value encountered in divide\n",
      "  T = new_sum / new_sample_count\n",
      "/Users/watanabeyuitou/opt/anaconda3/envs/chem/lib/python3.9/site-packages/sklearn/utils/extmath.py:1020: RuntimeWarning: invalid value encountered in divide\n",
      "  new_unnormalized_variance -= correction ** 2 / new_sample_count\n",
      "/Users/watanabeyuitou/opt/anaconda3/envs/chem/lib/python3.9/site-packages/sklearn/feature_selection/_variance_threshold.py:104: RuntimeWarning: Degrees of freedom <= 0 for slice.\n",
      "  self.variances_ = np.nanvar(X, axis=0)\n",
      "/Users/watanabeyuitou/opt/anaconda3/envs/chem/lib/python3.9/site-packages/sklearn/feature_selection/_variance_threshold.py:112: RuntimeWarning: All-NaN slice encountered\n",
      "  self.variances_ = np.nanmin(compare_arr, axis=0)\n"
     ]
    },
    {
     "name": "stdout",
     "output_type": "stream",
     "text": [
      "(121, 1826)\n",
      "before_shape:  (121, 3666)\n",
      "new_shape:  (121, 1726)\n"
     ]
    }
   ],
   "source": [
    "# 1. 全てのデータを使用\n",
    "finger_columns = ['R1-', 'organocatalyst']\n",
    "for finger_method in finger_methods:\n",
    "    print(finger_method)\n",
    "    df_method1 = toFinger(df_scaled, finger_columns,finger_method)\n",
    "    removeNoImpactData(df_method1).to_csv(f'./data/method1/{finger_method}.csv')"
   ]
  },
  {
   "cell_type": "markdown",
   "id": "61080b44-5f7c-44f8-a8e9-d6d5f49f9364",
   "metadata": {},
   "source": [
    "# method2 \n",
    "- R1 [*]C1=CC=CC=C1 \n",
    "- R2_H = 1\n",
    "- solvent toluene"
   ]
  },
  {
   "cell_type": "code",
   "execution_count": 179,
   "id": "f93cdead-d080-468a-82b9-ea8923fe5e1d",
   "metadata": {},
   "outputs": [],
   "source": [
    "df = pd.read_csv('./data/origin.csv', index_col=0)"
   ]
  },
  {
   "cell_type": "code",
   "execution_count": 180,
   "id": "7795f83c-2de1-410b-962b-daf04218e886",
   "metadata": {
    "collapsed": true,
    "jupyter": {
     "outputs_hidden": true
    },
    "tags": []
   },
   "outputs": [
    {
     "name": "stdout",
     "output_type": "stream",
     "text": [
      "1       7\n",
      "3       7\n",
      "2       7\n",
      "4       6\n",
      "6       6\n",
      "5       5\n",
      "7       5\n",
      "13      4\n",
      "12      4\n",
      "9       4\n",
      "8       4\n",
      "10      3\n",
      "11      3\n",
      "2a      3\n",
      "2b      3\n",
      "2c      3\n",
      "2d      3\n",
      "2e      3\n",
      "2f      3\n",
      "2g      3\n",
      "2j      2\n",
      "2k      2\n",
      "2m      2\n",
      "2i      2\n",
      "2h      2\n",
      "3f      1\n",
      "2h-c    1\n",
      "3q      1\n",
      "3o      1\n",
      "3n      1\n",
      "3m      1\n",
      "3l      1\n",
      "3k      1\n",
      "3j      1\n",
      "3i      1\n",
      "3h      1\n",
      "3g      1\n",
      "3e      1\n",
      "2l      1\n",
      "3d      1\n",
      "24      1\n",
      "22      1\n",
      "21      1\n",
      "20      1\n",
      "19      1\n",
      "14      1\n",
      "1p      1\n",
      "1o      1\n",
      "1n      1\n",
      "2p      1\n",
      "Name: entry, dtype: int64\n",
      "[*]C1=CC=CC=C1                  49\n",
      "[*]C1=CC=C(OC)C=C1              15\n",
      "[*]C1=CC=C(C)C=C1                7\n",
      "[*]C1=CC=C(Cl)C=C1               4\n",
      "[*]C1=CC(OCO2)=C2C=C1            3\n",
      "[*]C1=CC=C(F)C=C1                3\n",
      "[*]C1=CC=CO1                     3\n",
      "[*]C1=CC(Cl)=CC=C1               2\n",
      "[*]C1=CC=C([N+]([O-])=O)C=C1     2\n",
      "[*]C1=CC=CC(Cl)=C1               2\n",
      "[*]C1=C(C)C=CC=C1                2\n",
      "[*]C1=CC=CS1                     2\n",
      "[*]C1=C(C=CC=C2)C2=CC=C1         2\n",
      "[*]C1=CC=C(C(F)(F)F)C=C1         2\n",
      "[*]C1=CC=C(C(C)(C)C)C=C1         2\n",
      "[*]C1=CC(OC)=CC=C1               2\n",
      "[*]C1=C(OC)C=CC=C1               2\n",
      "[*]C1=CC=C(Br)C=C1               2\n",
      "[*]C1=CC=CC(Br)=C1               1\n",
      "[*]C1=CC=CC(OC)=C1               1\n",
      "[*]C1=CC(Br)=CC=C1               1\n",
      "[*]C1=CC(C)=C(C)C=C1             1\n",
      "[*]C1=CC=C(C(OC)=O)C=C1          1\n",
      "[*]C1=CC=C(Cl)C(Cl)=C1           1\n",
      "[*]C1=CC=C(N)C=C1                1\n",
      "[*]C1=CC=CC=C1OC                 1\n",
      "[*]C1=CC=CC=C1C                  1\n",
      "[*]C1=CC=CC(I)=C1                1\n",
      "[*]C1=CC=C(O)C=C1                1\n",
      "[*]C1=CC=C(C(O)C)C=C1            1\n",
      "[*]C1=CC=C(CO)C=C1               1\n",
      "[*]C1=NC=CC=C1                   1\n",
      "[*]C1=CSC=C1                     1\n",
      "Name: R1-, dtype: int64\n",
      "O=C1C=C(C2=CC=CC=C2)C3=CC=CC=C3C1=O                 26\n",
      "OC1=CC(OC)=CC(OC)=C1C(O)=O                          16\n",
      "O=C1C(C(C)(C)C)=CC(C(O)=C1)=O                       15\n",
      "O=C1C(C=C(OC)C(C(C)(C)C)=C1)=O                      14\n",
      "OC1=CC(O)=CC(O)=C1C(O)=O                             7\n",
      "OC1=CC(OC)=CC=C1C(O)=O                               3\n",
      "COC1=CC(OC)=C(C(O)=O)C(O)=C1                         3\n",
      "OC1=CC(C)=CC=C1C(O)=O                                2\n",
      "O=C1C(C2=CC=CC=C2)=C(C3=CC=CC=C3)C4=CC=CC=C4C1=O     2\n",
      "O=C1C=C(C2=CC=C(OC)C=C2)C3=CC=CC=C3C1=O              2\n",
      "O=C1C=C(C2=CC=C(F)C=C2)C3=CC=CC=C3C1=O               2\n",
      "O=C1C=C(OC)C2=CC=CC=C2C1=O                           2\n",
      "O=C1C=C(CCCCC)C2=CC=CC=C2C1=O                        2\n",
      "ClC1=CC=C(C(O)=O)C(O)=C1                             2\n",
      "OC1=C(CC(O)=O)C=CC=C1                                1\n",
      "O=C(C1=CC=CC=C1)O                                    1\n",
      "O=C1C=CC(C=C1C(C)(C)C)=O                             1\n",
      "O=C1C(CCC)=C(CCC)C2=CC=CC=C2C1=O                     1\n",
      "O=C1C(C)=C(C2=CC=CC=C2)C3=CC=CC=C3C1=O               1\n",
      "O=C1C=C(C2=CC=CC=C2)C3=CC=C(OC)C=C3C1=O              1\n",
      "O=C1C=CC2=CC=CC=C2C1=O                               1\n",
      "CC(/N=N/C(C)(C#N)C)(C#N)C                            1\n",
      "O=C1C(CCCCC)=C(CCCCC)C2=CC=CC=C2C1=O                 1\n",
      "O=C1C(C=C(O)C(C(C)(C)C)=C1)=O                        1\n",
      "OC1=CC=CC=C1                                         1\n",
      "OC1=C(C(O)=O)C=CC=C1                                 1\n",
      "CC(O)=O                                              1\n",
      "O=C(C1=C(OC)C=CC=C1)O                                1\n",
      "OC1=C2C(C=CC=C(O)C2=O)=CC(O)=C1O                     1\n",
      "OC1=CC=CC(O)=C1N                                     1\n",
      "OC1=CC=CC(O)=C1O                                     1\n",
      "OC1=CC=C(C(O)=O)C=C1                                 1\n",
      "OC1=CC=CC=C1C(O)=O                                   1\n",
      "OC1=C(C(OC)=O)C=CC=C1                                1\n",
      "OC1=CC(O)=CC=C1C(O)=O                                1\n",
      "CC1=CC=C(S(=O)(O)=O)C=C1                             1\n",
      "OC1=CC=CC(O)=C1C(O)=O                                1\n",
      "Name: organocatalyst, dtype: int64\n",
      "5.0     50\n",
      "10.0    47\n",
      "1.5     13\n",
      "15.0     7\n",
      "4.0      2\n",
      "2.0      1\n",
      "20.0     1\n",
      "Name: organocatalyst(mol%), dtype: int64\n",
      "23    64\n",
      "90    48\n",
      "80     7\n",
      "60     2\n",
      "Name: temp(℃), dtype: int64\n",
      "48.0    39\n",
      "24.0    28\n",
      "6.0     20\n",
      "2.0     12\n",
      "20.0    11\n",
      "12.0     5\n",
      "72.0     4\n",
      "8.0      1\n",
      "36.0     1\n",
      "Name: time(h), dtype: int64\n",
      "0.0     6\n",
      "80.0    5\n",
      "86.0    5\n",
      "81.0    4\n",
      "99.0    4\n",
      "90.0    4\n",
      "88.0    4\n",
      "95.0    4\n",
      "84.0    4\n",
      "87.0    4\n",
      "83.0    3\n",
      "21.0    3\n",
      "69.0    3\n",
      "91.0    3\n",
      "3.0     3\n",
      "32.0    3\n",
      "85.0    3\n",
      "37.0    2\n",
      "33.0    2\n",
      "75.0    2\n",
      "65.0    2\n",
      "76.0    2\n",
      "9.0     2\n",
      "40.0    2\n",
      "89.0    2\n",
      "14.0    2\n",
      "93.0    2\n",
      "6.0     2\n",
      "7.0     2\n",
      "68.0    2\n",
      "11.0    2\n",
      "39.0    2\n",
      "17.0    1\n",
      "44.0    1\n",
      "97.0    1\n",
      "8.0     1\n",
      "67.0    1\n",
      "94.0    1\n",
      "2.0     1\n",
      "79.0    1\n",
      "82.0    1\n",
      "46.0    1\n",
      "36.0    1\n",
      "4.0     1\n",
      "29.0    1\n",
      "63.0    1\n",
      "47.0    1\n",
      "64.0    1\n",
      "5.0     1\n",
      "73.0    1\n",
      "70.0    1\n",
      "72.0    1\n",
      "78.0    1\n",
      "50.0    1\n",
      "43.0    1\n",
      "15.0    1\n",
      "74.0    1\n",
      "98.0    1\n",
      "Name: yield, dtype: int64\n",
      "0    77\n",
      "1    44\n",
      "Name: R2_C, dtype: int64\n",
      "1    77\n",
      "0    44\n",
      "Name: R2_H, dtype: int64\n",
      "1    86\n",
      "0    35\n",
      "Name: under_O2, dtype: int64\n",
      "0    86\n",
      "1    35\n",
      "Name: under_air, dtype: int64\n",
      "0    65\n",
      "1    56\n",
      "Name: solvent_CH3CN, dtype: int64\n",
      "0    120\n",
      "1      1\n",
      "Name: solvent_DMF, dtype: int64\n",
      "0    108\n",
      "1     13\n",
      "Name: solvent_MeCN, dtype: int64\n",
      "0    118\n",
      "1      3\n",
      "Name: solvent_MeOH, dtype: int64\n",
      "0    73\n",
      "1    48\n",
      "Name: solvent_toluene, dtype: int64\n"
     ]
    }
   ],
   "source": [
    "for column in df.columns:\n",
    "    print(df[column].value_counts())\n"
   ]
  },
  {
   "cell_type": "code",
   "execution_count": 181,
   "id": "c9ffba86-ff1d-4f70-aee7-44d8a91ba2f1",
   "metadata": {
    "tags": []
   },
   "outputs": [
    {
     "data": {
      "text/plain": [
       "(27, 16)"
      ]
     },
     "execution_count": 181,
     "metadata": {},
     "output_type": "execute_result"
    }
   ],
   "source": [
    "df_ = df[df['R1-'] == '[*]C1=CC=CC=C1']\n",
    "df_ = df_[df_['R2_H'] == 1]\n",
    "df_ = df_[df_['solvent_toluene'] == 1]\n",
    "df_.shape"
   ]
  },
  {
   "cell_type": "code",
   "execution_count": 182,
   "id": "5edbf4d3-1dd6-4f14-9550-36ebb45c02a7",
   "metadata": {},
   "outputs": [],
   "source": [
    "df_dropped = df_.drop(columns=['R1-', 'R2_C', 'R2_H', 'solvent_CH3CN', 'solvent_DMF', 'solvent_MeCN', 'solvent_MeOH', 'solvent_toluene', 'under_O2', 'under_air','organocatalyst(mol%)', 'temp(℃)'])\n",
    "\n",
    "\n"
   ]
  },
  {
   "cell_type": "code",
   "execution_count": 183,
   "id": "499632eb-4e0e-4ae8-ac71-c85e4515c208",
   "metadata": {},
   "outputs": [
    {
     "name": "stdout",
     "output_type": "stream",
     "text": [
      "(27, 4)\n"
     ]
    }
   ],
   "source": [
    "scaling_columns = ['time(h)']\n",
    "df_dropped_scaled = scaling(df_dropped, scaling_columns).reset_index(drop=True)"
   ]
  },
  {
   "cell_type": "code",
   "execution_count": 184,
   "id": "7fd75820-5a57-4f48-9959-5afbee6d128b",
   "metadata": {},
   "outputs": [
    {
     "name": "stdout",
     "output_type": "stream",
     "text": [
      "morgan\n",
      "before_shape:  (27, 1027)\n",
      "new_shape:  (27, 113)\n",
      "morgan_feature\n",
      "before_shape:  (27, 1027)\n",
      "new_shape:  (27, 84)\n",
      "maccs\n",
      "before_shape:  (27, 170)\n",
      "new_shape:  (27, 73)\n",
      "rdkit\n",
      "before_shape:  (27, 2051)\n",
      "new_shape:  (27, 1082)\n",
      "minhash\n",
      "(27, 2048)\n",
      "before_shape:  (27, 2051)\n",
      "new_shape:  (27, 2050)\n",
      "avalon\n",
      "before_shape:  (27, 515)\n",
      "new_shape:  (27, 266)\n",
      "mordred_2d\n"
     ]
    },
    {
     "name": "stderr",
     "output_type": "stream",
     "text": [
      "100%|███████████████████████████████████████████████████████████████████████████████████████████████████████████████████████████████████████████████████████████████████████| 27/27 [00:11<00:00,  2.38it/s]\n",
      "/Users/watanabeyuitou/opt/anaconda3/envs/chem/lib/python3.9/site-packages/sklearn/utils/extmath.py:985: RuntimeWarning: invalid value encountered in divide\n",
      "  updated_mean = (last_sum + new_sum) / updated_sample_count\n",
      "/Users/watanabeyuitou/opt/anaconda3/envs/chem/lib/python3.9/site-packages/sklearn/utils/extmath.py:990: RuntimeWarning: invalid value encountered in divide\n",
      "  T = new_sum / new_sample_count\n",
      "/Users/watanabeyuitou/opt/anaconda3/envs/chem/lib/python3.9/site-packages/sklearn/utils/extmath.py:1020: RuntimeWarning: invalid value encountered in divide\n",
      "  new_unnormalized_variance -= correction ** 2 / new_sample_count\n",
      "/Users/watanabeyuitou/opt/anaconda3/envs/chem/lib/python3.9/site-packages/sklearn/feature_selection/_variance_threshold.py:104: RuntimeWarning: Degrees of freedom <= 0 for slice.\n",
      "  self.variances_ = np.nanvar(X, axis=0)\n",
      "/Users/watanabeyuitou/opt/anaconda3/envs/chem/lib/python3.9/site-packages/sklearn/feature_selection/_variance_threshold.py:112: RuntimeWarning: All-NaN slice encountered\n",
      "  self.variances_ = np.nanmin(compare_arr, axis=0)\n"
     ]
    },
    {
     "name": "stdout",
     "output_type": "stream",
     "text": [
      "(27, 1613)\n",
      "before_shape:  (27, 1616)\n",
      "new_shape:  (27, 1148)\n",
      "mordred_3d\n"
     ]
    },
    {
     "name": "stderr",
     "output_type": "stream",
     "text": [
      "100%|███████████████████████████████████████████████████████████████████████████████████████████████████████████████████████████████████████████████████████████████████████| 27/27 [00:08<00:00,  3.30it/s]\n"
     ]
    },
    {
     "name": "stdout",
     "output_type": "stream",
     "text": [
      "(27, 1826)\n",
      "before_shape:  (27, 1829)\n",
      "new_shape:  (27, 1148)\n"
     ]
    },
    {
     "name": "stderr",
     "output_type": "stream",
     "text": [
      "/Users/watanabeyuitou/opt/anaconda3/envs/chem/lib/python3.9/site-packages/sklearn/utils/extmath.py:985: RuntimeWarning: invalid value encountered in divide\n",
      "  updated_mean = (last_sum + new_sum) / updated_sample_count\n",
      "/Users/watanabeyuitou/opt/anaconda3/envs/chem/lib/python3.9/site-packages/sklearn/utils/extmath.py:990: RuntimeWarning: invalid value encountered in divide\n",
      "  T = new_sum / new_sample_count\n",
      "/Users/watanabeyuitou/opt/anaconda3/envs/chem/lib/python3.9/site-packages/sklearn/utils/extmath.py:1020: RuntimeWarning: invalid value encountered in divide\n",
      "  new_unnormalized_variance -= correction ** 2 / new_sample_count\n",
      "/Users/watanabeyuitou/opt/anaconda3/envs/chem/lib/python3.9/site-packages/sklearn/feature_selection/_variance_threshold.py:104: RuntimeWarning: Degrees of freedom <= 0 for slice.\n",
      "  self.variances_ = np.nanvar(X, axis=0)\n",
      "/Users/watanabeyuitou/opt/anaconda3/envs/chem/lib/python3.9/site-packages/sklearn/feature_selection/_variance_threshold.py:112: RuntimeWarning: All-NaN slice encountered\n",
      "  self.variances_ = np.nanmin(compare_arr, axis=0)\n"
     ]
    }
   ],
   "source": [
    "# 2. 限りなく除去\n",
    "finger_columns = ['organocatalyst']\n",
    "for finger_method in finger_methods:\n",
    "    print(finger_method)\n",
    "    df_method2 = toFinger(df_dropped_scaled, finger_columns,finger_method)\n",
    "    removeNoImpactData(df_method2).to_csv(f'./data/method2/{finger_method}.csv')"
   ]
  },
  {
   "cell_type": "markdown",
   "id": "878cfb51-cd52-4fe0-8b5b-e4be96f3143b",
   "metadata": {},
   "source": [
    "# method3\n",
    "- solvent MeCN, CHCN"
   ]
  },
  {
   "cell_type": "code",
   "execution_count": null,
   "id": "4085c4e2-dee4-4241-a850-e2c3a5e71e22",
   "metadata": {},
   "outputs": [],
   "source": []
  }
 ],
 "metadata": {
  "kernelspec": {
   "display_name": "Python 3 (ipykernel)",
   "language": "python",
   "name": "python3"
  },
  "language_info": {
   "codemirror_mode": {
    "name": "ipython",
    "version": 3
   },
   "file_extension": ".py",
   "mimetype": "text/x-python",
   "name": "python",
   "nbconvert_exporter": "python",
   "pygments_lexer": "ipython3",
   "version": "3.9.13"
  }
 },
 "nbformat": 4,
 "nbformat_minor": 5
}
