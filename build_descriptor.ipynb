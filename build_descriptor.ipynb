{
 "cells": [
  {
   "cell_type": "code",
   "execution_count": 31,
   "id": "c643381e-3a80-417d-9e84-e6d6ab530f86",
   "metadata": {
    "tags": []
   },
   "outputs": [],
   "source": [
    "import pandas as pd"
   ]
  },
  {
   "cell_type": "code",
   "execution_count": 32,
   "id": "f8aa5f78-364f-4e43-a8be-aeb1aeb6cefd",
   "metadata": {},
   "outputs": [
    {
     "data": {
      "text/html": [
       "<div>\n",
       "<style scoped>\n",
       "    .dataframe tbody tr th:only-of-type {\n",
       "        vertical-align: middle;\n",
       "    }\n",
       "\n",
       "    .dataframe tbody tr th {\n",
       "        vertical-align: top;\n",
       "    }\n",
       "\n",
       "    .dataframe thead th {\n",
       "        text-align: right;\n",
       "    }\n",
       "</style>\n",
       "<table border=\"1\" class=\"dataframe\">\n",
       "  <thead>\n",
       "    <tr style=\"text-align: right;\">\n",
       "      <th></th>\n",
       "      <th>entry</th>\n",
       "      <th>R1-</th>\n",
       "      <th>R2</th>\n",
       "      <th>organocatalyst</th>\n",
       "      <th>organocatalyst(mol%)</th>\n",
       "      <th>solvent</th>\n",
       "      <th>under</th>\n",
       "      <th>temp(℃)</th>\n",
       "      <th>time(h)</th>\n",
       "      <th>Cu(OAc)2(mol%)</th>\n",
       "      <th>AcOH(mol%)</th>\n",
       "      <th>収率(%)</th>\n",
       "    </tr>\n",
       "  </thead>\n",
       "  <tbody>\n",
       "    <tr>\n",
       "      <th>0</th>\n",
       "      <td>1</td>\n",
       "      <td>[*]C1=CC=CC=C1</td>\n",
       "      <td>H</td>\n",
       "      <td>ClC1=CC=C(C(O)=O)C(O)=C1</td>\n",
       "      <td>5.0</td>\n",
       "      <td>toluene</td>\n",
       "      <td>O2</td>\n",
       "      <td>90</td>\n",
       "      <td>24.0</td>\n",
       "      <td>0.0</td>\n",
       "      <td>0.0</td>\n",
       "      <td>81.0</td>\n",
       "    </tr>\n",
       "    <tr>\n",
       "      <th>1</th>\n",
       "      <td>2</td>\n",
       "      <td>[*]C1=CC=CC=C1</td>\n",
       "      <td>H</td>\n",
       "      <td>ClC1=CC=C(C(O)=O)C(O)=C1</td>\n",
       "      <td>5.0</td>\n",
       "      <td>toluene</td>\n",
       "      <td>O2</td>\n",
       "      <td>90</td>\n",
       "      <td>12.0</td>\n",
       "      <td>0.0</td>\n",
       "      <td>0.0</td>\n",
       "      <td>14.0</td>\n",
       "    </tr>\n",
       "    <tr>\n",
       "      <th>2</th>\n",
       "      <td>3</td>\n",
       "      <td>[*]C1=CC=CC=C1</td>\n",
       "      <td>H</td>\n",
       "      <td>OC1=CC(C)=CC=C1C(O)=O</td>\n",
       "      <td>5.0</td>\n",
       "      <td>toluene</td>\n",
       "      <td>O2</td>\n",
       "      <td>90</td>\n",
       "      <td>24.0</td>\n",
       "      <td>0.0</td>\n",
       "      <td>0.0</td>\n",
       "      <td>74.0</td>\n",
       "    </tr>\n",
       "    <tr>\n",
       "      <th>3</th>\n",
       "      <td>4</td>\n",
       "      <td>[*]C1=CC=CC=C1</td>\n",
       "      <td>H</td>\n",
       "      <td>OC1=CC(C)=CC=C1C(O)=O</td>\n",
       "      <td>5.0</td>\n",
       "      <td>toluene</td>\n",
       "      <td>O2</td>\n",
       "      <td>90</td>\n",
       "      <td>12.0</td>\n",
       "      <td>0.0</td>\n",
       "      <td>0.0</td>\n",
       "      <td>15.0</td>\n",
       "    </tr>\n",
       "    <tr>\n",
       "      <th>4</th>\n",
       "      <td>5</td>\n",
       "      <td>[*]C1=CC=CC=C1</td>\n",
       "      <td>H</td>\n",
       "      <td>OC1=CC(OC)=CC=C1C(O)=O</td>\n",
       "      <td>5.0</td>\n",
       "      <td>toluene</td>\n",
       "      <td>O2</td>\n",
       "      <td>90</td>\n",
       "      <td>24.0</td>\n",
       "      <td>0.0</td>\n",
       "      <td>0.0</td>\n",
       "      <td>90.0</td>\n",
       "    </tr>\n",
       "    <tr>\n",
       "      <th>...</th>\n",
       "      <td>...</td>\n",
       "      <td>...</td>\n",
       "      <td>...</td>\n",
       "      <td>...</td>\n",
       "      <td>...</td>\n",
       "      <td>...</td>\n",
       "      <td>...</td>\n",
       "      <td>...</td>\n",
       "      <td>...</td>\n",
       "      <td>...</td>\n",
       "      <td>...</td>\n",
       "      <td>...</td>\n",
       "    </tr>\n",
       "    <tr>\n",
       "      <th>201</th>\n",
       "      <td>2l-c</td>\n",
       "      <td>[*]C1=CC=CC=C1</td>\n",
       "      <td>Ph</td>\n",
       "      <td>O=C1C(C=C(OC)C(C(C)(C)C)=C1)=O</td>\n",
       "      <td>10.0</td>\n",
       "      <td>CH3CN</td>\n",
       "      <td>O2</td>\n",
       "      <td>60</td>\n",
       "      <td>72.0</td>\n",
       "      <td>0.0</td>\n",
       "      <td>0.0</td>\n",
       "      <td>92.0</td>\n",
       "    </tr>\n",
       "    <tr>\n",
       "      <th>202</th>\n",
       "      <td>2m</td>\n",
       "      <td>[*]C1=CSC=C1</td>\n",
       "      <td>C</td>\n",
       "      <td>O=C1C(C=C(OC)C(C(C)(C)C)=C1)=O</td>\n",
       "      <td>10.0</td>\n",
       "      <td>CH3CN</td>\n",
       "      <td>O2</td>\n",
       "      <td>60</td>\n",
       "      <td>48.0</td>\n",
       "      <td>0.0</td>\n",
       "      <td>0.0</td>\n",
       "      <td>83.0</td>\n",
       "    </tr>\n",
       "    <tr>\n",
       "      <th>203</th>\n",
       "      <td>2n</td>\n",
       "      <td>NaN</td>\n",
       "      <td>NaN</td>\n",
       "      <td>O=C1C(C=C(OC)C(C(C)(C)C)=C1)=O</td>\n",
       "      <td>10.0</td>\n",
       "      <td>CH3CN</td>\n",
       "      <td>O2</td>\n",
       "      <td>60</td>\n",
       "      <td>48.0</td>\n",
       "      <td>0.0</td>\n",
       "      <td>0.0</td>\n",
       "      <td>53.0</td>\n",
       "    </tr>\n",
       "    <tr>\n",
       "      <th>204</th>\n",
       "      <td>2o</td>\n",
       "      <td>NaN</td>\n",
       "      <td>NaN</td>\n",
       "      <td>O=C1C(C=C(OC)C(C(C)(C)C)=C1)=O</td>\n",
       "      <td>10.0</td>\n",
       "      <td>CH3CN</td>\n",
       "      <td>O2</td>\n",
       "      <td>60</td>\n",
       "      <td>48.0</td>\n",
       "      <td>0.0</td>\n",
       "      <td>0.0</td>\n",
       "      <td>25.0</td>\n",
       "    </tr>\n",
       "    <tr>\n",
       "      <th>205</th>\n",
       "      <td>2p</td>\n",
       "      <td>[*]C1=CC=CC=C1</td>\n",
       "      <td>H</td>\n",
       "      <td>O=C1C(C=C(OC)C(C(C)(C)C)=C1)=O</td>\n",
       "      <td>10.0</td>\n",
       "      <td>CH3CN</td>\n",
       "      <td>O2</td>\n",
       "      <td>rt</td>\n",
       "      <td>12.0</td>\n",
       "      <td>0.0</td>\n",
       "      <td>0.0</td>\n",
       "      <td>99.0</td>\n",
       "    </tr>\n",
       "  </tbody>\n",
       "</table>\n",
       "<p>206 rows × 12 columns</p>\n",
       "</div>"
      ],
      "text/plain": [
       "    entry             R1-   R2                  organocatalyst  \\\n",
       "0       1  [*]C1=CC=CC=C1    H        ClC1=CC=C(C(O)=O)C(O)=C1   \n",
       "1       2  [*]C1=CC=CC=C1    H        ClC1=CC=C(C(O)=O)C(O)=C1   \n",
       "2       3  [*]C1=CC=CC=C1    H           OC1=CC(C)=CC=C1C(O)=O   \n",
       "3       4  [*]C1=CC=CC=C1    H           OC1=CC(C)=CC=C1C(O)=O   \n",
       "4       5  [*]C1=CC=CC=C1    H          OC1=CC(OC)=CC=C1C(O)=O   \n",
       "..    ...             ...  ...                             ...   \n",
       "201  2l-c  [*]C1=CC=CC=C1   Ph  O=C1C(C=C(OC)C(C(C)(C)C)=C1)=O   \n",
       "202    2m    [*]C1=CSC=C1    C  O=C1C(C=C(OC)C(C(C)(C)C)=C1)=O   \n",
       "203    2n             NaN  NaN  O=C1C(C=C(OC)C(C(C)(C)C)=C1)=O   \n",
       "204    2o             NaN  NaN  O=C1C(C=C(OC)C(C(C)(C)C)=C1)=O   \n",
       "205    2p  [*]C1=CC=CC=C1    H  O=C1C(C=C(OC)C(C(C)(C)C)=C1)=O   \n",
       "\n",
       "     organocatalyst(mol%)  solvent under temp(℃)  time(h)  Cu(OAc)2(mol%)  \\\n",
       "0                     5.0  toluene    O2      90     24.0             0.0   \n",
       "1                     5.0  toluene    O2      90     12.0             0.0   \n",
       "2                     5.0  toluene    O2      90     24.0             0.0   \n",
       "3                     5.0  toluene    O2      90     12.0             0.0   \n",
       "4                     5.0  toluene    O2      90     24.0             0.0   \n",
       "..                    ...      ...   ...     ...      ...             ...   \n",
       "201                  10.0    CH3CN    O2      60     72.0             0.0   \n",
       "202                  10.0    CH3CN    O2      60     48.0             0.0   \n",
       "203                  10.0    CH3CN    O2      60     48.0             0.0   \n",
       "204                  10.0    CH3CN    O2      60     48.0             0.0   \n",
       "205                  10.0    CH3CN    O2      rt     12.0             0.0   \n",
       "\n",
       "     AcOH(mol%)  収率(%)  \n",
       "0           0.0   81.0  \n",
       "1           0.0   14.0  \n",
       "2           0.0   74.0  \n",
       "3           0.0   15.0  \n",
       "4           0.0   90.0  \n",
       "..          ...    ...  \n",
       "201         0.0   92.0  \n",
       "202         0.0   83.0  \n",
       "203         0.0   53.0  \n",
       "204         0.0   25.0  \n",
       "205         0.0   99.0  \n",
       "\n",
       "[206 rows x 12 columns]"
      ]
     },
     "execution_count": 32,
     "metadata": {},
     "output_type": "execute_result"
    }
   ],
   "source": [
    "df = pd.read_csv('./data/dataset.csv')\n",
    "df"
   ]
  },
  {
   "cell_type": "markdown",
   "id": "784ab944-0b0a-4a32-9fd0-ef4f43cc5f74",
   "metadata": {
    "tags": []
   },
   "source": [
    "# 前処理\n",
    "1. 欠損値削除(R1-,R2,organocatalyst,yield)\n",
    "2. under = Ar削除(1個)\n",
    "3. R2 = Ph削除(3個)\n",
    "4. 触媒促進剤使ってるデータも削除\n",
    "5. rtを23度に置換\n",
    "6. カテゴリ値をダミー変数に変換"
   ]
  },
  {
   "cell_type": "code",
   "execution_count": 5,
   "id": "4d9b5b0f-2405-426f-b600-6d5fad348aa5",
   "metadata": {
    "tags": []
   },
   "outputs": [],
   "source": [
    "# 基質、触媒、収率で欠損がある場合は削除\n",
    "df.dropna(subset=['R1-', 'R2', 'organocatalyst', '収率(%)'], inplace=True)"
   ]
  },
  {
   "cell_type": "code",
   "execution_count": 6,
   "id": "27c9922b-4b7c-4b7b-b6de-d0f4eeb8d1e7",
   "metadata": {},
   "outputs": [
    {
     "name": "stdout",
     "output_type": "stream",
     "text": [
      "欠損値合計 entry                   0\n",
      "R1-                     0\n",
      "R2                      0\n",
      "organocatalyst          0\n",
      "organocatalyst(mol%)    0\n",
      "solvent                 0\n",
      "under                   0\n",
      "temp(℃)                 0\n",
      "time(h)                 0\n",
      "Cu(OAc)2(mol%)          0\n",
      "AcOH(mol%)              0\n",
      "収率(%)                   0\n",
      "dtype: int64\n"
     ]
    },
    {
     "data": {
      "text/html": [
       "<div>\n",
       "<style scoped>\n",
       "    .dataframe tbody tr th:only-of-type {\n",
       "        vertical-align: middle;\n",
       "    }\n",
       "\n",
       "    .dataframe tbody tr th {\n",
       "        vertical-align: top;\n",
       "    }\n",
       "\n",
       "    .dataframe thead th {\n",
       "        text-align: right;\n",
       "    }\n",
       "</style>\n",
       "<table border=\"1\" class=\"dataframe\">\n",
       "  <thead>\n",
       "    <tr style=\"text-align: right;\">\n",
       "      <th></th>\n",
       "      <th>entry</th>\n",
       "      <th>R1-</th>\n",
       "      <th>R2</th>\n",
       "      <th>organocatalyst</th>\n",
       "      <th>organocatalyst(mol%)</th>\n",
       "      <th>solvent</th>\n",
       "      <th>under</th>\n",
       "      <th>temp(℃)</th>\n",
       "      <th>time(h)</th>\n",
       "      <th>Cu(OAc)2(mol%)</th>\n",
       "      <th>AcOH(mol%)</th>\n",
       "      <th>収率(%)</th>\n",
       "    </tr>\n",
       "  </thead>\n",
       "  <tbody>\n",
       "  </tbody>\n",
       "</table>\n",
       "</div>"
      ],
      "text/plain": [
       "Empty DataFrame\n",
       "Columns: [entry, R1-, R2, organocatalyst, organocatalyst(mol%), solvent, under, temp(℃), time(h), Cu(OAc)2(mol%), AcOH(mol%), 収率(%)]\n",
       "Index: []"
      ]
     },
     "execution_count": 6,
     "metadata": {},
     "output_type": "execute_result"
    }
   ],
   "source": [
    "print('欠損値合計', df.isnull().sum())\n",
    "na_row = df.isnull().any(axis=1)\n",
    "df.loc[na_row, :]"
   ]
  },
  {
   "cell_type": "code",
   "execution_count": 7,
   "id": "aef3019a-9a3b-4192-b677-779d72b7b62c",
   "metadata": {},
   "outputs": [
    {
     "data": {
      "text/plain": [
       "O2     110\n",
       "air     44\n",
       "Name: under, dtype: int64"
      ]
     },
     "execution_count": 7,
     "metadata": {},
     "output_type": "execute_result"
    }
   ],
   "source": [
    "# Arを削除(1 data)\n",
    "df = df[df['under'] != 'Ar']\n",
    "df['under'].value_counts()"
   ]
  },
  {
   "cell_type": "code",
   "execution_count": 8,
   "id": "842ed079-60f8-43b9-a7c0-ffc845271eae",
   "metadata": {},
   "outputs": [
    {
     "data": {
      "text/plain": [
       "H    99\n",
       "C    52\n",
       "Name: R2, dtype: int64"
      ]
     },
     "execution_count": 8,
     "metadata": {},
     "output_type": "execute_result"
    }
   ],
   "source": [
    "# R2 = Ph削除(3 data)\n",
    "df = df[df['R2'] != 'Ph']\n",
    "df['R2'].value_counts()"
   ]
  },
  {
   "cell_type": "code",
   "execution_count": 9,
   "id": "4ac4f407-d143-43d1-8bbb-adbbe2210550",
   "metadata": {},
   "outputs": [
    {
     "name": "stdout",
     "output_type": "stream",
     "text": [
      "Index(['entry', 'R1-', 'R2', 'organocatalyst', 'organocatalyst(mol%)',\n",
      "       'solvent', 'under', 'temp(℃)', 'time(h)', 'Cu(OAc)2(mol%)',\n",
      "       'AcOH(mol%)', '収率(%)'],\n",
      "      dtype='object')\n",
      "(123, 12)\n"
     ]
    }
   ],
   "source": [
    "# 触媒促進剤データ削除\n",
    "df = df[df['Cu(OAc)2(mol%)'] == 0]\n",
    "df = df[df['AcOH(mol%)'] == 0]\n",
    "print(df.columns)\n",
    "print(df.shape)"
   ]
  },
  {
   "cell_type": "code",
   "execution_count": 10,
   "id": "c43ed77e-cb38-4e05-8c32-e1ed647c98a6",
   "metadata": {},
   "outputs": [
    {
     "data": {
      "text/plain": [
       "Index(['entry', 'R1-', 'R2', 'organocatalyst', 'organocatalyst(mol%)',\n",
       "       'solvent', 'under', 'temp(℃)', 'time(h)', '収率(%)'],\n",
       "      dtype='object')"
      ]
     },
     "execution_count": 10,
     "metadata": {},
     "output_type": "execute_result"
    }
   ],
   "source": [
    "# 触媒カラム削除\n",
    "df.drop(columns=['Cu(OAc)2(mol%)','AcOH(mol%)'],inplace=True)\n",
    "\n",
    "df.columns"
   ]
  },
  {
   "cell_type": "code",
   "execution_count": 11,
   "id": "4eb62ead-77d3-40d8-983c-87c3d24d8ca8",
   "metadata": {},
   "outputs": [
    {
     "name": "stdout",
     "output_type": "stream",
     "text": [
      "23    65\n",
      "90    49\n",
      "80     7\n",
      "60     2\n",
      "Name: temp(℃), dtype: int64\n"
     ]
    },
    {
     "name": "stderr",
     "output_type": "stream",
     "text": [
      "/var/folders/12/6r_lrg9d6kx949nw6gcq9ksh0000gn/T/ipykernel_89022/2448397563.py:2: SettingWithCopyWarning: \n",
      "A value is trying to be set on a copy of a slice from a DataFrame\n",
      "\n",
      "See the caveats in the documentation: https://pandas.pydata.org/pandas-docs/stable/user_guide/indexing.html#returning-a-view-versus-a-copy\n",
      "  df['temp(℃)'][df['temp(℃)'] == 'rt'] = \"23\"\n"
     ]
    }
   ],
   "source": [
    "# rtを23度に置換\n",
    "df['temp(℃)'][df['temp(℃)'] == 'rt'] = \"23\"\n",
    "print(df['temp(℃)'].value_counts())"
   ]
  },
  {
   "cell_type": "code",
   "execution_count": 12,
   "id": "ac29b463-9daa-47bf-aa3c-61e27c550363",
   "metadata": {},
   "outputs": [
    {
     "data": {
      "text/html": [
       "<div>\n",
       "<style scoped>\n",
       "    .dataframe tbody tr th:only-of-type {\n",
       "        vertical-align: middle;\n",
       "    }\n",
       "\n",
       "    .dataframe tbody tr th {\n",
       "        vertical-align: top;\n",
       "    }\n",
       "\n",
       "    .dataframe thead th {\n",
       "        text-align: right;\n",
       "    }\n",
       "</style>\n",
       "<table border=\"1\" class=\"dataframe\">\n",
       "  <thead>\n",
       "    <tr style=\"text-align: right;\">\n",
       "      <th></th>\n",
       "      <th>entry</th>\n",
       "      <th>R1-</th>\n",
       "      <th>organocatalyst</th>\n",
       "      <th>organocatalyst(mol%)</th>\n",
       "      <th>temp(℃)</th>\n",
       "      <th>time(h)</th>\n",
       "      <th>収率(%)</th>\n",
       "      <th>R2_C</th>\n",
       "      <th>R2_H</th>\n",
       "      <th>under_O2</th>\n",
       "      <th>under_air</th>\n",
       "      <th>solvent_CH3CN</th>\n",
       "      <th>solvent_DMF</th>\n",
       "      <th>solvent_MeCN</th>\n",
       "      <th>solvent_MeOH</th>\n",
       "      <th>solvent_toluene</th>\n",
       "    </tr>\n",
       "  </thead>\n",
       "  <tbody>\n",
       "    <tr>\n",
       "      <th>0</th>\n",
       "      <td>1</td>\n",
       "      <td>[*]C1=CC=CC=C1</td>\n",
       "      <td>ClC1=CC=C(C(O)=O)C(O)=C1</td>\n",
       "      <td>5.0</td>\n",
       "      <td>90</td>\n",
       "      <td>24.0</td>\n",
       "      <td>81.0</td>\n",
       "      <td>0</td>\n",
       "      <td>1</td>\n",
       "      <td>1</td>\n",
       "      <td>0</td>\n",
       "      <td>0</td>\n",
       "      <td>0</td>\n",
       "      <td>0</td>\n",
       "      <td>0</td>\n",
       "      <td>1</td>\n",
       "    </tr>\n",
       "    <tr>\n",
       "      <th>1</th>\n",
       "      <td>2</td>\n",
       "      <td>[*]C1=CC=CC=C1</td>\n",
       "      <td>ClC1=CC=C(C(O)=O)C(O)=C1</td>\n",
       "      <td>5.0</td>\n",
       "      <td>90</td>\n",
       "      <td>12.0</td>\n",
       "      <td>14.0</td>\n",
       "      <td>0</td>\n",
       "      <td>1</td>\n",
       "      <td>1</td>\n",
       "      <td>0</td>\n",
       "      <td>0</td>\n",
       "      <td>0</td>\n",
       "      <td>0</td>\n",
       "      <td>0</td>\n",
       "      <td>1</td>\n",
       "    </tr>\n",
       "    <tr>\n",
       "      <th>2</th>\n",
       "      <td>3</td>\n",
       "      <td>[*]C1=CC=CC=C1</td>\n",
       "      <td>OC1=CC(C)=CC=C1C(O)=O</td>\n",
       "      <td>5.0</td>\n",
       "      <td>90</td>\n",
       "      <td>24.0</td>\n",
       "      <td>74.0</td>\n",
       "      <td>0</td>\n",
       "      <td>1</td>\n",
       "      <td>1</td>\n",
       "      <td>0</td>\n",
       "      <td>0</td>\n",
       "      <td>0</td>\n",
       "      <td>0</td>\n",
       "      <td>0</td>\n",
       "      <td>1</td>\n",
       "    </tr>\n",
       "    <tr>\n",
       "      <th>3</th>\n",
       "      <td>4</td>\n",
       "      <td>[*]C1=CC=CC=C1</td>\n",
       "      <td>OC1=CC(C)=CC=C1C(O)=O</td>\n",
       "      <td>5.0</td>\n",
       "      <td>90</td>\n",
       "      <td>12.0</td>\n",
       "      <td>15.0</td>\n",
       "      <td>0</td>\n",
       "      <td>1</td>\n",
       "      <td>1</td>\n",
       "      <td>0</td>\n",
       "      <td>0</td>\n",
       "      <td>0</td>\n",
       "      <td>0</td>\n",
       "      <td>0</td>\n",
       "      <td>1</td>\n",
       "    </tr>\n",
       "    <tr>\n",
       "      <th>4</th>\n",
       "      <td>5</td>\n",
       "      <td>[*]C1=CC=CC=C1</td>\n",
       "      <td>OC1=CC(OC)=CC=C1C(O)=O</td>\n",
       "      <td>5.0</td>\n",
       "      <td>90</td>\n",
       "      <td>24.0</td>\n",
       "      <td>90.0</td>\n",
       "      <td>0</td>\n",
       "      <td>1</td>\n",
       "      <td>1</td>\n",
       "      <td>0</td>\n",
       "      <td>0</td>\n",
       "      <td>0</td>\n",
       "      <td>0</td>\n",
       "      <td>0</td>\n",
       "      <td>1</td>\n",
       "    </tr>\n",
       "  </tbody>\n",
       "</table>\n",
       "</div>"
      ],
      "text/plain": [
       "  entry             R1-            organocatalyst  organocatalyst(mol%)  \\\n",
       "0     1  [*]C1=CC=CC=C1  ClC1=CC=C(C(O)=O)C(O)=C1                   5.0   \n",
       "1     2  [*]C1=CC=CC=C1  ClC1=CC=C(C(O)=O)C(O)=C1                   5.0   \n",
       "2     3  [*]C1=CC=CC=C1     OC1=CC(C)=CC=C1C(O)=O                   5.0   \n",
       "3     4  [*]C1=CC=CC=C1     OC1=CC(C)=CC=C1C(O)=O                   5.0   \n",
       "4     5  [*]C1=CC=CC=C1    OC1=CC(OC)=CC=C1C(O)=O                   5.0   \n",
       "\n",
       "  temp(℃)  time(h)  収率(%)  R2_C  R2_H  under_O2  under_air  solvent_CH3CN  \\\n",
       "0      90     24.0   81.0     0     1         1          0              0   \n",
       "1      90     12.0   14.0     0     1         1          0              0   \n",
       "2      90     24.0   74.0     0     1         1          0              0   \n",
       "3      90     12.0   15.0     0     1         1          0              0   \n",
       "4      90     24.0   90.0     0     1         1          0              0   \n",
       "\n",
       "   solvent_DMF  solvent_MeCN  solvent_MeOH  solvent_toluene  \n",
       "0            0             0             0                1  \n",
       "1            0             0             0                1  \n",
       "2            0             0             0                1  \n",
       "3            0             0             0                1  \n",
       "4            0             0             0                1  "
      ]
     },
     "execution_count": 12,
     "metadata": {},
     "output_type": "execute_result"
    }
   ],
   "source": [
    "# カテゴリ値をダミー変数に変換\n",
    "df = pd.get_dummies(df, columns=['R2','under','solvent'])\n",
    "df.head(5)"
   ]
  },
  {
   "cell_type": "code",
   "execution_count": 13,
   "id": "eead9385-f207-472d-afac-7c0e763febe1",
   "metadata": {},
   "outputs": [],
   "source": [
    "# 重複確認\n",
    "check_columns = df.columns.drop(['entry', '収率(%)'])\n",
    "\n",
    "# 説明変数のみでみた時の重複削除\n",
    "_df = df.drop(columns='entry').drop_duplicates(subset=check_columns).reset_index(drop=True)\n",
    "X = _df.drop(columns=['収率(%)'])\n",
    "y = _df['収率(%)']\n",
    "_df.to_csv('exec_1114_前処理後.csv')"
   ]
  },
  {
   "cell_type": "code",
   "execution_count": 14,
   "id": "fcf0a245-f9bb-4bbe-92ac-e986360dcb08",
   "metadata": {},
   "outputs": [
    {
     "data": {
      "text/plain": [
       "False    123\n",
       "dtype: int64"
      ]
     },
     "execution_count": 14,
     "metadata": {},
     "output_type": "execute_result"
    }
   ],
   "source": [
    "check_columns = df.columns.drop(['entry', '収率(%)'])\n",
    "df.duplicated(subset=check_columns).value_counts()"
   ]
  },
  {
   "cell_type": "code",
   "execution_count": 15,
   "id": "6b397e78-3030-4e75-8527-265424cf34b4",
   "metadata": {},
   "outputs": [],
   "source": [
    "df.to_csv('./data/origin.csv')"
   ]
  },
  {
   "cell_type": "markdown",
   "id": "afc599cd-cd53-4f93-a0a9-7179d225961f",
   "metadata": {
    "jp-MarkdownHeadingCollapsed": true,
    "tags": []
   },
   "source": [
    "# スケーリング"
   ]
  },
  {
   "cell_type": "code",
   "execution_count": 16,
   "id": "34507943-4eab-4bca-8278-a4b005861235",
   "metadata": {},
   "outputs": [
    {
     "name": "stdout",
     "output_type": "stream",
     "text": [
      "(123, 16)\n"
     ]
    }
   ],
   "source": [
    "# 説明変数をスケーリング\n",
    "# 目的変数は必要ない。\n",
    "# https://stats.stackexchange.com/questions/111467/is-it-necessary-to-scale-the-target-value-in-addition-to-scaling-features-for-re\n",
    "from sklearn.preprocessing import StandardScaler\n",
    "scaling_columns = ['organocatalyst(mol%)','temp(℃)','time(h)']\n",
    "scaler = StandardScaler()\n",
    "scaler.fit(df[scaling_columns])\n",
    "df_scaled = pd.concat([df.drop(columns=scaling_columns), \n",
    "                           pd.DataFrame(scaler.transform(df[scaling_columns]),index=df.index , columns=scaling_columns)],\n",
    "                           axis=1, join='inner')\n",
    "\n",
    "print(df_scaled.shape)"
   ]
  },
  {
   "cell_type": "code",
   "execution_count": 17,
   "id": "5e92db8a-984a-4bb4-babc-43713cb77441",
   "metadata": {},
   "outputs": [],
   "source": [
    "df_scaled.to_csv('./data/origin_scaled.csv')"
   ]
  },
  {
   "cell_type": "markdown",
   "id": "15c46478-af67-4f59-a642-cadb756ac1e5",
   "metadata": {},
   "source": [
    "# 記述子\n",
    "https://qiita.com/ottantachinque/items/d7332bcf67b5844f5be3\n",
    "### morganフィンガープリントの作成（Extended Connectivity Fingerprint）\n",
    "子からある距離にある部分構造を数え上げていく，「circular substructures」と呼ばれるタイプのフィンガープリントです．radiusの値で距離を設定します．いわゆるECFP（Extended Connectivity Fingerprint）フィンガープリントに相当するものですが，探索距離の定義が異なる点に注意が必要です．\n",
    "### morgan featureフィンガープリントの作成(Functional Connectivity Fingerprint）\n",
    "FCFP（Functional Connectivity Fingerprint）様のフィンガープリントを用いたい場合にはuseFeatures=Trueを設定します．\n",
    "\n",
    "### MACCS\n",
    "全部で166の部分構造についての有無を調べ上げたもので，RDKit内の情報保持のために1ビット使っているため全部で167ビットのフィンガープリントになります．部分構造を有する場合は1が，ない場合は0が格納されています．\n",
    "\n",
    "### RDkit記述子\n",
    "一定の結合数に相当する原子と結合種類を格納する方法で，事前に部分構造を用意する必要がないことから，より柔軟に分子構造を表現することが可能です．\n",
    "\n",
    "### MinHashフィンガープリント\n",
    "「A probabilistic molecular fingerprint for big data settings」という論文で報告されている，ECFPと同様にCircular型のフィンガープリントになります\n",
    "\n",
    "### Avalonフィンガープリント\n",
    "\n",
    "### アトムペアフィンガープリントとトポロジカル二面角フィンガープリント\n",
    "原子のアトムタイプとその最小結合距離を記録していきます．\n",
    "アトムタイプには\n",
    "原子の種類\n",
    "結合する重原子の数\n",
    "π電子数\n",
    "https://future-chem.com/ap-dp-fingerprint/\n",
    "\n",
    "### ドナーアクセプターペアフィンガープリント\n",
    "ドナーアクセプターペアフィンガープリントでは「アトムタイプの情報」について\n",
    "\n",
    "水素結合供与体\n",
    "水素結合受容体\n",
    "といった一般性のある「化学的性質」を情報として用いているフィンガープリントです\n",
    "\n",
    "### mordred記述子の作成\n",
    "https://github.com/mordred-descriptor\n",
    "\n",
    "\n",
    "MolLogP : Crippenらによる原子ベースのLogP指標(LogPは水/オクタノール分配係数）\n",
    "MolWt : 分子量\n",
    "NumHAcceptors : 水素結合アクセプターの数\n",
    "NumHDonors : 水素結合ドナーの数\n",
    "NumHeteroatoms : へテロ元素の数\n",
    "NumRotatableBonds : 回転可能な結合数\n",
    "FractionCSP3 : 全炭素数におけるsp3炭素の割合\n",
    "TPSA : トポロジカル極性表面積\n"
   ]
  },
  {
   "cell_type": "code",
   "execution_count": 18,
   "id": "756c8c4e-5866-43c1-8ef9-7403c28c6bc4",
   "metadata": {},
   "outputs": [],
   "source": [
    "BIT = 1024"
   ]
  },
  {
   "cell_type": "code",
   "execution_count": 27,
   "id": "d434a17d-b049-4b8b-bfab-c0760e8cf1c9",
   "metadata": {},
   "outputs": [],
   "source": [
    "import numpy as np\n",
    "from rdkit import Chem\n",
    "from rdkit.Chem import AllChem, DataStructs\n",
    "from rdkit.Avalon import pyAvalonTools\n",
    "from mordred import Calculator, descriptors\n",
    "from rdkit.Chem import rdMHFPFingerprint\n",
    "encoder = rdMHFPFingerprint.MHFPEncoder()\n",
    "\n",
    "def toFinger(df, columns, finger_method):\n",
    "    df_copy = df.drop(columns=columns)\n",
    "    for column in columns:\n",
    "        fingerprints = toFingerFromSmiles(df[column],finger_method)\n",
    "        column_names = list(map(lambda x: str(x)+'_'+column, range(len(fingerprints[0]))))\n",
    "        df_copy = pd.merge(df_copy, pd.DataFrame(fingerprints,index=df.index, columns=column_names), left_index=True, right_index=True)\n",
    "    return df_copy\n",
    "\n",
    "def toFingerFromSmiles(series, method):\n",
    "    mols = []\n",
    "    for smile in series:\n",
    "        if smile in ['-', 0]: smile = '' \n",
    "        mols.append(Chem.MolFromSmiles(smile))\n",
    "\n",
    "    if (method == 'mordred'):\n",
    "        calc_2D = Calculator(descriptors, ignore_3D=True) #2D記述子\n",
    "        calc_3D = Calculator(descriptors, ignore_3D=False) #3D記述子\n",
    "        fingerprints = calc_2D.pandas(mols,quiet=False)\n",
    "        # fingerprint.index = labels\n",
    "        return fingerprints\n",
    "    else:\n",
    "        fingerprints = []\n",
    "        for mol_idx, mol in enumerate(mols):\n",
    "            try:\n",
    "                # listに直してる。\n",
    "                if (method == 'morgan'):\n",
    "                    fingerprint = [x for x in AllChem.GetMorganFingerprintAsBitVect(mol,2,BIT)]\n",
    "                elif (method == 'morgan_feature'):\n",
    "                    fingerprint = [x for x in AllChem.GetMorganFingerprintAsBitVect(mol,2,BIT,useFeatures=True)]\n",
    "                elif (method == 'maccs'):\n",
    "                    fingerprint = [x for x in AllChem.GetMACCSKeysFingerprint(mol)]\n",
    "                elif (method == 'rdkit'):\n",
    "                    fingerprint = [x for x in Chem.Fingerprints.FingerprintMols.FingerprintMol(mol)]\n",
    "                elif (method == 'minhash'):\n",
    "                    fingerprint = [x for x in encoder.EncodeMol(mol)]\n",
    "                elif (method == 'avalon'):\n",
    "                    fingerprint = [x for x in pyAvalonTools.GetAvalonFP(mol)]\n",
    "                elif (method == 'atom'):\n",
    "                    fingerprint = [x for x in Chem.AtomPairs.Pairs.GetAtomPairFingerprint(mol)]\n",
    "                elif (method == 'donor'):\n",
    "                    fingerprint = [x for x in Chem.AtomPairs.Sheridan.GetBPFingerprint(mol)]\n",
    "                else:\n",
    "                    print('method error')\n",
    "                fingerprints.append(fingerprint)\n",
    "            except Exception as e:\n",
    "                print(\"Error\", mol_idx)\n",
    "                break\n",
    "        return fingerprints"
   ]
  },
  {
   "cell_type": "code",
   "execution_count": 20,
   "id": "7f6404c8-159f-48c6-a9e9-4091236880fc",
   "metadata": {},
   "outputs": [],
   "source": [
    "finger_methods = [\n",
    "    'morgan',\n",
    "    'morgan_feature',\n",
    "    'maccs',\n",
    "    'rdkit',\n",
    "    'minhash',\n",
    "    'avalon',\n",
    "    'atom',\n",
    "    'donor',\n",
    "]"
   ]
  },
  {
   "cell_type": "markdown",
   "id": "0a850dc3-9d35-4630-9217-ec49ec058710",
   "metadata": {},
   "source": [
    "# 記述子変換 ⇒ 分散が0 or 80%異常が同じ値の情報を削除\n",
    "説明しきれていないため共線性の恐れがある\n",
    "VarianceThresholdで特徴選択"
   ]
  },
  {
   "cell_type": "code",
   "execution_count": 24,
   "id": "d982e455-58ba-4adc-8c86-19ab8190b1f2",
   "metadata": {},
   "outputs": [],
   "source": [
    "from sklearn.feature_selection import VarianceThreshold\n",
    "def removeNoImpactData(df):\n",
    "    X = df.drop(columns=['entry','収率(%)'])\n",
    "    select = VarianceThreshold()\n",
    "    X_new = select.fit_transform(X)\n",
    "    df_new = pd.concat([\n",
    "        pd.DataFrame(X_new, columns=np.array(df)[select.get_support()==True]),\n",
    "        df['収率(%)']\n",
    "    ],axis=1)\n",
    "    return df_new"
   ]
  },
  {
   "cell_type": "code",
   "execution_count": null,
   "id": "3b97b207-5017-4a8b-afa6-7ac56de63e3f",
   "metadata": {},
   "outputs": [],
   "source": []
  },
  {
   "cell_type": "code",
   "execution_count": null,
   "id": "5032b062-b746-4cf9-bd0d-292c686516cb",
   "metadata": {},
   "outputs": [],
   "source": []
  },
  {
   "cell_type": "markdown",
   "id": "ff72bf8c-15a5-4704-8f7b-0d6d0d3da30e",
   "metadata": {},
   "source": [
    "# finger print変換\n",
    "- method1 全てのデータを使用\n",
    "- "
   ]
  },
  {
   "cell_type": "code",
   "execution_count": 30,
   "id": "4198ee2e-fe77-4ff9-bc19-75c81b9038f9",
   "metadata": {},
   "outputs": [
    {
     "name": "stdout",
     "output_type": "stream",
     "text": [
      "morgan\n",
      "Error 65\n"
     ]
    },
    {
     "name": "stderr",
     "output_type": "stream",
     "text": [
      "[02:24:20] SMILES Parse Error: unclosed ring for input: '[*]C1=CC=C(C)C=C2'\n",
      "[02:24:20] SMILES Parse Error: unclosed ring for input: '[*]C1=CC=C(C)C=C3'\n",
      "[02:24:20] SMILES Parse Error: unclosed ring for input: '[*]C1=CC=C(OC)C=C2'\n"
     ]
    },
    {
     "ename": "ValueError",
     "evalue": "Length of values (65) does not match length of index (123)",
     "output_type": "error",
     "traceback": [
      "\u001b[0;31m---------------------------------------------------------------------------\u001b[0m",
      "\u001b[0;31mValueError\u001b[0m                                Traceback (most recent call last)",
      "Cell \u001b[0;32mIn [30], line 5\u001b[0m\n\u001b[1;32m      3\u001b[0m \u001b[38;5;28;01mfor\u001b[39;00m finger_method \u001b[38;5;129;01min\u001b[39;00m finger_methods:\n\u001b[1;32m      4\u001b[0m     \u001b[38;5;28mprint\u001b[39m(finger_method)\n\u001b[0;32m----> 5\u001b[0m     df_method1 \u001b[38;5;241m=\u001b[39m \u001b[43mtoFinger\u001b[49m\u001b[43m(\u001b[49m\u001b[43mdf_scaled\u001b[49m\u001b[43m,\u001b[49m\u001b[43m \u001b[49m\u001b[43mfinger_columns\u001b[49m\u001b[43m,\u001b[49m\u001b[43mfinger_method\u001b[49m\u001b[43m)\u001b[49m\n\u001b[1;32m      6\u001b[0m     removeNoImpactData(df_method1)\u001b[38;5;241m.\u001b[39mto_csv(\u001b[38;5;124mf\u001b[39m\u001b[38;5;124m'\u001b[39m\u001b[38;5;124mdata/method1/$\u001b[39m\u001b[38;5;132;01m{\u001b[39;00mfinger_method\u001b[38;5;132;01m}\u001b[39;00m\u001b[38;5;124m.csv\u001b[39m\u001b[38;5;124m'\u001b[39m)\n",
      "Cell \u001b[0;32mIn [27], line 14\u001b[0m, in \u001b[0;36mtoFinger\u001b[0;34m(df, columns, finger_method)\u001b[0m\n\u001b[1;32m     12\u001b[0m     fingerprints \u001b[38;5;241m=\u001b[39m toFingerFromSmiles(df[column],finger_method)\n\u001b[1;32m     13\u001b[0m     column_names \u001b[38;5;241m=\u001b[39m \u001b[38;5;28mlist\u001b[39m(\u001b[38;5;28mmap\u001b[39m(\u001b[38;5;28;01mlambda\u001b[39;00m x: \u001b[38;5;28mstr\u001b[39m(x)\u001b[38;5;241m+\u001b[39m\u001b[38;5;124m'\u001b[39m\u001b[38;5;124m_\u001b[39m\u001b[38;5;124m'\u001b[39m\u001b[38;5;241m+\u001b[39mcolumn, \u001b[38;5;28mrange\u001b[39m(\u001b[38;5;28mlen\u001b[39m(fingerprints[\u001b[38;5;241m0\u001b[39m]))))\n\u001b[0;32m---> 14\u001b[0m     df_copy \u001b[38;5;241m=\u001b[39m pd\u001b[38;5;241m.\u001b[39mmerge(df_copy, \u001b[43mpd\u001b[49m\u001b[38;5;241;43m.\u001b[39;49m\u001b[43mDataFrame\u001b[49m\u001b[43m(\u001b[49m\u001b[43mfingerprints\u001b[49m\u001b[43m,\u001b[49m\u001b[43mindex\u001b[49m\u001b[38;5;241;43m=\u001b[39;49m\u001b[43mdf\u001b[49m\u001b[38;5;241;43m.\u001b[39;49m\u001b[43mindex\u001b[49m\u001b[43m,\u001b[49m\u001b[43m \u001b[49m\u001b[43mcolumns\u001b[49m\u001b[38;5;241;43m=\u001b[39;49m\u001b[43mcolumn_names\u001b[49m\u001b[43m)\u001b[49m, left_index\u001b[38;5;241m=\u001b[39m\u001b[38;5;28;01mTrue\u001b[39;00m, right_index\u001b[38;5;241m=\u001b[39m\u001b[38;5;28;01mTrue\u001b[39;00m)\n\u001b[1;32m     15\u001b[0m \u001b[38;5;28;01mreturn\u001b[39;00m df_copy\n",
      "File \u001b[0;32m~/opt/anaconda3/envs/chem/lib/python3.9/site-packages/pandas/core/frame.py:753\u001b[0m, in \u001b[0;36mDataFrame.__init__\u001b[0;34m(self, data, index, columns, dtype, copy)\u001b[0m\n\u001b[1;32m    744\u001b[0m         columns \u001b[38;5;241m=\u001b[39m ensure_index(columns)\n\u001b[1;32m    745\u001b[0m     arrays, columns, index \u001b[38;5;241m=\u001b[39m nested_data_to_arrays(\n\u001b[1;32m    746\u001b[0m         \u001b[38;5;66;03m# error: Argument 3 to \"nested_data_to_arrays\" has incompatible\u001b[39;00m\n\u001b[1;32m    747\u001b[0m         \u001b[38;5;66;03m# type \"Optional[Collection[Any]]\"; expected \"Optional[Index]\"\u001b[39;00m\n\u001b[0;32m   (...)\u001b[0m\n\u001b[1;32m    751\u001b[0m         dtype,\n\u001b[1;32m    752\u001b[0m     )\n\u001b[0;32m--> 753\u001b[0m     mgr \u001b[38;5;241m=\u001b[39m \u001b[43marrays_to_mgr\u001b[49m\u001b[43m(\u001b[49m\n\u001b[1;32m    754\u001b[0m \u001b[43m        \u001b[49m\u001b[43marrays\u001b[49m\u001b[43m,\u001b[49m\n\u001b[1;32m    755\u001b[0m \u001b[43m        \u001b[49m\u001b[43mcolumns\u001b[49m\u001b[43m,\u001b[49m\n\u001b[1;32m    756\u001b[0m \u001b[43m        \u001b[49m\u001b[43mindex\u001b[49m\u001b[43m,\u001b[49m\n\u001b[1;32m    757\u001b[0m \u001b[43m        \u001b[49m\u001b[43mdtype\u001b[49m\u001b[38;5;241;43m=\u001b[39;49m\u001b[43mdtype\u001b[49m\u001b[43m,\u001b[49m\n\u001b[1;32m    758\u001b[0m \u001b[43m        \u001b[49m\u001b[43mtyp\u001b[49m\u001b[38;5;241;43m=\u001b[39;49m\u001b[43mmanager\u001b[49m\u001b[43m,\u001b[49m\n\u001b[1;32m    759\u001b[0m \u001b[43m    \u001b[49m\u001b[43m)\u001b[49m\n\u001b[1;32m    760\u001b[0m \u001b[38;5;28;01melse\u001b[39;00m:\n\u001b[1;32m    761\u001b[0m     mgr \u001b[38;5;241m=\u001b[39m ndarray_to_mgr(\n\u001b[1;32m    762\u001b[0m         data,\n\u001b[1;32m    763\u001b[0m         index,\n\u001b[0;32m   (...)\u001b[0m\n\u001b[1;32m    767\u001b[0m         typ\u001b[38;5;241m=\u001b[39mmanager,\n\u001b[1;32m    768\u001b[0m     )\n",
      "File \u001b[0;32m~/opt/anaconda3/envs/chem/lib/python3.9/site-packages/pandas/core/internals/construction.py:124\u001b[0m, in \u001b[0;36marrays_to_mgr\u001b[0;34m(arrays, columns, index, dtype, verify_integrity, typ, consolidate)\u001b[0m\n\u001b[1;32m    121\u001b[0m         index \u001b[38;5;241m=\u001b[39m ensure_index(index)\n\u001b[1;32m    123\u001b[0m     \u001b[38;5;66;03m# don't force copy because getting jammed in an ndarray anyway\u001b[39;00m\n\u001b[0;32m--> 124\u001b[0m     arrays \u001b[38;5;241m=\u001b[39m \u001b[43m_homogenize\u001b[49m\u001b[43m(\u001b[49m\u001b[43marrays\u001b[49m\u001b[43m,\u001b[49m\u001b[43m \u001b[49m\u001b[43mindex\u001b[49m\u001b[43m,\u001b[49m\u001b[43m \u001b[49m\u001b[43mdtype\u001b[49m\u001b[43m)\u001b[49m\n\u001b[1;32m    125\u001b[0m     \u001b[38;5;66;03m# _homogenize ensures\u001b[39;00m\n\u001b[1;32m    126\u001b[0m     \u001b[38;5;66;03m#  - all(len(x) == len(index) for x in arrays)\u001b[39;00m\n\u001b[1;32m    127\u001b[0m     \u001b[38;5;66;03m#  - all(x.ndim == 1 for x in arrays)\u001b[39;00m\n\u001b[0;32m   (...)\u001b[0m\n\u001b[1;32m    130\u001b[0m \n\u001b[1;32m    131\u001b[0m \u001b[38;5;28;01melse\u001b[39;00m:\n\u001b[1;32m    132\u001b[0m     index \u001b[38;5;241m=\u001b[39m ensure_index(index)\n",
      "File \u001b[0;32m~/opt/anaconda3/envs/chem/lib/python3.9/site-packages/pandas/core/internals/construction.py:621\u001b[0m, in \u001b[0;36m_homogenize\u001b[0;34m(data, index, dtype)\u001b[0m\n\u001b[1;32m    616\u001b[0m             val \u001b[38;5;241m=\u001b[39m lib\u001b[38;5;241m.\u001b[39mfast_multiget(val, oindex\u001b[38;5;241m.\u001b[39m_values, default\u001b[38;5;241m=\u001b[39mnp\u001b[38;5;241m.\u001b[39mnan)\n\u001b[1;32m    618\u001b[0m         val \u001b[38;5;241m=\u001b[39m sanitize_array(\n\u001b[1;32m    619\u001b[0m             val, index, dtype\u001b[38;5;241m=\u001b[39mdtype, copy\u001b[38;5;241m=\u001b[39m\u001b[38;5;28;01mFalse\u001b[39;00m, raise_cast_failure\u001b[38;5;241m=\u001b[39m\u001b[38;5;28;01mFalse\u001b[39;00m\n\u001b[1;32m    620\u001b[0m         )\n\u001b[0;32m--> 621\u001b[0m         \u001b[43mcom\u001b[49m\u001b[38;5;241;43m.\u001b[39;49m\u001b[43mrequire_length_match\u001b[49m\u001b[43m(\u001b[49m\u001b[43mval\u001b[49m\u001b[43m,\u001b[49m\u001b[43m \u001b[49m\u001b[43mindex\u001b[49m\u001b[43m)\u001b[49m\n\u001b[1;32m    623\u001b[0m     homogenized\u001b[38;5;241m.\u001b[39mappend(val)\n\u001b[1;32m    625\u001b[0m \u001b[38;5;28;01mreturn\u001b[39;00m homogenized\n",
      "File \u001b[0;32m~/opt/anaconda3/envs/chem/lib/python3.9/site-packages/pandas/core/common.py:561\u001b[0m, in \u001b[0;36mrequire_length_match\u001b[0;34m(data, index)\u001b[0m\n\u001b[1;32m    557\u001b[0m \u001b[38;5;124;03m\"\"\"\u001b[39;00m\n\u001b[1;32m    558\u001b[0m \u001b[38;5;124;03mCheck the length of data matches the length of the index.\u001b[39;00m\n\u001b[1;32m    559\u001b[0m \u001b[38;5;124;03m\"\"\"\u001b[39;00m\n\u001b[1;32m    560\u001b[0m \u001b[38;5;28;01mif\u001b[39;00m \u001b[38;5;28mlen\u001b[39m(data) \u001b[38;5;241m!=\u001b[39m \u001b[38;5;28mlen\u001b[39m(index):\n\u001b[0;32m--> 561\u001b[0m     \u001b[38;5;28;01mraise\u001b[39;00m \u001b[38;5;167;01mValueError\u001b[39;00m(\n\u001b[1;32m    562\u001b[0m         \u001b[38;5;124m\"\u001b[39m\u001b[38;5;124mLength of values \u001b[39m\u001b[38;5;124m\"\u001b[39m\n\u001b[1;32m    563\u001b[0m         \u001b[38;5;124mf\u001b[39m\u001b[38;5;124m\"\u001b[39m\u001b[38;5;124m(\u001b[39m\u001b[38;5;132;01m{\u001b[39;00m\u001b[38;5;28mlen\u001b[39m(data)\u001b[38;5;132;01m}\u001b[39;00m\u001b[38;5;124m) \u001b[39m\u001b[38;5;124m\"\u001b[39m\n\u001b[1;32m    564\u001b[0m         \u001b[38;5;124m\"\u001b[39m\u001b[38;5;124mdoes not match length of index \u001b[39m\u001b[38;5;124m\"\u001b[39m\n\u001b[1;32m    565\u001b[0m         \u001b[38;5;124mf\u001b[39m\u001b[38;5;124m\"\u001b[39m\u001b[38;5;124m(\u001b[39m\u001b[38;5;132;01m{\u001b[39;00m\u001b[38;5;28mlen\u001b[39m(index)\u001b[38;5;132;01m}\u001b[39;00m\u001b[38;5;124m)\u001b[39m\u001b[38;5;124m\"\u001b[39m\n\u001b[1;32m    566\u001b[0m     )\n",
      "\u001b[0;31mValueError\u001b[0m: Length of values (65) does not match length of index (123)"
     ]
    }
   ],
   "source": [
    "# 1. 全てのデータを使用\n",
    "finger_columns = ['R1-', 'organocatalyst']\n",
    "for finger_method in finger_methods:\n",
    "    print(finger_method)\n",
    "    df_method1 = toFinger(df_scaled, finger_columns,finger_method)\n",
    "    removeNoImpactData(df_method1).to_csv(f'data/method1/${finger_method}.csv')\n",
    "\n",
    "\n"
   ]
  },
  {
   "cell_type": "code",
   "execution_count": null,
   "id": "f93cdead-d080-468a-82b9-ea8923fe5e1d",
   "metadata": {},
   "outputs": [],
   "source": []
  }
 ],
 "metadata": {
  "kernelspec": {
   "display_name": "Python 3 (ipykernel)",
   "language": "python",
   "name": "python3"
  },
  "language_info": {
   "codemirror_mode": {
    "name": "ipython",
    "version": 3
   },
   "file_extension": ".py",
   "mimetype": "text/x-python",
   "name": "python",
   "nbconvert_exporter": "python",
   "pygments_lexer": "ipython3",
   "version": "3.9.13"
  }
 },
 "nbformat": 4,
 "nbformat_minor": 5
}
