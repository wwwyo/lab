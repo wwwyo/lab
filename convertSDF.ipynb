{
 "cells": [
  {
   "cell_type": "code",
   "execution_count": 14,
   "id": "81e58294-058f-4467-a6f2-1701c37793e5",
   "metadata": {},
   "outputs": [],
   "source": [
    "import pandas as pd\n",
    "import numpy as np\n",
    "from rdkit import Chem\n",
    "\n",
    "mols=[mol for mol in Chem.SDMolSupplier('./data/structure_creation3/ChemCupid_Namiki.sdf') if mol is not None]\n",
    "# mols_salicylic = [mol for mol in Chem.SDMolSupplier('./data/structure_creation3/ChemCupid_Namiki_like_salicylic_acid.sdf') if mol is not None]\n",
    "\n",
    "\n"
   ]
  },
  {
   "cell_type": "code",
   "execution_count": 16,
   "id": "4c4bb575-41a3-4fcd-82a0-61c98e35be36",
   "metadata": {},
   "outputs": [],
   "source": [
    "smiles = [Chem.MolToSmiles(mol) for mol in mols]"
   ]
  },
  {
   "cell_type": "code",
   "execution_count": 17,
   "id": "a5a455c7-d1e9-42b6-93ea-b32926112f55",
   "metadata": {},
   "outputs": [],
   "source": [
    "df = pd.DataFrame({'SMILES':smiles})"
   ]
  },
  {
   "cell_type": "code",
   "execution_count": 18,
   "id": "f3ac4976-5098-4424-b763-3bc9d9d5a8fb",
   "metadata": {},
   "outputs": [],
   "source": [
    "df.to_csv('./data/structure_creation3/smiles.csv')"
   ]
  },
  {
   "cell_type": "code",
   "execution_count": 19,
   "id": "5d105d61-0999-46a0-8fdd-7a9ecb4a270f",
   "metadata": {},
   "outputs": [
    {
     "data": {
      "text/html": [
       "<div>\n",
       "<style scoped>\n",
       "    .dataframe tbody tr th:only-of-type {\n",
       "        vertical-align: middle;\n",
       "    }\n",
       "\n",
       "    .dataframe tbody tr th {\n",
       "        vertical-align: top;\n",
       "    }\n",
       "\n",
       "    .dataframe thead th {\n",
       "        text-align: right;\n",
       "    }\n",
       "</style>\n",
       "<table border=\"1\" class=\"dataframe\">\n",
       "  <thead>\n",
       "    <tr style=\"text-align: right;\">\n",
       "      <th></th>\n",
       "      <th>SMILES</th>\n",
       "    </tr>\n",
       "  </thead>\n",
       "  <tbody>\n",
       "    <tr>\n",
       "      <th>0</th>\n",
       "      <td>O=C(O)c1ccccc1O</td>\n",
       "    </tr>\n",
       "    <tr>\n",
       "      <th>1</th>\n",
       "      <td>N.O=C(O)c1ccccc1O</td>\n",
       "    </tr>\n",
       "    <tr>\n",
       "      <th>2</th>\n",
       "      <td>O=C(O)c1c(O)cccc1O</td>\n",
       "    </tr>\n",
       "    <tr>\n",
       "      <th>3</th>\n",
       "      <td>Cc1cccc(C(=O)O)c1O</td>\n",
       "    </tr>\n",
       "    <tr>\n",
       "      <th>4</th>\n",
       "      <td>O.O=C(O)c1c(O)cc(O)cc1O</td>\n",
       "    </tr>\n",
       "    <tr>\n",
       "      <th>...</th>\n",
       "      <td>...</td>\n",
       "    </tr>\n",
       "    <tr>\n",
       "      <th>86</th>\n",
       "      <td>NC1CCCCC1</td>\n",
       "    </tr>\n",
       "    <tr>\n",
       "      <th>87</th>\n",
       "      <td>Cl.NC1CCCCC1</td>\n",
       "    </tr>\n",
       "    <tr>\n",
       "      <th>88</th>\n",
       "      <td>CNC[C@H](O)[C@@H](O)[C@H](O)[C@H](O)CO</td>\n",
       "    </tr>\n",
       "    <tr>\n",
       "      <th>89</th>\n",
       "      <td>C1N2CN3CN1CN(C2)C3</td>\n",
       "    </tr>\n",
       "    <tr>\n",
       "      <th>90</th>\n",
       "      <td>CCCCCCCCCCCCCCCCCCN</td>\n",
       "    </tr>\n",
       "  </tbody>\n",
       "</table>\n",
       "<p>91 rows × 1 columns</p>\n",
       "</div>"
      ],
      "text/plain": [
       "                                    SMILES\n",
       "0                          O=C(O)c1ccccc1O\n",
       "1                        N.O=C(O)c1ccccc1O\n",
       "2                       O=C(O)c1c(O)cccc1O\n",
       "3                       Cc1cccc(C(=O)O)c1O\n",
       "4                  O.O=C(O)c1c(O)cc(O)cc1O\n",
       "..                                     ...\n",
       "86                               NC1CCCCC1\n",
       "87                            Cl.NC1CCCCC1\n",
       "88  CNC[C@H](O)[C@@H](O)[C@H](O)[C@H](O)CO\n",
       "89                      C1N2CN3CN1CN(C2)C3\n",
       "90                     CCCCCCCCCCCCCCCCCCN\n",
       "\n",
       "[91 rows x 1 columns]"
      ]
     },
     "execution_count": 19,
     "metadata": {},
     "output_type": "execute_result"
    }
   ],
   "source": [
    "df"
   ]
  },
  {
   "cell_type": "code",
   "execution_count": null,
   "id": "fc0c996d-7f64-4030-aaea-fd36d5f8d794",
   "metadata": {},
   "outputs": [],
   "source": []
  }
 ],
 "metadata": {
  "kernelspec": {
   "display_name": "Python 3 (ipykernel)",
   "language": "python",
   "name": "python3"
  },
  "language_info": {
   "codemirror_mode": {
    "name": "ipython",
    "version": 3
   },
   "file_extension": ".py",
   "mimetype": "text/x-python",
   "name": "python",
   "nbconvert_exporter": "python",
   "pygments_lexer": "ipython3",
   "version": "3.9.13"
  }
 },
 "nbformat": 4,
 "nbformat_minor": 5
}
