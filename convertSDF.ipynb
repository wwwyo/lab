{
 "cells": [
  {
   "cell_type": "code",
   "execution_count": 3,
   "id": "81e58294-058f-4467-a6f2-1701c37793e5",
   "metadata": {},
   "outputs": [],
   "source": [
    "import pandas as pd\n",
    "import numpy as np\n",
    "from rdkit import Chem\n",
    "\n",
    "mols_most=[mol for mol in Chem.SDMolSupplier('./data/structure_creation2/ChemCupid_Namiki_like_most_yield.sdf') if mol is not None]\n",
    "mols_salicylic = [mol for mol in Chem.SDMolSupplier('./data/structure_creation2/ChemCupid_Namiki_like_salicylic_acid.sdf') if mol is not None]\n",
    "\n",
    "\n"
   ]
  },
  {
   "cell_type": "code",
   "execution_count": 5,
   "id": "4c4bb575-41a3-4fcd-82a0-61c98e35be36",
   "metadata": {},
   "outputs": [],
   "source": [
    "smiles = [Chem.MolToSmiles(mol) for mol in mols_most + mols_salicylic]"
   ]
  },
  {
   "cell_type": "code",
   "execution_count": 7,
   "id": "a5a455c7-d1e9-42b6-93ea-b32926112f55",
   "metadata": {},
   "outputs": [],
   "source": [
    "df = pd.DataFrame({'SMILES':smiles})"
   ]
  },
  {
   "cell_type": "code",
   "execution_count": 10,
   "id": "f3ac4976-5098-4424-b763-3bc9d9d5a8fb",
   "metadata": {},
   "outputs": [],
   "source": [
    "df.to_csv('./data/structure_creation2/smiles.csv')"
   ]
  },
  {
   "cell_type": "code",
   "execution_count": 11,
   "id": "5d105d61-0999-46a0-8fdd-7a9ecb4a270f",
   "metadata": {},
   "outputs": [
    {
     "data": {
      "text/plain": [
       "(1000, 1)"
      ]
     },
     "execution_count": 11,
     "metadata": {},
     "output_type": "execute_result"
    }
   ],
   "source": [
    "df.shape"
   ]
  },
  {
   "cell_type": "code",
   "execution_count": null,
   "id": "fc0c996d-7f64-4030-aaea-fd36d5f8d794",
   "metadata": {},
   "outputs": [],
   "source": []
  }
 ],
 "metadata": {
  "kernelspec": {
   "display_name": "Python 3 (ipykernel)",
   "language": "python",
   "name": "python3"
  },
  "language_info": {
   "codemirror_mode": {
    "name": "ipython",
    "version": 3
   },
   "file_extension": ".py",
   "mimetype": "text/x-python",
   "name": "python",
   "nbconvert_exporter": "python",
   "pygments_lexer": "ipython3",
   "version": "3.9.13"
  }
 },
 "nbformat": 4,
 "nbformat_minor": 5
}
