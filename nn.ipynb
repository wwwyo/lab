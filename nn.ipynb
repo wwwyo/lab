{
 "cells": [
  {
   "cell_type": "code",
   "execution_count": null,
   "id": "fdc73dea-88d2-4066-89f8-4857b49e7915",
   "metadata": {},
   "outputs": [],
   "source": [
    "import numpy as np\n",
    "from sklearn.model_selection import train_test_split\n",
    "from sklearn.metrics import confusion_matrix, f1_score\n",
    "from tensorflow.python.keras.layers import Input\n",
    "from tensorflow.python.keras.layers import Dense\n",
    "from tensorflow.python.keras.layers import Dropout\n",
    "from tensorflow.python.keras.layers import Activation\n",
    "from tensorflow.python.keras.model import Model"
   ]
  },
  {
   "cell_type": "code",
   "execution_count": 3,
   "id": "15e2aedd-bd73-43ae-b784-1c3de042e300",
   "metadata": {},
   "outputs": [],
   "source": [
    "# https://github.com/Mishima-syk/py4chemoinformatics/blob/master/py4c.asciidoc#dnn%E3%82%92%E5%88%A9%E7%94%A8%E3%81%97%E3%81%9F%E4%BA%88%E6%B8%AC%E3%83%A2%E3%83%87%E3%83%AB%E6%A7%8B%E7%AF%89"
   ]
  },
  {
   "cell_type": "code",
   "execution_count": null,
   "id": "2c8b7d78-1281-4bb3-8ef9-1083fafa5f2d",
   "metadata": {},
   "outputs": [],
   "source": []
  }
 ],
 "metadata": {
  "kernelspec": {
   "display_name": "Python 3 (ipykernel)",
   "language": "python",
   "name": "python3"
  },
  "language_info": {
   "codemirror_mode": {
    "name": "ipython",
    "version": 3
   },
   "file_extension": ".py",
   "mimetype": "text/x-python",
   "name": "python",
   "nbconvert_exporter": "python",
   "pygments_lexer": "ipython3",
   "version": "3.9.13"
  }
 },
 "nbformat": 4,
 "nbformat_minor": 5
}
