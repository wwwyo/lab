{
 "cells": [
  {
   "cell_type": "code",
   "execution_count": 7,
   "id": "b0076a4f-f812-479b-9e06-7e2077891237",
   "metadata": {},
   "outputs": [],
   "source": [
    "import pandas as pd"
   ]
  },
  {
   "cell_type": "code",
   "execution_count": 2,
   "id": "3a15b117-3364-477b-98b8-9d4f1225d53b",
   "metadata": {},
   "outputs": [],
   "source": [
    "csv_list = [\n",
    "    'estimated_y_in_dcv_yield_EN',\n",
    "    'estimated_y_in_dcv_yield_GBDT',\n",
    "    'estimated_y_in_dcv_yield_GMR',\n",
    "    'estimated_y_in_dcv_yield_LASSO',\n",
    "    'estimated_y_in_dcv_yield_LGB',\n",
    "    'estimated_y_in_dcv_yield_LGPR',\n",
    "    'estimated_y_in_dcv_yield_LSVR',\n",
    "    'estimated_y_in_dcv_yield_NGPR1',\n",
    "    'estimated_y_in_dcv_yield_NGPR2',\n",
    "    'estimated_y_in_dcv_yield_NGPR3',\n",
    "    'estimated_y_in_dcv_yield_NGPR4',\n",
    "    'estimated_y_in_dcv_yield_NGPR5',\n",
    "    'estimated_y_in_dcv_yield_NGPR6',\n",
    "    'estimated_y_in_dcv_yield_NGPR7',\n",
    "    'estimated_y_in_dcv_yield_NGPR8',\n",
    "    'estimated_y_in_dcv_yield_NGPR9',\n",
    "    'estimated_y_in_dcv_yield_NGPR10',\n",
    "    'estimated_y_in_dcv_yield_NSVR',\n",
    "    'estimated_y_in_dcv_yield_OLS',\n",
    "    'estimated_y_in_dcv_yield_PLS',\n",
    "    'estimated_y_in_dcv_yield_RF',\n",
    "    'estimated_y_in_dcv_yield_RR',\n",
    "    'estimated_y_in_dcv_yield_VBGMR',\n",
    "    'estimated_y_in_dcv_yield_XGB',\n",
    "]"
   ]
  },
  {
   "cell_type": "code",
   "execution_count": null,
   "id": "28c0f26c-c6d6-4058-87a3-fe32af486104",
   "metadata": {},
   "outputs": [],
   "source": [
    "def yyplot(y_obs, y_pred, title):\n",
    "    yvalues = np.concatenate([y_obs.flatten(), y_pred.flatten()])\n",
    "    ymin, ymax, yrange = np.amin(yvalues), np.amax(yvalues), np.ptp(yvalues)\n",
    "    fig = plt.figure(figsize=(8, 8))\n",
    "    plt.scatter(y_obs, y_pred)\n",
    "    plt.plot([ymin - yrange * 0.01, ymax + yrange * 0.01], [ymin - yrange * 0.01, ymax + yrange * 0.01])\n",
    "    plt.xlim(ymin - yrange * 0.01, ymax + yrange * 0.01)\n",
    "    plt.ylim(ymin - yrange * 0.01, ymax + yrange * 0.01)\n",
    "    plt.xlabel('Real Y', fontsize=24)\n",
    "    plt.ylabel('Predicted Y', fontsize=24)\n",
    "    plt.title(title, fontsize=24)\n",
    "    plt.tick_params(labelsize=16)\n",
    "    plt.show()"
   ]
  },
  {
   "cell_type": "code",
   "execution_count": 14,
   "id": "a7eb1218-8f44-4f45-ba49-0c8408a72026",
   "metadata": {},
   "outputs": [
    {
     "data": {
      "text/plain": [
       "Index(['yield'], dtype='object')"
      ]
     },
     "execution_count": 15,
     "metadata": {},
     "output_type": "execute_result"
    }
   ],
   "source": [
    "y = pd.read_csv('../data/method1/result/actual_y_yield.csv',index_col=0)\n",
    "\n",
    "for csv in csv_list:\n",
    "    df_ = pd.read_csv(f'../data/method1/result/{csv}.csv',index_col=0)\n",
    "    yyplot(df_['estimated y'],y['yield'],csv.split('_')[-1])\n",
    "    break\n",
    "\n"
   ]
  },
  {
   "cell_type": "code",
   "execution_count": null,
   "id": "d57451ea-12d5-452b-b2b3-d445b39a7b85",
   "metadata": {},
   "outputs": [],
   "source": []
  }
 ],
 "metadata": {
  "kernelspec": {
   "display_name": "Python 3 (ipykernel)",
   "language": "python",
   "name": "python3"
  },
  "language_info": {
   "codemirror_mode": {
    "name": "ipython",
    "version": 3
   },
   "file_extension": ".py",
   "mimetype": "text/x-python",
   "name": "python",
   "nbconvert_exporter": "python",
   "pygments_lexer": "ipython3",
   "version": "3.9.13"
  }
 },
 "nbformat": 4,
 "nbformat_minor": 5
}
