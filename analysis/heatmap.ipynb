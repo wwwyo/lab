{
 "cells": [
  {
   "cell_type": "markdown",
   "id": "821fc1b3-7355-4b0f-9f08-2971fa43c0fe",
   "metadata": {},
   "source": [
    "# Heat map\n"
   ]
  },
  {
   "cell_type": "code",
   "execution_count": 79,
   "id": "3d59971d-d32c-43eb-8ec9-45af558412a9",
   "metadata": {},
   "outputs": [],
   "source": [
    "import pandas as pd\n",
    "\n",
    "method = 'method1'\n",
    "\n",
    "filenames = [\n",
    "    f'./data/{method}/avalon.csv',\n",
    "    f'./data/{method}/maccs.csv',\n",
    "    f'./data/{method}/minhash.csv',\n",
    "    f'./data/{method}/mordred_2d.csv',\n",
    "    f'./data/{method}/mordred_3d.csv',\n",
    "    f'./data/{method}/morgan_feature.csv',\n",
    "    f'./data/{method}/morgan.csv',\n",
    "    f'./data/{method}/rdkit.csv',\n",
    "]\n",
    "df_methodx_avalon = pd.read_csv(f'./data/{method}/avalon.csv', index_col=0)\n",
    "df_methodx_maccs = pd.read_csv(f'./data/{method}/maccs.csv', index_col=0)\n",
    "df_methodx_minhash = pd.read_csv(f'./data/{method}/minhash.csv', index_col=0)\n",
    "df_methodx_mordred_2d = pd.read_csv(f'./data/{method}/mordred_2d.csv', index_col=0)\n",
    "df_methodx_mordred_3d = pd.read_csv(f'./data/{method}/mordred_3d.csv', index_col=0)\n",
    "df_methodx_morgan_feature = pd.read_csv(f'./data/{method}/morgan_feature.csv', index_col=0)\n",
    "df_methodx_morgan = pd.read_csv(f'./data/{method}/morgan.csv', index_col=0)\n",
    "df_methodx_rdkit = pd.read_csv(f'./data/{method}/rdkit.csv', index_col=0)\n",
    "\n",
    "dfs = [\n",
    "    df_methodx_avalon,\n",
    "    df_methodx_maccs,\n",
    "    df_methodx_minhash,\n",
    "    # df_methodx_mordred_2d,\n",
    "    # df_methodx_mordred_3d,\n",
    "    df_methodx_morgan_feature,\n",
    "    df_methodx_morgan,\n",
    "    df_methodx_rdkit\n",
    "]\n",
    "dfs_name = [\n",
    "    f\"df_{method}_avalon\",\n",
    "    f\"df_{method}_maccs\",\n",
    "    f\"df_{method}_minhash\",\n",
    "    # f\"df_{method}_mordred_2d\",\n",
    "    # f\"df_{method}_mordred_3d\",\n",
    "    f\"df_{method}_morgan_feature\",\n",
    "    f\"df_{method}_morgan\",\n",
    "    f\"df_{method}_rdkit\"\n",
    "]"
   ]
  },
  {
   "cell_type": "code",
   "execution_count": 80,
   "id": "91caf37c-220f-499f-b9d0-10466d1a492e",
   "metadata": {},
   "outputs": [],
   "source": [
    "import matplotlib.pyplot as plt\n",
    "import seaborn as sns\n",
    "\n",
    "def heatmap(corr):\n",
    "    plt.rcParams['font.family'] = \"DejaVu Serif\"\n",
    "    fig = plt.figure(figsize=(40,5))\n",
    "\n",
    "    sns.heatmap(corr.T, cmap = \"bwr\", annot=True)\n",
    "    plt.show()"
   ]
  },
  {
   "cell_type": "code",
   "execution_count": 43,
   "id": "9c305a2f-130f-4ff0-8da1-30bc804c1a53",
   "metadata": {},
   "outputs": [],
   "source": [
    "for i in len(dfs):\n",
    "    df = dfs[i]\n",
    "    corr = df.corr()\n",
    "    corr_sorted = corr[['yield']].sort_values(by='yield',ascending=False)\n",
    "    heatmap(corr_sorted[:50])\n",
    "    columns = corr_sorted[:50].T.columns.tolist()\n",
    "    df[columns].to_csv(f'./data/method3/${}')"
   ]
  },
  {
   "cell_type": "code",
   "execution_count": null,
   "id": "d6e45ced-1913-4b53-8de8-10f410825238",
   "metadata": {},
   "outputs": [],
   "source": []
  },
  {
   "cell_type": "code",
   "execution_count": null,
   "id": "d6c2f1ad-ebd5-4c10-8398-8844c6feb6f8",
   "metadata": {},
   "outputs": [],
   "source": []
  }
 ],
 "metadata": {
  "kernelspec": {
   "display_name": "Python 3 (ipykernel)",
   "language": "python",
   "name": "python3"
  },
  "language_info": {
   "codemirror_mode": {
    "name": "ipython",
    "version": 3
   },
   "file_extension": ".py",
   "mimetype": "text/x-python",
   "name": "python",
   "nbconvert_exporter": "python",
   "pygments_lexer": "ipython3",
   "version": "3.9.13"
  }
 },
 "nbformat": 4,
 "nbformat_minor": 5
}
