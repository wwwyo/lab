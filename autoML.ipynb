{
 "cells": [
  {
   "cell_type": "code",
   "execution_count": 1,
   "id": "2c0aca5b-54b4-4584-803f-e550457b5ce5",
   "metadata": {},
   "outputs": [],
   "source": [
    "import numpy as np\n",
    "import pandas as pd\n",
    "from rdkit import rdBase, Chem\n",
    "from rdkit.Chem import AllChem, Descriptors\n",
    "from rdkit.ML.Descriptors import MoleculeDescriptors\n",
    "from mordred import Calculator, descriptors\n",
    "import mordred"
   ]
  },
  {
   "cell_type": "code",
   "execution_count": 2,
   "id": "1ab5a462-3a14-4c7c-bfc6-53d9fcb21eb0",
   "metadata": {},
   "outputs": [
    {
     "data": {
      "text/html": [
       "<div>\n",
       "<style scoped>\n",
       "    .dataframe tbody tr th:only-of-type {\n",
       "        vertical-align: middle;\n",
       "    }\n",
       "\n",
       "    .dataframe tbody tr th {\n",
       "        vertical-align: top;\n",
       "    }\n",
       "\n",
       "    .dataframe thead th {\n",
       "        text-align: right;\n",
       "    }\n",
       "</style>\n",
       "<table border=\"1\" class=\"dataframe\">\n",
       "  <thead>\n",
       "    <tr style=\"text-align: right;\">\n",
       "      <th></th>\n",
       "      <th>entry</th>\n",
       "      <th>R1-</th>\n",
       "      <th>organocatalyst</th>\n",
       "      <th>organocatalyst(mol%)</th>\n",
       "      <th>temp(℃)</th>\n",
       "      <th>time(h)</th>\n",
       "      <th>yield</th>\n",
       "      <th>R2_C</th>\n",
       "      <th>R2_H</th>\n",
       "      <th>under_O2</th>\n",
       "      <th>under_air</th>\n",
       "      <th>solvent_CH3CN</th>\n",
       "      <th>solvent_DMF</th>\n",
       "      <th>solvent_MeOH</th>\n",
       "      <th>solvent_toluene</th>\n",
       "    </tr>\n",
       "  </thead>\n",
       "  <tbody>\n",
       "    <tr>\n",
       "      <th>0</th>\n",
       "      <td>1</td>\n",
       "      <td>[*]C1=CC=CC=C1</td>\n",
       "      <td>ClC1=CC=C(C(O)=O)C(O)=C1</td>\n",
       "      <td>5.0</td>\n",
       "      <td>90</td>\n",
       "      <td>24.0</td>\n",
       "      <td>81.0</td>\n",
       "      <td>0</td>\n",
       "      <td>1</td>\n",
       "      <td>1</td>\n",
       "      <td>0</td>\n",
       "      <td>0</td>\n",
       "      <td>0</td>\n",
       "      <td>0</td>\n",
       "      <td>1</td>\n",
       "    </tr>\n",
       "    <tr>\n",
       "      <th>1</th>\n",
       "      <td>2</td>\n",
       "      <td>[*]C1=CC=CC=C1</td>\n",
       "      <td>ClC1=CC=C(C(O)=O)C(O)=C1</td>\n",
       "      <td>5.0</td>\n",
       "      <td>90</td>\n",
       "      <td>12.0</td>\n",
       "      <td>14.0</td>\n",
       "      <td>0</td>\n",
       "      <td>1</td>\n",
       "      <td>1</td>\n",
       "      <td>0</td>\n",
       "      <td>0</td>\n",
       "      <td>0</td>\n",
       "      <td>0</td>\n",
       "      <td>1</td>\n",
       "    </tr>\n",
       "    <tr>\n",
       "      <th>2</th>\n",
       "      <td>3</td>\n",
       "      <td>[*]C1=CC=CC=C1</td>\n",
       "      <td>OC1=CC(C)=CC=C1C(O)=O</td>\n",
       "      <td>5.0</td>\n",
       "      <td>90</td>\n",
       "      <td>24.0</td>\n",
       "      <td>74.0</td>\n",
       "      <td>0</td>\n",
       "      <td>1</td>\n",
       "      <td>1</td>\n",
       "      <td>0</td>\n",
       "      <td>0</td>\n",
       "      <td>0</td>\n",
       "      <td>0</td>\n",
       "      <td>1</td>\n",
       "    </tr>\n",
       "    <tr>\n",
       "      <th>3</th>\n",
       "      <td>4</td>\n",
       "      <td>[*]C1=CC=CC=C1</td>\n",
       "      <td>OC1=CC(C)=CC=C1C(O)=O</td>\n",
       "      <td>5.0</td>\n",
       "      <td>90</td>\n",
       "      <td>12.0</td>\n",
       "      <td>15.0</td>\n",
       "      <td>0</td>\n",
       "      <td>1</td>\n",
       "      <td>1</td>\n",
       "      <td>0</td>\n",
       "      <td>0</td>\n",
       "      <td>0</td>\n",
       "      <td>0</td>\n",
       "      <td>1</td>\n",
       "    </tr>\n",
       "    <tr>\n",
       "      <th>4</th>\n",
       "      <td>5</td>\n",
       "      <td>[*]C1=CC=CC=C1</td>\n",
       "      <td>OC1=CC(OC)=CC=C1C(O)=O</td>\n",
       "      <td>5.0</td>\n",
       "      <td>90</td>\n",
       "      <td>24.0</td>\n",
       "      <td>90.0</td>\n",
       "      <td>0</td>\n",
       "      <td>1</td>\n",
       "      <td>1</td>\n",
       "      <td>0</td>\n",
       "      <td>0</td>\n",
       "      <td>0</td>\n",
       "      <td>0</td>\n",
       "      <td>1</td>\n",
       "    </tr>\n",
       "    <tr>\n",
       "      <th>...</th>\n",
       "      <td>...</td>\n",
       "      <td>...</td>\n",
       "      <td>...</td>\n",
       "      <td>...</td>\n",
       "      <td>...</td>\n",
       "      <td>...</td>\n",
       "      <td>...</td>\n",
       "      <td>...</td>\n",
       "      <td>...</td>\n",
       "      <td>...</td>\n",
       "      <td>...</td>\n",
       "      <td>...</td>\n",
       "      <td>...</td>\n",
       "      <td>...</td>\n",
       "      <td>...</td>\n",
       "    </tr>\n",
       "    <tr>\n",
       "      <th>116</th>\n",
       "      <td>2i</td>\n",
       "      <td>[*]C1=CC(Br)=CC=C1</td>\n",
       "      <td>O=C1C(C=C(OC)C(C(C)(C)C)=C1)=O</td>\n",
       "      <td>10.0</td>\n",
       "      <td>23</td>\n",
       "      <td>72.0</td>\n",
       "      <td>95.0</td>\n",
       "      <td>1</td>\n",
       "      <td>0</td>\n",
       "      <td>1</td>\n",
       "      <td>0</td>\n",
       "      <td>1</td>\n",
       "      <td>0</td>\n",
       "      <td>0</td>\n",
       "      <td>0</td>\n",
       "    </tr>\n",
       "    <tr>\n",
       "      <th>117</th>\n",
       "      <td>2j</td>\n",
       "      <td>[*]C1=CC=CC(OC)=C1</td>\n",
       "      <td>O=C1C(C=C(OC)C(C(C)(C)C)=C1)=O</td>\n",
       "      <td>10.0</td>\n",
       "      <td>23</td>\n",
       "      <td>48.0</td>\n",
       "      <td>89.0</td>\n",
       "      <td>1</td>\n",
       "      <td>0</td>\n",
       "      <td>1</td>\n",
       "      <td>0</td>\n",
       "      <td>1</td>\n",
       "      <td>0</td>\n",
       "      <td>0</td>\n",
       "      <td>0</td>\n",
       "    </tr>\n",
       "    <tr>\n",
       "      <th>118</th>\n",
       "      <td>2k</td>\n",
       "      <td>[*]C1=CC(C)=C(C)C=C1</td>\n",
       "      <td>O=C1C(C=C(OC)C(C(C)(C)C)=C1)=O</td>\n",
       "      <td>10.0</td>\n",
       "      <td>23</td>\n",
       "      <td>72.0</td>\n",
       "      <td>99.0</td>\n",
       "      <td>1</td>\n",
       "      <td>0</td>\n",
       "      <td>1</td>\n",
       "      <td>0</td>\n",
       "      <td>1</td>\n",
       "      <td>0</td>\n",
       "      <td>0</td>\n",
       "      <td>0</td>\n",
       "    </tr>\n",
       "    <tr>\n",
       "      <th>119</th>\n",
       "      <td>2m</td>\n",
       "      <td>[*]C1=CSC=C1</td>\n",
       "      <td>O=C1C(C=C(OC)C(C(C)(C)C)=C1)=O</td>\n",
       "      <td>10.0</td>\n",
       "      <td>60</td>\n",
       "      <td>48.0</td>\n",
       "      <td>83.0</td>\n",
       "      <td>1</td>\n",
       "      <td>0</td>\n",
       "      <td>1</td>\n",
       "      <td>0</td>\n",
       "      <td>1</td>\n",
       "      <td>0</td>\n",
       "      <td>0</td>\n",
       "      <td>0</td>\n",
       "    </tr>\n",
       "    <tr>\n",
       "      <th>120</th>\n",
       "      <td>2p</td>\n",
       "      <td>[*]C1=CC=CC=C1</td>\n",
       "      <td>O=C1C(C=C(OC)C(C(C)(C)C)=C1)=O</td>\n",
       "      <td>10.0</td>\n",
       "      <td>23</td>\n",
       "      <td>12.0</td>\n",
       "      <td>99.0</td>\n",
       "      <td>0</td>\n",
       "      <td>1</td>\n",
       "      <td>1</td>\n",
       "      <td>0</td>\n",
       "      <td>1</td>\n",
       "      <td>0</td>\n",
       "      <td>0</td>\n",
       "      <td>0</td>\n",
       "    </tr>\n",
       "  </tbody>\n",
       "</table>\n",
       "<p>121 rows × 15 columns</p>\n",
       "</div>"
      ],
      "text/plain": [
       "    entry                   R1-                  organocatalyst  \\\n",
       "0       1        [*]C1=CC=CC=C1        ClC1=CC=C(C(O)=O)C(O)=C1   \n",
       "1       2        [*]C1=CC=CC=C1        ClC1=CC=C(C(O)=O)C(O)=C1   \n",
       "2       3        [*]C1=CC=CC=C1           OC1=CC(C)=CC=C1C(O)=O   \n",
       "3       4        [*]C1=CC=CC=C1           OC1=CC(C)=CC=C1C(O)=O   \n",
       "4       5        [*]C1=CC=CC=C1          OC1=CC(OC)=CC=C1C(O)=O   \n",
       "..    ...                   ...                             ...   \n",
       "116    2i    [*]C1=CC(Br)=CC=C1  O=C1C(C=C(OC)C(C(C)(C)C)=C1)=O   \n",
       "117    2j    [*]C1=CC=CC(OC)=C1  O=C1C(C=C(OC)C(C(C)(C)C)=C1)=O   \n",
       "118    2k  [*]C1=CC(C)=C(C)C=C1  O=C1C(C=C(OC)C(C(C)(C)C)=C1)=O   \n",
       "119    2m          [*]C1=CSC=C1  O=C1C(C=C(OC)C(C(C)(C)C)=C1)=O   \n",
       "120    2p        [*]C1=CC=CC=C1  O=C1C(C=C(OC)C(C(C)(C)C)=C1)=O   \n",
       "\n",
       "     organocatalyst(mol%)  temp(℃)  time(h)  yield  R2_C  R2_H  under_O2  \\\n",
       "0                     5.0       90     24.0   81.0     0     1         1   \n",
       "1                     5.0       90     12.0   14.0     0     1         1   \n",
       "2                     5.0       90     24.0   74.0     0     1         1   \n",
       "3                     5.0       90     12.0   15.0     0     1         1   \n",
       "4                     5.0       90     24.0   90.0     0     1         1   \n",
       "..                    ...      ...      ...    ...   ...   ...       ...   \n",
       "116                  10.0       23     72.0   95.0     1     0         1   \n",
       "117                  10.0       23     48.0   89.0     1     0         1   \n",
       "118                  10.0       23     72.0   99.0     1     0         1   \n",
       "119                  10.0       60     48.0   83.0     1     0         1   \n",
       "120                  10.0       23     12.0   99.0     0     1         1   \n",
       "\n",
       "     under_air  solvent_CH3CN  solvent_DMF  solvent_MeOH  solvent_toluene  \n",
       "0            0              0            0             0                1  \n",
       "1            0              0            0             0                1  \n",
       "2            0              0            0             0                1  \n",
       "3            0              0            0             0                1  \n",
       "4            0              0            0             0                1  \n",
       "..         ...            ...          ...           ...              ...  \n",
       "116          0              1            0             0                0  \n",
       "117          0              1            0             0                0  \n",
       "118          0              1            0             0                0  \n",
       "119          0              1            0             0                0  \n",
       "120          0              1            0             0                0  \n",
       "\n",
       "[121 rows x 15 columns]"
      ]
     },
     "execution_count": 2,
     "metadata": {},
     "output_type": "execute_result"
    }
   ],
   "source": [
    "df = pd.read_csv('./data/origin.csv',index_col=0)\n",
    "df"
   ]
  },
  {
   "cell_type": "code",
   "execution_count": 3,
   "id": "ed623d61-90d2-4e60-9cd9-08a5399c4369",
   "metadata": {},
   "outputs": [],
   "source": [
    "mols_r1 = list(Chem.MolFromSmiles(smile) for smile in df['R1-'].values)\n",
    "mols_organocatalyst = list(Chem.MolFromSmiles(smile) for smile in df['organocatalyst'].values)"
   ]
  },
  {
   "cell_type": "markdown",
   "id": "adac1469-a6e6-416c-9c1f-8b0ecf9ca059",
   "metadata": {},
   "source": [
    "# Rdkit記述子に変換"
   ]
  },
  {
   "cell_type": "code",
   "execution_count": 4,
   "id": "7d6e1f95-0403-43ca-a4ee-0011a69e377e",
   "metadata": {
    "tags": []
   },
   "outputs": [],
   "source": [
    "def toFingerRdkit(mols,prefix):\n",
    "    descriptor_names = [(descriptor_name[0] + '_' + prefix) for descriptor_name in Descriptors.descList]\n",
    "    descriptor_calculator = MoleculeDescriptors.MolecularDescriptorCalculator(descriptor_names)\n",
    "    rdkit_descriptors_results = [descriptor_calculator.CalcDescriptors(mol) for mol in mols]\n",
    "    df_rdkit = pd.DataFrame(rdkit_descriptors_results, columns=descriptor_names)\n",
    "    df_rdkit = df_rdkit[df_rdkit.columns[~df_rdkit.isnull().any()]]\n",
    "    return df_rdkit"
   ]
  },
  {
   "cell_type": "code",
   "execution_count": 5,
   "id": "4c0286a3-4302-454e-94f8-ebfd49a07f5d",
   "metadata": {},
   "outputs": [],
   "source": [
    "df_rdkit_r1 = toFingerRdkit(mols_r1, 'r1')\n",
    "df_rdkit_organocatalyst = toFingerRdkit(mols_organocatalyst, 'organocatalyst')"
   ]
  },
  {
   "cell_type": "code",
   "execution_count": 6,
   "id": "f61932c8-661c-4769-869e-95cf752920d0",
   "metadata": {},
   "outputs": [
    {
     "name": "stdout",
     "output_type": "stream",
     "text": [
      "(121, 208)\n",
      "(121, 208)\n"
     ]
    }
   ],
   "source": [
    "print(df_rdkit_r1.shape)\n",
    "print(df_rdkit_organocatalyst.shape)"
   ]
  },
  {
   "cell_type": "markdown",
   "id": "03d41cf3-835c-4318-b50e-1a4c54be7fae",
   "metadata": {},
   "source": [
    "# Mordred記述子の変換を行う"
   ]
  },
  {
   "cell_type": "code",
   "execution_count": 7,
   "id": "c78c28a9-8d9e-4c2d-8744-25d6e8d4f71e",
   "metadata": {},
   "outputs": [],
   "source": [
    "def toFingerMordred(mols):\n",
    "    mordered_calculator = Calculator(descriptors,ignore_3D=True)\n",
    "    df_mordred = mordered_calculator.pandas(pd.Series(mols))\n",
    "    \n",
    "    for column in df_mordred.columns:\n",
    "        if df_mordred[column].dtypes == object:\n",
    "            df_mordred[column] = df_mordred[column].values.astype(np.float32)\n",
    "    \n",
    "    df_mordered = df_mordred[df_mordred.columns[~df_mordred.isnull().any()]]\n",
    "    return df_mordered"
   ]
  },
  {
   "cell_type": "code",
   "execution_count": 8,
   "id": "dda1a91a-3120-4ef8-86c2-c20a6070dae6",
   "metadata": {},
   "outputs": [
    {
     "name": "stderr",
     "output_type": "stream",
     "text": [
      "100%|██████████████████████████████████████████████████████████████████████████████████████████████████████████████████████████████████████| 121/121 [00:21<00:00,  5.68it/s]\n",
      "100%|██████████████████████████████████████████████████████████████████████████████████████████████████████████████████████████████████████| 121/121 [00:26<00:00,  4.49it/s]\n"
     ]
    }
   ],
   "source": [
    "df_mordred_r1 = toFingerMordred(mols_r1)\n",
    "df_mordred_organocatalyst = toFingerMordred(mols_organocatalyst)"
   ]
  },
  {
   "cell_type": "code",
   "execution_count": 9,
   "id": "ade1a939-76a3-4bc2-89ae-ac83ebcb5fe3",
   "metadata": {},
   "outputs": [],
   "source": [
    "df_rdkit_r1.to_csv('./data/method4/rdkit_r1.csv')\n",
    "df_rdkit_organocatalyst.to_csv('./data/method4/rdkit_organocatalyst.csv')\n",
    "df_mordred_r1.to_csv('./data/method4/mordred_r1.csv')\n",
    "df_mordred_organocatalyst.to_csv('./data/method4/mordred_organocatalyst.csv')"
   ]
  },
  {
   "cell_type": "code",
   "execution_count": 10,
   "id": "c20b68d4-e470-464a-a06c-e06df984ac68",
   "metadata": {},
   "outputs": [],
   "source": [
    "df_dropped = df.drop(columns=['entry', 'R1-', 'organocatalyst'])\n",
    "r1_names = ['rdkit_r1','mordred_r1']\n",
    "organo_names = ['rdkit_organo', 'mordred_organo']\n",
    "\n",
    "for r1_name, df_r1 in zip(r1_names, [df_rdkit_r1,df_mordred_r1]):\n",
    "    for organo_name, df_organocatalyst in zip(organo_names, [df_rdkit_organocatalyst, df_mordred_organocatalyst]):\n",
    "        _df = pd.concat([df_dropped,df_r1, df_organocatalyst], axis=1)\n",
    "        _df.to_csv(f'./data/method4/dataset_{r1_name}_{organo_name}.csv')\n"
   ]
  },
  {
   "cell_type": "markdown",
   "id": "9f409095-7644-4b7f-8e76-8c6edb996c66",
   "metadata": {},
   "source": [
    "# 特徴量選択\n",
    "1. 分散0の説明変数を除去\n",
    "2. 9割以上が同じ値になる記述子を削除\n",
    "3. 0.95以上の説明変数の組みがある場合どちらかを除去\n",
    "4. オートスケーリング"
   ]
  },
  {
   "cell_type": "code",
   "execution_count": 11,
   "id": "0369237f-514a-44b6-9eae-287fadd734b3",
   "metadata": {},
   "outputs": [],
   "source": [
    "from sklearn.feature_selection import VarianceThreshold\n",
    "from sklearn import preprocessing\n",
    "from sklearn.preprocessing import StandardScaler\n",
    "\n",
    "def selectFeature(df):\n",
    "    select = VarianceThreshold()\n",
    "    select_values = select.fit_transform(df.values)\n",
    "    df_selected = df[df.columns[select.get_support()]]\n",
    "    \n",
    "    st_threshold = 0.9\n",
    "    selected = []\n",
    "    for column in df_selected:\n",
    "        value_counts = df_selected[column].value_counts(sort=True)\n",
    "        # 全体に対して何割同じ値があるか\n",
    "        score = value_counts.values[0] / len(df_selected[column].values)\n",
    "        if score < st_threshold:\n",
    "            selected.append(column)\n",
    "    df_selected = df_selected[selected]\n",
    "    \n",
    "    # 相関が0.95以上のカラムを除去\n",
    "    df_selected = deleteHighCorrColumn(df_selected)\n",
    "    \n",
    "    return df_selected\n",
    "        \n",
    "\n",
    "def deleteHighCorrColumn(df):\n",
    "    threshold = 0.95\n",
    "    df_corr = df.corr()\n",
    "    df_corr = abs(df_corr)\n",
    "    columns = df_corr.columns\n",
    "\n",
    "    # 対角線の値を0にする\n",
    "    for i in range(0, len(columns)):\n",
    "        df_corr.iloc[i, i] = 0\n",
    "\n",
    "    while True:\n",
    "        columns = df_corr.columns\n",
    "        max_corr = 0.0\n",
    "        query_column = None\n",
    "        target_column = None\n",
    "\n",
    "        df_max_column_value = df_corr.max()\n",
    "        max_corr = df_max_column_value.max()\n",
    "        query_column = df_max_column_value.idxmax()\n",
    "        target_column = df_corr[query_column].idxmax()\n",
    "\n",
    "        if max_corr < threshold:\n",
    "            # しきい値を超えるものがなかったため終了\n",
    "            break\n",
    "        else:\n",
    "            # しきい値を超えるものがあった場合\n",
    "            delete_column = None\n",
    "            saved_column = None\n",
    "\n",
    "            # その他との相関の絶対値が大きい方を除去\n",
    "            if sum(df_corr[query_column]) <= sum(df_corr[target_column]):\n",
    "                delete_column = target_column\n",
    "                saved_column = query_column\n",
    "            else:\n",
    "                delete_column = query_column\n",
    "                saved_column = target_column\n",
    "\n",
    "            # 除去すべき特徴を相関行列から消す（行、列）\n",
    "            df_corr.drop([delete_column], axis=0, inplace=True)\n",
    "            df_corr.drop([delete_column], axis=1, inplace=True)\n",
    "\n",
    "    return df[df_corr.columns]\n"
   ]
  },
  {
   "cell_type": "code",
   "execution_count": 12,
   "id": "7b07cd45-deb3-4ea8-a0f9-1e24cd2644fe",
   "metadata": {},
   "outputs": [],
   "source": [
    "df1 = pd.read_csv('./data/method4/dataset_mordred_r1_mordred_organo.csv',index_col=0)\n",
    "df2 = pd.read_csv('./data/method4/dataset_rdkit_r1_rdkit_organo.csv',index_col=0)\n",
    "df3 = pd.read_csv('./data/method4/dataset_rdkit_r1_mordred_organo.csv',index_col=0)\n",
    "df4 = pd.read_csv('./data/method4/dataset_mordred_r1_rdkit_organo.csv',index_col=0)"
   ]
  },
  {
   "cell_type": "code",
   "execution_count": 13,
   "id": "ab58b788-d51c-4675-a449-aec27934a4d9",
   "metadata": {},
   "outputs": [],
   "source": [
    "selectFeature(df1).to_csv('./data/method4/mordred_r1_mordred_organo.csv')\n",
    "selectFeature(df2).to_csv('./data/method4/rdkit_r1_rdkit_organo.csv')\n",
    "selectFeature(df3).to_csv('./data/method4/rdkit_r1_mordred_organo.csv')\n",
    "selectFeature(df4).to_csv('./data/method4/mordred_r1_rdkit_organo.csv')"
   ]
  },
  {
   "cell_type": "code",
   "execution_count": 14,
   "id": "104372c6-dcdc-475f-86a2-e9fa0f3c0b80",
   "metadata": {},
   "outputs": [
    {
     "name": "stderr",
     "output_type": "stream",
     "text": [
      "/Users/watanabeyuitou/opt/anaconda3/envs/chem/lib/python3.9/site-packages/tqdm/auto.py:22: TqdmWarning: IProgress not found. Please update jupyter and ipywidgets. See https://ipywidgets.readthedocs.io/en/stable/user_install.html\n",
      "  from .autonotebook import tqdm as notebook_tqdm\n"
     ]
    }
   ],
   "source": [
    "from sklearn.model_selection import train_test_split\n",
    "from sklearn import preprocessing\n",
    "from sklearn.preprocessing import StandardScaler\n",
    "\n",
    "\n",
    "def scale(df):\n",
    "    # scaling\n",
    "    X_train, X_test, y_train, y_test = train_test_split(df.drop(columns=['yield']), df['yield'], test_size=0.2, random_state=0)\n",
    "    ss = StandardScaler()\n",
    "    X_train_scaled = ss.fit_transform(X_train.values)\n",
    "    X_test_scaled = ss.transform(X_test.values)\n",
    "    return [X_train_scaled,X_test_scaled,y_train,y_test]\n",
    "\n",
    "import optuna\n",
    "from sklearn.model_selection import cross_val_score\n",
    "from lightgbm import LGBMRegressor\n",
    "def objective(trial, x, t, cv):\n",
    "    # 1. ハイパーパラメータごとに探索範囲を指定\n",
    "    n_estimaters = trial.suggest_int('n_estimators', 1, 100)\n",
    "    max_depth = trial.suggest_int('max_depth', 1, 10)\n",
    "    num_leaves = trial.suggest_int('num_leaves', 2, 10)\n",
    "    min_child_weight = trial.suggest_loguniform(\"min_child_weight\", 0.1, 10)\n",
    "    subsample = trial.suggest_uniform(\"subsample\",0.55, 0.95)    \n",
    "    colsample_bytree = trial.suggest_uniform(\"subsample\",0.55, 0.95)    \n",
    "\n",
    "    # 2. 学習に使用するアルゴリズムを指定\n",
    "    estimator = LGBMRegressor(\n",
    "        n_estimators=n_estimaters,\n",
    "        max_depth=max_depth,\n",
    "        num_leaves=num_leaves,\n",
    "        min_child_weight=min_child_weight,\n",
    "        subsample=subsample,\n",
    "        colsample_bytree= colsample_bytree,\n",
    "        random_state=43\n",
    "    )\n",
    "\n",
    "    # 3. 学習の実行、検証結果の表示\n",
    "    print('Current_params : ', trial.params)\n",
    "    r2 = cross_val_score(estimator, x, t, cv=cv, scoring=\"r2\").mean()\n",
    "    return r2"
   ]
  },
  {
   "cell_type": "code",
   "execution_count": 30,
   "id": "745cf72f-5db9-44d5-b649-3e8891423292",
   "metadata": {
    "collapsed": true,
    "jupyter": {
     "outputs_hidden": true
    },
    "tags": []
   },
   "outputs": [
    {
     "name": "stderr",
     "output_type": "stream",
     "text": [
      "\u001b[32m[I 2022-12-10 23:00:25,058]\u001b[0m A new study created in memory with name: no-name-d252d207-30d5-4a8f-af61-a343279372f5\u001b[0m\n"
     ]
    },
    {
     "name": "stdout",
     "output_type": "stream",
     "text": [
      "Current_params :  {'n_estimators': 12, 'max_depth': 2, 'num_leaves': 3, 'min_child_weight': 1.2164788335269772, 'subsample': 0.6241369188325241}\n"
     ]
    },
    {
     "name": "stderr",
     "output_type": "stream",
     "text": [
      "\u001b[32m[I 2022-12-10 23:00:25,443]\u001b[0m Trial 0 finished with value: 0.11220813574276396 and parameters: {'n_estimators': 12, 'max_depth': 2, 'num_leaves': 3, 'min_child_weight': 1.2164788335269772, 'subsample': 0.6241369188325241}. Best is trial 0 with value: 0.11220813574276396.\u001b[0m\n"
     ]
    },
    {
     "name": "stdout",
     "output_type": "stream",
     "text": [
      "Current_params :  {'n_estimators': 51, 'max_depth': 8, 'num_leaves': 6, 'min_child_weight': 4.180386663943176, 'subsample': 0.6536789564228686}\n"
     ]
    },
    {
     "name": "stderr",
     "output_type": "stream",
     "text": [
      "\u001b[32m[I 2022-12-10 23:00:25,861]\u001b[0m Trial 1 finished with value: 0.07198990708555988 and parameters: {'n_estimators': 51, 'max_depth': 8, 'num_leaves': 6, 'min_child_weight': 4.180386663943176, 'subsample': 0.6536789564228686}. Best is trial 0 with value: 0.11220813574276396.\u001b[0m\n",
      "\u001b[32m[I 2022-12-10 23:00:26,064]\u001b[0m Trial 2 finished with value: 0.089126845831709 and parameters: {'n_estimators': 47, 'max_depth': 1, 'num_leaves': 9, 'min_child_weight': 0.5785273306561051, 'subsample': 0.8095672150216993}. Best is trial 0 with value: 0.11220813574276396.\u001b[0m\n"
     ]
    },
    {
     "name": "stdout",
     "output_type": "stream",
     "text": [
      "Current_params :  {'n_estimators': 47, 'max_depth': 1, 'num_leaves': 9, 'min_child_weight': 0.5785273306561051, 'subsample': 0.8095672150216993}\n",
      "Current_params :  {'n_estimators': 83, 'max_depth': 5, 'num_leaves': 10, 'min_child_weight': 2.2299211973062323, 'subsample': 0.863162077379205}\n"
     ]
    },
    {
     "name": "stderr",
     "output_type": "stream",
     "text": [
      "\u001b[32m[I 2022-12-10 23:00:26,437]\u001b[0m Trial 3 finished with value: 0.08923697277249608 and parameters: {'n_estimators': 83, 'max_depth': 5, 'num_leaves': 10, 'min_child_weight': 2.2299211973062323, 'subsample': 0.863162077379205}. Best is trial 0 with value: 0.11220813574276396.\u001b[0m\n"
     ]
    },
    {
     "name": "stdout",
     "output_type": "stream",
     "text": [
      "Current_params :  {'n_estimators': 68, 'max_depth': 3, 'num_leaves': 10, 'min_child_weight': 7.507347574978578, 'subsample': 0.5731758691383185}\n"
     ]
    },
    {
     "name": "stderr",
     "output_type": "stream",
     "text": [
      "\u001b[32m[I 2022-12-10 23:00:26,829]\u001b[0m Trial 4 finished with value: 0.07962054825366133 and parameters: {'n_estimators': 68, 'max_depth': 3, 'num_leaves': 10, 'min_child_weight': 7.507347574978578, 'subsample': 0.5731758691383185}. Best is trial 0 with value: 0.11220813574276396.\u001b[0m\n"
     ]
    },
    {
     "name": "stdout",
     "output_type": "stream",
     "text": [
      "Current_params :  {'n_estimators': 98, 'max_depth': 3, 'num_leaves': 5, 'min_child_weight': 2.3217452727435166, 'subsample': 0.6576845818480185}\n"
     ]
    },
    {
     "name": "stderr",
     "output_type": "stream",
     "text": [
      "\u001b[32m[I 2022-12-10 23:00:27,295]\u001b[0m Trial 5 finished with value: 0.0877782213950807 and parameters: {'n_estimators': 98, 'max_depth': 3, 'num_leaves': 5, 'min_child_weight': 2.3217452727435166, 'subsample': 0.6576845818480185}. Best is trial 0 with value: 0.11220813574276396.\u001b[0m\n"
     ]
    },
    {
     "name": "stdout",
     "output_type": "stream",
     "text": [
      "Current_params :  {'n_estimators': 85, 'max_depth': 1, 'num_leaves': 5, 'min_child_weight': 0.7775904624571656, 'subsample': 0.6451296161739644}\n"
     ]
    },
    {
     "name": "stderr",
     "output_type": "stream",
     "text": [
      "\u001b[32m[I 2022-12-10 23:00:27,863]\u001b[0m Trial 6 finished with value: 0.09666116552876006 and parameters: {'n_estimators': 85, 'max_depth': 1, 'num_leaves': 5, 'min_child_weight': 0.7775904624571656, 'subsample': 0.6451296161739644}. Best is trial 0 with value: 0.11220813574276396.\u001b[0m\n"
     ]
    },
    {
     "name": "stdout",
     "output_type": "stream",
     "text": [
      "Current_params :  {'n_estimators': 84, 'max_depth': 3, 'num_leaves': 8, 'min_child_weight': 0.9539235779066783, 'subsample': 0.9088257006830371}\n"
     ]
    },
    {
     "name": "stderr",
     "output_type": "stream",
     "text": [
      "\u001b[32m[I 2022-12-10 23:00:28,404]\u001b[0m Trial 7 finished with value: 0.08618542483627427 and parameters: {'n_estimators': 84, 'max_depth': 3, 'num_leaves': 8, 'min_child_weight': 0.9539235779066783, 'subsample': 0.9088257006830371}. Best is trial 0 with value: 0.11220813574276396.\u001b[0m\n",
      "\u001b[32m[I 2022-12-10 23:00:28,604]\u001b[0m Trial 8 finished with value: 0.06709599630904876 and parameters: {'n_estimators': 41, 'max_depth': 2, 'num_leaves': 10, 'min_child_weight': 3.652377496316037, 'subsample': 0.6754275792883173}. Best is trial 0 with value: 0.11220813574276396.\u001b[0m\n"
     ]
    },
    {
     "name": "stdout",
     "output_type": "stream",
     "text": [
      "Current_params :  {'n_estimators': 41, 'max_depth': 2, 'num_leaves': 10, 'min_child_weight': 3.652377496316037, 'subsample': 0.6754275792883173}\n",
      "Current_params :  {'n_estimators': 62, 'max_depth': 8, 'num_leaves': 6, 'min_child_weight': 1.8404724935271828, 'subsample': 0.7906038444287573}\n"
     ]
    },
    {
     "name": "stderr",
     "output_type": "stream",
     "text": [
      "\u001b[32m[I 2022-12-10 23:00:28,871]\u001b[0m Trial 9 finished with value: 0.08057452544607253 and parameters: {'n_estimators': 62, 'max_depth': 8, 'num_leaves': 6, 'min_child_weight': 1.8404724935271828, 'subsample': 0.7906038444287573}. Best is trial 0 with value: 0.11220813574276396.\u001b[0m\n",
      "\u001b[32m[I 2022-12-10 23:00:29,027]\u001b[0m Trial 10 finished with value: -0.07136271253309699 and parameters: {'n_estimators': 2, 'max_depth': 10, 'num_leaves': 2, 'min_child_weight': 0.15636125811103635, 'subsample': 0.5523107924587567}. Best is trial 0 with value: 0.11220813574276396.\u001b[0m\n"
     ]
    },
    {
     "name": "stdout",
     "output_type": "stream",
     "text": [
      "Current_params :  {'n_estimators': 2, 'max_depth': 10, 'num_leaves': 2, 'min_child_weight': 0.15636125811103635, 'subsample': 0.5523107924587567}\n",
      "Current_params :  {'n_estimators': 17, 'max_depth': 1, 'num_leaves': 3, 'min_child_weight': 0.38871579059784134, 'subsample': 0.7143940792324102}\n"
     ]
    },
    {
     "name": "stderr",
     "output_type": "stream",
     "text": [
      "\u001b[32m[I 2022-12-10 23:00:29,219]\u001b[0m Trial 11 finished with value: 0.08056164498810287 and parameters: {'n_estimators': 17, 'max_depth': 1, 'num_leaves': 3, 'min_child_weight': 0.38871579059784134, 'subsample': 0.7143940792324102}. Best is trial 0 with value: 0.11220813574276396.\u001b[0m\n",
      "\u001b[32m[I 2022-12-10 23:00:29,415]\u001b[0m Trial 12 finished with value: 0.08469034647932237 and parameters: {'n_estimators': 25, 'max_depth': 5, 'num_leaves': 4, 'min_child_weight': 0.406596204529976, 'subsample': 0.5989994773364407}. Best is trial 0 with value: 0.11220813574276396.\u001b[0m\n"
     ]
    },
    {
     "name": "stdout",
     "output_type": "stream",
     "text": [
      "Current_params :  {'n_estimators': 25, 'max_depth': 5, 'num_leaves': 4, 'min_child_weight': 0.406596204529976, 'subsample': 0.5989994773364407}\n",
      "Current_params :  {'n_estimators': 29, 'max_depth': 1, 'num_leaves': 4, 'min_child_weight': 0.8932356245535545, 'subsample': 0.6274223438674017}\n"
     ]
    },
    {
     "name": "stderr",
     "output_type": "stream",
     "text": [
      "\u001b[32m[I 2022-12-10 23:00:29,641]\u001b[0m Trial 13 finished with value: 0.07304171829607717 and parameters: {'n_estimators': 29, 'max_depth': 1, 'num_leaves': 4, 'min_child_weight': 0.8932356245535545, 'subsample': 0.6274223438674017}. Best is trial 0 with value: 0.11220813574276396.\u001b[0m\n",
      "\u001b[32m[I 2022-12-10 23:00:29,792]\u001b[0m Trial 14 finished with value: 0.01885362747264956 and parameters: {'n_estimators': 5, 'max_depth': 4, 'num_leaves': 2, 'min_child_weight': 0.21005374877117963, 'subsample': 0.7237717055055157}. Best is trial 0 with value: 0.11220813574276396.\u001b[0m\n"
     ]
    },
    {
     "name": "stdout",
     "output_type": "stream",
     "text": [
      "Current_params :  {'n_estimators': 5, 'max_depth': 4, 'num_leaves': 2, 'min_child_weight': 0.21005374877117963, 'subsample': 0.7237717055055157}\n",
      "Current_params :  {'n_estimators': 72, 'max_depth': 6, 'num_leaves': 7, 'min_child_weight': 1.3094303404882959, 'subsample': 0.766175050751789}\n"
     ]
    },
    {
     "name": "stderr",
     "output_type": "stream",
     "text": [
      "\u001b[32m[I 2022-12-10 23:00:30,135]\u001b[0m Trial 15 finished with value: 0.08684913928345792 and parameters: {'n_estimators': 72, 'max_depth': 6, 'num_leaves': 7, 'min_child_weight': 1.3094303404882959, 'subsample': 0.766175050751789}. Best is trial 0 with value: 0.11220813574276396.\u001b[0m\n"
     ]
    },
    {
     "name": "stdout",
     "output_type": "stream",
     "text": [
      "Current_params :  {'n_estimators': 100, 'max_depth': 2, 'num_leaves': 4, 'min_child_weight': 0.5960154280175576, 'subsample': 0.6960391735557611}\n"
     ]
    },
    {
     "name": "stderr",
     "output_type": "stream",
     "text": [
      "\u001b[32m[I 2022-12-10 23:00:30,500]\u001b[0m Trial 16 finished with value: 0.09264357157624326 and parameters: {'n_estimators': 100, 'max_depth': 2, 'num_leaves': 4, 'min_child_weight': 0.5960154280175576, 'subsample': 0.6960391735557611}. Best is trial 0 with value: 0.11220813574276396.\u001b[0m\n"
     ]
    },
    {
     "name": "stdout",
     "output_type": "stream",
     "text": [
      "Current_params :  {'n_estimators': 40, 'max_depth': 7, 'num_leaves': 5, 'min_child_weight': 0.25832173659461527, 'subsample': 0.6057811922645997}\n"
     ]
    },
    {
     "name": "stderr",
     "output_type": "stream",
     "text": [
      "\u001b[32m[I 2022-12-10 23:00:30,716]\u001b[0m Trial 17 finished with value: 0.0559374091930244 and parameters: {'n_estimators': 40, 'max_depth': 7, 'num_leaves': 5, 'min_child_weight': 0.25832173659461527, 'subsample': 0.6057811922645997}. Best is trial 0 with value: 0.11220813574276396.\u001b[0m\n"
     ]
    },
    {
     "name": "stdout",
     "output_type": "stream",
     "text": [
      "Current_params :  {'n_estimators': 58, 'max_depth': 2, 'num_leaves': 3, 'min_child_weight': 0.11654308232818143, 'subsample': 0.6299491579906329}\n"
     ]
    },
    {
     "name": "stderr",
     "output_type": "stream",
     "text": [
      "\u001b[32m[I 2022-12-10 23:00:30,969]\u001b[0m Trial 18 finished with value: 0.07877502561277766 and parameters: {'n_estimators': 58, 'max_depth': 2, 'num_leaves': 3, 'min_child_weight': 0.11654308232818143, 'subsample': 0.6299491579906329}. Best is trial 0 with value: 0.11220813574276396.\u001b[0m\n"
     ]
    },
    {
     "name": "stdout",
     "output_type": "stream",
     "text": [
      "Current_params :  {'n_estimators': 80, 'max_depth': 4, 'num_leaves': 5, 'min_child_weight': 1.23788014002978, 'subsample': 0.7615596592768024}\n"
     ]
    },
    {
     "name": "stderr",
     "output_type": "stream",
     "text": [
      "\u001b[32m[I 2022-12-10 23:00:31,281]\u001b[0m Trial 19 finished with value: 0.08993851737434436 and parameters: {'n_estimators': 80, 'max_depth': 4, 'num_leaves': 5, 'min_child_weight': 1.23788014002978, 'subsample': 0.7615596592768024}. Best is trial 0 with value: 0.11220813574276396.\u001b[0m\n",
      "\u001b[32m[I 2022-12-10 23:00:31,452]\u001b[0m Trial 20 finished with value: 0.10503731903861598 and parameters: {'n_estimators': 14, 'max_depth': 4, 'num_leaves': 7, 'min_child_weight': 0.6334691483354666, 'subsample': 0.584344409632916}. Best is trial 0 with value: 0.11220813574276396.\u001b[0m\n"
     ]
    },
    {
     "name": "stdout",
     "output_type": "stream",
     "text": [
      "Current_params :  {'n_estimators': 14, 'max_depth': 4, 'num_leaves': 7, 'min_child_weight': 0.6334691483354666, 'subsample': 0.584344409632916}\n",
      "Current_params :  {'n_estimators': 14, 'max_depth': 4, 'num_leaves': 7, 'min_child_weight': 0.6458567989357992, 'subsample': 0.5879940016069644}\n"
     ]
    },
    {
     "name": "stderr",
     "output_type": "stream",
     "text": [
      "\u001b[32m[I 2022-12-10 23:00:31,648]\u001b[0m Trial 21 finished with value: 0.10503731903861598 and parameters: {'n_estimators': 14, 'max_depth': 4, 'num_leaves': 7, 'min_child_weight': 0.6458567989357992, 'subsample': 0.5879940016069644}. Best is trial 0 with value: 0.11220813574276396.\u001b[0m\n",
      "\u001b[32m[I 2022-12-10 23:00:31,809]\u001b[0m Trial 22 finished with value: 0.10112481208229321 and parameters: {'n_estimators': 14, 'max_depth': 4, 'num_leaves': 7, 'min_child_weight': 0.39067267893481267, 'subsample': 0.5787562218854615}. Best is trial 0 with value: 0.11220813574276396.\u001b[0m\n"
     ]
    },
    {
     "name": "stdout",
     "output_type": "stream",
     "text": [
      "Current_params :  {'n_estimators': 14, 'max_depth': 4, 'num_leaves': 7, 'min_child_weight': 0.39067267893481267, 'subsample': 0.5787562218854615}\n",
      "Current_params :  {'n_estimators': 13, 'max_depth': 6, 'num_leaves': 7, 'min_child_weight': 1.522134586660042, 'subsample': 0.5502729602721841}\n"
     ]
    },
    {
     "name": "stderr",
     "output_type": "stream",
     "text": [
      "\u001b[32m[I 2022-12-10 23:00:31,994]\u001b[0m Trial 23 finished with value: 0.11137817080155554 and parameters: {'n_estimators': 13, 'max_depth': 6, 'num_leaves': 7, 'min_child_weight': 1.522134586660042, 'subsample': 0.5502729602721841}. Best is trial 0 with value: 0.11220813574276396.\u001b[0m\n",
      "\u001b[32m[I 2022-12-10 23:00:32,194]\u001b[0m Trial 24 finished with value: 0.08311681860152585 and parameters: {'n_estimators': 28, 'max_depth': 6, 'num_leaves': 8, 'min_child_weight': 1.5513950968961354, 'subsample': 0.5506933357424906}. Best is trial 0 with value: 0.11220813574276396.\u001b[0m\n"
     ]
    },
    {
     "name": "stdout",
     "output_type": "stream",
     "text": [
      "Current_params :  {'n_estimators': 28, 'max_depth': 6, 'num_leaves': 8, 'min_child_weight': 1.5513950968961354, 'subsample': 0.5506933357424906}\n"
     ]
    },
    {
     "name": "stderr",
     "output_type": "stream",
     "text": [
      "\u001b[32m[I 2022-12-10 23:00:32,373]\u001b[0m Trial 25 finished with value: 0.0886576036170131 and parameters: {'n_estimators': 8, 'max_depth': 7, 'num_leaves': 8, 'min_child_weight': 3.191606729813476, 'subsample': 0.606466510282906}. Best is trial 0 with value: 0.11220813574276396.\u001b[0m\n"
     ]
    },
    {
     "name": "stdout",
     "output_type": "stream",
     "text": [
      "Current_params :  {'n_estimators': 8, 'max_depth': 7, 'num_leaves': 8, 'min_child_weight': 3.191606729813476, 'subsample': 0.606466510282906}\n",
      "Current_params :  {'n_estimators': 20, 'max_depth': 5, 'num_leaves': 7, 'min_child_weight': 5.994098619458045, 'subsample': 0.6187880664580623}\n"
     ]
    },
    {
     "name": "stderr",
     "output_type": "stream",
     "text": [
      "\u001b[32m[I 2022-12-10 23:00:32,666]\u001b[0m Trial 26 finished with value: 0.08772121103288957 and parameters: {'n_estimators': 20, 'max_depth': 5, 'num_leaves': 7, 'min_child_weight': 5.994098619458045, 'subsample': 0.6187880664580623}. Best is trial 0 with value: 0.11220813574276396.\u001b[0m\n"
     ]
    },
    {
     "name": "stdout",
     "output_type": "stream",
     "text": [
      "Current_params :  {'n_estimators': 34, 'max_depth': 10, 'num_leaves': 6, 'min_child_weight': 1.1994888636697383, 'subsample': 0.554451451673661}\n"
     ]
    },
    {
     "name": "stderr",
     "output_type": "stream",
     "text": [
      "\u001b[32m[I 2022-12-10 23:00:33,006]\u001b[0m Trial 27 finished with value: 0.06803280110864642 and parameters: {'n_estimators': 34, 'max_depth': 10, 'num_leaves': 6, 'min_child_weight': 1.1994888636697383, 'subsample': 0.554451451673661}. Best is trial 0 with value: 0.11220813574276396.\u001b[0m\n"
     ]
    },
    {
     "name": "stdout",
     "output_type": "stream",
     "text": [
      "Current_params :  {'n_estimators': 8, 'max_depth': 7, 'num_leaves': 9, 'min_child_weight': 2.10884374418124, 'subsample': 0.6792033003668385}\n"
     ]
    },
    {
     "name": "stderr",
     "output_type": "stream",
     "text": [
      "\u001b[32m[I 2022-12-10 23:00:33,242]\u001b[0m Trial 28 finished with value: 0.08068698461063258 and parameters: {'n_estimators': 8, 'max_depth': 7, 'num_leaves': 9, 'min_child_weight': 2.10884374418124, 'subsample': 0.6792033003668385}. Best is trial 0 with value: 0.11220813574276396.\u001b[0m\n"
     ]
    },
    {
     "name": "stdout",
     "output_type": "stream",
     "text": [
      "Current_params :  {'n_estimators': 22, 'max_depth': 9, 'num_leaves': 6, 'min_child_weight': 4.713905114367304, 'subsample': 0.6602464653919672}\n"
     ]
    },
    {
     "name": "stderr",
     "output_type": "stream",
     "text": [
      "\u001b[32m[I 2022-12-10 23:00:33,529]\u001b[0m Trial 29 finished with value: 0.08463205380268427 and parameters: {'n_estimators': 22, 'max_depth': 9, 'num_leaves': 6, 'min_child_weight': 4.713905114367304, 'subsample': 0.6602464653919672}. Best is trial 0 with value: 0.11220813574276396.\u001b[0m\n"
     ]
    },
    {
     "name": "stdout",
     "output_type": "stream",
     "text": [
      "Current_params :  {'n_estimators': 34, 'max_depth': 6, 'num_leaves': 9, 'min_child_weight': 2.756359175873123, 'subsample': 0.5825108839288007}\n"
     ]
    },
    {
     "name": "stderr",
     "output_type": "stream",
     "text": [
      "\u001b[32m[I 2022-12-10 23:00:33,923]\u001b[0m Trial 30 finished with value: 0.06414701784015983 and parameters: {'n_estimators': 34, 'max_depth': 6, 'num_leaves': 9, 'min_child_weight': 2.756359175873123, 'subsample': 0.5825108839288007}. Best is trial 0 with value: 0.11220813574276396.\u001b[0m\n"
     ]
    },
    {
     "name": "stdout",
     "output_type": "stream",
     "text": [
      "Current_params :  {'n_estimators': 14, 'max_depth': 4, 'num_leaves': 7, 'min_child_weight': 0.5500837314750207, 'subsample': 0.5848824950122714}\n"
     ]
    },
    {
     "name": "stderr",
     "output_type": "stream",
     "text": [
      "\u001b[32m[I 2022-12-10 23:00:34,228]\u001b[0m Trial 31 finished with value: 0.10503731903861598 and parameters: {'n_estimators': 14, 'max_depth': 4, 'num_leaves': 7, 'min_child_weight': 0.5500837314750207, 'subsample': 0.5848824950122714}. Best is trial 0 with value: 0.11220813574276396.\u001b[0m\n"
     ]
    },
    {
     "name": "stdout",
     "output_type": "stream",
     "text": [
      "Current_params :  {'n_estimators': 12, 'max_depth': 3, 'num_leaves': 8, 'min_child_weight': 0.5608331462243309, 'subsample': 0.6345857010004454}\n"
     ]
    },
    {
     "name": "stderr",
     "output_type": "stream",
     "text": [
      "\u001b[32m[I 2022-12-10 23:00:34,513]\u001b[0m Trial 32 finished with value: 0.10847589358099949 and parameters: {'n_estimators': 12, 'max_depth': 3, 'num_leaves': 8, 'min_child_weight': 0.5608331462243309, 'subsample': 0.6345857010004454}. Best is trial 0 with value: 0.11220813574276396.\u001b[0m\n"
     ]
    },
    {
     "name": "stdout",
     "output_type": "stream",
     "text": [
      "Current_params :  {'n_estimators': 9, 'max_depth': 3, 'num_leaves': 8, 'min_child_weight': 0.8350842567234801, 'subsample': 0.6336178136694688}\n"
     ]
    },
    {
     "name": "stderr",
     "output_type": "stream",
     "text": [
      "\u001b[32m[I 2022-12-10 23:00:34,755]\u001b[0m Trial 33 finished with value: 0.08969059672046166 and parameters: {'n_estimators': 9, 'max_depth': 3, 'num_leaves': 8, 'min_child_weight': 0.8350842567234801, 'subsample': 0.6336178136694688}. Best is trial 0 with value: 0.11220813574276396.\u001b[0m\n"
     ]
    },
    {
     "name": "stdout",
     "output_type": "stream",
     "text": [
      "Current_params :  {'n_estimators': 48, 'max_depth': 2, 'num_leaves': 9, 'min_child_weight': 0.4405792571317713, 'subsample': 0.7322628449803689}\n"
     ]
    },
    {
     "name": "stderr",
     "output_type": "stream",
     "text": [
      "\u001b[32m[I 2022-12-10 23:00:35,125]\u001b[0m Trial 34 finished with value: 0.06312924722987501 and parameters: {'n_estimators': 48, 'max_depth': 2, 'num_leaves': 9, 'min_child_weight': 0.4405792571317713, 'subsample': 0.7322628449803689}. Best is trial 0 with value: 0.11220813574276396.\u001b[0m\n",
      "\u001b[32m[I 2022-12-10 23:00:35,317]\u001b[0m Trial 35 finished with value: -0.05962049330683687 and parameters: {'n_estimators': 2, 'max_depth': 5, 'num_leaves': 6, 'min_child_weight': 1.5978441474747986, 'subsample': 0.9408446347279049}. Best is trial 0 with value: 0.11220813574276396.\u001b[0m\n"
     ]
    },
    {
     "name": "stdout",
     "output_type": "stream",
     "text": [
      "Current_params :  {'n_estimators': 2, 'max_depth': 5, 'num_leaves': 6, 'min_child_weight': 1.5978441474747986, 'subsample': 0.9408446347279049}\n",
      "Current_params :  {'n_estimators': 19, 'max_depth': 3, 'num_leaves': 8, 'min_child_weight': 0.7201109206941759, 'subsample': 0.8581437412812409}\n"
     ]
    },
    {
     "name": "stderr",
     "output_type": "stream",
     "text": [
      "\u001b[32m[I 2022-12-10 23:00:35,569]\u001b[0m Trial 36 finished with value: 0.09064436382220106 and parameters: {'n_estimators': 19, 'max_depth': 3, 'num_leaves': 8, 'min_child_weight': 0.7201109206941759, 'subsample': 0.8581437412812409}. Best is trial 0 with value: 0.11220813574276396.\u001b[0m\n",
      "\u001b[32m[I 2022-12-10 23:00:35,763]\u001b[0m Trial 37 finished with value: 0.09153389528530526 and parameters: {'n_estimators': 10, 'max_depth': 2, 'num_leaves': 7, 'min_child_weight': 0.5304166972220113, 'subsample': 0.655568742324027}. Best is trial 0 with value: 0.11220813574276396.\u001b[0m\n"
     ]
    },
    {
     "name": "stdout",
     "output_type": "stream",
     "text": [
      "Current_params :  {'n_estimators': 10, 'max_depth': 2, 'num_leaves': 7, 'min_child_weight': 0.5304166972220113, 'subsample': 0.655568742324027}\n",
      "Current_params :  {'n_estimators': 32, 'max_depth': 3, 'num_leaves': 8, 'min_child_weight': 0.2877082888035903, 'subsample': 0.5660539759153309}\n"
     ]
    },
    {
     "name": "stderr",
     "output_type": "stream",
     "text": [
      "\u001b[32m[I 2022-12-10 23:00:36,030]\u001b[0m Trial 38 finished with value: 0.06880672556805864 and parameters: {'n_estimators': 32, 'max_depth': 3, 'num_leaves': 8, 'min_child_weight': 0.2877082888035903, 'subsample': 0.5660539759153309}. Best is trial 0 with value: 0.11220813574276396.\u001b[0m\n"
     ]
    },
    {
     "name": "stdout",
     "output_type": "stream",
     "text": [
      "Current_params :  {'n_estimators': 24, 'max_depth': 5, 'num_leaves': 9, 'min_child_weight': 1.0995648497701513, 'subsample': 0.6865285412338948}\n"
     ]
    },
    {
     "name": "stderr",
     "output_type": "stream",
     "text": [
      "\u001b[32m[I 2022-12-10 23:00:36,272]\u001b[0m Trial 39 finished with value: 0.08732106642278603 and parameters: {'n_estimators': 24, 'max_depth': 5, 'num_leaves': 9, 'min_child_weight': 1.0995648497701513, 'subsample': 0.6865285412338948}. Best is trial 0 with value: 0.11220813574276396.\u001b[0m\n"
     ]
    },
    {
     "name": "stdout",
     "output_type": "stream",
     "text": [
      "Current_params :  {'n_estimators': 39, 'max_depth': 3, 'num_leaves': 5, 'min_child_weight': 0.49412645694706936, 'subsample': 0.609224188432492}\n"
     ]
    },
    {
     "name": "stderr",
     "output_type": "stream",
     "text": [
      "\u001b[32m[I 2022-12-10 23:00:36,579]\u001b[0m Trial 40 finished with value: 0.05394326282308722 and parameters: {'n_estimators': 39, 'max_depth': 3, 'num_leaves': 5, 'min_child_weight': 0.49412645694706936, 'subsample': 0.609224188432492}. Best is trial 0 with value: 0.11220813574276396.\u001b[0m\n",
      "\u001b[32m[I 2022-12-10 23:00:36,759]\u001b[0m Trial 41 finished with value: 0.10892961724181367 and parameters: {'n_estimators': 13, 'max_depth': 4, 'num_leaves': 7, 'min_child_weight': 0.31484419735226293, 'subsample': 0.5898594780024615}. Best is trial 0 with value: 0.11220813574276396.\u001b[0m\n"
     ]
    },
    {
     "name": "stdout",
     "output_type": "stream",
     "text": [
      "Current_params :  {'n_estimators': 13, 'max_depth': 4, 'num_leaves': 7, 'min_child_weight': 0.31484419735226293, 'subsample': 0.5898594780024615}\n",
      "Current_params :  {'n_estimators': 14, 'max_depth': 4, 'num_leaves': 7, 'min_child_weight': 0.2534738800243285, 'subsample': 0.5692268209092751}\n"
     ]
    },
    {
     "name": "stderr",
     "output_type": "stream",
     "text": [
      "\u001b[32m[I 2022-12-10 23:00:36,932]\u001b[0m Trial 42 finished with value: 0.10370354661572889 and parameters: {'n_estimators': 14, 'max_depth': 4, 'num_leaves': 7, 'min_child_weight': 0.2534738800243285, 'subsample': 0.5692268209092751}. Best is trial 0 with value: 0.11220813574276396.\u001b[0m\n",
      "\u001b[32m[I 2022-12-10 23:00:37,063]\u001b[0m Trial 43 finished with value: -0.017160272773835205 and parameters: {'n_estimators': 3, 'max_depth': 3, 'num_leaves': 8, 'min_child_weight': 0.29363850610666054, 'subsample': 0.6475958947350023}. Best is trial 0 with value: 0.11220813574276396.\u001b[0m\n"
     ]
    },
    {
     "name": "stdout",
     "output_type": "stream",
     "text": [
      "Current_params :  {'n_estimators': 3, 'max_depth': 3, 'num_leaves': 8, 'min_child_weight': 0.29363850610666054, 'subsample': 0.6475958947350023}\n",
      "Current_params :  {'n_estimators': 18, 'max_depth': 5, 'num_leaves': 6, 'min_child_weight': 9.386094071643512, 'subsample': 0.5950775184415296}\n"
     ]
    },
    {
     "name": "stderr",
     "output_type": "stream",
     "text": [
      "\u001b[32m[I 2022-12-10 23:00:37,239]\u001b[0m Trial 44 finished with value: 0.08966946308429055 and parameters: {'n_estimators': 18, 'max_depth': 5, 'num_leaves': 6, 'min_child_weight': 9.386094071643512, 'subsample': 0.5950775184415296}. Best is trial 0 with value: 0.11220813574276396.\u001b[0m\n",
      "\u001b[32m[I 2022-12-10 23:00:37,409]\u001b[0m Trial 45 finished with value: 0.069582946635047 and parameters: {'n_estimators': 26, 'max_depth': 1, 'num_leaves': 6, 'min_child_weight': 0.16536000936875203, 'subsample': 0.8445750950081075}. Best is trial 0 with value: 0.11220813574276396.\u001b[0m\n"
     ]
    },
    {
     "name": "stdout",
     "output_type": "stream",
     "text": [
      "Current_params :  {'n_estimators': 26, 'max_depth': 1, 'num_leaves': 6, 'min_child_weight': 0.16536000936875203, 'subsample': 0.8445750950081075}\n",
      "Current_params :  {'n_estimators': 11, 'max_depth': 2, 'num_leaves': 10, 'min_child_weight': 0.9725139184448587, 'subsample': 0.6196063661827975}\n"
     ]
    },
    {
     "name": "stderr",
     "output_type": "stream",
     "text": [
      "\u001b[32m[I 2022-12-10 23:00:37,562]\u001b[0m Trial 46 finished with value: 0.10809035855912294 and parameters: {'n_estimators': 11, 'max_depth': 2, 'num_leaves': 10, 'min_child_weight': 0.9725139184448587, 'subsample': 0.6196063661827975}. Best is trial 0 with value: 0.11220813574276396.\u001b[0m\n",
      "\u001b[32m[I 2022-12-10 23:00:37,710]\u001b[0m Trial 47 finished with value: 0.05253163957149416 and parameters: {'n_estimators': 6, 'max_depth': 2, 'num_leaves': 10, 'min_child_weight': 0.9276852865170292, 'subsample': 0.6654146656460458}. Best is trial 0 with value: 0.11220813574276396.\u001b[0m\n"
     ]
    },
    {
     "name": "stdout",
     "output_type": "stream",
     "text": [
      "Current_params :  {'n_estimators': 6, 'max_depth': 2, 'num_leaves': 10, 'min_child_weight': 0.9276852865170292, 'subsample': 0.6654146656460458}\n",
      "Current_params :  {'n_estimators': 11, 'max_depth': 1, 'num_leaves': 10, 'min_child_weight': 1.9818075567236961, 'subsample': 0.6340057060877586}\n"
     ]
    },
    {
     "name": "stderr",
     "output_type": "stream",
     "text": [
      "\u001b[32m[I 2022-12-10 23:00:37,860]\u001b[0m Trial 48 finished with value: 0.08514365653523337 and parameters: {'n_estimators': 11, 'max_depth': 1, 'num_leaves': 10, 'min_child_weight': 1.9818075567236961, 'subsample': 0.6340057060877586}. Best is trial 0 with value: 0.11220813574276396.\u001b[0m\n"
     ]
    },
    {
     "name": "stdout",
     "output_type": "stream",
     "text": [
      "Current_params :  {'n_estimators': 92, 'max_depth': 2, 'num_leaves': 3, 'min_child_weight': 1.6278325750762435, 'subsample': 0.7001814770158776}\n"
     ]
    },
    {
     "name": "stderr",
     "output_type": "stream",
     "text": [
      "\u001b[32m[I 2022-12-10 23:00:38,162]\u001b[0m Trial 49 finished with value: 0.08983088135109608 and parameters: {'n_estimators': 92, 'max_depth': 2, 'num_leaves': 3, 'min_child_weight': 1.6278325750762435, 'subsample': 0.7001814770158776}. Best is trial 0 with value: 0.11220813574276396.\u001b[0m\n"
     ]
    }
   ],
   "source": [
    "# study オブジェクトの作成（最大化）\n",
    "study = optuna.create_study(direction='maximize')\n",
    "# 10分割交差検証によるチューニング\n",
    "cv = 10\n",
    "[X_train_scaled,X_test_scaled,y_train,y_test] = scale(df4)\n",
    "study.optimize(lambda trial: objective(trial, X_train_scaled, y_train, cv), n_trials=50)"
   ]
  },
  {
   "cell_type": "code",
   "execution_count": 31,
   "id": "0dfa846d-731f-4484-8d98-ff47bbaee73f",
   "metadata": {},
   "outputs": [
    {
     "data": {
      "image/png": "[encoded data removed]",
      "text/plain": [
       "<Figure size 1800x500 with 2 Axes>"
      ]
     },
     "metadata": {},
     "output_type": "display_data"
    },
    {
     "name": "stdout",
     "output_type": "stream",
     "text": [
      "$R^{2}$=0.263\n",
      "$R^{2}$=-8.185\n"
     ]
    }
   ],
   "source": [
    "best_params = study.best_params\n",
    "best_model = LGBMRegressor(**best_params)\n",
    "%matplotlib inline\n",
    "import matplotlib.pyplot as plt\n",
    "from sklearn.model_selection import cross_val_predict\n",
    "from sklearn.metrics import r2_score\n",
    "plt.rcParams['font.family'] = \"DejaVu Serif\"\n",
    "\n",
    "# 予測値を算出)\n",
    "best_model.fit(X_train_scaled, y_train)\n",
    "train_y_in_cv = cross_val_predict(best_model, X_train_scaled, y_train, cv=10)\n",
    "predict_y = best_model.predict(X_test_scaled)\n",
    "\n",
    "fig = plt.figure(figsize=(18.0, 5.0))\n",
    "plt.subplot(121)\n",
    "plt.title('Q1')\n",
    "plt.xlabel('pred')\n",
    "plt.ylabel('real')\n",
    "plt.scatter(train_y_in_cv, y_train)\n",
    "yvalues = np.concatenate([train_y_in_cv, y_train])\n",
    "ymin, ymax, yrange = np.amin(yvalues), np.amax(yvalues), np.ptp(yvalues)\n",
    "plt.xlim(ymin - yrange * 0.01, ymax + yrange * 0.01)\n",
    "plt.ylim(ymin - yrange * 0.01, ymax + yrange * 0.01)\n",
    "plt.plot([ymin - yrange * 0.01, ymax + yrange * 0.01], [ymin - yrange * 0.01, ymax + yrange * 0.01])\n",
    "\n",
    "plt.subplot(122)\n",
    "plt.title('predict')\n",
    "plt.xlabel('pred')\n",
    "plt.ylabel('real')\n",
    "plt.scatter(predict_y, y_test)\n",
    "yvalues = np.concatenate([predict_y, y_test])\n",
    "ymin, ymax, yrange = np.amin(yvalues), np.amax(yvalues), np.ptp(yvalues)\n",
    "plt.xlim(ymin - yrange * 0.01, ymax + yrange * 0.01)\n",
    "plt.ylim(ymin - yrange * 0.01, ymax + yrange * 0.01)\n",
    "plt.plot([ymin - yrange * 0.01, ymax + yrange * 0.01], [ymin - yrange * 0.01, ymax + yrange * 0.01])\n",
    "\n",
    "plt.show()\n",
    "\n",
    "\n",
    "\n",
    "print('$R^{2}$=' + str(round(r2_score(y_train, train_y_in_cv), 3)))\n",
    "print('$R^{2}$=' + str(round(r2_score(predict_y, y_test), 3)))"
   ]
  },
  {
   "cell_type": "code",
   "execution_count": 28,
   "id": "cf4c87db-03bb-4f5e-8d6a-371163598302",
   "metadata": {},
   "outputs": [
    {
     "data": {
      "text/plain": [
       "Index(['organocatalyst(mol%)', 'temp(℃)', 'time(h)', 'yield', 'R2_C', 'R2_H',\n",
       "       'under_O2', 'under_air', 'solvent_CH3CN', 'solvent_DMF',\n",
       "       ...\n",
       "       'SRW10', 'TSRW10', 'MW', 'AMW', 'WPath', 'WPol', 'Zagreb1', 'Zagreb2',\n",
       "       'mZagreb1', 'mZagreb2'],\n",
       "      dtype='object', length=1443)"
      ]
     },
     "execution_count": 28,
     "metadata": {},
     "output_type": "execute_result"
    }
   ],
   "source": [
    "df3.columns"
   ]
  },
  {
   "cell_type": "code",
   "execution_count": 35,
   "id": "1c74cdd6-de9a-4dde-a3d6-2b7f3c806fec",
   "metadata": {},
   "outputs": [
    {
     "data": {
      "text/plain": [
       "False    1443\n",
       "dtype: int64"
      ]
     },
     "execution_count": 35,
     "metadata": {},
     "output_type": "execute_result"
    }
   ],
   "source": [
    "df3.isna().any().value_counts()"
   ]
  },
  {
   "cell_type": "code",
   "execution_count": null,
   "id": "2d802a36-e996-4511-8449-504d92e19b5e",
   "metadata": {},
   "outputs": [],
   "source": []
  }
 ],
 "metadata": {
  "kernelspec": {
   "display_name": "Python 3 (ipykernel)",
   "language": "python",
   "name": "python3"
  },
  "language_info": {
   "codemirror_mode": {
    "name": "ipython",
    "version": 3
   },
   "file_extension": ".py",
   "mimetype": "text/x-python",
   "name": "python",
   "nbconvert_exporter": "python",
   "pygments_lexer": "ipython3",
   "version": "3.9.13"
  }
 },
 "nbformat": 4,
 "nbformat_minor": 5
}
