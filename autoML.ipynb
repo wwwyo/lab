{
 "cells": [
  {
   "cell_type": "code",
   "execution_count": 81,
   "id": "2c0aca5b-54b4-4584-803f-e550457b5ce5",
   "metadata": {},
   "outputs": [],
   "source": [
    "import numpy as np\n",
    "import pandas as pd\n",
    "from rdkit import rdBase, Chem\n",
    "from rdkit.Chem import AllChem, Descriptors\n",
    "from rdkit.ML.Descriptors import MoleculeDescriptors\n",
    "from mordred import Calculator, descriptors\n",
    "import mordred"
   ]
  },
  {
   "cell_type": "code",
   "execution_count": 98,
   "id": "1ab5a462-3a14-4c7c-bfc6-53d9fcb21eb0",
   "metadata": {},
   "outputs": [
    {
     "data": {
      "text/html": [
       "<div>\n",
       "<style scoped>\n",
       "    .dataframe tbody tr th:only-of-type {\n",
       "        vertical-align: middle;\n",
       "    }\n",
       "\n",
       "    .dataframe tbody tr th {\n",
       "        vertical-align: top;\n",
       "    }\n",
       "\n",
       "    .dataframe thead th {\n",
       "        text-align: right;\n",
       "    }\n",
       "</style>\n",
       "<table border=\"1\" class=\"dataframe\">\n",
       "  <thead>\n",
       "    <tr style=\"text-align: right;\">\n",
       "      <th></th>\n",
       "      <th>entry</th>\n",
       "      <th>R1-</th>\n",
       "      <th>organocatalyst</th>\n",
       "      <th>organocatalyst(mol%)</th>\n",
       "      <th>temp(℃)</th>\n",
       "      <th>time(h)</th>\n",
       "      <th>yield</th>\n",
       "      <th>R2_C</th>\n",
       "      <th>R2_H</th>\n",
       "      <th>under_O2</th>\n",
       "      <th>under_air</th>\n",
       "      <th>solvent_CH3CN</th>\n",
       "      <th>solvent_MeOH</th>\n",
       "      <th>solvent_toluene</th>\n",
       "    </tr>\n",
       "  </thead>\n",
       "  <tbody>\n",
       "    <tr>\n",
       "      <th>0</th>\n",
       "      <td>1</td>\n",
       "      <td>[*]C1=CC=CC=C1</td>\n",
       "      <td>ClC1=CC=C(C(O)=O)C(O)=C1</td>\n",
       "      <td>5.0</td>\n",
       "      <td>90</td>\n",
       "      <td>24.0</td>\n",
       "      <td>81.0</td>\n",
       "      <td>0</td>\n",
       "      <td>1</td>\n",
       "      <td>1</td>\n",
       "      <td>0</td>\n",
       "      <td>0</td>\n",
       "      <td>0</td>\n",
       "      <td>1</td>\n",
       "    </tr>\n",
       "    <tr>\n",
       "      <th>1</th>\n",
       "      <td>2</td>\n",
       "      <td>[*]C1=CC=CC=C1</td>\n",
       "      <td>ClC1=CC=C(C(O)=O)C(O)=C1</td>\n",
       "      <td>5.0</td>\n",
       "      <td>90</td>\n",
       "      <td>12.0</td>\n",
       "      <td>14.0</td>\n",
       "      <td>0</td>\n",
       "      <td>1</td>\n",
       "      <td>1</td>\n",
       "      <td>0</td>\n",
       "      <td>0</td>\n",
       "      <td>0</td>\n",
       "      <td>1</td>\n",
       "    </tr>\n",
       "    <tr>\n",
       "      <th>2</th>\n",
       "      <td>3</td>\n",
       "      <td>[*]C1=CC=CC=C1</td>\n",
       "      <td>OC1=CC(C)=CC=C1C(O)=O</td>\n",
       "      <td>5.0</td>\n",
       "      <td>90</td>\n",
       "      <td>24.0</td>\n",
       "      <td>74.0</td>\n",
       "      <td>0</td>\n",
       "      <td>1</td>\n",
       "      <td>1</td>\n",
       "      <td>0</td>\n",
       "      <td>0</td>\n",
       "      <td>0</td>\n",
       "      <td>1</td>\n",
       "    </tr>\n",
       "    <tr>\n",
       "      <th>3</th>\n",
       "      <td>4</td>\n",
       "      <td>[*]C1=CC=CC=C1</td>\n",
       "      <td>OC1=CC(C)=CC=C1C(O)=O</td>\n",
       "      <td>5.0</td>\n",
       "      <td>90</td>\n",
       "      <td>12.0</td>\n",
       "      <td>15.0</td>\n",
       "      <td>0</td>\n",
       "      <td>1</td>\n",
       "      <td>1</td>\n",
       "      <td>0</td>\n",
       "      <td>0</td>\n",
       "      <td>0</td>\n",
       "      <td>1</td>\n",
       "    </tr>\n",
       "    <tr>\n",
       "      <th>4</th>\n",
       "      <td>5</td>\n",
       "      <td>[*]C1=CC=CC=C1</td>\n",
       "      <td>OC1=CC(OC)=CC=C1C(O)=O</td>\n",
       "      <td>5.0</td>\n",
       "      <td>90</td>\n",
       "      <td>24.0</td>\n",
       "      <td>90.0</td>\n",
       "      <td>0</td>\n",
       "      <td>1</td>\n",
       "      <td>1</td>\n",
       "      <td>0</td>\n",
       "      <td>0</td>\n",
       "      <td>0</td>\n",
       "      <td>1</td>\n",
       "    </tr>\n",
       "    <tr>\n",
       "      <th>...</th>\n",
       "      <td>...</td>\n",
       "      <td>...</td>\n",
       "      <td>...</td>\n",
       "      <td>...</td>\n",
       "      <td>...</td>\n",
       "      <td>...</td>\n",
       "      <td>...</td>\n",
       "      <td>...</td>\n",
       "      <td>...</td>\n",
       "      <td>...</td>\n",
       "      <td>...</td>\n",
       "      <td>...</td>\n",
       "      <td>...</td>\n",
       "      <td>...</td>\n",
       "    </tr>\n",
       "    <tr>\n",
       "      <th>115</th>\n",
       "      <td>2i</td>\n",
       "      <td>[*]C1=CC(Br)=CC=C1</td>\n",
       "      <td>O=C1C(C=C(OC)C(C(C)(C)C)=C1)=O</td>\n",
       "      <td>10.0</td>\n",
       "      <td>23</td>\n",
       "      <td>72.0</td>\n",
       "      <td>95.0</td>\n",
       "      <td>1</td>\n",
       "      <td>0</td>\n",
       "      <td>1</td>\n",
       "      <td>0</td>\n",
       "      <td>1</td>\n",
       "      <td>0</td>\n",
       "      <td>0</td>\n",
       "    </tr>\n",
       "    <tr>\n",
       "      <th>116</th>\n",
       "      <td>2j</td>\n",
       "      <td>[*]C1=CC=CC(OC)=C1</td>\n",
       "      <td>O=C1C(C=C(OC)C(C(C)(C)C)=C1)=O</td>\n",
       "      <td>10.0</td>\n",
       "      <td>23</td>\n",
       "      <td>48.0</td>\n",
       "      <td>89.0</td>\n",
       "      <td>1</td>\n",
       "      <td>0</td>\n",
       "      <td>1</td>\n",
       "      <td>0</td>\n",
       "      <td>1</td>\n",
       "      <td>0</td>\n",
       "      <td>0</td>\n",
       "    </tr>\n",
       "    <tr>\n",
       "      <th>117</th>\n",
       "      <td>2k</td>\n",
       "      <td>[*]C1=CC(C)=C(C)C=C1</td>\n",
       "      <td>O=C1C(C=C(OC)C(C(C)(C)C)=C1)=O</td>\n",
       "      <td>10.0</td>\n",
       "      <td>23</td>\n",
       "      <td>72.0</td>\n",
       "      <td>99.0</td>\n",
       "      <td>1</td>\n",
       "      <td>0</td>\n",
       "      <td>1</td>\n",
       "      <td>0</td>\n",
       "      <td>1</td>\n",
       "      <td>0</td>\n",
       "      <td>0</td>\n",
       "    </tr>\n",
       "    <tr>\n",
       "      <th>118</th>\n",
       "      <td>2m</td>\n",
       "      <td>[*]C1=CSC=C1</td>\n",
       "      <td>O=C1C(C=C(OC)C(C(C)(C)C)=C1)=O</td>\n",
       "      <td>10.0</td>\n",
       "      <td>60</td>\n",
       "      <td>48.0</td>\n",
       "      <td>83.0</td>\n",
       "      <td>1</td>\n",
       "      <td>0</td>\n",
       "      <td>1</td>\n",
       "      <td>0</td>\n",
       "      <td>1</td>\n",
       "      <td>0</td>\n",
       "      <td>0</td>\n",
       "    </tr>\n",
       "    <tr>\n",
       "      <th>119</th>\n",
       "      <td>2p</td>\n",
       "      <td>[*]C1=CC=CC=C1</td>\n",
       "      <td>O=C1C(C=C(OC)C(C(C)(C)C)=C1)=O</td>\n",
       "      <td>10.0</td>\n",
       "      <td>23</td>\n",
       "      <td>12.0</td>\n",
       "      <td>99.0</td>\n",
       "      <td>0</td>\n",
       "      <td>1</td>\n",
       "      <td>1</td>\n",
       "      <td>0</td>\n",
       "      <td>1</td>\n",
       "      <td>0</td>\n",
       "      <td>0</td>\n",
       "    </tr>\n",
       "  </tbody>\n",
       "</table>\n",
       "<p>120 rows × 14 columns</p>\n",
       "</div>"
      ],
      "text/plain": [
       "    entry                   R1-                  organocatalyst  \\\n",
       "0       1        [*]C1=CC=CC=C1        ClC1=CC=C(C(O)=O)C(O)=C1   \n",
       "1       2        [*]C1=CC=CC=C1        ClC1=CC=C(C(O)=O)C(O)=C1   \n",
       "2       3        [*]C1=CC=CC=C1           OC1=CC(C)=CC=C1C(O)=O   \n",
       "3       4        [*]C1=CC=CC=C1           OC1=CC(C)=CC=C1C(O)=O   \n",
       "4       5        [*]C1=CC=CC=C1          OC1=CC(OC)=CC=C1C(O)=O   \n",
       "..    ...                   ...                             ...   \n",
       "115    2i    [*]C1=CC(Br)=CC=C1  O=C1C(C=C(OC)C(C(C)(C)C)=C1)=O   \n",
       "116    2j    [*]C1=CC=CC(OC)=C1  O=C1C(C=C(OC)C(C(C)(C)C)=C1)=O   \n",
       "117    2k  [*]C1=CC(C)=C(C)C=C1  O=C1C(C=C(OC)C(C(C)(C)C)=C1)=O   \n",
       "118    2m          [*]C1=CSC=C1  O=C1C(C=C(OC)C(C(C)(C)C)=C1)=O   \n",
       "119    2p        [*]C1=CC=CC=C1  O=C1C(C=C(OC)C(C(C)(C)C)=C1)=O   \n",
       "\n",
       "     organocatalyst(mol%)  temp(℃)  time(h)  yield  R2_C  R2_H  under_O2  \\\n",
       "0                     5.0       90     24.0   81.0     0     1         1   \n",
       "1                     5.0       90     12.0   14.0     0     1         1   \n",
       "2                     5.0       90     24.0   74.0     0     1         1   \n",
       "3                     5.0       90     12.0   15.0     0     1         1   \n",
       "4                     5.0       90     24.0   90.0     0     1         1   \n",
       "..                    ...      ...      ...    ...   ...   ...       ...   \n",
       "115                  10.0       23     72.0   95.0     1     0         1   \n",
       "116                  10.0       23     48.0   89.0     1     0         1   \n",
       "117                  10.0       23     72.0   99.0     1     0         1   \n",
       "118                  10.0       60     48.0   83.0     1     0         1   \n",
       "119                  10.0       23     12.0   99.0     0     1         1   \n",
       "\n",
       "     under_air  solvent_CH3CN  solvent_MeOH  solvent_toluene  \n",
       "0            0              0             0                1  \n",
       "1            0              0             0                1  \n",
       "2            0              0             0                1  \n",
       "3            0              0             0                1  \n",
       "4            0              0             0                1  \n",
       "..         ...            ...           ...              ...  \n",
       "115          0              1             0                0  \n",
       "116          0              1             0                0  \n",
       "117          0              1             0                0  \n",
       "118          0              1             0                0  \n",
       "119          0              1             0                0  \n",
       "\n",
       "[120 rows x 14 columns]"
      ]
     },
     "execution_count": 98,
     "metadata": {},
     "output_type": "execute_result"
    }
   ],
   "source": [
    "df = pd.read_csv('./data/origin.csv',index_col=0)\n",
    "df"
   ]
  },
  {
   "cell_type": "code",
   "execution_count": 99,
   "id": "ed623d61-90d2-4e60-9cd9-08a5399c4369",
   "metadata": {},
   "outputs": [],
   "source": [
    "mols_r1 = list(Chem.MolFromSmiles(smile) for smile in df['R1-'].values)\n",
    "mols_organocatalyst = list(Chem.MolFromSmiles(smile) for smile in df['organocatalyst'].values)"
   ]
  },
  {
   "cell_type": "markdown",
   "id": "adac1469-a6e6-416c-9c1f-8b0ecf9ca059",
   "metadata": {},
   "source": [
    "# Rdkit記述子に変換"
   ]
  },
  {
   "cell_type": "code",
   "execution_count": 100,
   "id": "7d6e1f95-0403-43ca-a4ee-0011a69e377e",
   "metadata": {
    "tags": []
   },
   "outputs": [],
   "source": [
    "def toFingerRdkit(mols,prefix):\n",
    "    descriptor_names = [(descriptor_name[0] + '_' + prefix) for descriptor_name in Descriptors.descList]\n",
    "    descriptor_calculator = MoleculeDescriptors.MolecularDescriptorCalculator(descriptor_names)\n",
    "    rdkit_descriptors_results = [descriptor_calculator.CalcDescriptors(mol) for mol in mols]\n",
    "    df_rdkit = pd.DataFrame(rdkit_descriptors_results, columns=descriptor_names)\n",
    "    df_rdkit = df_rdkit[df_rdkit.columns[~df_rdkit.isnull().any()]]\n",
    "    return df_rdkit"
   ]
  },
  {
   "cell_type": "code",
   "execution_count": 101,
   "id": "4c0286a3-4302-454e-94f8-ebfd49a07f5d",
   "metadata": {},
   "outputs": [],
   "source": [
    "df_rdkit_r1 = toFingerRdkit(mols_r1, 'r1')\n",
    "df_rdkit_organocatalyst = toFingerRdkit(mols_organocatalyst, 'organocatalyst')"
   ]
  },
  {
   "cell_type": "code",
   "execution_count": 86,
   "id": "f61932c8-661c-4769-869e-95cf752920d0",
   "metadata": {},
   "outputs": [
    {
     "name": "stdout",
     "output_type": "stream",
     "text": [
      "(120, 208)\n",
      "(120, 208)\n"
     ]
    }
   ],
   "source": [
    "print(df_rdkit_r1.shape)\n",
    "print(df_rdkit_organocatalyst.shape)"
   ]
  },
  {
   "cell_type": "markdown",
   "id": "03d41cf3-835c-4318-b50e-1a4c54be7fae",
   "metadata": {},
   "source": [
    "# Mordred記述子の変換を行う"
   ]
  },
  {
   "cell_type": "code",
   "execution_count": 87,
   "id": "c78c28a9-8d9e-4c2d-8744-25d6e8d4f71e",
   "metadata": {},
   "outputs": [],
   "source": [
    "def toFingerMordred(mols):\n",
    "    mordered_calculator = Calculator(descriptors,ignore_3D=True)\n",
    "    df_mordred = mordered_calculator.pandas(pd.Series(mols))\n",
    "    \n",
    "    for column in df_mordred.columns:\n",
    "        if df_mordred[column].dtypes == object:\n",
    "            df_mordred[column] = df_mordred[column].values.astype(np.float32)\n",
    "    \n",
    "    df_mordered = df_mordred[df_mordred.columns[~df_mordred.isnull().any()]]\n",
    "    return df_mordered"
   ]
  },
  {
   "cell_type": "code",
   "execution_count": 64,
   "id": "dda1a91a-3120-4ef8-86c2-c20a6070dae6",
   "metadata": {},
   "outputs": [
    {
     "name": "stderr",
     "output_type": "stream",
     "text": [
      "100%|██████████████████████████████████████████████████████████████████████████████████████████████████████████████████████████████████████| 120/120 [00:10<00:00, 11.94it/s]\n",
      "100%|██████████████████████████████████████████████████████████████████████████████████████████████████████████████████████████████████████| 120/120 [00:23<00:00,  5.10it/s]\n"
     ]
    }
   ],
   "source": [
    "df_mordred_r1 = toFingerMordred(mols_r1)\n",
    "df_mordred_organocatalyst = toFingerMordred(mols_organocatalyst)"
   ]
  },
  {
   "cell_type": "code",
   "execution_count": 102,
   "id": "ade1a939-76a3-4bc2-89ae-ac83ebcb5fe3",
   "metadata": {},
   "outputs": [],
   "source": [
    "df_rdkit_r1.to_csv('./data/method4/rdkit_r1.csv')\n",
    "df_rdkit_organocatalyst.to_csv('./data/method4/rdkit_organocatalyst.csv')\n",
    "df_mordred_r1.to_csv('./data/method4/mordred_r1.csv')\n",
    "df_mordred_organocatalyst.to_csv('./data/method4/mordred_organocatalyst.csv')"
   ]
  },
  {
   "cell_type": "code",
   "execution_count": 103,
   "id": "c20b68d4-e470-464a-a06c-e06df984ac68",
   "metadata": {},
   "outputs": [],
   "source": [
    "df_dropped = df.drop(columns=['entry', 'R1-', 'organocatalyst'])\n",
    "r1_names = ['rdkit_r1','mordred_r1']\n",
    "organo_names = ['rdkit_organo', 'mordred_organo']\n",
    "\n",
    "for r1_name, df_r1 in zip(r1_names, [df_rdkit_r1,df_mordred_r1]):\n",
    "    for organo_name, df_organocatalyst in zip(organo_names, [df_rdkit_organocatalyst, df_mordred_organocatalyst]):\n",
    "        _df = pd.concat([df_dropped,df_r1, df_organocatalyst], axis=1)\n",
    "        _df.to_csv(f'./data/method4/dataset_{r1_name}_{organo_name}.csv')\n"
   ]
  },
  {
   "cell_type": "markdown",
   "id": "9f409095-7644-4b7f-8e76-8c6edb996c66",
   "metadata": {},
   "source": [
    "# 特徴量選択\n",
    "1. 分散0の説明変数を除去\n",
    "2. 9割以上が同じ値になる記述子を削除\n",
    "3. 0.95以上の説明変数の組みがある場合どちらかを除去\n",
    "4. オートスケーリング"
   ]
  },
  {
   "cell_type": "code",
   "execution_count": 115,
   "id": "0369237f-514a-44b6-9eae-287fadd734b3",
   "metadata": {},
   "outputs": [],
   "source": [
    "from sklearn.feature_selection import VarianceThreshold\n",
    "\n",
    "def selectFeature(df):\n",
    "    select = VarianceThreshold()\n",
    "    select_values = select.fit_transform(df.values)\n",
    "    df_selected = df[df.columns[select.get_support()]]\n",
    "    \n",
    "    st_threshold = 0.9\n",
    "    selected = []\n",
    "    for column in df_selected:\n",
    "        value_counts = df_selected[column].value_counts(sort=True)\n",
    "        score = value_counts.values[0] / len(df_selected[column].values)"
   ]
  },
  {
   "cell_type": "code",
   "execution_count": 116,
   "id": "7b07cd45-deb3-4ea8-a0f9-1e24cd2644fe",
   "metadata": {},
   "outputs": [],
   "source": [
    "df = pd.read_csv('./data/method4/dataset_mordred_r1_mordred_organo.csv',index_col=0)"
   ]
  },
  {
   "cell_type": "code",
   "execution_count": 117,
   "id": "ab58b788-d51c-4675-a449-aec27934a4d9",
   "metadata": {},
   "outputs": [
    {
     "ename": "AttributeError",
     "evalue": "'numpy.ndarray' object has no attribute 'count'",
     "output_type": "error",
     "traceback": [
      "\u001b[0;31m---------------------------------------------------------------------------\u001b[0m",
      "\u001b[0;31mAttributeError\u001b[0m                            Traceback (most recent call last)",
      "Cell \u001b[0;32mIn [117], line 1\u001b[0m\n\u001b[0;32m----> 1\u001b[0m \u001b[43mselectFeature\u001b[49m\u001b[43m(\u001b[49m\u001b[43mdf\u001b[49m\u001b[43m)\u001b[49m\n",
      "Cell \u001b[0;32mIn [115], line 6\u001b[0m, in \u001b[0;36mselectFeature\u001b[0;34m(df)\u001b[0m\n\u001b[1;32m      4\u001b[0m select \u001b[38;5;241m=\u001b[39m VarianceThreshold()\n\u001b[1;32m      5\u001b[0m select_values \u001b[38;5;241m=\u001b[39m select\u001b[38;5;241m.\u001b[39mfit_transform(df\u001b[38;5;241m.\u001b[39mvalues)\n\u001b[0;32m----> 6\u001b[0m \u001b[38;5;28mprint\u001b[39m(\u001b[43mselect\u001b[49m\u001b[38;5;241;43m.\u001b[39;49m\u001b[43mget_support\u001b[49m\u001b[43m(\u001b[49m\u001b[43m)\u001b[49m\u001b[38;5;241;43m.\u001b[39;49m\u001b[43mcount\u001b[49m())\n\u001b[1;32m      7\u001b[0m df_selected \u001b[38;5;241m=\u001b[39m df[df\u001b[38;5;241m.\u001b[39mcolumns[select\u001b[38;5;241m.\u001b[39mget_support()]]\n",
      "\u001b[0;31mAttributeError\u001b[0m: 'numpy.ndarray' object has no attribute 'count'"
     ]
    }
   ],
   "source": [
    "selectFeature(df)"
   ]
  },
  {
   "cell_type": "code",
   "execution_count": null,
   "id": "9ecb76f8-13fa-4b52-9e3b-447b8775a144",
   "metadata": {},
   "outputs": [],
   "source": []
  }
 ],
 "metadata": {
  "kernelspec": {
   "display_name": "Python 3 (ipykernel)",
   "language": "python",
   "name": "python3"
  },
  "language_info": {
   "codemirror_mode": {
    "name": "ipython",
    "version": 3
   },
   "file_extension": ".py",
   "mimetype": "text/x-python",
   "name": "python",
   "nbconvert_exporter": "python",
   "pygments_lexer": "ipython3",
   "version": "3.9.13"
  }
 },
 "nbformat": 4,
 "nbformat_minor": 5
}
