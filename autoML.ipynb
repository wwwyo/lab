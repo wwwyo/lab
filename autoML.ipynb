{
 "cells": [
  {
   "cell_type": "code",
   "execution_count": 1,
   "id": "2c0aca5b-54b4-4584-803f-e550457b5ce5",
   "metadata": {},
   "outputs": [],
   "source": [
    "import numpy as np\n",
    "import pandas as pd\n",
    "from rdkit import rdBase, Chem\n",
    "from rdkit.Chem import AllChem, Descriptors\n",
    "from rdkit.ML.Descriptors import MoleculeDescriptors\n",
    "from mordred import Calculator, descriptors\n",
    "import mordred"
   ]
  },
  {
   "cell_type": "code",
   "execution_count": 2,
   "id": "1ab5a462-3a14-4c7c-bfc6-53d9fcb21eb0",
   "metadata": {},
   "outputs": [
    {
     "data": {
      "text/html": [
       "<div>\n",
       "<style scoped>\n",
       "    .dataframe tbody tr th:only-of-type {\n",
       "        vertical-align: middle;\n",
       "    }\n",
       "\n",
       "    .dataframe tbody tr th {\n",
       "        vertical-align: top;\n",
       "    }\n",
       "\n",
       "    .dataframe thead th {\n",
       "        text-align: right;\n",
       "    }\n",
       "</style>\n",
       "<table border=\"1\" class=\"dataframe\">\n",
       "  <thead>\n",
       "    <tr style=\"text-align: right;\">\n",
       "      <th></th>\n",
       "      <th>entry</th>\n",
       "      <th>R1-</th>\n",
       "      <th>organocatalyst</th>\n",
       "      <th>organocatalyst(mol%)</th>\n",
       "      <th>temp(℃)</th>\n",
       "      <th>time(h)</th>\n",
       "      <th>yield</th>\n",
       "      <th>R2_C</th>\n",
       "      <th>R2_H</th>\n",
       "      <th>under_O2</th>\n",
       "      <th>under_air</th>\n",
       "      <th>solvent_CH3CN</th>\n",
       "      <th>solvent_MeOH</th>\n",
       "      <th>solvent_toluene</th>\n",
       "    </tr>\n",
       "  </thead>\n",
       "  <tbody>\n",
       "    <tr>\n",
       "      <th>0</th>\n",
       "      <td>1</td>\n",
       "      <td>[*]C1=CC=CC=C1</td>\n",
       "      <td>ClC1=CC=C(C(O)=O)C(O)=C1</td>\n",
       "      <td>5.0</td>\n",
       "      <td>90</td>\n",
       "      <td>24.0</td>\n",
       "      <td>81.0</td>\n",
       "      <td>0</td>\n",
       "      <td>1</td>\n",
       "      <td>1</td>\n",
       "      <td>0</td>\n",
       "      <td>0</td>\n",
       "      <td>0</td>\n",
       "      <td>1</td>\n",
       "    </tr>\n",
       "    <tr>\n",
       "      <th>1</th>\n",
       "      <td>2</td>\n",
       "      <td>[*]C1=CC=CC=C1</td>\n",
       "      <td>ClC1=CC=C(C(O)=O)C(O)=C1</td>\n",
       "      <td>5.0</td>\n",
       "      <td>90</td>\n",
       "      <td>12.0</td>\n",
       "      <td>14.0</td>\n",
       "      <td>0</td>\n",
       "      <td>1</td>\n",
       "      <td>1</td>\n",
       "      <td>0</td>\n",
       "      <td>0</td>\n",
       "      <td>0</td>\n",
       "      <td>1</td>\n",
       "    </tr>\n",
       "    <tr>\n",
       "      <th>2</th>\n",
       "      <td>3</td>\n",
       "      <td>[*]C1=CC=CC=C1</td>\n",
       "      <td>OC1=CC(C)=CC=C1C(O)=O</td>\n",
       "      <td>5.0</td>\n",
       "      <td>90</td>\n",
       "      <td>24.0</td>\n",
       "      <td>74.0</td>\n",
       "      <td>0</td>\n",
       "      <td>1</td>\n",
       "      <td>1</td>\n",
       "      <td>0</td>\n",
       "      <td>0</td>\n",
       "      <td>0</td>\n",
       "      <td>1</td>\n",
       "    </tr>\n",
       "    <tr>\n",
       "      <th>3</th>\n",
       "      <td>4</td>\n",
       "      <td>[*]C1=CC=CC=C1</td>\n",
       "      <td>OC1=CC(C)=CC=C1C(O)=O</td>\n",
       "      <td>5.0</td>\n",
       "      <td>90</td>\n",
       "      <td>12.0</td>\n",
       "      <td>15.0</td>\n",
       "      <td>0</td>\n",
       "      <td>1</td>\n",
       "      <td>1</td>\n",
       "      <td>0</td>\n",
       "      <td>0</td>\n",
       "      <td>0</td>\n",
       "      <td>1</td>\n",
       "    </tr>\n",
       "    <tr>\n",
       "      <th>4</th>\n",
       "      <td>5</td>\n",
       "      <td>[*]C1=CC=CC=C1</td>\n",
       "      <td>OC1=CC(OC)=CC=C1C(O)=O</td>\n",
       "      <td>5.0</td>\n",
       "      <td>90</td>\n",
       "      <td>24.0</td>\n",
       "      <td>90.0</td>\n",
       "      <td>0</td>\n",
       "      <td>1</td>\n",
       "      <td>1</td>\n",
       "      <td>0</td>\n",
       "      <td>0</td>\n",
       "      <td>0</td>\n",
       "      <td>1</td>\n",
       "    </tr>\n",
       "    <tr>\n",
       "      <th>...</th>\n",
       "      <td>...</td>\n",
       "      <td>...</td>\n",
       "      <td>...</td>\n",
       "      <td>...</td>\n",
       "      <td>...</td>\n",
       "      <td>...</td>\n",
       "      <td>...</td>\n",
       "      <td>...</td>\n",
       "      <td>...</td>\n",
       "      <td>...</td>\n",
       "      <td>...</td>\n",
       "      <td>...</td>\n",
       "      <td>...</td>\n",
       "      <td>...</td>\n",
       "    </tr>\n",
       "    <tr>\n",
       "      <th>115</th>\n",
       "      <td>2i</td>\n",
       "      <td>[*]C1=CC(Br)=CC=C1</td>\n",
       "      <td>O=C1C(C=C(OC)C(C(C)(C)C)=C1)=O</td>\n",
       "      <td>10.0</td>\n",
       "      <td>23</td>\n",
       "      <td>72.0</td>\n",
       "      <td>95.0</td>\n",
       "      <td>1</td>\n",
       "      <td>0</td>\n",
       "      <td>1</td>\n",
       "      <td>0</td>\n",
       "      <td>1</td>\n",
       "      <td>0</td>\n",
       "      <td>0</td>\n",
       "    </tr>\n",
       "    <tr>\n",
       "      <th>116</th>\n",
       "      <td>2j</td>\n",
       "      <td>[*]C1=CC=CC(OC)=C1</td>\n",
       "      <td>O=C1C(C=C(OC)C(C(C)(C)C)=C1)=O</td>\n",
       "      <td>10.0</td>\n",
       "      <td>23</td>\n",
       "      <td>48.0</td>\n",
       "      <td>89.0</td>\n",
       "      <td>1</td>\n",
       "      <td>0</td>\n",
       "      <td>1</td>\n",
       "      <td>0</td>\n",
       "      <td>1</td>\n",
       "      <td>0</td>\n",
       "      <td>0</td>\n",
       "    </tr>\n",
       "    <tr>\n",
       "      <th>117</th>\n",
       "      <td>2k</td>\n",
       "      <td>[*]C1=CC(C)=C(C)C=C1</td>\n",
       "      <td>O=C1C(C=C(OC)C(C(C)(C)C)=C1)=O</td>\n",
       "      <td>10.0</td>\n",
       "      <td>23</td>\n",
       "      <td>72.0</td>\n",
       "      <td>99.0</td>\n",
       "      <td>1</td>\n",
       "      <td>0</td>\n",
       "      <td>1</td>\n",
       "      <td>0</td>\n",
       "      <td>1</td>\n",
       "      <td>0</td>\n",
       "      <td>0</td>\n",
       "    </tr>\n",
       "    <tr>\n",
       "      <th>118</th>\n",
       "      <td>2m</td>\n",
       "      <td>[*]C1=CSC=C1</td>\n",
       "      <td>O=C1C(C=C(OC)C(C(C)(C)C)=C1)=O</td>\n",
       "      <td>10.0</td>\n",
       "      <td>60</td>\n",
       "      <td>48.0</td>\n",
       "      <td>83.0</td>\n",
       "      <td>1</td>\n",
       "      <td>0</td>\n",
       "      <td>1</td>\n",
       "      <td>0</td>\n",
       "      <td>1</td>\n",
       "      <td>0</td>\n",
       "      <td>0</td>\n",
       "    </tr>\n",
       "    <tr>\n",
       "      <th>119</th>\n",
       "      <td>2p</td>\n",
       "      <td>[*]C1=CC=CC=C1</td>\n",
       "      <td>O=C1C(C=C(OC)C(C(C)(C)C)=C1)=O</td>\n",
       "      <td>10.0</td>\n",
       "      <td>23</td>\n",
       "      <td>12.0</td>\n",
       "      <td>99.0</td>\n",
       "      <td>0</td>\n",
       "      <td>1</td>\n",
       "      <td>1</td>\n",
       "      <td>0</td>\n",
       "      <td>1</td>\n",
       "      <td>0</td>\n",
       "      <td>0</td>\n",
       "    </tr>\n",
       "  </tbody>\n",
       "</table>\n",
       "<p>120 rows × 14 columns</p>\n",
       "</div>"
      ],
      "text/plain": [
       "    entry                   R1-                  organocatalyst  \\\n",
       "0       1        [*]C1=CC=CC=C1        ClC1=CC=C(C(O)=O)C(O)=C1   \n",
       "1       2        [*]C1=CC=CC=C1        ClC1=CC=C(C(O)=O)C(O)=C1   \n",
       "2       3        [*]C1=CC=CC=C1           OC1=CC(C)=CC=C1C(O)=O   \n",
       "3       4        [*]C1=CC=CC=C1           OC1=CC(C)=CC=C1C(O)=O   \n",
       "4       5        [*]C1=CC=CC=C1          OC1=CC(OC)=CC=C1C(O)=O   \n",
       "..    ...                   ...                             ...   \n",
       "115    2i    [*]C1=CC(Br)=CC=C1  O=C1C(C=C(OC)C(C(C)(C)C)=C1)=O   \n",
       "116    2j    [*]C1=CC=CC(OC)=C1  O=C1C(C=C(OC)C(C(C)(C)C)=C1)=O   \n",
       "117    2k  [*]C1=CC(C)=C(C)C=C1  O=C1C(C=C(OC)C(C(C)(C)C)=C1)=O   \n",
       "118    2m          [*]C1=CSC=C1  O=C1C(C=C(OC)C(C(C)(C)C)=C1)=O   \n",
       "119    2p        [*]C1=CC=CC=C1  O=C1C(C=C(OC)C(C(C)(C)C)=C1)=O   \n",
       "\n",
       "     organocatalyst(mol%)  temp(℃)  time(h)  yield  R2_C  R2_H  under_O2  \\\n",
       "0                     5.0       90     24.0   81.0     0     1         1   \n",
       "1                     5.0       90     12.0   14.0     0     1         1   \n",
       "2                     5.0       90     24.0   74.0     0     1         1   \n",
       "3                     5.0       90     12.0   15.0     0     1         1   \n",
       "4                     5.0       90     24.0   90.0     0     1         1   \n",
       "..                    ...      ...      ...    ...   ...   ...       ...   \n",
       "115                  10.0       23     72.0   95.0     1     0         1   \n",
       "116                  10.0       23     48.0   89.0     1     0         1   \n",
       "117                  10.0       23     72.0   99.0     1     0         1   \n",
       "118                  10.0       60     48.0   83.0     1     0         1   \n",
       "119                  10.0       23     12.0   99.0     0     1         1   \n",
       "\n",
       "     under_air  solvent_CH3CN  solvent_MeOH  solvent_toluene  \n",
       "0            0              0             0                1  \n",
       "1            0              0             0                1  \n",
       "2            0              0             0                1  \n",
       "3            0              0             0                1  \n",
       "4            0              0             0                1  \n",
       "..         ...            ...           ...              ...  \n",
       "115          0              1             0                0  \n",
       "116          0              1             0                0  \n",
       "117          0              1             0                0  \n",
       "118          0              1             0                0  \n",
       "119          0              1             0                0  \n",
       "\n",
       "[120 rows x 14 columns]"
      ]
     },
     "execution_count": 2,
     "metadata": {},
     "output_type": "execute_result"
    }
   ],
   "source": [
    "df = pd.read_csv('./data/origin.csv',index_col=0)\n",
    "df"
   ]
  },
  {
   "cell_type": "code",
   "execution_count": 3,
   "id": "ed623d61-90d2-4e60-9cd9-08a5399c4369",
   "metadata": {},
   "outputs": [],
   "source": [
    "mols_r1 = list(Chem.MolFromSmiles(smile) for smile in df['R1-'].values)\n",
    "mols_organocatalyst = list(Chem.MolFromSmiles(smile) for smile in df['organocatalyst'].values)"
   ]
  },
  {
   "cell_type": "markdown",
   "id": "adac1469-a6e6-416c-9c1f-8b0ecf9ca059",
   "metadata": {},
   "source": [
    "# Rdkit記述子に変換"
   ]
  },
  {
   "cell_type": "code",
   "execution_count": 4,
   "id": "7d6e1f95-0403-43ca-a4ee-0011a69e377e",
   "metadata": {
    "tags": []
   },
   "outputs": [],
   "source": [
    "def toFingerRdkit(mols,prefix):\n",
    "    descriptor_names = [(descriptor_name[0] + '_' + prefix) for descriptor_name in Descriptors.descList]\n",
    "    descriptor_calculator = MoleculeDescriptors.MolecularDescriptorCalculator(descriptor_names)\n",
    "    rdkit_descriptors_results = [descriptor_calculator.CalcDescriptors(mol) for mol in mols]\n",
    "    df_rdkit = pd.DataFrame(rdkit_descriptors_results, columns=descriptor_names)\n",
    "    df_rdkit = df_rdkit[df_rdkit.columns[~df_rdkit.isnull().any()]]\n",
    "    return df_rdkit"
   ]
  },
  {
   "cell_type": "code",
   "execution_count": 5,
   "id": "4c0286a3-4302-454e-94f8-ebfd49a07f5d",
   "metadata": {},
   "outputs": [],
   "source": [
    "df_rdkit_r1 = toFingerRdkit(mols_r1, 'r1')\n",
    "df_rdkit_organocatalyst = toFingerRdkit(mols_organocatalyst, 'organocatalyst')"
   ]
  },
  {
   "cell_type": "code",
   "execution_count": 6,
   "id": "f61932c8-661c-4769-869e-95cf752920d0",
   "metadata": {},
   "outputs": [
    {
     "name": "stdout",
     "output_type": "stream",
     "text": [
      "(120, 208)\n",
      "(120, 208)\n"
     ]
    }
   ],
   "source": [
    "print(df_rdkit_r1.shape)\n",
    "print(df_rdkit_organocatalyst.shape)"
   ]
  },
  {
   "cell_type": "markdown",
   "id": "03d41cf3-835c-4318-b50e-1a4c54be7fae",
   "metadata": {},
   "source": [
    "# Mordred記述子の変換を行う"
   ]
  },
  {
   "cell_type": "code",
   "execution_count": 7,
   "id": "c78c28a9-8d9e-4c2d-8744-25d6e8d4f71e",
   "metadata": {},
   "outputs": [],
   "source": [
    "def toFingerMordred(mols):\n",
    "    mordered_calculator = Calculator(descriptors,ignore_3D=True)\n",
    "    df_mordred = mordered_calculator.pandas(pd.Series(mols))\n",
    "    \n",
    "    for column in df_mordred.columns:\n",
    "        if df_mordred[column].dtypes == object:\n",
    "            df_mordred[column] = df_mordred[column].values.astype(np.float32)\n",
    "    \n",
    "    df_mordered = df_mordred[df_mordred.columns[~df_mordred.isnull().any()]]\n",
    "    return df_mordered"
   ]
  },
  {
   "cell_type": "code",
   "execution_count": 8,
   "id": "dda1a91a-3120-4ef8-86c2-c20a6070dae6",
   "metadata": {},
   "outputs": [
    {
     "name": "stderr",
     "output_type": "stream",
     "text": [
      "100%|██████████████████████████████████████████████████████████████████████████████████████████████████████████████████████████████████████| 120/120 [00:19<00:00,  6.28it/s]\n",
      "100%|██████████████████████████████████████████████████████████████████████████████████████████████████████████████████████████████████████| 120/120 [00:29<00:00,  4.06it/s]\n"
     ]
    }
   ],
   "source": [
    "df_mordred_r1 = toFingerMordred(mols_r1)\n",
    "df_mordred_organocatalyst = toFingerMordred(mols_organocatalyst)"
   ]
  },
  {
   "cell_type": "code",
   "execution_count": 41,
   "id": "ade1a939-76a3-4bc2-89ae-ac83ebcb5fe3",
   "metadata": {},
   "outputs": [],
   "source": [
    "df_rdkit_r1.to_csv('./data/method4/rdkit_r1.csv')\n",
    "df_rdkit_organocatalyst.to_csv('./data/method4/rdkit_organocatalyst.csv')\n",
    "df_mordred_r1.to_csv('./data/method4/mordred_r1.csv')\n",
    "df_mordred_organocatalyst.to_csv('./data/method4/mordred_organocatalyst.csv')"
   ]
  },
  {
   "cell_type": "code",
   "execution_count": 42,
   "id": "c20b68d4-e470-464a-a06c-e06df984ac68",
   "metadata": {},
   "outputs": [
    {
     "ename": "KeyError",
     "evalue": "\"['entry', 'R1-', 'organocatalyst'] not found in axis\"",
     "output_type": "error",
     "traceback": [
      "\u001b[0;31m---------------------------------------------------------------------------\u001b[0m",
      "\u001b[0;31mKeyError\u001b[0m                                  Traceback (most recent call last)",
      "Cell \u001b[0;32mIn [42], line 1\u001b[0m\n\u001b[0;32m----> 1\u001b[0m df_dropped \u001b[38;5;241m=\u001b[39m \u001b[43mdf\u001b[49m\u001b[38;5;241;43m.\u001b[39;49m\u001b[43mdrop\u001b[49m\u001b[43m(\u001b[49m\u001b[43mcolumns\u001b[49m\u001b[38;5;241;43m=\u001b[39;49m\u001b[43m[\u001b[49m\u001b[38;5;124;43m'\u001b[39;49m\u001b[38;5;124;43mentry\u001b[39;49m\u001b[38;5;124;43m'\u001b[39;49m\u001b[43m,\u001b[49m\u001b[43m \u001b[49m\u001b[38;5;124;43m'\u001b[39;49m\u001b[38;5;124;43mR1-\u001b[39;49m\u001b[38;5;124;43m'\u001b[39;49m\u001b[43m,\u001b[49m\u001b[43m \u001b[49m\u001b[38;5;124;43m'\u001b[39;49m\u001b[38;5;124;43morganocatalyst\u001b[39;49m\u001b[38;5;124;43m'\u001b[39;49m\u001b[43m]\u001b[49m\u001b[43m)\u001b[49m\n\u001b[1;32m      2\u001b[0m r1_names \u001b[38;5;241m=\u001b[39m [\u001b[38;5;124m'\u001b[39m\u001b[38;5;124mrdkit_r1\u001b[39m\u001b[38;5;124m'\u001b[39m,\u001b[38;5;124m'\u001b[39m\u001b[38;5;124mmordred_r1\u001b[39m\u001b[38;5;124m'\u001b[39m]\n\u001b[1;32m      3\u001b[0m organo_names \u001b[38;5;241m=\u001b[39m [\u001b[38;5;124m'\u001b[39m\u001b[38;5;124mrdkit_organo\u001b[39m\u001b[38;5;124m'\u001b[39m, \u001b[38;5;124m'\u001b[39m\u001b[38;5;124mmordred_organo\u001b[39m\u001b[38;5;124m'\u001b[39m]\n",
      "File \u001b[0;32m~/opt/anaconda3/envs/chem/lib/python3.9/site-packages/pandas/util/_decorators.py:317\u001b[0m, in \u001b[0;36mdeprecate_nonkeyword_arguments.<locals>.decorate.<locals>.wrapper\u001b[0;34m(*args, **kwargs)\u001b[0m\n\u001b[1;32m    311\u001b[0m \u001b[38;5;28;01mif\u001b[39;00m \u001b[38;5;28mlen\u001b[39m(args) \u001b[38;5;241m>\u001b[39m num_allow_args:\n\u001b[1;32m    312\u001b[0m     warnings\u001b[38;5;241m.\u001b[39mwarn(\n\u001b[1;32m    313\u001b[0m         msg\u001b[38;5;241m.\u001b[39mformat(arguments\u001b[38;5;241m=\u001b[39marguments),\n\u001b[1;32m    314\u001b[0m         \u001b[38;5;167;01mFutureWarning\u001b[39;00m,\n\u001b[1;32m    315\u001b[0m         stacklevel\u001b[38;5;241m=\u001b[39mfind_stack_level(inspect\u001b[38;5;241m.\u001b[39mcurrentframe()),\n\u001b[1;32m    316\u001b[0m     )\n\u001b[0;32m--> 317\u001b[0m \u001b[38;5;28;01mreturn\u001b[39;00m \u001b[43mfunc\u001b[49m\u001b[43m(\u001b[49m\u001b[38;5;241;43m*\u001b[39;49m\u001b[43margs\u001b[49m\u001b[43m,\u001b[49m\u001b[43m \u001b[49m\u001b[38;5;241;43m*\u001b[39;49m\u001b[38;5;241;43m*\u001b[39;49m\u001b[43mkwargs\u001b[49m\u001b[43m)\u001b[49m\n",
      "File \u001b[0;32m~/opt/anaconda3/envs/chem/lib/python3.9/site-packages/pandas/core/frame.py:5391\u001b[0m, in \u001b[0;36mDataFrame.drop\u001b[0;34m(self, labels, axis, index, columns, level, inplace, errors)\u001b[0m\n\u001b[1;32m   5243\u001b[0m \u001b[38;5;129m@deprecate_nonkeyword_arguments\u001b[39m(version\u001b[38;5;241m=\u001b[39m\u001b[38;5;28;01mNone\u001b[39;00m, allowed_args\u001b[38;5;241m=\u001b[39m[\u001b[38;5;124m\"\u001b[39m\u001b[38;5;124mself\u001b[39m\u001b[38;5;124m\"\u001b[39m, \u001b[38;5;124m\"\u001b[39m\u001b[38;5;124mlabels\u001b[39m\u001b[38;5;124m\"\u001b[39m])\n\u001b[1;32m   5244\u001b[0m \u001b[38;5;28;01mdef\u001b[39;00m \u001b[38;5;21mdrop\u001b[39m(  \u001b[38;5;66;03m# type: ignore[override]\u001b[39;00m\n\u001b[1;32m   5245\u001b[0m     \u001b[38;5;28mself\u001b[39m,\n\u001b[0;32m   (...)\u001b[0m\n\u001b[1;32m   5252\u001b[0m     errors: IgnoreRaise \u001b[38;5;241m=\u001b[39m \u001b[38;5;124m\"\u001b[39m\u001b[38;5;124mraise\u001b[39m\u001b[38;5;124m\"\u001b[39m,\n\u001b[1;32m   5253\u001b[0m ) \u001b[38;5;241m-\u001b[39m\u001b[38;5;241m>\u001b[39m DataFrame \u001b[38;5;241m|\u001b[39m \u001b[38;5;28;01mNone\u001b[39;00m:\n\u001b[1;32m   5254\u001b[0m     \u001b[38;5;124;03m\"\"\"\u001b[39;00m\n\u001b[1;32m   5255\u001b[0m \u001b[38;5;124;03m    Drop specified labels from rows or columns.\u001b[39;00m\n\u001b[1;32m   5256\u001b[0m \n\u001b[0;32m   (...)\u001b[0m\n\u001b[1;32m   5389\u001b[0m \u001b[38;5;124;03m            weight  1.0     0.8\u001b[39;00m\n\u001b[1;32m   5390\u001b[0m \u001b[38;5;124;03m    \"\"\"\u001b[39;00m\n\u001b[0;32m-> 5391\u001b[0m     \u001b[38;5;28;01mreturn\u001b[39;00m \u001b[38;5;28;43msuper\u001b[39;49m\u001b[43m(\u001b[49m\u001b[43m)\u001b[49m\u001b[38;5;241;43m.\u001b[39;49m\u001b[43mdrop\u001b[49m\u001b[43m(\u001b[49m\n\u001b[1;32m   5392\u001b[0m \u001b[43m        \u001b[49m\u001b[43mlabels\u001b[49m\u001b[38;5;241;43m=\u001b[39;49m\u001b[43mlabels\u001b[49m\u001b[43m,\u001b[49m\n\u001b[1;32m   5393\u001b[0m \u001b[43m        \u001b[49m\u001b[43maxis\u001b[49m\u001b[38;5;241;43m=\u001b[39;49m\u001b[43maxis\u001b[49m\u001b[43m,\u001b[49m\n\u001b[1;32m   5394\u001b[0m \u001b[43m        \u001b[49m\u001b[43mindex\u001b[49m\u001b[38;5;241;43m=\u001b[39;49m\u001b[43mindex\u001b[49m\u001b[43m,\u001b[49m\n\u001b[1;32m   5395\u001b[0m \u001b[43m        \u001b[49m\u001b[43mcolumns\u001b[49m\u001b[38;5;241;43m=\u001b[39;49m\u001b[43mcolumns\u001b[49m\u001b[43m,\u001b[49m\n\u001b[1;32m   5396\u001b[0m \u001b[43m        \u001b[49m\u001b[43mlevel\u001b[49m\u001b[38;5;241;43m=\u001b[39;49m\u001b[43mlevel\u001b[49m\u001b[43m,\u001b[49m\n\u001b[1;32m   5397\u001b[0m \u001b[43m        \u001b[49m\u001b[43minplace\u001b[49m\u001b[38;5;241;43m=\u001b[39;49m\u001b[43minplace\u001b[49m\u001b[43m,\u001b[49m\n\u001b[1;32m   5398\u001b[0m \u001b[43m        \u001b[49m\u001b[43merrors\u001b[49m\u001b[38;5;241;43m=\u001b[39;49m\u001b[43merrors\u001b[49m\u001b[43m,\u001b[49m\n\u001b[1;32m   5399\u001b[0m \u001b[43m    \u001b[49m\u001b[43m)\u001b[49m\n",
      "File \u001b[0;32m~/opt/anaconda3/envs/chem/lib/python3.9/site-packages/pandas/util/_decorators.py:317\u001b[0m, in \u001b[0;36mdeprecate_nonkeyword_arguments.<locals>.decorate.<locals>.wrapper\u001b[0;34m(*args, **kwargs)\u001b[0m\n\u001b[1;32m    311\u001b[0m \u001b[38;5;28;01mif\u001b[39;00m \u001b[38;5;28mlen\u001b[39m(args) \u001b[38;5;241m>\u001b[39m num_allow_args:\n\u001b[1;32m    312\u001b[0m     warnings\u001b[38;5;241m.\u001b[39mwarn(\n\u001b[1;32m    313\u001b[0m         msg\u001b[38;5;241m.\u001b[39mformat(arguments\u001b[38;5;241m=\u001b[39marguments),\n\u001b[1;32m    314\u001b[0m         \u001b[38;5;167;01mFutureWarning\u001b[39;00m,\n\u001b[1;32m    315\u001b[0m         stacklevel\u001b[38;5;241m=\u001b[39mfind_stack_level(inspect\u001b[38;5;241m.\u001b[39mcurrentframe()),\n\u001b[1;32m    316\u001b[0m     )\n\u001b[0;32m--> 317\u001b[0m \u001b[38;5;28;01mreturn\u001b[39;00m \u001b[43mfunc\u001b[49m\u001b[43m(\u001b[49m\u001b[38;5;241;43m*\u001b[39;49m\u001b[43margs\u001b[49m\u001b[43m,\u001b[49m\u001b[43m \u001b[49m\u001b[38;5;241;43m*\u001b[39;49m\u001b[38;5;241;43m*\u001b[39;49m\u001b[43mkwargs\u001b[49m\u001b[43m)\u001b[49m\n",
      "File \u001b[0;32m~/opt/anaconda3/envs/chem/lib/python3.9/site-packages/pandas/core/generic.py:4510\u001b[0m, in \u001b[0;36mNDFrame.drop\u001b[0;34m(self, labels, axis, index, columns, level, inplace, errors)\u001b[0m\n\u001b[1;32m   4508\u001b[0m \u001b[38;5;28;01mfor\u001b[39;00m axis, labels \u001b[38;5;129;01min\u001b[39;00m axes\u001b[38;5;241m.\u001b[39mitems():\n\u001b[1;32m   4509\u001b[0m     \u001b[38;5;28;01mif\u001b[39;00m labels \u001b[38;5;129;01mis\u001b[39;00m \u001b[38;5;129;01mnot\u001b[39;00m \u001b[38;5;28;01mNone\u001b[39;00m:\n\u001b[0;32m-> 4510\u001b[0m         obj \u001b[38;5;241m=\u001b[39m \u001b[43mobj\u001b[49m\u001b[38;5;241;43m.\u001b[39;49m\u001b[43m_drop_axis\u001b[49m\u001b[43m(\u001b[49m\u001b[43mlabels\u001b[49m\u001b[43m,\u001b[49m\u001b[43m \u001b[49m\u001b[43maxis\u001b[49m\u001b[43m,\u001b[49m\u001b[43m \u001b[49m\u001b[43mlevel\u001b[49m\u001b[38;5;241;43m=\u001b[39;49m\u001b[43mlevel\u001b[49m\u001b[43m,\u001b[49m\u001b[43m \u001b[49m\u001b[43merrors\u001b[49m\u001b[38;5;241;43m=\u001b[39;49m\u001b[43merrors\u001b[49m\u001b[43m)\u001b[49m\n\u001b[1;32m   4512\u001b[0m \u001b[38;5;28;01mif\u001b[39;00m inplace:\n\u001b[1;32m   4513\u001b[0m     \u001b[38;5;28mself\u001b[39m\u001b[38;5;241m.\u001b[39m_update_inplace(obj)\n",
      "File \u001b[0;32m~/opt/anaconda3/envs/chem/lib/python3.9/site-packages/pandas/core/generic.py:4551\u001b[0m, in \u001b[0;36mNDFrame._drop_axis\u001b[0;34m(self, labels, axis, level, errors, only_slice)\u001b[0m\n\u001b[1;32m   4549\u001b[0m         new_axis \u001b[38;5;241m=\u001b[39m axis\u001b[38;5;241m.\u001b[39mdrop(labels, level\u001b[38;5;241m=\u001b[39mlevel, errors\u001b[38;5;241m=\u001b[39merrors)\n\u001b[1;32m   4550\u001b[0m     \u001b[38;5;28;01melse\u001b[39;00m:\n\u001b[0;32m-> 4551\u001b[0m         new_axis \u001b[38;5;241m=\u001b[39m \u001b[43maxis\u001b[49m\u001b[38;5;241;43m.\u001b[39;49m\u001b[43mdrop\u001b[49m\u001b[43m(\u001b[49m\u001b[43mlabels\u001b[49m\u001b[43m,\u001b[49m\u001b[43m \u001b[49m\u001b[43merrors\u001b[49m\u001b[38;5;241;43m=\u001b[39;49m\u001b[43merrors\u001b[49m\u001b[43m)\u001b[49m\n\u001b[1;32m   4552\u001b[0m     indexer \u001b[38;5;241m=\u001b[39m axis\u001b[38;5;241m.\u001b[39mget_indexer(new_axis)\n\u001b[1;32m   4554\u001b[0m \u001b[38;5;66;03m# Case for non-unique axis\u001b[39;00m\n\u001b[1;32m   4555\u001b[0m \u001b[38;5;28;01melse\u001b[39;00m:\n",
      "File \u001b[0;32m~/opt/anaconda3/envs/chem/lib/python3.9/site-packages/pandas/core/indexes/base.py:6972\u001b[0m, in \u001b[0;36mIndex.drop\u001b[0;34m(self, labels, errors)\u001b[0m\n\u001b[1;32m   6970\u001b[0m \u001b[38;5;28;01mif\u001b[39;00m mask\u001b[38;5;241m.\u001b[39many():\n\u001b[1;32m   6971\u001b[0m     \u001b[38;5;28;01mif\u001b[39;00m errors \u001b[38;5;241m!=\u001b[39m \u001b[38;5;124m\"\u001b[39m\u001b[38;5;124mignore\u001b[39m\u001b[38;5;124m\"\u001b[39m:\n\u001b[0;32m-> 6972\u001b[0m         \u001b[38;5;28;01mraise\u001b[39;00m \u001b[38;5;167;01mKeyError\u001b[39;00m(\u001b[38;5;124mf\u001b[39m\u001b[38;5;124m\"\u001b[39m\u001b[38;5;132;01m{\u001b[39;00m\u001b[38;5;28mlist\u001b[39m(labels[mask])\u001b[38;5;132;01m}\u001b[39;00m\u001b[38;5;124m not found in axis\u001b[39m\u001b[38;5;124m\"\u001b[39m)\n\u001b[1;32m   6973\u001b[0m     indexer \u001b[38;5;241m=\u001b[39m indexer[\u001b[38;5;241m~\u001b[39mmask]\n\u001b[1;32m   6974\u001b[0m \u001b[38;5;28;01mreturn\u001b[39;00m \u001b[38;5;28mself\u001b[39m\u001b[38;5;241m.\u001b[39mdelete(indexer)\n",
      "\u001b[0;31mKeyError\u001b[0m: \"['entry', 'R1-', 'organocatalyst'] not found in axis\""
     ]
    }
   ],
   "source": [
    "df_dropped = df.drop(columns=['entry', 'R1-', 'organocatalyst'])\n",
    "r1_names = ['rdkit_r1','mordred_r1']\n",
    "organo_names = ['rdkit_organo', 'mordred_organo']\n",
    "\n",
    "for r1_name, df_r1 in zip(r1_names, [df_rdkit_r1,df_mordred_r1]):\n",
    "    for organo_name, df_organocatalyst in zip(organo_names, [df_rdkit_organocatalyst, df_mordred_organocatalyst]):\n",
    "        _df = pd.concat([df_dropped,df_r1, df_organocatalyst], axis=1)\n",
    "        _df.to_csv(f'./data/method4/dataset_{r1_name}_{organo_name}.csv')\n"
   ]
  },
  {
   "cell_type": "markdown",
   "id": "9f409095-7644-4b7f-8e76-8c6edb996c66",
   "metadata": {},
   "source": [
    "# 特徴量選択\n",
    "1. 分散0の説明変数を除去\n",
    "2. 9割以上が同じ値になる記述子を削除\n",
    "3. 0.95以上の説明変数の組みがある場合どちらかを除去\n",
    "4. オートスケーリング"
   ]
  },
  {
   "cell_type": "code",
   "execution_count": 18,
   "id": "0369237f-514a-44b6-9eae-287fadd734b3",
   "metadata": {},
   "outputs": [],
   "source": [
    "from sklearn.feature_selection import VarianceThreshold\n",
    "from sklearn import preprocessing\n",
    "from sklearn.preprocessing import StandardScaler\n",
    "\n",
    "def selectFeature(df):\n",
    "    select = VarianceThreshold()\n",
    "    select_values = select.fit_transform(df.values)\n",
    "    df_selected = df[df.columns[select.get_support()]]\n",
    "    \n",
    "    st_threshold = 0.9\n",
    "    selected = []\n",
    "    for column in df_selected:\n",
    "        value_counts = df_selected[column].value_counts(sort=True)\n",
    "        # 全体に対して何割同じ値があるか\n",
    "        score = value_counts.values[0] / len(df_selected[column].values)\n",
    "        if score < st_threshold:\n",
    "            selected.append(column)\n",
    "    df_selected = df_selected[selected]\n",
    "    \n",
    "    # 相関が0.95以上のカラムを除去\n",
    "    df_selected = deleteHighCorrColumn(df_selected)\n",
    "    \n",
    "    return df_selected\n",
    "        \n",
    "\n",
    "def deleteHighCorrColumn(df):\n",
    "    threshold = 0.95\n",
    "    df_corr = df.corr()\n",
    "    df_corr = abs(df_corr)\n",
    "    columns = df_corr.columns\n",
    "\n",
    "    # 対角線の値を0にする\n",
    "    for i in range(0, len(columns)):\n",
    "        df_corr.iloc[i, i] = 0\n",
    "\n",
    "    while True:\n",
    "        columns = df_corr.columns\n",
    "        max_corr = 0.0\n",
    "        query_column = None\n",
    "        target_column = None\n",
    "\n",
    "        df_max_column_value = df_corr.max()\n",
    "        max_corr = df_max_column_value.max()\n",
    "        query_column = df_max_column_value.idxmax()\n",
    "        target_column = df_corr[query_column].idxmax()\n",
    "\n",
    "        if max_corr < threshold:\n",
    "            # しきい値を超えるものがなかったため終了\n",
    "            break\n",
    "        else:\n",
    "            # しきい値を超えるものがあった場合\n",
    "            delete_column = None\n",
    "            saved_column = None\n",
    "\n",
    "            # その他との相関の絶対値が大きい方を除去\n",
    "            if sum(df_corr[query_column]) <= sum(df_corr[target_column]):\n",
    "                delete_column = target_column\n",
    "                saved_column = query_column\n",
    "            else:\n",
    "                delete_column = query_column\n",
    "                saved_column = target_column\n",
    "\n",
    "            # 除去すべき特徴を相関行列から消す（行、列）\n",
    "            df_corr.drop([delete_column], axis=0, inplace=True)\n",
    "            df_corr.drop([delete_column], axis=1, inplace=True)\n",
    "\n",
    "    return df[df_corr.columns]\n"
   ]
  },
  {
   "cell_type": "code",
   "execution_count": 43,
   "id": "7b07cd45-deb3-4ea8-a0f9-1e24cd2644fe",
   "metadata": {},
   "outputs": [],
   "source": [
    "df1 = pd.read_csv('./data/method4/dataset_mordred_r1_mordred_organo.csv',index_col=0)\n",
    "df2 = pd.read_csv('./data/method4/dataset_rdkit_r1_rdkit_organo.csv',index_col=0)\n",
    "df3 = pd.read_csv('./data/method4/dataset_rdkit_r1_mordred_organo.csv',index_col=0)\n",
    "df4 = pd.read_csv('./data/method4/dataset_mordred_r1_rdkit_organo.csv',index_col=0)"
   ]
  },
  {
   "cell_type": "code",
   "execution_count": 44,
   "id": "ab58b788-d51c-4675-a449-aec27934a4d9",
   "metadata": {},
   "outputs": [],
   "source": [
    "selectFeature(df1).to_csv('./data/method4/mordred_r1_mordred_organo.csv')\n",
    "selectFeature(df2).to_csv('./data/method4/rdkit_r1_rdkit_organo.csv')\n",
    "selectFeature(df3).to_csv('./data/method4/rdkit_r1_mordred_organo.csv')\n",
    "selectFeature(df4).to_csv('./data/method4/mordred_r1_rdkit_organo.csv')"
   ]
  },
  {
   "cell_type": "code",
   "execution_count": 52,
   "id": "104372c6-dcdc-475f-86a2-e9fa0f3c0b80",
   "metadata": {},
   "outputs": [],
   "source": [
    "from sklearn.model_selection import train_test_split\n",
    "from sklearn import preprocessing\n",
    "from sklearn.preprocessing import StandardScaler\n",
    "\n",
    "\n",
    "def scale(df):\n",
    "    # scaling\n",
    "    X_train, X_test, y_train, y_test = train_test_split(df.drop(columns=['yield']), df['yield'], test_size=0.2, random_state=0)\n",
    "    ss = StandardScaler()\n",
    "    X_train_scaled = ss.fit_transform(X_train.values)\n",
    "    X_test_scaled = ss.transform(X_test.values)\n",
    "    return [X_train_scaled,X_test_scaled,y_train,y_test]\n",
    "\n",
    "import optuna\n",
    "from sklearn.model_selection import cross_val_score\n",
    "from lightgbm import LGBMRegressor\n",
    "def objective(trial, x, t, cv):\n",
    "    # 1. ハイパーパラメータごとに探索範囲を指定\n",
    "    n_estimaters = trial.suggest_int('n_estimators', 1, 100)\n",
    "    max_depth = trial.suggest_int('max_depth', 1, 10)\n",
    "    num_leaves = trial.suggest_int('num_leaves', 2, 10)\n",
    "    min_child_weight = trial.suggest_loguniform(\"min_child_weight\", 0.1, 10)\n",
    "    subsample = trial.suggest_uniform(\"subsample\",0.55, 0.95)    \n",
    "    colsample_bytree = trial.suggest_uniform(\"subsample\",0.55, 0.95)    \n",
    "\n",
    "    # 2. 学習に使用するアルゴリズムを指定\n",
    "    estimator = LGBMRegressor(\n",
    "        n_estimators=n_estimaters,\n",
    "        max_depth=max_depth,\n",
    "        num_leaves=num_leaves,\n",
    "        min_child_weight=min_child_weight,\n",
    "        subsample=subsample,\n",
    "        colsample_bytree= colsample_bytree,\n",
    "        random_state=43\n",
    "    )\n",
    "\n",
    "    # 3. 学習の実行、検証結果の表示\n",
    "    print('Current_params : ', trial.params)\n",
    "    r2 = cross_val_score(estimator, x, t, cv=cv, scoring=\"r2\").mean()\n",
    "    return r2"
   ]
  },
  {
   "cell_type": "code",
   "execution_count": 53,
   "id": "745cf72f-5db9-44d5-b649-3e8891423292",
   "metadata": {
    "collapsed": true,
    "jupyter": {
     "outputs_hidden": true
    },
    "tags": []
   },
   "outputs": [
    {
     "name": "stderr",
     "output_type": "stream",
     "text": [
      "\u001b[32m[I 2022-12-05 08:29:25,170]\u001b[0m A new study created in memory with name: no-name-0655b805-3dec-49d2-9aa6-ca3ca4ae4162\u001b[0m\n"
     ]
    },
    {
     "name": "stdout",
     "output_type": "stream",
     "text": [
      "Current_params :  {'n_estimators': 13, 'max_depth': 6, 'num_leaves': 10, 'min_child_weight': 2.2223139003619967, 'subsample': 0.6161277965056239}\n"
     ]
    },
    {
     "name": "stderr",
     "output_type": "stream",
     "text": [
      "\u001b[32m[I 2022-12-05 08:29:25,788]\u001b[0m Trial 0 finished with value: -0.13268061833247513 and parameters: {'n_estimators': 13, 'max_depth': 6, 'num_leaves': 10, 'min_child_weight': 2.2223139003619967, 'subsample': 0.6161277965056239}. Best is trial 0 with value: -0.13268061833247513.\u001b[0m\n"
     ]
    },
    {
     "name": "stdout",
     "output_type": "stream",
     "text": [
      "Current_params :  {'n_estimators': 76, 'max_depth': 1, 'num_leaves': 10, 'min_child_weight': 0.7259630007704551, 'subsample': 0.6268481590938403}\n"
     ]
    },
    {
     "name": "stderr",
     "output_type": "stream",
     "text": [
      "\u001b[32m[I 2022-12-05 08:29:26,391]\u001b[0m Trial 1 finished with value: -0.1314168738595139 and parameters: {'n_estimators': 76, 'max_depth': 1, 'num_leaves': 10, 'min_child_weight': 0.7259630007704551, 'subsample': 0.6268481590938403}. Best is trial 1 with value: -0.1314168738595139.\u001b[0m\n"
     ]
    },
    {
     "name": "stdout",
     "output_type": "stream",
     "text": [
      "Current_params :  {'n_estimators': 41, 'max_depth': 6, 'num_leaves': 6, 'min_child_weight': 6.628995133124165, 'subsample': 0.884115199496866}\n"
     ]
    },
    {
     "name": "stderr",
     "output_type": "stream",
     "text": [
      "\u001b[32m[I 2022-12-05 08:29:27,040]\u001b[0m Trial 2 finished with value: -0.08209443517222217 and parameters: {'n_estimators': 41, 'max_depth': 6, 'num_leaves': 6, 'min_child_weight': 6.628995133124165, 'subsample': 0.884115199496866}. Best is trial 2 with value: -0.08209443517222217.\u001b[0m\n"
     ]
    },
    {
     "name": "stdout",
     "output_type": "stream",
     "text": [
      "Current_params :  {'n_estimators': 31, 'max_depth': 1, 'num_leaves': 3, 'min_child_weight': 3.4273791466892836, 'subsample': 0.9078443525832435}\n"
     ]
    },
    {
     "name": "stderr",
     "output_type": "stream",
     "text": [
      "\u001b[32m[I 2022-12-05 08:29:27,822]\u001b[0m Trial 3 finished with value: -0.14464250472149365 and parameters: {'n_estimators': 31, 'max_depth': 1, 'num_leaves': 3, 'min_child_weight': 3.4273791466892836, 'subsample': 0.9078443525832435}. Best is trial 2 with value: -0.08209443517222217.\u001b[0m\n"
     ]
    },
    {
     "name": "stdout",
     "output_type": "stream",
     "text": [
      "Current_params :  {'n_estimators': 49, 'max_depth': 4, 'num_leaves': 2, 'min_child_weight': 0.45961421900507454, 'subsample': 0.922322040875989}\n"
     ]
    },
    {
     "name": "stderr",
     "output_type": "stream",
     "text": [
      "\u001b[32m[I 2022-12-05 08:29:28,738]\u001b[0m Trial 4 finished with value: -0.12937447925434073 and parameters: {'n_estimators': 49, 'max_depth': 4, 'num_leaves': 2, 'min_child_weight': 0.45961421900507454, 'subsample': 0.922322040875989}. Best is trial 2 with value: -0.08209443517222217.\u001b[0m\n"
     ]
    },
    {
     "name": "stdout",
     "output_type": "stream",
     "text": [
      "Current_params :  {'n_estimators': 13, 'max_depth': 4, 'num_leaves': 3, 'min_child_weight': 2.164114711034151, 'subsample': 0.8749350578431518}\n"
     ]
    },
    {
     "name": "stderr",
     "output_type": "stream",
     "text": [
      "\u001b[32m[I 2022-12-05 08:29:29,273]\u001b[0m Trial 5 finished with value: -0.15849148250042927 and parameters: {'n_estimators': 13, 'max_depth': 4, 'num_leaves': 3, 'min_child_weight': 2.164114711034151, 'subsample': 0.8749350578431518}. Best is trial 2 with value: -0.08209443517222217.\u001b[0m\n"
     ]
    },
    {
     "name": "stdout",
     "output_type": "stream",
     "text": [
      "Current_params :  {'n_estimators': 87, 'max_depth': 3, 'num_leaves': 2, 'min_child_weight': 1.9309588586763147, 'subsample': 0.7528255888987714}\n"
     ]
    },
    {
     "name": "stderr",
     "output_type": "stream",
     "text": [
      "\u001b[32m[I 2022-12-05 08:29:30,078]\u001b[0m Trial 6 finished with value: -0.13010766525938933 and parameters: {'n_estimators': 87, 'max_depth': 3, 'num_leaves': 2, 'min_child_weight': 1.9309588586763147, 'subsample': 0.7528255888987714}. Best is trial 2 with value: -0.08209443517222217.\u001b[0m\n"
     ]
    },
    {
     "name": "stdout",
     "output_type": "stream",
     "text": [
      "Current_params :  {'n_estimators': 17, 'max_depth': 6, 'num_leaves': 7, 'min_child_weight': 1.6085481831069233, 'subsample': 0.6505111514901745}\n"
     ]
    },
    {
     "name": "stderr",
     "output_type": "stream",
     "text": [
      "\u001b[32m[I 2022-12-05 08:29:30,676]\u001b[0m Trial 7 finished with value: -0.13436132412239404 and parameters: {'n_estimators': 17, 'max_depth': 6, 'num_leaves': 7, 'min_child_weight': 1.6085481831069233, 'subsample': 0.6505111514901745}. Best is trial 2 with value: -0.08209443517222217.\u001b[0m\n"
     ]
    },
    {
     "name": "stdout",
     "output_type": "stream",
     "text": [
      "Current_params :  {'n_estimators': 21, 'max_depth': 5, 'num_leaves': 7, 'min_child_weight': 0.1503791837963412, 'subsample': 0.7027201521837856}\n"
     ]
    },
    {
     "name": "stderr",
     "output_type": "stream",
     "text": [
      "\u001b[32m[I 2022-12-05 08:29:31,351]\u001b[0m Trial 8 finished with value: -0.10361013622349871 and parameters: {'n_estimators': 21, 'max_depth': 5, 'num_leaves': 7, 'min_child_weight': 0.1503791837963412, 'subsample': 0.7027201521837856}. Best is trial 2 with value: -0.08209443517222217.\u001b[0m\n"
     ]
    },
    {
     "name": "stdout",
     "output_type": "stream",
     "text": [
      "Current_params :  {'n_estimators': 77, 'max_depth': 3, 'num_leaves': 8, 'min_child_weight': 0.8531963244346612, 'subsample': 0.6287344980374171}\n"
     ]
    },
    {
     "name": "stderr",
     "output_type": "stream",
     "text": [
      "\u001b[32m[I 2022-12-05 08:29:32,406]\u001b[0m Trial 9 finished with value: -0.176991132722046 and parameters: {'n_estimators': 77, 'max_depth': 3, 'num_leaves': 8, 'min_child_weight': 0.8531963244346612, 'subsample': 0.6287344980374171}. Best is trial 2 with value: -0.08209443517222217.\u001b[0m\n"
     ]
    },
    {
     "name": "stdout",
     "output_type": "stream",
     "text": [
      "Current_params :  {'n_estimators': 54, 'max_depth': 9, 'num_leaves': 5, 'min_child_weight': 8.976260342011727, 'subsample': 0.808590025834832}\n"
     ]
    },
    {
     "name": "stderr",
     "output_type": "stream",
     "text": [
      "\u001b[32m[I 2022-12-05 08:29:33,505]\u001b[0m Trial 10 finished with value: -0.13196866130727739 and parameters: {'n_estimators': 54, 'max_depth': 9, 'num_leaves': 5, 'min_child_weight': 8.976260342011727, 'subsample': 0.808590025834832}. Best is trial 2 with value: -0.08209443517222217.\u001b[0m\n"
     ]
    },
    {
     "name": "stdout",
     "output_type": "stream",
     "text": [
      "Current_params :  {'n_estimators': 40, 'max_depth': 8, 'num_leaves': 5, 'min_child_weight': 0.1361497811200107, 'subsample': 0.7214942254449304}\n"
     ]
    },
    {
     "name": "stderr",
     "output_type": "stream",
     "text": [
      "\u001b[32m[I 2022-12-05 08:29:34,241]\u001b[0m Trial 11 finished with value: -0.0825369511696596 and parameters: {'n_estimators': 40, 'max_depth': 8, 'num_leaves': 5, 'min_child_weight': 0.1361497811200107, 'subsample': 0.7214942254449304}. Best is trial 2 with value: -0.08209443517222217.\u001b[0m\n"
     ]
    },
    {
     "name": "stdout",
     "output_type": "stream",
     "text": [
      "Current_params :  {'n_estimators': 43, 'max_depth': 9, 'num_leaves': 5, 'min_child_weight': 0.10206342978039998, 'subsample': 0.8229472085263971}\n"
     ]
    },
    {
     "name": "stderr",
     "output_type": "stream",
     "text": [
      "\u001b[32m[I 2022-12-05 08:29:34,983]\u001b[0m Trial 12 finished with value: -0.12294070562351707 and parameters: {'n_estimators': 43, 'max_depth': 9, 'num_leaves': 5, 'min_child_weight': 0.10206342978039998, 'subsample': 0.8229472085263971}. Best is trial 2 with value: -0.08209443517222217.\u001b[0m\n"
     ]
    },
    {
     "name": "stdout",
     "output_type": "stream",
     "text": [
      "Current_params :  {'n_estimators': 36, 'max_depth': 8, 'num_leaves': 5, 'min_child_weight': 0.23713341675518004, 'subsample': 0.7256323946838023}\n"
     ]
    },
    {
     "name": "stderr",
     "output_type": "stream",
     "text": [
      "\u001b[32m[I 2022-12-05 08:29:35,648]\u001b[0m Trial 13 finished with value: -0.0797730075891511 and parameters: {'n_estimators': 36, 'max_depth': 8, 'num_leaves': 5, 'min_child_weight': 0.23713341675518004, 'subsample': 0.7256323946838023}. Best is trial 13 with value: -0.0797730075891511.\u001b[0m\n"
     ]
    },
    {
     "name": "stdout",
     "output_type": "stream",
     "text": [
      "Current_params :  {'n_estimators': 62, 'max_depth': 7, 'num_leaves': 6, 'min_child_weight': 0.32203581575342005, 'subsample': 0.5608103427995922}\n"
     ]
    },
    {
     "name": "stderr",
     "output_type": "stream",
     "text": [
      "\u001b[32m[I 2022-12-05 08:29:36,568]\u001b[0m Trial 14 finished with value: -0.16805798580542475 and parameters: {'n_estimators': 62, 'max_depth': 7, 'num_leaves': 6, 'min_child_weight': 0.32203581575342005, 'subsample': 0.5608103427995922}. Best is trial 13 with value: -0.0797730075891511.\u001b[0m\n"
     ]
    },
    {
     "name": "stdout",
     "output_type": "stream",
     "text": [
      "Current_params :  {'n_estimators': 3, 'max_depth': 10, 'num_leaves': 4, 'min_child_weight': 9.738053857060404, 'subsample': 0.7967207736905482}\n"
     ]
    },
    {
     "name": "stderr",
     "output_type": "stream",
     "text": [
      "\u001b[32m[I 2022-12-05 08:29:37,259]\u001b[0m Trial 15 finished with value: -0.43308926869175524 and parameters: {'n_estimators': 3, 'max_depth': 10, 'num_leaves': 4, 'min_child_weight': 9.738053857060404, 'subsample': 0.7967207736905482}. Best is trial 13 with value: -0.0797730075891511.\u001b[0m\n"
     ]
    },
    {
     "name": "stdout",
     "output_type": "stream",
     "text": [
      "Current_params :  {'n_estimators': 31, 'max_depth': 7, 'num_leaves': 7, 'min_child_weight': 0.2879686986088663, 'subsample': 0.8599400957395895}\n"
     ]
    },
    {
     "name": "stderr",
     "output_type": "stream",
     "text": [
      "\u001b[32m[I 2022-12-05 08:29:38,751]\u001b[0m Trial 16 finished with value: -0.09069311444986457 and parameters: {'n_estimators': 31, 'max_depth': 7, 'num_leaves': 7, 'min_child_weight': 0.2879686986088663, 'subsample': 0.8599400957395895}. Best is trial 13 with value: -0.0797730075891511.\u001b[0m\n"
     ]
    },
    {
     "name": "stdout",
     "output_type": "stream",
     "text": [
      "Current_params :  {'n_estimators': 62, 'max_depth': 8, 'num_leaves': 8, 'min_child_weight': 4.199549958822171, 'subsample': 0.7707330774867037}\n"
     ]
    },
    {
     "name": "stderr",
     "output_type": "stream",
     "text": [
      "\u001b[32m[I 2022-12-05 08:29:40,185]\u001b[0m Trial 17 finished with value: -0.1500198439328095 and parameters: {'n_estimators': 62, 'max_depth': 8, 'num_leaves': 8, 'min_child_weight': 4.199549958822171, 'subsample': 0.7707330774867037}. Best is trial 13 with value: -0.0797730075891511.\u001b[0m\n"
     ]
    },
    {
     "name": "stdout",
     "output_type": "stream",
     "text": [
      "Current_params :  {'n_estimators': 31, 'max_depth': 10, 'num_leaves': 6, 'min_child_weight': 5.161391268941661, 'subsample': 0.6856347596088876}\n"
     ]
    },
    {
     "name": "stderr",
     "output_type": "stream",
     "text": [
      "\u001b[32m[I 2022-12-05 08:29:40,957]\u001b[0m Trial 18 finished with value: -0.0806523532878326 and parameters: {'n_estimators': 31, 'max_depth': 10, 'num_leaves': 6, 'min_child_weight': 5.161391268941661, 'subsample': 0.6856347596088876}. Best is trial 13 with value: -0.0797730075891511.\u001b[0m\n"
     ]
    },
    {
     "name": "stdout",
     "output_type": "stream",
     "text": [
      "Current_params :  {'n_estimators': 29, 'max_depth': 10, 'num_leaves': 4, 'min_child_weight': 0.513720448950051, 'subsample': 0.6837728549431834}\n"
     ]
    },
    {
     "name": "stderr",
     "output_type": "stream",
     "text": [
      "\u001b[32m[I 2022-12-05 08:29:41,689]\u001b[0m Trial 19 finished with value: -0.09148902517911861 and parameters: {'n_estimators': 29, 'max_depth': 10, 'num_leaves': 4, 'min_child_weight': 0.513720448950051, 'subsample': 0.6837728549431834}. Best is trial 13 with value: -0.0797730075891511.\u001b[0m\n"
     ]
    },
    {
     "name": "stdout",
     "output_type": "stream",
     "text": [
      "Current_params :  {'n_estimators': 98, 'max_depth': 9, 'num_leaves': 9, 'min_child_weight': 1.2003793175489559, 'subsample': 0.5622266251788491}\n"
     ]
    },
    {
     "name": "stderr",
     "output_type": "stream",
     "text": [
      "\u001b[32m[I 2022-12-05 08:29:43,077]\u001b[0m Trial 20 finished with value: -0.18375553849649373 and parameters: {'n_estimators': 98, 'max_depth': 9, 'num_leaves': 9, 'min_child_weight': 1.2003793175489559, 'subsample': 0.5622266251788491}. Best is trial 13 with value: -0.0797730075891511.\u001b[0m\n"
     ]
    },
    {
     "name": "stdout",
     "output_type": "stream",
     "text": [
      "Current_params :  {'n_estimators': 40, 'max_depth': 7, 'num_leaves': 6, 'min_child_weight': 5.459290341166786, 'subsample': 0.7295876954969629}\n"
     ]
    },
    {
     "name": "stderr",
     "output_type": "stream",
     "text": [
      "\u001b[32m[I 2022-12-05 08:29:43,891]\u001b[0m Trial 21 finished with value: -0.09639847853620712 and parameters: {'n_estimators': 40, 'max_depth': 7, 'num_leaves': 6, 'min_child_weight': 5.459290341166786, 'subsample': 0.7295876954969629}. Best is trial 13 with value: -0.0797730075891511.\u001b[0m\n"
     ]
    },
    {
     "name": "stdout",
     "output_type": "stream",
     "text": [
      "Current_params :  {'n_estimators': 31, 'max_depth': 8, 'num_leaves': 6, 'min_child_weight': 5.6448044062201985, 'subsample': 0.6717743284580773}\n"
     ]
    },
    {
     "name": "stderr",
     "output_type": "stream",
     "text": [
      "\u001b[32m[I 2022-12-05 08:29:44,502]\u001b[0m Trial 22 finished with value: -0.11387448255905212 and parameters: {'n_estimators': 31, 'max_depth': 8, 'num_leaves': 6, 'min_child_weight': 5.6448044062201985, 'subsample': 0.6717743284580773}. Best is trial 13 with value: -0.0797730075891511.\u001b[0m\n"
     ]
    },
    {
     "name": "stdout",
     "output_type": "stream",
     "text": [
      "Current_params :  {'n_estimators': 55, 'max_depth': 10, 'num_leaves': 4, 'min_child_weight': 6.9491668293287265, 'subsample': 0.9450082728087235}\n"
     ]
    },
    {
     "name": "stderr",
     "output_type": "stream",
     "text": [
      "\u001b[32m[I 2022-12-05 08:29:45,527]\u001b[0m Trial 23 finished with value: -0.11619918744207754 and parameters: {'n_estimators': 55, 'max_depth': 10, 'num_leaves': 4, 'min_child_weight': 6.9491668293287265, 'subsample': 0.9450082728087235}. Best is trial 13 with value: -0.0797730075891511.\u001b[0m\n"
     ]
    },
    {
     "name": "stdout",
     "output_type": "stream",
     "text": [
      "Current_params :  {'n_estimators': 24, 'max_depth': 9, 'num_leaves': 6, 'min_child_weight': 3.3112255911545514, 'subsample': 0.775676562040901}\n"
     ]
    },
    {
     "name": "stderr",
     "output_type": "stream",
     "text": [
      "\u001b[32m[I 2022-12-05 08:29:46,260]\u001b[0m Trial 24 finished with value: -0.09495564979331281 and parameters: {'n_estimators': 24, 'max_depth': 9, 'num_leaves': 6, 'min_child_weight': 3.3112255911545514, 'subsample': 0.775676562040901}. Best is trial 13 with value: -0.0797730075891511.\u001b[0m\n"
     ]
    },
    {
     "name": "stdout",
     "output_type": "stream",
     "text": [
      "Current_params :  {'n_estimators': 45, 'max_depth': 5, 'num_leaves': 5, 'min_child_weight': 0.216266785285344, 'subsample': 0.8376468054020726}\n"
     ]
    },
    {
     "name": "stderr",
     "output_type": "stream",
     "text": [
      "\u001b[32m[I 2022-12-05 08:29:47,039]\u001b[0m Trial 25 finished with value: -0.12083658562624625 and parameters: {'n_estimators': 45, 'max_depth': 5, 'num_leaves': 5, 'min_child_weight': 0.216266785285344, 'subsample': 0.8376468054020726}. Best is trial 13 with value: -0.0797730075891511.\u001b[0m\n"
     ]
    },
    {
     "name": "stdout",
     "output_type": "stream",
     "text": [
      "Current_params :  {'n_estimators': 35, 'max_depth': 8, 'num_leaves': 7, 'min_child_weight': 1.1838317565851835, 'subsample': 0.7283242037176905}\n"
     ]
    },
    {
     "name": "stderr",
     "output_type": "stream",
     "text": [
      "\u001b[32m[I 2022-12-05 08:29:47,679]\u001b[0m Trial 26 finished with value: -0.08129183321343682 and parameters: {'n_estimators': 35, 'max_depth': 8, 'num_leaves': 7, 'min_child_weight': 1.1838317565851835, 'subsample': 0.7283242037176905}. Best is trial 13 with value: -0.0797730075891511.\u001b[0m\n"
     ]
    },
    {
     "name": "stdout",
     "output_type": "stream",
     "text": [
      "Current_params :  {'n_estimators': 2, 'max_depth': 8, 'num_leaves': 8, 'min_child_weight': 0.6254474204867901, 'subsample': 0.7318166884758787}\n"
     ]
    },
    {
     "name": "stderr",
     "output_type": "stream",
     "text": [
      "\u001b[32m[I 2022-12-05 08:29:48,155]\u001b[0m Trial 27 finished with value: -0.5332215947093375 and parameters: {'n_estimators': 2, 'max_depth': 8, 'num_leaves': 8, 'min_child_weight': 0.6254474204867901, 'subsample': 0.7318166884758787}. Best is trial 13 with value: -0.0797730075891511.\u001b[0m\n"
     ]
    },
    {
     "name": "stdout",
     "output_type": "stream",
     "text": [
      "Current_params :  {'n_estimators': 34, 'max_depth': 10, 'num_leaves': 7, 'min_child_weight': 1.1647222787859262, 'subsample': 0.6969301783904213}\n"
     ]
    },
    {
     "name": "stderr",
     "output_type": "stream",
     "text": [
      "\u001b[32m[I 2022-12-05 08:29:48,982]\u001b[0m Trial 28 finished with value: -0.07416216404075347 and parameters: {'n_estimators': 34, 'max_depth': 10, 'num_leaves': 7, 'min_child_weight': 1.1647222787859262, 'subsample': 0.6969301783904213}. Best is trial 28 with value: -0.07416216404075347.\u001b[0m\n"
     ]
    },
    {
     "name": "stdout",
     "output_type": "stream",
     "text": [
      "Current_params :  {'n_estimators': 9, 'max_depth': 10, 'num_leaves': 9, 'min_child_weight': 0.37056020737919326, 'subsample': 0.6635832365033287}\n"
     ]
    },
    {
     "name": "stderr",
     "output_type": "stream",
     "text": [
      "\u001b[32m[I 2022-12-05 08:29:49,638]\u001b[0m Trial 29 finished with value: -0.17220548392786195 and parameters: {'n_estimators': 9, 'max_depth': 10, 'num_leaves': 9, 'min_child_weight': 0.37056020737919326, 'subsample': 0.6635832365033287}. Best is trial 28 with value: -0.07416216404075347.\u001b[0m\n"
     ]
    },
    {
     "name": "stdout",
     "output_type": "stream",
     "text": [
      "Current_params :  {'n_estimators': 23, 'max_depth': 10, 'num_leaves': 7, 'min_child_weight': 2.871584453965961, 'subsample': 0.6025385158342295}\n"
     ]
    },
    {
     "name": "stderr",
     "output_type": "stream",
     "text": [
      "\u001b[32m[I 2022-12-05 08:29:50,283]\u001b[0m Trial 30 finished with value: -0.1380442332861475 and parameters: {'n_estimators': 23, 'max_depth': 10, 'num_leaves': 7, 'min_child_weight': 2.871584453965961, 'subsample': 0.6025385158342295}. Best is trial 28 with value: -0.07416216404075347.\u001b[0m\n"
     ]
    },
    {
     "name": "stdout",
     "output_type": "stream",
     "text": [
      "Current_params :  {'n_estimators': 36, 'max_depth': 9, 'num_leaves': 7, 'min_child_weight': 1.0921067905624047, 'subsample': 0.6936425116770533}\n"
     ]
    },
    {
     "name": "stderr",
     "output_type": "stream",
     "text": [
      "\u001b[32m[I 2022-12-05 08:29:51,320]\u001b[0m Trial 31 finished with value: -0.07897990201184191 and parameters: {'n_estimators': 36, 'max_depth': 9, 'num_leaves': 7, 'min_child_weight': 1.0921067905624047, 'subsample': 0.6936425116770533}. Best is trial 28 with value: -0.07416216404075347.\u001b[0m\n"
     ]
    },
    {
     "name": "stdout",
     "output_type": "stream",
     "text": [
      "Current_params :  {'n_estimators': 36, 'max_depth': 9, 'num_leaves': 8, 'min_child_weight': 1.4679901109157771, 'subsample': 0.6958294616627694}\n"
     ]
    },
    {
     "name": "stderr",
     "output_type": "stream",
     "text": [
      "\u001b[32m[I 2022-12-05 08:29:52,184]\u001b[0m Trial 32 finished with value: -0.07765763635005755 and parameters: {'n_estimators': 36, 'max_depth': 9, 'num_leaves': 8, 'min_child_weight': 1.4679901109157771, 'subsample': 0.6958294616627694}. Best is trial 28 with value: -0.07416216404075347.\u001b[0m\n"
     ]
    },
    {
     "name": "stdout",
     "output_type": "stream",
     "text": [
      "Current_params :  {'n_estimators': 50, 'max_depth': 9, 'num_leaves': 9, 'min_child_weight': 1.3748010709911984, 'subsample': 0.7034124675252665}\n"
     ]
    },
    {
     "name": "stderr",
     "output_type": "stream",
     "text": [
      "\u001b[32m[I 2022-12-05 08:29:53,561]\u001b[0m Trial 33 finished with value: -0.0998570404020758 and parameters: {'n_estimators': 50, 'max_depth': 9, 'num_leaves': 9, 'min_child_weight': 1.3748010709911984, 'subsample': 0.7034124675252665}. Best is trial 28 with value: -0.07416216404075347.\u001b[0m\n"
     ]
    },
    {
     "name": "stdout",
     "output_type": "stream",
     "text": [
      "Current_params :  {'n_estimators': 37, 'max_depth': 9, 'num_leaves': 10, 'min_child_weight': 0.8960984861494086, 'subsample': 0.6282221142579825}\n"
     ]
    },
    {
     "name": "stderr",
     "output_type": "stream",
     "text": [
      "\u001b[32m[I 2022-12-05 08:29:54,341]\u001b[0m Trial 34 finished with value: -0.14585182193680682 and parameters: {'n_estimators': 37, 'max_depth': 9, 'num_leaves': 10, 'min_child_weight': 0.8960984861494086, 'subsample': 0.6282221142579825}. Best is trial 28 with value: -0.07416216404075347.\u001b[0m\n"
     ]
    },
    {
     "name": "stdout",
     "output_type": "stream",
     "text": [
      "Current_params :  {'n_estimators': 63, 'max_depth': 7, 'num_leaves': 8, 'min_child_weight': 0.9675287400959531, 'subsample': 0.6462972113615431}\n"
     ]
    },
    {
     "name": "stderr",
     "output_type": "stream",
     "text": [
      "\u001b[32m[I 2022-12-05 08:29:55,536]\u001b[0m Trial 35 finished with value: -0.1688618638789519 and parameters: {'n_estimators': 63, 'max_depth': 7, 'num_leaves': 8, 'min_child_weight': 0.9675287400959531, 'subsample': 0.6462972113615431}. Best is trial 28 with value: -0.07416216404075347.\u001b[0m\n"
     ]
    },
    {
     "name": "stdout",
     "output_type": "stream",
     "text": [
      "Current_params :  {'n_estimators': 26, 'max_depth': 9, 'num_leaves': 9, 'min_child_weight': 0.6148465413091372, 'subsample': 0.5931320934305157}\n"
     ]
    },
    {
     "name": "stderr",
     "output_type": "stream",
     "text": [
      "\u001b[32m[I 2022-12-05 08:29:56,318]\u001b[0m Trial 36 finished with value: -0.11811887174392424 and parameters: {'n_estimators': 26, 'max_depth': 9, 'num_leaves': 9, 'min_child_weight': 0.6148465413091372, 'subsample': 0.5931320934305157}. Best is trial 28 with value: -0.07416216404075347.\u001b[0m\n"
     ]
    },
    {
     "name": "stdout",
     "output_type": "stream",
     "text": [
      "Current_params :  {'n_estimators': 48, 'max_depth': 8, 'num_leaves': 8, 'min_child_weight': 1.6358623470868763, 'subsample': 0.753118507438866}\n"
     ]
    },
    {
     "name": "stderr",
     "output_type": "stream",
     "text": [
      "\u001b[32m[I 2022-12-05 08:29:57,448]\u001b[0m Trial 37 finished with value: -0.12349229170733918 and parameters: {'n_estimators': 48, 'max_depth': 8, 'num_leaves': 8, 'min_child_weight': 1.6358623470868763, 'subsample': 0.753118507438866}. Best is trial 28 with value: -0.07416216404075347.\u001b[0m\n"
     ]
    },
    {
     "name": "stdout",
     "output_type": "stream",
     "text": [
      "Current_params :  {'n_estimators': 15, 'max_depth': 10, 'num_leaves': 7, 'min_child_weight': 2.3672398920456668, 'subsample': 0.7038469984060182}\n"
     ]
    },
    {
     "name": "stderr",
     "output_type": "stream",
     "text": [
      "\u001b[32m[I 2022-12-05 08:29:58,230]\u001b[0m Trial 38 finished with value: -0.12031596680957471 and parameters: {'n_estimators': 15, 'max_depth': 10, 'num_leaves': 7, 'min_child_weight': 2.3672398920456668, 'subsample': 0.7038469984060182}. Best is trial 28 with value: -0.07416216404075347.\u001b[0m\n"
     ]
    },
    {
     "name": "stdout",
     "output_type": "stream",
     "text": [
      "Current_params :  {'n_estimators': 37, 'max_depth': 6, 'num_leaves': 3, 'min_child_weight': 0.7130004337142303, 'subsample': 0.7807265508592639}\n"
     ]
    },
    {
     "name": "stderr",
     "output_type": "stream",
     "text": [
      "\u001b[32m[I 2022-12-05 08:29:59,384]\u001b[0m Trial 39 finished with value: -0.09826710948545489 and parameters: {'n_estimators': 37, 'max_depth': 6, 'num_leaves': 3, 'min_child_weight': 0.7130004337142303, 'subsample': 0.7807265508592639}. Best is trial 28 with value: -0.07416216404075347.\u001b[0m\n"
     ]
    },
    {
     "name": "stdout",
     "output_type": "stream",
     "text": [
      "Current_params :  {'n_estimators': 18, 'max_depth': 1, 'num_leaves': 10, 'min_child_weight': 1.7828322986470595, 'subsample': 0.7543661606471636}\n"
     ]
    },
    {
     "name": "stderr",
     "output_type": "stream",
     "text": [
      "\u001b[32m[I 2022-12-05 08:30:00,078]\u001b[0m Trial 40 finished with value: -0.14768828552290708 and parameters: {'n_estimators': 18, 'max_depth': 1, 'num_leaves': 10, 'min_child_weight': 1.7828322986470595, 'subsample': 0.7543661606471636}. Best is trial 28 with value: -0.07416216404075347.\u001b[0m\n"
     ]
    },
    {
     "name": "stdout",
     "output_type": "stream",
     "text": [
      "Current_params :  {'n_estimators': 34, 'max_depth': 10, 'num_leaves': 6, 'min_child_weight': 1.2800766877837557, 'subsample': 0.6870220130314253}\n"
     ]
    },
    {
     "name": "stderr",
     "output_type": "stream",
     "text": [
      "\u001b[32m[I 2022-12-05 08:30:01,013]\u001b[0m Trial 41 finished with value: -0.07693624631169597 and parameters: {'n_estimators': 34, 'max_depth': 10, 'num_leaves': 6, 'min_child_weight': 1.2800766877837557, 'subsample': 0.6870220130314253}. Best is trial 28 with value: -0.07416216404075347.\u001b[0m\n"
     ]
    },
    {
     "name": "stdout",
     "output_type": "stream",
     "text": [
      "Current_params :  {'n_estimators': 35, 'max_depth': 9, 'num_leaves': 7, 'min_child_weight': 1.375592033109232, 'subsample': 0.6528865957742256}\n"
     ]
    },
    {
     "name": "stderr",
     "output_type": "stream",
     "text": [
      "\u001b[32m[I 2022-12-05 08:30:01,883]\u001b[0m Trial 42 finished with value: -0.1204782761086852 and parameters: {'n_estimators': 35, 'max_depth': 9, 'num_leaves': 7, 'min_child_weight': 1.375592033109232, 'subsample': 0.6528865957742256}. Best is trial 28 with value: -0.07416216404075347.\u001b[0m\n"
     ]
    },
    {
     "name": "stdout",
     "output_type": "stream",
     "text": [
      "Current_params :  {'n_estimators': 44, 'max_depth': 10, 'num_leaves': 6, 'min_child_weight': 2.247996541811737, 'subsample': 0.6898629469743338}\n"
     ]
    },
    {
     "name": "stderr",
     "output_type": "stream",
     "text": [
      "\u001b[32m[I 2022-12-05 08:30:02,742]\u001b[0m Trial 43 finished with value: -0.09172032349387345 and parameters: {'n_estimators': 44, 'max_depth': 10, 'num_leaves': 6, 'min_child_weight': 2.247996541811737, 'subsample': 0.6898629469743338}. Best is trial 28 with value: -0.07416216404075347.\u001b[0m\n"
     ]
    },
    {
     "name": "stdout",
     "output_type": "stream",
     "text": [
      "Current_params :  {'n_estimators': 27, 'max_depth': 9, 'num_leaves': 5, 'min_child_weight': 1.1164076557695497, 'subsample': 0.7119534103319296}\n"
     ]
    },
    {
     "name": "stderr",
     "output_type": "stream",
     "text": [
      "\u001b[32m[I 2022-12-05 08:30:03,385]\u001b[0m Trial 44 finished with value: -0.10115456026337191 and parameters: {'n_estimators': 27, 'max_depth': 9, 'num_leaves': 5, 'min_child_weight': 1.1164076557695497, 'subsample': 0.7119534103319296}. Best is trial 28 with value: -0.07416216404075347.\u001b[0m\n"
     ]
    },
    {
     "name": "stdout",
     "output_type": "stream",
     "text": [
      "Current_params :  {'n_estimators': 55, 'max_depth': 8, 'num_leaves': 8, 'min_child_weight': 0.8617608005597318, 'subsample': 0.6695783777575723}\n"
     ]
    },
    {
     "name": "stderr",
     "output_type": "stream",
     "text": [
      "\u001b[32m[I 2022-12-05 08:30:04,195]\u001b[0m Trial 45 finished with value: -0.14281344185713363 and parameters: {'n_estimators': 55, 'max_depth': 8, 'num_leaves': 8, 'min_child_weight': 0.8617608005597318, 'subsample': 0.6695783777575723}. Best is trial 28 with value: -0.07416216404075347.\u001b[0m\n"
     ]
    },
    {
     "name": "stdout",
     "output_type": "stream",
     "text": [
      "Current_params :  {'n_estimators': 20, 'max_depth': 10, 'num_leaves': 7, 'min_child_weight': 0.47101458493880993, 'subsample': 0.7408577310159663}\n"
     ]
    },
    {
     "name": "stderr",
     "output_type": "stream",
     "text": [
      "\u001b[32m[I 2022-12-05 08:30:04,788]\u001b[0m Trial 46 finished with value: -0.11404454959145746 and parameters: {'n_estimators': 20, 'max_depth': 10, 'num_leaves': 7, 'min_child_weight': 0.47101458493880993, 'subsample': 0.7408577310159663}. Best is trial 28 with value: -0.07416216404075347.\u001b[0m\n"
     ]
    },
    {
     "name": "stdout",
     "output_type": "stream",
     "text": [
      "Current_params :  {'n_estimators': 10, 'max_depth': 2, 'num_leaves': 6, 'min_child_weight': 0.6852119488257786, 'subsample': 0.6440043860484134}\n"
     ]
    },
    {
     "name": "stderr",
     "output_type": "stream",
     "text": [
      "\u001b[32m[I 2022-12-05 08:30:05,295]\u001b[0m Trial 47 finished with value: -0.15720256916531472 and parameters: {'n_estimators': 10, 'max_depth': 2, 'num_leaves': 6, 'min_child_weight': 0.6852119488257786, 'subsample': 0.6440043860484134}. Best is trial 28 with value: -0.07416216404075347.\u001b[0m\n"
     ]
    },
    {
     "name": "stdout",
     "output_type": "stream",
     "text": [
      "Current_params :  {'n_estimators': 39, 'max_depth': 9, 'num_leaves': 5, 'min_child_weight': 1.4480764130269856, 'subsample': 0.6883661959502225}\n"
     ]
    },
    {
     "name": "stderr",
     "output_type": "stream",
     "text": [
      "\u001b[32m[I 2022-12-05 08:30:05,984]\u001b[0m Trial 48 finished with value: -0.08436940367715481 and parameters: {'n_estimators': 39, 'max_depth': 9, 'num_leaves': 5, 'min_child_weight': 1.4480764130269856, 'subsample': 0.6883661959502225}. Best is trial 28 with value: -0.07416216404075347.\u001b[0m\n"
     ]
    },
    {
     "name": "stdout",
     "output_type": "stream",
     "text": [
      "Current_params :  {'n_estimators': 44, 'max_depth': 7, 'num_leaves': 7, 'min_child_weight': 1.997991859135557, 'subsample': 0.7137121747521387}\n"
     ]
    },
    {
     "name": "stderr",
     "output_type": "stream",
     "text": [
      "\u001b[32m[I 2022-12-05 08:30:06,738]\u001b[0m Trial 49 finished with value: -0.09316500418623883 and parameters: {'n_estimators': 44, 'max_depth': 7, 'num_leaves': 7, 'min_child_weight': 1.997991859135557, 'subsample': 0.7137121747521387}. Best is trial 28 with value: -0.07416216404075347.\u001b[0m\n"
     ]
    }
   ],
   "source": [
    "# study オブジェクトの作成（最大化）\n",
    "study = optuna.create_study(direction='maximize')\n",
    "# 10分割交差検証によるチューニング\n",
    "cv = 10\n",
    "[X_train_scaled,X_test_scaled,y_train,y_test] = scale(df1)\n",
    "study.optimize(lambda trial: objective(trial, X_train_scaled, y_train, cv), n_trials=50)"
   ]
  },
  {
   "cell_type": "code",
   "execution_count": 64,
   "id": "0dfa846d-731f-4484-8d98-ff47bbaee73f",
   "metadata": {},
   "outputs": [
    {
     "name": "stdout",
     "output_type": "stream",
     "text": [
      "$R^{2}$=0.319\n",
      "$R^{2}$=-0.818\n"
     ]
    },
    {
     "name": "stderr",
     "output_type": "stream",
     "text": [
      "/var/folders/12/6r_lrg9d6kx949nw6gcq9ksh0000gn/T/ipykernel_39492/2064959925.py:28: UserWarning: Matplotlib is currently using module://matplotlib_inline.backend_inline, which is a non-GUI backend, so cannot show the figure.\n",
      "  fig.show()\n"
     ]
    },
    {
     "data": {
      "text/plain": [
       "<Figure size 1800x500 with 0 Axes>"
      ]
     },
     "metadata": {},
     "output_type": "display_data"
    }
   ],
   "source": [
    "best_params = study.best_params\n",
    "best_model = LGBMRegressor(**best_params)\n",
    "%matplotlib inline\n",
    "import matplotlib.pyplot as plt\n",
    "from sklearn.model_selection import cross_val_predict\n",
    "from sklearn.metrics import r2_score\n",
    "\n",
    "# 予測値を算出)\n",
    "best_model.fit(X_train_scaled, y_train)\n",
    "train_y_in_cv = cross_val_predict(best_model, X_train_scaled, y_train, cv=10)\n",
    "predict_y = best_model.predict(X_test_scaled)\n",
    "\n",
    "fig = plt.figure(figsize=(18.0, 5.0))\n",
    "ax_cv.set_title(\"Q2\")\n",
    "ax_cv.set_xlabel('pred') \n",
    "ax_cv.set_ylabel('exp')  \n",
    "\n",
    "ax_ext.set_title(\"External Validation\")\n",
    "ax_ext.set_xlabel('pred')\n",
    "ax_ext.set_ylabel('exp') \n",
    "\n",
    "ax_cv.scatter(train_y_in_cv, y_train)\n",
    "ax_ext.scatter(predict_y, y_test)\n",
    "\n",
    "\n",
    "print('$R^{2}$=' + str(round(r2_score(y_train, train_y_in_cv), 3)))\n",
    "print('$R^{2}$=' + str(round(r2_score(predict_y, y_test), 3)))\n",
    "fig.show()"
   ]
  },
  {
   "cell_type": "code",
   "execution_count": null,
   "id": "cf4c87db-03bb-4f5e-8d6a-371163598302",
   "metadata": {},
   "outputs": [],
   "source": []
  }
 ],
 "metadata": {
  "kernelspec": {
   "display_name": "Python 3 (ipykernel)",
   "language": "python",
   "name": "python3"
  },
  "language_info": {
   "codemirror_mode": {
    "name": "ipython",
    "version": 3
   },
   "file_extension": ".py",
   "mimetype": "text/x-python",
   "name": "python",
   "nbconvert_exporter": "python",
   "pygments_lexer": "ipython3",
   "version": "3.9.13"
  }
 },
 "nbformat": 4,
 "nbformat_minor": 5
}
