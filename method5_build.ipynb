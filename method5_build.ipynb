{
 "cells": [
  {
   "cell_type": "markdown",
   "id": "a7403b31-13ac-45c1-8aab-52aa24794f21",
   "metadata": {},
   "source": [
    "# 特徴量の組み合わせ\n",
    "1. avaron + mordred\n",
    "2. morgan + mordred\n",
    "3. msccs + mordred\n",
    "4. rdkit + mordred\n",
    "5. selected_avaron + mordred"
   ]
  },
  {
   "cell_type": "code",
   "execution_count": null,
   "id": "b4f1a66d-5d81-479d-80c7-03b65ab6481b",
   "metadata": {},
   "outputs": [],
   "source": []
  }
 ],
 "metadata": {
  "kernelspec": {
   "display_name": "Python 3 (ipykernel)",
   "language": "python",
   "name": "python3"
  },
  "language_info": {
   "codemirror_mode": {
    "name": "ipython",
    "version": 3
   },
   "file_extension": ".py",
   "mimetype": "text/x-python",
   "name": "python",
   "nbconvert_exporter": "python",
   "pygments_lexer": "ipython3",
   "version": "3.9.13"
  }
 },
 "nbformat": 4,
 "nbformat_minor": 5
}
