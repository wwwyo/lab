{
 "cells": [
  {
   "cell_type": "markdown",
   "id": "a7403b31-13ac-45c1-8aab-52aa24794f21",
   "metadata": {},
   "source": [
    "# 特徴量の組み合わせ\n",
    "1. avaron + mordred\n",
    "2. morgan + mordred\n",
    "3. msccs + mordred\n",
    "4. rdkit + mordred\n",
    "5. selected_avaron + mordred\n",
    "6. boruta_avalon + mordred\n",
    "7. boruta_avalon + boruta_mordred\n",
    "8. boruta_rdkit + boruta_mordred\n",
    "9. boruta_maccs + boruta_mordred\n",
    "10. boruta_morgan_features + boruta_mordred"
   ]
  },
  {
   "cell_type": "code",
   "execution_count": 1,
   "id": "b4f1a66d-5d81-479d-80c7-03b65ab6481b",
   "metadata": {},
   "outputs": [],
   "source": [
    "import pandas as pd"
   ]
  },
  {
   "cell_type": "code",
   "execution_count": 29,
   "id": "13a202b3-2de1-433d-b033-01c6186d880d",
   "metadata": {},
   "outputs": [
    {
     "data": {
      "text/plain": [
       "Index(['yield', 'organocatalyst(mol%)', 'temp(℃)', 'time(h)', '266_R1-',\n",
       "       '324_R1-', '85_organocatalyst', '93_organocatalyst',\n",
       "       '132_organocatalyst', '138_organocatalyst', '150_organocatalyst',\n",
       "       '160_organocatalyst', '246_organocatalyst', '258_organocatalyst',\n",
       "       '266_organocatalyst', '286_organocatalyst', '365_organocatalyst',\n",
       "       '370_organocatalyst', '372_organocatalyst', '378_organocatalyst',\n",
       "       '380_organocatalyst', '386_organocatalyst', 'SLogPR1-',\n",
       "       'ATS1sorganocatalyst', 'AATS0porganocatalyst', 'AATSC0iorganocatalyst',\n",
       "       'GATS4sorganocatalyst', 'BalabanJorganocatalyst'],\n",
       "      dtype='object')"
      ]
     },
     "execution_count": 29,
     "metadata": {},
     "output_type": "execute_result"
    }
   ],
   "source": [
    "d = pd.read_csv('./data/method5/boruta_avalon_selected_mordred.csv',index_col=0)\n",
    "d.columns"
   ]
  },
  {
   "cell_type": "code",
   "execution_count": 26,
   "id": "9abc295f-e3f2-4940-ba8e-8103ce9612bb",
   "metadata": {},
   "outputs": [
    {
     "name": "stdout",
     "output_type": "stream",
     "text": [
      "Index(['yield', 'temp(â)', 'time(h)', '138_organocatalyst',\n",
      "       '246_organocatalyst'],\n",
      "      dtype='object')\n",
      "Index(['yield', 'organocatalyst(mol%)', 'temp(℃)', 'time(h)', 'SpMAD_A_R1-',\n",
      "       'AATS1d_R1-', 'AATS2d_R1-', 'ATSC0Z_R1-', 'ATSC5Z_R1-', 'AATSC0d_R1-',\n",
      "       'AATSC2Z_R1-', 'MATS2Z_R1-', 'BCUTZ-1h_R1-', 'BalabanJ_R1-',\n",
      "       'AXp-0d_R1-', 'AXp-1d_R1-', 'AXp-2d_R1-', 'AXp-3d_R1-', 'AXp-4d_R1-',\n",
      "       'NsOH_R1-', 'AETA_eta_RL_R1-', 'BIC3_R1-', 'CIC2_R1-', 'MIC2_R1-',\n",
      "       'ZMIC3_R1-', 'FilterItLogS_R1-', 'VSA_EState1_R1-', 'AMID_R1-',\n",
      "       'SLogP_R1-', 'GGI3_R1-', 'JGI2_R1-', 'TSRW10_R1-',\n",
      "       'ATS1dv_organocatalyst', 'ATS1s_organocatalyst', 'ATS3s_organocatalyst',\n",
      "       'ATS0m_organocatalyst', 'ATS1m_organocatalyst', 'ATS4m_organocatalyst',\n",
      "       'AATS0p_organocatalyst', 'AATS3i_organocatalyst',\n",
      "       'ATSC6c_organocatalyst', 'ATSC7c_organocatalyst',\n",
      "       'ATSC4dv_organocatalyst', 'ATSC5dv_organocatalyst',\n",
      "       'ATSC0s_organocatalyst', 'ATSC4m_organocatalyst',\n",
      "       'ATSC0pe_organocatalyst', 'AATSC4dv_organocatalyst',\n",
      "       'AATSC0d_organocatalyst', 'AATSC4s_organocatalyst',\n",
      "       'AATSC0i_organocatalyst', 'MATS4pe_organocatalyst',\n",
      "       'MATS2are_organocatalyst', 'GATS4c_organocatalyst',\n",
      "       'GATS4s_organocatalyst', 'GATS2v_organocatalyst',\n",
      "       'GATS3p_organocatalyst', 'BCUTc-1h_organocatalyst',\n",
      "       'BalabanJ_organocatalyst', 'SpAbs_Dzp_organocatalyst',\n",
      "       'RPCG_organocatalyst', 'Xc-5d_organocatalyst', 'Xpc-5d_organocatalyst',\n",
      "       'ETA_shape_y_organocatalyst', 'ETA_eta_BR_organocatalyst',\n",
      "       'nHBAcc_organocatalyst', 'IC3_organocatalyst', 'MIC3_organocatalyst',\n",
      "       'PEOE_VSA7_organocatalyst', 'PEOE_VSA8_organocatalyst',\n",
      "       'VSA_EState4_organocatalyst', 'VSA_EState5_organocatalyst',\n",
      "       'GGI1_organocatalyst', 'JGI3_organocatalyst', 'JGI4_organocatalyst',\n",
      "       'JGT10_organocatalyst'],\n",
      "      dtype='object')\n"
     ]
    }
   ],
   "source": [
    "selected_avalon = pd.read_csv('./data/method1/selected_avalon.csv',index_col=0)\n",
    "boruta_mordred = pd.read_csv('./data/boruta/mordred_2d.csv',index_col=0)\n",
    "\n",
    "print(selected_avalon.columns)\n",
    "print(boruta_mordred.columns)\n",
    "boruta_mordred_dropped = boruta_mordred.drop(columns=['yield', 'temp(℃)', 'time(h)'])\n",
    "\n",
    "selected_avalon_boruta_mordred = pd.concat([selected_avalon,boruta_mordred_dropped],axis=1)\n",
    "selected_avalon_boruta_mordred.to_csv('./data/method5/selected_avalon_boruta_mordred.csv')"
   ]
  },
  {
   "cell_type": "code",
   "execution_count": 12,
   "id": "feb8ec69-4d70-4297-9f4f-204cefb044b5",
   "metadata": {
    "tags": []
   },
   "outputs": [
    {
     "name": "stdout",
     "output_type": "stream",
     "text": [
      "Index(['yield', 'organocatalyst(mol%)', 'temp(℃)', 'time(h)', '266_R1-',\n",
      "       '324_R1-', '85_organocatalyst', '93_organocatalyst',\n",
      "       '132_organocatalyst', '138_organocatalyst', '150_organocatalyst',\n",
      "       '160_organocatalyst', '246_organocatalyst', '258_organocatalyst',\n",
      "       '266_organocatalyst', '286_organocatalyst', '365_organocatalyst',\n",
      "       '370_organocatalyst', '372_organocatalyst', '378_organocatalyst',\n",
      "       '380_organocatalyst', '386_organocatalyst'],\n",
      "      dtype='object')\n",
      "Index(['yield', 'organocatalyst(mol%)', 'temp(℃)', 'time(h)', 'SpMAD_A_R1-',\n",
      "       'AATS1d_R1-', 'AATS2d_R1-', 'ATSC0Z_R1-', 'ATSC5Z_R1-', 'AATSC0d_R1-',\n",
      "       'AATSC2Z_R1-', 'MATS2Z_R1-', 'BCUTZ-1h_R1-', 'BalabanJ_R1-',\n",
      "       'AXp-0d_R1-', 'AXp-1d_R1-', 'AXp-2d_R1-', 'AXp-3d_R1-', 'AXp-4d_R1-',\n",
      "       'NsOH_R1-', 'AETA_eta_RL_R1-', 'BIC3_R1-', 'CIC2_R1-', 'MIC2_R1-',\n",
      "       'ZMIC3_R1-', 'FilterItLogS_R1-', 'VSA_EState1_R1-', 'AMID_R1-',\n",
      "       'SLogP_R1-', 'GGI3_R1-', 'JGI2_R1-', 'TSRW10_R1-',\n",
      "       'ATS1dv_organocatalyst', 'ATS1s_organocatalyst', 'ATS3s_organocatalyst',\n",
      "       'ATS0m_organocatalyst', 'ATS1m_organocatalyst', 'ATS4m_organocatalyst',\n",
      "       'AATS0p_organocatalyst', 'AATS3i_organocatalyst',\n",
      "       'ATSC6c_organocatalyst', 'ATSC7c_organocatalyst',\n",
      "       'ATSC4dv_organocatalyst', 'ATSC5dv_organocatalyst',\n",
      "       'ATSC0s_organocatalyst', 'ATSC4m_organocatalyst',\n",
      "       'ATSC0pe_organocatalyst', 'AATSC4dv_organocatalyst',\n",
      "       'AATSC0d_organocatalyst', 'AATSC4s_organocatalyst',\n",
      "       'AATSC0i_organocatalyst', 'MATS4pe_organocatalyst',\n",
      "       'MATS2are_organocatalyst', 'GATS4c_organocatalyst',\n",
      "       'GATS4s_organocatalyst', 'GATS2v_organocatalyst',\n",
      "       'GATS3p_organocatalyst', 'BCUTc-1h_organocatalyst',\n",
      "       'BalabanJ_organocatalyst', 'SpAbs_Dzp_organocatalyst',\n",
      "       'RPCG_organocatalyst', 'Xc-5d_organocatalyst', 'Xpc-5d_organocatalyst',\n",
      "       'ETA_shape_y_organocatalyst', 'ETA_eta_BR_organocatalyst',\n",
      "       'nHBAcc_organocatalyst', 'IC3_organocatalyst', 'MIC3_organocatalyst',\n",
      "       'PEOE_VSA7_organocatalyst', 'PEOE_VSA8_organocatalyst',\n",
      "       'VSA_EState4_organocatalyst', 'VSA_EState5_organocatalyst',\n",
      "       'GGI1_organocatalyst', 'JGI3_organocatalyst', 'JGI4_organocatalyst',\n",
      "       'JGT10_organocatalyst'],\n",
      "      dtype='object')\n"
     ]
    }
   ],
   "source": [
    "boruta_avalon = pd.read_csv('./data/boruta/avalon.csv',index_col=0)\n",
    "boruta_mordred = pd.read_csv('./data/boruta/mordred_2d.csv',index_col=0)\n",
    "\n",
    "print(boruta_avalon.columns)\n",
    "print(boruta_mordred.columns)\n",
    "boruta_mordred_dropped = boruta_mordred.drop(columns=['yield', 'organocatalyst(mol%)', 'temp(℃)', 'time(h)'])\n",
    "\n",
    "boruta_avalon_mordred = pd.concat([boruta_avalon,boruta_mordred_dropped],axis=1)\n",
    "boruta_avalon_mordred.to_csv('./data/method5/boruta_avalon_mordred.csv')"
   ]
  },
  {
   "cell_type": "code",
   "execution_count": 14,
   "id": "228ca0b8-98b2-40ea-9a29-1f62fdee3326",
   "metadata": {},
   "outputs": [
    {
     "name": "stdout",
     "output_type": "stream",
     "text": [
      "Index(['yield', 'organocatalyst(mol%)', 'temp(℃)', 'time(h)', '704_R1-',\n",
      "       '1013_R1-', '35_organocatalyst', '51_organocatalyst',\n",
      "       '120_organocatalyst', '173_organocatalyst', '281_organocatalyst',\n",
      "       '413_organocatalyst', '527_organocatalyst', '579_organocatalyst',\n",
      "       '599_organocatalyst', '728_organocatalyst', '863_organocatalyst',\n",
      "       '905_organocatalyst', '1076_organocatalyst', '1128_organocatalyst',\n",
      "       '1138_organocatalyst', '1144_organocatalyst', '1196_organocatalyst',\n",
      "       '1234_organocatalyst', '1307_organocatalyst', '1763_organocatalyst',\n",
      "       '1902_organocatalyst', '1911_organocatalyst', '1993_organocatalyst'],\n",
      "      dtype='object')\n"
     ]
    }
   ],
   "source": [
    "boruta_rdkit = pd.read_csv('./data/boruta/rdkit.csv',index_col=0)\n",
    "boruta_mordred = pd.read_csv('./data/boruta/mordred_2d.csv',index_col=0)\n",
    "\n",
    "print(boruta_rdkit.columns)\n",
    "boruta_mordred_dropped = boruta_mordred.drop(columns=['yield', 'organocatalyst(mol%)', 'temp(℃)', 'time(h)'])\n",
    "\n",
    "boruta_rdkit_mordred = pd.concat([boruta_rdkit,boruta_mordred_dropped],axis=1)\n",
    "boruta_rdkit_mordred.to_csv('./data/method5/boruta_rdkit_mordred.csv')"
   ]
  },
  {
   "cell_type": "code",
   "execution_count": 16,
   "id": "867cce7a-d51d-4f86-b628-b2a478c77832",
   "metadata": {},
   "outputs": [
    {
     "name": "stdout",
     "output_type": "stream",
     "text": [
      "Index(['yield', 'organocatalyst(mol%)', 'temp(℃)', 'time(h)', '160_R1-',\n",
      "       '53_organocatalyst', '72_organocatalyst', '89_organocatalyst',\n",
      "       '140_organocatalyst', '144_organocatalyst', '146_organocatalyst',\n",
      "       '149_organocatalyst', '157_organocatalyst', '162_organocatalyst'],\n",
      "      dtype='object')\n"
     ]
    }
   ],
   "source": [
    "boruta_maccs = pd.read_csv('./data/boruta/maccs.csv',index_col=0)\n",
    "boruta_mordred = pd.read_csv('./data/boruta/mordred_2d.csv',index_col=0)\n",
    "\n",
    "print(boruta_maccs.columns)\n",
    "# print(boruta_mordred.columns)\n",
    "boruta_mordred_dropped = boruta_mordred.drop(columns=['yield', 'organocatalyst(mol%)', 'temp(℃)', 'time(h)'])\n",
    "\n",
    "boruta_maccs_mordred = pd.concat([boruta_maccs,boruta_mordred_dropped],axis=1)\n",
    "boruta_maccs_mordred.to_csv('./data/method5/boruta_maccs_mordred.csv')"
   ]
  },
  {
   "cell_type": "code",
   "execution_count": 18,
   "id": "d575ca05-735c-41e3-963b-5bf064e80509",
   "metadata": {},
   "outputs": [
    {
     "name": "stdout",
     "output_type": "stream",
     "text": [
      "Index(['yield', 'under_O2', 'organocatalyst(mol%)', 'temp(℃)', 'time(h)',\n",
      "       '598_R1-', '3_organocatalyst', '232_organocatalyst',\n",
      "       '380_organocatalyst', '428_organocatalyst', '598_organocatalyst',\n",
      "       '857_organocatalyst', '1731_organocatalyst', '2017_organocatalyst',\n",
      "       '2040_organocatalyst'],\n",
      "      dtype='object')\n"
     ]
    }
   ],
   "source": [
    "boruta_morgan = pd.read_csv('./data/boruta/morgan_feature.csv',index_col=0)\n",
    "boruta_mordred = pd.read_csv('./data/boruta/mordred_2d.csv',index_col=0)\n",
    "\n",
    "print(boruta_morgan.columns)\n",
    "# print(boruta_mordred.columns)\n",
    "boruta_mordred_dropped = boruta_mordred.drop(columns=['yield', 'organocatalyst(mol%)', 'temp(℃)', 'time(h)'])\n",
    "\n",
    "boruta_morgan_mordred = pd.concat([boruta_morgan,boruta_mordred_dropped],axis=1)\n",
    "boruta_morgan_mordred.to_csv('./data/method5/boruta_morgan_mordred.csv')"
   ]
  },
  {
   "cell_type": "code",
   "execution_count": 20,
   "id": "687c1f92-bedc-402c-b7bd-4a5fa6ff3292",
   "metadata": {},
   "outputs": [
    {
     "name": "stdout",
     "output_type": "stream",
     "text": [
      "Index(['yield', 'organocatalyst(mol%)', 'temp(℃)', 'time(h)', '266_R1-',\n",
      "       '324_R1-', '85_organocatalyst', '93_organocatalyst',\n",
      "       '132_organocatalyst', '138_organocatalyst', '150_organocatalyst',\n",
      "       '160_organocatalyst', '246_organocatalyst', '258_organocatalyst',\n",
      "       '266_organocatalyst', '286_organocatalyst', '365_organocatalyst',\n",
      "       '370_organocatalyst', '372_organocatalyst', '378_organocatalyst',\n",
      "       '380_organocatalyst', '386_organocatalyst'],\n",
      "      dtype='object')\n",
      "Index(['yield', 'temp(â)', 'time(h)', 'SLogPR1-', 'ATS1sorganocatalyst',\n",
      "       'AATS0porganocatalyst', 'AATSC0iorganocatalyst', 'GATS4sorganocatalyst',\n",
      "       'BalabanJorganocatalyst'],\n",
      "      dtype='object')\n"
     ]
    }
   ],
   "source": [
    "boruta_avalon = pd.read_csv('./data/boruta/avalon.csv',index_col=0)\n",
    "selected_mordred = pd.read_csv('./data/method1/selected_mordred_2d.csv',index_col=0)\n",
    "print(boruta_avalon.columns)\n",
    "print(selected_mordred.columns)\n",
    "selected_mordred_dropped = selected_mordred.drop(columns=['yield', 'temp(â)', 'time(h)'])\n",
    "\n",
    "boruta_avalon_selected_mordred = pd.concat([boruta_avalon,selected_mordred_dropped],axis=1)\n",
    "boruta_avalon_selected_mordred.to_csv('./data/method5/boruta_avalon_selected_mordred.csv')"
   ]
  },
  {
   "cell_type": "code",
   "execution_count": 22,
   "id": "1cc76d6f-9008-4700-87f5-8a42a7469302",
   "metadata": {},
   "outputs": [
    {
     "name": "stdout",
     "output_type": "stream",
     "text": [
      "Index(['yield', 'under_O2', 'organocatalyst(mol%)', 'temp(℃)', 'time(h)',\n",
      "       '598_R1-', '3_organocatalyst', '232_organocatalyst',\n",
      "       '380_organocatalyst', '428_organocatalyst', '598_organocatalyst',\n",
      "       '857_organocatalyst', '1731_organocatalyst', '2017_organocatalyst',\n",
      "       '2040_organocatalyst'],\n",
      "      dtype='object')\n",
      "Index(['yield', 'temp(â)', 'time(h)', 'SLogPR1-', 'ATS1sorganocatalyst',\n",
      "       'AATS0porganocatalyst', 'AATSC0iorganocatalyst', 'GATS4sorganocatalyst',\n",
      "       'BalabanJorganocatalyst'],\n",
      "      dtype='object')\n"
     ]
    }
   ],
   "source": [
    "boruta_morgan = pd.read_csv('./data/boruta/morgan_feature.csv',index_col=0)\n",
    "selected_mordred = pd.read_csv('./data/method1/selected_mordred_2d.csv',index_col=0)\n",
    "print(boruta_morgan.columns)\n",
    "print(selected_mordred.columns)\n",
    "selected_mordred_dropped = selected_mordred.drop(columns=['yield', 'temp(â)', 'time(h)'])\n",
    "\n",
    "boruta_morgan_selected_mordred = pd.concat([boruta_morgan,selected_mordred_dropped],axis=1)\n",
    "boruta_morgan_selected_mordred.to_csv('./data/method5/boruta_morgan_selected_mordred.csv')"
   ]
  },
  {
   "cell_type": "code",
   "execution_count": 24,
   "id": "15b96763-f0e8-40df-9041-f472d69e4eb2",
   "metadata": {},
   "outputs": [
    {
     "name": "stdout",
     "output_type": "stream",
     "text": [
      "Index(['yield', 'under_O2', 'organocatalyst(mol%)', 'temp(℃)', 'time(h)',\n",
      "       '598_R1-', '3_organocatalyst', '232_organocatalyst',\n",
      "       '380_organocatalyst', '428_organocatalyst', '598_organocatalyst',\n",
      "       '857_organocatalyst', '1731_organocatalyst', '2017_organocatalyst',\n",
      "       '2040_organocatalyst'],\n",
      "      dtype='object')\n",
      "Index(['yield', 'temp(â)', 'time(h)', 'SLogPR1-', 'ATS1sorganocatalyst',\n",
      "       'AATS0porganocatalyst', 'AATSC0iorganocatalyst', 'GATS4sorganocatalyst',\n",
      "       'BalabanJorganocatalyst'],\n",
      "      dtype='object')\n"
     ]
    }
   ],
   "source": [
    "boruta_rdkit = pd.read_csv('./data/boruta/morgan_feature.csv',index_col=0)\n",
    "selected_mordred = pd.read_csv('./data/method1/selected_mordred_2d.csv',index_col=0)\n",
    "print(boruta_rdkit.columns)\n",
    "print(selected_mordred.columns)\n",
    "selected_mordred_dropped = selected_mordred.drop(columns=['yield', 'temp(â)', 'time(h)'])\n",
    "\n",
    "boruta_rdkit_selected_mordred = pd.concat([boruta_rdkit,selected_mordred_dropped],axis=1)\n",
    "boruta_rdkit_selected_mordred.to_csv('./data/method5/boruta_rdkit_selected_mordred.csv')"
   ]
  },
  {
   "cell_type": "code",
   "execution_count": 31,
   "id": "80ccb3a2-0696-4698-923d-79395ea0ba56",
   "metadata": {},
   "outputs": [
    {
     "name": "stdout",
     "output_type": "stream",
     "text": [
      "Index(['yield', 'organocatalyst(mol%)', 'temp(℃)', 'time(h)', '160_R1-',\n",
      "       '53_organocatalyst', '72_organocatalyst', '89_organocatalyst',\n",
      "       '140_organocatalyst', '144_organocatalyst', '146_organocatalyst',\n",
      "       '149_organocatalyst', '157_organocatalyst', '162_organocatalyst'],\n",
      "      dtype='object')\n",
      "Index(['yield', 'temp(â)', 'time(h)', 'SLogPR1-', 'ATS1sorganocatalyst',\n",
      "       'AATS0porganocatalyst', 'AATSC0iorganocatalyst', 'GATS4sorganocatalyst',\n",
      "       'BalabanJorganocatalyst'],\n",
      "      dtype='object')\n"
     ]
    }
   ],
   "source": [
    "boruta_maccs = pd.read_csv('./data/boruta/maccs.csv',index_col=0)\n",
    "selected_mordred = pd.read_csv('./data/method1/selected_mordred_2d.csv',index_col=0)\n",
    "print(boruta_maccs.columns)\n",
    "print(selected_mordred.columns)\n",
    "selected_mordred_dropped = selected_mordred.drop(columns=['yield', 'temp(â)', 'time(h)'])\n",
    "\n",
    "boruta_maccs_selected_mordred = pd.concat([boruta_maccs,selected_mordred_dropped],axis=1)\n",
    "boruta_maccs_selected_mordred.to_csv('./data/method5/boruta_maccs_selected_mordred.csv')"
   ]
  }
 ],
 "metadata": {
  "kernelspec": {
   "display_name": "Python 3 (ipykernel)",
   "language": "python",
   "name": "python3"
  },
  "language_info": {
   "codemirror_mode": {
    "name": "ipython",
    "version": 3
   },
   "file_extension": ".py",
   "mimetype": "text/x-python",
   "name": "python",
   "nbconvert_exporter": "python",
   "pygments_lexer": "ipython3",
   "version": "3.9.13"
  }
 },
 "nbformat": 4,
 "nbformat_minor": 5
}
