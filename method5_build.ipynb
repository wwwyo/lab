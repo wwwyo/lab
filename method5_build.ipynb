{
 "cells": [
  {
   "cell_type": "markdown",
   "id": "a7403b31-13ac-45c1-8aab-52aa24794f21",
   "metadata": {},
   "source": [
    "# 特徴量の組み合わせ\n",
    "1. avaron + mordred\n",
    "2. morgan + mordred\n",
    "3. msccs + mordred\n",
    "4. rdkit + mordred\n",
    "5. selected_avaron + mordred\n",
    "6. boruta_avalon + mordred"
   ]
  },
  {
   "cell_type": "code",
   "execution_count": 1,
   "id": "b4f1a66d-5d81-479d-80c7-03b65ab6481b",
   "metadata": {},
   "outputs": [],
   "source": [
    "import pandas as pd"
   ]
  },
  {
   "cell_type": "code",
   "execution_count": 7,
   "id": "feb8ec69-4d70-4297-9f4f-204cefb044b5",
   "metadata": {},
   "outputs": [
    {
     "name": "stdout",
     "output_type": "stream",
     "text": [
      "Index(['yield', 'R2_H', 'under_O2', 'solvent_CH3CN', 'solvent_toluene',\n",
      "       'organocatalyst(mol%)', 'temp(℃)', 'time(h)', '266_R1-', '324_R1-',\n",
      "       '365_R1-', '375_R1-', '478_R1-', '9_organocatalyst',\n",
      "       '23_organocatalyst', '41_organocatalyst', '48_organocatalyst',\n",
      "       '80_organocatalyst', '85_organocatalyst', '91_organocatalyst',\n",
      "       '93_organocatalyst', '116_organocatalyst', '132_organocatalyst',\n",
      "       '138_organocatalyst', '146_organocatalyst', '150_organocatalyst',\n",
      "       '155_organocatalyst', '158_organocatalyst', '160_organocatalyst',\n",
      "       '162_organocatalyst', '190_organocatalyst', '198_organocatalyst',\n",
      "       '201_organocatalyst', '226_organocatalyst', '235_organocatalyst',\n",
      "       '239_organocatalyst', '246_organocatalyst', '258_organocatalyst',\n",
      "       '266_organocatalyst', '281_organocatalyst', '286_organocatalyst',\n",
      "       '305_organocatalyst', '307_organocatalyst', '309_organocatalyst',\n",
      "       '324_organocatalyst', '330_organocatalyst', '335_organocatalyst',\n",
      "       '340_organocatalyst', '343_organocatalyst', '358_organocatalyst',\n",
      "       '362_organocatalyst', '365_organocatalyst', '368_organocatalyst',\n",
      "       '370_organocatalyst', '371_organocatalyst', '372_organocatalyst',\n",
      "       '375_organocatalyst', '378_organocatalyst', '380_organocatalyst',\n",
      "       '386_organocatalyst', '388_organocatalyst', '412_organocatalyst',\n",
      "       '426_organocatalyst', '436_organocatalyst', '442_organocatalyst',\n",
      "       '451_organocatalyst', '475_organocatalyst', '502_organocatalyst',\n",
      "       '506_organocatalyst'],\n",
      "      dtype='object')\n"
     ]
    }
   ],
   "source": [
    "boruta_avalon = pd.read_csv('./data/boruta/avalon.csv',index_col=0)\n",
    "boruta_mordred = pd.read_csv('./data/boruta/mordred_2d.csv',index_col=0)\n",
    "\n",
    "print(boruta_avalon.columns)\n",
    "boruta_mordred_dropped = boruta_mordred.drop(columns=['yield', 'R2_H', 'under_O2', 'solvent_CH3CN', 'solvent_toluene',\n",
    "       'organocatalyst(mol%)', 'temp(℃)', 'time(h)'])\n",
    "\n",
    "boruta_avalon_mordred = pd.concat([boruta_avalon,boruta_mordred_dropped],axis=1)\n",
    "boruta_avalon_mordred.to_csv('./data/method5/boruta_avalon_mordred.csv')"
   ]
  },
  {
   "cell_type": "code",
   "execution_count": 13,
   "id": "687c1f92-bedc-402c-b7bd-4a5fa6ff3292",
   "metadata": {},
   "outputs": [
    {
     "name": "stdout",
     "output_type": "stream",
     "text": [
      "Index(['yield', 'R2_H', 'under_O2', 'solvent_CH3CN', 'solvent_toluene',\n",
      "       'organocatalyst(mol%)', 'temp(℃)', 'time(h)', '266_R1-', '324_R1-',\n",
      "       '365_R1-', '375_R1-', '478_R1-', '9_organocatalyst',\n",
      "       '23_organocatalyst', '41_organocatalyst', '48_organocatalyst',\n",
      "       '80_organocatalyst', '85_organocatalyst', '91_organocatalyst',\n",
      "       '93_organocatalyst', '116_organocatalyst', '132_organocatalyst',\n",
      "       '138_organocatalyst', '146_organocatalyst', '150_organocatalyst',\n",
      "       '155_organocatalyst', '158_organocatalyst', '160_organocatalyst',\n",
      "       '162_organocatalyst', '190_organocatalyst', '198_organocatalyst',\n",
      "       '201_organocatalyst', '226_organocatalyst', '235_organocatalyst',\n",
      "       '239_organocatalyst', '246_organocatalyst', '258_organocatalyst',\n",
      "       '266_organocatalyst', '281_organocatalyst', '286_organocatalyst',\n",
      "       '305_organocatalyst', '307_organocatalyst', '309_organocatalyst',\n",
      "       '324_organocatalyst', '330_organocatalyst', '335_organocatalyst',\n",
      "       '340_organocatalyst', '343_organocatalyst', '358_organocatalyst',\n",
      "       '362_organocatalyst', '365_organocatalyst', '368_organocatalyst',\n",
      "       '370_organocatalyst', '371_organocatalyst', '372_organocatalyst',\n",
      "       '375_organocatalyst', '378_organocatalyst', '380_organocatalyst',\n",
      "       '386_organocatalyst', '388_organocatalyst', '412_organocatalyst',\n",
      "       '426_organocatalyst', '436_organocatalyst', '442_organocatalyst',\n",
      "       '451_organocatalyst', '475_organocatalyst', '502_organocatalyst',\n",
      "       '506_organocatalyst'],\n",
      "      dtype='object')\n",
      "Index(['yield', 'temp(â)', 'time(h)', 'SLogPR1-', 'ATS1sorganocatalyst',\n",
      "       'AATS0porganocatalyst', 'AATSC0iorganocatalyst', 'GATS4sorganocatalyst',\n",
      "       'BalabanJorganocatalyst'],\n",
      "      dtype='object')\n"
     ]
    },
    {
     "ename": "KeyError",
     "evalue": "\"['temp(℃)'] not found in axis\"",
     "output_type": "error",
     "traceback": [
      "\u001b[0;31m---------------------------------------------------------------------------\u001b[0m",
      "\u001b[0;31mKeyError\u001b[0m                                  Traceback (most recent call last)",
      "Cell \u001b[0;32mIn [13], line 5\u001b[0m\n\u001b[1;32m      3\u001b[0m \u001b[38;5;28mprint\u001b[39m(boruta_avalon\u001b[38;5;241m.\u001b[39mcolumns)\n\u001b[1;32m      4\u001b[0m \u001b[38;5;28mprint\u001b[39m(selected_mordred\u001b[38;5;241m.\u001b[39mcolumns)\n\u001b[0;32m----> 5\u001b[0m selected_mordred_dropped \u001b[38;5;241m=\u001b[39m \u001b[43mselected_mordred\u001b[49m\u001b[38;5;241;43m.\u001b[39;49m\u001b[43mdrop\u001b[49m\u001b[43m(\u001b[49m\u001b[43mcolumns\u001b[49m\u001b[38;5;241;43m=\u001b[39;49m\u001b[43m[\u001b[49m\u001b[38;5;124;43m'\u001b[39;49m\u001b[38;5;124;43myield\u001b[39;49m\u001b[38;5;124;43m'\u001b[39;49m\u001b[43m,\u001b[49m\u001b[43m \u001b[49m\u001b[38;5;124;43m'\u001b[39;49m\u001b[38;5;124;43mtemp(℃)\u001b[39;49m\u001b[38;5;124;43m'\u001b[39;49m\u001b[43m,\u001b[49m\u001b[43m \u001b[49m\u001b[38;5;124;43m'\u001b[39;49m\u001b[38;5;124;43mtime(h)\u001b[39;49m\u001b[38;5;124;43m'\u001b[39;49m\u001b[43m]\u001b[49m\u001b[43m)\u001b[49m\n\u001b[1;32m      7\u001b[0m boruta_avalon_selected_mordred \u001b[38;5;241m=\u001b[39m pd\u001b[38;5;241m.\u001b[39mconcat([boruta_avalon,selected_mordred_dropped],axis\u001b[38;5;241m=\u001b[39m\u001b[38;5;241m1\u001b[39m)\n\u001b[1;32m      8\u001b[0m boruta_avalon_selected_mordred\u001b[38;5;241m.\u001b[39mto_csv(\u001b[38;5;124m'\u001b[39m\u001b[38;5;124m./data/method5/boruta_avalon_selected_mordred.csv\u001b[39m\u001b[38;5;124m'\u001b[39m)\n",
      "File \u001b[0;32m~/opt/anaconda3/envs/chem/lib/python3.9/site-packages/pandas/util/_decorators.py:317\u001b[0m, in \u001b[0;36mdeprecate_nonkeyword_arguments.<locals>.decorate.<locals>.wrapper\u001b[0;34m(*args, **kwargs)\u001b[0m\n\u001b[1;32m    311\u001b[0m \u001b[38;5;28;01mif\u001b[39;00m \u001b[38;5;28mlen\u001b[39m(args) \u001b[38;5;241m>\u001b[39m num_allow_args:\n\u001b[1;32m    312\u001b[0m     warnings\u001b[38;5;241m.\u001b[39mwarn(\n\u001b[1;32m    313\u001b[0m         msg\u001b[38;5;241m.\u001b[39mformat(arguments\u001b[38;5;241m=\u001b[39marguments),\n\u001b[1;32m    314\u001b[0m         \u001b[38;5;167;01mFutureWarning\u001b[39;00m,\n\u001b[1;32m    315\u001b[0m         stacklevel\u001b[38;5;241m=\u001b[39mfind_stack_level(inspect\u001b[38;5;241m.\u001b[39mcurrentframe()),\n\u001b[1;32m    316\u001b[0m     )\n\u001b[0;32m--> 317\u001b[0m \u001b[38;5;28;01mreturn\u001b[39;00m \u001b[43mfunc\u001b[49m\u001b[43m(\u001b[49m\u001b[38;5;241;43m*\u001b[39;49m\u001b[43margs\u001b[49m\u001b[43m,\u001b[49m\u001b[43m \u001b[49m\u001b[38;5;241;43m*\u001b[39;49m\u001b[38;5;241;43m*\u001b[39;49m\u001b[43mkwargs\u001b[49m\u001b[43m)\u001b[49m\n",
      "File \u001b[0;32m~/opt/anaconda3/envs/chem/lib/python3.9/site-packages/pandas/core/frame.py:5391\u001b[0m, in \u001b[0;36mDataFrame.drop\u001b[0;34m(self, labels, axis, index, columns, level, inplace, errors)\u001b[0m\n\u001b[1;32m   5243\u001b[0m \u001b[38;5;129m@deprecate_nonkeyword_arguments\u001b[39m(version\u001b[38;5;241m=\u001b[39m\u001b[38;5;28;01mNone\u001b[39;00m, allowed_args\u001b[38;5;241m=\u001b[39m[\u001b[38;5;124m\"\u001b[39m\u001b[38;5;124mself\u001b[39m\u001b[38;5;124m\"\u001b[39m, \u001b[38;5;124m\"\u001b[39m\u001b[38;5;124mlabels\u001b[39m\u001b[38;5;124m\"\u001b[39m])\n\u001b[1;32m   5244\u001b[0m \u001b[38;5;28;01mdef\u001b[39;00m \u001b[38;5;21mdrop\u001b[39m(  \u001b[38;5;66;03m# type: ignore[override]\u001b[39;00m\n\u001b[1;32m   5245\u001b[0m     \u001b[38;5;28mself\u001b[39m,\n\u001b[0;32m   (...)\u001b[0m\n\u001b[1;32m   5252\u001b[0m     errors: IgnoreRaise \u001b[38;5;241m=\u001b[39m \u001b[38;5;124m\"\u001b[39m\u001b[38;5;124mraise\u001b[39m\u001b[38;5;124m\"\u001b[39m,\n\u001b[1;32m   5253\u001b[0m ) \u001b[38;5;241m-\u001b[39m\u001b[38;5;241m>\u001b[39m DataFrame \u001b[38;5;241m|\u001b[39m \u001b[38;5;28;01mNone\u001b[39;00m:\n\u001b[1;32m   5254\u001b[0m     \u001b[38;5;124;03m\"\"\"\u001b[39;00m\n\u001b[1;32m   5255\u001b[0m \u001b[38;5;124;03m    Drop specified labels from rows or columns.\u001b[39;00m\n\u001b[1;32m   5256\u001b[0m \n\u001b[0;32m   (...)\u001b[0m\n\u001b[1;32m   5389\u001b[0m \u001b[38;5;124;03m            weight  1.0     0.8\u001b[39;00m\n\u001b[1;32m   5390\u001b[0m \u001b[38;5;124;03m    \"\"\"\u001b[39;00m\n\u001b[0;32m-> 5391\u001b[0m     \u001b[38;5;28;01mreturn\u001b[39;00m \u001b[38;5;28;43msuper\u001b[39;49m\u001b[43m(\u001b[49m\u001b[43m)\u001b[49m\u001b[38;5;241;43m.\u001b[39;49m\u001b[43mdrop\u001b[49m\u001b[43m(\u001b[49m\n\u001b[1;32m   5392\u001b[0m \u001b[43m        \u001b[49m\u001b[43mlabels\u001b[49m\u001b[38;5;241;43m=\u001b[39;49m\u001b[43mlabels\u001b[49m\u001b[43m,\u001b[49m\n\u001b[1;32m   5393\u001b[0m \u001b[43m        \u001b[49m\u001b[43maxis\u001b[49m\u001b[38;5;241;43m=\u001b[39;49m\u001b[43maxis\u001b[49m\u001b[43m,\u001b[49m\n\u001b[1;32m   5394\u001b[0m \u001b[43m        \u001b[49m\u001b[43mindex\u001b[49m\u001b[38;5;241;43m=\u001b[39;49m\u001b[43mindex\u001b[49m\u001b[43m,\u001b[49m\n\u001b[1;32m   5395\u001b[0m \u001b[43m        \u001b[49m\u001b[43mcolumns\u001b[49m\u001b[38;5;241;43m=\u001b[39;49m\u001b[43mcolumns\u001b[49m\u001b[43m,\u001b[49m\n\u001b[1;32m   5396\u001b[0m \u001b[43m        \u001b[49m\u001b[43mlevel\u001b[49m\u001b[38;5;241;43m=\u001b[39;49m\u001b[43mlevel\u001b[49m\u001b[43m,\u001b[49m\n\u001b[1;32m   5397\u001b[0m \u001b[43m        \u001b[49m\u001b[43minplace\u001b[49m\u001b[38;5;241;43m=\u001b[39;49m\u001b[43minplace\u001b[49m\u001b[43m,\u001b[49m\n\u001b[1;32m   5398\u001b[0m \u001b[43m        \u001b[49m\u001b[43merrors\u001b[49m\u001b[38;5;241;43m=\u001b[39;49m\u001b[43merrors\u001b[49m\u001b[43m,\u001b[49m\n\u001b[1;32m   5399\u001b[0m \u001b[43m    \u001b[49m\u001b[43m)\u001b[49m\n",
      "File \u001b[0;32m~/opt/anaconda3/envs/chem/lib/python3.9/site-packages/pandas/util/_decorators.py:317\u001b[0m, in \u001b[0;36mdeprecate_nonkeyword_arguments.<locals>.decorate.<locals>.wrapper\u001b[0;34m(*args, **kwargs)\u001b[0m\n\u001b[1;32m    311\u001b[0m \u001b[38;5;28;01mif\u001b[39;00m \u001b[38;5;28mlen\u001b[39m(args) \u001b[38;5;241m>\u001b[39m num_allow_args:\n\u001b[1;32m    312\u001b[0m     warnings\u001b[38;5;241m.\u001b[39mwarn(\n\u001b[1;32m    313\u001b[0m         msg\u001b[38;5;241m.\u001b[39mformat(arguments\u001b[38;5;241m=\u001b[39marguments),\n\u001b[1;32m    314\u001b[0m         \u001b[38;5;167;01mFutureWarning\u001b[39;00m,\n\u001b[1;32m    315\u001b[0m         stacklevel\u001b[38;5;241m=\u001b[39mfind_stack_level(inspect\u001b[38;5;241m.\u001b[39mcurrentframe()),\n\u001b[1;32m    316\u001b[0m     )\n\u001b[0;32m--> 317\u001b[0m \u001b[38;5;28;01mreturn\u001b[39;00m \u001b[43mfunc\u001b[49m\u001b[43m(\u001b[49m\u001b[38;5;241;43m*\u001b[39;49m\u001b[43margs\u001b[49m\u001b[43m,\u001b[49m\u001b[43m \u001b[49m\u001b[38;5;241;43m*\u001b[39;49m\u001b[38;5;241;43m*\u001b[39;49m\u001b[43mkwargs\u001b[49m\u001b[43m)\u001b[49m\n",
      "File \u001b[0;32m~/opt/anaconda3/envs/chem/lib/python3.9/site-packages/pandas/core/generic.py:4510\u001b[0m, in \u001b[0;36mNDFrame.drop\u001b[0;34m(self, labels, axis, index, columns, level, inplace, errors)\u001b[0m\n\u001b[1;32m   4508\u001b[0m \u001b[38;5;28;01mfor\u001b[39;00m axis, labels \u001b[38;5;129;01min\u001b[39;00m axes\u001b[38;5;241m.\u001b[39mitems():\n\u001b[1;32m   4509\u001b[0m     \u001b[38;5;28;01mif\u001b[39;00m labels \u001b[38;5;129;01mis\u001b[39;00m \u001b[38;5;129;01mnot\u001b[39;00m \u001b[38;5;28;01mNone\u001b[39;00m:\n\u001b[0;32m-> 4510\u001b[0m         obj \u001b[38;5;241m=\u001b[39m \u001b[43mobj\u001b[49m\u001b[38;5;241;43m.\u001b[39;49m\u001b[43m_drop_axis\u001b[49m\u001b[43m(\u001b[49m\u001b[43mlabels\u001b[49m\u001b[43m,\u001b[49m\u001b[43m \u001b[49m\u001b[43maxis\u001b[49m\u001b[43m,\u001b[49m\u001b[43m \u001b[49m\u001b[43mlevel\u001b[49m\u001b[38;5;241;43m=\u001b[39;49m\u001b[43mlevel\u001b[49m\u001b[43m,\u001b[49m\u001b[43m \u001b[49m\u001b[43merrors\u001b[49m\u001b[38;5;241;43m=\u001b[39;49m\u001b[43merrors\u001b[49m\u001b[43m)\u001b[49m\n\u001b[1;32m   4512\u001b[0m \u001b[38;5;28;01mif\u001b[39;00m inplace:\n\u001b[1;32m   4513\u001b[0m     \u001b[38;5;28mself\u001b[39m\u001b[38;5;241m.\u001b[39m_update_inplace(obj)\n",
      "File \u001b[0;32m~/opt/anaconda3/envs/chem/lib/python3.9/site-packages/pandas/core/generic.py:4551\u001b[0m, in \u001b[0;36mNDFrame._drop_axis\u001b[0;34m(self, labels, axis, level, errors, only_slice)\u001b[0m\n\u001b[1;32m   4549\u001b[0m         new_axis \u001b[38;5;241m=\u001b[39m axis\u001b[38;5;241m.\u001b[39mdrop(labels, level\u001b[38;5;241m=\u001b[39mlevel, errors\u001b[38;5;241m=\u001b[39merrors)\n\u001b[1;32m   4550\u001b[0m     \u001b[38;5;28;01melse\u001b[39;00m:\n\u001b[0;32m-> 4551\u001b[0m         new_axis \u001b[38;5;241m=\u001b[39m \u001b[43maxis\u001b[49m\u001b[38;5;241;43m.\u001b[39;49m\u001b[43mdrop\u001b[49m\u001b[43m(\u001b[49m\u001b[43mlabels\u001b[49m\u001b[43m,\u001b[49m\u001b[43m \u001b[49m\u001b[43merrors\u001b[49m\u001b[38;5;241;43m=\u001b[39;49m\u001b[43merrors\u001b[49m\u001b[43m)\u001b[49m\n\u001b[1;32m   4552\u001b[0m     indexer \u001b[38;5;241m=\u001b[39m axis\u001b[38;5;241m.\u001b[39mget_indexer(new_axis)\n\u001b[1;32m   4554\u001b[0m \u001b[38;5;66;03m# Case for non-unique axis\u001b[39;00m\n\u001b[1;32m   4555\u001b[0m \u001b[38;5;28;01melse\u001b[39;00m:\n",
      "File \u001b[0;32m~/opt/anaconda3/envs/chem/lib/python3.9/site-packages/pandas/core/indexes/base.py:6972\u001b[0m, in \u001b[0;36mIndex.drop\u001b[0;34m(self, labels, errors)\u001b[0m\n\u001b[1;32m   6970\u001b[0m \u001b[38;5;28;01mif\u001b[39;00m mask\u001b[38;5;241m.\u001b[39many():\n\u001b[1;32m   6971\u001b[0m     \u001b[38;5;28;01mif\u001b[39;00m errors \u001b[38;5;241m!=\u001b[39m \u001b[38;5;124m\"\u001b[39m\u001b[38;5;124mignore\u001b[39m\u001b[38;5;124m\"\u001b[39m:\n\u001b[0;32m-> 6972\u001b[0m         \u001b[38;5;28;01mraise\u001b[39;00m \u001b[38;5;167;01mKeyError\u001b[39;00m(\u001b[38;5;124mf\u001b[39m\u001b[38;5;124m\"\u001b[39m\u001b[38;5;132;01m{\u001b[39;00m\u001b[38;5;28mlist\u001b[39m(labels[mask])\u001b[38;5;132;01m}\u001b[39;00m\u001b[38;5;124m not found in axis\u001b[39m\u001b[38;5;124m\"\u001b[39m)\n\u001b[1;32m   6973\u001b[0m     indexer \u001b[38;5;241m=\u001b[39m indexer[\u001b[38;5;241m~\u001b[39mmask]\n\u001b[1;32m   6974\u001b[0m \u001b[38;5;28;01mreturn\u001b[39;00m \u001b[38;5;28mself\u001b[39m\u001b[38;5;241m.\u001b[39mdelete(indexer)\n",
      "\u001b[0;31mKeyError\u001b[0m: \"['temp(℃)'] not found in axis\""
     ]
    }
   ],
   "source": [
    "boruta_avalon = pd.read_csv('./data/boruta/avalon.csv',index_col=0)\n",
    "selected_mordred = pd.read_csv('./data/method1/selected_mordred_2d.csv',index_col=0)\n",
    "print(boruta_avalon.columns)\n",
    "print(selected_mordred.columns)\n",
    "selected_mordred_dropped = selected_mordred.drop(columns=['yield', 'temp(â)', 'time(h)'])\n",
    "\n",
    "boruta_avalon_selected_mordred = pd.concat([boruta_avalon,selected_mordred_dropped],axis=1)\n",
    "boruta_avalon_selected_mordred.to_csv('./data/method5/boruta_avalon_selected_mordred.csv')"
   ]
  },
  {
   "cell_type": "code",
   "execution_count": null,
   "id": "1cc76d6f-9008-4700-87f5-8a42a7469302",
   "metadata": {},
   "outputs": [],
   "source": []
  }
 ],
 "metadata": {
  "kernelspec": {
   "display_name": "Python 3 (ipykernel)",
   "language": "python",
   "name": "python3"
  },
  "language_info": {
   "codemirror_mode": {
    "name": "ipython",
    "version": 3
   },
   "file_extension": ".py",
   "mimetype": "text/x-python",
   "name": "python",
   "nbconvert_exporter": "python",
   "pygments_lexer": "ipython3",
   "version": "3.9.13"
  }
 },
 "nbformat": 4,
 "nbformat_minor": 5
}
