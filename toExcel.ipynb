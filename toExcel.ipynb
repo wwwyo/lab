{
 "cells": [
  {
   "cell_type": "markdown",
   "id": "8925ef61-83f7-4817-9444-6127460780fc",
   "metadata": {},
   "source": [
    "# Excelにsmileから描画した画像を表示"
   ]
  },
  {
   "cell_type": "code",
   "execution_count": 1,
   "id": "096d8254-7880-481f-9a97-8beb917108f9",
   "metadata": {},
   "outputs": [
    {
     "data": {
      "text/html": [
       "<div>\n",
       "<style scoped>\n",
       "    .dataframe tbody tr th:only-of-type {\n",
       "        vertical-align: middle;\n",
       "    }\n",
       "\n",
       "    .dataframe tbody tr th {\n",
       "        vertical-align: top;\n",
       "    }\n",
       "\n",
       "    .dataframe thead th {\n",
       "        text-align: right;\n",
       "    }\n",
       "</style>\n",
       "<table border=\"1\" class=\"dataframe\">\n",
       "  <thead>\n",
       "    <tr style=\"text-align: right;\">\n",
       "      <th></th>\n",
       "      <th>CanonicalSMILES</th>\n",
       "      <th>IUPACName</th>\n",
       "    </tr>\n",
       "    <tr>\n",
       "      <th>CID</th>\n",
       "      <th></th>\n",
       "      <th></th>\n",
       "    </tr>\n",
       "  </thead>\n",
       "  <tbody>\n",
       "    <tr>\n",
       "      <th>241</th>\n",
       "      <td>C1=CC=CC=C1</td>\n",
       "      <td>benzene</td>\n",
       "    </tr>\n",
       "    <tr>\n",
       "      <th>1140</th>\n",
       "      <td>CC1=CC=CC=C1</td>\n",
       "      <td>toluene</td>\n",
       "    </tr>\n",
       "  </tbody>\n",
       "</table>\n",
       "</div>"
      ],
      "text/plain": [
       "     CanonicalSMILES IUPACName\n",
       "CID                           \n",
       "241      C1=CC=CC=C1   benzene\n",
       "1140    CC1=CC=CC=C1   toluene"
      ]
     },
     "metadata": {},
     "output_type": "display_data"
    }
   ],
   "source": [
    "import pandas as pd\n",
    "import pubchempy as pcp\n",
    "\n",
    "properties = ['CanonicalSMILES', 'IUPACName']\n",
    "benzene = pcp.get_properties(properties, 'benzene', 'name', as_dataframe=True)\n",
    "toluene = pcp.get_properties(properties, 'toluene', 'name', as_dataframe=True)\n",
    "df = pd.concat([benzene,toluene])\n",
    "display(df)"
   ]
  },
  {
   "cell_type": "code",
   "execution_count": null,
   "id": "002f66d0-add3-4896-841b-089b54f86f46",
   "metadata": {},
   "outputs": [],
   "source": [
    "from rdkit import Chem\n",
    "from rdkit.Chem import Draw\n",
    "import openpyxl\n",
    "\n",
    "def toImgFromSmiles(smiles, name):\n",
    "    mol = Chem.MolFromSmiles(smiles)\n",
    "    Draw.MolToFile(mol, f'{name}.png', size=(300, 300))"
   ]
  },
  {
   "cell_type": "code",
   "execution_count": null,
   "id": "d20629bc-30a6-4063-8418-ec6475f8075c",
   "metadata": {},
   "outputs": [],
   "source": [
    "from openpyxl.drawing.image import Image as XLImage\n",
    "\n",
    "def add_image(worksheet, smiles_column, image_column):\n",
    "    ws = worksheet\n",
    "    # 行数を取得\n",
    "    R_NUM = len(list(ws.rows))\n",
    "\n",
    "    for i in range(1, R_NUM):\n",
    "        idx = i + 1\n",
    "        # smilesが入ってるカラム名(ex. A1, C5)\n",
    "        smiles_col_name = smiles_column + str(idx)\n",
    "        image_col_name = image_column + str(idx)\n",
    "\n",
    "        smiles = ws[smiles_col_name].value\n",
    "        if smiles == None: continue\n",
    "        print(smiles)\n",
    "\n",
    "        try:\n",
    "            # 画像作成\n",
    "            toImgFromSmiles(smiles, smiles_col_name)\n",
    "            img = XLImage(f'{smiles_col_name}.png')\n",
    "            img.width = 200\n",
    "            img.height = 200\n",
    "\n",
    "            # 画像を貼り付ける\n",
    "            ws.add_image(img, image_col_name)\n",
    "\n",
    "            # セルの高さを調整\n",
    "            ws.row_dimensions[idx].height = img.height\n",
    "        except FileNotFoundError as e:\n",
    "            print('error ', e)\n",
    "            # 画像ファイルが見つからない場合はスキップ\n",
    "            pass"
   ]
  },
  {
   "cell_type": "code",
   "execution_count": null,
   "id": "8963bd91-6a89-44a0-9257-0b1fa19459f6",
   "metadata": {},
   "outputs": [],
   "source": [
    "import openpyxl\n",
    "\n",
    "df.insert(2, 'img', '')\n",
    "file_name = 'dataset.xlsx'\n",
    "\n",
    "df.to_excel(file_name, index=False)\n",
    "wb = openpyxl.load_workbook(file_name)\n",
    "ws = wb.active\n",
    "\n",
    "# Excelは左からA列,B列,C列,,,\n",
    "add_image(ws, 'A', 'C')\n",
    "\n",
    "# 保存\n",
    "wb.save(file_name)"
   ]
  },
  {
   "cell_type": "code",
   "execution_count": null,
   "id": "775142c3-4875-46bd-88e8-ec2dcbc4c896",
   "metadata": {},
   "outputs": [],
   "source": []
  },
  {
   "cell_type": "code",
   "execution_count": null,
   "id": "a06e9aa4-39c4-4645-ab28-d158665990d4",
   "metadata": {},
   "outputs": [],
   "source": []
  },
  {
   "cell_type": "code",
   "execution_count": null,
   "id": "66682c81-c4a5-4f67-8977-22ad92a96326",
   "metadata": {},
   "outputs": [],
   "source": []
  },
  {
   "cell_type": "code",
   "execution_count": null,
   "id": "0f85dec2-98c5-4118-9e8f-0bc610fa4c3d",
   "metadata": {},
   "outputs": [],
   "source": []
  },
  {
   "cell_type": "code",
   "execution_count": null,
   "id": "f56fd1ac-812d-49b1-9f85-ffc7d5bfb8a7",
   "metadata": {},
   "outputs": [],
   "source": []
  },
  {
   "cell_type": "code",
   "execution_count": null,
   "id": "a261b62d-198c-4d49-95bd-09e7ac4dbf6e",
   "metadata": {},
   "outputs": [],
   "source": []
  },
  {
   "cell_type": "code",
   "execution_count": null,
   "id": "163dbacf-cda3-4f08-8eb7-7419073662fc",
   "metadata": {},
   "outputs": [],
   "source": []
  }
 ],
 "metadata": {
  "kernelspec": {
   "display_name": "Python 3 (ipykernel)",
   "language": "python",
   "name": "python3"
  },
  "language_info": {
   "codemirror_mode": {
    "name": "ipython",
    "version": 3
   },
   "file_extension": ".py",
   "mimetype": "text/x-python",
   "name": "python",
   "nbconvert_exporter": "python",
   "pygments_lexer": "ipython3",
   "version": "3.9.13"
  }
 },
 "nbformat": 4,
 "nbformat_minor": 5
}
