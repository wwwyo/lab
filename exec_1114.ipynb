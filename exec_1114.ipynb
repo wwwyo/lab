{
 "cells": [
  {
   "cell_type": "markdown",
   "id": "d2599116-c2d9-4a3f-88a7-8f11bcde7f55",
   "metadata": {},
   "source": [
    "1. 記述子の選択\n",
    "2. アルゴリズムの選択\n",
    "3. dbから予測データを取得\n",
    "4. ADの適用範囲を調査"
   ]
  },
  {
   "cell_type": "code",
   "execution_count": 1,
   "id": "93b47a67-89a1-41a4-a519-6d48986bc382",
   "metadata": {},
   "outputs": [],
   "source": [
    "import pandas as pd"
   ]
  },
  {
   "cell_type": "code",
   "execution_count": 19,
   "id": "bb675c4c-caaa-415d-9d6f-9d8b7ad9b45e",
   "metadata": {},
   "outputs": [
    {
     "name": "stdout",
     "output_type": "stream",
     "text": [
      "Index(['entry', 'R1-', 'R2', 'organocatalyst', 'organocatalyst(mol%)', 'under',\n",
      "       'temp(℃)', 'time(h)', 'Cu(OAc)2(mol%)', 'AcOH(mol%)', '収率(%)'],\n",
      "      dtype='object')\n"
     ]
    }
   ],
   "source": [
    "df = pd.read_csv('database_1114.csv')\n",
    "print(df.columns)"
   ]
  },
  {
   "cell_type": "code",
   "execution_count": 20,
   "id": "6a10b6b3-a68d-41aa-92e0-049d10d91c70",
   "metadata": {},
   "outputs": [],
   "source": [
    "# 基質、触媒、収率で欠損がある場合は削除\n",
    "df.dropna(subset=['R1-', 'R2', 'organocatalyst', '収率(%)'], inplace=True)"
   ]
  },
  {
   "cell_type": "code",
   "execution_count": 21,
   "id": "da63a71f-9f24-47a6-926f-750a30278b13",
   "metadata": {},
   "outputs": [
    {
     "name": "stdout",
     "output_type": "stream",
     "text": [
      "欠損値合計 entry                   0\n",
      "R1-                     0\n",
      "R2                      0\n",
      "organocatalyst          0\n",
      "organocatalyst(mol%)    0\n",
      "under                   0\n",
      "temp(℃)                 0\n",
      "time(h)                 0\n",
      "Cu(OAc)2(mol%)          0\n",
      "AcOH(mol%)              0\n",
      "収率(%)                   0\n",
      "dtype: int64\n"
     ]
    },
    {
     "data": {
      "text/html": [
       "<div>\n",
       "<style scoped>\n",
       "    .dataframe tbody tr th:only-of-type {\n",
       "        vertical-align: middle;\n",
       "    }\n",
       "\n",
       "    .dataframe tbody tr th {\n",
       "        vertical-align: top;\n",
       "    }\n",
       "\n",
       "    .dataframe thead th {\n",
       "        text-align: right;\n",
       "    }\n",
       "</style>\n",
       "<table border=\"1\" class=\"dataframe\">\n",
       "  <thead>\n",
       "    <tr style=\"text-align: right;\">\n",
       "      <th></th>\n",
       "      <th>entry</th>\n",
       "      <th>R1-</th>\n",
       "      <th>R2</th>\n",
       "      <th>organocatalyst</th>\n",
       "      <th>organocatalyst(mol%)</th>\n",
       "      <th>under</th>\n",
       "      <th>temp(℃)</th>\n",
       "      <th>time(h)</th>\n",
       "      <th>Cu(OAc)2(mol%)</th>\n",
       "      <th>AcOH(mol%)</th>\n",
       "      <th>収率(%)</th>\n",
       "    </tr>\n",
       "  </thead>\n",
       "  <tbody>\n",
       "  </tbody>\n",
       "</table>\n",
       "</div>"
      ],
      "text/plain": [
       "Empty DataFrame\n",
       "Columns: [entry, R1-, R2, organocatalyst, organocatalyst(mol%), under, temp(℃), time(h), Cu(OAc)2(mol%), AcOH(mol%), 収率(%)]\n",
       "Index: []"
      ]
     },
     "execution_count": 21,
     "metadata": {},
     "output_type": "execute_result"
    }
   ],
   "source": [
    "print('欠損値合計', df.isnull().sum())\n",
    "na_row = df.isnull().any(axis=1)\n",
    "df.loc[na_row, :]"
   ]
  },
  {
   "cell_type": "code",
   "execution_count": 28,
   "id": "7168d7e6-06bb-4119-b022-1fde0be81393",
   "metadata": {},
   "outputs": [
    {
     "name": "stdout",
     "output_type": "stream",
     "text": [
      "H     101\n",
      "C      61\n",
      "Ph      3\n",
      "Name: R2, dtype: int64\n",
      "O2     111\n",
      "air     53\n",
      "Ar       1\n",
      "Name: under, dtype: int64\n"
     ]
    },
    {
     "data": {
      "text/plain": [
       "[None, None]"
      ]
     },
     "execution_count": 28,
     "metadata": {},
     "output_type": "execute_result"
    }
   ],
   "source": [
    "# R2, underはカテゴリ値で置く\n",
    "# 念の為確認。\n",
    "[print(df[name].value_counts()) for name in df.columns if name in ['R2', 'under']]"
   ]
  },
  {
   "cell_type": "code",
   "execution_count": 32,
   "id": "4da7ce62-ee02-492d-94da-1ffb625dc198",
   "metadata": {},
   "outputs": [
    {
     "ename": "KeyError",
     "evalue": "\"None of [Index(['R2', 'under'], dtype='object')] are in the [columns]\"",
     "output_type": "error",
     "traceback": [
      "\u001b[0;31m---------------------------------------------------------------------------\u001b[0m",
      "\u001b[0;31mKeyError\u001b[0m                                  Traceback (most recent call last)",
      "Cell \u001b[0;32mIn [32], line 2\u001b[0m\n\u001b[1;32m      1\u001b[0m \u001b[38;5;66;03m#カテゴリ値に変換\u001b[39;00m\n\u001b[0;32m----> 2\u001b[0m df \u001b[38;5;241m=\u001b[39m \u001b[43mpd\u001b[49m\u001b[38;5;241;43m.\u001b[39;49m\u001b[43mget_dummies\u001b[49m\u001b[43m(\u001b[49m\u001b[43mdf\u001b[49m\u001b[43m,\u001b[49m\u001b[43m \u001b[49m\u001b[43mcolumns\u001b[49m\u001b[38;5;241;43m=\u001b[39;49m\u001b[43m[\u001b[49m\u001b[38;5;124;43m'\u001b[39;49m\u001b[38;5;124;43mR2\u001b[39;49m\u001b[38;5;124;43m'\u001b[39;49m\u001b[43m,\u001b[49m\u001b[38;5;124;43m'\u001b[39;49m\u001b[38;5;124;43munder\u001b[39;49m\u001b[38;5;124;43m'\u001b[39;49m\u001b[43m]\u001b[49m\u001b[43m)\u001b[49m\n\u001b[1;32m      3\u001b[0m df\u001b[38;5;241m.\u001b[39mhead\n",
      "File \u001b[0;32m~/opt/anaconda3/envs/chem/lib/python3.9/site-packages/pandas/core/reshape/encoding.py:146\u001b[0m, in \u001b[0;36mget_dummies\u001b[0;34m(data, prefix, prefix_sep, dummy_na, columns, sparse, drop_first, dtype)\u001b[0m\n\u001b[1;32m    144\u001b[0m     \u001b[38;5;28;01mraise\u001b[39;00m \u001b[38;5;167;01mTypeError\u001b[39;00m(\u001b[38;5;124m\"\u001b[39m\u001b[38;5;124mInput must be a list-like for parameter `columns`\u001b[39m\u001b[38;5;124m\"\u001b[39m)\n\u001b[1;32m    145\u001b[0m \u001b[38;5;28;01melse\u001b[39;00m:\n\u001b[0;32m--> 146\u001b[0m     data_to_encode \u001b[38;5;241m=\u001b[39m \u001b[43mdata\u001b[49m\u001b[43m[\u001b[49m\u001b[43mcolumns\u001b[49m\u001b[43m]\u001b[49m\n\u001b[1;32m    148\u001b[0m \u001b[38;5;66;03m# validate prefixes and separator to avoid silently dropping cols\u001b[39;00m\n\u001b[1;32m    149\u001b[0m \u001b[38;5;28;01mdef\u001b[39;00m \u001b[38;5;21mcheck_len\u001b[39m(item, name):\n",
      "File \u001b[0;32m~/opt/anaconda3/envs/chem/lib/python3.9/site-packages/pandas/core/frame.py:3811\u001b[0m, in \u001b[0;36mDataFrame.__getitem__\u001b[0;34m(self, key)\u001b[0m\n\u001b[1;32m   3809\u001b[0m     \u001b[38;5;28;01mif\u001b[39;00m is_iterator(key):\n\u001b[1;32m   3810\u001b[0m         key \u001b[38;5;241m=\u001b[39m \u001b[38;5;28mlist\u001b[39m(key)\n\u001b[0;32m-> 3811\u001b[0m     indexer \u001b[38;5;241m=\u001b[39m \u001b[38;5;28;43mself\u001b[39;49m\u001b[38;5;241;43m.\u001b[39;49m\u001b[43mcolumns\u001b[49m\u001b[38;5;241;43m.\u001b[39;49m\u001b[43m_get_indexer_strict\u001b[49m\u001b[43m(\u001b[49m\u001b[43mkey\u001b[49m\u001b[43m,\u001b[49m\u001b[43m \u001b[49m\u001b[38;5;124;43m\"\u001b[39;49m\u001b[38;5;124;43mcolumns\u001b[39;49m\u001b[38;5;124;43m\"\u001b[39;49m\u001b[43m)\u001b[49m[\u001b[38;5;241m1\u001b[39m]\n\u001b[1;32m   3813\u001b[0m \u001b[38;5;66;03m# take() does not accept boolean indexers\u001b[39;00m\n\u001b[1;32m   3814\u001b[0m \u001b[38;5;28;01mif\u001b[39;00m \u001b[38;5;28mgetattr\u001b[39m(indexer, \u001b[38;5;124m\"\u001b[39m\u001b[38;5;124mdtype\u001b[39m\u001b[38;5;124m\"\u001b[39m, \u001b[38;5;28;01mNone\u001b[39;00m) \u001b[38;5;241m==\u001b[39m \u001b[38;5;28mbool\u001b[39m:\n",
      "File \u001b[0;32m~/opt/anaconda3/envs/chem/lib/python3.9/site-packages/pandas/core/indexes/base.py:6108\u001b[0m, in \u001b[0;36mIndex._get_indexer_strict\u001b[0;34m(self, key, axis_name)\u001b[0m\n\u001b[1;32m   6105\u001b[0m \u001b[38;5;28;01melse\u001b[39;00m:\n\u001b[1;32m   6106\u001b[0m     keyarr, indexer, new_indexer \u001b[38;5;241m=\u001b[39m \u001b[38;5;28mself\u001b[39m\u001b[38;5;241m.\u001b[39m_reindex_non_unique(keyarr)\n\u001b[0;32m-> 6108\u001b[0m \u001b[38;5;28;43mself\u001b[39;49m\u001b[38;5;241;43m.\u001b[39;49m\u001b[43m_raise_if_missing\u001b[49m\u001b[43m(\u001b[49m\u001b[43mkeyarr\u001b[49m\u001b[43m,\u001b[49m\u001b[43m \u001b[49m\u001b[43mindexer\u001b[49m\u001b[43m,\u001b[49m\u001b[43m \u001b[49m\u001b[43maxis_name\u001b[49m\u001b[43m)\u001b[49m\n\u001b[1;32m   6110\u001b[0m keyarr \u001b[38;5;241m=\u001b[39m \u001b[38;5;28mself\u001b[39m\u001b[38;5;241m.\u001b[39mtake(indexer)\n\u001b[1;32m   6111\u001b[0m \u001b[38;5;28;01mif\u001b[39;00m \u001b[38;5;28misinstance\u001b[39m(key, Index):\n\u001b[1;32m   6112\u001b[0m     \u001b[38;5;66;03m# GH 42790 - Preserve name from an Index\u001b[39;00m\n",
      "File \u001b[0;32m~/opt/anaconda3/envs/chem/lib/python3.9/site-packages/pandas/core/indexes/base.py:6168\u001b[0m, in \u001b[0;36mIndex._raise_if_missing\u001b[0;34m(self, key, indexer, axis_name)\u001b[0m\n\u001b[1;32m   6166\u001b[0m     \u001b[38;5;28;01mif\u001b[39;00m use_interval_msg:\n\u001b[1;32m   6167\u001b[0m         key \u001b[38;5;241m=\u001b[39m \u001b[38;5;28mlist\u001b[39m(key)\n\u001b[0;32m-> 6168\u001b[0m     \u001b[38;5;28;01mraise\u001b[39;00m \u001b[38;5;167;01mKeyError\u001b[39;00m(\u001b[38;5;124mf\u001b[39m\u001b[38;5;124m\"\u001b[39m\u001b[38;5;124mNone of [\u001b[39m\u001b[38;5;132;01m{\u001b[39;00mkey\u001b[38;5;132;01m}\u001b[39;00m\u001b[38;5;124m] are in the [\u001b[39m\u001b[38;5;132;01m{\u001b[39;00maxis_name\u001b[38;5;132;01m}\u001b[39;00m\u001b[38;5;124m]\u001b[39m\u001b[38;5;124m\"\u001b[39m)\n\u001b[1;32m   6170\u001b[0m not_found \u001b[38;5;241m=\u001b[39m \u001b[38;5;28mlist\u001b[39m(ensure_index(key)[missing_mask\u001b[38;5;241m.\u001b[39mnonzero()[\u001b[38;5;241m0\u001b[39m]]\u001b[38;5;241m.\u001b[39munique())\n\u001b[1;32m   6171\u001b[0m \u001b[38;5;28;01mraise\u001b[39;00m \u001b[38;5;167;01mKeyError\u001b[39;00m(\u001b[38;5;124mf\u001b[39m\u001b[38;5;124m\"\u001b[39m\u001b[38;5;132;01m{\u001b[39;00mnot_found\u001b[38;5;132;01m}\u001b[39;00m\u001b[38;5;124m not in index\u001b[39m\u001b[38;5;124m\"\u001b[39m)\n",
      "\u001b[0;31mKeyError\u001b[0m: \"None of [Index(['R2', 'under'], dtype='object')] are in the [columns]\""
     ]
    }
   ],
   "source": [
    "#カテゴリ値に変換\n",
    "df = pd.get_dummies(df, columns=['R2','under'])\n",
    "df.head(5)"
   ]
  },
  {
   "cell_type": "code",
   "execution_count": 79,
   "id": "c454240c-ed29-4ed0-a7d2-bdf31c25fec8",
   "metadata": {},
   "outputs": [
    {
     "name": "stdout",
     "output_type": "stream",
     "text": [
      "0      False\n",
      "1      False\n",
      "2      False\n",
      "3      False\n",
      "4      False\n",
      "       ...  \n",
      "206    False\n",
      "207    False\n",
      "208    False\n",
      "209    False\n",
      "212    False\n",
      "Name: temp(℃), Length: 165, dtype: bool\n"
     ]
    },
    {
     "name": "stderr",
     "output_type": "stream",
     "text": [
      "/var/folders/12/6r_lrg9d6kx949nw6gcq9ksh0000gn/T/ipykernel_93936/2666549685.py:1: SettingWithCopyWarning: \n",
      "A value is trying to be set on a copy of a slice from a DataFrame\n",
      "\n",
      "See the caveats in the documentation: https://pandas.pydata.org/pandas-docs/stable/user_guide/indexing.html#returning-a-view-versus-a-copy\n",
      "  df['temp(℃)'][df['temp(℃)'] == 'rt'] = 23\n"
     ]
    }
   ],
   "source": [
    "# tempの「rt」を23℃に変換\n",
    "df['temp(℃)'][df['temp(℃)'] == 'rt'] = 23\n",
    "print(df['temp(℃)'] == 'rt')"
   ]
  },
  {
   "cell_type": "code",
   "execution_count": 215,
   "id": "1b0f6572-88df-4ca6-9db5-ac3176ee88df",
   "metadata": {},
   "outputs": [],
   "source": [
    "check_columns = df.columns.drop(['entry', '収率(%)'])\n",
    "\n",
    "# 説明変数のみでみた時の重複削除\n",
    "_df = df.drop(columns='entry').drop_duplicates(subset=check_columns).reset_index(drop=True)\n",
    "X = _df.drop(columns=['収率(%)'])\n",
    "y = _df['収率(%)']\n",
    "_df.to_csv('exec_1114_前処理後.csv')"
   ]
  },
  {
   "cell_type": "code",
   "execution_count": 238,
   "id": "57ee7bf7-d1b6-415b-afbd-8492a8d10abc",
   "metadata": {},
   "outputs": [
    {
     "data": {
      "text/plain": [
       "(123, 13)"
      ]
     },
     "metadata": {},
     "output_type": "display_data"
    },
    {
     "data": {
      "text/plain": [
       "(31, 13)"
      ]
     },
     "metadata": {},
     "output_type": "display_data"
    }
   ],
   "source": [
    "from sklearn.model_selection import train_test_split\n",
    "X_train, X_test, y_train, y_test = train_test_split(X, y, test_size=0.2, random_state=0)\n",
    "display(X_train.shape)\n",
    "display(X_test.shape)"
   ]
  },
  {
   "cell_type": "code",
   "execution_count": 262,
   "id": "12f1b16f-37ec-4f5c-9e6f-35d392a6fd20",
   "metadata": {},
   "outputs": [
    {
     "name": "stdout",
     "output_type": "stream",
     "text": [
      "(123, 13)\n",
      "(31, 13)\n"
     ]
    }
   ],
   "source": [
    "# 説明変数をスケーリング\n",
    "# 目的変数は必要ない。\n",
    "# https://stats.stackexchange.com/questions/111467/is-it-necessary-to-scale-the-target-value-in-addition-to-scaling-features-for-re\n",
    "from sklearn.preprocessing import StandardScaler\n",
    "scaling_columns = ['organocatalyst(mol%)','temp(℃)','time(h)','Cu(OAc)2(mol%)', 'AcOH(mol%)']\n",
    "scaler = StandardScaler()\n",
    "scaler.fit(X_train[scaling_columns])\n",
    "X_train_scaled = pd.concat([X_train.drop(columns=scaling_columns), \n",
    "                           pd.DataFrame(scaler.transform(X_train[scaling_columns]),index=X_train.index , columns=scaling_columns)],\n",
    "                           axis=1, join='inner')\n",
    "X_test_scaled = pd.concat([X_test.drop(columns=scaling_columns),\n",
    "                           pd.DataFrame(scaler.transform(X_test[scaling_columns]),index=X_test.index,columns=scaling_columns)],\n",
    "                           axis=1, join='inner')\n",
    "\n",
    "print(X_train_scaled.shape)\n",
    "print(X_test_scaled.shape)"
   ]
  },
  {
   "cell_type": "markdown",
   "id": "4fb54c81-f12a-45d0-9e1f-349927163469",
   "metadata": {
    "tags": []
   },
   "source": [
    "# 記述子の選定\n",
    "1. 全てのパラメータを用いる。\n",
    "   基質R1と触媒の化学構造をmorgan記述子に変換する。\n",
    "2. 基質R1,R2と触媒のデータのみ用いる。(重複は削除)\n",
    "3. 類似度(基質と触媒のMorgan記述子に基づいて計算したタニモト係数)とR2\n",
    "4. DFTから出す？？？\n",
    "\n",
    "# モデルの選定\n",
    "- PLS\n",
    "\n",
    "  多重共線性。寄与率見れる。\n",
    "  相関関係がある複数の予測子変数が含まれているデータに用いる\n",
    "\n",
    "- LASSO\n",
    "\n",
    "  残差二乗和に罰則項を設け、過剰適合を防ぐ\n",
    "  \n",
    "- SVR\n",
    "\n",
    "  説明変数を非線形変換した後の「特徴量空間」の中で誤差を少なくする。 => カーネル関数を用いて類似度を測定している。\n",
    "  精度が高い\n",
    "  \n",
    "- GPR\n",
    "  \n",
    "- RF\n",
    "\n",
    "  ブースティングを使ったアンサンブル決定木、精度が高い、結果がわかりやすい。\n",
    "  \n",
    "- GBDT\n",
    "\n",
    "  勾配ブースティング\n",
    "  \n",
    "- XGB\n",
    "\n",
    "外側のクロスバリデーションは一つ抜き。内側のバリデーションは5分割のクロスバリデーションを用いたダブルクロスバリデーションでモデルをトレーニングした。"
   ]
  },
  {
   "cell_type": "code",
   "execution_count": 301,
   "id": "749b2404-dfdb-47b0-b8ad-42f753f8fe67",
   "metadata": {},
   "outputs": [
    {
     "data": {
      "text/plain": [
       "Index(['R1-', 'organocatalyst', 'R2_C', 'R2_H', 'R2_Ph', 'under_Ar',\n",
       "       'under_O2', 'under_air', 'organocatalyst(mol%)', 'temp(℃)', 'time(h)',\n",
       "       'Cu(OAc)2(mol%)', 'AcOH(mol%)'],\n",
       "      dtype='object')"
      ]
     },
     "execution_count": 301,
     "metadata": {},
     "output_type": "execute_result"
    }
   ],
   "source": [
    "X_train_scaled.columns"
   ]
  },
  {
   "cell_type": "code",
   "execution_count": 399,
   "id": "1bb699c6-e807-4ad4-89ea-8225ac1d2b22",
   "metadata": {},
   "outputs": [],
   "source": [
    "BIT = 2048"
   ]
  },
  {
   "cell_type": "code",
   "execution_count": 453,
   "id": "ac73482d-8283-496d-8b69-445b888173ff",
   "metadata": {},
   "outputs": [],
   "source": [
    "import numpy as np\n",
    "from rdkit import Chem\n",
    "from rdkit.Chem import AllChem, DataStructs\n",
    "\n",
    "def toFinger(df, columns):\n",
    "    df_copy = df.drop(columns=columns)\n",
    "    for column in columns:\n",
    "        fingerprints = toFingerFromSmiles(df[column])\n",
    "        column_names = list(map(lambda x: str(x)+'_'+column, range(BIT)))\n",
    "        df_copy = pd.merge(df_copy, pd.DataFrame(fingerprints,index=df.index, columns=column_names), left_index=True, right_index=True)\n",
    "    return df_copy\n",
    "\n",
    "def toFingerFromSmiles(series):\n",
    "    mols = []\n",
    "    for smile in series:\n",
    "        if smile in ['-', 0]: smile = '' \n",
    "        mols.append(Chem.MolFromSmiles(smile))\n",
    "\n",
    "    fingerprints = []\n",
    "    for mol_idx, mol in enumerate(mols):\n",
    "        try:\n",
    "            # listに直してる。\n",
    "            fingerprint = [x for x in Chem.AllChem.GetMorganFingerprintAsBitVect(mol,2,BIT)]\n",
    "            fingerprints.append(fingerprint)\n",
    "        except Exception as e:\n",
    "            print(\"Error\", mol_idx)\n",
    "            break\n",
    "    return fingerprints\n",
    "del list"
   ]
  },
  {
   "cell_type": "code",
   "execution_count": 353,
   "id": "9198bc9b-41fe-42f3-b2cc-82ebf1aaba99",
   "metadata": {},
   "outputs": [],
   "source": [
    "# 1. 全てのデータを使用\n",
    "finger_columns = ['R1-', 'organocatalyst']\n",
    "X_train_1 = toFinger(X_train_scaled, finger_columns)\n",
    "X_test_1 = toFinger(X_test_scaled, finger_columns)"
   ]
  },
  {
   "cell_type": "code",
   "execution_count": 354,
   "id": "9d1cfe24-cfa1-40c1-baa6-60669f66c176",
   "metadata": {},
   "outputs": [
    {
     "data": {
      "text/html": [
       "<div>\n",
       "<style scoped>\n",
       "    .dataframe tbody tr th:only-of-type {\n",
       "        vertical-align: middle;\n",
       "    }\n",
       "\n",
       "    .dataframe tbody tr th {\n",
       "        vertical-align: top;\n",
       "    }\n",
       "\n",
       "    .dataframe thead th {\n",
       "        text-align: right;\n",
       "    }\n",
       "</style>\n",
       "<table border=\"1\" class=\"dataframe\">\n",
       "  <thead>\n",
       "    <tr style=\"text-align: right;\">\n",
       "      <th></th>\n",
       "      <th>R2_C</th>\n",
       "      <th>R2_H</th>\n",
       "      <th>R2_Ph</th>\n",
       "      <th>under_Ar</th>\n",
       "      <th>under_O2</th>\n",
       "      <th>under_air</th>\n",
       "      <th>organocatalyst(mol%)</th>\n",
       "      <th>temp(℃)</th>\n",
       "      <th>time(h)</th>\n",
       "      <th>Cu(OAc)2(mol%)</th>\n",
       "      <th>...</th>\n",
       "      <th>2038_organocatalyst</th>\n",
       "      <th>2039_organocatalyst</th>\n",
       "      <th>2040_organocatalyst</th>\n",
       "      <th>2041_organocatalyst</th>\n",
       "      <th>2042_organocatalyst</th>\n",
       "      <th>2043_organocatalyst</th>\n",
       "      <th>2044_organocatalyst</th>\n",
       "      <th>2045_organocatalyst</th>\n",
       "      <th>2046_organocatalyst</th>\n",
       "      <th>2047_organocatalyst</th>\n",
       "    </tr>\n",
       "  </thead>\n",
       "  <tbody>\n",
       "    <tr>\n",
       "      <th>19</th>\n",
       "      <td>0</td>\n",
       "      <td>1</td>\n",
       "      <td>0</td>\n",
       "      <td>0</td>\n",
       "      <td>1</td>\n",
       "      <td>0</td>\n",
       "      <td>-0.489763</td>\n",
       "      <td>1.266443</td>\n",
       "      <td>-1.214437</td>\n",
       "      <td>-0.260514</td>\n",
       "      <td>...</td>\n",
       "      <td>0</td>\n",
       "      <td>0</td>\n",
       "      <td>0</td>\n",
       "      <td>0</td>\n",
       "      <td>0</td>\n",
       "      <td>0</td>\n",
       "      <td>0</td>\n",
       "      <td>0</td>\n",
       "      <td>0</td>\n",
       "      <td>0</td>\n",
       "    </tr>\n",
       "    <tr>\n",
       "      <th>138</th>\n",
       "      <td>1</td>\n",
       "      <td>0</td>\n",
       "      <td>0</td>\n",
       "      <td>0</td>\n",
       "      <td>0</td>\n",
       "      <td>1</td>\n",
       "      <td>0.816980</td>\n",
       "      <td>-0.843271</td>\n",
       "      <td>-0.270349</td>\n",
       "      <td>-0.260514</td>\n",
       "      <td>...</td>\n",
       "      <td>0</td>\n",
       "      <td>0</td>\n",
       "      <td>0</td>\n",
       "      <td>0</td>\n",
       "      <td>0</td>\n",
       "      <td>0</td>\n",
       "      <td>0</td>\n",
       "      <td>0</td>\n",
       "      <td>0</td>\n",
       "      <td>0</td>\n",
       "    </tr>\n",
       "    <tr>\n",
       "      <th>95</th>\n",
       "      <td>0</td>\n",
       "      <td>1</td>\n",
       "      <td>0</td>\n",
       "      <td>0</td>\n",
       "      <td>1</td>\n",
       "      <td>0</td>\n",
       "      <td>-1.273809</td>\n",
       "      <td>-0.843271</td>\n",
       "      <td>0.988436</td>\n",
       "      <td>2.078405</td>\n",
       "      <td>...</td>\n",
       "      <td>0</td>\n",
       "      <td>0</td>\n",
       "      <td>0</td>\n",
       "      <td>0</td>\n",
       "      <td>0</td>\n",
       "      <td>0</td>\n",
       "      <td>0</td>\n",
       "      <td>0</td>\n",
       "      <td>0</td>\n",
       "      <td>0</td>\n",
       "    </tr>\n",
       "  </tbody>\n",
       "</table>\n",
       "<p>3 rows × 4107 columns</p>\n",
       "</div>"
      ],
      "text/plain": [
       "     R2_C  R2_H  R2_Ph  under_Ar  under_O2  under_air  organocatalyst(mol%)  \\\n",
       "19      0     1      0         0         1          0             -0.489763   \n",
       "138     1     0      0         0         0          1              0.816980   \n",
       "95      0     1      0         0         1          0             -1.273809   \n",
       "\n",
       "      temp(℃)   time(h)  Cu(OAc)2(mol%)  ...  2038_organocatalyst  \\\n",
       "19   1.266443 -1.214437       -0.260514  ...                    0   \n",
       "138 -0.843271 -0.270349       -0.260514  ...                    0   \n",
       "95  -0.843271  0.988436        2.078405  ...                    0   \n",
       "\n",
       "     2039_organocatalyst  2040_organocatalyst  2041_organocatalyst  \\\n",
       "19                     0                    0                    0   \n",
       "138                    0                    0                    0   \n",
       "95                     0                    0                    0   \n",
       "\n",
       "     2042_organocatalyst  2043_organocatalyst  2044_organocatalyst  \\\n",
       "19                     0                    0                    0   \n",
       "138                    0                    0                    0   \n",
       "95                     0                    0                    0   \n",
       "\n",
       "     2045_organocatalyst  2046_organocatalyst  2047_organocatalyst  \n",
       "19                     0                    0                    0  \n",
       "138                    0                    0                    0  \n",
       "95                     0                    0                    0  \n",
       "\n",
       "[3 rows x 4107 columns]"
      ]
     },
     "metadata": {},
     "output_type": "display_data"
    },
    {
     "data": {
      "text/html": [
       "<div>\n",
       "<style scoped>\n",
       "    .dataframe tbody tr th:only-of-type {\n",
       "        vertical-align: middle;\n",
       "    }\n",
       "\n",
       "    .dataframe tbody tr th {\n",
       "        vertical-align: top;\n",
       "    }\n",
       "\n",
       "    .dataframe thead th {\n",
       "        text-align: right;\n",
       "    }\n",
       "</style>\n",
       "<table border=\"1\" class=\"dataframe\">\n",
       "  <thead>\n",
       "    <tr style=\"text-align: right;\">\n",
       "      <th></th>\n",
       "      <th>R2_C</th>\n",
       "      <th>R2_H</th>\n",
       "      <th>R2_Ph</th>\n",
       "      <th>under_Ar</th>\n",
       "      <th>under_O2</th>\n",
       "      <th>under_air</th>\n",
       "      <th>organocatalyst(mol%)</th>\n",
       "      <th>temp(℃)</th>\n",
       "      <th>time(h)</th>\n",
       "      <th>Cu(OAc)2(mol%)</th>\n",
       "      <th>...</th>\n",
       "      <th>2038_organocatalyst</th>\n",
       "      <th>2039_organocatalyst</th>\n",
       "      <th>2040_organocatalyst</th>\n",
       "      <th>2041_organocatalyst</th>\n",
       "      <th>2042_organocatalyst</th>\n",
       "      <th>2043_organocatalyst</th>\n",
       "      <th>2044_organocatalyst</th>\n",
       "      <th>2045_organocatalyst</th>\n",
       "      <th>2046_organocatalyst</th>\n",
       "      <th>2047_organocatalyst</th>\n",
       "    </tr>\n",
       "  </thead>\n",
       "  <tbody>\n",
       "    <tr>\n",
       "      <th>26</th>\n",
       "      <td>0</td>\n",
       "      <td>1</td>\n",
       "      <td>0</td>\n",
       "      <td>0</td>\n",
       "      <td>1</td>\n",
       "      <td>0</td>\n",
       "      <td>-1.796506</td>\n",
       "      <td>-0.843271</td>\n",
       "      <td>-1.214437</td>\n",
       "      <td>-0.260514</td>\n",
       "      <td>...</td>\n",
       "      <td>0</td>\n",
       "      <td>0</td>\n",
       "      <td>0</td>\n",
       "      <td>0</td>\n",
       "      <td>0</td>\n",
       "      <td>0</td>\n",
       "      <td>0</td>\n",
       "      <td>0</td>\n",
       "      <td>0</td>\n",
       "      <td>0</td>\n",
       "    </tr>\n",
       "    <tr>\n",
       "      <th>89</th>\n",
       "      <td>0</td>\n",
       "      <td>1</td>\n",
       "      <td>0</td>\n",
       "      <td>0</td>\n",
       "      <td>1</td>\n",
       "      <td>0</td>\n",
       "      <td>-0.489763</td>\n",
       "      <td>-0.843271</td>\n",
       "      <td>0.988436</td>\n",
       "      <td>2.078405</td>\n",
       "      <td>...</td>\n",
       "      <td>0</td>\n",
       "      <td>0</td>\n",
       "      <td>0</td>\n",
       "      <td>0</td>\n",
       "      <td>0</td>\n",
       "      <td>0</td>\n",
       "      <td>0</td>\n",
       "      <td>0</td>\n",
       "      <td>0</td>\n",
       "      <td>0</td>\n",
       "    </tr>\n",
       "    <tr>\n",
       "      <th>151</th>\n",
       "      <td>0</td>\n",
       "      <td>0</td>\n",
       "      <td>1</td>\n",
       "      <td>0</td>\n",
       "      <td>1</td>\n",
       "      <td>0</td>\n",
       "      <td>0.816980</td>\n",
       "      <td>0.321795</td>\n",
       "      <td>2.247221</td>\n",
       "      <td>-0.260514</td>\n",
       "      <td>...</td>\n",
       "      <td>0</td>\n",
       "      <td>0</td>\n",
       "      <td>0</td>\n",
       "      <td>0</td>\n",
       "      <td>0</td>\n",
       "      <td>0</td>\n",
       "      <td>0</td>\n",
       "      <td>0</td>\n",
       "      <td>0</td>\n",
       "      <td>0</td>\n",
       "    </tr>\n",
       "  </tbody>\n",
       "</table>\n",
       "<p>3 rows × 4107 columns</p>\n",
       "</div>"
      ],
      "text/plain": [
       "     R2_C  R2_H  R2_Ph  under_Ar  under_O2  under_air  organocatalyst(mol%)  \\\n",
       "26      0     1      0         0         1          0             -1.796506   \n",
       "89      0     1      0         0         1          0             -0.489763   \n",
       "151     0     0      1         0         1          0              0.816980   \n",
       "\n",
       "      temp(℃)   time(h)  Cu(OAc)2(mol%)  ...  2038_organocatalyst  \\\n",
       "26  -0.843271 -1.214437       -0.260514  ...                    0   \n",
       "89  -0.843271  0.988436        2.078405  ...                    0   \n",
       "151  0.321795  2.247221       -0.260514  ...                    0   \n",
       "\n",
       "     2039_organocatalyst  2040_organocatalyst  2041_organocatalyst  \\\n",
       "26                     0                    0                    0   \n",
       "89                     0                    0                    0   \n",
       "151                    0                    0                    0   \n",
       "\n",
       "     2042_organocatalyst  2043_organocatalyst  2044_organocatalyst  \\\n",
       "26                     0                    0                    0   \n",
       "89                     0                    0                    0   \n",
       "151                    0                    0                    0   \n",
       "\n",
       "     2045_organocatalyst  2046_organocatalyst  2047_organocatalyst  \n",
       "26                     0                    0                    0  \n",
       "89                     0                    0                    0  \n",
       "151                    0                    0                    0  \n",
       "\n",
       "[3 rows x 4107 columns]"
      ]
     },
     "metadata": {},
     "output_type": "display_data"
    }
   ],
   "source": [
    "display(X_train_1.head(3))\n",
    "display(X_test_1.head(3))"
   ]
  },
  {
   "cell_type": "code",
   "execution_count": 397,
   "id": "fbcfc979-9c18-4d6e-99b5-d4dab4db3196",
   "metadata": {},
   "outputs": [
    {
     "name": "stdout",
     "output_type": "stream",
     "text": [
      "trainのduplicated:  False    94\n",
      "dtype: int64\n",
      "trainのduplicated:  False    26\n",
      "dtype: int64\n"
     ]
    }
   ],
   "source": [
    "# 基質R1,R2と触媒のデータのみ用いる。(重複は削除)\n",
    "drop_columns = ['under_Ar', 'under_O2', 'under_air', 'organocatalyst(mol%)', 'temp(℃)', 'time(h)','Cu(OAc)2(mol%)', 'AcOH(mol%)']\n",
    "\n",
    "X_train_1_dropped = X_train_1.drop(columns=drop_columns)\n",
    "X_test_1_dropped = X_test_1.drop(columns=drop_columns)\n",
    "\n",
    "train_set_2 = pd.concat([X_train_1_dropped, y_train], axis=1)\n",
    "train_set_2.drop_duplicates(subset=X_train_1_dropped.columns, inplace=True)\n",
    "print('trainのduplicated: ', train_set_2.duplicated().value_counts())\n",
    "X_train_2 = train_set_2.drop(columns=['収率(%)'])\n",
    "y_train_2 = train_set_2['収率(%)']\n",
    "\n",
    "test_set_2 = pd.concat([X_test_1_dropped, y_test], axis=1)\n",
    "test_set_2.drop_duplicates(subset=X_test_1_dropped.columns, inplace=True)\n",
    "print('trainのduplicated: ', test_set_2.duplicated().value_counts())\n",
    "X_test_2 = test_set_2.drop(columns=['収率(%)'])\n",
    "y_test_2 = test_set_2['収率(%)']"
   ]
  },
  {
   "cell_type": "code",
   "execution_count": 398,
   "id": "000c8d29-a9a1-440c-9114-2c10ed9e99e3",
   "metadata": {},
   "outputs": [
    {
     "data": {
      "text/plain": [
       "'X_train_2: '"
      ]
     },
     "metadata": {},
     "output_type": "display_data"
    },
    {
     "data": {
      "text/html": [
       "<div>\n",
       "<style scoped>\n",
       "    .dataframe tbody tr th:only-of-type {\n",
       "        vertical-align: middle;\n",
       "    }\n",
       "\n",
       "    .dataframe tbody tr th {\n",
       "        vertical-align: top;\n",
       "    }\n",
       "\n",
       "    .dataframe thead th {\n",
       "        text-align: right;\n",
       "    }\n",
       "</style>\n",
       "<table border=\"1\" class=\"dataframe\">\n",
       "  <thead>\n",
       "    <tr style=\"text-align: right;\">\n",
       "      <th></th>\n",
       "      <th>R2_C</th>\n",
       "      <th>R2_H</th>\n",
       "      <th>R2_Ph</th>\n",
       "      <th>0_R1-</th>\n",
       "      <th>1_R1-</th>\n",
       "      <th>2_R1-</th>\n",
       "      <th>3_R1-</th>\n",
       "      <th>4_R1-</th>\n",
       "      <th>5_R1-</th>\n",
       "      <th>6_R1-</th>\n",
       "      <th>...</th>\n",
       "      <th>2038_organocatalyst</th>\n",
       "      <th>2039_organocatalyst</th>\n",
       "      <th>2040_organocatalyst</th>\n",
       "      <th>2041_organocatalyst</th>\n",
       "      <th>2042_organocatalyst</th>\n",
       "      <th>2043_organocatalyst</th>\n",
       "      <th>2044_organocatalyst</th>\n",
       "      <th>2045_organocatalyst</th>\n",
       "      <th>2046_organocatalyst</th>\n",
       "      <th>2047_organocatalyst</th>\n",
       "    </tr>\n",
       "  </thead>\n",
       "  <tbody>\n",
       "    <tr>\n",
       "      <th>19</th>\n",
       "      <td>0</td>\n",
       "      <td>1</td>\n",
       "      <td>0</td>\n",
       "      <td>0</td>\n",
       "      <td>0</td>\n",
       "      <td>0</td>\n",
       "      <td>0</td>\n",
       "      <td>0</td>\n",
       "      <td>0</td>\n",
       "      <td>0</td>\n",
       "      <td>...</td>\n",
       "      <td>0</td>\n",
       "      <td>0</td>\n",
       "      <td>0</td>\n",
       "      <td>0</td>\n",
       "      <td>0</td>\n",
       "      <td>0</td>\n",
       "      <td>0</td>\n",
       "      <td>0</td>\n",
       "      <td>0</td>\n",
       "      <td>0</td>\n",
       "    </tr>\n",
       "    <tr>\n",
       "      <th>138</th>\n",
       "      <td>1</td>\n",
       "      <td>0</td>\n",
       "      <td>0</td>\n",
       "      <td>0</td>\n",
       "      <td>0</td>\n",
       "      <td>0</td>\n",
       "      <td>0</td>\n",
       "      <td>0</td>\n",
       "      <td>0</td>\n",
       "      <td>0</td>\n",
       "      <td>...</td>\n",
       "      <td>0</td>\n",
       "      <td>0</td>\n",
       "      <td>0</td>\n",
       "      <td>0</td>\n",
       "      <td>0</td>\n",
       "      <td>0</td>\n",
       "      <td>0</td>\n",
       "      <td>0</td>\n",
       "      <td>0</td>\n",
       "      <td>0</td>\n",
       "    </tr>\n",
       "    <tr>\n",
       "      <th>95</th>\n",
       "      <td>0</td>\n",
       "      <td>1</td>\n",
       "      <td>0</td>\n",
       "      <td>0</td>\n",
       "      <td>0</td>\n",
       "      <td>0</td>\n",
       "      <td>0</td>\n",
       "      <td>0</td>\n",
       "      <td>0</td>\n",
       "      <td>0</td>\n",
       "      <td>...</td>\n",
       "      <td>0</td>\n",
       "      <td>0</td>\n",
       "      <td>0</td>\n",
       "      <td>0</td>\n",
       "      <td>0</td>\n",
       "      <td>0</td>\n",
       "      <td>0</td>\n",
       "      <td>0</td>\n",
       "      <td>0</td>\n",
       "      <td>0</td>\n",
       "    </tr>\n",
       "  </tbody>\n",
       "</table>\n",
       "<p>3 rows × 4099 columns</p>\n",
       "</div>"
      ],
      "text/plain": [
       "     R2_C  R2_H  R2_Ph  0_R1-  1_R1-  2_R1-  3_R1-  4_R1-  5_R1-  6_R1-  ...  \\\n",
       "19      0     1      0      0      0      0      0      0      0      0  ...   \n",
       "138     1     0      0      0      0      0      0      0      0      0  ...   \n",
       "95      0     1      0      0      0      0      0      0      0      0  ...   \n",
       "\n",
       "     2038_organocatalyst  2039_organocatalyst  2040_organocatalyst  \\\n",
       "19                     0                    0                    0   \n",
       "138                    0                    0                    0   \n",
       "95                     0                    0                    0   \n",
       "\n",
       "     2041_organocatalyst  2042_organocatalyst  2043_organocatalyst  \\\n",
       "19                     0                    0                    0   \n",
       "138                    0                    0                    0   \n",
       "95                     0                    0                    0   \n",
       "\n",
       "     2044_organocatalyst  2045_organocatalyst  2046_organocatalyst  \\\n",
       "19                     0                    0                    0   \n",
       "138                    0                    0                    0   \n",
       "95                     0                    0                    0   \n",
       "\n",
       "     2047_organocatalyst  \n",
       "19                     0  \n",
       "138                    0  \n",
       "95                     0  \n",
       "\n",
       "[3 rows x 4099 columns]"
      ]
     },
     "metadata": {},
     "output_type": "display_data"
    },
    {
     "data": {
      "text/plain": [
       "'X_test_2: '"
      ]
     },
     "metadata": {},
     "output_type": "display_data"
    },
    {
     "data": {
      "text/html": [
       "<div>\n",
       "<style scoped>\n",
       "    .dataframe tbody tr th:only-of-type {\n",
       "        vertical-align: middle;\n",
       "    }\n",
       "\n",
       "    .dataframe tbody tr th {\n",
       "        vertical-align: top;\n",
       "    }\n",
       "\n",
       "    .dataframe thead th {\n",
       "        text-align: right;\n",
       "    }\n",
       "</style>\n",
       "<table border=\"1\" class=\"dataframe\">\n",
       "  <thead>\n",
       "    <tr style=\"text-align: right;\">\n",
       "      <th></th>\n",
       "      <th>R2_C</th>\n",
       "      <th>R2_H</th>\n",
       "      <th>R2_Ph</th>\n",
       "      <th>0_R1-</th>\n",
       "      <th>1_R1-</th>\n",
       "      <th>2_R1-</th>\n",
       "      <th>3_R1-</th>\n",
       "      <th>4_R1-</th>\n",
       "      <th>5_R1-</th>\n",
       "      <th>6_R1-</th>\n",
       "      <th>...</th>\n",
       "      <th>2038_organocatalyst</th>\n",
       "      <th>2039_organocatalyst</th>\n",
       "      <th>2040_organocatalyst</th>\n",
       "      <th>2041_organocatalyst</th>\n",
       "      <th>2042_organocatalyst</th>\n",
       "      <th>2043_organocatalyst</th>\n",
       "      <th>2044_organocatalyst</th>\n",
       "      <th>2045_organocatalyst</th>\n",
       "      <th>2046_organocatalyst</th>\n",
       "      <th>2047_organocatalyst</th>\n",
       "    </tr>\n",
       "  </thead>\n",
       "  <tbody>\n",
       "    <tr>\n",
       "      <th>26</th>\n",
       "      <td>0</td>\n",
       "      <td>1</td>\n",
       "      <td>0</td>\n",
       "      <td>0</td>\n",
       "      <td>0</td>\n",
       "      <td>0</td>\n",
       "      <td>0</td>\n",
       "      <td>0</td>\n",
       "      <td>0</td>\n",
       "      <td>0</td>\n",
       "      <td>...</td>\n",
       "      <td>0</td>\n",
       "      <td>0</td>\n",
       "      <td>0</td>\n",
       "      <td>0</td>\n",
       "      <td>0</td>\n",
       "      <td>0</td>\n",
       "      <td>0</td>\n",
       "      <td>0</td>\n",
       "      <td>0</td>\n",
       "      <td>0</td>\n",
       "    </tr>\n",
       "    <tr>\n",
       "      <th>89</th>\n",
       "      <td>0</td>\n",
       "      <td>1</td>\n",
       "      <td>0</td>\n",
       "      <td>0</td>\n",
       "      <td>0</td>\n",
       "      <td>0</td>\n",
       "      <td>0</td>\n",
       "      <td>0</td>\n",
       "      <td>0</td>\n",
       "      <td>0</td>\n",
       "      <td>...</td>\n",
       "      <td>0</td>\n",
       "      <td>0</td>\n",
       "      <td>0</td>\n",
       "      <td>0</td>\n",
       "      <td>0</td>\n",
       "      <td>0</td>\n",
       "      <td>0</td>\n",
       "      <td>0</td>\n",
       "      <td>0</td>\n",
       "      <td>0</td>\n",
       "    </tr>\n",
       "    <tr>\n",
       "      <th>151</th>\n",
       "      <td>0</td>\n",
       "      <td>0</td>\n",
       "      <td>1</td>\n",
       "      <td>0</td>\n",
       "      <td>0</td>\n",
       "      <td>0</td>\n",
       "      <td>0</td>\n",
       "      <td>0</td>\n",
       "      <td>0</td>\n",
       "      <td>0</td>\n",
       "      <td>...</td>\n",
       "      <td>0</td>\n",
       "      <td>0</td>\n",
       "      <td>0</td>\n",
       "      <td>0</td>\n",
       "      <td>0</td>\n",
       "      <td>0</td>\n",
       "      <td>0</td>\n",
       "      <td>0</td>\n",
       "      <td>0</td>\n",
       "      <td>0</td>\n",
       "    </tr>\n",
       "  </tbody>\n",
       "</table>\n",
       "<p>3 rows × 4099 columns</p>\n",
       "</div>"
      ],
      "text/plain": [
       "     R2_C  R2_H  R2_Ph  0_R1-  1_R1-  2_R1-  3_R1-  4_R1-  5_R1-  6_R1-  ...  \\\n",
       "26      0     1      0      0      0      0      0      0      0      0  ...   \n",
       "89      0     1      0      0      0      0      0      0      0      0  ...   \n",
       "151     0     0      1      0      0      0      0      0      0      0  ...   \n",
       "\n",
       "     2038_organocatalyst  2039_organocatalyst  2040_organocatalyst  \\\n",
       "26                     0                    0                    0   \n",
       "89                     0                    0                    0   \n",
       "151                    0                    0                    0   \n",
       "\n",
       "     2041_organocatalyst  2042_organocatalyst  2043_organocatalyst  \\\n",
       "26                     0                    0                    0   \n",
       "89                     0                    0                    0   \n",
       "151                    0                    0                    0   \n",
       "\n",
       "     2044_organocatalyst  2045_organocatalyst  2046_organocatalyst  \\\n",
       "26                     0                    0                    0   \n",
       "89                     0                    0                    0   \n",
       "151                    0                    0                    0   \n",
       "\n",
       "     2047_organocatalyst  \n",
       "26                     0  \n",
       "89                     0  \n",
       "151                    0  \n",
       "\n",
       "[3 rows x 4099 columns]"
      ]
     },
     "metadata": {},
     "output_type": "display_data"
    },
    {
     "data": {
      "text/plain": [
       "'y_train_2: '"
      ]
     },
     "metadata": {},
     "output_type": "display_data"
    },
    {
     "data": {
      "text/plain": [
       "19     88.0\n",
       "138    19.0\n",
       "95     56.0\n",
       "Name: 収率(%), dtype: float64"
      ]
     },
     "metadata": {},
     "output_type": "display_data"
    },
    {
     "data": {
      "text/plain": [
       "'y_test_2: '"
      ]
     },
     "metadata": {},
     "output_type": "display_data"
    },
    {
     "data": {
      "text/plain": [
       "26      6.0\n",
       "89     90.0\n",
       "151    92.0\n",
       "Name: 収率(%), dtype: float64"
      ]
     },
     "metadata": {},
     "output_type": "display_data"
    }
   ],
   "source": [
    "display('X_train_2: ', X_train_2.head(3))\n",
    "display('X_test_2: ', X_test_2.head(3))\n",
    "display('y_train_2: ', y_train_2.head(3))\n",
    "display('y_test_2: ', y_test_2.head(3))"
   ]
  },
  {
   "cell_type": "code",
   "execution_count": 494,
   "id": "c2187435-6b56-46dd-8c22-04f76605a181",
   "metadata": {
    "tags": []
   },
   "outputs": [],
   "source": [
    "# 類似性(基質と触媒のMorgan記述子に基づいて計算したタニモト係数)をxに追加\n",
    "# def toTanimoto(df):\n",
    "#     df_converted = pd.DataFrame()\n",
    "#     for i in range(0, BIT * 2, BIT):\n",
    "#         fingers = df.iloc[:, i:i+BIT].values.tolist()\n",
    "#         tanimoto_rows = [\n",
    "#         df_converted = pd.concat(df_converted, pd.DataFrame(tanimoto_rows, columns=fingers.columns), axis=1)\n",
    "#     return df_converted\n",
    "\n",
    "def toTanimoto(series, suffix):\n",
    "    mols = []\n",
    "    for smile in series:\n",
    "        if smile in ['-', 0]: smile = '' \n",
    "        mols.append(Chem.MolFromSmiles(smile))\n",
    "\n",
    "    fps = [Chem.AllChem.GetMorganFingerprintAsBitVect(mol,2,BIT) for mol in mols]\n",
    "    column_names = [str(i)+'-'+suffix for i in range(len(fps))]\n",
    "    return pd.DataFrame([DataStructs.BulkTanimotoSimilarity(fp, fps) for fp in fps], columns=column_names)\n",
    "\n",
    "method_3_selected = ['R1-', 'organocatalyst', 'R2_C', 'R2_H', 'R2_Ph']\n",
    "train_set_3 = pd.concat([X_train, y_train], axis=1)[method_3_selected + ['収率(%)']]\n",
    "train_set_3.drop_duplicates(subset=method_3_selected,inplace=True)\n",
    "test_set_3 = pd.concat([X_test, y_test], axis=1)[method_3_selected + ['収率(%)']]\n",
    "train_set_3.drop_duplicates(subset=method_3_selected,inplace=True)\n",
    "\n",
    "X_train_3 = pd.concat([toTanimoto(train_set_3['R1-'],'R1'), toTanimoto(train_set_3['organocatalyst'], 'organocatalyst'), train_set_3[['R2_C','R2_H','R2_Ph']]], axis=1)\n",
    "y_train = train_set_3['収率(%)']\n",
    "X_test_3 = pd.concat([toTanimoto(test_set_3['R1-'],'R1'), toTanimoto(test_set_3['organocatalyst'], 'organocatalyst'), train_set_3[['R2_C','R2_H','R2_Ph']]], axis=1)\n",
    "y_test = test_set_3['収率(%)']"
   ]
  },
  {
   "cell_type": "code",
   "execution_count": null,
   "id": "2316c86f-00ca-418b-b320-1f49357466cc",
   "metadata": {},
   "outputs": [],
   "source": [
    "# random forest\n",
    "from sklearn.ensemble import RandomForestRegressor\n",
    "from sklearn.metrics import r2_score, mean_squared_error, mean_absolute_error\n",
    "rf = RandomForestRegressor()\n",
    "rf.fit(X_train_1,Y_train_1)\n",
    "r2_score(rf.predict(X_test_1))\n"
   ]
  },
  {
   "cell_type": "code",
   "execution_count": null,
   "id": "525253df-41ee-4913-b019-5ad1f46d7037",
   "metadata": {},
   "outputs": [],
   "source": []
  },
  {
   "cell_type": "code",
   "execution_count": null,
   "id": "f20a8bcc-7db8-4f7f-bef5-52f469f6a311",
   "metadata": {},
   "outputs": [],
   "source": []
  },
  {
   "cell_type": "code",
   "execution_count": null,
   "id": "4eb5ea00-536e-430b-9d23-ffdf5344626d",
   "metadata": {},
   "outputs": [],
   "source": []
  },
  {
   "cell_type": "code",
   "execution_count": null,
   "id": "b37a9e69-1e81-428b-99b4-491ecec63d5a",
   "metadata": {},
   "outputs": [],
   "source": []
  },
  {
   "cell_type": "code",
   "execution_count": null,
   "id": "9ef65aff-0b44-424d-9672-031dbb8d4b25",
   "metadata": {},
   "outputs": [],
   "source": []
  },
  {
   "cell_type": "code",
   "execution_count": null,
   "id": "34bf0183-e8fd-4a79-be60-1fa3760979da",
   "metadata": {},
   "outputs": [],
   "source": [
    "PLS\n",
    "LASSO\n",
    "SVR\n",
    "GPR\n",
    "GBDT\n",
    "XGB"
   ]
  }
 ],
 "metadata": {
  "kernelspec": {
   "display_name": "Python 3 (ipykernel)",
   "language": "python",
   "name": "python3"
  },
  "language_info": {
   "codemirror_mode": {
    "name": "ipython",
    "version": 3
   },
   "file_extension": ".py",
   "mimetype": "text/x-python",
   "name": "python",
   "nbconvert_exporter": "python",
   "pygments_lexer": "ipython3",
   "version": "3.9.13"
  }
 },
 "nbformat": 4,
 "nbformat_minor": 5
}
