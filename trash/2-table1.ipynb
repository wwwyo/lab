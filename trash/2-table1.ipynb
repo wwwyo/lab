{
 "cells": [
  {
   "cell_type": "markdown",
   "id": "e4cf3f37-ff1a-48fe-9ced-2fd466de0278",
   "metadata": {},
   "source": [
    "\n",
    "## 説明変数\n",
    "1. 触媒の化学構造\n",
    "2. 基質の化学構造\n",
    "\n",
    "(配位子、活性金属中心、反応物の構造や反応中間体を想定して記述子を作成するなど)\n",
    "\n",
    "## 目的変数\n",
    "1. 収率(%)\n",
    "\n",
    "## 評価\n",
    "#### r2\n",
    "精度の評価関数\n",
    "0 ~ 100 %であり、1に近いほど良い。\n",
    "「残差平方和÷全平方和」\n",
    "#### MRE\n",
    "平均二乗誤差（MSE：Mean Squared Error）\n",
    "予測値と正解値の差であり0であるほど良い。\n",
    "「予測値 - 実測値」\n",
    "#### RMSE\n",
    "MREの平方根\n",
    "\n",
    "## RDkit\n",
    "ケモインフォマティクス\n",
    "\n",
    "#### モンガーフィンガープリント(Morgan Fingerprints)\n",
    "#### \n",
    "RDKitフィンガープリント\n",
    "MinHashフィンガープリント\n",
    "\n",
    "\n",
    "## スケーリング\n",
    "#### 標準化\n",
    "平均を0、分散を1とするスケーリング手法\n",
    "(x_i - μ_x) / σ_x\n",
    "(x - 平均) / 標準偏差\n",
    "\n",
    "○いつ使うか？\n",
    "最大値及び最小値が決まっていない場合\n",
    "外れ値が存在する場合\n",
    "\n",
    "#### 正規化(min-max)\n",
    "最小値を0、最大値を1とする0-1スケーリング手法\n",
    "(x_i - x_min) / (x_max - x_min)\n",
    "\n",
    "○いつ使うか？\n",
    "最大値及び最小値が決まっている場合\n",
    "\n",
    "\n",
    "＊ サンプル数50以上は欲しい。"
   ]
  },
  {
   "cell_type": "code",
   "execution_count": 1,
   "id": "2a53aa91-8efe-4429-9bbb-a011e3baef58",
   "metadata": {},
   "outputs": [],
   "source": [
    "import rdkit"
   ]
  },
  {
   "cell_type": "code",
   "execution_count": 3,
   "id": "2e63a1db-1b17-417b-83c8-6be867c655c2",
   "metadata": {},
   "outputs": [],
   "source": [
    "import pandas as pd"
   ]
  },
  {
   "cell_type": "code",
   "execution_count": 4,
   "id": "36abe1b8-60f1-4c63-9f13-3c4fbf78ef45",
   "metadata": {},
   "outputs": [],
   "source": [
    "table1 = pd.read_csv(\"2-table1.csv\", header=0)"
   ]
  },
  {
   "cell_type": "code",
   "execution_count": 5,
   "id": "82f21fea-2c56-48a7-85f5-9d86e496f88b",
   "metadata": {},
   "outputs": [
    {
     "data": {
      "text/html": [
       "<div>\n",
       "<style scoped>\n",
       "    .dataframe tbody tr th:only-of-type {\n",
       "        vertical-align: middle;\n",
       "    }\n",
       "\n",
       "    .dataframe tbody tr th {\n",
       "        vertical-align: top;\n",
       "    }\n",
       "\n",
       "    .dataframe thead th {\n",
       "        text-align: right;\n",
       "    }\n",
       "</style>\n",
       "<table border=\"1\" class=\"dataframe\">\n",
       "  <thead>\n",
       "    <tr style=\"text-align: right;\">\n",
       "      <th></th>\n",
       "      <th>organocatalyst</th>\n",
       "      <th>time(h)</th>\n",
       "      <th>yield(%)</th>\n",
       "    </tr>\n",
       "  </thead>\n",
       "  <tbody>\n",
       "    <tr>\n",
       "      <th>0</th>\n",
       "      <td>ClC1=CC=C(C(O)=O)C(O)=C1</td>\n",
       "      <td>24</td>\n",
       "      <td>81</td>\n",
       "    </tr>\n",
       "    <tr>\n",
       "      <th>1</th>\n",
       "      <td>ClC1=CC=C(C(O)=O)C(O)=C1</td>\n",
       "      <td>12</td>\n",
       "      <td>14</td>\n",
       "    </tr>\n",
       "    <tr>\n",
       "      <th>2</th>\n",
       "      <td>OC1=CC(C)=CC=C1C(O)=O</td>\n",
       "      <td>24</td>\n",
       "      <td>74</td>\n",
       "    </tr>\n",
       "    <tr>\n",
       "      <th>3</th>\n",
       "      <td>OC1=CC(C)=CC=C1C(O)=O</td>\n",
       "      <td>12</td>\n",
       "      <td>15</td>\n",
       "    </tr>\n",
       "    <tr>\n",
       "      <th>4</th>\n",
       "      <td>OC1=CC(OC)=CC=C1C(O)=O</td>\n",
       "      <td>24</td>\n",
       "      <td>90</td>\n",
       "    </tr>\n",
       "    <tr>\n",
       "      <th>5</th>\n",
       "      <td>OC1=CC(OC)=CC=C1C(O)=O</td>\n",
       "      <td>12</td>\n",
       "      <td>81</td>\n",
       "    </tr>\n",
       "    <tr>\n",
       "      <th>6</th>\n",
       "      <td>OC1=CC(OC)=CC=C1C(O)=O</td>\n",
       "      <td>8</td>\n",
       "      <td>43</td>\n",
       "    </tr>\n",
       "    <tr>\n",
       "      <th>7</th>\n",
       "      <td>COC1=CC(OC)=C(C(O)=O)C(O)=C1</td>\n",
       "      <td>12</td>\n",
       "      <td>88</td>\n",
       "    </tr>\n",
       "    <tr>\n",
       "      <th>8</th>\n",
       "      <td>COC1=CC(OC)=C(C(O)=O)C(O)=C1</td>\n",
       "      <td>6</td>\n",
       "      <td>95</td>\n",
       "    </tr>\n",
       "    <tr>\n",
       "      <th>9</th>\n",
       "      <td>COC1=CC(OC)=C(C(O)=O)C(O)=C1</td>\n",
       "      <td>2</td>\n",
       "      <td>65</td>\n",
       "    </tr>\n",
       "    <tr>\n",
       "      <th>10</th>\n",
       "      <td>CC(/N=N/C(C)(C#N)C)(C#N)C</td>\n",
       "      <td>6</td>\n",
       "      <td>33</td>\n",
       "    </tr>\n",
       "    <tr>\n",
       "      <th>11</th>\n",
       "      <td>O=C1C(C(C)(C)C)=CC(C(O)=C1)=O</td>\n",
       "      <td>6</td>\n",
       "      <td>93</td>\n",
       "    </tr>\n",
       "    <tr>\n",
       "      <th>12</th>\n",
       "      <td>O=C1C(C=C(O)C(C(C)(C)C)=C1)=O</td>\n",
       "      <td>6</td>\n",
       "      <td>84</td>\n",
       "    </tr>\n",
       "  </tbody>\n",
       "</table>\n",
       "</div>"
      ],
      "text/plain": [
       "                   organocatalyst  time(h)  yield(%)\n",
       "0        ClC1=CC=C(C(O)=O)C(O)=C1       24        81\n",
       "1        ClC1=CC=C(C(O)=O)C(O)=C1       12        14\n",
       "2           OC1=CC(C)=CC=C1C(O)=O       24        74\n",
       "3           OC1=CC(C)=CC=C1C(O)=O       12        15\n",
       "4          OC1=CC(OC)=CC=C1C(O)=O       24        90\n",
       "5          OC1=CC(OC)=CC=C1C(O)=O       12        81\n",
       "6          OC1=CC(OC)=CC=C1C(O)=O        8        43\n",
       "7    COC1=CC(OC)=C(C(O)=O)C(O)=C1       12        88\n",
       "8    COC1=CC(OC)=C(C(O)=O)C(O)=C1        6        95\n",
       "9    COC1=CC(OC)=C(C(O)=O)C(O)=C1        2        65\n",
       "10      CC(/N=N/C(C)(C#N)C)(C#N)C        6        33\n",
       "11  O=C1C(C(C)(C)C)=CC(C(O)=C1)=O        6        93\n",
       "12  O=C1C(C=C(O)C(C(C)(C)C)=C1)=O        6        84"
      ]
     },
     "execution_count": 5,
     "metadata": {},
     "output_type": "execute_result"
    }
   ],
   "source": [
    "table1"
   ]
  },
  {
   "cell_type": "code",
   "execution_count": 8,
   "id": "dc944efb-ddec-48f7-be5d-a10d2b4aae8c",
   "metadata": {},
   "outputs": [
    {
     "name": "stdout",
     "output_type": "stream",
     "text": [
      "[[0 0 0 ... 0 0 0]\n",
      " [0 0 0 ... 0 0 0]\n",
      " [0 0 0 ... 0 0 0]\n",
      " ...\n",
      " [0 0 0 ... 0 0 0]\n",
      " [0 0 1 ... 0 0 0]\n",
      " [0 0 0 ... 0 0 0]]\n"
     ]
    }
   ],
   "source": [
    "import numpy as np\n",
    "from rdkit import Chem\n",
    "from rdkit.Chem import AllChem\n",
    "\n",
    "mols = [Chem.MolFromSmiles(smile) for smile in table1[\"organocatalyst\"]]\n",
    "\n",
    "fingerprints = []\n",
    "safe = []\n",
    "for mol_idx, mol in enumerate(mols):\n",
    "    try:\n",
    "        fingerprint = [x for x in Chem.AllChem.GetMorganFingerprintAsBitVect(mol,2,2048)]\n",
    "        fingerprints.append(fingerprint)\n",
    "    except e:\n",
    "        print(\"Error\", mol_idx)\n",
    "        continue\n",
    "fingerprints = np.array(fingerprints)\n",
    "print(fingerprints)        "
   ]
  },
  {
   "cell_type": "code",
   "execution_count": 14,
   "id": "9027e7e9-e155-45aa-be77-ab780e46c47f",
   "metadata": {},
   "outputs": [
    {
     "data": {
      "text/html": [
       "<div>\n",
       "<style scoped>\n",
       "    .dataframe tbody tr th:only-of-type {\n",
       "        vertical-align: middle;\n",
       "    }\n",
       "\n",
       "    .dataframe tbody tr th {\n",
       "        vertical-align: top;\n",
       "    }\n",
       "\n",
       "    .dataframe thead th {\n",
       "        text-align: right;\n",
       "    }\n",
       "</style>\n",
       "<table border=\"1\" class=\"dataframe\">\n",
       "  <thead>\n",
       "    <tr style=\"text-align: right;\">\n",
       "      <th></th>\n",
       "      <th>organocatalyst</th>\n",
       "      <th>time(h)</th>\n",
       "    </tr>\n",
       "  </thead>\n",
       "  <tbody>\n",
       "    <tr>\n",
       "      <th>0</th>\n",
       "      <td>ClC1=CC=C(C(O)=O)C(O)=C1</td>\n",
       "      <td>24</td>\n",
       "    </tr>\n",
       "    <tr>\n",
       "      <th>1</th>\n",
       "      <td>ClC1=CC=C(C(O)=O)C(O)=C1</td>\n",
       "      <td>12</td>\n",
       "    </tr>\n",
       "    <tr>\n",
       "      <th>2</th>\n",
       "      <td>OC1=CC(C)=CC=C1C(O)=O</td>\n",
       "      <td>24</td>\n",
       "    </tr>\n",
       "    <tr>\n",
       "      <th>3</th>\n",
       "      <td>OC1=CC(C)=CC=C1C(O)=O</td>\n",
       "      <td>12</td>\n",
       "    </tr>\n",
       "    <tr>\n",
       "      <th>4</th>\n",
       "      <td>OC1=CC(OC)=CC=C1C(O)=O</td>\n",
       "      <td>24</td>\n",
       "    </tr>\n",
       "    <tr>\n",
       "      <th>5</th>\n",
       "      <td>OC1=CC(OC)=CC=C1C(O)=O</td>\n",
       "      <td>12</td>\n",
       "    </tr>\n",
       "    <tr>\n",
       "      <th>6</th>\n",
       "      <td>OC1=CC(OC)=CC=C1C(O)=O</td>\n",
       "      <td>8</td>\n",
       "    </tr>\n",
       "    <tr>\n",
       "      <th>7</th>\n",
       "      <td>COC1=CC(OC)=C(C(O)=O)C(O)=C1</td>\n",
       "      <td>12</td>\n",
       "    </tr>\n",
       "    <tr>\n",
       "      <th>8</th>\n",
       "      <td>COC1=CC(OC)=C(C(O)=O)C(O)=C1</td>\n",
       "      <td>6</td>\n",
       "    </tr>\n",
       "    <tr>\n",
       "      <th>9</th>\n",
       "      <td>COC1=CC(OC)=C(C(O)=O)C(O)=C1</td>\n",
       "      <td>2</td>\n",
       "    </tr>\n",
       "    <tr>\n",
       "      <th>10</th>\n",
       "      <td>CC(/N=N/C(C)(C#N)C)(C#N)C</td>\n",
       "      <td>6</td>\n",
       "    </tr>\n",
       "    <tr>\n",
       "      <th>11</th>\n",
       "      <td>O=C1C(C(C)(C)C)=CC(C(O)=C1)=O</td>\n",
       "      <td>6</td>\n",
       "    </tr>\n",
       "    <tr>\n",
       "      <th>12</th>\n",
       "      <td>O=C1C(C=C(O)C(C(C)(C)C)=C1)=O</td>\n",
       "      <td>6</td>\n",
       "    </tr>\n",
       "  </tbody>\n",
       "</table>\n",
       "</div>"
      ],
      "text/plain": [
       "                   organocatalyst  time(h)\n",
       "0        ClC1=CC=C(C(O)=O)C(O)=C1       24\n",
       "1        ClC1=CC=C(C(O)=O)C(O)=C1       12\n",
       "2           OC1=CC(C)=CC=C1C(O)=O       24\n",
       "3           OC1=CC(C)=CC=C1C(O)=O       12\n",
       "4          OC1=CC(OC)=CC=C1C(O)=O       24\n",
       "5          OC1=CC(OC)=CC=C1C(O)=O       12\n",
       "6          OC1=CC(OC)=CC=C1C(O)=O        8\n",
       "7    COC1=CC(OC)=C(C(O)=O)C(O)=C1       12\n",
       "8    COC1=CC(OC)=C(C(O)=O)C(O)=C1        6\n",
       "9    COC1=CC(OC)=C(C(O)=O)C(O)=C1        2\n",
       "10      CC(/N=N/C(C)(C#N)C)(C#N)C        6\n",
       "11  O=C1C(C(C)(C)C)=CC(C(O)=C1)=O        6\n",
       "12  O=C1C(C=C(O)C(C(C)(C)C)=C1)=O        6"
      ]
     },
     "execution_count": 14,
     "metadata": {},
     "output_type": "execute_result"
    }
   ],
   "source": [
    "table1.iloc[:, :-1]"
   ]
  },
  {
   "cell_type": "code",
   "execution_count": 16,
   "id": "d0949d85-98f5-43c2-95f9-870d0ec35e1f",
   "metadata": {},
   "outputs": [
    {
     "name": "stdout",
     "output_type": "stream",
     "text": [
      "    time(h)  0  1  2  3  4  5  6  7  8  ...  2038  2039  2040  2041  2042  \\\n",
      "0        24  0  0  0  0  0  0  0  0  0  ...     0     0     0     0     0   \n",
      "1        12  0  0  0  0  0  0  0  0  0  ...     0     0     0     0     0   \n",
      "2        24  0  0  0  0  0  0  0  0  0  ...     0     0     0     0     0   \n",
      "3        12  0  0  0  0  0  0  0  0  0  ...     0     0     0     0     0   \n",
      "4        24  0  0  0  0  0  0  0  0  0  ...     0     0     0     0     0   \n",
      "5        12  0  0  0  0  0  0  0  0  0  ...     0     0     0     0     0   \n",
      "6         8  0  0  0  0  0  0  0  0  0  ...     0     0     0     0     0   \n",
      "7        12  0  0  0  0  0  0  0  0  0  ...     0     0     0     0     0   \n",
      "8         6  0  0  0  0  0  0  0  0  0  ...     0     0     0     0     0   \n",
      "9         2  0  0  0  0  0  0  0  0  0  ...     0     0     0     0     0   \n",
      "10        6  0  0  0  0  0  0  0  0  0  ...     0     0     0     0     0   \n",
      "11        6  0  0  1  0  0  0  0  0  0  ...     0     0     0     0     0   \n",
      "12        6  0  0  0  0  0  0  0  0  0  ...     0     0     0     0     0   \n",
      "\n",
      "    2043  2044  2045  2046  2047  \n",
      "0      0     0     0     0     0  \n",
      "1      0     0     0     0     0  \n",
      "2      0     0     0     0     0  \n",
      "3      0     0     0     0     0  \n",
      "4      0     0     0     0     0  \n",
      "5      0     0     0     0     0  \n",
      "6      0     0     0     0     0  \n",
      "7      0     0     0     0     0  \n",
      "8      0     0     0     0     0  \n",
      "9      0     0     0     0     0  \n",
      "10     0     0     0     0     0  \n",
      "11     0     0     0     0     0  \n",
      "12     0     0     0     0     0  \n",
      "\n",
      "[13 rows x 2049 columns]\n",
      "0     81\n",
      "1     14\n",
      "2     74\n",
      "3     15\n",
      "4     90\n",
      "5     81\n",
      "6     43\n",
      "7     88\n",
      "8     95\n",
      "9     65\n",
      "10    33\n",
      "11    93\n",
      "12    84\n",
      "Name: yield(%), dtype: int64\n"
     ]
    }
   ],
   "source": [
    "df_fp = pd.DataFrame(fingerprints)\n",
    "df = pd.concat([table1.iloc[:,1], df_fp, table1.iloc[:,2]], axis=1)\n",
    "X = df.iloc[:,:-1]\n",
    "Y = df[\"yield(%)\"]\n",
    "\n",
    "print(X)\n",
    "print(Y)"
   ]
  },
  {
   "cell_type": "code",
   "execution_count": 32,
   "id": "67d0cf87-6523-4d9a-a47e-9bc0fd0b8cda",
   "metadata": {},
   "outputs": [],
   "source": [
    "from sklearn.model_selection import train_test_split \n",
    "X_train, X_test, Y_train, Y_test = train_test_split(X, Y, test_size=.2, random_state=0) "
   ]
  },
  {
   "cell_type": "code",
   "execution_count": 22,
   "id": "62990d46-ee9a-44ad-a6fa-35dd4d70c11c",
   "metadata": {
    "tags": []
   },
   "outputs": [
    {
     "name": "stderr",
     "output_type": "stream",
     "text": [
      "/Users/watanabeyuitou/opt/anaconda3/envs/chem/lib/python3.9/site-packages/sklearn/utils/validation.py:1688: FutureWarning: Feature names only support names that are all strings. Got feature names with dtypes: ['int', 'str']. An error will be raised in 1.2.\n",
      "  warnings.warn(\n",
      "/Users/watanabeyuitou/opt/anaconda3/envs/chem/lib/python3.9/site-packages/sklearn/utils/validation.py:1688: FutureWarning: Feature names only support names that are all strings. Got feature names with dtypes: ['int', 'str']. An error will be raised in 1.2.\n",
      "  warnings.warn(\n",
      "/Users/watanabeyuitou/opt/anaconda3/envs/chem/lib/python3.9/site-packages/sklearn/utils/validation.py:1688: FutureWarning: Feature names only support names that are all strings. Got feature names with dtypes: ['int', 'str']. An error will be raised in 1.2.\n",
      "  warnings.warn(\n",
      "/Users/watanabeyuitou/opt/anaconda3/envs/chem/lib/python3.9/site-packages/sklearn/utils/validation.py:1688: FutureWarning: Feature names only support names that are all strings. Got feature names with dtypes: ['int', 'str']. An error will be raised in 1.2.\n",
      "  warnings.warn(\n"
     ]
    },
    {
     "name": "stdout",
     "output_type": "stream",
     "text": [
      "R2= 0.7913599196976855\n",
      "RMSE= 13.291968251541979\n",
      "MAE= 11.916\n"
     ]
    },
    {
     "name": "stderr",
     "output_type": "stream",
     "text": [
      "/Users/watanabeyuitou/opt/anaconda3/envs/chem/lib/python3.9/site-packages/sklearn/utils/validation.py:1688: FutureWarning: Feature names only support names that are all strings. Got feature names with dtypes: ['int', 'str']. An error will be raised in 1.2.\n",
      "  warnings.warn(\n",
      "findfont: Font family 'IPAexGothic' not found.\n",
      "findfont: Font family 'IPAexGothic' not found.\n",
      "findfont: Font family 'IPAexGothic' not found.\n",
      "findfont: Font family 'IPAexGothic' not found.\n",
      "findfont: Font family 'IPAexGothic' not found.\n",
      "findfont: Font family 'IPAexGothic' not found.\n",
      "findfont: Font family 'IPAexGothic' not found.\n",
      "findfont: Font family 'IPAexGothic' not found.\n",
      "findfont: Font family 'IPAexGothic' not found.\n",
      "findfont: Font family 'IPAexGothic' not found.\n",
      "findfont: Font family 'IPAexGothic' not found.\n",
      "findfont: Font family 'IPAexGothic' not found.\n",
      "findfont: Font family 'IPAexGothic' not found.\n",
      "findfont: Font family 'IPAexGothic' not found.\n",
      "findfont: Font family 'IPAexGothic' not found.\n",
      "findfont: Font family 'IPAexGothic' not found.\n",
      "findfont: Font family 'IPAexGothic' not found.\n",
      "findfont: Font family 'IPAexGothic' not found.\n",
      "findfont: Font family 'IPAexGothic' not found.\n",
      "findfont: Font family 'IPAexGothic' not found.\n",
      "findfont: Font family 'IPAexGothic' not found.\n",
      "findfont: Font family 'IPAexGothic' not found.\n",
      "findfont: Font family 'IPAexGothic' not found.\n",
      "findfont: Font family 'IPAexGothic' not found.\n",
      "findfont: Font family 'IPAexGothic' not found.\n",
      "findfont: Font family 'IPAexGothic' not found.\n",
      "findfont: Font family 'IPAexGothic' not found.\n",
      "findfont: Font family 'IPAexGothic' not found.\n",
      "findfont: Font family 'IPAexGothic' not found.\n",
      "findfont: Font family 'IPAexGothic' not found.\n",
      "findfont: Font family 'IPAexGothic' not found.\n",
      "findfont: Font family 'IPAexGothic' not found.\n",
      "findfont: Font family 'IPAexGothic' not found.\n",
      "findfont: Font family 'IPAexGothic' not found.\n",
      "findfont: Font family 'IPAexGothic' not found.\n",
      "findfont: Font family 'IPAexGothic' not found.\n",
      "findfont: Font family 'IPAexGothic' not found.\n",
      "findfont: Font family 'IPAexGothic' not found.\n",
      "findfont: Font family 'IPAexGothic' not found.\n"
     ]
    },
    {
     "data": {
      "image/png": "[encoded data removed]",
      "text/plain": [
       "<Figure size 400x400 with 1 Axes>"
      ]
     },
     "metadata": {},
     "output_type": "display_data"
    },
    {
     "name": "stderr",
     "output_type": "stream",
     "text": [
      "/Users/watanabeyuitou/opt/anaconda3/envs/chem/lib/python3.9/site-packages/sklearn/utils/validation.py:1688: FutureWarning: Feature names only support names that are all strings. Got feature names with dtypes: ['int', 'str']. An error will be raised in 1.2.\n",
      "  warnings.warn(\n",
      "/Users/watanabeyuitou/opt/anaconda3/envs/chem/lib/python3.9/site-packages/sklearn/utils/validation.py:1688: FutureWarning: Feature names only support names that are all strings. Got feature names with dtypes: ['int', 'str']. An error will be raised in 1.2.\n",
      "  warnings.warn(\n",
      "/Users/watanabeyuitou/opt/anaconda3/envs/chem/lib/python3.9/site-packages/sklearn/utils/validation.py:1688: FutureWarning: Feature names only support names that are all strings. Got feature names with dtypes: ['int', 'str']. An error will be raised in 1.2.\n",
      "  warnings.warn(\n",
      "/Users/watanabeyuitou/opt/anaconda3/envs/chem/lib/python3.9/site-packages/sklearn/utils/validation.py:1688: FutureWarning: Feature names only support names that are all strings. Got feature names with dtypes: ['int', 'str']. An error will be raised in 1.2.\n",
      "  warnings.warn(\n",
      "findfont: Font family 'IPAexGothic' not found.\n",
      "findfont: Font family 'IPAexGothic' not found.\n",
      "findfont: Font family 'IPAexGothic' not found.\n",
      "findfont: Font family 'IPAexGothic' not found.\n"
     ]
    },
    {
     "name": "stdout",
     "output_type": "stream",
     "text": [
      "-----test-----\n",
      "R2= -0.02693064857990657\n",
      "RMSE= 23.202152199023836\n",
      "MAE= 21.659999999999997\n"
     ]
    },
    {
     "name": "stderr",
     "output_type": "stream",
     "text": [
      "findfont: Font family 'IPAexGothic' not found.\n",
      "findfont: Font family 'IPAexGothic' not found.\n",
      "findfont: Font family 'IPAexGothic' not found.\n",
      "findfont: Font family 'IPAexGothic' not found.\n",
      "findfont: Font family 'IPAexGothic' not found.\n",
      "findfont: Font family 'IPAexGothic' not found.\n",
      "findfont: Font family 'IPAexGothic' not found.\n",
      "findfont: Font family 'IPAexGothic' not found.\n",
      "findfont: Font family 'IPAexGothic' not found.\n",
      "findfont: Font family 'IPAexGothic' not found.\n",
      "findfont: Font family 'IPAexGothic' not found.\n",
      "findfont: Font family 'IPAexGothic' not found.\n",
      "findfont: Font family 'IPAexGothic' not found.\n",
      "findfont: Font family 'IPAexGothic' not found.\n",
      "findfont: Font family 'IPAexGothic' not found.\n",
      "findfont: Font family 'IPAexGothic' not found.\n",
      "findfont: Font family 'IPAexGothic' not found.\n",
      "findfont: Font family 'IPAexGothic' not found.\n",
      "findfont: Font family 'IPAexGothic' not found.\n",
      "findfont: Font family 'IPAexGothic' not found.\n",
      "findfont: Font family 'IPAexGothic' not found.\n",
      "findfont: Font family 'IPAexGothic' not found.\n",
      "findfont: Font family 'IPAexGothic' not found.\n",
      "findfont: Font family 'IPAexGothic' not found.\n"
     ]
    },
    {
     "data": {
      "image/png": "[encoded data removed]",
      "text/plain": [
       "<Figure size 400x400 with 1 Axes>"
      ]
     },
     "metadata": {},
     "output_type": "display_data"
    }
   ],
   "source": [
    "from sklearn.ensemble import RandomForestRegressor\n",
    "rf = RandomForestRegressor()\n",
    "rf.fit(X_train,Y_train)\n",
    "\n",
    "from sklearn.metrics import r2_score\n",
    "print(\"R2=\", r2_score(Y_train, rf.predict(X_train)))\n",
    "\n",
    "import numpy as np\n",
    "from sklearn.metrics import mean_squared_error\n",
    "print(\"RMSE=\", np.sqrt(mean_squared_error(Y_train, rf.predict(X_train))))\n",
    "\n",
    "from sklearn.metrics import mean_absolute_error\n",
    "print(\"MAE=\", mean_absolute_error(Y_train, rf.predict(X_train)))\n",
    "\n",
    "%matplotlib inline\n",
    "import matplotlib.pyplot as plt\n",
    "plt.figure(figsize=(4,4))\n",
    "plt.scatter(Y_train, rf.predict(X_train), alpha=0.2, c=\"blue\")\n",
    "plt.plot([Y_train.min(), Y_train.max()], [Y_train.min(), Y_train.max()], c=\"black\")\n",
    "plt.grid()\n",
    "plt.xlabel(\"Real Y\")\n",
    "plt.ylabel(\"Predicted Y\")\n",
    "plt.show()\n",
    "\n",
    "print('-----test-----')\n",
    "print(\"R2=\", r2_score(Y_test, rf.predict(X_test)))\n",
    "print(\"RMSE=\", np.sqrt(mean_squared_error(Y_test, rf.predict(X_test))))\n",
    "print(\"MAE=\", mean_absolute_error(Y_test, rf.predict(X_test)))\n",
    "plt.figure(figsize=(4,4))\n",
    "plt.scatter(Y_test, rf.predict(X_test), alpha=0.2, c=\"blue\")\n",
    "plt.plot([Y_test.min(), Y_test.max()], [Y_test.min(), Y_test.max()], c=\"black\")\n",
    "plt.grid()\n",
    "plt.xlabel(\"Real Y\")\n",
    "plt.ylabel(\"Predicted Y\")\n",
    "plt.show()"
   ]
  },
  {
   "attachments": {
    "5f6fcc0a-11af-4d19-8275-601f5c58f90e.png": {
     "image/png": "[encoded data removed]"
    },
    "7b39baf2-0e3d-4624-bd21-ef3e00314c9d.png": {
     "image/png": "[encoded data removed]"
    }
   },
   "cell_type": "markdown",
   "id": "a82bcb4f-61d9-488e-89bf-5d6aa8d5666f",
   "metadata": {},
   "source": [
    "### train\n",
    "- R2= 0.7913599196976855\n",
    "- RMSE= 13.291968251541979\n",
    "- MAE= 11.916\n",
    "\n",
    "![ダウンロード.png](attachment:5f6fcc0a-11af-4d19-8275-601f5c58f90e.png)\n",
    "\n",
    "### test\n",
    "- R2= -0.02693064857990657\n",
    "- RMSE= 23.202152199023836\n",
    "- MAE= 21.659999999999997\n",
    "\n",
    "![image.png](attachment:7b39baf2-0e3d-4624-bd21-ef3e00314c9d.png)"
   ]
  },
  {
   "cell_type": "code",
   "execution_count": 23,
   "id": "6f9dfa09-689c-46c2-9339-82ec69979d10",
   "metadata": {},
   "outputs": [
    {
     "name": "stdout",
     "output_type": "stream",
     "text": [
      "(10, 2049)\n",
      "(3, 2049)\n"
     ]
    }
   ],
   "source": [
    "print(X_train.shape)\n",
    "print(X_test.shape)"
   ]
  },
  {
   "cell_type": "code",
   "execution_count": 25,
   "id": "8b0624fa-f6de-4c48-af02-2395a77a6ffd",
   "metadata": {},
   "outputs": [],
   "source": [
    "from dtreeviz.trees import dtreeviz\n",
    "import seaborn as sns\n",
    "import matplotlib.pyplot as plt"
   ]
  },
  {
   "cell_type": "code",
   "execution_count": 26,
   "id": "4fdf2c74-ea2c-4bb9-a24b-ab9923787891",
   "metadata": {},
   "outputs": [
    {
     "data": {
      "text/plain": [
       "Text(0.5, 0, 'Importance')"
      ]
     },
     "execution_count": 26,
     "metadata": {},
     "output_type": "execute_result"
    },
    {
     "name": "stderr",
     "output_type": "stream",
     "text": [
      "findfont: Font family 'IPAexGothic' not found.\n",
      "findfont: Font family 'IPAexGothic' not found.\n",
      "findfont: Font family 'IPAexGothic' not found.\n",
      "findfont: Font family 'IPAexGothic' not found.\n",
      "findfont: Font family 'IPAexGothic' not found.\n",
      "findfont: Font family 'IPAexGothic' not found.\n",
      "findfont: Font family 'IPAexGothic' not found.\n",
      "findfont: Font family 'IPAexGothic' not found.\n",
      "findfont: Font family 'IPAexGothic' not found.\n",
      "findfont: Font family 'IPAexGothic' not found.\n",
      "findfont: Font family 'IPAexGothic' not found.\n",
      "findfont: Font family 'IPAexGothic' not found.\n",
      "findfont: Font family 'IPAexGothic' not found.\n",
      "findfont: Font family 'IPAexGothic' not found.\n",
      "findfont: Font family 'IPAexGothic' not found.\n",
      "findfont: Font family 'IPAexGothic' not found.\n",
      "findfont: Font family 'IPAexGothic' not found.\n",
      "findfont: Font family 'IPAexGothic' not found.\n",
      "findfont: Font family 'IPAexGothic' not found.\n",
      "findfont: Font family 'IPAexGothic' not found.\n",
      "findfont: Font family 'IPAexGothic' not found.\n",
      "findfont: Font family 'IPAexGothic' not found.\n",
      "findfont: Font family 'IPAexGothic' not found.\n",
      "findfont: Font family 'IPAexGothic' not found.\n",
      "findfont: Font family 'IPAexGothic' not found.\n",
      "findfont: Font family 'IPAexGothic' not found.\n",
      "findfont: Font family 'IPAexGothic' not found.\n",
      "findfont: Font family 'IPAexGothic' not found.\n",
      "findfont: Font family 'IPAexGothic' not found.\n",
      "findfont: Font family 'IPAexGothic' not found.\n",
      "findfont: Font family 'IPAexGothic' not found.\n",
      "findfont: Font family 'IPAexGothic' not found.\n",
      "findfont: Font family 'IPAexGothic' not found.\n",
      "findfont: Font family 'IPAexGothic' not found.\n",
      "findfont: Font family 'IPAexGothic' not found.\n",
      "findfont: Font family 'IPAexGothic' not found.\n",
      "findfont: Font family 'IPAexGothic' not found.\n",
      "findfont: Font family 'IPAexGothic' not found.\n",
      "findfont: Font family 'IPAexGothic' not found.\n",
      "findfont: Font family 'IPAexGothic' not found.\n",
      "findfont: Font family 'IPAexGothic' not found.\n",
      "findfont: Font family 'IPAexGothic' not found.\n",
      "findfont: Font family 'IPAexGothic' not found.\n",
      "findfont: Font family 'IPAexGothic' not found.\n",
      "findfont: Font family 'IPAexGothic' not found.\n",
      "findfont: Font family 'IPAexGothic' not found.\n",
      "findfont: Font family 'IPAexGothic' not found.\n",
      "findfont: Font family 'IPAexGothic' not found.\n",
      "findfont: Font family 'IPAexGothic' not found.\n",
      "findfont: Font family 'IPAexGothic' not found.\n",
      "findfont: Font family 'IPAexGothic' not found.\n",
      "findfont: Font family 'IPAexGothic' not found.\n",
      "findfont: Font family 'IPAexGothic' not found.\n",
      "findfont: Font family 'IPAexGothic' not found.\n",
      "findfont: Font family 'IPAexGothic' not found.\n",
      "findfont: Font family 'IPAexGothic' not found.\n",
      "findfont: Font family 'IPAexGothic' not found.\n",
      "findfont: Font family 'IPAexGothic' not found.\n",
      "findfont: Font family 'IPAexGothic' not found.\n",
      "findfont: Font family 'IPAexGothic' not found.\n"
     ]
    },
    {
     "data": {
      "image/png": "[encoded data removed]",
      "text/plain": [
       "<Figure size 1000x700 with 1 Axes>"
      ]
     },
     "metadata": {},
     "output_type": "display_data"
    }
   ],
   "source": [
    "fea_rf_imp = pd.DataFrame({'imp': rf.feature_importances_, 'col': X_train.keys()})\n",
    "fea_rf_imp = fea_rf_imp.sort_values(by='imp', ascending=False)[:5]\n",
    "\n",
    "plt.figure(figsize=(10, 7))\n",
    "sns.barplot(x='imp',y='col',data=fea_rf_imp,orient='h')\n",
    "plt.ylabel('Features',fontsize=18)\n",
    "plt.xlabel('Importance',fontsize=18)"
   ]
  },
  {
   "cell_type": "code",
   "execution_count": 33,
   "id": "d9b1692e-8ec1-4878-9de4-db5660dcce3d",
   "metadata": {},
   "outputs": [
    {
     "name": "stderr",
     "output_type": "stream",
     "text": [
      "findfont: Font family 'IPAexGothic' not found.\n",
      "findfont: Font family 'IPAexGothic' not found.\n",
      "findfont: Font family 'IPAexGothic' not found.\n"
     ]
    },
    {
     "name": "stdout",
     "output_type": "stream",
     "text": [
      "R2= 0.4157953178516801\n",
      "RMSE= 22.241954159722507\n",
      "MAE= 19.523538095238095\n"
     ]
    },
    {
     "name": "stderr",
     "output_type": "stream",
     "text": [
      "findfont: Font family 'IPAexGothic' not found.\n",
      "findfont: Font family 'IPAexGothic' not found.\n",
      "findfont: Font family 'IPAexGothic' not found.\n",
      "findfont: Font family 'IPAexGothic' not found.\n",
      "findfont: Font family 'IPAexGothic' not found.\n",
      "findfont: Font family 'IPAexGothic' not found.\n",
      "findfont: Font family 'IPAexGothic' not found.\n",
      "findfont: Font family 'IPAexGothic' not found.\n",
      "findfont: Font family 'IPAexGothic' not found.\n",
      "findfont: Font family 'IPAexGothic' not found.\n",
      "findfont: Font family 'IPAexGothic' not found.\n",
      "findfont: Font family 'IPAexGothic' not found.\n",
      "findfont: Font family 'IPAexGothic' not found.\n",
      "findfont: Font family 'IPAexGothic' not found.\n",
      "findfont: Font family 'IPAexGothic' not found.\n",
      "findfont: Font family 'IPAexGothic' not found.\n",
      "findfont: Font family 'IPAexGothic' not found.\n",
      "findfont: Font family 'IPAexGothic' not found.\n",
      "findfont: Font family 'IPAexGothic' not found.\n",
      "findfont: Font family 'IPAexGothic' not found.\n",
      "findfont: Font family 'IPAexGothic' not found.\n",
      "findfont: Font family 'IPAexGothic' not found.\n",
      "findfont: Font family 'IPAexGothic' not found.\n",
      "findfont: Font family 'IPAexGothic' not found.\n",
      "findfont: Font family 'IPAexGothic' not found.\n",
      "findfont: Font family 'IPAexGothic' not found.\n",
      "findfont: Font family 'IPAexGothic' not found.\n",
      "findfont: Font family 'IPAexGothic' not found.\n",
      "findfont: Font family 'IPAexGothic' not found.\n",
      "findfont: Font family 'IPAexGothic' not found.\n",
      "findfont: Font family 'IPAexGothic' not found.\n",
      "findfont: Font family 'IPAexGothic' not found.\n",
      "findfont: Font family 'IPAexGothic' not found.\n",
      "findfont: Font family 'IPAexGothic' not found.\n",
      "findfont: Font family 'IPAexGothic' not found.\n",
      "findfont: Font family 'IPAexGothic' not found.\n"
     ]
    },
    {
     "data": {
      "image/png": "[encoded data removed]",
      "text/plain": [
       "<Figure size 400x400 with 1 Axes>"
      ]
     },
     "metadata": {},
     "output_type": "display_data"
    },
    {
     "name": "stderr",
     "output_type": "stream",
     "text": [
      "findfont: Font family 'IPAexGothic' not found.\n",
      "findfont: Font family 'IPAexGothic' not found.\n",
      "findfont: Font family 'IPAexGothic' not found.\n",
      "findfont: Font family 'IPAexGothic' not found.\n",
      "findfont: Font family 'IPAexGothic' not found.\n",
      "findfont: Font family 'IPAexGothic' not found.\n",
      "findfont: Font family 'IPAexGothic' not found.\n"
     ]
    },
    {
     "name": "stdout",
     "output_type": "stream",
     "text": [
      "-----test-----\n",
      "R2= -0.09083391839762567\n",
      "RMSE= 23.913163336910856\n",
      "MAE= 23.00255555555555\n"
     ]
    },
    {
     "name": "stderr",
     "output_type": "stream",
     "text": [
      "findfont: Font family 'IPAexGothic' not found.\n",
      "findfont: Font family 'IPAexGothic' not found.\n",
      "findfont: Font family 'IPAexGothic' not found.\n",
      "findfont: Font family 'IPAexGothic' not found.\n",
      "findfont: Font family 'IPAexGothic' not found.\n",
      "findfont: Font family 'IPAexGothic' not found.\n",
      "findfont: Font family 'IPAexGothic' not found.\n",
      "findfont: Font family 'IPAexGothic' not found.\n",
      "findfont: Font family 'IPAexGothic' not found.\n",
      "findfont: Font family 'IPAexGothic' not found.\n",
      "findfont: Font family 'IPAexGothic' not found.\n",
      "findfont: Font family 'IPAexGothic' not found.\n",
      "findfont: Font family 'IPAexGothic' not found.\n",
      "findfont: Font family 'IPAexGothic' not found.\n",
      "findfont: Font family 'IPAexGothic' not found.\n",
      "findfont: Font family 'IPAexGothic' not found.\n",
      "findfont: Font family 'IPAexGothic' not found.\n",
      "findfont: Font family 'IPAexGothic' not found.\n",
      "findfont: Font family 'IPAexGothic' not found.\n",
      "findfont: Font family 'IPAexGothic' not found.\n",
      "findfont: Font family 'IPAexGothic' not found.\n"
     ]
    },
    {
     "data": {
      "image/png": "[encoded data removed]",
      "text/plain": [
       "<Figure size 400x400 with 1 Axes>"
      ]
     },
     "metadata": {},
     "output_type": "display_data"
    }
   ],
   "source": [
    "from sklearn.ensemble import RandomForestRegressor\n",
    "rf = RandomForestRegressor()\n",
    "# timeを除外\n",
    "X_train_2 = X_train.iloc[:,1:]\n",
    "X_test_2 = X_test.iloc[:,1:]\n",
    "rf.fit(X_train_2,Y_train)\n",
    "\n",
    "from sklearn.metrics import r2_score\n",
    "print(\"R2=\", r2_score(Y_train, rf.predict(X_train_2)))\n",
    "\n",
    "import numpy as np\n",
    "from sklearn.metrics import mean_squared_error\n",
    "print(\"RMSE=\", np.sqrt(mean_squared_error(Y_train, rf.predict(X_train_2))))\n",
    "\n",
    "from sklearn.metrics import mean_absolute_error\n",
    "print(\"MAE=\", mean_absolute_error(Y_train, rf.predict(X_train_2)))\n",
    "\n",
    "%matplotlib inline\n",
    "import matplotlib.pyplot as plt\n",
    "plt.figure(figsize=(4,4))\n",
    "plt.scatter(Y_train, rf.predict(X_train_2), alpha=0.2, c=\"blue\")\n",
    "plt.plot([Y_train.min(), Y_train.max()], [Y_train.min(), Y_train.max()], c=\"black\")\n",
    "plt.grid()\n",
    "plt.xlabel(\"Real Y\")\n",
    "plt.ylabel(\"Predicted Y\")\n",
    "plt.show()\n",
    "\n",
    "print('-----test-----')\n",
    "print(\"R2=\", r2_score(Y_test, rf.predict(X_test_2)))\n",
    "print(\"RMSE=\", np.sqrt(mean_squared_error(Y_test, rf.predict(X_test_2))))\n",
    "print(\"MAE=\", mean_absolute_error(Y_test, rf.predict(X_test_2)))\n",
    "plt.figure(figsize=(4,4))\n",
    "plt.scatter(Y_test, rf.predict(X_test_2), alpha=0.2, c=\"blue\")\n",
    "plt.plot([Y_test.min(), Y_test.max()], [Y_test.min(), Y_test.max()], c=\"black\")\n",
    "plt.grid()\n",
    "plt.xlabel(\"Real Y\")\n",
    "plt.ylabel(\"Predicted Y\")\n",
    "plt.show()"
   ]
  },
  {
   "cell_type": "code",
   "execution_count": 34,
   "id": "ab6e8b12-cf17-4e02-b6a0-c54bad194d76",
   "metadata": {},
   "outputs": [
    {
     "data": {
      "text/html": [
       "<div>\n",
       "<style scoped>\n",
       "    .dataframe tbody tr th:only-of-type {\n",
       "        vertical-align: middle;\n",
       "    }\n",
       "\n",
       "    .dataframe tbody tr th {\n",
       "        vertical-align: top;\n",
       "    }\n",
       "\n",
       "    .dataframe thead th {\n",
       "        text-align: right;\n",
       "    }\n",
       "</style>\n",
       "<table border=\"1\" class=\"dataframe\">\n",
       "  <thead>\n",
       "    <tr style=\"text-align: right;\">\n",
       "      <th></th>\n",
       "      <th>imp</th>\n",
       "      <th>col</th>\n",
       "    </tr>\n",
       "  </thead>\n",
       "  <tbody>\n",
       "    <tr>\n",
       "      <th>1536</th>\n",
       "      <td>0.059813</td>\n",
       "      <td>1536</td>\n",
       "    </tr>\n",
       "    <tr>\n",
       "      <th>1013</th>\n",
       "      <td>0.050172</td>\n",
       "      <td>1013</td>\n",
       "    </tr>\n",
       "    <tr>\n",
       "      <th>235</th>\n",
       "      <td>0.048046</td>\n",
       "      <td>235</td>\n",
       "    </tr>\n",
       "    <tr>\n",
       "      <th>1683</th>\n",
       "      <td>0.043756</td>\n",
       "      <td>1683</td>\n",
       "    </tr>\n",
       "    <tr>\n",
       "      <th>561</th>\n",
       "      <td>0.039486</td>\n",
       "      <td>561</td>\n",
       "    </tr>\n",
       "  </tbody>\n",
       "</table>\n",
       "</div>"
      ],
      "text/plain": [
       "           imp   col\n",
       "1536  0.059813  1536\n",
       "1013  0.050172  1013\n",
       "235   0.048046   235\n",
       "1683  0.043756  1683\n",
       "561   0.039486   561"
      ]
     },
     "execution_count": 34,
     "metadata": {},
     "output_type": "execute_result"
    }
   ],
   "source": [
    "fea_rf_imp = pd.DataFrame({'imp': rf.feature_importances_, 'col': X_train_2.keys()})\n",
    "fea_rf_imp.sort_values(by='imp', ascending=False)[:5]"
   ]
  },
  {
   "cell_type": "code",
   "execution_count": null,
   "id": "a6cbb356-1695-42b5-94c5-72f0db379509",
   "metadata": {},
   "outputs": [],
   "source": []
  }
 ],
 "metadata": {
  "kernelspec": {
   "display_name": "Python 3 (ipykernel)",
   "language": "python",
   "name": "python3"
  },
  "language_info": {
   "codemirror_mode": {
    "name": "ipython",
    "version": 3
   },
   "file_extension": ".py",
   "mimetype": "text/x-python",
   "name": "python",
   "nbconvert_exporter": "python",
   "pygments_lexer": "ipython3",
   "version": "3.9.13"
  }
 },
 "nbformat": 4,
 "nbformat_minor": 5
}
